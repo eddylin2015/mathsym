{
 "cells": [
  {
   "cell_type": "markdown",
   "metadata": {},
   "source": [
    "# 電腦數學符號運算簡介Symbolic Manipulation in Python (numpy,sympy)"
   ]
  },
  {
   "cell_type": "markdown",
   "metadata": {},
   "source": [
    "## 第1節. 介紹Python基礎及LaTex\n"
   ]
  },
  {
   "cell_type": "markdown",
   "metadata": {},
   "source": [
    "### 1.1預先安裝 Python 3.8.7,以及第三方組件\n",
    "- pip install numpy\n",
    "- pip install sympy\n",
    "- pip install jupyterlab\n",
    "- [github.com/eddylin2015/mathsym](https://github.com/eddylin2015/mathsym/archive/main.zip) run.bat"
   ]
  },
  {
   "cell_type": "markdown",
   "metadata": {},
   "source": [
    "### 常用組件random , math,  sympy , plot , Latex, Mathjax"
   ]
  },
  {
   "cell_type": "code",
   "execution_count": 1,
   "metadata": {},
   "outputs": [
    {
     "name": "stdout",
     "output_type": "stream",
     "text": [
      "Import all 模組\n"
     ]
    }
   ],
   "source": [
    "import random                                     #亂數 \n",
    "import math                                       #math 內置數學函數\n",
    "import numpy as np                                #矩陣\n",
    "import sympy as sp                                #sympy 簡易別名 sp    \n",
    "from sympy.plotting import plot                   #繪圖表\n",
    "from sympy.parsing.sympy_parser import parse_expr #文字字串,解釋成運算式\n",
    "from sympy.solvers.inequalities import solve_univariate_inequality  #解不等式\n",
    "from sympy.solvers.inequalities import reduce_rational_inequalities #解多項不等式\n",
    "from IPython.display import Latex,HTML,Markdown   #網頁顯示數學符號\n",
    "sp.init_printing(\"mathjax\")                       #sp.init_printing()\n",
    "def displayTable(t):  #顯示表格\n",
    "    display(Markdown('號|題|值|答|檢|型|示\\n-|-|-|-|-|-|-\\n{}'.format('\\n'.join(\n",
    "    '|'.join(\"$$%s$$\"%r[v] if i==1 else str(r[v])for i,v in enumerate(r))for r in t))))\n",
    "def GetTE(i, St, Val, Tx=-1,Tip=\"\"):  #Id號,St題,Val值,Ans答,OK檢查,Tx,題型,Tip提示'\n",
    "    return {\"Id\": i,\"St\": St,\"Val\": Val,\"Ans\": \"-1\",\"OK\": 0,\"Tx\":Tx,\"Tip\":Tip}    \n",
    "print(\"完成 Import 所需模組\")    "
   ]
  },
  {
   "cell_type": "markdown",
   "metadata": {},
   "source": [
    "### 1.2 Python基礎指令: 亂數, 字串, 數列, 迴圈, 判斷, 輸入\n",
    "#### 變數, 數值運算符   + - * / (//整除) (%求餘) **(^指數) \n",
    "```python\n",
    "a=5 ; b=2\n",
    "print(a**b)\n",
    "int(\"12345\")  # 文字轉數字\n",
    "str(12345)    # 數字文字\n",
    "```\n",
    "#### 變數,列表及字典\n",
    "```python\n",
    "list : [0,1,2,3,4,5,6,7,8,9]  #\n",
    "range(0,10,1)  #range(a1,an,step)\n",
    "dict : TE={\"St\":\"5-7\",\"Val\":-2}\n",
    "```\n",
    "### 字串連結\n",
    "```python\n",
    "a=10\n",
    "b=20\n",
    "print(f\"Please solve  {a} + {b} =  ? \")\n",
    "print(r\"Please solve  {}  + {} = ? \".format(a,b))\n",
    "print(r\"Please solve  %s  + %s = ? \"  % (a,b))\n",
    "```\n",
    "### 判斷 ==, >, <, >=, <= ,!=, <>, &, |\n",
    "```python \n",
    "if a>=60:\n",
    "    print(\"pass\")\n",
    "else:\n",
    "    print(\"fail\")\n",
    "```\n",
    "### Loop迴圈 \n",
    "```python\n",
    "for i in Range(0,10):\n",
    "    print(i)\n",
    "```\n",
    "### 內置數學函數\n",
    "```python\n",
    "abs(-1) #1 \n",
    "pow(2,2) #4\n",
    "round(2.4) #2\n",
    "```\n",
    "# math, random 庫的數學函數\n",
    "```python \n",
    "import math\n",
    "math.copysign(5,-1)   #-5\n",
    "import random\n",
    "random.choice([1,2,3,4,5,6]) \n",
    "a=random.randint(-10,50): \n",
    "if a==0 : a=1\n",
    "```"
   ]
  },
  {
   "cell_type": "markdown",
   "metadata": {},
   "source": [
    "### 1.3 python第一個程式"
   ]
  },
  {
   "cell_type": "code",
   "execution_count": 10,
   "metadata": {},
   "outputs": [
    {
     "name": "stdout",
     "output_type": "stream",
     "text": [
      "5+-20\n"
     ]
    },
    {
     "name": "stdin",
     "output_type": "stream",
     "text": [
      "input Num: 0\n"
     ]
    },
    {
     "name": "stdout",
     "output_type": "stream",
     "text": [
      "Wrong!\n"
     ]
    }
   ],
   "source": [
    "### def 自定義函數\n",
    "def Get_Expr():\n",
    "    a=random.choice([1,2,3,4,5,6])\n",
    "    b=random.randint(-20,20)\n",
    "    if b==0 :b=1\n",
    "    St=f\"{a}+{b}\"\n",
    "    Val=a+b\n",
    "    return {\"St\":St,\"Val\":Val,\"Ans\":0,\"OK\":0,\"Tip\":\"input Num:\"}\n",
    "\n",
    "def Put_Expr(TE):\n",
    "    if TE[\"Val\"] == TE[\"Ans\"]:\n",
    "        TE[\"OK\"]=1\n",
    "        return True\n",
    "    return False\n",
    "\n",
    "if __name__ == '__main__':\n",
    "    TE=Get_Expr()\n",
    "    print(TE[\"St\"])\n",
    "    TE[\"Ans\"]=int(input(TE[\"Tip\"]))\n",
    "    if Put_Expr(TE):\n",
    "        print(\"Well Done!\")\n",
    "    else:\n",
    "        print(\"Wrong!\")"
   ]
  },
  {
   "cell_type": "markdown",
   "metadata": {},
   "source": [
    "###　1.4 math 內置數學函數\n",
    "```python\n",
    "import math\n",
    "math.copysign(1.0, -0.0) #-1.0 sign指(+ 或 -) \n",
    "round(12.9)       # 13 四拾五入 \n",
    "math.ceil(12.1)   # 13 math.ceil(x)是整取 >= x 大的整數.\n",
    "math.floor(12.9)  # 12 拾去小數點后的值, 取整數 \n",
    "math.comb(7, 5)   # 組合 六合彩  k > n.\n",
    "math.factorial(5) # 5*4*3*2*1 階乘 \n",
    "math.gcd(15,9)    # 最大公倍數 math.gcd(*integers)\n",
    "math.lcm(15,9)   # 最小公約數 math.lcm(*integers) python 3.9\n",
    "# def lcm(a, b): return abs(a*b) // math.gcd(a, b)\n",
    "math.pow(2, 2)  # 2^2 \n",
    "math.pi # The mathematical constant π = 3.141592… \n",
    "# math.tau  τ = 6.283185…. equal to 2π.\n",
    "math.e  # The mathematical constant e = 2.718281…\n",
    "math.inf# For negative infinity, use -math.inf.)\n",
    "math.nan# A floating-point “not a number” (NaN) value\n",
    "math.cos(x) #Return the cosine of x radians.\n",
    "math.sin(x)\n",
    "math.tan(x)\n",
    "math.degrees(x) #Convert angle x from radians to degrees.\n",
    "math.radians(x) #Convert angle x from degrees to radians.\n",
    "```"
   ]
  },
  {
   "cell_type": "markdown",
   "metadata": {},
   "source": [
    "### 1.5 Latex 數學表逹使用LaTeX,(MathJax網頁版) 即是出版數學格式\n",
    "- \\frac {x} {y}\n",
    "$$  \\frac{x}{y} $$\n",
    "- |{x}|\n",
    "$$ |{x}| $$\n",
    "- {x}^{y}\n",
    "$$ {x}^{y} $$\n",
    "- {\\large{ (\\frac{x}{y})}}^{z}\n",
    "$$ {\\large{ (- \\frac{x}{y})}}^{z} $$\n",
    "- x^2-2x+1=0\n",
    "$$ x^2-2x+1=0 $$\n",
    "[ref: Latex](../ref/MarkdownLatex.ipynb)"
   ]
  },
  {
   "cell_type": "markdown",
   "metadata": {},
   "source": [
    "## 第2節. 介紹 Sympy"
   ]
  },
  {
   "cell_type": "markdown",
   "metadata": {},
   "source": [
    "### 首先 import SymPy \n",
    "\n",
    "IPython環境啟用 LaTeX printing:\n",
    "```python\n",
    "import sympy as sp\n",
    "sp.init_printing()   \n",
    "display(sp.S(1)/sp.S(5))\n",
    "```\n",
    "print 顯示文字 與 display 顯示Latex數學式子的區別 "
   ]
  },
  {
   "cell_type": "code",
   "execution_count": null,
   "metadata": {},
   "outputs": [],
   "source": [
    "import sympy as sp\n",
    "sp.init_printing()   \n",
    "print(1/5)               # 浮點數\n",
    "print(sp.S(1)/sp.S(5))   #分數\n",
    "display(sp.S(1)/sp.S(5)) #分數式子"
   ]
  },
  {
   "cell_type": "markdown",
   "metadata": {},
   "source": [
    "### 2.1 數值,符號\n",
    "數值運算: 2/4 output 0.5    \n",
    "符號運算: 2/4 output 1/2"
   ]
  },
  {
   "cell_type": "code",
   "execution_count": null,
   "metadata": {},
   "outputs": [],
   "source": [
    "import math\n",
    "a=173173\n",
    "b=204659\n",
    "gcd=math.gcd(173173,204659)\n",
    "c= a/b\n",
    "exp=-2\n",
    "print(a/gcd)\n",
    "print(b/gcd)\n",
    "print(c)\n",
    "print(c**exp)\n",
    "print(pow(c,exp))"
   ]
  },
  {
   "cell_type": "markdown",
   "metadata": {},
   "source": [
    "### 2.1.1  分數\n",
    "```python \n",
    "import sympy as sp\n",
    "c = sp.S(a)/ b   \n",
    "c = sp.Rational(11, 16)\n",
    "```"
   ]
  },
  {
   "cell_type": "code",
   "execution_count": 18,
   "metadata": {},
   "outputs": [
    {
     "data": {
      "text/latex": [
       "$\\displaystyle \\frac{11}{13}$"
      ],
      "text/plain": [
       "11\n",
       "──\n",
       "13"
      ]
     },
     "execution_count": 18,
     "metadata": {},
     "output_type": "execute_result"
    }
   ],
   "source": [
    "import sympy as sp\n",
    "sp.init_printing(\"mathjax\") \n",
    "a=173173\n",
    "b=204659\n",
    "#有理數, 分數\n",
    "c= sp.S(a) / b   \n",
    "#c= sp.Rational(a, b)\n",
    "c"
   ]
  },
  {
   "cell_type": "markdown",
   "metadata": {},
   "source": [
    "### 2.1.2 指數冪,不作化簡evaluate=False\n",
    "```python\n",
    "c**-2\n",
    "sp.Pow(c,-2)                 # (11/13)^-2 -> 169/121\n",
    "sp.Pow(c,-2,evaluate=False)  #1/(121/169) evaluate=False不作化簡\n",
    "```"
   ]
  },
  {
   "cell_type": "code",
   "execution_count": 24,
   "metadata": {},
   "outputs": [
    {
     "data": {
      "text/latex": [
       "$\\displaystyle \\frac{169}{121}$"
      ],
      "text/plain": [
       "169\n",
       "───\n",
       "121"
      ]
     },
     "execution_count": 24,
     "metadata": {},
     "output_type": "execute_result"
    }
   ],
   "source": [
    "c**-2"
   ]
  },
  {
   "cell_type": "code",
   "execution_count": 23,
   "metadata": {},
   "outputs": [
    {
     "data": {
      "text/latex": [
       "$\\displaystyle \\frac{1}{\\frac{121}{169}}$"
      ],
      "text/plain": [
       "  1  \n",
       "─────\n",
       "    2\n",
       "⎛11⎞ \n",
       "⎜──⎟ \n",
       "⎝13⎠ "
      ]
     },
     "execution_count": 23,
     "metadata": {},
     "output_type": "execute_result"
    }
   ],
   "source": [
    "#sp.Pow(c,-2)\n",
    "sp.Pow(c,-2,evaluate=False)"
   ]
  },
  {
   "cell_type": "markdown",
   "metadata": {},
   "source": [
    "### 2.2 宣告符號 x,y,z 和 函數 f , g\n",
    "```python\n",
    "x,y,z=sp.symbols(\"x y z\")\n",
    "```"
   ]
  },
  {
   "cell_type": "code",
   "execution_count": null,
   "metadata": {},
   "outputs": [],
   "source": [
    "import sympy as sp\n",
    "sp.init_printing(\"mathjax\")   \n",
    "\n",
    "x=sp.Symbol('x')\n",
    "y,z=sp.symbols('y,z')\n",
    "\n",
    "f=sp.Function('f')\n",
    "f= x**2 + y**2 + z**2\n",
    "display(f)\n",
    "\n",
    "g= (x**2 + y**2 + z**2) / (x-y-z)  + f - 1/f\n",
    "display(g)"
   ]
  },
  {
   "cell_type": "markdown",
   "metadata": {},
   "source": [
    "### 2.2.1 整式:\n",
    "$$ x^{2} + 2x - 5 $$\n"
   ]
  },
  {
   "cell_type": "code",
   "execution_count": null,
   "metadata": {},
   "outputs": [],
   "source": [
    "a1=random.choice([1,2,3,4,6])\n",
    "h= a1*x + 2*x - 5 - x \n",
    "h"
   ]
  },
  {
   "cell_type": "code",
   "execution_count": null,
   "metadata": {},
   "outputs": [],
   "source": [
    "from sympy.plotting import plot\n",
    "plot(h,(x, -5, 5)) #plot(h)"
   ]
  },
  {
   "cell_type": "markdown",
   "metadata": {},
   "source": [
    "### 2.2.1 整式x值替代subs\n",
    "-  x=1.5 , \n",
    "-  x 替代成 符號 z\n",
    "-  x 替代成 式子 y^2\n",
    "   "
   ]
  },
  {
   "cell_type": "code",
   "execution_count": null,
   "metadata": {},
   "outputs": [],
   "source": [
    "fx1=h.subs(x,1.5)\n",
    "fx1"
   ]
  },
  {
   "cell_type": "code",
   "execution_count": null,
   "metadata": {},
   "outputs": [],
   "source": [
    "fx2=h.subs(x,z)\n",
    "display(fx2)\n",
    "fx3=h.subs(x,y**2)\n",
    "display(fx3)"
   ]
  },
  {
   "cell_type": "markdown",
   "metadata": {},
   "source": [
    "### 2.2.2 整式 化簡 simplify,展開式 expand, 因式分解 factor "
   ]
  },
  {
   "cell_type": "markdown",
   "metadata": {},
   "source": [
    "### part a : simplify\n",
    "Simplify化簡式子:\n",
    "            $\\frac{x^2-x-6}{x^2-3x}$\n",
    "    "
   ]
  },
  {
   "cell_type": "code",
   "execution_count": null,
   "metadata": {},
   "outputs": [],
   "source": [
    "f=(x**2 -x -6)/(x**2-3*x)\n",
    "print(\"題:\")\n",
    "display(f)\n",
    "ans=sp.simplify(f)\n",
    "print(\"解:\")\n",
    "display(ans)"
   ]
  },
  {
   "cell_type": "markdown",
   "metadata": {},
   "source": [
    "### part b : expand\n",
    "expand 展開式子,整式乘法:$(x+1)^3(x-2)^2$"
   ]
  },
  {
   "cell_type": "code",
   "execution_count": null,
   "metadata": {},
   "outputs": [],
   "source": [
    "#開展式子\n",
    "f=(x+1)**3 * (x-2)**2\n",
    "print(\"題目:\")\n",
    "display(f)\n",
    "\n",
    "ans=\n",
    "print(\"解題:\")\n",
    "display(ans)"
   ]
  },
  {
   "cell_type": "markdown",
   "metadata": {},
   "source": [
    "### part c : Factor\n",
    "Factor 整式提取因式: $3x^4-36x^3+99x^2-6x-144$"
   ]
  },
  {
   "cell_type": "code",
   "execution_count": null,
   "metadata": {},
   "outputs": [],
   "source": [
    "#提取因子\n",
    "f=3*x**4-36*x**3+99*x**2-6*x-144\n",
    "display(f)\n",
    "sp.factor(f)"
   ]
  },
  {
   "cell_type": "markdown",
   "metadata": {},
   "source": [
    "### part d: parse_expr 文字轉換成算數式子\n",
    "parse_expr 文字轉換成式子\n"
   ]
  },
  {
   "cell_type": "code",
   "execution_count": 33,
   "metadata": {},
   "outputs": [
    {
     "data": {
      "text/latex": [
       "$\\displaystyle x^{2} - x + x - 2$"
      ],
      "text/plain": [
       " 2            \n",
       "x  - x + x - 2"
      ]
     },
     "metadata": {},
     "output_type": "display_data"
    },
    {
     "name": "stdout",
     "output_type": "stream",
     "text": [
      "287\n"
     ]
    }
   ],
   "source": [
    "from sympy.parsing.sympy_parser import parse_expr #文字字串, 解釋成, Sympy 運算式\n",
    "expr=parse_expr(\"x**2 -x -2 + x\",evaluate=False)\n",
    "display(expr)\n",
    "expr=sp.simplify(expr)\n",
    "print(expr.subs(x,17))"
   ]
  },
  {
   "cell_type": "markdown",
   "metadata": {},
   "source": [
    "### 2.3 复習一下"
   ]
  },
  {
   "cell_type": "markdown",
   "metadata": {},
   "source": [
    "$ (x+1)^2$ 展開  。"
   ]
  },
  {
   "cell_type": "code",
   "execution_count": 34,
   "metadata": {},
   "outputs": [
    {
     "data": {
      "text/latex": [
       "$\\displaystyle x^{2} + 2 x + 1$"
      ],
      "text/plain": [
       " 2          \n",
       "x  + 2⋅x + 1"
      ]
     },
     "execution_count": 34,
     "metadata": {},
     "output_type": "execute_result"
    }
   ],
   "source": [
    "sp.expand((x + 1)**2)"
   ]
  },
  {
   "cell_type": "markdown",
   "metadata": {},
   "source": [
    "$ x^3−1 $ 分解因數。"
   ]
  },
  {
   "cell_type": "code",
   "execution_count": 37,
   "metadata": {},
   "outputs": [
    {
     "data": {
      "text/latex": [
       "$\\displaystyle \\left(x - 1\\right) \\left(x^{2} + x + 1\\right)$"
      ],
      "text/plain": [
       "        ⎛ 2        ⎞\n",
       "(x - 1)⋅⎝x  + x + 1⎠"
      ]
     },
     "execution_count": 37,
     "metadata": {},
     "output_type": "execute_result"
    }
   ],
   "source": [
    "sp.factor(x**3 - 1)"
   ]
  },
  {
   "cell_type": "markdown",
   "metadata": {},
   "source": [
    "$\\frac{3}{x^3−1}$  到部分分數的示例。"
   ]
  },
  {
   "cell_type": "code",
   "execution_count": 36,
   "metadata": {},
   "outputs": [
    {
     "data": {
      "text/latex": [
       "$\\displaystyle - \\frac{x + 2}{x^{2} + x + 1} + \\frac{1}{x - 1}$"
      ],
      "text/plain": [
       "    x + 2        1  \n",
       "- ────────── + ─────\n",
       "   2           x - 1\n",
       "  x  + x + 1        "
      ]
     },
     "execution_count": 36,
     "metadata": {},
     "output_type": "execute_result"
    }
   ],
   "source": [
    "sp.apart(3/(x**3 - 1))"
   ]
  },
  {
   "cell_type": "markdown",
   "metadata": {},
   "source": [
    "simplify 使用（本案中為允許），「化簡」上式。ratsimp"
   ]
  },
  {
   "cell_type": "code",
   "execution_count": 39,
   "metadata": {},
   "outputs": [
    {
     "data": {
      "text/latex": [
       "$\\displaystyle x^{3} - 1$"
      ],
      "text/plain": [
       " 3    \n",
       "x  - 1"
      ]
     },
     "execution_count": 39,
     "metadata": {},
     "output_type": "execute_result"
    }
   ],
   "source": [
    "sp.simplify(_)"
   ]
  },
  {
   "cell_type": "markdown",
   "metadata": {},
   "source": [
    "### 2.4 PF101有理數運算式子\n",
    "[link](http://stu.mbc.edu.mo:8081/apps)"
   ]
  },
  {
   "cell_type": "code",
   "execution_count": 5,
   "metadata": {},
   "outputs": [],
   "source": [
    "import random                                     #亂數 \n",
    "import sympy as sp  \n",
    "a=random.randint(1,39)  #亂數a,b,c, 不為零           \n",
    "b=random.randint(-39,39)\n",
    "c=random.randint(-39,39)\n",
    "if b==0 : b=1\n",
    "if c==0 : c=1\n",
    "f_1 = sp.Rational(b ,a) # b/a\n",
    "f_2 = sp.Rational(c ,a) # c/a\n",
    "St=sp.Add(f_1, f_2, evaluate=False)  # b/a + c/a 不要演化 evaluate=False\n",
    "Val=sp.simplify(St)                  #化簡算式,得出標準答案   \n",
    "#display(St)\n",
    "#display(Val)"
   ]
  },
  {
   "cell_type": "code",
   "execution_count": 6,
   "metadata": {},
   "outputs": [
    {
     "data": {
      "text/latex": [
       "$\\displaystyle - \\frac{28}{23} + \\frac{1}{23}$"
      ],
      "text/plain": [
       "  28       \n",
       "- ── + 1/23\n",
       "  23       "
      ]
     },
     "execution_count": 6,
     "metadata": {},
     "output_type": "execute_result"
    }
   ],
   "source": [
    "St"
   ]
  },
  {
   "cell_type": "code",
   "execution_count": 7,
   "metadata": {},
   "outputs": [
    {
     "data": {
      "text/latex": [
       "$\\displaystyle - \\frac{27}{23}$"
      ],
      "text/plain": [
       "-27 \n",
       "────\n",
       " 23 "
      ]
     },
     "execution_count": 7,
     "metadata": {},
     "output_type": "execute_result"
    }
   ],
   "source": [
    "Val"
   ]
  },
  {
   "cell_type": "code",
   "execution_count": 8,
   "metadata": {},
   "outputs": [
    {
     "data": {
      "text/latex": [
       "$\\displaystyle - \\frac{27}{23}$"
      ],
      "text/plain": [
       "-27 \n",
       "────\n",
       " 23 "
      ]
     },
     "execution_count": 8,
     "metadata": {},
     "output_type": "execute_result"
    }
   ],
   "source": [
    "sp.S(b)/a + sp.S(c)/a\n",
    "#sp.Rational(b,a)+sp.Rational(c,a)"
   ]
  },
  {
   "cell_type": "code",
   "execution_count": 8,
   "metadata": {},
   "outputs": [
    {
     "data": {
      "text/markdown": [
       "號|題|值|答|檢|型|示\n",
       "-|-|-|-|-|-|-\n",
       "0|$$- \\frac{5}{4} + \\frac{31}{20}$$|3/10|-1|0|0|提示:假分數表示(-a/b):\n",
       "1|$$\\frac{20}{13} + 2$$|46/13|-1|0|0|提示:假分數表示(-a/b):\n",
       "2|$$2 + 20$$|22|-1|0|0|提示:假分數表示(-a/b):\n",
       "3|$$\\frac{8}{3} + \\frac{35}{12}$$|67/12|-1|0|0|提示:假分數表示(-a/b):"
      ],
      "text/plain": [
       "<IPython.core.display.Markdown object>"
      ]
     },
     "metadata": {},
     "output_type": "display_data"
    }
   ],
   "source": [
    "\"\"\"用一個列子運用以上指令, Python第一個程式, 有理數\"\"\"\n",
    "def Get_PF101_Expr(QN=10):\n",
    "    NTE=[]                               \n",
    "    for i in range(0,QN):\n",
    "        a=random.randint(1,39)  #亂數a,b,c, 不為零           \n",
    "        b=random.randint(-39,39)\n",
    "        c=random.randint(-39,39)\n",
    "        if b==0 : b=1\n",
    "        if c==0 : c=1\n",
    "        f_1 = sp.Rational(b ,a) # b/a\n",
    "        f_2 = sp.Rational(c ,a) # c/a\n",
    "        St=sp.Add(f_1, f_2, evaluate=False)  # b/a + c/a 不要演化 evaluate=False\n",
    "        Val=sp.simplify(St)                  #簡化算式,得出標準答案    \n",
    "        St=sp.latex(St)\n",
    "        NTE.append(GetTE(i,St,Val,0,\"提示:假分數表示(-a/b):\"))\n",
    "    return NTE\n",
    "\n",
    "def Put_PF101_Expr(TE):\n",
    "    ''' 檢查作答結果,比對Val == Ans, 對錯OK=[0/1] '''\n",
    "    ans =TE[\"Ans\"]\n",
    "    Val = TE[\"Val\"]\n",
    "    if parse_expr(ans) == Val:  # 比對答案:\n",
    "        TE[\"OK\"] = 1 ; return True\n",
    "    return False\n",
    "\n",
    "if __name__ == '__main__':\n",
    "    NTE=Get_PF101_Expr(4)\n",
    "    displayTable(NTE)            "
   ]
  },
  {
   "cell_type": "code",
   "execution_count": 4,
   "metadata": {},
   "outputs": [
    {
     "data": {
      "text/latex": [
       "$\\frac{9}{8} + \\frac{39}{16}$"
      ],
      "text/plain": [
       "<IPython.core.display.Latex object>"
      ]
     },
     "metadata": {},
     "output_type": "display_data"
    },
    {
     "name": "stdin",
     "output_type": "stream",
     "text": [
      "提示:假分數表示(-a/b): 0\n"
     ]
    },
    {
     "data": {
      "text/latex": [
       "$\\displaystyle \\frac{57}{16}$"
      ],
      "text/plain": [
       "57\n",
       "──\n",
       "16"
      ]
     },
     "metadata": {},
     "output_type": "display_data"
    },
    {
     "data": {
      "text/latex": [
       "$- \\frac{9}{22} + \\frac{27}{22}$"
      ],
      "text/plain": [
       "<IPython.core.display.Latex object>"
      ]
     },
     "metadata": {},
     "output_type": "display_data"
    },
    {
     "name": "stdin",
     "output_type": "stream",
     "text": [
      "提示:假分數表示(-a/b): 0\n"
     ]
    },
    {
     "data": {
      "text/latex": [
       "$\\displaystyle \\frac{9}{11}$"
      ],
      "text/plain": [
       "9/11"
      ]
     },
     "metadata": {},
     "output_type": "display_data"
    },
    {
     "data": {
      "text/latex": [
       "$- \\frac{35}{22} - \\frac{3}{22}$"
      ],
      "text/plain": [
       "<IPython.core.display.Latex object>"
      ]
     },
     "metadata": {},
     "output_type": "display_data"
    },
    {
     "name": "stdin",
     "output_type": "stream",
     "text": [
      "提示:假分數表示(-a/b): 0\n"
     ]
    },
    {
     "data": {
      "text/latex": [
       "$\\displaystyle - \\frac{19}{11}$"
      ],
      "text/plain": [
       "-19 \n",
       "────\n",
       " 11 "
      ]
     },
     "metadata": {},
     "output_type": "display_data"
    },
    {
     "data": {
      "text/latex": [
       "$- \\frac{9}{7} + \\frac{9}{7}$"
      ],
      "text/plain": [
       "<IPython.core.display.Latex object>"
      ]
     },
     "metadata": {},
     "output_type": "display_data"
    },
    {
     "name": "stdin",
     "output_type": "stream",
     "text": [
      "提示:假分數表示(-a/b): 0\n"
     ]
    },
    {
     "name": "stdout",
     "output_type": "stream",
     "text": [
      "Well Done!\n"
     ]
    },
    {
     "data": {
      "text/markdown": [
       "號|題|值|答|檢|型|提示\n",
       "-|-|-|-|-|-|-\n",
       "0|$$\\frac{9}{8} + \\frac{39}{16}$$|57/16|0|0|0|提示:假分數表示(-a/b):\n",
       "1|$$- \\frac{9}{22} + \\frac{27}{22}$$|9/11|0|0|0|提示:假分數表示(-a/b):\n",
       "2|$$- \\frac{35}{22} - \\frac{3}{22}$$|-19/11|0|0|0|提示:假分數表示(-a/b):\n",
       "3|$$- \\frac{9}{7} + \\frac{9}{7}$$|0|0|1|0|提示:假分數表示(-a/b):"
      ],
      "text/plain": [
       "<IPython.core.display.Markdown object>"
      ]
     },
     "metadata": {},
     "output_type": "display_data"
    }
   ],
   "source": [
    "if __name__ == '__main__':\n",
    "    NTE=Get_PF101_Expr(4)\n",
    "    for TE in NTE:\n",
    "        display(Latex(\"$%s$\"%TE[\"St\"]));  \n",
    "        TE[\"Ans\"]=input(TE[\"Tip\"])\n",
    "        if Put_PF101_Expr(TE): \n",
    "            print(\"Well Done!\")\n",
    "        else: \n",
    "            display(TE[\"Val\"])\n",
    "    displayTable(NTE) "
   ]
  },
  {
   "cell_type": "markdown",
   "metadata": {},
   "source": [
    "## 第3節 方程式(sp.Eq) 及 多項式, 解方程solve\n"
   ]
  },
  {
   "cell_type": "markdown",
   "metadata": {},
   "source": [
    "### part a 解方程sp.solve\n",
    "\n",
    "求根(roots)以下方程式 (equation):\n",
    "\n",
    "$$ x^3+15x^2=3^x-10 $$\n",
    "    \n",
    "使用指令 Eq 和 solve .   \n",
    "```python\n",
    "eq1=sp.Eq(x+2)  # x+2 =0\n",
    "eq2=sp.Eq(x+2,4)  # x+2 =4\n",
    "sp.solve(eq2)\n",
    "```\n",
    "方程根有多個 (list). evalf 根轉換成的數值.  "
   ]
  },
  {
   "cell_type": "code",
   "execution_count": 27,
   "metadata": {},
   "outputs": [
    {
     "data": {
      "text/latex": [
       "$\\displaystyle x^{3} + 15 x^{2} = 3 x - 10$"
      ],
      "text/plain": [
       " 3       2           \n",
       "x  + 15⋅x  = 3⋅x - 10"
      ]
     },
     "execution_count": 27,
     "metadata": {},
     "output_type": "execute_result"
    }
   ],
   "source": [
    "x,y,z=sp.symbols('x y z')\n",
    "expr1=sp.Eq(x**3+15*x**2,3*x-10)\n",
    "expr1"
   ]
  },
  {
   "cell_type": "code",
   "execution_count": 29,
   "metadata": {},
   "outputs": [
    {
     "data": {
      "text/latex": [
       "$\\displaystyle \\left[ -5 - \\frac{78}{\\left(- \\frac{1}{2} - \\frac{\\sqrt{3} i}{2}\\right) \\sqrt[3]{\\frac{27 \\sqrt{5321}}{2} + \\frac{7425}{2}}} - \\frac{\\left(- \\frac{1}{2} - \\frac{\\sqrt{3} i}{2}\\right) \\sqrt[3]{\\frac{27 \\sqrt{5321}}{2} + \\frac{7425}{2}}}{3}, \\  -5 - \\frac{\\left(- \\frac{1}{2} + \\frac{\\sqrt{3} i}{2}\\right) \\sqrt[3]{\\frac{27 \\sqrt{5321}}{2} + \\frac{7425}{2}}}{3} - \\frac{78}{\\left(- \\frac{1}{2} + \\frac{\\sqrt{3} i}{2}\\right) \\sqrt[3]{\\frac{27 \\sqrt{5321}}{2} + \\frac{7425}{2}}}, \\  - \\frac{\\sqrt[3]{\\frac{27 \\sqrt{5321}}{2} + \\frac{7425}{2}}}{3} - 5 - \\frac{78}{\\sqrt[3]{\\frac{27 \\sqrt{5321}}{2} + \\frac{7425}{2}}}\\right]$"
      ],
      "text/plain": [
       "⎡                                                           _________________ \n",
       "⎢                                          ⎛  1   √3⋅ⅈ⎞    ╱ 27⋅√5321   7425  \n",
       "⎢                                          ⎜- ─ - ────⎟⋅3 ╱  ──────── + ────  \n",
       "⎢                     78                   ⎝  2    2  ⎠ ╲╱      2        2    \n",
       "⎢-5 - ────────────────────────────────── - ──────────────────────────────────,\n",
       "⎢                      _________________                   3                  \n",
       "⎢     ⎛  1   √3⋅ⅈ⎞    ╱ 27⋅√5321   7425                                       \n",
       "⎢     ⎜- ─ - ────⎟⋅3 ╱  ──────── + ────                                       \n",
       "⎣     ⎝  2    2  ⎠ ╲╱      2        2                                         \n",
       "\n",
       "                       _________________                                      \n",
       "      ⎛  1   √3⋅ⅈ⎞    ╱ 27⋅√5321   7425                                       \n",
       "      ⎜- ─ + ────⎟⋅3 ╱  ──────── + ────                                       \n",
       "      ⎝  2    2  ⎠ ╲╱      2        2                      78                 \n",
       " -5 - ────────────────────────────────── - ──────────────────────────────────,\n",
       "                      3                                     _________________ \n",
       "                                           ⎛  1   √3⋅ⅈ⎞    ╱ 27⋅√5321   7425  \n",
       "                                           ⎜- ─ + ────⎟⋅3 ╱  ──────── + ────  \n",
       "                                           ⎝  2    2  ⎠ ╲╱      2        2    \n",
       "\n",
       "       _________________                            ⎤\n",
       "      ╱ 27⋅√5321   7425                             ⎥\n",
       "   3 ╱  ──────── + ────                             ⎥\n",
       "   ╲╱      2        2                    78         ⎥\n",
       " - ───────────────────── - 5 - ─────────────────────⎥\n",
       "             3                     _________________⎥\n",
       "                                  ╱ 27⋅√5321   7425 ⎥\n",
       "                               3 ╱  ──────── + ──── ⎥\n",
       "                               ╲╱      2        2   ⎦"
      ]
     },
     "execution_count": 29,
     "metadata": {},
     "output_type": "execute_result"
    }
   ],
   "source": [
    "val=sp.solve(expr1,x)\n",
    "val"
   ]
  },
  {
   "cell_type": "markdown",
   "metadata": {},
   "source": [
    "### evalf 根轉換成的數值."
   ]
  },
  {
   "cell_type": "code",
   "execution_count": null,
   "metadata": {},
   "outputs": [],
   "source": [
    "print(z[0].evalf())\n",
    "print(z[1].evalf())\n",
    "print(z[2].evalf())\n",
    "for w in z:\n",
    "    print(w.evalf())"
   ]
  },
  {
   "cell_type": "markdown",
   "metadata": {},
   "source": [
    "### part b 一元二次方程式\n",
    "\n",
    "$$ ax^2+bx+c=0 $$\n",
    "\n",
    "执行以后得出的结果为\n",
    "\n",
    "$$ \\frac {-b + \\sqrt{-4*a*c + b^2}}{2*a} $$\n",
    "\n",
    "$$ \\frac {-b - \\sqrt{-4*a*c + b^2}}{2*a} $$\n",
    "\n",
    "\n",
    "根与系数的关系, 二次方程会有两个解，列表list[ $x_1,x_2$ ] 。转为咱们常见的数学公式即为：\n"
   ]
  },
  {
   "cell_type": "code",
   "execution_count": 30,
   "metadata": {},
   "outputs": [
    {
     "name": "stdout",
     "output_type": "stream",
     "text": [
      "一元二次方程式,默認右邊式子為0\n"
     ]
    },
    {
     "data": {
      "text/latex": [
       "$\\displaystyle x^{2} + 3 x - 4$"
      ],
      "text/plain": [
       " 2          \n",
       "x  + 3⋅x - 4"
      ]
     },
     "metadata": {},
     "output_type": "display_data"
    },
    {
     "data": {
      "text/latex": [
       "$\\displaystyle \\left[ -4, \\  1\\right]$"
      ],
      "text/plain": [
       "[-4, 1]"
      ]
     },
     "metadata": {},
     "output_type": "display_data"
    },
    {
     "name": "stdout",
     "output_type": "stream",
     "text": [
      "-------------\n"
     ]
    },
    {
     "data": {
      "text/latex": [
       "$\\displaystyle x^{2} + 3 x = 4$"
      ],
      "text/plain": [
       " 2          \n",
       "x  + 3⋅x = 4"
      ]
     },
     "metadata": {},
     "output_type": "display_data"
    },
    {
     "data": {
      "text/latex": [
       "$\\displaystyle \\left[ -4, \\  1\\right]$"
      ],
      "text/plain": [
       "[-4, 1]"
      ]
     },
     "metadata": {},
     "output_type": "display_data"
    }
   ],
   "source": [
    "x,y,z=sp.symbols('x,y,z')\n",
    "print(\"一元二次方程式,默認右邊式子為0\")\n",
    "fx=x**2 + 3*x -4 \n",
    "display(fx)\n",
    "display(sp.solve(fx))  # [-4,1] 默認右邊式子為0\n",
    "print(\"-------------\")\n",
    "fx=sp.Eq(x**2 + 3*x, 4)\n",
    "display(fx)\n",
    "display(sp.solve(fx))"
   ]
  },
  {
   "cell_type": "markdown",
   "metadata": {},
   "source": [
    "### part c 方程組 sp.solve([Eq1,Eq2,Eq3],[x,y,z])\n"
   ]
  },
  {
   "cell_type": "code",
   "execution_count": 31,
   "metadata": {},
   "outputs": [
    {
     "data": {
      "text/latex": [
       "$\\displaystyle \\left[ x + y + z = 0, \\  2 x - y - z = 10, \\  y + 2 z = 5\\right]$"
      ],
      "text/plain": [
       "[x + y + z = 0, 2⋅x - y - z = 10, y + 2⋅z = 5]"
      ]
     },
     "metadata": {},
     "output_type": "display_data"
    },
    {
     "data": {
      "text/latex": [
       "$\\displaystyle \\left\\{ x : \\frac{10}{3}, \\  y : - \\frac{35}{3}, \\  z : \\frac{25}{3}\\right\\}$"
      ],
      "text/plain": [
       "{x: 10/3, y: -35/3, z: 25/3}"
      ]
     },
     "metadata": {},
     "output_type": "display_data"
    }
   ],
   "source": [
    "eq1=sp.Eq(x+y+z,0)\n",
    "eq2=sp.Eq(2*x-y-z,10)\n",
    "eq3=sp.Eq(y+2*z,5)\n",
    "display([eq1,eq2,eq3])\n",
    "display(sp.solve([eq1,eq2,eq3],[x,y,z]))   #sp.solve([eq1,eq2,eq3],x,y,z)"
   ]
  },
  {
   "cell_type": "markdown",
   "metadata": {},
   "source": [
    "### part d 不等式Solving inequalities\n",
    "\n",
    "###  solve_univariate_inequality & reduce_rational_inequalities\n",
    "\n",
    "\n"
   ]
  },
  {
   "cell_type": "code",
   "execution_count": 32,
   "metadata": {},
   "outputs": [],
   "source": [
    "from sympy.solvers.inequalities import solve_univariate_inequality\n",
    "\n",
    "from sympy.solvers.inequalities import reduce_rational_inequalities"
   ]
  },
  {
   "cell_type": "markdown",
   "metadata": {},
   "source": [
    "solve_univariate_inequality(x**2>4,x)    "
   ]
  },
  {
   "cell_type": "code",
   "execution_count": null,
   "metadata": {},
   "outputs": [],
   "source": [
    "from sympy.solvers.inequalities import solve_univariate_inequality\n",
    "x = sp.Symbol('x')\n",
    "\n",
    "solve_univariate_inequality(x**2 > 4, x)\n"
   ]
  },
  {
   "cell_type": "markdown",
   "metadata": {},
   "source": [
    "### part e 不等式組\n",
    "\n",
    "reduce_rational_inequalities([[x > 2,x > 5]],x) \n",
    "\n",
    "(x > 2) & (x > 5) ;   \n",
    "\n",
    "& 表示 and ; | 表示 or\n"
   ]
  },
  {
   "cell_type": "code",
   "execution_count": null,
   "metadata": {},
   "outputs": [],
   "source": [
    "from sympy.solvers.inequalities import reduce_rational_inequalities\n",
    "\n",
    "x = sp.Symbol('x')\n",
    "\n",
    "reduce_rational_inequalities([[x > 2,x > 5]],x) \n"
   ]
  },
  {
   "cell_type": "code",
   "execution_count": null,
   "metadata": {},
   "outputs": [],
   "source": [
    "reduce_rational_inequalities([[x > 2],[x > 5]],x) "
   ]
  },
  {
   "cell_type": "markdown",
   "metadata": {},
   "source": [
    "多項式### 結束:\n",
    "參考:\n",
    "\n",
    "https://docs.sympy.org/latest/index.html\n",
    "\n",
    "https://www.sympygamma.com/\n",
    "\n",
    "附帶scipy比較:\n",
    "\n",
    "Solve the system of three equations in three unknowns symbolically:\n",
    "```\n",
    "x+y+z=0\n",
    "2x-y-z=10\n",
    "y+2z=5\n",
    "```\n",
    "Compare the result to the answer computed with fsolve from scipy.optimize.\n",
    "\n"
   ]
  },
  {
   "cell_type": "code",
   "execution_count": null,
   "metadata": {},
   "outputs": [],
   "source": [
    "x,y,z=sp.symbols('x,y,z')\n",
    "eq1=sp.Eq(x+y+z,0)\n",
    "eq2=sp.Eq(2*x-y-z,10)\n",
    "eq3=sp.Eq(y+2*z,5)\n",
    "display(eq1)\n",
    "display(eq2)\n",
    "display(eq3)\n",
    "sp.solve([eq1,eq2,eq3],[x,y,z])"
   ]
  },
  {
   "cell_type": "code",
   "execution_count": null,
   "metadata": {},
   "outputs": [],
   "source": [
    "from scipy.optimize import fsolve\n",
    "def f(w):\n",
    "    x=w[0]\n",
    "    y=w[1]\n",
    "    z=w[2]\n",
    "    f1=x+y+z\n",
    "    f2=2*x-y-z-10\n",
    "    f3=y+2*z-5\n",
    "    return [f1,f2,f3]\n",
    "result=fsolve(f,[0,0,0])\n",
    "print(result)"
   ]
  },
  {
   "cell_type": "code",
   "execution_count": null,
   "metadata": {},
   "outputs": [],
   "source": []
  },
  {
   "cell_type": "markdown",
   "metadata": {},
   "source": [
    "## 第4節 基本常量 I,pi,E 及log log10 以及 三角函\n",
    "\n",
    "SymPy 的基本常量按如下方式匯入和使用：  "
   ]
  },
  {
   "cell_type": "markdown",
   "metadata": {},
   "source": [
    "### 3.1  虛數 I，圓周率 pi， 自然數 E 的 import  "
   ]
  },
  {
   "cell_type": "code",
   "execution_count": null,
   "metadata": {},
   "outputs": [],
   "source": [
    "from sympy import I, pi, E"
   ]
  },
  {
   "cell_type": "markdown",
   "metadata": {},
   "source": [
    "\n",
    "|圓周率  π |\t無限大  ∞ |\t自然対数の底  e| \t虚数単位  i    |\n",
    "|---|---|---|---|\n",
    "|pi\t|oo\t|E\t|I |  \n",
    "\n",
    "E**(I * pi) 歐拉等式  $e^{iπ}=−1$"
   ]
  },
  {
   "cell_type": "code",
   "execution_count": null,
   "metadata": {},
   "outputs": [],
   "source": [
    "E**(I * pi)"
   ]
  },
  {
   "cell_type": "code",
   "execution_count": null,
   "metadata": {},
   "outputs": [],
   "source": [
    "pi"
   ]
  },
  {
   "cell_type": "markdown",
   "metadata": {},
   "source": [
    "使用float和Float函數顯示近似值。"
   ]
  },
  {
   "cell_type": "code",
   "execution_count": null,
   "metadata": {},
   "outputs": [],
   "source": [
    "float(pi)"
   ]
  },
  {
   "cell_type": "markdown",
   "metadata": {},
   "source": [
    "這是使用Float功能顯示pi最多32位的示例。"
   ]
  },
  {
   "cell_type": "code",
   "execution_count": null,
   "metadata": {},
   "outputs": [],
   "source": [
    "sp.Float(pi,32)"
   ]
  },
  {
   "cell_type": "markdown",
   "metadata": {},
   "source": [
    "### 3.2 基本功能 (平方根,指数,自然対数,絶対値,三角函数)\n",
    "|平方根\t|指数函数\t|自然対数|\t絶対値\t\t\t|\n",
    "|---|---|---|---|\n",
    "|sqrt|\texp|\tln (=log)|\tabs\t|\n",
    "\n",
    "|a |b|c|d|\n",
    "|---|---|---|---|\n",
    "|三角函数|sin|cos|tan|\t\n",
    "|逆三角函数|asin|acos|atan|\t\n",
    "|双曲線函数|sinh|cosh|tanh|\n",
    "\n",
    "不要無意中設置$ \\sqrt{x^ 2} = x$。 如果x是一個實數 $\\sqrt{x^ 2}=|x|  $"
   ]
  },
  {
   "cell_type": "code",
   "execution_count": null,
   "metadata": {},
   "outputs": [],
   "source": [
    "x = sp.Symbol('x')\n",
    "sp.sqrt(x**2)"
   ]
  },
  {
   "cell_type": "markdown",
   "metadata": {},
   "source": [
    "assume假設x為實數，"
   ]
  },
  {
   "cell_type": "code",
   "execution_count": null,
   "metadata": {},
   "outputs": [],
   "source": [
    "x=sp.Symbol('x', real=True)\n",
    "sp.sqrt(x**2)"
   ]
  },
  {
   "cell_type": "markdown",
   "metadata": {},
   "source": [
    "滿足勾股定理的三個整數的示例。 √(3^2+4^2)=5  。"
   ]
  },
  {
   "cell_type": "code",
   "execution_count": null,
   "metadata": {},
   "outputs": [],
   "source": [
    "sp.sqrt(3**2 + 4**2)"
   ]
  },
  {
   "cell_type": "markdown",
   "metadata": {},
   "source": [
    "exp(1)=e^1=e  。"
   ]
  },
  {
   "cell_type": "code",
   "execution_count": null,
   "metadata": {},
   "outputs": [],
   "source": [
    "sp.exp(1) - E"
   ]
  },
  {
   "cell_type": "markdown",
   "metadata": {},
   "source": [
    "a=Symbol(\"a\") 。\n",
    "\n",
    "$e^{ln a}=a$"
   ]
  },
  {
   "cell_type": "code",
   "execution_count": null,
   "metadata": {},
   "outputs": [],
   "source": [
    "a=sp.Symbol(\"a\")\n",
    "sp.exp(sp.log(a))"
   ]
  },
  {
   "cell_type": "markdown",
   "metadata": {},
   "source": [
    "$log e^2=2 log e=2$"
   ]
  },
  {
   "cell_type": "code",
   "execution_count": null,
   "metadata": {},
   "outputs": [],
   "source": [
    "log(E**2)"
   ]
  },
  {
   "cell_type": "markdown",
   "metadata": {},
   "source": [
    "### 3.3 $\\log_{10}$ 的 import"
   ]
  },
  {
   "cell_type": "code",
   "execution_count": null,
   "metadata": {},
   "outputs": [],
   "source": [
    "from sympy.codegen.cfunctions import log10\n",
    "log10(100)"
   ]
  },
  {
   "cell_type": "markdown",
   "metadata": {},
   "source": [
    "### 3.4 三角函數值/自變量單位\n",
    "如果要通過數字查找三角函數的值，請執行以下操作。\n",
    "\n",
    "$ sin(π/3)= \\frac{\\sqrt{3}}{2} $"
   ]
  },
  {
   "cell_type": "code",
   "execution_count": null,
   "metadata": {},
   "outputs": [],
   "source": [
    "sp.sin(pi/3)"
   ]
  },
  {
   "cell_type": "code",
   "execution_count": null,
   "metadata": {},
   "outputs": [],
   "source": [
    "float(_)"
   ]
  },
  {
   "cell_type": "code",
   "execution_count": null,
   "metadata": {
    "tags": []
   },
   "outputs": [],
   "source": [
    "Pi=float(pi)\n",
    "sp.sin(Pi/3)"
   ]
  },
  {
   "cell_type": "markdown",
   "metadata": {
    "tags": []
   },
   "source": [
    "在上面的示例中，如果輸入浮點數，sin也會在浮點顯示中返回答案。\n",
    "\n",
    "三角函數的自變量單位為弧度。 如果要使用引数，請執行以下操作。\n",
    "\n",
    "\n",
    "60∘  使用轉換為弧度的值60×（π/ 180）計算。"
   ]
  },
  {
   "cell_type": "code",
   "execution_count": null,
   "metadata": {},
   "outputs": [],
   "source": [
    "sp.sin(sp.Rational(60, 180)*pi)"
   ]
  },
  {
   "cell_type": "code",
   "execution_count": null,
   "metadata": {},
   "outputs": [],
   "source": [
    "def degrad(x):\n",
    "    return sp.Rational(x, 180)*pi"
   ]
  },
  {
   "cell_type": "markdown",
   "metadata": {},
   "source": [
    "degrad(60) 作為參數求出sin的值。"
   ]
  },
  {
   "cell_type": "code",
   "execution_count": null,
   "metadata": {},
   "outputs": [],
   "source": [
    "sp.sin(degrad(60))"
   ]
  },
  {
   "cell_type": "markdown",
   "metadata": {},
   "source": [
    "### 簡化包含三角函數的運算式\n",
    "使用 簡化包含三角函數和雙曲函數的運算式。trigsimp\n",
    "\n",
    "$cos^2 x−sin^2 x $  \"簡化\"。"
   ]
  },
  {
   "cell_type": "code",
   "execution_count": null,
   "metadata": {},
   "outputs": [],
   "source": [
    "x=sp.Symbol('x')\n",
    "sp.trigsimp(sp.cos(x)**2 - sp.sin(x)**2)\n"
   ]
  },
  {
   "cell_type": "markdown",
   "metadata": {},
   "source": [
    "$cosh^2x−sinh^2x$   \"簡化\"。"
   ]
  },
  {
   "cell_type": "code",
   "execution_count": null,
   "metadata": {},
   "outputs": [],
   "source": [
    "sp.trigsimp(sp.cosh(x)**2 - sp.sinh(x)**2)"
   ]
  },
  {
   "cell_type": "markdown",
   "metadata": {},
   "source": [
    "cos(3x)  試著展開 。"
   ]
  },
  {
   "cell_type": "code",
   "execution_count": null,
   "metadata": {},
   "outputs": [],
   "source": [
    "sp.expand(sp.cos(3*x), trig=True)"
   ]
  },
  {
   "cell_type": "code",
   "execution_count": null,
   "metadata": {},
   "outputs": [],
   "source": [
    "sp.simplify(_)"
   ]
  },
  {
   "cell_type": "markdown",
   "metadata": {
    "jupyter": {
     "source_hidden": true
    },
    "tags": []
   },
   "source": [
    "練習\n",
    "（練習）法定和三角公式\n",
    "\n",
    "確認三角函數和雙曲函數的加法法。\n",
    "sin 3x  在  sin x  只代表你。 此外， tan 3x  在 tan x  只代表你。   \n",
    "（提示）\n",
    "\n",
    "sin(x+y)  可以按如下方式展開 （） 以檢查加法定原則：expand   \n",
    "\n",
    "對於雙曲函數，請使用擴展。trig = True\n"
   ]
  },
  {
   "cell_type": "code",
   "execution_count": null,
   "metadata": {},
   "outputs": [],
   "source": [
    "expand(sin(x + y), trig=True)"
   ]
  },
  {
   "cell_type": "code",
   "execution_count": null,
   "metadata": {},
   "outputs": [],
   "source": [
    "expand(sinh(x + y), trig=True);"
   ]
  },
  {
   "cell_type": "markdown",
   "metadata": {
    "jupyter": {
     "source_hidden": true
    },
    "tags": []
   },
   "source": [
    "### 3.5數列之和\n",
    "計算數字總與的函數格式為：summation\n",
    "\n",
    "summation(一般項 a_i, (i, 初值, 終值)) 。\n",
    "\n",
    "$\\sum_{i=1}^{10} i^2$"
   ]
  },
  {
   "cell_type": "code",
   "execution_count": null,
   "metadata": {},
   "outputs": [],
   "source": [
    "i=sp.Symbol('i')\n",
    "sp.summation(i**2, (i, 1, 10))"
   ]
  },
  {
   "cell_type": "markdown",
   "metadata": {},
   "source": [
    "N数列指數和\n",
    "\n",
    "$\\sum_{i=1}^{N} i^2  = \\frac{N(N+1)(2N+1)}{6}$ "
   ]
  },
  {
   "cell_type": "code",
   "execution_count": null,
   "metadata": {},
   "outputs": [],
   "source": [
    "N=sp.Symbol('N')\n",
    "sp.summation(i**2, (i, 1, N))"
   ]
  },
  {
   "cell_type": "code",
   "execution_count": null,
   "metadata": {},
   "outputs": [],
   "source": [
    "sp.factor(_)"
   ]
  },
  {
   "cell_type": "markdown",
   "metadata": {},
   "source": [
    "進階練習: 幾列之和  #保留使用未明 \n",
    "\n",
    "第一項  a1 ， 公差  d  等差列的第1項至第2項 n 要求一個術語的總和。  \n",
    "\n",
    "對於初項為3、公比為2的等比數列，求出到第10項之和。  \n",
    "\n",
    "∑(i=1,n) b1 r^(i−1) 問問你 另外，無限等比數列之和  n→∞  問問你 但是， 0<r<1 。  \n",
    "\n",
    "\n",
    "（提示）\n",
    "\n",
    "1. 計算如下。 在句子末尾添加時，不顯示結果。; \n",
    "\n"
   ]
  },
  {
   "cell_type": "code",
   "execution_count": null,
   "metadata": {},
   "outputs": [],
   "source": [
    "a1 = sp.Symbol('a1')\n",
    "sp.summation(a1 + ( i- 1)*d, (i, 1, n));"
   ]
  },
  {
   "cell_type": "code",
   "execution_count": null,
   "metadata": {},
   "outputs": [],
   "source": [
    "b1 = sp.Symbol('b1')\n",
    "sum2 = sp.summation(b1*r**(i - 1), (i, 1, n))"
   ]
  },
  {
   "cell_type": "code",
   "execution_count": null,
   "metadata": {},
   "outputs": [],
   "source": [
    "sum2"
   ]
  },
  {
   "cell_type": "markdown",
   "metadata": {},
   "source": [
    "### 3.6泰勒函數擴展\n",
    "sinx  在  x=0  周圍  x5  泰勒展開到部分的示例。\n",
    "\n",
    "（Python 從零開始， x5  是 x0  第六，我想我應該記住...\n",
    "\n",
    "\n"
   ]
  },
  {
   "cell_type": "code",
   "execution_count": null,
   "metadata": {},
   "outputs": [],
   "source": [
    "x = sp.Symbol('x', real=True)\n",
    "sp.series(sp.sin(x), x, 0, 6)"
   ]
  },
  {
   "cell_type": "markdown",
   "metadata": {},
   "source": [
    "$e^{ix} $   （ i  泰勒部署的虛數單位）"
   ]
  },
  {
   "cell_type": "code",
   "execution_count": null,
   "metadata": {},
   "outputs": [],
   "source": [
    "sp.series(sp.exp(I*x), x, 0, 6)"
   ]
  },
  {
   "cell_type": "markdown",
   "metadata": {},
   "source": [
    "如果將假想部分與im函數一起使用...（順便說一句，實部是re。）"
   ]
  },
  {
   "cell_type": "code",
   "execution_count": null,
   "metadata": {},
   "outputs": [],
   "source": [
    "sp.im(_)"
   ]
  },
  {
   "cell_type": "markdown",
   "metadata": {},
   "source": [
    "cos x,tan x  讓我們嘗試泰勒展開式。\n",
    "\n"
   ]
  },
  {
   "cell_type": "markdown",
   "metadata": {},
   "source": [
    "## 第5節: 概率及亂數\n",
    "\n",
    "Let's roll two dice, X and Y, with six faces each"
   ]
  },
  {
   "cell_type": "code",
   "execution_count": null,
   "metadata": {},
   "outputs": [],
   "source": [
    "import sympy as sp \n",
    "from sympy.stats import *\n",
    "sp.init_printing()\n",
    "#Let's roll two dice, X and Y, with six faces each\n",
    "X, Y = Die('X', 6), Die('Y', 6)"
   ]
  },
  {
   "cell_type": "code",
   "execution_count": null,
   "metadata": {},
   "outputs": [],
   "source": [
    "P(sp.Eq(X, 3))"
   ]
  },
  {
   "cell_type": "code",
   "execution_count": null,
   "metadata": {},
   "outputs": [],
   "source": [
    "P(X > Y)"
   ]
  },
  {
   "cell_type": "code",
   "execution_count": null,
   "metadata": {},
   "outputs": [],
   "source": [
    "P(X + Y > 6, X < 5)"
   ]
  },
  {
   "cell_type": "markdown",
   "metadata": {},
   "source": [
    "## 第6節 向量和矩陣\n",
    "### Part a\n",
    "For the system AX=b with  \n",
    "A=\n",
    "\\begin{pmatrix}\n",
    "1 & 2 & 5\\\\\n",
    "3 & 4 & 6\\\\\n",
    "-1 & 0 & 3\n",
    "\\end{pmatrix}\n",
    "b=  \n",
    "\\begin{pmatrix}\n",
    "1 \\\\ 0 \\\\ -2\n",
    "\\end{pmatrix}\n",
    "\n",
    "Setup the matrices A and b\n"
   ]
  },
  {
   "cell_type": "code",
   "execution_count": null,
   "metadata": {},
   "outputs": [],
   "source": [
    "A=sp.Matrix([[1,2,5],[3,4,6,],[-1,0,3]])\n",
    "b=sp.Matrix([1,0,-2])\n",
    "sp.pprint(A)\n",
    "sp.pprint(b)"
   ]
  },
  {
   "cell_type": "markdown",
   "metadata": {},
   "source": [
    "### Part b\n",
    "For the system in Part a, solve for matrix x by matrix algebra."
   ]
  },
  {
   "cell_type": "code",
   "execution_count": null,
   "metadata": {},
   "outputs": [],
   "source": [
    "sp.pprint(A.inv()*b)  #保留使用未明 sp.pprint(A.LUsolve(b))"
   ]
  },
  {
   "cell_type": "markdown",
   "metadata": {},
   "source": [
    "### Part c\n",
    "For matrix A above, return the middle row, and the middle column."
   ]
  },
  {
   "cell_type": "code",
   "execution_count": null,
   "metadata": {},
   "outputs": [],
   "source": [
    "sp.pprint(A)\n",
    "sp.pprint(A[1:2,:])\n",
    "sp.pprint(A[:,1:2])\n",
    "sp.pprint(A[:,1:3])\n",
    "sp.pprint(A[:,1:])\n",
    "sp.pprint(A[:,0:-1])"
   ]
  },
  {
   "cell_type": "markdown",
   "metadata": {},
   "source": [
    "### part d 矩陣 2x2 Matrix\n",
    "#### A 的inverse 逆矩陣  $A^{-1}$ \n",
    "\n",
    "A=  \n",
    "\\begin{pmatrix}\n",
    "a & b \\\\\n",
    "c & d\n",
    "\\end{pmatrix}\n",
    " \n",
    "$  A \\cdot A^{-1} = I $\n",
    "\n",
    "$ A^{-1}= \\frac {1}{ab-cd} \\cdot \\begin{pmatrix} d & -b \\\\ -c & a \\end{pmatrix} $"
   ]
  },
  {
   "cell_type": "code",
   "execution_count": null,
   "metadata": {},
   "outputs": [],
   "source": [
    "a=4;b=7;c=2;d=6\n",
    "A=sp.Matrix([[a, b],[c,d]])\n",
    "display(A)\n",
    "display(sp.S(1)/(a*d-b*c))\n",
    "A1=sp.Matrix([[d, -b],[-c,a]])\n",
    "display(A1)\n",
    "display(A.inv())\n",
    "display(A.inv() *A)"
   ]
  },
  {
   "cell_type": "markdown",
   "metadata": {},
   "source": [
    "### 生活例子: 一組人坐巴士或火車,分別有小童和大人票\n",
    "\n",
    "[參考:巴士和火車](https://www.mathsisfun.com/algebra/matrix-inverse.html)\n",
    "\n",
    "- 一組人坐巴士 小童 3 元 ,大人 3.20 元,共用了118.40元\n",
    "\n",
    "- 一組人坐火車 小童 3.5 元 ,大人 3.60 元,共用了135.20元\n",
    "\n",
    "![](https://www.mathsisfun.com/algebra/images/matrix-inverse-2x2-exr1.svg)\n",
    "\n",
    "\n",
    "以上例子得出式子:\n",
    "\n",
    "XA = B\n",
    "\n",
    "先求$A^{-1}　$， the inverse of \"A\":\n",
    "\n",
    "![](https://www.mathsisfun.com/algebra/images/matrix-inverse-2x2-exr2.gif)\n",
    "\n",
    "matrix inverse 2x2 bus\n",
    "\n",
    " \n",
    "\n",
    "Now we have the inverse we can solve using:\n",
    "\n",
    "$$ X = BA^{-1}$$\n",
    "\n",
    "![](https://www.mathsisfun.com/algebra/images/matrix-inverse-2x2-exr3.gif)\n",
    "\n",
    "There were 16 children and 22 adults!\n",
    "\n"
   ]
  },
  {
   "cell_type": "code",
   "execution_count": null,
   "metadata": {},
   "outputs": [],
   "source": [
    "a=3;b=3.5;c=3.2;d=3.6\n",
    "A=sp.Matrix([[a, b],[c,d]])\n",
    "\n",
    "display(A)\n",
    "display(sp.S(1)/(a*d-b*c))\n",
    "A1=sp.Matrix([[d, -b],[-c,a]])\n",
    "display(A1)\n",
    "\n",
    "display(A.inv())\n",
    "B=sp.Matrix([[118.4,135.2]])\n",
    "display(B)\n",
    "display(B*A.inv())"
   ]
  },
  {
   "cell_type": "markdown",
   "metadata": {},
   "source": [
    "Order is Important:\n",
    "\n",
    "AX=B  \n",
    "\n",
    "A   \n",
    "\n",
    "|   |小 |大 |\n",
    "|---|---|---|\n",
    "|巴 |3   |3.2 |\n",
    "|火 |3.5 |3.6 |\n",
    "\n",
    "B   \n",
    "\n",
    "|   |車資 |\n",
    "|---|----|\n",
    "|巴 |118.4|\n",
    "|火 |135.2|\n",
    "\n",
    "\n",
    "X=\\begin{pmatrix}X1 \\\\X2 \\end{pmatrix}\n",
    "\n",
    "A^-1 * A X= A-1 B\n",
    " \n",
    "IX= A^-1 B"
   ]
  },
  {
   "cell_type": "code",
   "execution_count": null,
   "metadata": {},
   "outputs": [],
   "source": [
    "a=3;b=3.2;c=3.5;d=3.6\n",
    "A=sp.Matrix([[a, b],[c,d]])\n",
    "display(A)\n",
    "display(sp.S(1)/(a*d-b*c))\n",
    "A1=sp.Matrix([[d, -b],[-c,a]])\n",
    "display(A1)\n",
    "\n",
    "display(A.inv())\n",
    "B=sp.Matrix([[118.4],[135.2]])\n",
    "display(B)\n",
    "display(A.inv() * B)"
   ]
  },
  {
   "cell_type": "markdown",
   "metadata": {},
   "source": [
    "### part e\n",
    "\n",
    "Create a matrix M using the zeros function that has 2 rows and 2 columns. Fill in some values using array notation(like M[i,j]=value).\n"
   ]
  },
  {
   "cell_type": "code",
   "execution_count": null,
   "metadata": {},
   "outputs": [],
   "source": [
    "M=sp.zeros(2,2)\n",
    "M[0,0]=1\n",
    "M[1,1]=3\n",
    "M[1,0]=x**2\n",
    "sp.pprint(M)\n",
    "sp.pprint(M.inv())"
   ]
  },
  {
   "cell_type": "markdown",
   "metadata": {},
   "source": [
    "## 第7節: 真值表"
   ]
  },
  {
   "cell_type": "code",
   "execution_count": null,
   "metadata": {},
   "outputs": [],
   "source": [
    "x,y,x=sp.symbols('x,y,z')\n",
    "P = x & (y | ~z)\n",
    "P"
   ]
  },
  {
   "cell_type": "code",
   "execution_count": null,
   "metadata": {},
   "outputs": [],
   "source": [
    "P.subs({x: True, y: False, z: True})"
   ]
  },
  {
   "cell_type": "markdown",
   "metadata": {},
   "source": [
    "附加:真值表\n",
    "\n",
    "|x|y|z|??|\n",
    "|--|--|--|--|\n",
    "|T|T|T| * |\n",
    "|T|T|F| * |\n",
    "|T|F|T| T |\n",
    "|T|F|F| T |\n",
    "|f|T|T| F |\n",
    "|f|T|f| f |\n",
    "|f|f|T| F |\n",
    "|fT|f|f| T |\n",
    "\n",
    "\n",
    "1.  Let's write down all combinations that we want to evaluate to True, and those for which the outcome does not matter:\n",
    "```python\n",
    "minterms = [[1, 0, 1], [1, 0, 0], [0, 0, 0]]\n",
    "dontcare = [[1, 1, 1], [1, 1, 0]]\n",
    "```\n",
    "2.  Now, we use the SOPform() function to derive an adequate formula:\n",
    "```python\n",
    "Q = SOPform(['x', 'y', 'z'], minterms, dontcare)\n",
    "Q\n",
    "```\n",
    "3.\n",
    "```python\n",
    "Q.subs({x: True, y: False, z: False}), Q.subs(\n",
    "    {x: False, y: True, z: True})\n",
    "```"
   ]
  },
  {
   "cell_type": "markdown",
   "metadata": {},
   "source": [
    "## 第8節:微分、積分和數值積分\n",
    "執行微分和積分的函數表示法如下所示。 \n",
    "\n",
    "|操作|\t表記例  |\n",
    "|--|--|\n",
    "|微分\t|diff(f, x)  |\n",
    "|n階微分|\tdiff(f, x, n)  \n",
    "|不定積分\t|integrate(f, x)  |\n",
    "|定積分|\tintegrate(f, (x, a, b))  |\n",
    "\n"
   ]
  },
  {
   "cell_type": "markdown",
   "metadata": {},
   "source": [
    "### part a : limit diff integrate"
   ]
  },
  {
   "cell_type": "code",
   "execution_count": null,
   "metadata": {},
   "outputs": [],
   "source": [
    "x, y, z = sp.symbols('x y z')\n",
    "expr = sp.sin(x)/x\n",
    "display(expr)\n",
    "l_expr=sp.limit(expr, x, 0)\n",
    "display(l_expr)"
   ]
  },
  {
   "cell_type": "code",
   "execution_count": null,
   "metadata": {},
   "outputs": [],
   "source": [
    "#可使用diff(表达式,变量,求导的次数)函数对表达式求导\n",
    "#求导，以及求导两次，代码以下：\n",
    "#导一次的结果就是exp(x)*sin(x) + exp(x)*cos(x)，也就是\n",
    "#导两次的结果是2*exp(x)*cos(x)，也就是\n",
    "x,y = sp.symbols('x y')\n",
    "expr=sp.sin(x)*sp.exp(x)\n",
    "display(expr)\n",
    "diff_expr=sp.diff(expr, x)\n",
    "diff_expr2=sp.diff(expr,x,2)\n",
    "display(diff_expr)\n",
    "display(diff_expr2)"
   ]
  },
  {
   "cell_type": "code",
   "execution_count": null,
   "metadata": {},
   "outputs": [],
   "source": [
    "#求不定积分\n",
    "#Sympy是使用integrate(表达式,变量)来求不定积分的，好比咱们要求\n",
    "from sympy import *\n",
    "x,y = symbols('x y')\n",
    "expr=exp(x)*sin(x) + exp(x)*cos(x)\n",
    "i_expr=integrate(expr,x)\n",
    "print(i_expr)\n",
    "#执行以后的结果为：exp(x)*sin(x) 转化以后为："
   ]
  },
  {
   "cell_type": "code",
   "execution_count": null,
   "metadata": {},
   "outputs": [],
   "source": [
    "#求定积分\n",
    "#Sympy一样是使用integrate()函数来作定积分的求解，只是语法不一样：integrate(表达式,(变量,下区间,上区间))，咱们来看若是求解\n",
    "from sympy import *\n",
    "x,y = symbols('x y')\n",
    "expr=sin(x**2)\n",
    "i_expr=integrate(expr, (x, -oo, oo))\n",
    "print(i_expr)\n",
    "#执行以后的结果为sqrt(2)*sqrt(pi)/2"
   ]
  },
  {
   "cell_type": "markdown",
   "metadata": {},
   "source": [
    "\n",
    "### part b\n",
    "Compute the symbolic derivative:  $\\frac{d}{dx} sin^2(x) e^{2x}$\n",
    "    \n",
    "\n",
    "Then evalute the resulting expression for x=3.3"
   ]
  },
  {
   "cell_type": "code",
   "execution_count": null,
   "metadata": {},
   "outputs": [],
   "source": [
    "y=(sp.sin(x))**2 * sp.exp(2*x)\n",
    "z=sp.diff(y,x)\n",
    "display(z)\n",
    "z.subs({x:3.2})\n",
    "z.subs(x,3.2)"
   ]
  },
  {
   "cell_type": "markdown",
   "metadata": {},
   "source": [
    "### part c\n",
    "Create a sympy expression representing the following integral:\n",
    "\n",
    "  integral(0..5) $x^2 sin(x^2) dx$\n",
    "  $$ \\int_{0}^{5} x^2 sin(x^2) \\,dx .$$\n",
    "    \n",
    "Then evaluate the integral symbolically.\n",
    "    "
   ]
  },
  {
   "cell_type": "code",
   "execution_count": null,
   "metadata": {},
   "outputs": [],
   "source": [
    "f=x**2 * sp.sin(x**2)\n",
    "g=sp.integrate(f,(x,0,5))\n",
    "print(g)\n",
    "sp.pprint(g)\n",
    "g.evalf()\n",
    "g"
   ]
  },
  {
   "cell_type": "markdown",
   "metadata": {},
   "source": [
    "### Part d\n",
    "Solve the following differential equation symbolically using the dsolve function: $$\\frac{df(x)}{dx} = x \\cos(x) .$$"
   ]
  },
  {
   "cell_type": "code",
   "execution_count": null,
   "metadata": {},
   "outputs": [],
   "source": [
    "f=sp.Function('f')\n",
    "y=sp.dsolve(sp.Derivative(f(x),x)-x*sp.cos(x),f(x))\n",
    "print(y)\n",
    "z=sp.integrate(x* sp.cos(x))\n",
    "z"
   ]
  }
 ],
 "metadata": {
  "kernelspec": {
   "display_name": "Python 3",
   "language": "python",
   "name": "python3"
  },
  "language_info": {
   "codemirror_mode": {
    "name": "ipython",
    "version": 3
   },
   "file_extension": ".py",
   "mimetype": "text/x-python",
   "name": "python",
   "nbconvert_exporter": "python",
   "pygments_lexer": "ipython3",
   "version": "3.9.5"
  }
 },
 "nbformat": 4,
 "nbformat_minor": 4
}

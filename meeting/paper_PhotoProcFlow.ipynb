{
 "cells": [
  {
   "cell_type": "markdown",
   "id": "noticed-solution",
   "metadata": {},
   "source": [
    "#  電腦資訊系統校務討論學生照片處理流程優化\n",
    "\n",
    "   對校務處理資訊要求越來越快, 短期內處理好并上載教局. 傳統來說, 學校由一位行政人員收集, 整理, 核對之后提交. 其他人員未能及時分享即時(對某班某級是完整, 對特定某班未必是完整)資訊, 如何優化流程. 以下作簡單討論.\n",
    "\n",
    "## 關鍵字: 電腦資訊系統MIS\n",
    "\n",
    "1. 校內網站, 行政人員上傳照片, 每次收完新照片,或處理照片工作完之后, 即上傳一份至伺服器.\n",
    "2. 學生名單和照片名作一視圖, 顯示學生名單與照片之間關聯, 圖片與學生對應,及缺照片情況, 通知行政,或自行上載.\n",
    "3. 電腦計算照片HASH數值, 查有重複的檔案,并合并."
   ]
  }
 ],
 "metadata": {
  "kernelspec": {
   "display_name": "Python 3",
   "language": "python",
   "name": "python3"
  },
  "language_info": {
   "codemirror_mode": {
    "name": "ipython",
    "version": 3
   },
   "file_extension": ".py",
   "mimetype": "text/x-python",
   "name": "python",
   "nbconvert_exporter": "python",
   "pygments_lexer": "ipython3",
   "version": "3.9.2"
  }
 },
 "nbformat": 4,
 "nbformat_minor": 5
}

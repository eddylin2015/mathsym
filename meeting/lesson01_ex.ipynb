{
 "cells": [
  {
   "cell_type": "markdown",
   "id": "minute-pilot",
   "metadata": {},
   "source": [
    "# Python初等代數運算\n",
    "介紹電腦在初等代數中運算表現, 老師可以利用電腦運算力輔助學生學習解題。Python在科學運算有極佳表現, 本文主要紹介Sympy模組代數運算能力,還有編程工作環境.\n",
    "\n",
    "關鍵字: 編程, 初等代數運算"
   ]
  },
  {
   "cell_type": "markdown",
   "id": "african-boulder",
   "metadata": {},
   "source": [
    "- [1._安裝Python_3.9.X及組件,Latex](#1._安裝Python_3.9.X及組件,Latex)\n",
    "- [2. 亂數(整數)、字串及有理數](#2._亂數、字串及有理數)\n",
    "- [3. Symbol x,y,z 符號 及 整式](#3._Symbol_x,y,z_符號及整式)\n",
    "- [4. 方程及方程組](#4._方程及方程組)\n",
    "- [5.  基本常量 I,pi,E](#5._基本常量_I,pi,E)\n",
    "- [6. 平方根,指数,自然對数,絶対値](#6._平方根,指数,自然對数,絶対値,)\n",
    "- [7. 數列之和summation](#7._數列之和summation)\n",
    "- [8. 數列之積product](#8._數列之積product)\n",
    "- [9. 概率](#9._概率及亂數)\n",
    "- [10. 矩陣](#10._向量和矩陣)\n",
    "- [11. limit 極限, diff 微分, integrate積分](#11._limit_極限,_diff_微分,_integrate積分)\n"
   ]
  },
  {
   "cell_type": "markdown",
   "id": "following-teach",
   "metadata": {},
   "source": [
    "## 1._安裝Python_3.9.X及組件,Latex\n",
    "- pip install numpy\n",
    "- pip install sympy\n",
    "- pip install jupyterlab\n",
    "- cmd執行 jupyter-lab\n",
    "- [https://github.com/eddylin2015/mathsym/blob/main/meeting/lesson01_ex.ipynb](https://github.com/eddylin2015/mathsym/blob/main/meeting/lesson01_ex.ipynb) "
   ]
  },
  {
   "cell_type": "code",
   "execution_count": 1,
   "id": "funded-buffer",
   "metadata": {},
   "outputs": [
    {
     "name": "stdout",
     "output_type": "stream",
     "text": [
      "import all modules\n"
     ]
    },
    {
     "name": "stderr",
     "output_type": "stream",
     "text": [
      "e:\\mathsym\\env\\lib\\site-packages\\IPython\\lib\\latextools.py:126: MatplotlibDeprecationWarning: \n",
      "The to_png function was deprecated in Matplotlib 3.4 and will be removed two minor releases later. Use mathtext.math_to_image instead.\n",
      "  mt.to_png(f, s, fontsize=12, dpi=dpi, color=color)\n",
      "e:\\mathsym\\env\\lib\\site-packages\\IPython\\lib\\latextools.py:126: MatplotlibDeprecationWarning: \n",
      "The to_rgba function was deprecated in Matplotlib 3.4 and will be removed two minor releases later. Use mathtext.math_to_image instead.\n",
      "  mt.to_png(f, s, fontsize=12, dpi=dpi, color=color)\n",
      "e:\\mathsym\\env\\lib\\site-packages\\IPython\\lib\\latextools.py:126: MatplotlibDeprecationWarning: \n",
      "The to_mask function was deprecated in Matplotlib 3.4 and will be removed two minor releases later. Use mathtext.math_to_image instead.\n",
      "  mt.to_png(f, s, fontsize=12, dpi=dpi, color=color)\n",
      "e:\\mathsym\\env\\lib\\site-packages\\IPython\\lib\\latextools.py:126: MatplotlibDeprecationWarning: \n",
      "The MathtextBackendBitmap class was deprecated in Matplotlib 3.4 and will be removed two minor releases later. Use mathtext.math_to_image instead.\n",
      "  mt.to_png(f, s, fontsize=12, dpi=dpi, color=color)\n"
     ]
    },
    {
     "data": {
      "image/png": "[encoded data removed]",
      "text/latex": [
       "$\\displaystyle \\left[ -7, \\  3\\right]$"
      ],
      "text/plain": [
       "[-7, 3]"
      ]
     },
     "execution_count": 1,
     "metadata": {},
     "output_type": "execute_result"
    }
   ],
   "source": [
    "import random                                     #亂數 \n",
    "import math                                       #math 內置數學函數\n",
    "import numpy as np                                #矩陣\n",
    "import sympy as sp                                #sympy 簡易別名 sp    \n",
    "from sympy.plotting import plot                   #繪圖表\n",
    "from sympy.parsing.sympy_parser import parse_expr #文字字串,解釋成運算式\n",
    "from sympy.solvers.inequalities import solve_univariate_inequality  #解不等式\n",
    "from sympy.solvers.inequalities import reduce_rational_inequalities #解多項不等式\n",
    "from IPython.display import Latex,HTML,Markdown   #網頁顯示數學符號\n",
    "sp.init_printing()                       #sp.init_printing()\n",
    "print(\"import all modules\")\n",
    "x=sp.Symbol('x')\n",
    "sp.solve(1*x**2+4*x-21)"
   ]
  },
  {
   "cell_type": "code",
   "execution_count": 42,
   "id": "everyday-going",
   "metadata": {},
   "outputs": [
    {
     "name": "stdout",
     "output_type": "stream",
     "text": [
      "6.21165711962521\n"
     ]
    },
    {
     "data": {
      "image/png": "[encoded data removed]",
      "text/latex": [
       "$\\displaystyle 1.73205080756888$"
      ],
      "text/plain": [
       "1.7320508075688772"
      ]
     },
     "execution_count": 42,
     "metadata": {},
     "output_type": "execute_result"
    }
   ],
   "source": [
    "print(0.5/sp.sin(3.1415926*(75/180))*12)\n",
    "float(sp.sqrt(3))\n"
   ]
  },
  {
   "cell_type": "markdown",
   "id": "allied-genius",
   "metadata": {},
   "source": [
    "### Latex  數學式子\n",
    "$$ A_1= \\frac{2^2-1}{2^2} \\cdot \\frac{3^2-1}{3^2}  \\cdot \\frac{4^2-1}{4^2} \\cdot \\cdot \\cdot \\frac{2021^2-1}{2021^2}  $$\n",
    "https://www.overleaf.com/learn/latex/Learn_LaTeX_in_30_minutes"
   ]
  },
  {
   "cell_type": "code",
   "execution_count": 2,
   "id": "metallic-lithuania",
   "metadata": {},
   "outputs": [
    {
     "data": {
      "text/html": [
       "$ ax^2 + bx  = \\frac{a}{b}$"
      ],
      "text/plain": [
       "<IPython.core.display.HTML object>"
      ]
     },
     "metadata": {},
     "output_type": "display_data"
    }
   ],
   "source": [
    "display(HTML(r\"$ ax^2 + bx  = \\frac{a}{b}$\"))"
   ]
  },
  {
   "cell_type": "markdown",
   "id": "monthly-sydney",
   "metadata": {},
   "source": [
    "## 2. 亂數、字串及有理數"
   ]
  },
  {
   "cell_type": "markdown",
   "id": "fundamental-junior",
   "metadata": {},
   "source": [
    "### 亂數"
   ]
  },
  {
   "cell_type": "code",
   "execution_count": 4,
   "id": "excessive-saver",
   "metadata": {},
   "outputs": [
    {
     "data": {
      "image/png": "[encoded data removed]",
      "text/latex": [
       "$\\displaystyle 8$"
      ],
      "text/plain": [
       "8"
      ]
     },
     "execution_count": 4,
     "metadata": {},
     "output_type": "execute_result"
    }
   ],
   "source": [
    "import random\n",
    "random.randint(-10,10)"
   ]
  },
  {
   "cell_type": "code",
   "execution_count": 4,
   "id": "activated-relaxation",
   "metadata": {},
   "outputs": [
    {
     "data": {
      "text/latex": [
       "$\\displaystyle 3$"
      ],
      "text/plain": [
       "3"
      ]
     },
     "execution_count": 4,
     "metadata": {},
     "output_type": "execute_result"
    }
   ],
   "source": [
    "random.choice([1,2,3])"
   ]
  },
  {
   "cell_type": "markdown",
   "id": "drawn-space",
   "metadata": {},
   "source": [
    "### 格式化字串 format string"
   ]
  },
  {
   "cell_type": "code",
   "execution_count": 5,
   "id": "dimensional-familiar",
   "metadata": {},
   "outputs": [
    {
     "name": "stdout",
     "output_type": "stream",
     "text": [
      "8/-8=-1.0\n"
     ]
    }
   ],
   "source": [
    "a=random.randint(-10,10)\n",
    "b=random.randint(-10,10)\n",
    "if b==0 : b=7\n",
    "c=a/b\n",
    "print(f\"{a}/{b}={c}\")"
   ]
  },
  {
   "cell_type": "markdown",
   "id": "elementary-campbell",
   "metadata": {},
   "source": [
    "### 分數"
   ]
  },
  {
   "cell_type": "code",
   "execution_count": 5,
   "id": "assumed-japanese",
   "metadata": {},
   "outputs": [
    {
     "data": {
      "text/latex": [
       "$\\displaystyle \\frac{1}{10}$"
      ],
      "text/plain": [
       "1/10"
      ]
     },
     "execution_count": 5,
     "metadata": {},
     "output_type": "execute_result"
    }
   ],
   "source": [
    "import sympy as sp\n",
    "sp.Rational(a,b)"
   ]
  },
  {
   "cell_type": "code",
   "execution_count": 6,
   "id": "recognized-knowing",
   "metadata": {},
   "outputs": [
    {
     "data": {
      "text/latex": [
       "$\\displaystyle \\frac{1}{10}$"
      ],
      "text/plain": [
       "1/10"
      ]
     },
     "execution_count": 6,
     "metadata": {},
     "output_type": "execute_result"
    }
   ],
   "source": [
    "sp.S(a)/b"
   ]
  },
  {
   "cell_type": "code",
   "execution_count": 6,
   "id": "macro-watts",
   "metadata": {},
   "outputs": [
    {
     "data": {
      "text/latex": [
       "$\\displaystyle \\frac{7}{8} + \\frac{9}{8}$"
      ],
      "text/plain": [
       "7/8 + 9/8"
      ]
     },
     "execution_count": 6,
     "metadata": {},
     "output_type": "execute_result"
    }
   ],
   "source": [
    "r1=sp.S(7) / 8\n",
    "r2=sp.S(9) / 8\n",
    "sp.Add(r1,r2,evaluate=False) "
   ]
  },
  {
   "cell_type": "code",
   "execution_count": 9,
   "id": "threaded-barbados",
   "metadata": {},
   "outputs": [
    {
     "data": {
      "text/latex": [
       "$\\displaystyle 2$"
      ],
      "text/plain": [
       "2"
      ]
     },
     "execution_count": 9,
     "metadata": {},
     "output_type": "execute_result"
    }
   ],
   "source": [
    "r1+r2"
   ]
  },
  {
   "cell_type": "code",
   "execution_count": 10,
   "id": "cutting-broadway",
   "metadata": {},
   "outputs": [
    {
     "data": {
      "text/latex": [
       "$\\displaystyle \\frac{7}{8} \\frac{9}{8}$"
      ],
      "text/plain": [
       "7/8⋅9/8"
      ]
     },
     "execution_count": 10,
     "metadata": {},
     "output_type": "execute_result"
    }
   ],
   "source": [
    "sp.Mul(r1,r2,evaluate=False) "
   ]
  },
  {
   "cell_type": "code",
   "execution_count": 11,
   "id": "fatal-initial",
   "metadata": {},
   "outputs": [
    {
     "data": {
      "text/latex": [
       "$\\displaystyle \\frac{63}{64}$"
      ],
      "text/plain": [
       "63\n",
       "──\n",
       "64"
      ]
     },
     "execution_count": 11,
     "metadata": {},
     "output_type": "execute_result"
    }
   ],
   "source": [
    "r1*r2"
   ]
  },
  {
   "cell_type": "code",
   "execution_count": 8,
   "id": "desperate-reading",
   "metadata": {},
   "outputs": [
    {
     "data": {
      "text/latex": [
       "$\\displaystyle \\frac{1}{\\frac{7}{8}}$"
      ],
      "text/plain": [
       "1/(7/8)"
      ]
     },
     "execution_count": 8,
     "metadata": {},
     "output_type": "execute_result"
    }
   ],
   "source": [
    "sp.Pow(r1,-1,evaluate=False) "
   ]
  },
  {
   "cell_type": "code",
   "execution_count": 9,
   "id": "greater-boring",
   "metadata": {},
   "outputs": [
    {
     "data": {
      "text/latex": [
       "$\\displaystyle \\frac{8}{7}$"
      ],
      "text/plain": [
       "8/7"
      ]
     },
     "execution_count": 9,
     "metadata": {},
     "output_type": "execute_result"
    }
   ],
   "source": [
    "r1**-1"
   ]
  },
  {
   "cell_type": "markdown",
   "id": "theoretical-session",
   "metadata": {},
   "source": [
    "化簡173173/204659,10402628/15603942"
   ]
  },
  {
   "cell_type": "markdown",
   "id": "center-toolbox",
   "metadata": {},
   "source": [
    "### 自動顯示最后結果 _ , print及display 區別"
   ]
  },
  {
   "cell_type": "code",
   "execution_count": 12,
   "id": "demanding-cheat",
   "metadata": {},
   "outputs": [
    {
     "data": {
      "text/latex": [
       "$\\displaystyle \\frac{63}{64}$"
      ],
      "text/plain": [
       "63\n",
       "──\n",
       "64"
      ]
     },
     "metadata": {},
     "output_type": "display_data"
    },
    {
     "data": {
      "text/latex": [
       "$\\displaystyle \\frac{63}{64}$"
      ],
      "text/plain": [
       "63\n",
       "──\n",
       "64"
      ]
     },
     "metadata": {},
     "output_type": "display_data"
    },
    {
     "name": "stdout",
     "output_type": "stream",
     "text": [
      "63/64\n"
     ]
    }
   ],
   "source": [
    "display(_)\n",
    "display(r1*r2) \n",
    "print(r1*r2)"
   ]
  },
  {
   "cell_type": "markdown",
   "id": "military-buffer",
   "metadata": {},
   "source": [
    "## 3. 符號x,y,z 及 整式"
   ]
  },
  {
   "cell_type": "code",
   "execution_count": null,
   "id": "institutional-mouse",
   "metadata": {},
   "outputs": [],
   "source": [
    "x,y,z=sp.symbols('x y,z') #x=sp.Symbol('x')"
   ]
  },
  {
   "cell_type": "markdown",
   "id": "anonymous-bearing",
   "metadata": {},
   "source": [
    "### 整式"
   ]
  },
  {
   "cell_type": "code",
   "execution_count": 3,
   "id": "stuck-toner",
   "metadata": {},
   "outputs": [
    {
     "data": {
      "image/png": "[encoded data removed]",
      "text/latex": [
       "$\\displaystyle x^{2} + y^{2} + z^{2}$"
      ],
      "text/plain": [
       " 2    2    2\n",
       "x  + y  + z "
      ]
     },
     "metadata": {},
     "output_type": "display_data"
    },
    {
     "data": {
      "image/png": "[encoded data removed]",
      "text/latex": [
       "$\\displaystyle x^{2} + y^{2} + z^{2} - \\frac{1}{x^{2} + y^{2} + z^{2}} + \\frac{x^{2} + y^{2} + z^{2}}{x - y - z}$"
      ],
      "text/plain": [
       "                               2    2    2\n",
       " 2    2    2        1         x  + y  + z \n",
       "x  + y  + z  - ──────────── + ────────────\n",
       "                2    2    2    x - y - z  \n",
       "               x  + y  + z                "
      ]
     },
     "metadata": {},
     "output_type": "display_data"
    }
   ],
   "source": [
    "import sympy as sp\n",
    "import random\n",
    "sp.init_printing(\"mathjax\")   \n",
    "x,y,z=sp.symbols('x y,z')\n",
    "f= x**2 + y**2 + z**2\n",
    "display(f)\n",
    "# print(f)\n",
    "g= (x**2 + y**2 + z**2) / (x-y-z)  + f - 1/f\n",
    "display(g)\n",
    "# print(g)"
   ]
  },
  {
   "cell_type": "code",
   "execution_count": 18,
   "id": "incomplete-field",
   "metadata": {},
   "outputs": [
    {
     "data": {
      "image/png": "[encoded data removed]",
      "text/latex": [
       "$\\displaystyle 100 - x^{2}$"
      ],
      "text/plain": [
       "       2\n",
       "100 - x "
      ]
     },
     "execution_count": 18,
     "metadata": {},
     "output_type": "execute_result"
    }
   ],
   "source": [
    "a1=random.choice([100,200,300])\n",
    "expr1= -x**2 + a1 \n",
    "expr1"
   ]
  },
  {
   "cell_type": "markdown",
   "id": "revolutionary-literacy",
   "metadata": {},
   "source": [
    "### plot 圖"
   ]
  },
  {
   "cell_type": "code",
   "execution_count": 22,
   "id": "rough-auditor",
   "metadata": {},
   "outputs": [
    {
     "data": {
      "image/png": "[encoded data removed]",
      "text/plain": [
       "<Figure size 432x288 with 1 Axes>"
      ]
     },
     "metadata": {
      "needs_background": "light"
     },
     "output_type": "display_data"
    },
    {
     "data": {
      "text/plain": [
       "<sympy.plotting.plot.Plot at 0x1ca37e67e20>"
      ]
     },
     "execution_count": 22,
     "metadata": {},
     "output_type": "execute_result"
    }
   ],
   "source": [
    "from sympy.plotting import plot\n",
    "#plot(expr1,(x, -5, 5)) \n",
    "plot(expr1)"
   ]
  },
  {
   "cell_type": "code",
   "execution_count": 15,
   "id": "spectacular-flavor",
   "metadata": {},
   "outputs": [
    {
     "data": {
      "image/png": "[encoded data removed]",
      "text/plain": [
       "<Figure size 432x288 with 1 Axes>"
      ]
     },
     "metadata": {
      "needs_background": "light"
     },
     "output_type": "display_data"
    },
    {
     "data": {
      "text/plain": [
       "<sympy.plotting.plot.Plot at 0x207ace3c340>"
      ]
     },
     "execution_count": 15,
     "metadata": {},
     "output_type": "execute_result"
    }
   ],
   "source": [
    "import sympy as sp\n",
    "from sympy.plotting import plot\n",
    "#plot(expr1,(x, -5, 5)) \n",
    "from sympy import I, pi, E\n",
    "x,y=sp.symbols('x y')\n",
    "expr1=E**(x)\n",
    "plot(expr1,(x,-10,10), xlim=[-10,10], ylim=[0,10])"
   ]
  },
  {
   "cell_type": "markdown",
   "id": "demanding-central",
   "metadata": {},
   "source": [
    "### 整式 x數值代入subs"
   ]
  },
  {
   "cell_type": "code",
   "execution_count": 10,
   "id": "cloudy-rough",
   "metadata": {},
   "outputs": [
    {
     "data": {
      "text/latex": [
       "$\\displaystyle -2.0$"
      ],
      "text/plain": [
       "-2.00000000000000"
      ]
     },
     "execution_count": 10,
     "metadata": {},
     "output_type": "execute_result"
    }
   ],
   "source": [
    "fx1=expr1.subs(x,1.5)\n",
    "fx1"
   ]
  },
  {
   "cell_type": "code",
   "execution_count": 11,
   "id": "persistent-sigma",
   "metadata": {},
   "outputs": [
    {
     "data": {
      "text/latex": [
       "$\\displaystyle 2 z - 5$"
      ],
      "text/plain": [
       "2⋅z - 5"
      ]
     },
     "metadata": {},
     "output_type": "display_data"
    },
    {
     "data": {
      "text/latex": [
       "$\\displaystyle 2 y^{2} - 5$"
      ],
      "text/plain": [
       "   2    \n",
       "2⋅y  - 5"
      ]
     },
     "metadata": {},
     "output_type": "display_data"
    }
   ],
   "source": [
    "fx2=expr1.subs(x,z)\n",
    "display(fx2)\n",
    "fx3=expr1.subs(x,y**2)\n",
    "display(fx3)"
   ]
  },
  {
   "cell_type": "markdown",
   "id": "narrow-softball",
   "metadata": {},
   "source": [
    "###  整式化簡simplify\n",
    "Simplify化簡式子:\n",
    "            $\\frac{x^2-x-6}{x^2-3x}$\n",
    "    "
   ]
  },
  {
   "cell_type": "code",
   "execution_count": 12,
   "id": "wireless-twins",
   "metadata": {},
   "outputs": [
    {
     "name": "stdout",
     "output_type": "stream",
     "text": [
      "題:\n"
     ]
    },
    {
     "data": {
      "text/latex": [
       "$\\displaystyle \\frac{x^{2} - x - 6}{x^{2} - 3 x}$"
      ],
      "text/plain": [
       " 2        \n",
       "x  - x - 6\n",
       "──────────\n",
       "  2       \n",
       " x  - 3⋅x "
      ]
     },
     "metadata": {},
     "output_type": "display_data"
    },
    {
     "name": "stdout",
     "output_type": "stream",
     "text": [
      "解:\n"
     ]
    },
    {
     "data": {
      "text/latex": [
       "$\\displaystyle \\frac{x + 2}{x}$"
      ],
      "text/plain": [
       "x + 2\n",
       "─────\n",
       "  x  "
      ]
     },
     "metadata": {},
     "output_type": "display_data"
    }
   ],
   "source": [
    "f=(x**2 -x -6)/(x**2-3*x)\n",
    "print(\"題:\")\n",
    "display(f)\n",
    "ans=sp.simplify(f)\n",
    "print(\"解:\")\n",
    "display(ans)"
   ]
  },
  {
   "cell_type": "markdown",
   "id": "apparent-covering",
   "metadata": {},
   "source": [
    "### 整式展開 expand\n",
    "expand 展開式子,整式乘法:$(x+1)^3(x-2)^2$"
   ]
  },
  {
   "cell_type": "code",
   "execution_count": 13,
   "id": "medium-marathon",
   "metadata": {},
   "outputs": [
    {
     "name": "stdout",
     "output_type": "stream",
     "text": [
      "題目:\n"
     ]
    },
    {
     "data": {
      "text/latex": [
       "$\\displaystyle \\left(x - 2\\right)^{2} \\left(x + 1\\right)^{3}$"
      ],
      "text/plain": [
       "       2        3\n",
       "(x - 2) ⋅(x + 1) "
      ]
     },
     "metadata": {},
     "output_type": "display_data"
    },
    {
     "name": "stdout",
     "output_type": "stream",
     "text": [
      "解題:\n"
     ]
    },
    {
     "data": {
      "text/latex": [
       "$\\displaystyle x^{5} - x^{4} - 5 x^{3} + x^{2} + 8 x + 4$"
      ],
      "text/plain": [
       " 5    4      3    2          \n",
       "x  - x  - 5⋅x  + x  + 8⋅x + 4"
      ]
     },
     "metadata": {},
     "output_type": "display_data"
    }
   ],
   "source": [
    "#開展式子\n",
    "f=(x+1)**3 * (x-2)**2\n",
    "print(\"題目:\")\n",
    "display(f)\n",
    "\n",
    "ans=sp.expand(f)\n",
    "print(\"解題:\")\n",
    "display(ans)"
   ]
  },
  {
   "cell_type": "markdown",
   "id": "killing-retirement",
   "metadata": {},
   "source": [
    "### 整式提取因式 factor\n",
    "Factor 整式提取因式: $3x^4-36x^3+99x^2-6x-144$"
   ]
  },
  {
   "cell_type": "code",
   "execution_count": 20,
   "id": "criminal-military",
   "metadata": {},
   "outputs": [
    {
     "data": {
      "text/latex": [
       "$\\displaystyle 3 x^{4} - 36 x^{3} + 99 x^{2} - 6 x - 144$"
      ],
      "text/plain": [
       "   4       3       2            \n",
       "3⋅x  - 36⋅x  + 99⋅x  - 6⋅x - 144"
      ]
     },
     "metadata": {},
     "output_type": "display_data"
    },
    {
     "data": {
      "text/latex": [
       "$\\displaystyle 3 \\left(x - 8\\right) \\left(x - 3\\right) \\left(x - 2\\right) \\left(x + 1\\right)$"
      ],
      "text/plain": [
       "3⋅(x - 8)⋅(x - 3)⋅(x - 2)⋅(x + 1)"
      ]
     },
     "execution_count": 20,
     "metadata": {},
     "output_type": "execute_result"
    }
   ],
   "source": [
    "#提取因子\n",
    "f=3*x**4-36*x**3+99*x**2-6*x-144\n",
    "display(f)\n",
    "sp.factor(f)"
   ]
  },
  {
   "cell_type": "markdown",
   "id": "concerned-water",
   "metadata": {},
   "source": [
    "### 文字轉換成算數式子 parse_expr \n",
    "parse_expr 文字轉換成式子\n"
   ]
  },
  {
   "cell_type": "code",
   "execution_count": 14,
   "id": "prime-incidence",
   "metadata": {},
   "outputs": [
    {
     "data": {
      "text/latex": [
       "$\\displaystyle x^{2} - x + x - 2$"
      ],
      "text/plain": [
       " 2            \n",
       "x  - x + x - 2"
      ]
     },
     "metadata": {},
     "output_type": "display_data"
    },
    {
     "name": "stdout",
     "output_type": "stream",
     "text": [
      "287\n"
     ]
    }
   ],
   "source": [
    "from sympy.parsing.sympy_parser import parse_expr #文字字串, 解釋成, Sympy 運算式\n",
    "expr=parse_expr(\"x**2 -x -2 + x\",evaluate=False)\n",
    "display(expr)\n",
    "expr=sp.simplify(expr)\n",
    "print(expr.subs(x,17))"
   ]
  },
  {
   "cell_type": "code",
   "execution_count": 22,
   "id": "annoying-edwards",
   "metadata": {},
   "outputs": [
    {
     "name": "stdin",
     "output_type": "stream",
     "text": [
      "Input Algebra Expr: 0\n"
     ]
    },
    {
     "data": {
      "text/latex": [
       "$\\displaystyle 0$"
      ],
      "text/plain": [
       "0"
      ]
     },
     "execution_count": 22,
     "metadata": {},
     "output_type": "execute_result"
    }
   ],
   "source": [
    "str_expr=input(\"Input Algebra Expr:\")\n",
    "parse_expr(str_expr)"
   ]
  },
  {
   "cell_type": "markdown",
   "id": "atlantic-cross",
   "metadata": {},
   "source": [
    "### 寫一個有理數程式"
   ]
  },
  {
   "cell_type": "code",
   "execution_count": 15,
   "id": "wanted-combining",
   "metadata": {},
   "outputs": [
    {
     "data": {
      "text/latex": [
       "$\\displaystyle - \\frac{1}{2} + \\frac{5}{6}$"
      ],
      "text/plain": [
       "-1/2 + 5/6"
      ]
     },
     "metadata": {},
     "output_type": "display_data"
    },
    {
     "name": "stdin",
     "output_type": "stream",
     "text": [
      "input ans: 1/2\n"
     ]
    },
    {
     "name": "stdout",
     "output_type": "stream",
     "text": [
      "Wrong\n"
     ]
    },
    {
     "data": {
      "text/latex": [
       "$\\displaystyle \\frac{1}{3}$"
      ],
      "text/plain": [
       "1/3"
      ]
     },
     "metadata": {},
     "output_type": "display_data"
    }
   ],
   "source": [
    "import random                                     #亂數 \n",
    "import sympy as sp  \n",
    "a=random.randint(1,39)  #亂數a,b,c, 不為零           \n",
    "b=random.randint(-39,39)\n",
    "c=random.randint(-39,39)\n",
    "if a==0 : a=2\n",
    "if b==0 : b=1\n",
    "if c==0 : c=1\n",
    "f_1 = sp.Rational(b ,a) # b/a\n",
    "f_2 = sp.Rational(c ,a) # c/a\n",
    "St=sp.Add(f_1, f_2, evaluate=False)  # b/a + c/a 不要演化 evaluate=False\n",
    "Val=sp.simplify(St)                  #化簡算式,得出標準答案   \n",
    "display(St)\n",
    "ans=input(\"input ans:\")\n",
    "if parse_expr(ans)==Val:\n",
    "    print(\"OK\")\n",
    "else:\n",
    "    print(\"Wrong\")\n",
    "display(Val)"
   ]
  },
  {
   "cell_type": "markdown",
   "id": "imposed-genetics",
   "metadata": {},
   "source": [
    "## 4. 方程及方程組"
   ]
  },
  {
   "cell_type": "markdown",
   "id": "reliable-moldova",
   "metadata": {},
   "source": [
    "### 解方程 sp.solve\n",
    "求根(roots)以下方程式 (equation):\n",
    "$$ x^2+5x=10 $$\n",
    "使用指令 Eq 和 solve .   \n",
    "```python\n",
    "eq1=sp.Eq(x**2+5x-10)  # x**2+5x-10 =0\n",
    "eq2=sp.Eq(x**2+5x,10)  # x**2+5x=10\n",
    "sp.solve(eq2)\n",
    "```"
   ]
  },
  {
   "cell_type": "code",
   "execution_count": 24,
   "id": "convenient-receipt",
   "metadata": {},
   "outputs": [
    {
     "data": {
      "text/latex": [
       "$\\displaystyle x^{2} + 5 x = 10$"
      ],
      "text/plain": [
       " 2           \n",
       "x  + 5⋅x = 10"
      ]
     },
     "execution_count": 24,
     "metadata": {},
     "output_type": "execute_result"
    }
   ],
   "source": [
    "x,y,z=sp.symbols('x y z')\n",
    "expr1=sp.Eq(x**2+5*x,10)\n",
    "expr1"
   ]
  },
  {
   "cell_type": "code",
   "execution_count": 25,
   "id": "human-farming",
   "metadata": {},
   "outputs": [
    {
     "data": {
      "text/latex": [
       "$\\displaystyle \\left[ - \\frac{5}{2} + \\frac{\\sqrt{65}}{2}, \\  - \\frac{\\sqrt{65}}{2} - \\frac{5}{2}\\right]$"
      ],
      "text/plain": [
       "⎡  5   √65    √65   5⎤\n",
       "⎢- ─ + ───, - ─── - ─⎥\n",
       "⎣  2    2      2    2⎦"
      ]
     },
     "execution_count": 25,
     "metadata": {},
     "output_type": "execute_result"
    }
   ],
   "source": [
    "val=sp.solve(expr1,x)\n",
    "val"
   ]
  },
  {
   "cell_type": "markdown",
   "id": "intended-knife",
   "metadata": {},
   "source": [
    "### 解方程 一元二次方程式\n",
    "\n",
    "$$ ax^2+bx+c=0 $$\n",
    "\n",
    "二次方程会有两个解:\n",
    "\n",
    "$$ \\begin{bmatrix} X_1 = \\frac {-b + \\sqrt{-4ac + b^2}}{2*a}  , X_2 = \\frac {-b - \\sqrt{-4ac + b^2}}{2*a} \\end{bmatrix} $$\n",
    "\n",
    "\n",
    "`列表list` [ $x_1,x_2$ ] 。\n",
    "```python\n",
    "num_list1=[0,1,2]  \n",
    "str_list2=[\"a\",\"b\",\"c\"]  \n",
    "syb_list3=[x,y,z]  \n",
    "equ_group=[eq1,eq2,eq3]\n",
    "```"
   ]
  },
  {
   "cell_type": "code",
   "execution_count": 13,
   "id": "brave-apparatus",
   "metadata": {},
   "outputs": [
    {
     "name": "stdout",
     "output_type": "stream",
     "text": [
      "一元二次方程式,默認右邊式子為0\n"
     ]
    },
    {
     "data": {
      "image/png": "[encoded data removed]",
      "text/latex": [
       "$\\displaystyle x^{2} + 3 x - 4$"
      ],
      "text/plain": [
       " 2          \n",
       "x  + 3⋅x - 4"
      ]
     },
     "metadata": {},
     "output_type": "display_data"
    },
    {
     "data": {
      "image/png": "[encoded data removed]",
      "text/latex": [
       "$\\displaystyle \\left[ -4, \\  1\\right]$"
      ],
      "text/plain": [
       "[-4, 1]"
      ]
     },
     "metadata": {},
     "output_type": "display_data"
    },
    {
     "name": "stdout",
     "output_type": "stream",
     "text": [
      "-------------\n"
     ]
    },
    {
     "data": {
      "image/png": "[encoded data removed]",
      "text/latex": [
       "$\\displaystyle x^{2} + 3 x = 4$"
      ],
      "text/plain": [
       " 2          \n",
       "x  + 3⋅x = 4"
      ]
     },
     "metadata": {},
     "output_type": "display_data"
    },
    {
     "data": {
      "image/png": "[encoded data removed]",
      "text/latex": [
       "$\\displaystyle \\left[ -4, \\  1\\right]$"
      ],
      "text/plain": [
       "[-4, 1]"
      ]
     },
     "metadata": {},
     "output_type": "display_data"
    }
   ],
   "source": [
    "x,y,z=sp.symbols('x,y,z')\n",
    "print(\"一元二次方程式,默認右邊式子為0\")\n",
    "fx=x**2 + 3*x -4 \n",
    "display(fx)\n",
    "display(sp.solve(fx))  # [-4,1] 默認右邊式子為0\n",
    "print(\"-------------\")\n",
    "fx=sp.Eq(x**2 + 3*x, 4)\n",
    "display(fx)\n",
    "display(sp.solve(fx))"
   ]
  },
  {
   "cell_type": "markdown",
   "id": "similar-institution",
   "metadata": {},
   "source": [
    "### 解方程組 sp.solve( [ Eq1, Eq2, Eq3 ], [x, y, z] )\n",
    "$ \\left\\{\\begin{array}\\\\ x + y + z = 0\\\\2 x - y - z = 10\\\\y + 2 z = 5 \\end{array}\\right. $"
   ]
  },
  {
   "cell_type": "code",
   "execution_count": 14,
   "id": "diagnostic-titanium",
   "metadata": {},
   "outputs": [
    {
     "data": {
      "text/html": [
       "$ \\left\\{\\begin{array}\\\\ x + y + z = 0\\\\2 x - y - z = 10\\\\y + 2 z = 5 \\end{array}\\right. $"
      ],
      "text/plain": [
       "<IPython.core.display.HTML object>"
      ]
     },
     "metadata": {},
     "output_type": "display_data"
    },
    {
     "data": {
      "image/png": "[encoded data removed]",
      "text/latex": [
       "$\\displaystyle \\left\\{ x : \\frac{10}{3}, \\  y : - \\frac{35}{3}, \\  z : \\frac{25}{3}\\right\\}$"
      ],
      "text/plain": [
       "{x: 10/3, y: -35/3, z: 25/3}"
      ]
     },
     "execution_count": 14,
     "metadata": {},
     "output_type": "execute_result"
    }
   ],
   "source": [
    "eq1=sp.Eq(x+y+z,0)\n",
    "eq2=sp.Eq(2*x-y-z,10)\n",
    "eq3=sp.Eq(y+2*z,5)\n",
    "eq_grp=[eq1,eq2,eq3]\n",
    "St= r\"\\\\\".join(sp.latex(eq) for eq in eq_grp)\n",
    "St= r\"\\left\\{\\begin{array}\\\\ %s \\end{array}\\right.\" % St\n",
    "display(HTML(f\"$ {St} $\"))\n",
    "sp.solve([eq1,eq2,eq3],[x,y,z])   #sp.solve([eq1,eq2,eq3],x,y,z)"
   ]
  },
  {
   "cell_type": "markdown",
   "id": "adopted-pollution",
   "metadata": {},
   "source": [
    "### 不等式 solve_univariate_inequality\n",
    "$$x^2 > 4$$"
   ]
  },
  {
   "cell_type": "code",
   "execution_count": 28,
   "id": "abandoned-disney",
   "metadata": {},
   "outputs": [
    {
     "data": {
      "text/latex": [
       "$\\displaystyle \\left(-\\infty < x \\wedge x < -2\\right) \\vee \\left(2 < x \\wedge x < \\infty\\right)$"
      ],
      "text/plain": [
       "(-∞ < x ∧ x < -2) ∨ (2 < x ∧ x < ∞)"
      ]
     },
     "execution_count": 28,
     "metadata": {},
     "output_type": "execute_result"
    }
   ],
   "source": [
    "from sympy.solvers.inequalities import solve_univariate_inequality\n",
    "x = sp.Symbol('x')\n",
    "solve_univariate_inequality( x**2 > 4 , x)"
   ]
  },
  {
   "cell_type": "markdown",
   "id": "known-ministry",
   "metadata": {},
   "source": [
    "### 不等式組 reduce_rational_inequalities\n",
    "$\\left\\{\\begin{array}\\\\ x > 2 \\\\ x > 5 \\end{array}\\right.$\n",
    "```python\n",
    "[ [x > 2  ,  x > 5] ] : 且\n",
    "[ [x > 2] , [x > 5] ] : 或\n",
    "```"
   ]
  },
  {
   "cell_type": "code",
   "execution_count": 22,
   "id": "sustained-lawyer",
   "metadata": {},
   "outputs": [
    {
     "data": {
      "text/latex": [
       "$\\displaystyle 5 < x \\wedge x < \\infty$"
      ],
      "text/plain": [
       "5 < x ∧ x < ∞"
      ]
     },
     "execution_count": 22,
     "metadata": {},
     "output_type": "execute_result"
    }
   ],
   "source": [
    "from sympy.solvers.inequalities import reduce_rational_inequalities\n",
    "x = sp.Symbol('x')\n",
    "reduce_rational_inequalities( [[x > 2 , x > 5]] ,x) "
   ]
  },
  {
   "cell_type": "code",
   "execution_count": 23,
   "id": "standing-arthur",
   "metadata": {},
   "outputs": [
    {
     "data": {
      "text/latex": [
       "$\\displaystyle 2 < x \\wedge x < \\infty$"
      ],
      "text/plain": [
       "2 < x ∧ x < ∞"
      ]
     },
     "execution_count": 23,
     "metadata": {},
     "output_type": "execute_result"
    }
   ],
   "source": [
    "reduce_rational_inequalities( [[x > 2],[x > 5]] ,x) "
   ]
  },
  {
   "cell_type": "markdown",
   "id": "passing-sculpture",
   "metadata": {},
   "source": [
    "## 5.  基本常量 I,pi,E "
   ]
  },
  {
   "cell_type": "markdown",
   "id": "psychological-worth",
   "metadata": {},
   "source": [
    "### 5.1. 虛數 I，圓周率 pi， 自然數 E   \n",
    "SymPy 的基本常量按如下方式匯入和使用：  "
   ]
  },
  {
   "cell_type": "code",
   "execution_count": 4,
   "id": "chemical-matthew",
   "metadata": {},
   "outputs": [],
   "source": [
    "from sympy import I, pi, E"
   ]
  },
  {
   "cell_type": "markdown",
   "id": "generic-modeling",
   "metadata": {},
   "source": [
    "\n",
    "|圓周率  π |\t無限大  ∞ |\t自然数  e| \t虚数  i    |\n",
    "|---|---|---|---|\n",
    "|pi\t|oo\t|E\t|I |  \n",
    "\n",
    "E**(I * pi) 歐拉等式  $e^{i \\pi}= -1$"
   ]
  },
  {
   "cell_type": "code",
   "execution_count": 5,
   "id": "gorgeous-forge",
   "metadata": {},
   "outputs": [
    {
     "data": {
      "text/plain": [
       "True"
      ]
     },
     "execution_count": 5,
     "metadata": {},
     "output_type": "execute_result"
    }
   ],
   "source": [
    "parse_expr(\"E**(I * pi)\")==E**(I * pi)"
   ]
  },
  {
   "cell_type": "code",
   "execution_count": 33,
   "id": "saving-rider",
   "metadata": {},
   "outputs": [
    {
     "data": {
      "text/latex": [
       "$\\displaystyle \\pi$"
      ],
      "text/plain": [
       "π"
      ]
     },
     "execution_count": 33,
     "metadata": {},
     "output_type": "execute_result"
    }
   ],
   "source": [
    "pi"
   ]
  },
  {
   "cell_type": "markdown",
   "id": "sunset-appearance",
   "metadata": {},
   "source": [
    "使用float和Float函數顯示近似值。"
   ]
  },
  {
   "cell_type": "code",
   "execution_count": 34,
   "id": "eleven-cement",
   "metadata": {},
   "outputs": [
    {
     "data": {
      "text/latex": [
       "$\\displaystyle 3.14159265358979$"
      ],
      "text/plain": [
       "3.141592653589793"
      ]
     },
     "execution_count": 34,
     "metadata": {},
     "output_type": "execute_result"
    }
   ],
   "source": [
    "float(pi)"
   ]
  },
  {
   "cell_type": "markdown",
   "id": "western-intensity",
   "metadata": {},
   "source": [
    "這是使用Float功能顯示pi最多32位的示例。"
   ]
  },
  {
   "cell_type": "code",
   "execution_count": 35,
   "id": "alien-bronze",
   "metadata": {},
   "outputs": [
    {
     "data": {
      "text/latex": [
       "$\\displaystyle 3.1415926535897932384626433832795$"
      ],
      "text/plain": [
       "3.1415926535897932384626433832795"
      ]
     },
     "execution_count": 35,
     "metadata": {},
     "output_type": "execute_result"
    }
   ],
   "source": [
    "sp.Float(pi,32)"
   ]
  },
  {
   "cell_type": "markdown",
   "id": "forbidden-token",
   "metadata": {},
   "source": [
    "## 6. 平方根,指数,自然對数,絶対値,三角函数\n",
    "|平方根|指数函数|自然対数|絶対値|三角函数|逆三角函数|双曲線函数|\n",
    "|---|---|---|---|---|---|---|\n",
    "|sqrt|exp|ln(=log)|abs|sin|asin|sinh|\n",
    "|    |   |        |   |cos|acos|cosh|\n",
    "|    |   |        |   |tan|atan|tanh|\n",
    "\n",
    "不要無意中設置$ \\sqrt{x^ 2} = x$。 如果x是一個實數 $\\sqrt{x^ 2}=|x|  $"
   ]
  },
  {
   "cell_type": "code",
   "execution_count": 36,
   "id": "korean-street",
   "metadata": {},
   "outputs": [
    {
     "data": {
      "text/latex": [
       "$\\displaystyle \\sqrt{x^{2}}$"
      ],
      "text/plain": [
       "   ____\n",
       "  ╱  2 \n",
       "╲╱  x  "
      ]
     },
     "execution_count": 36,
     "metadata": {},
     "output_type": "execute_result"
    }
   ],
   "source": [
    "x = sp.Symbol('x')\n",
    "sp.sqrt(x**2)"
   ]
  },
  {
   "cell_type": "markdown",
   "id": "recreational-crash",
   "metadata": {},
   "source": [
    "assume假設x為實數，"
   ]
  },
  {
   "cell_type": "code",
   "execution_count": 37,
   "id": "weird-melissa",
   "metadata": {},
   "outputs": [
    {
     "data": {
      "text/latex": [
       "$\\displaystyle \\left|{x}\\right|$"
      ],
      "text/plain": [
       "│x│"
      ]
     },
     "execution_count": 37,
     "metadata": {},
     "output_type": "execute_result"
    }
   ],
   "source": [
    "x=sp.Symbol('x', real=True)\n",
    "sp.sqrt(x**2)"
   ]
  },
  {
   "cell_type": "markdown",
   "id": "advance-emperor",
   "metadata": {},
   "source": [
    "滿足勾股定理的三個整數的示例。 $\\sqrt{3^2+4^2}=5 $ 。"
   ]
  },
  {
   "cell_type": "code",
   "execution_count": 38,
   "id": "statutory-civilization",
   "metadata": {},
   "outputs": [
    {
     "data": {
      "text/latex": [
       "$\\displaystyle 5$"
      ],
      "text/plain": [
       "5"
      ]
     },
     "execution_count": 38,
     "metadata": {},
     "output_type": "execute_result"
    }
   ],
   "source": [
    "sp.sqrt(3**2 + 4**2)"
   ]
  },
  {
   "cell_type": "markdown",
   "id": "impaired-burlington",
   "metadata": {},
   "source": [
    "$exp(1)=e^1=e$ 。"
   ]
  },
  {
   "cell_type": "code",
   "execution_count": 39,
   "id": "optical-labor",
   "metadata": {},
   "outputs": [
    {
     "data": {
      "text/latex": [
       "$\\displaystyle 0$"
      ],
      "text/plain": [
       "0"
      ]
     },
     "execution_count": 39,
     "metadata": {},
     "output_type": "execute_result"
    }
   ],
   "source": [
    "sp.exp(1) - E"
   ]
  },
  {
   "cell_type": "markdown",
   "id": "earlier-quebec",
   "metadata": {},
   "source": [
    "### 6.1. 自然對数"
   ]
  },
  {
   "cell_type": "markdown",
   "id": "active-reasoning",
   "metadata": {},
   "source": [
    "$e^{\\ln a}=a$  "
   ]
  },
  {
   "cell_type": "code",
   "execution_count": 40,
   "id": "executive-apple",
   "metadata": {},
   "outputs": [
    {
     "data": {
      "text/latex": [
       "$\\displaystyle a$"
      ],
      "text/plain": [
       "a"
      ]
     },
     "execution_count": 40,
     "metadata": {},
     "output_type": "execute_result"
    }
   ],
   "source": [
    "a=sp.Symbol(\"a\")\n",
    "sp.exp(sp.log(a))"
   ]
  },
  {
   "cell_type": "markdown",
   "id": "structured-burner",
   "metadata": {},
   "source": [
    "$\\ln e^2=\\log e^2=2 \\log e= log(e^2) = 2$"
   ]
  },
  {
   "cell_type": "code",
   "execution_count": 41,
   "id": "historical-danger",
   "metadata": {
    "jupyter": {
     "source_hidden": true
    },
    "tags": []
   },
   "outputs": [
    {
     "data": {
      "text/latex": [
       "$\\displaystyle 2$"
      ],
      "text/plain": [
       "2"
      ]
     },
     "execution_count": 41,
     "metadata": {},
     "output_type": "execute_result"
    }
   ],
   "source": [
    "sp.log(E**2)"
   ]
  },
  {
   "cell_type": "markdown",
   "id": "outer-communication",
   "metadata": {
    "jupyter": {
     "source_hidden": true
    },
    "tags": []
   },
   "source": [
    "$\\log_28 = log(8,2) $ "
   ]
  },
  {
   "cell_type": "code",
   "execution_count": 42,
   "id": "valued-commodity",
   "metadata": {},
   "outputs": [
    {
     "data": {
      "text/latex": [
       "$\\displaystyle 3$"
      ],
      "text/plain": [
       "3"
      ]
     },
     "execution_count": 42,
     "metadata": {},
     "output_type": "execute_result"
    }
   ],
   "source": [
    "sp.log(8,2)"
   ]
  },
  {
   "cell_type": "markdown",
   "id": "breeding-mortality",
   "metadata": {},
   "source": [
    "$\\lg 100=\\log_{10} 100 = log(100,10) $"
   ]
  },
  {
   "cell_type": "code",
   "execution_count": 43,
   "id": "acoustic-phenomenon",
   "metadata": {},
   "outputs": [
    {
     "data": {
      "text/latex": [
       "$\\displaystyle 2$"
      ],
      "text/plain": [
       "2"
      ]
     },
     "execution_count": 43,
     "metadata": {},
     "output_type": "execute_result"
    }
   ],
   "source": [
    "from sympy.codegen.cfunctions import log10\n",
    "log10(100)"
   ]
  },
  {
   "cell_type": "markdown",
   "id": "improved-munich",
   "metadata": {},
   "source": [
    "###  6.2. 三角函數值/自變量單位\n",
    "如果要通過數字查找三角函數的值，請執行以下操作。\n",
    "\n",
    "$ sin( \\frac{\\pi}{3} )= \\frac{\\sqrt{3}}{2} $"
   ]
  },
  {
   "cell_type": "code",
   "execution_count": 44,
   "id": "binding-hypothetical",
   "metadata": {},
   "outputs": [
    {
     "data": {
      "text/latex": [
       "$\\displaystyle \\frac{\\sqrt{3}}{2}$"
      ],
      "text/plain": [
       "√3\n",
       "──\n",
       "2 "
      ]
     },
     "execution_count": 44,
     "metadata": {},
     "output_type": "execute_result"
    }
   ],
   "source": [
    "sp.sin(pi/3)"
   ]
  },
  {
   "cell_type": "code",
   "execution_count": 45,
   "id": "frozen-bandwidth",
   "metadata": {},
   "outputs": [
    {
     "data": {
      "text/latex": [
       "$\\displaystyle 0.866025403784439$"
      ],
      "text/plain": [
       "0.8660254037844386"
      ]
     },
     "execution_count": 45,
     "metadata": {},
     "output_type": "execute_result"
    }
   ],
   "source": [
    "float(_)"
   ]
  },
  {
   "cell_type": "code",
   "execution_count": 46,
   "id": "retained-plaintiff",
   "metadata": {},
   "outputs": [
    {
     "data": {
      "text/latex": [
       "$\\displaystyle 0.866025403784439$"
      ],
      "text/plain": [
       "0.866025403784439"
      ]
     },
     "execution_count": 46,
     "metadata": {},
     "output_type": "execute_result"
    }
   ],
   "source": [
    "Pi=float(pi)\n",
    "sp.sin(Pi/3)"
   ]
  },
  {
   "cell_type": "markdown",
   "id": "opposite-butter",
   "metadata": {},
   "source": [
    "在上面的示例中，如果輸入浮點數，sin也會在浮點顯示中返回答案。\n",
    "\n",
    "三角函數的自變量單位為弧度。 如果要使用引数，請執行以下操作。\n",
    "\n",
    "\n",
    "60∘  使用轉換為弧度的值60×（π/ 180）計算。"
   ]
  },
  {
   "cell_type": "code",
   "execution_count": 47,
   "id": "criminal-complex",
   "metadata": {},
   "outputs": [
    {
     "data": {
      "text/latex": [
       "$\\displaystyle \\frac{\\sqrt{3}}{2}$"
      ],
      "text/plain": [
       "√3\n",
       "──\n",
       "2 "
      ]
     },
     "execution_count": 47,
     "metadata": {},
     "output_type": "execute_result"
    }
   ],
   "source": [
    "sp.sin(sp.Rational(60, 180)*pi)"
   ]
  },
  {
   "cell_type": "markdown",
   "id": "selected-script",
   "metadata": {},
   "source": [
    "###  6.3. 三角函數化簡trigsimp\n",
    "化簡 $cos^2 x - sin^2 x $ 。"
   ]
  },
  {
   "cell_type": "code",
   "execution_count": 48,
   "id": "verified-enlargement",
   "metadata": {},
   "outputs": [
    {
     "data": {
      "text/latex": [
       "$\\displaystyle \\cos{\\left(2 x \\right)}$"
      ],
      "text/plain": [
       "cos(2⋅x)"
      ]
     },
     "execution_count": 48,
     "metadata": {},
     "output_type": "execute_result"
    }
   ],
   "source": [
    "x=sp.Symbol('x')\n",
    "sp.trigsimp(sp.cos(x)**2 - sp.sin(x)**2)"
   ]
  },
  {
   "cell_type": "code",
   "execution_count": 49,
   "id": "revised-appraisal",
   "metadata": {},
   "outputs": [
    {
     "data": {
      "text/latex": [
       "$\\displaystyle \\sin{\\left(x \\right)} \\cos{\\left(y \\right)} + \\sin{\\left(y \\right)} \\cos{\\left(x \\right)}$"
      ],
      "text/plain": [
       "sin(x)⋅cos(y) + sin(y)⋅cos(x)"
      ]
     },
     "execution_count": 49,
     "metadata": {},
     "output_type": "execute_result"
    }
   ],
   "source": [
    "sp.expand(sp.sin(x + y), trig=True)"
   ]
  },
  {
   "cell_type": "markdown",
   "id": "harmful-demand",
   "metadata": {},
   "source": [
    "cos(3x)  試著展開 。"
   ]
  },
  {
   "cell_type": "code",
   "execution_count": 50,
   "id": "sophisticated-automation",
   "metadata": {},
   "outputs": [
    {
     "data": {
      "text/latex": [
       "$\\displaystyle 4 \\cos^{3}{\\left(x \\right)} - 3 \\cos{\\left(x \\right)}$"
      ],
      "text/plain": [
       "     3              \n",
       "4⋅cos (x) - 3⋅cos(x)"
      ]
     },
     "execution_count": 50,
     "metadata": {},
     "output_type": "execute_result"
    }
   ],
   "source": [
    "sp.expand(sp.cos(3*x), trig=True)"
   ]
  },
  {
   "cell_type": "code",
   "execution_count": 51,
   "id": "dramatic-parish",
   "metadata": {},
   "outputs": [
    {
     "data": {
      "text/latex": [
       "$\\displaystyle \\cos{\\left(3 x \\right)}$"
      ],
      "text/plain": [
       "cos(3⋅x)"
      ]
     },
     "execution_count": 51,
     "metadata": {},
     "output_type": "execute_result"
    }
   ],
   "source": [
    "sp.simplify(_, trig=True) #sp.simplify(_)"
   ]
  },
  {
   "cell_type": "markdown",
   "id": "basic-alabama",
   "metadata": {},
   "source": [
    "## 7. 數列之和summation\n",
    "計算數字總與的函數格式為：summation   \n",
    "summation(一般項 a_i, (i, 初值, 終值)) 。"
   ]
  },
  {
   "cell_type": "code",
   "execution_count": 3,
   "id": "desirable-gambling",
   "metadata": {},
   "outputs": [
    {
     "data": {
      "text/latex": [
       "$\\displaystyle 55$"
      ],
      "text/plain": [
       "55"
      ]
     },
     "execution_count": 3,
     "metadata": {},
     "output_type": "execute_result"
    }
   ],
   "source": [
    "import sympy as sp\n",
    "k=sp.symbols('k',integer=True)\n",
    "sp.summation(k, (k, 1, 10) )"
   ]
  },
  {
   "cell_type": "code",
   "execution_count": 6,
   "id": "furnished-entry",
   "metadata": {
    "tags": []
   },
   "outputs": [
    {
     "data": {
      "text/latex": [
       "$\\displaystyle \\frac{N \\left(N + 1\\right)}{2}$"
      ],
      "text/plain": [
       "N*(N + 1)/2"
      ]
     },
     "execution_count": 6,
     "metadata": {},
     "output_type": "execute_result"
    }
   ],
   "source": [
    "k, N=sp.symbols('k N',integer=True)\n",
    "sp.factor(sp.summation(k, (k, 1, N) ))"
   ]
  },
  {
   "cell_type": "code",
   "execution_count": 8,
   "id": "noticed-insulin",
   "metadata": {},
   "outputs": [
    {
     "data": {
      "text/latex": [
       "$\\displaystyle \\frac{N^{2} \\left(N + 1\\right)^{2}}{4}$"
      ],
      "text/plain": [
       "N**2*(N + 1)**2/4"
      ]
     },
     "execution_count": 8,
     "metadata": {},
     "output_type": "execute_result"
    }
   ],
   "source": [
    "sp.factor(sp.summation(k**3, (k, 1, N) ))"
   ]
  },
  {
   "cell_type": "markdown",
   "id": "special-clear",
   "metadata": {},
   "source": [
    "### 等差數列求和\n",
    "d 公差    \n",
    "$ sum= \\frac{(a_1 + a_n) * N }{2}   $  \n",
    "$ N= \\frac{a_n - a_1}{d} +1  $    \n",
    "1+3+5+7+9+11+..+21  \n",
    "d=2  \n",
    "N=11  "
   ]
  },
  {
   "cell_type": "code",
   "execution_count": 23,
   "id": "japanese-queens",
   "metadata": {},
   "outputs": [
    {
     "name": "stdout",
     "output_type": "stream",
     "text": [
      "121.0\n"
     ]
    },
    {
     "data": {
      "text/latex": [
       "$\\displaystyle 121$"
      ],
      "text/plain": [
       "121"
      ]
     },
     "execution_count": 23,
     "metadata": {},
     "output_type": "execute_result"
    }
   ],
   "source": [
    "print((1+21)*11/2)\n",
    "import sympy as sp\n",
    "i=sp.Symbol('i')\n",
    "d=2\n",
    "sp.summation(1+(i-1)*2, (i, 1,11))"
   ]
  },
  {
   "cell_type": "code",
   "execution_count": 41,
   "id": "configured-purpose",
   "metadata": {},
   "outputs": [
    {
     "data": {
      "text/latex": [
       "$\\displaystyle N \\left(a_{1} - d\\right) + d \\left(\\frac{N^{2}}{2} + \\frac{N}{2}\\right)$"
      ],
      "text/plain": [
       "N*(a1 - d) + d*(N**2/2 + N/2)"
      ]
     },
     "execution_count": 41,
     "metadata": {},
     "output_type": "execute_result"
    }
   ],
   "source": [
    "N=sp.Symbol('N')\n",
    "d=sp.Symbol('d')\n",
    "a1=sp.Symbol('a1')\n",
    "sp.summation(a1+(i-1)*d, (i, 1,N))"
   ]
  },
  {
   "cell_type": "code",
   "execution_count": 42,
   "id": "coordinate-mattress",
   "metadata": {},
   "outputs": [
    {
     "data": {
      "text/latex": [
       "$\\displaystyle \\frac{N \\left(N d + 2 a_{1} - d\\right)}{2}$"
      ],
      "text/plain": [
       "N*(N*d + 2*a1 - d)/2"
      ]
     },
     "execution_count": 42,
     "metadata": {},
     "output_type": "execute_result"
    }
   ],
   "source": [
    "sp.factor(_)"
   ]
  },
  {
   "cell_type": "markdown",
   "id": "twelve-carroll",
   "metadata": {},
   "source": [
    "### 等比數列求和\n",
    "r 公比      \n",
    "$ sum = \\frac{a_1(1-r^N)}{1-r} $   \n",
    "r=3  \n",
    "2+6+18+54+162+....+4374  \n",
    "N=8   \n",
    "2(1-3^8)/(1-3)"
   ]
  },
  {
   "cell_type": "code",
   "execution_count": 25,
   "id": "disturbed-ordering",
   "metadata": {},
   "outputs": [
    {
     "name": "stdout",
     "output_type": "stream",
     "text": [
      "6560\n"
     ]
    },
    {
     "data": {
      "text/latex": [
       "$\\displaystyle 6560$"
      ],
      "text/plain": [
       "6560"
      ]
     },
     "execution_count": 25,
     "metadata": {},
     "output_type": "execute_result"
    }
   ],
   "source": [
    "print(3**8-1)\n",
    "i=sp.Symbol('i')\n",
    "r=3\n",
    "sp.summation(2*r**(i-1), (i, 1, 8))"
   ]
  },
  {
   "cell_type": "code",
   "execution_count": 43,
   "id": "accurate-brain",
   "metadata": {},
   "outputs": [
    {
     "data": {
      "text/latex": [
       "$\\displaystyle \\frac{a_{1} \\left(\\begin{cases} N & \\text{for}\\: r = 1 \\\\\\frac{r - r^{N + 1}}{1 - r} & \\text{otherwise} \\end{cases}\\right)}{r}$"
      ],
      "text/plain": [
       "a1*Piecewise((N, Eq(r, 1)), ((r - r**(N + 1))/(1 - r), True))/r"
      ]
     },
     "execution_count": 43,
     "metadata": {},
     "output_type": "execute_result"
    }
   ],
   "source": [
    "N=sp.Symbol('N')\n",
    "a1=sp.Symbol('a1')\n",
    "r=sp.Symbol('r')\n",
    "sp.summation(a1*r**(i-1), (i, 1, N))"
   ]
  },
  {
   "cell_type": "code",
   "execution_count": 44,
   "id": "boxed-colon",
   "metadata": {},
   "outputs": [
    {
     "data": {
      "text/latex": [
       "$\\displaystyle \\frac{a_{1} \\left(\\begin{cases} N & \\text{for}\\: r = 1 \\\\- \\frac{r r^{N}}{1 - r} + \\frac{r}{1 - r} & \\text{otherwise} \\end{cases}\\right)}{r}$"
      ],
      "text/plain": [
       "a1*Piecewise((N, Eq(r, 1)), (-r*r**N/(1 - r) + r/(1 - r), True))/r"
      ]
     },
     "execution_count": 44,
     "metadata": {},
     "output_type": "execute_result"
    }
   ],
   "source": [
    "sp.factor(_)"
   ]
  },
  {
   "cell_type": "markdown",
   "id": "sophisticated-depth",
   "metadata": {},
   "source": [
    "### 平方和   \n",
    "$\\sum_{i=1}^{10}  i^2$"
   ]
  },
  {
   "cell_type": "code",
   "execution_count": 52,
   "id": "impossible-category",
   "metadata": {},
   "outputs": [
    {
     "data": {
      "text/latex": [
       "$\\displaystyle 385$"
      ],
      "text/plain": [
       "385"
      ]
     },
     "execution_count": 52,
     "metadata": {},
     "output_type": "execute_result"
    }
   ],
   "source": [
    "i=sp.Symbol('i')\n",
    "sp.summation(i**2, (i, 1, 10))"
   ]
  },
  {
   "cell_type": "markdown",
   "id": "cross-justice",
   "metadata": {},
   "source": [
    "N数列指數和\n",
    "\n",
    "$\\sum_{i=1}^{N} i^2  = \\frac{N(N+1)(2N+1)}{6}$ "
   ]
  },
  {
   "cell_type": "code",
   "execution_count": 53,
   "id": "boxed-musician",
   "metadata": {},
   "outputs": [
    {
     "data": {
      "text/latex": [
       "$\\displaystyle \\frac{N^{3}}{3} + \\frac{N^{2}}{2} + \\frac{N}{6}$"
      ],
      "text/plain": [
       " 3    2    \n",
       "N    N    N\n",
       "── + ── + ─\n",
       "3    2    6"
      ]
     },
     "execution_count": 53,
     "metadata": {},
     "output_type": "execute_result"
    }
   ],
   "source": [
    "N=sp.Symbol('N')\n",
    "sp.summation(i**2, (i, 1, N))"
   ]
  },
  {
   "cell_type": "code",
   "execution_count": 54,
   "id": "young-boston",
   "metadata": {},
   "outputs": [
    {
     "data": {
      "text/latex": [
       "$\\displaystyle \\frac{N \\left(N + 1\\right) \\left(2 N + 1\\right)}{6}$"
      ],
      "text/plain": [
       "N⋅(N + 1)⋅(2⋅N + 1)\n",
       "───────────────────\n",
       "         6         "
      ]
     },
     "execution_count": 54,
     "metadata": {},
     "output_type": "execute_result"
    }
   ],
   "source": [
    "sp.factor(_)"
   ]
  },
  {
   "cell_type": "markdown",
   "id": "large-draft",
   "metadata": {},
   "source": [
    "## 8. 數列之積product\n",
    "$$\\prod_{k=1}^{10} k= 10!$$\n"
   ]
  },
  {
   "cell_type": "code",
   "execution_count": 9,
   "id": "enabling-joyce",
   "metadata": {},
   "outputs": [
    {
     "data": {
      "text/latex": [
       "$\\displaystyle 3628800$"
      ],
      "text/plain": [
       "3628800"
      ]
     },
     "execution_count": 9,
     "metadata": {},
     "output_type": "execute_result"
    }
   ],
   "source": [
    "k=sp.symbols('k',integer=True)\n",
    "sp.product(k, (k, 1, 10) )"
   ]
  },
  {
   "cell_type": "code",
   "execution_count": 10,
   "id": "nervous-brighton",
   "metadata": {},
   "outputs": [
    {
     "data": {
      "text/plain": [
       "True"
      ]
     },
     "execution_count": 10,
     "metadata": {},
     "output_type": "execute_result"
    }
   ],
   "source": [
    "sp.factorial(10)==sp.product(k, (k, 1, 10) )"
   ]
  },
  {
   "cell_type": "markdown",
   "id": "french-arrangement",
   "metadata": {},
   "source": [
    "## 9. 概率\n",
    "Let's roll two dice, X and Y, with six faces each"
   ]
  },
  {
   "cell_type": "code",
   "execution_count": 55,
   "id": "hidden-promotion",
   "metadata": {},
   "outputs": [],
   "source": [
    "import sympy as sp \n",
    "from sympy.stats import *\n",
    "sp.init_printing()\n",
    "#Let's roll two dice, X and Y, with six faces each\n",
    "X, Y = Die('X', 6), Die('Y', 6)"
   ]
  },
  {
   "cell_type": "code",
   "execution_count": 56,
   "id": "dense-storm",
   "metadata": {},
   "outputs": [
    {
     "data": {
      "text/latex": [
       "$\\displaystyle \\frac{1}{6}$"
      ],
      "text/plain": [
       "1/6"
      ]
     },
     "execution_count": 56,
     "metadata": {},
     "output_type": "execute_result"
    }
   ],
   "source": [
    "P(sp.Eq(X, 3))"
   ]
  },
  {
   "cell_type": "code",
   "execution_count": 57,
   "id": "prescription-tuition",
   "metadata": {},
   "outputs": [
    {
     "data": {
      "text/latex": [
       "$\\displaystyle \\frac{1}{36}$"
      ],
      "text/plain": [
       "1/36"
      ]
     },
     "execution_count": 57,
     "metadata": {},
     "output_type": "execute_result"
    }
   ],
   "source": [
    "P(sp.Eq(X, 3)) * P(sp.Eq(X, 1))"
   ]
  },
  {
   "cell_type": "code",
   "execution_count": 58,
   "id": "demonstrated-script",
   "metadata": {},
   "outputs": [
    {
     "data": {
      "text/latex": [
       "$\\displaystyle \\frac{5}{12}$"
      ],
      "text/plain": [
       "5/12"
      ]
     },
     "execution_count": 58,
     "metadata": {},
     "output_type": "execute_result"
    }
   ],
   "source": [
    "P(X > Y)"
   ]
  },
  {
   "cell_type": "code",
   "execution_count": 59,
   "id": "presidential-drove",
   "metadata": {},
   "outputs": [
    {
     "data": {
      "text/latex": [
       "$\\displaystyle \\frac{5}{12}$"
      ],
      "text/plain": [
       "5/12"
      ]
     },
     "execution_count": 59,
     "metadata": {},
     "output_type": "execute_result"
    }
   ],
   "source": [
    "P(X + Y > 6, X < 5)"
   ]
  },
  {
   "cell_type": "markdown",
   "id": "necessary-exchange",
   "metadata": {},
   "source": [
    "## 10. 矩陣"
   ]
  },
  {
   "cell_type": "markdown",
   "id": "fresh-adapter",
   "metadata": {},
   "source": [
    "### Part1 矩陣A 的逆矩陣A.inv()  \n",
    "   \n",
    "A=  \n",
    "\\begin{pmatrix}\n",
    "a & b \\\\\n",
    "c & d\n",
    "\\end{pmatrix}\n",
    "$  A \\cdot A^{-1} = I $   \n",
    "逆矩陣 Inverse Martix   \n",
    "$ A^{-1}= \\frac {1}{ad-cb} \\cdot \\begin{pmatrix} d & -b \\\\ -c & a \\end{pmatrix} $"
   ]
  },
  {
   "cell_type": "code",
   "execution_count": 60,
   "id": "metric-office",
   "metadata": {},
   "outputs": [
    {
     "data": {
      "text/latex": [
       "$\\displaystyle \\left[\\begin{matrix}4 & 7\\\\2 & 6\\end{matrix}\\right]$"
      ],
      "text/plain": [
       "⎡4  7⎤\n",
       "⎢    ⎥\n",
       "⎣2  6⎦"
      ]
     },
     "metadata": {},
     "output_type": "display_data"
    },
    {
     "data": {
      "text/latex": [
       "$\\displaystyle \\frac{1}{10}$"
      ],
      "text/plain": [
       "1/10"
      ]
     },
     "metadata": {},
     "output_type": "display_data"
    },
    {
     "data": {
      "text/latex": [
       "$\\displaystyle \\left[\\begin{matrix}6 & -7\\\\-2 & 4\\end{matrix}\\right]$"
      ],
      "text/plain": [
       "⎡6   -7⎤\n",
       "⎢      ⎥\n",
       "⎣-2  4 ⎦"
      ]
     },
     "metadata": {},
     "output_type": "display_data"
    },
    {
     "data": {
      "text/latex": [
       "$\\displaystyle \\left[\\begin{matrix}\\frac{3}{5} & - \\frac{7}{10}\\\\- \\frac{1}{5} & \\frac{2}{5}\\end{matrix}\\right]$"
      ],
      "text/plain": [
       "⎡3/5   -7/10⎤\n",
       "⎢           ⎥\n",
       "⎣-1/5   2/5 ⎦"
      ]
     },
     "metadata": {},
     "output_type": "display_data"
    },
    {
     "data": {
      "text/latex": [
       "$\\displaystyle \\left[\\begin{matrix}1 & 0\\\\0 & 1\\end{matrix}\\right]$"
      ],
      "text/plain": [
       "⎡1  0⎤\n",
       "⎢    ⎥\n",
       "⎣0  1⎦"
      ]
     },
     "metadata": {},
     "output_type": "display_data"
    }
   ],
   "source": [
    "a=4;b=7;c=2;d=6\n",
    "A=sp.Matrix([[a, b],[c,d]])\n",
    "display(A)\n",
    "display(sp.S(1)/(a*d-b*c))\n",
    "A1=sp.Matrix([[d, -b],[-c,a]])\n",
    "display(A1)\n",
    "display(A.inv())\n",
    "display(A.inv() *A)"
   ]
  },
  {
   "cell_type": "markdown",
   "id": "fourth-england",
   "metadata": {},
   "source": [
    "### Part2 矩陣運算AX=b, X? X=A^-1 * b\n",
    "設有 AX=b :   \n",
    "A=  \n",
    "\\begin{pmatrix}  \n",
    "1 & 2 & 5\\\\\n",
    "3 & 4 & 6\\\\\n",
    "-1 & 0 & 3\n",
    "\\end{pmatrix}  \n",
    "b=  \n",
    "\\begin{pmatrix}  \n",
    "1 \\\\ 0 \\\\ -2\n",
    "\\end{pmatrix} \n",
    "\n",
    "建立 A 和 b 矩陣\n"
   ]
  },
  {
   "cell_type": "code",
   "execution_count": 61,
   "id": "competitive-demonstration",
   "metadata": {},
   "outputs": [
    {
     "name": "stdout",
     "output_type": "stream",
     "text": [
      "⎡1   2  5⎤\n",
      "⎢        ⎥\n",
      "⎢3   4  6⎥\n",
      "⎢        ⎥\n",
      "⎣-1  0  3⎦\n",
      "⎡1 ⎤\n",
      "⎢  ⎥\n",
      "⎢0 ⎥\n",
      "⎢  ⎥\n",
      "⎣-2⎦\n"
     ]
    }
   ],
   "source": [
    "A=sp.Matrix([[1,2,5],[3,4,6,],[-1,0,3]])\n",
    "b=sp.Matrix([1,0,-2])\n",
    "sp.pprint(A)\n",
    "sp.pprint(b)"
   ]
  },
  {
   "cell_type": "markdown",
   "id": "flexible-gentleman",
   "metadata": {},
   "source": [
    "### Part3 solve for matrix X\n",
    "For the system in Part a, solve for matrix X by matrix algebra."
   ]
  },
  {
   "cell_type": "code",
   "execution_count": 62,
   "id": "subtle-navigation",
   "metadata": {},
   "outputs": [
    {
     "name": "stdout",
     "output_type": "stream",
     "text": [
      "⎡ 14  ⎤\n",
      "⎢     ⎥\n",
      "⎢-33/2⎥\n",
      "⎢     ⎥\n",
      "⎣  4  ⎦\n"
     ]
    }
   ],
   "source": [
    "sp.pprint(A.inv()*b)  "
   ]
  },
  {
   "cell_type": "markdown",
   "id": "approved-morris",
   "metadata": {},
   "source": [
    "### Part4 matrix slic\n",
    "For matrix A above, return the middle row, and the middle column."
   ]
  },
  {
   "cell_type": "code",
   "execution_count": 63,
   "id": "unlikely-gossip",
   "metadata": {},
   "outputs": [
    {
     "name": "stdout",
     "output_type": "stream",
     "text": [
      "⎡1   2  5⎤\n",
      "⎢        ⎥\n",
      "⎢3   4  6⎥\n",
      "⎢        ⎥\n",
      "⎣-1  0  3⎦\n",
      "[3  4  6]\n",
      "⎡2⎤\n",
      "⎢ ⎥\n",
      "⎢4⎥\n",
      "⎢ ⎥\n",
      "⎣0⎦\n",
      "⎡2  5⎤\n",
      "⎢    ⎥\n",
      "⎢4  6⎥\n",
      "⎢    ⎥\n",
      "⎣0  3⎦\n",
      "⎡2  5⎤\n",
      "⎢    ⎥\n",
      "⎢4  6⎥\n",
      "⎢    ⎥\n",
      "⎣0  3⎦\n",
      "⎡1   2⎤\n",
      "⎢     ⎥\n",
      "⎢3   4⎥\n",
      "⎢     ⎥\n",
      "⎣-1  0⎦\n"
     ]
    }
   ],
   "source": [
    "sp.pprint(A)\n",
    "sp.pprint(A[1:2,:])\n",
    "sp.pprint(A[:,1:2])\n",
    "sp.pprint(A[:,1:3])\n",
    "sp.pprint(A[:,1:])\n",
    "sp.pprint(A[:,0:-1])"
   ]
  },
  {
   "cell_type": "markdown",
   "id": "equal-cyprus",
   "metadata": {},
   "source": [
    "### Part5: 矩陣應用題\n",
    "一組人坐巴士或火車,分別有小童和大人票\n",
    "- 坐巴士 小童 3 元 ,大人 3.20 元,共用了118.40元\n",
    "- 坐火車 小童 3.5 元 ,大人 3.60 元,共用了135.20元\n",
    "[參考:巴士和火車](https://www.mathsisfun.com/algebra/matrix-inverse.html)\n",
    "![](https://www.mathsisfun.com/algebra/images/matrix-inverse-2x2-exr1.svg)  \n",
    "以上例子得出式子:  \n",
    "XA = B  \n",
    "先求$A^{-1}　$:  \n",
    "![](https://www.mathsisfun.com/algebra/images/matrix-inverse-2x2-exr2.gif)  \n",
    "求解X:  \n",
    "$$ X = BA^{-1}$$\n",
    "![](https://www.mathsisfun.com/algebra/images/matrix-inverse-2x2-exr3.gif)  \n",
    "結果:小童 16 人, 大人22 人!  "
   ]
  },
  {
   "cell_type": "code",
   "execution_count": 64,
   "id": "dressed-absence",
   "metadata": {},
   "outputs": [
    {
     "data": {
      "text/latex": [
       "$\\displaystyle \\left[\\begin{matrix}3 & 3.5\\\\3.2 & 3.6\\end{matrix}\\right]$"
      ],
      "text/plain": [
       "⎡ 3   3.5⎤\n",
       "⎢        ⎥\n",
       "⎣3.2  3.6⎦"
      ]
     },
     "metadata": {},
     "output_type": "display_data"
    },
    {
     "data": {
      "text/latex": [
       "$\\displaystyle -2.5$"
      ],
      "text/plain": [
       "-2.50000000000000"
      ]
     },
     "metadata": {},
     "output_type": "display_data"
    },
    {
     "data": {
      "text/latex": [
       "$\\displaystyle \\left[\\begin{matrix}3.6 & -3.5\\\\-3.2 & 3\\end{matrix}\\right]$"
      ],
      "text/plain": [
       "⎡3.6   -3.5⎤\n",
       "⎢          ⎥\n",
       "⎣-3.2   3  ⎦"
      ]
     },
     "metadata": {},
     "output_type": "display_data"
    },
    {
     "data": {
      "text/latex": [
       "$\\displaystyle \\left[\\begin{matrix}-8.99999999999999 & 8.74999999999999\\\\7.99999999999999 & -7.49999999999999\\end{matrix}\\right]$"
      ],
      "text/plain": [
       "⎡-8.99999999999999  8.74999999999999 ⎤\n",
       "⎢                                    ⎥\n",
       "⎣7.99999999999999   -7.49999999999999⎦"
      ]
     },
     "metadata": {},
     "output_type": "display_data"
    },
    {
     "data": {
      "text/latex": [
       "$\\displaystyle \\left[\\begin{matrix}118.4 & 135.2\\end{matrix}\\right]$"
      ],
      "text/plain": [
       "[118.4  135.2]"
      ]
     },
     "metadata": {},
     "output_type": "display_data"
    },
    {
     "data": {
      "text/latex": [
       "$\\displaystyle \\left[\\begin{matrix}15.9999999999998 & 22.0000000000003\\end{matrix}\\right]$"
      ],
      "text/plain": [
       "[15.9999999999998  22.0000000000003]"
      ]
     },
     "metadata": {},
     "output_type": "display_data"
    }
   ],
   "source": [
    "a=3;b=3.5;c=3.2;d=3.6\n",
    "A=sp.Matrix([[a, b],[c,d]])\n",
    "display(A)\n",
    "display(sp.S(1)/(a*d-b*c))\n",
    "A1=sp.Matrix([[d, -b],[-c,a]])\n",
    "display(A1)\n",
    "display(A.inv())\n",
    "B=sp.Matrix([[118.4,135.2]])\n",
    "display(B)\n",
    "display(B*A.inv())"
   ]
  },
  {
   "cell_type": "markdown",
   "id": "large-sculpture",
   "metadata": {
    "tags": []
   },
   "source": [
    "方法二:\n",
    "AX=B  \n",
    "![](https://www.mathsisfun.com/algebra/images/matrix-inverse-2x2-exs1.gif)   \n",
    "A=\\begin{pmatrix} 3 & 3.2 \\\\3.5 & 3.6 \\end{pmatrix}  \n",
    "B=\\begin{pmatrix} 118.4 \\\\135.2 \\end{pmatrix}     \n",
    "X=\\begin{pmatrix}X1 \\\\X2 \\end{pmatrix}  \n",
    "$ A^{-1} * A X= A^{-1} B ;  IX= A^{-1} B  $ "
   ]
  },
  {
   "cell_type": "code",
   "execution_count": null,
   "id": "herbal-grounds",
   "metadata": {},
   "outputs": [],
   "source": []
  },
  {
   "cell_type": "markdown",
   "id": "diagnostic-brave",
   "metadata": {},
   "source": [
    "## 11: limit 極限, diff 微分, integrate積分\n",
    "### part a : limit diff integrate\n"
   ]
  },
  {
   "cell_type": "code",
   "execution_count": 14,
   "id": "silver-warrant",
   "metadata": {},
   "outputs": [
    {
     "data": {
      "text/latex": [
       "$ \\lim_{x \\to 0} \\frac{\\sin{\\left(x \\right)}}{x} = 1 $"
      ],
      "text/plain": [
       "<IPython.core.display.Latex object>"
      ]
     },
     "metadata": {},
     "output_type": "display_data"
    }
   ],
   "source": [
    "import sympy as sp\n",
    "from IPython.display import Latex,HTML,Markdown   #網頁顯示數學符號\n",
    "x, y, z = sp.symbols('x y z')\n",
    "\n",
    "expr = sp.sin(x)/x\n",
    "\n",
    "limit_val=sp.limit(expr, x, 0)\n",
    "\n",
    "display(Latex(r\"$ \\lim_{x \\to 0} %s = %s $\"%(sp.latex(expr),limit_val))) #\\infty"
   ]
  },
  {
   "cell_type": "code",
   "execution_count": 16,
   "id": "moral-patient",
   "metadata": {},
   "outputs": [
    {
     "data": {
      "text/latex": [
       "$\\displaystyle e^{x} \\sin{\\left(x \\right)}$"
      ],
      "text/plain": [
       "exp(x)*sin(x)"
      ]
     },
     "metadata": {},
     "output_type": "display_data"
    },
    {
     "data": {
      "text/latex": [
       "$\\displaystyle e^{x} \\sin{\\left(x \\right)} + e^{x} \\cos{\\left(x \\right)}$"
      ],
      "text/plain": [
       "exp(x)*sin(x) + exp(x)*cos(x)"
      ]
     },
     "metadata": {},
     "output_type": "display_data"
    },
    {
     "data": {
      "text/latex": [
       "$\\displaystyle 2 e^{x} \\cos{\\left(x \\right)}$"
      ],
      "text/plain": [
       "2*exp(x)*cos(x)"
      ]
     },
     "metadata": {},
     "output_type": "display_data"
    }
   ],
   "source": [
    "#可使用diff(表达式,变量,求导的次数)函数对表达式求导\n",
    "#求导，以及求导两次，代码以下：\n",
    "#导一次的结果就是exp(x)*sin(x) + exp(x)*cos(x)，也就是\n",
    "#导两次的结果是2*exp(x)*cos(x)，也就是\n",
    "x,y = sp.symbols('x y')\n",
    "expr=sp.sin(x)*sp.exp(x)\n",
    "display(expr)\n",
    "diff_expr=sp.diff(expr, x)\n",
    "diff_expr2=sp.diff(expr,x,2)\n",
    "display(diff_expr)\n",
    "display(diff_expr2)"
   ]
  },
  {
   "cell_type": "code",
   "execution_count": 18,
   "id": "raised-rough",
   "metadata": {},
   "outputs": [
    {
     "data": {
      "text/latex": [
       "$\\displaystyle e^{x} \\sin{\\left(x \\right)}$"
      ],
      "text/plain": [
       "exp(x)*sin(x)"
      ]
     },
     "metadata": {},
     "output_type": "display_data"
    }
   ],
   "source": [
    "#求不定积分\n",
    "#Sympy是使用integrate(表达式,变量)来求不定积分的，好比咱们要求\n",
    "\n",
    "from sympy import *\n",
    "x,y = symbols('x y')\n",
    "expr=exp(x)*sin(x) + exp(x)*cos(x)\n",
    "i_expr=integrate(expr,x)\n",
    "display(i_expr)\n",
    "\n",
    "#执行以后的结果为：exp(x)*sin(x) 转化以后为："
   ]
  },
  {
   "cell_type": "code",
   "execution_count": 19,
   "id": "white-findings",
   "metadata": {},
   "outputs": [
    {
     "data": {
      "text/latex": [
       "$\\displaystyle \\frac{\\sqrt{2} \\sqrt{\\pi}}{2}$"
      ],
      "text/plain": [
       "sqrt(2)*sqrt(pi)/2"
      ]
     },
     "metadata": {},
     "output_type": "display_data"
    }
   ],
   "source": [
    "#求定积分\n",
    "#Sympy一样是使用integrate()函数来作定积分的求解，只是语法不一样：integrate(表达式,(变量,下区间,上区间))，咱们来看若是求解\n",
    "from sympy import *\n",
    "x,y = symbols('x y')\n",
    "expr=sin(x**2)\n",
    "i_expr=integrate(expr, (x, -oo, oo))\n",
    "display(i_expr)\n",
    "#执行以后的结果为sqrt(2)*sqrt(pi)/2"
   ]
  },
  {
   "cell_type": "markdown",
   "id": "annual-motel",
   "metadata": {},
   "source": [
    "\n",
    "### part b. diff\n",
    "Compute the symbolic derivative:  $\\frac{d}{dx} sin^2(x) e^{2x}$\n",
    "    \n",
    "\n",
    "Then evalute the resulting expression for x=3.3"
   ]
  },
  {
   "cell_type": "code",
   "execution_count": 20,
   "id": "swedish-liabilities",
   "metadata": {},
   "outputs": [
    {
     "data": {
      "text/latex": [
       "$\\displaystyle 2 e^{2 x} \\sin^{2}{\\left(x \\right)} + 2 e^{2 x} \\sin{\\left(x \\right)} \\cos{\\left(x \\right)}$"
      ],
      "text/plain": [
       "2*exp(2*x)*sin(x)**2 + 2*exp(2*x)*sin(x)*cos(x)"
      ]
     },
     "metadata": {},
     "output_type": "display_data"
    },
    {
     "data": {
      "text/latex": [
       "$\\displaystyle 74.2461834352833$"
      ],
      "text/plain": [
       "74.2461834352833"
      ]
     },
     "execution_count": 20,
     "metadata": {},
     "output_type": "execute_result"
    }
   ],
   "source": [
    "y=(sp.sin(x))**2 * sp.exp(2*x)\n",
    "z=sp.diff(y,x)\n",
    "display(z)\n",
    "z.subs({x:3.2})\n",
    "z.subs(x,3.2)"
   ]
  },
  {
   "cell_type": "markdown",
   "id": "proprietary-flash",
   "metadata": {},
   "source": [
    "### part c. integral\n",
    "Create a sympy expression representing the following integral:\n",
    "\n",
    "  integral(0..5) $x^2 sin(x^2) dx$\n",
    "  $$ \\int_{0}^{5} x^2 sin(x^2) \\,dx .$$\n",
    "    \n",
    "Then evaluate the integral symbolically.\n",
    "    "
   ]
  },
  {
   "cell_type": "code",
   "execution_count": 21,
   "id": "greenhouse-correlation",
   "metadata": {},
   "outputs": [
    {
     "name": "stdout",
     "output_type": "stream",
     "text": [
      "-25*cos(25)*gamma(5/4)/(8*gamma(9/4)) + 5*sqrt(2)*sqrt(pi)*fresnelc(5*sqrt(2)/sqrt(pi))*gamma(5/4)/(16*gamma(9/4))\n",
      "                               ⎛5⋅√2⎞       \n",
      "                      5⋅√2⋅√π⋅C⎜────⎟⋅Γ(5/4)\n",
      "  25⋅cos(25)⋅Γ(5/4)            ⎝ √π ⎠       \n",
      "- ───────────────── + ──────────────────────\n",
      "       8⋅Γ(9/4)             16⋅Γ(9/4)       \n"
     ]
    },
    {
     "data": {
      "text/latex": [
       "$\\displaystyle - \\frac{25 \\cos{\\left(25 \\right)} \\Gamma\\left(\\frac{5}{4}\\right)}{8 \\Gamma\\left(\\frac{9}{4}\\right)} + \\frac{5 \\sqrt{2} \\sqrt{\\pi} C\\left(\\frac{5 \\sqrt{2}}{\\sqrt{\\pi}}\\right) \\Gamma\\left(\\frac{5}{4}\\right)}{16 \\Gamma\\left(\\frac{9}{4}\\right)}$"
      ],
      "text/plain": [
       "-25*cos(25)*gamma(5/4)/(8*gamma(9/4)) + 5*sqrt(2)*sqrt(pi)*fresnelc(5*sqrt(2)/sqrt(pi))*gamma(5/4)/(16*gamma(9/4))"
      ]
     },
     "execution_count": 21,
     "metadata": {},
     "output_type": "execute_result"
    }
   ],
   "source": [
    "f=x**2 * sp.sin(x**2)\n",
    "g=sp.integrate(f,(x,0,5))\n",
    "print(g)\n",
    "sp.pprint(g)\n",
    "g.evalf()\n",
    "g"
   ]
  },
  {
   "cell_type": "markdown",
   "id": "unsigned-liability",
   "metadata": {},
   "source": [
    "### Part d. dsolve\n",
    "Solve the following differential equation symbolically using the dsolve function: $$\\frac{df(x)}{dx} = x \\cos(x) .$$"
   ]
  },
  {
   "cell_type": "code",
   "execution_count": 22,
   "id": "careful-protest",
   "metadata": {},
   "outputs": [
    {
     "name": "stdout",
     "output_type": "stream",
     "text": [
      "Eq(f(x), C1 + x*sin(x) + cos(x))\n"
     ]
    },
    {
     "data": {
      "text/latex": [
       "$\\displaystyle x \\sin{\\left(x \\right)} + \\cos{\\left(x \\right)}$"
      ],
      "text/plain": [
       "x*sin(x) + cos(x)"
      ]
     },
     "execution_count": 22,
     "metadata": {},
     "output_type": "execute_result"
    }
   ],
   "source": [
    "f=sp.Function('f')\n",
    "y=sp.dsolve(sp.Derivative(f(x),x)-x*sp.cos(x),f(x))\n",
    "print(y)\n",
    "z=sp.integrate(x* sp.cos(x))\n",
    "z"
   ]
  }
 ],
 "metadata": {
  "kernelspec": {
   "display_name": "Python 3",
   "language": "python",
   "name": "python3"
  },
  "language_info": {
   "codemirror_mode": {
    "name": "ipython",
    "version": 3
   },
   "file_extension": ".py",
   "mimetype": "text/x-python",
   "name": "python",
   "nbconvert_exporter": "python",
   "pygments_lexer": "ipython3",
   "version": "3.9.5"
  }
 },
 "nbformat": 4,
 "nbformat_minor": 5
}

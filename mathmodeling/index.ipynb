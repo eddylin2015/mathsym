{
 "cells": [
  {
   "cell_type": "markdown",
   "id": "informal-deficit",
   "metadata": {},
   "source": [
    "## Python 数学建模筆記\n",
    "\n",
    "🐻‍❄️: 阿尖🐧,Python数学建模,使用工具有哪些? \n",
    "\n",
    "🐧 : 參考網友總結如下:\n",
    "\n",
    "- 科学计算基础库： Numpy\n",
    "- 高级科学计算库： SciPy\n",
    "- 非常好用的数据处理库： Pandas\n",
    "- 大部分人用起来很丑的基础绘图库： Matplotlib\n",
    "- 还挺好用的符号计算库： SymPy\n",
    "- 简单图像处理库： Pillow \n",
    "\n",
    "還有沒有用的  \n",
    "- 与Python科学计算生态完美融合的概率统计库： Statsmodels\n",
    "- 高级绘图库： Seaborn\n",
    "- 机器学习库： SKlearn\n",
    "- 成熟的网络科学库： NetworkX\n",
    "- 谷狗的通用运筹学工具： ortools\n",
    "- 专用凸优化求解器： CVXPY（一般也用不上）\n",
    "- 还想要做复杂的图像处理： Opencv-python\n",
    "- 如果真的想用深度学习的话： PyTorch\n",
    "- 小波变换库： PyWavelets\n",
    "\n",
    "icpc\n",
    "\n",
    "https://icpc.global/worldfinals/finalsproblem"
   ]
  },
  {
   "cell_type": "markdown",
   "id": "nasty-place",
   "metadata": {},
   "source": [
    "# 2 Python"
   ]
  },
  {
   "cell_type": "code",
   "execution_count": null,
   "id": "adapted-composition",
   "metadata": {},
   "outputs": [],
   "source": []
  },
  {
   "cell_type": "markdown",
   "id": "aging-nickel",
   "metadata": {},
   "source": [
    "# 3 線性代數"
   ]
  },
  {
   "cell_type": "code",
   "execution_count": null,
   "id": "conceptual-tuner",
   "metadata": {},
   "outputs": [],
   "source": []
  },
  {
   "cell_type": "markdown",
   "id": "brutal-aruba",
   "metadata": {},
   "source": [
    "# 4 線性/整數規劃"
   ]
  },
  {
   "cell_type": "code",
   "execution_count": null,
   "id": "weird-liver",
   "metadata": {
    "tags": []
   },
   "outputs": [],
   "source": []
  },
  {
   "cell_type": "markdown",
   "id": "confused-replacement",
   "metadata": {},
   "source": [
    "# 5 非線性代數"
   ]
  },
  {
   "cell_type": "code",
   "execution_count": null,
   "id": "constitutional-friendly",
   "metadata": {},
   "outputs": [],
   "source": []
  },
  {
   "cell_type": "markdown",
   "id": "purple-danish",
   "metadata": {},
   "source": [
    "# 6 圖論"
   ]
  },
  {
   "cell_type": "code",
   "execution_count": null,
   "id": "complex-envelope",
   "metadata": {},
   "outputs": [],
   "source": []
  },
  {
   "cell_type": "markdown",
   "id": "infinite-fleet",
   "metadata": {},
   "source": [
    "# 7 插值，似合"
   ]
  },
  {
   "cell_type": "code",
   "execution_count": null,
   "id": "sustainable-yield",
   "metadata": {},
   "outputs": [],
   "source": []
  },
  {
   "cell_type": "markdown",
   "id": "roman-nursery",
   "metadata": {},
   "source": [
    "# 8 常微分/差分方程"
   ]
  },
  {
   "cell_type": "code",
   "execution_count": null,
   "id": "located-russell",
   "metadata": {},
   "outputs": [],
   "source": []
  },
  {
   "cell_type": "markdown",
   "id": "alternate-arcade",
   "metadata": {},
   "source": [
    "# 9 統計方法\n",
    "Nump、scipy.stats、Statsmodel  "
   ]
  },
  {
   "cell_type": "code",
   "execution_count": null,
   "id": "antique-contributor",
   "metadata": {},
   "outputs": [],
   "source": []
  },
  {
   "cell_type": "markdown",
   "id": "cooked-blade",
   "metadata": {},
   "source": [
    "# 10 回歸分析"
   ]
  },
  {
   "cell_type": "code",
   "execution_count": null,
   "id": "fixed-mounting",
   "metadata": {},
   "outputs": [],
   "source": []
  },
  {
   "cell_type": "markdown",
   "id": "utility-resident",
   "metadata": {},
   "source": [
    "# 11 聚合/判別分析"
   ]
  },
  {
   "cell_type": "code",
   "execution_count": null,
   "id": "still-spider",
   "metadata": {},
   "outputs": [],
   "source": []
  },
  {
   "cell_type": "markdown",
   "id": "aboriginal-forge",
   "metadata": {},
   "source": [
    "# 12 主成分/因子分析"
   ]
  },
  {
   "cell_type": "code",
   "execution_count": null,
   "id": "close-heater",
   "metadata": {},
   "outputs": [],
   "source": []
  },
  {
   "cell_type": "markdown",
   "id": "biblical-tomorrow",
   "metadata": {},
   "source": [
    "# 13 偏最小二乘回歸分析"
   ]
  },
  {
   "cell_type": "code",
   "execution_count": null,
   "id": "piano-spirit",
   "metadata": {},
   "outputs": [],
   "source": []
  },
  {
   "cell_type": "markdown",
   "id": "deadly-plasma",
   "metadata": {},
   "source": [
    "# 14 綜合評價方法"
   ]
  },
  {
   "cell_type": "code",
   "execution_count": null,
   "id": "oriental-retirement",
   "metadata": {},
   "outputs": [],
   "source": []
  },
  {
   "cell_type": "markdown",
   "id": "canadian-yukon",
   "metadata": {},
   "source": [
    "# 15 預測方法"
   ]
  },
  {
   "cell_type": "code",
   "execution_count": null,
   "id": "applied-subdivision",
   "metadata": {},
   "outputs": [],
   "source": []
  },
  {
   "cell_type": "markdown",
   "id": "operating-dating",
   "metadata": {},
   "source": [
    "# 16 慱弈論"
   ]
  },
  {
   "cell_type": "code",
   "execution_count": null,
   "id": "optimum-timer",
   "metadata": {},
   "outputs": [],
   "source": []
  },
  {
   "cell_type": "markdown",
   "id": "dominican-mouse",
   "metadata": {},
   "source": [
    "# 偏微分方程"
   ]
  },
  {
   "cell_type": "code",
   "execution_count": null,
   "id": "educational-draft",
   "metadata": {},
   "outputs": [],
   "source": []
  }
 ],
 "metadata": {
  "kernelspec": {
   "display_name": "Python 3",
   "language": "python",
   "name": "python3"
  },
  "language_info": {
   "codemirror_mode": {
    "name": "ipython",
    "version": 3
   },
   "file_extension": ".py",
   "mimetype": "text/x-python",
   "name": "python",
   "nbconvert_exporter": "python",
   "pygments_lexer": "ipython3",
   "version": "3.9.10"
  }
 },
 "nbformat": 4,
 "nbformat_minor": 5
}

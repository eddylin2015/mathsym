{
 "cells": [
  {
   "cell_type": "markdown",
   "id": "federal-bottle",
   "metadata": {},
   "source": [
    "# 電腦數學符號運算"
   ]
  },
  {
   "cell_type": "markdown",
   "id": "minus-proposition",
   "metadata": {},
   "source": [
    "### 第3節. 整式的乘法公式法平方差 \n",
    "安裝 Python 3.9.5\n",
    "- pip install numpy\n",
    "- pip install sympy\n",
    "- pip install jupyterlab\n",
    "- lib.py 自定義函數庫"
   ]
  },
  {
   "cell_type": "markdown",
   "id": "established-median",
   "metadata": {},
   "source": [
    "整式的乘法公式平方差公式  \n",
    "$(px+qy)(px-qy)= ax^2-by^2, a=p2, b=q2$    "
   ]
  },
  {
   "cell_type": "code",
   "execution_count": 38,
   "id": "breathing-definition",
   "metadata": {},
   "outputs": [
    {
     "data": {
      "text/markdown": [
       "號|題|值|答|檢查|題型|提示\n",
       "--|--|--|--|--|--|--\n",
       "0|$$0$$|\\left(8 - 16 x\\right)^{2}|256*x**2 - 256*x + 64||0|0|12:24|xyz|None|None|None|None\n",
       "1|$$0$$|\\left(6 y + 13\\right)^{2}|36*y**2 + 156*y + 169||0|0|12:24|xyz|None|None|None|None\n",
       "2|$$0$$|\\left(- x - 15 y\\right)^{2}|x**2 + 30*x*y + 225*y**2||0|0|12:24|xyz|None|None|None|None\n",
       "3|$$0$$|\\left(- x - 7\\right)^{2}|x**2 + 14*x + 49||0|0|12:24|xyz|None|None|None|None\n",
       "4|$$0$$|\\left(- 13 y - 10\\right)^{2}|169*y**2 + 260*y + 100||0|0|12:24|xyz|None|None|None|None\n",
       "5|$$0$$|\\left(- x + y\\right)^{2}|x**2 - 2*x*y + y**2||0|0|12:24|xyz|None|None|None|None\n",
       "6|$$0$$|\\left(8 x + 2\\right)^{2}|64*x**2 + 32*x + 4||0|0|12:24|xyz|None|None|None|None\n",
       "7|$$0$$|\\left(- 16 y - 1\\right)^{2}|256*y**2 + 32*y + 1||0|0|12:24|xyz|None|None|None|None\n",
       "8|$$0$$|\\left(- 2 x + 9 y\\right)^{2}|4*x**2 - 36*x*y + 81*y**2||0|0|12:24|xyz|None|None|None|None\n",
       "9|$$0$$|\\left(3 - 16 x\\right)^{2}|256*x**2 - 96*x + 9||0|0|12:24|xyz|None|None|None|None"
      ],
      "text/plain": [
       "<IPython.core.display.Markdown object>"
      ]
     },
     "metadata": {},
     "output_type": "display_data"
    },
    {
     "data": {
      "text/markdown": [
       "號|題|值|答|檢查|題型|提示\n",
       "--|--|--|--|--|--|--\n",
       "2|$$0$$|\\left(x + 7 y\\right)^{2}|x**2 + 14*x*y + 49*y**2||0|0|12:24|xyz|None|None|None|None"
      ],
      "text/plain": [
       "<IPython.core.display.Markdown object>"
      ]
     },
     "metadata": {},
     "output_type": "display_data"
    },
    {
     "name": "stdout",
     "output_type": "stream",
     "text": [
      "\\left(x + 7 y\\right)^{2}\n",
      "x**2 + 14*x*y + 49*y**2\n",
      "{'Id': 2, 'Tx': 0, 'St': '\\\\left(x + 7 y\\\\right)^{2}', 'Val': x**2 + 14*x*y + 49*y**2, 'Ans': 'x^2+14xy+49y^2', 'OK': 1, 'Mark': 0, 'Minute': '12:24', 'Tip': 'xyz', 'PotImg': None, 'PlainText': None, 'ValFmt': None, 'ValSt': None}\n"
     ]
    },
    {
     "data": {
      "text/markdown": [
       "號|題|值|答|檢查|題型|提示\n",
       "--|--|--|--|--|--|--\n",
       "0|$$0$$|\\left(6 x + 8\\right)^{2}|36*x**2 + 96*x + 64||0|0|12:24|xyz|None|None|None|None"
      ],
      "text/plain": [
       "<IPython.core.display.Markdown object>"
      ]
     },
     "metadata": {},
     "output_type": "display_data"
    },
    {
     "name": "stdout",
     "output_type": "stream",
     "text": [
      "\\left(6 x + 8\\right)^{2}\n",
      "36*x**2 + 96*x + 64\n",
      "{'Id': 0, 'Tx': 0, 'St': '\\\\left(6 x + 8\\\\right)^{2}', 'Val': 36*x**2 + 96*x + 64, 'Ans': '36x^2+96x+64', 'OK': 1, 'Mark': 0, 'Minute': '12:24', 'Tip': 'xyz', 'PotImg': None, 'PlainText': None, 'ValFmt': None, 'ValSt': None}\n"
     ]
    }
   ],
   "source": [
    "import random                                     #亂數 \n",
    "import math                                       #math 內置數學函數\n",
    "import numpy as np                                #數字矩陣\n",
    "import sympy as sp                                #sympy 簡易別名 sp    \n",
    "from sympy.parsing.sympy_parser import parse_expr #文字字串, 解釋成, Sympy 運算式\n",
    "from IPython.display import Latex,HTML,Markdown                 #網頁顯示數學符號\n",
    "import re\n",
    "import esutils as lib\n",
    "from esmathlib import GetTE\n",
    "import esmathlib\n",
    "sp.init_printing(\"mathjax\")                       #sp.init_printing()  168 \n",
    "def displayTable(NTE):\n",
    "    display(Markdown(lib.NTE2TBL(NTE))) \n",
    "\"\"\"\n",
    "整式的乘法公式完全平方公式 題型1,2,3,4  \n",
    "\"\"\"   \n",
    "def Get_PF2021_Expr1(QN=10,Tx=-1):\n",
    "    Qid=2\n",
    "    x,y,z=sp.symbols(\"x y z\")\n",
    "    NTE = []\n",
    "    p,q=np.random.choice(range(-16,16),2)\n",
    "    p=p if p!=0 else 1;q=q if q!=0 else 1\n",
    "    p=1\n",
    "    q=7\n",
    "    Tidx=Qid % 3\n",
    "    if Tidx==0:\n",
    "        express_str=f\"({p}*x+({q})) ** 2\" \n",
    "        St=parse_expr(express_str, evaluate=False) \n",
    "    elif Tidx==1:\n",
    "        St=(p+q*y)**2\n",
    "    elif Tidx==2:\n",
    "        St=(p*x+q*y)**2\n",
    "    Stt=sp.latex(St)\n",
    "    Val=sp.expand(St)\n",
    "    TE=GetTE(Qid,Stt,Val)        \n",
    "    NTE.append(TE)    \n",
    "    return NTE    \n",
    "    \n",
    "def Get_PF2021_Expr2(QN=10,Tx=-1):\n",
    "    Qid=0\n",
    "    x,y,z=sp.symbols(\"x y z\")\n",
    "    NTE = []\n",
    "    p,q=np.random.choice(range(-16,16),2)\n",
    "    p=p if p!=0 else 1;q=q if q!=0 else 1\n",
    "    p=6\n",
    "    q=8\n",
    "    Tidx=Qid % 3\n",
    "    if Tidx==0:\n",
    "        express_str=f\"({p}*x+({q})) ** 2\" \n",
    "        St=parse_expr(express_str, evaluate=False) \n",
    "    elif Tidx==1:\n",
    "        St=(p+q*y)**2\n",
    "    elif Tidx==2:\n",
    "        St=(p*x+q*y)**2\n",
    "    Stt=sp.latex(St)\n",
    "    Val=sp.expand(St)\n",
    "    TE=GetTE(Qid,Stt,Val)        \n",
    "    NTE.append(TE)    \n",
    "    return NTE        \n",
    "    \n",
    "def Get_PF2021_Expr(QN,Tx=-1):\n",
    "    x,y,z=sp.symbols(\"x y z\")\n",
    "    NTE = []\n",
    "    for Qid in range(0, QN):\n",
    "        if Tx==0:\n",
    "            p,q=np.random.choice(range(-16,16),2)\n",
    "            p=p if p!=0 else 1;q=q if q!=0 else 1\n",
    "            Tidx=Qid % 3\n",
    "            if Tidx==0:\n",
    "                express_str=f\"(x+({q})) ** 2\" \n",
    "                St=parse_expr(express_str, evaluate=False) \n",
    "                Stt=sp.latex(St)\n",
    "            elif Tidx==1:\n",
    "                Stt=f\"({p}+y)^2\" #顯示算式\n",
    "                St=(p+y)**2      #運算算式\n",
    "            elif Tidx==2:\n",
    "                Stt=f\"({p}-y)^2\"\n",
    "                St=(p-y)**2\n",
    "            Val=sp.expand(St)\n",
    "            TE=GetTE(Qid,Stt,Val)        \n",
    "            NTE.append(TE)    \n",
    "        elif Tx==1:\n",
    "            p,q=np.random.choice(range(-16,16),2)\n",
    "            p=p if p!=0 else 1;q=q if q!=0 else 1\n",
    "            Tidx=Qid % 3\n",
    "            if Tidx==0:\n",
    "                St=(p*x+q)**2\n",
    "            elif Tidx==1:\n",
    "                St=(p+q*y)**2\n",
    "            elif Tidx==2:\n",
    "                St=(p*x+q*y)**2\n",
    "            Stt=sp.latex(St)\n",
    "            Val=sp.expand(St)\n",
    "            TE=GetTE(Qid,Stt,Val)        \n",
    "            NTE.append(TE)    \n",
    "        elif Tx==2:\n",
    "            p,q=np.random.choice(range(-16,16),2)\n",
    "            r=random.choice([sp.S(1)/3,sp.S(2)/3,sp.S(1)/4,2,3,4,5])\n",
    "            s=random.choice([sp.S(1)/3,sp.S(2)/3,sp.S(1)/4,2,3,4,5])\n",
    "            p=p if p!=0 else 1;q=q if q!=0 else 1\n",
    "            Tidx=Qid % 2\n",
    "            if Tidx==0:\n",
    "                expr1=p*x**s\n",
    "                expr2=r*y**r\n",
    "                St=(expr1+expr2)**2\n",
    "                Stt=sp.latex(St)\n",
    "            elif Tidx==1:\n",
    "                expr1=p* x**r\n",
    "                expr2=r* y**r\n",
    "                St=(expr1-expr2)**2\n",
    "                Stt=sp.latex(St)            \n",
    "            Val=sp.expand(St)\n",
    "            TE=GetTE(Qid,Stt,Val)        \n",
    "            NTE.append(TE)    \n",
    "        elif Tx==3:\n",
    "            p,q=np.random.choice(range(-5,5),2)\n",
    "            p=p if p!=0 else 1;q=q if q!=0 else 1\n",
    "            p=p*sp.Rational(1,2)\n",
    "            q=q*sp.Rational(1,2)\n",
    "            exp1=p*x+q\n",
    "            exp2=p*x-q\n",
    "            exp3=(p*x)**2 - q**2\n",
    "            St=exp1 * exp2 * exp3\n",
    "            Stt=sp.latex(St)            \n",
    "            Val=sp.expand(St)\n",
    "            TE=GetTE(Qid,Stt,Val)        \n",
    "            NTE.append(TE)                \n",
    "    return NTE\n",
    "\n",
    "if __name__==\"__main__\":\n",
    "    for Tx in range(1):\n",
    "        NTE=Get_PF2021_Expr(10,1)\n",
    "        displayTable(NTE)        \n",
    "        \n",
    "        NTE=Get_PF2021_Expr1(10,1)\n",
    "        displayTable(NTE)\n",
    "        print(NTE[0][\"St\"] )\n",
    "        print(NTE[0][\"Val\"])\n",
    "        NTE[0][\"Ans\"]=\"x^2+14xy+49y^2\"\n",
    "        esmathlib.Put_PF2021_Expr(NTE[0])\n",
    "        print(NTE[0])\n",
    "        #\n",
    "        NTE=Get_PF2021_Expr2(10,1)\n",
    "        displayTable(NTE)\n",
    "        print(NTE[0][\"St\"] )\n",
    "        print(NTE[0][\"Val\"])\n",
    "        NTE[0][\"Ans\"]=\"36x^2+96x+64\"\n",
    "        esmathlib.Put_PF2021_Expr(NTE[0])\n",
    "        print(NTE[0])        \n"
   ]
  },
  {
   "cell_type": "code",
   "execution_count": 30,
   "id": "expanded-aging",
   "metadata": {},
   "outputs": [
    {
     "ename": "ImportError",
     "evalue": "cannot import name 'GetTE' from 'lib' (unknown location)",
     "output_type": "error",
     "traceback": [
      "\u001b[1;31m---------------------------------------------------------------------------\u001b[0m",
      "\u001b[1;31mImportError\u001b[0m                               Traceback (most recent call last)",
      "\u001b[1;32m<ipython-input-30-392e3efde911>\u001b[0m in \u001b[0;36m<module>\u001b[1;34m\u001b[0m\n\u001b[0;32m      7\u001b[0m \u001b[1;32mimport\u001b[0m \u001b[0mre\u001b[0m\u001b[1;33m\u001b[0m\u001b[1;33m\u001b[0m\u001b[0m\n\u001b[0;32m      8\u001b[0m \u001b[1;32mimport\u001b[0m \u001b[0mlib\u001b[0m\u001b[1;33m\u001b[0m\u001b[1;33m\u001b[0m\u001b[0m\n\u001b[1;32m----> 9\u001b[1;33m \u001b[1;32mfrom\u001b[0m \u001b[0mlib\u001b[0m \u001b[1;32mimport\u001b[0m \u001b[0mGetTE\u001b[0m\u001b[1;33m\u001b[0m\u001b[1;33m\u001b[0m\u001b[0m\n\u001b[0m\u001b[0;32m     10\u001b[0m \u001b[0msp\u001b[0m\u001b[1;33m.\u001b[0m\u001b[0minit_printing\u001b[0m\u001b[1;33m(\u001b[0m\u001b[1;34m\"mathjax\"\u001b[0m\u001b[1;33m)\u001b[0m                       \u001b[1;31m#sp.init_printing()  168\u001b[0m\u001b[1;33m\u001b[0m\u001b[1;33m\u001b[0m\u001b[0m\n\u001b[0;32m     11\u001b[0m \u001b[1;32mdef\u001b[0m \u001b[0mdisplayTable\u001b[0m\u001b[1;33m(\u001b[0m\u001b[0mNTE\u001b[0m\u001b[1;33m)\u001b[0m\u001b[1;33m:\u001b[0m\u001b[1;33m\u001b[0m\u001b[1;33m\u001b[0m\u001b[0m\n",
      "\u001b[1;31mImportError\u001b[0m: cannot import name 'GetTE' from 'lib' (unknown location)"
     ]
    }
   ],
   "source": [
    "import random                                     #亂數 \n",
    "import math                                       #math 內置數學函數\n",
    "import numpy as np                                #數字矩陣\n",
    "import sympy as sp                                #sympy 簡易別名 sp    \n",
    "from sympy.parsing.sympy_parser import parse_expr #文字字串, 解釋成, Sympy 運算式\n",
    "from IPython.display import Latex,HTML,Markdown                 #網頁顯示數學符號\n",
    "import re\n",
    "import lib\n",
    "from lib import GetTE\n",
    "sp.init_printing(\"mathjax\")                       #sp.init_printing()  168 \n",
    "def displayTable(NTE):\n",
    "    display(Markdown(lib.NTE2TBL(NTE))) \n",
    "\"\"\"\n",
    "整式的乘法公式完全平方公式 題型2  \n",
    "\"\"\"   \n",
    "def Get_PF2021_Expr(QN):\n",
    "    x,y,z=sp.symbols('x y z')\n",
    "    NTE=[]\n",
    "    for idx in range(0,QN):\n",
    "        p,q=np.random.choice(range(-12,12),2)\n",
    "        p=p if p!=0 else 1;q=q if q!=0 else 1\n",
    "        Tidx=idx % 3\n",
    "        if Tidx==0:\n",
    "            express_str=f\"({p}*x+({q})) ** 2\" \n",
    "            St=parse_expr(express_str, evaluate=False) \n",
    "            Stt=sp.latex(St)\n",
    "        elif Tidx==1:\n",
    "            St=(p+q*y)**2\n",
    "            Stt=sp.latex(St)\n",
    "        elif Tidx==2:\n",
    "            St=(p*x+q*y)**2\n",
    "            Stt=sp.latex(St)\n",
    "        Val=sp.expand(St)\n",
    "        TE=GetTE(idx,Stt,Val)        \n",
    "        NTE.append(TE)    \n",
    "    return NTE\n",
    "\n",
    "if __name__==\"__main__\":\n",
    "    NTE=Get_PF2021_Expr(10)\n",
    "    displayTable(NTE)"
   ]
  },
  {
   "cell_type": "code",
   "execution_count": 4,
   "id": "answering-wesley",
   "metadata": {},
   "outputs": [
    {
     "ename": "ImportError",
     "evalue": "cannot import name 'GetTE' from 'lib' (unknown location)",
     "output_type": "error",
     "traceback": [
      "\u001b[1;31m---------------------------------------------------------------------------\u001b[0m",
      "\u001b[1;31mImportError\u001b[0m                               Traceback (most recent call last)",
      "\u001b[1;32m<ipython-input-4-a76a69dae254>\u001b[0m in \u001b[0;36m<module>\u001b[1;34m\u001b[0m\n\u001b[0;32m      7\u001b[0m \u001b[1;32mimport\u001b[0m \u001b[0mre\u001b[0m\u001b[1;33m\u001b[0m\u001b[1;33m\u001b[0m\u001b[0m\n\u001b[0;32m      8\u001b[0m \u001b[1;32mimport\u001b[0m \u001b[0mlib\u001b[0m\u001b[1;33m\u001b[0m\u001b[1;33m\u001b[0m\u001b[0m\n\u001b[1;32m----> 9\u001b[1;33m \u001b[1;32mfrom\u001b[0m \u001b[0mlib\u001b[0m \u001b[1;32mimport\u001b[0m \u001b[0mGetTE\u001b[0m\u001b[1;33m\u001b[0m\u001b[1;33m\u001b[0m\u001b[0m\n\u001b[0m\u001b[0;32m     10\u001b[0m \u001b[0msp\u001b[0m\u001b[1;33m.\u001b[0m\u001b[0minit_printing\u001b[0m\u001b[1;33m(\u001b[0m\u001b[1;34m\"mathjax\"\u001b[0m\u001b[1;33m)\u001b[0m                       \u001b[1;31m#sp.init_printing()  168\u001b[0m\u001b[1;33m\u001b[0m\u001b[1;33m\u001b[0m\u001b[0m\n\u001b[0;32m     11\u001b[0m \u001b[1;32mdef\u001b[0m \u001b[0mdisplayTable\u001b[0m\u001b[1;33m(\u001b[0m\u001b[0mNTE\u001b[0m\u001b[1;33m)\u001b[0m\u001b[1;33m:\u001b[0m\u001b[1;33m\u001b[0m\u001b[1;33m\u001b[0m\u001b[0m\n",
      "\u001b[1;31mImportError\u001b[0m: cannot import name 'GetTE' from 'lib' (unknown location)"
     ]
    }
   ],
   "source": [
    "import random                                     #亂數 \n",
    "import math                                       #math 內置數學函數\n",
    "import numpy as np                                #數字矩陣\n",
    "import sympy as sp                                #sympy 簡易別名 sp    \n",
    "from sympy.parsing.sympy_parser import parse_expr #文字字串, 解釋成, Sympy 運算式\n",
    "from IPython.display import Latex,HTML,Markdown                 #網頁顯示數學符號\n",
    "import re\n",
    "import lib\n",
    "from lib import GetTE\n",
    "sp.init_printing(\"mathjax\")                       #sp.init_printing()  168 \n",
    "def displayTable(NTE):\n",
    "    display(Markdown(lib.NTE2TBL(NTE))) \n",
    "\"\"\"\n",
    "整式的乘法公式完全平方公式 題型3  \n",
    "\"\"\"   \n",
    "def Get_PF2021_Expr(QN):\n",
    "    x,y,z=sp.symbols('x y z')\n",
    "    NTE=[]\n",
    "    for idx in range(0,QN):\n",
    "        p,q=np.random.choice(range(-16,16),2)\n",
    "        r=random.choice([\"(1/3)\",\"(2/3)\",\"(1/4)\",2,3,4,5])\n",
    "        s=random.choice([\"(1/3)\",\"(2/3)\",\"(1/4)\",2,3,4,5])\n",
    "        p=p if p!=0 else 1;q=q if q!=0 else 1\n",
    "        Tidx=idx % 2\n",
    "        if Tidx==0:\n",
    "            express_str=f\"({p}*x**{s}+({r})*y**{r}) ** 2\" \n",
    "            St=parse_expr(express_str, evaluate=False) \n",
    "            Stt=sp.latex(St)\n",
    "        elif Tidx==1:\n",
    "            express_str=f\"({p}*x**{r}-({r})*y**{r}) ** 2\" \n",
    "            St=parse_expr(express_str, evaluate=False) \n",
    "            Stt=sp.latex(St)            \n",
    "        Val=sp.expand(St)\n",
    "        TE=GetTE(idx,Stt,Val)        \n",
    "        NTE.append(TE)    \n",
    "    return NTE\n",
    "\n",
    "if __name__==\"__main__\":\n",
    "    NTE=Get_PF2021_Expr(10)\n",
    "    displayTable(NTE)"
   ]
  },
  {
   "cell_type": "code",
   "execution_count": 5,
   "id": "explicit-rings",
   "metadata": {},
   "outputs": [
    {
     "ename": "ImportError",
     "evalue": "cannot import name 'GetTE' from 'lib' (unknown location)",
     "output_type": "error",
     "traceback": [
      "\u001b[1;31m---------------------------------------------------------------------------\u001b[0m",
      "\u001b[1;31mImportError\u001b[0m                               Traceback (most recent call last)",
      "\u001b[1;32m<ipython-input-5-425a91616577>\u001b[0m in \u001b[0;36m<module>\u001b[1;34m\u001b[0m\n\u001b[0;32m      7\u001b[0m \u001b[1;32mimport\u001b[0m \u001b[0mre\u001b[0m\u001b[1;33m\u001b[0m\u001b[1;33m\u001b[0m\u001b[0m\n\u001b[0;32m      8\u001b[0m \u001b[1;32mimport\u001b[0m \u001b[0mlib\u001b[0m\u001b[1;33m\u001b[0m\u001b[1;33m\u001b[0m\u001b[0m\n\u001b[1;32m----> 9\u001b[1;33m \u001b[1;32mfrom\u001b[0m \u001b[0mlib\u001b[0m \u001b[1;32mimport\u001b[0m \u001b[0mGetTE\u001b[0m\u001b[1;33m\u001b[0m\u001b[1;33m\u001b[0m\u001b[0m\n\u001b[0m\u001b[0;32m     10\u001b[0m \u001b[0msp\u001b[0m\u001b[1;33m.\u001b[0m\u001b[0minit_printing\u001b[0m\u001b[1;33m(\u001b[0m\u001b[1;34m\"mathjax\"\u001b[0m\u001b[1;33m)\u001b[0m                       \u001b[1;31m#sp.init_printing()  168\u001b[0m\u001b[1;33m\u001b[0m\u001b[1;33m\u001b[0m\u001b[0m\n\u001b[0;32m     11\u001b[0m \u001b[1;32mdef\u001b[0m \u001b[0mdisplayTable\u001b[0m\u001b[1;33m(\u001b[0m\u001b[0mNTE\u001b[0m\u001b[1;33m)\u001b[0m\u001b[1;33m:\u001b[0m\u001b[1;33m\u001b[0m\u001b[1;33m\u001b[0m\u001b[0m\n",
      "\u001b[1;31mImportError\u001b[0m: cannot import name 'GetTE' from 'lib' (unknown location)"
     ]
    }
   ],
   "source": [
    "import random                                     #亂數 \n",
    "import math                                       #math 內置數學函數\n",
    "import numpy as np                                #數字矩陣\n",
    "import sympy as sp                                #sympy 簡易別名 sp    \n",
    "from sympy.parsing.sympy_parser import parse_expr #文字字串, 解釋成, Sympy 運算式\n",
    "from IPython.display import Latex,HTML,Markdown                 #網頁顯示數學符號\n",
    "import re\n",
    "import lib\n",
    "from lib import GetTE\n",
    "sp.init_printing(\"mathjax\")                       #sp.init_printing()  168 \n",
    "def displayTable(NTE):\n",
    "    display(Markdown(lib.NTE2TBL(NTE))) \n",
    "\"\"\"\n",
    "整式的乘法公式完全平方公式 題型4  \n",
    "\"\"\"   \n",
    "def Get_PF2021_Expr(QN):\n",
    "    x,y,z=sp.symbols('x y z')\n",
    "    NTE=[]\n",
    "    for idx in range(0,QN):\n",
    "        p,q=np.random.choice(range(-5,5),2)\n",
    "        r=random.choice([\"(1/3)\",\"(2/3)\",\"(1/4)\",2,3,4,5])\n",
    "        s=random.choice([\"(1/3)\",\"(2/3)\",\"(1/4)\",2,3,4,5])\n",
    "        p=p if p!=0 else 1;q=q if q!=0 else 1\n",
    "        p=p*sp.Rational(1,2)\n",
    "        q=q*sp.Rational(1,2)\n",
    "        Tidx=2  #idx % 3\n",
    "        if Tidx==0:\n",
    "            pass\n",
    "        elif Tidx==2:\n",
    "            exp1=p*x+q\n",
    "            exp2=p*x-q\n",
    "            exp3=(p*x)**2 - q**2\n",
    "            St=exp1 * exp2 * exp3\n",
    "            #express_str=f\"(({p}*x)**2-({q})**2) *({p}*x**{q} +({q})) * ({p}*x**{q} - ({q}))\" \n",
    "            #St=parse_expr(express_str, evaluate=False) \n",
    "            Stt=sp.latex(St)            \n",
    "            \n",
    "        Val=sp.expand(St)\n",
    "        TE=GetTE(idx,Stt,Val)        \n",
    "        NTE.append(TE)    \n",
    "    return NTE\n",
    "\n",
    "if __name__==\"__main__\":\n",
    "    NTE=Get_PF2021_Expr(10)\n",
    "    displayTable(NTE)"
   ]
  },
  {
   "cell_type": "code",
   "execution_count": null,
   "id": "rubber-judgment",
   "metadata": {},
   "outputs": [],
   "source": []
  },
  {
   "cell_type": "code",
   "execution_count": null,
   "id": "italic-keeping",
   "metadata": {},
   "outputs": [],
   "source": []
  },
  {
   "cell_type": "code",
   "execution_count": null,
   "id": "arranged-devon",
   "metadata": {},
   "outputs": [],
   "source": []
  },
  {
   "cell_type": "code",
   "execution_count": null,
   "id": "thirty-mattress",
   "metadata": {},
   "outputs": [],
   "source": []
  },
  {
   "cell_type": "code",
   "execution_count": null,
   "id": "nuclear-killer",
   "metadata": {},
   "outputs": [],
   "source": []
  },
  {
   "cell_type": "code",
   "execution_count": null,
   "id": "imposed-visibility",
   "metadata": {},
   "outputs": [],
   "source": []
  },
  {
   "cell_type": "code",
   "execution_count": null,
   "id": "regular-nigeria",
   "metadata": {},
   "outputs": [],
   "source": []
  },
  {
   "cell_type": "code",
   "execution_count": 4,
   "id": "lesser-objective",
   "metadata": {},
   "outputs": [
    {
     "ename": "NameError",
     "evalue": "name 'Get_PF202_Expr' is not defined",
     "output_type": "error",
     "traceback": [
      "\u001b[1;31m---------------------------------------------------------------------------\u001b[0m",
      "\u001b[1;31mNameError\u001b[0m                                 Traceback (most recent call last)",
      "\u001b[1;32m<ipython-input-4-9e41aeb240ec>\u001b[0m in \u001b[0;36m<module>\u001b[1;34m\u001b[0m\n\u001b[0;32m      9\u001b[0m \u001b[1;32mif\u001b[0m \u001b[0m__name__\u001b[0m\u001b[1;33m==\u001b[0m\u001b[1;34m\"__main__\"\u001b[0m\u001b[1;33m:\u001b[0m\u001b[1;33m\u001b[0m\u001b[1;33m\u001b[0m\u001b[0m\n\u001b[0;32m     10\u001b[0m     \u001b[0mx\u001b[0m\u001b[1;33m,\u001b[0m\u001b[0my\u001b[0m\u001b[1;33m,\u001b[0m\u001b[0mz\u001b[0m\u001b[1;33m=\u001b[0m\u001b[0msp\u001b[0m\u001b[1;33m.\u001b[0m\u001b[0msymbols\u001b[0m\u001b[1;33m(\u001b[0m\u001b[1;34m'x,y,z'\u001b[0m\u001b[1;33m)\u001b[0m\u001b[1;33m\u001b[0m\u001b[1;33m\u001b[0m\u001b[0m\n\u001b[1;32m---> 11\u001b[1;33m     \u001b[0mNTE\u001b[0m\u001b[1;33m=\u001b[0m\u001b[0mGet_PF202_Expr\u001b[0m\u001b[1;33m(\u001b[0m\u001b[1;36m4\u001b[0m\u001b[1;33m)\u001b[0m\u001b[1;33m\u001b[0m\u001b[1;33m\u001b[0m\u001b[0m\n\u001b[0m\u001b[0;32m     12\u001b[0m     \u001b[1;32mfor\u001b[0m \u001b[0mi\u001b[0m\u001b[1;33m,\u001b[0m\u001b[0mTE\u001b[0m \u001b[1;32min\u001b[0m \u001b[0menumerate\u001b[0m\u001b[1;33m(\u001b[0m\u001b[0mNTE\u001b[0m\u001b[1;33m)\u001b[0m\u001b[1;33m:\u001b[0m\u001b[1;33m\u001b[0m\u001b[1;33m\u001b[0m\u001b[0m\n\u001b[0;32m     13\u001b[0m         \u001b[0mSt\u001b[0m\u001b[1;33m=\u001b[0m\u001b[0mTE\u001b[0m\u001b[1;33m[\u001b[0m\u001b[1;34m\"St\"\u001b[0m\u001b[1;33m]\u001b[0m\u001b[1;33m\u001b[0m\u001b[1;33m\u001b[0m\u001b[0m\n",
      "\u001b[1;31mNameError\u001b[0m: name 'Get_PF202_Expr' is not defined"
     ]
    }
   ],
   "source": [
    "def Put_PF2021_Expr(TE):\n",
    "    ans=lib.Text2St(TE[\"Ans\"])\n",
    "    Val=TE[\"Val\"]\n",
    "    if parse_expr(ans).subs({x:7})==Val.subs({x:7}): \n",
    "        TE[\"OK\"]=1; return True\n",
    "    else: \n",
    "        return False\n",
    "    \n",
    "if __name__==\"__main__\":\n",
    "    x,y,z=sp.symbols('x,y,z')\n",
    "    NTE=Get_PF202_Expr(4)\n",
    "    for i,TE in enumerate(NTE):\n",
    "        St=TE[\"St\"]\n",
    "        Val=TE[\"Val\"]\n",
    "        print(f\"第{i}題:\")        \n",
    "        display(Latex(f\" $$ {St} $$ \" ))\n",
    "        print(TE[\"Tip\"])\n",
    "        TE[\"Ans\"]=lib.Text2St(input(\"請作答:\"))\n",
    "        if Put_PF202_Expr(TE):                   #比對答案:\n",
    "            print(\"答對!\")                              #答對加一分\n",
    "        else:                                      #不則\n",
    "            display(Latex(f\"答案錯誤, 標準答案: $ {Val} $\"))\n",
    "    displayTable(NTE)"
   ]
  },
  {
   "cell_type": "code",
   "execution_count": 13,
   "id": "ranking-ancient",
   "metadata": {},
   "outputs": [
    {
     "name": "stdout",
     "output_type": "stream",
     "text": [
      "end\n"
     ]
    },
    {
     "data": {
      "text/plain": [
       "'-9x**2+25'"
      ]
     },
     "execution_count": 13,
     "metadata": {},
     "output_type": "execute_result"
    }
   ],
   "source": [
    "print(\"end\")\n",
    "import re\n",
    "ans =\"-9x  ^2+25\"\n",
    "#ans = re.sub(r\"(\\d)x\", r\"\\1*x\", ans)\n",
    "ans = re.sub(r\"X\", r\"x\", ans)\n",
    "ans = re.sub(r\"x[ ]*\", r\"x\", ans)\n",
    "ans = ans.replace(r\"x^\", r\"x**\")\n",
    "\n",
    "ans"
   ]
  }
 ],
 "metadata": {
  "kernelspec": {
   "display_name": "Python 3",
   "language": "python",
   "name": "python3"
  },
  "language_info": {
   "codemirror_mode": {
    "name": "ipython",
    "version": 3
   },
   "file_extension": ".py",
   "mimetype": "text/x-python",
   "name": "python",
   "nbconvert_exporter": "python",
   "pygments_lexer": "ipython3",
   "version": "3.9.9"
  }
 },
 "nbformat": 4,
 "nbformat_minor": 5
}

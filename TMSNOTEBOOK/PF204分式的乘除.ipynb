{
 "cells": [
  {
   "cell_type": "markdown",
   "id": "structural-variance",
   "metadata": {},
   "source": [
    "# 電腦數學符號運算"
   ]
  },
  {
   "cell_type": "markdown",
   "id": "coral-bridges",
   "metadata": {},
   "source": [
    "### 第3節. 分式乘除實作\n",
    "安裝 Python 3.8.7\n",
    "- pip install numpy\n",
    "- pip install sympy\n",
    "- pip install jupyterlab\n",
    "- lib.py 自定義函數庫\n",
    "\n",
    "### 分式乘除\n",
    "第1題:\n",
    "$$\\frac{4x^2y^2z^{13}}{13m^4n^8} ÷ \\frac{12m^8n^{13}}{11x^9y^2z} $$\n",
    "\n",
    "請作答: (11*x**11*y**4*z**14)/(39*m**12*n**21)\n",
    "\n",
    "$$\\frac{11*x^{11}*y^4*z^{14}}{39*m^{12}*n^{21}} $$\n",
    "\n"
   ]
  },
  {
   "cell_type": "code",
   "execution_count": 9,
   "id": "regional-amateur",
   "metadata": {},
   "outputs": [
    {
     "data": {
      "text/markdown": [
       "號|題|值|答|檢查|題型|提示\n",
       "--|--|--|--|--|--|--\n",
       "0|$$\\frac {x^{2} + 13 x + 40}{x^{2} + 7 x + 10} \\div  \\frac {x^{2} - 25}{x^{2} - 3 x - 40}$$|(x - 8)*(x + 8)/((x - 5)*(x + 2))||0|-1||0|\\frac{\\left(x - 8\\right) \\left(x + 8\\right)}{\\left(x - 5\\right) \\left(x + 2\\right)}\n",
       "1|$$\\frac {x^{2} + 20 x + 64}{x^{2} + 21 x + 80} \\cdot  \\frac {x^{2} - 256}{x^{2} + 12 x - 64}$$|(x - 16)*(x + 4)/((x - 4)*(x + 5))||0|-1||0|\\frac{\\left(x - 16\\right) \\left(x + 4\\right)}{\\left(x - 4\\right) \\left(x + 5\\right)}\n",
       "2|$$\\frac {x^{2} + 10 x + 9}{x^{2} + 4 x + 3} \\cdot  \\frac {x^{2} - 1}{x^{2} - 8 x - 9}$$|(x - 1)*(x + 9)/((x - 9)*(x + 3))||0|-1||0|\\frac{\\left(x - 1\\right) \\left(x + 9\\right)}{\\left(x - 9\\right) \\left(x + 3\\right)}\n",
       "3|$$\\frac {x^{2} + 25 x + 156}{x^{2} + 24 x + 143} \\div  \\frac {x^{2} - 169}{x^{2} + x - 156}$$|(x - 12)*(x + 12)/((x - 13)*(x + 11))||0|-1||0|\\frac{\\left(x - 12\\right) \\left(x + 12\\right)}{\\left(x - 13\\right) \\left(x + 11\\right)}\n",
       "4|$$\\frac {x^{2} + 18 x + 72}{x^{2} + 7 x + 6} \\div  \\frac {x^{2} - 36}{x^{2} - 6 x - 72}$$|(x - 12)*(x + 12)/((x - 6)*(x + 1))||0|-1||0|\\frac{\\left(x - 12\\right) \\left(x + 12\\right)}{\\left(x - 6\\right) \\left(x + 1\\right)}\n",
       "5|$$\\frac {x^{2} + 22 x + 112}{x^{2} + 20 x + 84} \\div  \\frac {x^{2} - 196}{x^{2} + 6 x - 112}$$|(x - 8)*(x + 8)/((x - 14)*(x + 6))||0|-1||0|\\frac{\\left(x - 8\\right) \\left(x + 8\\right)}{\\left(x - 14\\right) \\left(x + 6\\right)}\n",
       "6|$$\\frac {x^{2} + 19 x + 70}{x^{2} + 19 x + 70} \\cdot  \\frac {x^{2} - 25}{x^{2} - 9 x - 70}$$|(x - 5)/(x - 14)||0|-1||0|\\frac{x - 5}{x - 14}\n",
       "7|$$\\frac {x^{2} + 7 x + 10}{x^{2} + 6 x + 8} \\cdot  \\frac {x^{2} - 4}{x^{2} - 3 x - 10}$$|(x - 2)*(x + 5)/((x - 5)*(x + 4))||0|-1||0|\\frac{\\left(x - 2\\right) \\left(x + 5\\right)}{\\left(x - 5\\right) \\left(x + 4\\right)}\n",
       "8|$$\\frac {x^{2} + 21 x + 98}{x^{2} + 30 x + 224} \\div  \\frac {x^{2} - 196}{x^{2} + 7 x - 98}$$|(x - 7)*(x + 7)/((x - 14)*(x + 16))||0|-1||0|\\frac{\\left(x - 7\\right) \\left(x + 7\\right)}{\\left(x - 14\\right) \\left(x + 16\\right)}\n",
       "9|$$\\frac {x^{2} + 26 x + 160}{x^{2} + 26 x + 160} \\cdot  \\frac {x^{2} - 256}{x^{2} + 6 x - 160}$$|(x - 16)/(x - 10)||0|-1||0|\\frac{x - 16}{x - 10}"
      ],
      "text/plain": [
       "<IPython.core.display.Markdown object>"
      ]
     },
     "metadata": {},
     "output_type": "display_data"
    }
   ],
   "source": [
    "import random                                     #亂數 \n",
    "import math                                       #math 內置數學函數\n",
    "import numpy as np                                #數字矩陣\n",
    "import sympy as sp                                #sympy 簡易別名 sp    \n",
    "from sympy.parsing.sympy_parser import parse_expr #文字字串, 解釋成, Sympy 運算式\n",
    "sp.init_printing(\"mathjax\")                       #sp.init_printing()   \n",
    "import lib\n",
    "from lib import GetTE\n",
    "from IPython.display import Latex,HTML,Markdown   #網頁顯示數學符號\n",
    "\n",
    "\n",
    "\n",
    "\"\"\"\n",
    "PF204.4.分式的乘除\n",
    "\"\"\"\n",
    "\n",
    "\n",
    "def Put_PF204_Expr(TE):\n",
    "    x=sp.Symbol('x')\n",
    "    Val=TE[\"Val\"]\n",
    "    ans=TE[\"Ans\"]\n",
    "    ans=lib.Text2St(ans)\n",
    "    try:\n",
    "        if parse_expr(ans).subs({x:7})==Val.subs({x:7}):                   #比對答案:\n",
    "            TE[\"OK\"]=1\n",
    "        else:                                      #不則\n",
    "            TE[\"OK\"]=0\n",
    "    except:\n",
    "        pass\n",
    "    #TE[\"Val\"] = r\"\\( %s \\)\" % sp.latex(Val)\n",
    "\n",
    "\n",
    "def Get_PF204_Expr(QN,Tx=-1):\n",
    "    TxFlag=Tx==-1       \n",
    "    x, y, z, m, n = sp.symbols('x,y,z,m,n')\n",
    "    op_list = [\"*\", \"/\"]\n",
    "    sample_list0 = list(range(1, 17))   # [-5,-4,-3,-2,-1,1,2,3,4,5]\n",
    "    sample_list1 = list(range(-39, 29))\n",
    "    sample_list1.remove(0)    # 非零數列\n",
    "    NTE = []\n",
    "    if Tx==0:\n",
    "        for Qid in range(0, QN):\n",
    "            op=  random.choice(op_list) \n",
    "            a = random.choice(sample_list0) \n",
    "            b = random.choice(sample_list0) \n",
    "            c = random.choice(sample_list0) \n",
    "            d = random.choice(sample_list0) \n",
    "            p = random.choice(sample_list0) \n",
    "            q = random.choice(sample_list0) \n",
    "            r = random.choice(sample_list0) \n",
    "            u = random.choice(sample_list0) \n",
    "            v = random.choice(sample_list0) \n",
    "            p1 = random.choice(sample_list0) \n",
    "            q1 = random.choice(sample_list0) \n",
    "            r1 = random.choice(sample_list0) \n",
    "            u1 = random.choice(sample_list0)\n",
    "            v1 = random.choice(sample_list0)\n",
    "            k1 = random.choice([1, 2, 3, 4, 5])\n",
    "            k2 = random.choice([1, 2, 3, 4, 5])\n",
    "            fx1=a*x**p*y**q*z**r\n",
    "            fx2=k1*a*x**p1*y**q1*z**r1\n",
    "            St=fx1/fx2\n",
    "            #St=sp.Mul(fx1,fx2,evaluate=False)\n",
    "            fx1latex=sp.latex(fx1)\n",
    "            fx2latex=sp.latex(fx2)        \n",
    "            StLatex= r\"\\frac {%s}{%s}\"% (fx1latex,fx2latex)\n",
    "            Val=sp.simplify(St)\n",
    "            TE=GetTE(len(NTE),StLatex,Val)        \n",
    "            TE[\"ValLatex\"]=sp.latex(Val)\n",
    "            NTE.append(TE)    \n",
    "            \n",
    "            pass\n",
    "    elif Tx==1:\n",
    "        for Qid in range(0, QN):\n",
    "            op=  random.choice(op_list) \n",
    "            a = random.choice(sample_list0) \n",
    "            b = random.choice(sample_list0) \n",
    "            c = random.choice(sample_list0) \n",
    "            d = random.choice(sample_list0) \n",
    "            p = random.choice(sample_list0) \n",
    "            q = random.choice(sample_list0) \n",
    "            r = random.choice(sample_list0) \n",
    "            u = random.choice(sample_list0) \n",
    "            v = random.choice(sample_list0) \n",
    "            p1 = random.choice(sample_list0) \n",
    "            q1 = random.choice(sample_list0) \n",
    "            r1 = random.choice(sample_list0) \n",
    "            u1 = random.choice(sample_list0)\n",
    "            v1 = random.choice(sample_list0)\n",
    "            ffx=x+a\n",
    "            fx1=(x+b)*ffx\n",
    "            fx2=(x+c)*ffx\n",
    "            St=fx1/fx2\n",
    "            #St=sp.Mul(fx1,fx2,evaluate=False)\n",
    "            fx1latex=sp.latex(fx1.expand())\n",
    "            fx2latex=sp.latex(fx2.expand())        \n",
    "            StLatex= r\"\\frac {%s}{%s}\"% (fx1latex,fx2latex)\n",
    "            Val=sp.simplify(St)\n",
    "            TE=GetTE(len(NTE),StLatex,Val)        \n",
    "            TE[\"ValLatex\"]=sp.latex(Val)\n",
    "            NTE.append(TE)    \n",
    "            pass\n",
    "    elif Tx==2:\n",
    "        for Qid in range(0, QN):\n",
    "            op=  random.choice(op_list) \n",
    "            a = random.choice(sample_list0) \n",
    "            b = random.choice(sample_list0) \n",
    "            c = random.choice(sample_list0) \n",
    "            d = random.choice(sample_list0) \n",
    "            p = random.choice(sample_list0) \n",
    "            q = random.choice(sample_list0) \n",
    "            r = random.choice(sample_list0) \n",
    "            u = random.choice(sample_list0) \n",
    "            v = random.choice(sample_list0) \n",
    "            p1 = random.choice(sample_list0) \n",
    "            q1 = random.choice(sample_list0) \n",
    "            r1 = random.choice(sample_list0) \n",
    "            u1 = random.choice(sample_list0)\n",
    "            v1 = random.choice(sample_list0)\n",
    "            fx1=(a*x**p*y**q*z**r)/(b*m**u*n**v)\n",
    "            fx2=(d*m**u1*n**v1)/(c*x**p1*y**q1*z**r1)\n",
    "            fx1latex=sp.latex(fx1)\n",
    "            fx2latex=sp.latex(fx2)\n",
    "            StLatex=\"\"\n",
    "            if op==\"*\":\n",
    "                St=sp.Mul(fx1,fx2,evaluate=False)\n",
    "                Val=sp.simplify(St)\n",
    "                StLatex=f\" {fx1latex} \\cdot {fx2latex}\"\n",
    "            elif op==\"/\":\n",
    "                St=fx1/fx2\n",
    "                StLatex= f\" {fx1latex} \\div {fx2latex}\"\n",
    "                Val=sp.simplify(St)\n",
    "            TE=GetTE(len(NTE),StLatex,Val)        \n",
    "            TE[\"ValLatex\"]=sp.latex(Val)\n",
    "            NTE.append(TE)                \n",
    "            pass\n",
    "    elif Tx==3:\n",
    "        for Qid in range(0, QN):\n",
    "            op=  random.choice(op_list) \n",
    "            a = random.choice(sample_list0) \n",
    "            b = random.choice(sample_list0) \n",
    "            c = random.choice(sample_list0) \n",
    "            d = random.choice(sample_list0) \n",
    "            e = random.choice(sample_list0) \n",
    "            p = random.choice(sample_list0) \n",
    "            q = random.choice(sample_list0) \n",
    "            r = random.choice(sample_list0) \n",
    "            u = random.choice(sample_list0) \n",
    "            v = random.choice(sample_list0) \n",
    "            p1 = random.choice(sample_list0) \n",
    "            q1 = random.choice(sample_list0) \n",
    "            r1 = random.choice(sample_list0) \n",
    "            u1 = random.choice(sample_list0)\n",
    "            v1 = random.choice(sample_list0)\n",
    "            ffx=x+a\n",
    "            fx1=(x+b)*ffx\n",
    "            fx2=(x+c)*ffx\n",
    "            fx3=(x-a)*ffx\n",
    "            fx4=(x-b)*ffx\n",
    "            fx1latex=sp.latex(fx1.expand())\n",
    "            fx2latex=sp.latex(fx2.expand())        \n",
    "            fx3latex=sp.latex(fx3.expand())        \n",
    "            fx4latex=sp.latex(fx4.expand())        \n",
    "            if op==\"*\":\n",
    "                St=fx1/fx2 *( fx3/fx4)\n",
    "                StLatex= r\"\\frac {%s}{%s} \\cdot  \\frac {%s}{%s}\"% (fx1latex,fx2latex,fx3latex,fx4latex)\n",
    "            elif op==\"/\":\n",
    "                St=fx1/fx2 /(fx3/fx4)\n",
    "                #St=sp.Mul(fx1,fx2,evaluate=False)\n",
    "                StLatex= r\"\\frac {%s}{%s} \\div  \\frac {%s}{%s}\"% (fx1latex,fx2latex,fx3latex,fx4latex)\n",
    "            Val=sp.simplify(St)\n",
    "            TE=GetTE(len(NTE),StLatex,Val)        \n",
    "            TE[\"ValLatex\"]=sp.latex(Val)\n",
    "            NTE.append(TE)    \n",
    "    elif Tx==9:    \n",
    "        for Qid in range(0, QN):\n",
    "            op = random.choice(op_list)\n",
    "            a = random.choice(sample_list0)\n",
    "            b = random.choice(sample_list0)\n",
    "            c = random.choice(sample_list0)\n",
    "            d = random.choice(sample_list0)\n",
    "            p = random.choice(sample_list0)\n",
    "            q = random.choice(sample_list0)\n",
    "            r = random.choice(sample_list0)\n",
    "            u = random.choice(sample_list0)\n",
    "            v = random.choice(sample_list0)\n",
    "            p1 = random.choice(sample_list0)\n",
    "            q1 = random.choice(sample_list0)\n",
    "            r1 = random.choice(sample_list0)\n",
    "            u1 = random.choice(sample_list0)\n",
    "            v1 = random.choice(sample_list0)\n",
    "            fx1 = (a*x**p*y**q*z**r)/(b*m**u*n**v)\n",
    "            fx2 = (d*m**u1*n**v1)/(c*x**p1*y**q1*z**r1)\n",
    "            TE = GetTE(Qid, None, None, Tx)\n",
    "            if op == \"*\":\n",
    "                St = sp.Mul(fx1, fx2, evaluate=False)\n",
    "                TE[\"St\"] = sp.latex(St)\n",
    "            elif op == \"/\":\n",
    "                St = fx1/fx2\n",
    "                fx1latex = sp.latex(fx1)\n",
    "                fx2latex = sp.latex(fx2)\n",
    "                TE[\"St\"] = f\" {fx1latex} \\div {fx2latex}\"\n",
    "            Val = sp.simplify(St)\n",
    "            TE[\"Val\"] = Val\n",
    "            NTE.append(TE)\n",
    "    return NTE\n",
    "\n",
    "NTE=Get_PF204_Expr(10,3)\n",
    "display(Markdown(lib.NTE2TBL(NTE)))   "
   ]
  },
  {
   "cell_type": "code",
   "execution_count": 9,
   "id": "sharp-williams",
   "metadata": {},
   "outputs": [
    {
     "data": {
      "text/markdown": [
       "號|題|值|答|檢查|題型|提示\n",
       "--|--|--|--|--|--|--\n",
       "0|$$\\frac {9 x^{6} y^{2} z^{3}}{36 x^{2} y^{9} z^{2}}$$|x**4*z/(4*y**7)||0|-1||\\frac{x^{4} z}{4 y^{7}}\n",
       "1|$$\\frac {5 x^{8} y^{5} z^{3}}{25 x^{3} y^{7} z^{4}}$$|x**5/(5*y**2*z)||0|-1||\\frac{x^{5}}{5 y^{2} z}\n",
       "2|$$\\frac {9 x^{8} y^{8} z^{6}}{45 x y^{2} z^{5}}$$|x**7*y**6*z/5||0|-1||\\frac{x^{7} y^{6} z}{5}\n",
       "3|$$\\frac {x^{8} y^{3} z^{2}}{x y^{8} z^{2}}$$|x**7/y**5||0|-1||\\frac{x^{7}}{y^{5}}"
      ],
      "text/plain": [
       "<IPython.core.display.Markdown object>"
      ]
     },
     "metadata": {},
     "output_type": "display_data"
    }
   ],
   "source": [
    "import math                                       #math 內置數學函數\n",
    "import numpy as np                                #數字矩陣\n",
    "import re\n",
    "import random                                     #亂數 \n",
    "import sympy as sp                                #sympy 簡易別名 sp    \n",
    "from sympy.parsing.sympy_parser import parse_expr #文字字串, 解釋成, Sympy 運算式\n",
    "from IPython.display import Latex,HTML,Markdown                 #網頁顯示數學符號\n",
    "sp.init_printing(\"mathjax\")                       #sp.init_printing()  168 \n",
    "import lib\n",
    "from lib import GetTE\n",
    "\"\"\"\n",
    "分式乘除(tx1)\n",
    "\"\"\"\n",
    "def Get_PF204_Expr(QizAmt):\n",
    "    x,y,z,m,n=sp.symbols('x,y,z,m,n')\n",
    "    op_list=[\"*\",\"/\"]\n",
    "    sample_list0= list(range(1,10))   # [-5,-4,-3,-2,-1,1,2,3,4,5]\n",
    "    sample_list1= list(range(-9,9))\n",
    "    sample_list1.remove(0)    # 非零數列\n",
    "    NTE=[]\n",
    "    for i in range(0,QizAmt):\n",
    "        op=  random.choice(op_list) \n",
    "        a = random.choice(sample_list0) \n",
    "        b = random.choice(sample_list0) \n",
    "        c = random.choice(sample_list0) \n",
    "        d = random.choice(sample_list0) \n",
    "        p = random.choice(sample_list0) \n",
    "        q = random.choice(sample_list0) \n",
    "        r = random.choice(sample_list0) \n",
    "        u = random.choice(sample_list0) \n",
    "        v = random.choice(sample_list0) \n",
    "        p1 = random.choice(sample_list0) \n",
    "        q1 = random.choice(sample_list0) \n",
    "        r1 = random.choice(sample_list0) \n",
    "        u1 = random.choice(sample_list0)\n",
    "        v1 = random.choice(sample_list0)\n",
    "        k1 = random.choice([1, 2, 3, 4, 5])\n",
    "        k2 = random.choice([1, 2, 3, 4, 5])\n",
    "        fx1=a*x**p*y**q*z**r\n",
    "        fx2=k1*a*x**p1*y**q1*z**r1\n",
    "        St=fx1/fx2\n",
    "        #St=sp.Mul(fx1,fx2,evaluate=False)\n",
    "        fx1latex=sp.latex(fx1)\n",
    "        fx2latex=sp.latex(fx2)        \n",
    "        StLatex= r\"\\frac {%s}{%s}\"% (fx1latex,fx2latex)\n",
    "        Val=sp.simplify(St)\n",
    "        TE=GetTE(len(NTE),StLatex,Val)        \n",
    "        TE[\"ValLatex\"]=sp.latex(Val)\n",
    "        NTE.append(TE)    \n",
    "    return NTE\n",
    "\n",
    "x,y,z,m,n=sp.symbols('x,y,z,m,n')\n",
    "NTE=Get_PF204_Expr(4)\n",
    "display(Markdown(lib.NTE2TBL(NTE)))   "
   ]
  },
  {
   "cell_type": "code",
   "execution_count": 21,
   "id": "moral-specialist",
   "metadata": {},
   "outputs": [
    {
     "data": {
      "text/markdown": [
       "號|題|值|答|檢查|題型|提示\n",
       "--|--|--|--|--|--|--\n",
       "0|$$\\frac {x^{2} - 5 x}{x^{2} - x - 20}$$|x/(x + 4)||0|-1||\\frac{x}{x + 4}\n",
       "1|$$\\frac {x^{2} + x - 42}{x^{2} - 7 x + 6}$$|(x + 7)/(x - 1)||0|-1||\\frac{x + 7}{x - 1}\n",
       "2|$$\\frac {x^{2} + 3 x - 40}{x^{2} + 2 x - 48}$$|(x - 5)/(x - 6)||0|-1||\\frac{x - 5}{x - 6}\n",
       "3|$$\\frac {x^{2} - 11 x + 28}{x^{2} - 11 x + 28}$$|1||0|-1||1"
      ],
      "text/plain": [
       "<IPython.core.display.Markdown object>"
      ]
     },
     "metadata": {},
     "output_type": "display_data"
    }
   ],
   "source": [
    "import math                                       #math 內置數學函數\n",
    "import numpy as np                                #數字矩陣\n",
    "import re\n",
    "import random                                     #亂數 \n",
    "import sympy as sp                                #sympy 簡易別名 sp    \n",
    "from sympy.parsing.sympy_parser import parse_expr #文字字串, 解釋成, Sympy 運算式\n",
    "from IPython.display import Latex,HTML,Markdown                 #網頁顯示數學符號\n",
    "sp.init_printing(\"mathjax\")                       #sp.init_printing()  168 \n",
    "import lib\n",
    "from lib import GetTE\n",
    "\"\"\"\n",
    "分式乘除(tx2)\n",
    "\"\"\"\n",
    "def Get_PF204_Expr(QizAmt):\n",
    "    x,y,z,m,n=sp.symbols('x,y,z,m,n')\n",
    "    op_list=[\"*\",\"/\"]\n",
    "    sample_list0= list(range(-10,10))   # [-5,-4,-3,-2,-1,1,2,3,4,5]\n",
    "    sample_list1= list(range(-39,29))\n",
    "    sample_list1.remove(0)    # 非零數列\n",
    "    NTE=[]\n",
    "    for i in range(0,QizAmt):\n",
    "        op=  random.choice(op_list) \n",
    "        a = random.choice(sample_list0) \n",
    "        b = random.choice(sample_list0) \n",
    "        c = random.choice(sample_list0) \n",
    "        d = random.choice(sample_list0) \n",
    "        p = random.choice(sample_list0) \n",
    "        q = random.choice(sample_list0) \n",
    "        r = random.choice(sample_list0) \n",
    "        u = random.choice(sample_list0) \n",
    "        v = random.choice(sample_list0) \n",
    "        p1 = random.choice(sample_list0) \n",
    "        q1 = random.choice(sample_list0) \n",
    "        r1 = random.choice(sample_list0) \n",
    "        u1 = random.choice(sample_list0)\n",
    "        v1 = random.choice(sample_list0)\n",
    "        ffx=x+a\n",
    "        fx1=(x+b)*ffx\n",
    "        fx2=(x+c)*ffx\n",
    "        St=fx1/fx2\n",
    "        #St=sp.Mul(fx1,fx2,evaluate=False)\n",
    "        fx1latex=sp.latex(fx1.expand())\n",
    "        fx2latex=sp.latex(fx2.expand())        \n",
    "        StLatex= r\"\\frac {%s}{%s}\"% (fx1latex,fx2latex)\n",
    "        Val=sp.simplify(St)\n",
    "        TE=GetTE(len(NTE),StLatex,Val)        \n",
    "        TE[\"ValLatex\"]=sp.latex(Val)\n",
    "        NTE.append(TE)    \n",
    "    return NTE\n",
    "\n",
    "x,y,z,m,n=sp.symbols('x,y,z,m,n')\n",
    "NTE=Get_PF204_Expr(4)\n",
    "display(Markdown(lib.NTE2TBL(NTE)))   "
   ]
  },
  {
   "cell_type": "code",
   "execution_count": 2,
   "id": "comparative-aurora",
   "metadata": {
    "tags": []
   },
   "outputs": [
    {
     "data": {
      "text/markdown": [
       "號|題|值|答|檢查|題型|提示\n",
       "--|--|--|--|--|--|--\n",
       "0|$$\\frac{x^{5} y^{15} z^{12}}{3 m^{16} n^{13}} \\frac{7 m^{13} n^{9}}{6 x^{8} y^{7} z^{3}}$$|7*y**8*z**9/(18*m**3*n**4*x**3)||0|-1||\\frac{7 y^{8} z^{9}}{18 m^{3} n^{4} x^{3}}\n",
       "1|$$\\frac{16 x^{8} y^{10} z^{13}}{13 m^{7} n^{14}} \\frac{2 m^{9} n^{9}}{3 x^{12} y^{12} z^{7}}$$|32*m**2*z**6/(39*n**5*x**4*y**2)||0|-1||\\frac{32 m^{2} z^{6}}{39 n^{5} x^{4} y^{2}}\n",
       "2|$$ \\frac{x^{10} y^{10} z^{5}}{11 m^{13} n^{15}} \\div \\frac{m^{6} n^{15}}{x^{14} y^{14} z^{15}}$$|x**24*y**24*z**20/(11*m**19*n**30)||0|-1||\\frac{x^{24} y^{24} z^{20}}{11 m^{19} n^{30}}\n",
       "3|$$\\frac{11 x y^{11} z}{3 m^{6} n^{14}} \\frac{8 m^{7} n^{5}}{5 x^{11} y^{4} z^{10}}$$|88*m*y**7/(15*n**9*x**10*z**9)||0|-1||\\frac{88 m y^{7}}{15 n^{9} x^{10} z^{9}}"
      ],
      "text/plain": [
       "<IPython.core.display.Markdown object>"
      ]
     },
     "metadata": {},
     "output_type": "display_data"
    }
   ],
   "source": [
    "import math                                       #math 內置數學函數\n",
    "import numpy as np                                #數字矩陣\n",
    "import re\n",
    "import random                                     #亂數 \n",
    "import sympy as sp                                #sympy 簡易別名 sp    \n",
    "from sympy.parsing.sympy_parser import parse_expr #文字字串, 解釋成, Sympy 運算式\n",
    "from IPython.display import Latex,HTML,Markdown                 #網頁顯示數學符號\n",
    "sp.init_printing(\"mathjax\")                       #sp.init_printing()  168 \n",
    "import lib\n",
    "from lib import GetTE\n",
    "\"\"\"\n",
    "分式乘除(tx4)\n",
    "\"\"\"\n",
    "def Get_PF204_Expr(QizAmt):\n",
    "    x,y,z,m,n=sp.symbols('x,y,z,m,n')\n",
    "    op_list=[\"*\",\"/\"]\n",
    "    sample_list0= list(range(1,17))   # [-5,-4,-3,-2,-1,1,2,3,4,5]\n",
    "    sample_list1= list(range(-39,29))\n",
    "    sample_list1.remove(0)    # 非零數列\n",
    "    NTE=[]\n",
    "    for i in range(0,QizAmt):\n",
    "        op=  random.choice(op_list) \n",
    "        a = random.choice(sample_list0) \n",
    "        b = random.choice(sample_list0) \n",
    "        c = random.choice(sample_list0) \n",
    "        d = random.choice(sample_list0) \n",
    "        p = random.choice(sample_list0) \n",
    "        q = random.choice(sample_list0) \n",
    "        r = random.choice(sample_list0) \n",
    "        u = random.choice(sample_list0) \n",
    "        v = random.choice(sample_list0) \n",
    "        p1 = random.choice(sample_list0) \n",
    "        q1 = random.choice(sample_list0) \n",
    "        r1 = random.choice(sample_list0) \n",
    "        u1 = random.choice(sample_list0)\n",
    "        v1 = random.choice(sample_list0)\n",
    "        fx1=(a*x**p*y**q*z**r)/(b*m**u*n**v)\n",
    "        fx2=(d*m**u1*n**v1)/(c*x**p1*y**q1*z**r1)\n",
    "        StLatex=\"\"\n",
    "        if op==\"*\":\n",
    "            St=sp.Mul(fx1,fx2,evaluate=False)\n",
    "            StLatex=sp.latex(St)\n",
    "        elif op==\"/\":\n",
    "            St=fx1/fx2\n",
    "            fx1latex=sp.latex(fx1)\n",
    "            fx2latex=sp.latex(fx2)\n",
    "            StLatex= f\" {fx1latex} \\div {fx2latex}\"\n",
    "        Val=sp.simplify(St)\n",
    "        TE=GetTE(len(NTE),StLatex,Val)        \n",
    "        TE[\"ValLatex\"]=sp.latex(Val)\n",
    "        NTE.append(TE)    \n",
    "    return NTE\n",
    "\n",
    "x,y,z,m,n=sp.symbols('x,y,z,m,n')\n",
    "NTE=Get_PF204_Expr(4)\n",
    "display(Markdown(lib.NTE2TBL(NTE)))   "
   ]
  },
  {
   "cell_type": "code",
   "execution_count": 10,
   "id": "associate-teach",
   "metadata": {},
   "outputs": [
    {
     "data": {
      "text/markdown": [
       "號|題|值|答|檢查|題型|提示\n",
       "--|--|--|--|--|--|--\n",
       "0|$$\\frac {x^{2} - 49}{x^{2} - 3 x - 70} \\cdot  \\frac {x^{2} - 49}{x^{2} + 14 x + 49}$$|(x - 7)**2/((x - 10)*(x + 7))||0|-1||\\frac{\\left(x - 7\\right)^{2}}{\\left(x - 10\\right) \\left(x + 7\\right)}\n",
       "1|$$\\frac {x^{2} - x - 6}{x^{2} - 9} \\div  \\frac {x^{2} - 9}{x^{2} - 5 x + 6}$$|(x + 2)/((x - 3)**2*(x - 2)*(x + 3)**2)||0|-1||\\frac{x + 2}{\\left(x - 3\\right)^{2} \\left(x - 2\\right) \\left(x + 3\\right)^{2}}\n",
       "2|$$\\frac {x^{2} - 15 x + 50}{x^{2} - 20 x + 100} \\cdot  \\frac {x^{2} - 100}{x^{2} - 5 x - 50}$$|(x - 5)*(x + 10)/((x - 10)*(x + 5))||0|-1||\\frac{\\left(x - 5\\right) \\left(x + 10\\right)}{\\left(x - 10\\right) \\left(x + 5\\right)}\n",
       "3|$$\\frac {x^{2} - 4 x + 4}{x^{2} + 2 x - 8} \\div  \\frac {x^{2} - 4}{x^{2} - 4}$$|1/((x - 2)*(x + 2)**2*(x + 4))||0|-1||\\frac{1}{\\left(x - 2\\right) \\left(x + 2\\right)^{2} \\left(x + 4\\right)}\n",
       "4|$$\\frac {x^{2} - 25}{x^{2} - 4 x - 5} \\cdot  \\frac {x^{2} - 25}{x^{2} - 10 x + 25}$$|(x + 5)**2/((x - 5)*(x + 1))||0|-1||\\frac{\\left(x + 5\\right)^{2}}{\\left(x - 5\\right) \\left(x + 1\\right)}\n",
       "5|$$\\frac {x^{2} - 25}{x^{2} - 3 x - 40} \\cdot  \\frac {x^{2} - 25}{x^{2} + 10 x + 25}$$|(x - 5)**2/((x - 8)*(x + 5))||0|-1||\\frac{\\left(x - 5\\right)^{2}}{\\left(x - 8\\right) \\left(x + 5\\right)}\n",
       "6|$$\\frac {x^{2} + 12 x + 35}{x^{2} + 7 x + 10} \\div  \\frac {x^{2} - 25}{x^{2} - 2 x - 35}$$|(x + 7)/((x - 7)*(x - 5)*(x + 2)*(x + 5)**2)||0|-1||\\frac{x + 7}{\\left(x - 7\\right) \\left(x - 5\\right) \\left(x + 2\\right) \\left(x + 5\\right)^{2}}\n",
       "7|$$\\frac {x^{2} - x - 2}{x^{2} + 6 x - 16} \\div  \\frac {x^{2} - 4}{x^{2} - 3 x + 2}$$|(x + 1)/((x - 2)**2*(x - 1)*(x + 2)*(x + 8))||0|-1||\\frac{x + 1}{\\left(x - 2\\right)^{2} \\left(x - 1\\right) \\left(x + 2\\right) \\left(x + 8\\right)}\n",
       "8|$$\\frac {x^{2} - 2 x - 80}{x^{2} + 14 x + 48} \\div  \\frac {x^{2} - 64}{x^{2} + 18 x + 80}$$|(x - 10)/((x - 8)*(x + 6)*(x + 8)**2*(x + 10))||0|-1||\\frac{x - 10}{\\left(x - 8\\right) \\left(x + 6\\right) \\left(x + 8\\right)^{2} \\left(x + 10\\right)}\n",
       "9|$$\\frac {x^{2} - x}{x^{2} + 3 x - 4} \\cdot  \\frac {x^{2} - 1}{x^{2} - x}$$|(x + 1)/(x + 4)||0|-1||\\frac{x + 1}{x + 4}"
      ],
      "text/plain": [
       "<IPython.core.display.Markdown object>"
      ]
     },
     "metadata": {},
     "output_type": "display_data"
    }
   ],
   "source": [
    "import math                                       #math 內置數學函數\n",
    "import numpy as np                                #數字矩陣\n",
    "import re\n",
    "import random                                     #亂數 \n",
    "import sympy as sp                                #sympy 簡易別名 sp    \n",
    "from sympy.parsing.sympy_parser import parse_expr #文字字串, 解釋成, Sympy 運算式\n",
    "from IPython.display import Latex,HTML,Markdown                 #網頁顯示數學符號\n",
    "sp.init_printing(\"mathjax\")                       #sp.init_printing()  168 \n",
    "import lib\n",
    "from lib import GetTE\n",
    "\"\"\"\n",
    "分式乘除(tx2)\n",
    "\"\"\"\n",
    "def Get_PF204_Expr(QizAmt):\n",
    "    x,y,z,m,n=sp.symbols('x,y,z,m,n')\n",
    "    op_list=[\"*\",\"/\"]\n",
    "    sample_list0= list(range(-10,10))   # [-5,-4,-3,-2,-1,1,2,3,4,5]\n",
    "    sample_list1= list(range(-39,29))\n",
    "    sample_list1.remove(0)    # 非零數列\n",
    "    NTE=[]\n",
    "    for i in range(0,QizAmt):\n",
    "        op=  random.choice(op_list) \n",
    "        a = random.choice(sample_list0) \n",
    "        b = random.choice(sample_list0) \n",
    "        c = random.choice(sample_list0) \n",
    "        d = random.choice(sample_list0) \n",
    "        e = random.choice(sample_list0) \n",
    "        p = random.choice(sample_list0) \n",
    "        q = random.choice(sample_list0) \n",
    "        r = random.choice(sample_list0) \n",
    "        u = random.choice(sample_list0) \n",
    "        v = random.choice(sample_list0) \n",
    "        p1 = random.choice(sample_list0) \n",
    "        q1 = random.choice(sample_list0) \n",
    "        r1 = random.choice(sample_list0) \n",
    "        u1 = random.choice(sample_list0)\n",
    "        v1 = random.choice(sample_list0)\n",
    "        ffx=x+a\n",
    "        fx1=(x+b)*ffx\n",
    "        fx2=(x+c)*ffx\n",
    "        fx3=(x-a)*ffx\n",
    "        fx4=(x-b)*ffx\n",
    "        fx1latex=sp.latex(fx1.expand())\n",
    "        fx2latex=sp.latex(fx2.expand())        \n",
    "        fx3latex=sp.latex(fx3.expand())        \n",
    "        fx4latex=sp.latex(fx4.expand())        \n",
    "        \n",
    "        if op==\"*\":\n",
    "            St=fx1/fx2 * fx3/fx4\n",
    "            StLatex= r\"\\frac {%s}{%s} \\cdot  \\frac {%s}{%s}\"% (fx1latex,fx2latex,fx3latex,fx4latex)\n",
    "        elif op==\"/\":\n",
    "            St=fx1/fx2 / fx3/fx4\n",
    "            #St=sp.Mul(fx1,fx2,evaluate=False)\n",
    "            StLatex= r\"\\frac {%s}{%s} \\div  \\frac {%s}{%s}\"% (fx1latex,fx2latex,fx3latex,fx4latex)\n",
    "        Val=sp.simplify(St)\n",
    "        TE=GetTE(len(NTE),StLatex,Val)        \n",
    "        TE[\"ValLatex\"]=sp.latex(Val)\n",
    "        NTE.append(TE)    \n",
    "    return NTE\n",
    "\n",
    "x,y,z,m,n=sp.symbols('x,y,z,m,n')\n",
    "NTE=Get_PF204_Expr(10)\n",
    "display(Markdown(lib.NTE2TBL(NTE)))   "
   ]
  },
  {
   "cell_type": "markdown",
   "id": "qualified-communist",
   "metadata": {},
   "source": [
    "end"
   ]
  },
  {
   "cell_type": "code",
   "execution_count": 26,
   "id": "severe-signal",
   "metadata": {},
   "outputs": [
    {
     "data": {
      "text/markdown": [
       "號|題|值|答|檢查|題型|提示\n",
       "--|--|--|--|--|--|--\n",
       "0|$$\\frac{x + 1}{x + 2} \\cdot 1$$|(x + 1)/(x + 2)||0|-1||\\frac{x + 1}{x + 2}\n",
       "1|$$\\frac{x + 1}{x + 2} \\frac{x + 9}{x + 6}$$|(x + 1)*(x + 9)/((x + 2)*(x + 6))||0|-1||\\frac{\\left(x + 1\\right) \\left(x + 9\\right)}{\\left(x + 2\\right) \\left(x + 6\\right)}\n",
       "2|$$ \\frac{x}{x + 2} + \\frac{1}{x + 2} \\div \\frac{x}{x + 6} + \\frac{9}{x + 6}$$|(x + 1)*(x + 6)/((x + 2)*(x + 9))||0|-1||\\frac{\\left(x + 1\\right) \\left(x + 6\\right)}{\\left(x + 2\\right) \\left(x + 9\\right)}\n",
       "3|$$\\frac{x + 1}{x + 2} \\frac{x + 1}{x + 4}$$|(x + 1)**2/((x + 2)*(x + 4))||0|-1||\\frac{\\left(x + 1\\right)^{2}}{\\left(x + 2\\right) \\left(x + 4\\right)}\n",
       "4|$$\\frac{x + 1}{x + 2} \\frac{x + 1}{x + 7}$$|(x + 1)**2/((x + 2)*(x + 7))||0|-1||\\frac{\\left(x + 1\\right)^{2}}{\\left(x + 2\\right) \\left(x + 7\\right)}\n",
       "5|$$ \\frac{x}{x + 2} + \\frac{1}{x + 2} \\div \\frac{x}{x + 8} + \\frac{5}{x + 8}$$|(x + 1)*(x + 8)/((x + 2)*(x + 5))||0|-1||\\frac{\\left(x + 1\\right) \\left(x + 8\\right)}{\\left(x + 2\\right) \\left(x + 5\\right)}\n",
       "6|$$\\frac{x + 1}{x + 2} \\frac{x + 5}{x + 4}$$|(x + 1)*(x + 5)/((x + 2)*(x + 4))||0|-1||\\frac{\\left(x + 1\\right) \\left(x + 5\\right)}{\\left(x + 2\\right) \\left(x + 4\\right)}\n",
       "7|$$ \\frac{x}{x + 2} + \\frac{1}{x + 2} \\div \\frac{x}{x + 3} + \\frac{8}{x + 3}$$|(x + 1)*(x + 3)/((x + 2)*(x + 8))||0|-1||\\frac{\\left(x + 1\\right) \\left(x + 3\\right)}{\\left(x + 2\\right) \\left(x + 8\\right)}\n",
       "8|$$ \\frac{x}{x + 2} + \\frac{1}{x + 2} \\div \\frac{x}{x + 4} + \\frac{2}{x + 4}$$|(x + 1)*(x + 4)/(x + 2)**2||0|-1||\\frac{\\left(x + 1\\right) \\left(x + 4\\right)}{\\left(x + 2\\right)^{2}}\n",
       "9|$$\\frac{x + 1}{x + 2} \\frac{x + 4}{x + 3}$$|(x + 1)*(x + 4)/((x + 2)*(x + 3))||0|-1||\\frac{\\left(x + 1\\right) \\left(x + 4\\right)}{\\left(x + 2\\right) \\left(x + 3\\right)}"
      ],
      "text/plain": [
       "<IPython.core.display.Markdown object>"
      ]
     },
     "metadata": {},
     "output_type": "display_data"
    }
   ],
   "source": [
    "import math                                       #math 內置數學函數\n",
    "import numpy as np                                #數字矩陣\n",
    "import re\n",
    "import random                                     #亂數 \n",
    "import sympy as sp                                #sympy 簡易別名 sp    \n",
    "from sympy.parsing.sympy_parser import parse_expr #文字字串, 解釋成, Sympy 運算式\n",
    "from IPython.display import Latex,HTML,Markdown                 #網頁顯示數學符號\n",
    "sp.init_printing(\"mathjax\")                       #sp.init_printing()  168 \n",
    "import lib\n",
    "from lib import GetTE\n",
    "\"\"\"\n",
    "分式乘除(tx3)\n",
    "\"\"\"\n",
    "def Get_PF204_Expr(QizAmt):\n",
    "    x,y,z,m,n=sp.symbols('x,y,z,m,n')\n",
    "    op_list=[\"*\",\"/\"]\n",
    "    sample_list0= list(range(1,10))   # [-5,-4,-3,-2,-1,1,2,3,4,5]\n",
    "    sample_list1= list(range(-39,29))\n",
    "    sample_list1.remove(0)    # 非零數列\n",
    "    NTE=[]\n",
    "    for i in range(0,QizAmt):\n",
    "        op=  random.choice(op_list) \n",
    "        a = random.choice(sample_list0) \n",
    "        b = random.choice(sample_list0) \n",
    "        c = random.choice(sample_list0) \n",
    "        d = random.choice(sample_list0) \n",
    "        p = random.choice(sample_list0) \n",
    "        q = random.choice(sample_list0) \n",
    "        r = random.choice(sample_list0) \n",
    "        u = random.choice(sample_list0) \n",
    "        v = random.choice(sample_list0) \n",
    "        p1 = random.choice(sample_list0) \n",
    "        q1 = random.choice(sample_list0) \n",
    "        r1 = random.choice(sample_list0) \n",
    "        u1 = random.choice(sample_list0)\n",
    "        v1 = random.choice(sample_list0)\n",
    "        k1 = random.choice([1, 2, 3, 4, 5])\n",
    "        k2 = random.choice([1, 2, 3, 4, 5])\n",
    "        k3 = random.choice([1, 2, 3, 4, 5])\n",
    "        k4 = random.choice([1, 2, 3, 4, 5])\n",
    "        ffx=x+a\n",
    "        fx1=((x+1)*ffx)/(((x+2)*ffx))\n",
    "        fx2=((x+a)*ffx)/(((x+d)*ffx))\n",
    "        St=fx1*fx2\n",
    "        #St=sp.Mul(fx1,fx2,evaluate=False)\n",
    "        fx1latex=sp.latex(fx1.expand())\n",
    "        fx2latex=sp.latex(fx2.expand())        \n",
    "        StLatex= r\"\\frac {%s}{%s}\"% (fx1latex,fx2latex)\n",
    "        Val=sp.simplify(St)\n",
    "        \n",
    "                 \n",
    "        StLatex=\"\"\n",
    "        if op==\"*\":\n",
    "            St=sp.Mul(fx1,fx2,evaluate=False)\n",
    "            StLatex=sp.latex(St)\n",
    "        elif op==\"/\":\n",
    "            St=fx1/fx2\n",
    "            fx1latex=sp.latex(fx1.expand())\n",
    "            fx2latex=sp.latex(fx2.expand())   \n",
    "            StLatex= f\" {fx1latex} \\div {fx2latex}\"\n",
    "        Val=sp.simplify(St)\n",
    "        TE=GetTE(len(NTE),StLatex,Val)        \n",
    "        TE[\"ValLatex\"]=sp.latex(Val)\n",
    "        NTE.append(TE)    \n",
    "    return NTE\n",
    "\n",
    "x,y,z,m,n=sp.symbols('x,y,z,m,n')\n",
    "NTE=Get_PF204_Expr(10)\n",
    "display(Markdown(lib.NTE2TBL(NTE)))   "
   ]
  },
  {
   "cell_type": "code",
   "execution_count": 29,
   "id": "biological-belly",
   "metadata": {},
   "outputs": [
    {
     "data": {
      "text/markdown": [
       "號|題|值|答|檢查|題型|提示\n",
       "--|--|--|--|--|--|--\n",
       "0|$$ \\frac{\\left(n + 12\\right) \\left(x + 2\\right) \\left(x + 10\\right)}{m + 2} \\div \\frac{10 m^{8} + n^{9}}{x^{14} + y^{10} z}$$|(n + 12)*(x + 2)*(x + 10)*(x**14 + y**10*z)/((m + 2)*(10*m**8 + n**9))||0|-1||\\frac{\\left(n + 12\\right) \\left(x + 2\\right) \\left(x + 10\\right) \\left(x^{14} + y^{10} z\\right)}{\\left(m + 2\\right) \\left(10 m^{8} + n^{9}\\right)}\n",
       "1|$$\\frac{5 m^{15} + n^{8}}{x + y z^{10}} \\frac{\\left(n + 9\\right) \\left(x + 1\\right) \\left(x + 12\\right)}{m + 1}$$|(5*m**15 + n**8)*(n + 9)*(x + 1)*(x + 12)/((m + 1)*(x + y*z**10))||0|-1||\\frac{\\left(5 m^{15} + n^{8}\\right) \\left(n + 9\\right) \\left(x + 1\\right) \\left(x + 12\\right)}{\\left(m + 1\\right) \\left(x + y z^{10}\\right)}\n",
       "2|$$ \\frac{\\left(n + 1\\right) \\left(x + 7\\right) \\left(x + 9\\right)}{m + 7} \\div \\frac{6 m^{7} + n^{13}}{10 x^{8} + y^{15} z}$$|(n + 1)*(x + 7)*(x + 9)*(10*x**8 + y**15*z)/((m + 7)*(6*m**7 + n**13))||0|-1||\\frac{\\left(n + 1\\right) \\left(x + 7\\right) \\left(x + 9\\right) \\left(10 x^{8} + y^{15} z\\right)}{\\left(m + 7\\right) \\left(6 m^{7} + n^{13}\\right)}\n",
       "3|$$\\frac{2 m^{7} + n^{3}}{8 x^{15} + y^{13} z^{12}} \\frac{\\left(n + 9\\right) \\left(x + 12\\right) \\left(x + 14\\right)}{m + 12}$$|(2*m**7 + n**3)*(n + 9)*(x + 12)*(x + 14)/((m + 12)*(8*x**15 + y**13*z**12))||0|-1||\\frac{\\left(2 m^{7} + n^{3}\\right) \\left(n + 9\\right) \\left(x + 12\\right) \\left(x + 14\\right)}{\\left(m + 12\\right) \\left(8 x^{15} + y^{13} z^{12}\\right)}"
      ],
      "text/plain": [
       "<IPython.core.display.Markdown object>"
      ]
     },
     "metadata": {},
     "output_type": "display_data"
    }
   ],
   "source": [
    "import math                                       #math 內置數學函數\n",
    "import numpy as np                                #數字矩陣\n",
    "import re\n",
    "import random                                     #亂數 \n",
    "import sympy as sp                                #sympy 簡易別名 sp    \n",
    "from sympy.parsing.sympy_parser import parse_expr #文字字串, 解釋成, Sympy 運算式\n",
    "from IPython.display import Latex,HTML,Markdown                 #網頁顯示數學符號\n",
    "sp.init_printing(\"mathjax\")                       #sp.init_printing()  168 \n",
    "import lib\n",
    "from lib import GetTE\n",
    "\"\"\"\n",
    "分式乘除(tx4)\n",
    "\"\"\"\n",
    "def Get_PF204_Expr(QizAmt):\n",
    "    x,y,z,m,n=sp.symbols('x,y,z,m,n')\n",
    "    op_list=[\"*\",\"/\"]\n",
    "    sample_list0= list(range(1,17))   # [-5,-4,-3,-2,-1,1,2,3,4,5]\n",
    "    sample_list1= list(range(-39,29))\n",
    "    sample_list1.remove(0)    # 非零數列\n",
    "    NTE=[]\n",
    "    for i in range(0,QizAmt):\n",
    "        op=  random.choice(op_list) \n",
    "        a = random.choice(sample_list0) \n",
    "        b = random.choice(sample_list0) \n",
    "        c = random.choice(sample_list0) \n",
    "        d = random.choice(sample_list0) \n",
    "        p = random.choice(sample_list0) \n",
    "        q = random.choice(sample_list0) \n",
    "        r = random.choice(sample_list0) \n",
    "        u = random.choice(sample_list0) \n",
    "        v = random.choice(sample_list0) \n",
    "        p1 = random.choice(sample_list0) \n",
    "        q1 = random.choice(sample_list0) \n",
    "        r1 = random.choice(sample_list0) \n",
    "        u1 = random.choice(sample_list0)\n",
    "        v1 = random.choice(sample_list0)\n",
    "        fx1=(x+b)*(x+a)/(b+m)*(u+n)\n",
    "        fx2=(d*m**u1+n**v1)/(c*x**p1+y**q1*z**r1)\n",
    "        StLatex=\"\"\n",
    "        if op==\"*\":\n",
    "            St=sp.Mul(fx1,fx2,evaluate=False)\n",
    "            StLatex=sp.latex(St)\n",
    "        elif op==\"/\":\n",
    "            St=fx1/fx2\n",
    "            fx1latex=sp.latex(fx1)\n",
    "            fx2latex=sp.latex(fx2)\n",
    "            StLatex= f\" {fx1latex} \\div {fx2latex}\"\n",
    "        Val=sp.simplify(St)\n",
    "        TE=GetTE(len(NTE),StLatex,Val)        \n",
    "        TE[\"ValLatex\"]=sp.latex(Val)\n",
    "        NTE.append(TE)    \n",
    "    return NTE\n",
    "\n",
    "x,y,z,m,n=sp.symbols('x,y,z,m,n')\n",
    "NTE=Get_PF204_Expr(4)\n",
    "display(Markdown(lib.NTE2TBL(NTE)))   "
   ]
  },
  {
   "cell_type": "code",
   "execution_count": 2,
   "id": "suburban-serbia",
   "metadata": {},
   "outputs": [
    {
     "data": {
      "text/markdown": [
       "號|題|值|答|檢查|題型|提示\n",
       "--|--|--|--|--|--|--\n",
       "0|$$ \\left(x + 3\\right) \\left(x + 4\\right) \\div \\left(x + 4\\right) \\left(x + 6\\right) \\left(x + 4\\right) \\left(x + 15\\right) \\div \\left(x + 4\\right)^{2}$$|(x + 3)*(x + 15)/((x + 4)*(x + 6))||0|-1||0|\\frac{\\left(x + 3\\right) \\left(x + 15\\right)}{\\left(x + 4\\right) \\left(x + 6\\right)}\n",
       "1|$$\\left(x + 1\\right) \\left(x + 2\\right) \\left(x + 1\\right) \\left(x + 3\\right) \\left(x + 1\\right)^{2} \\left(x + 1\\right)^{2}$$|(x + 1)**6*(x + 2)*(x + 3)||0|-1||0|\\left(x + 1\\right)^{6} \\left(x + 2\\right) \\left(x + 3\\right)\n",
       "2|$$\\left(x + 1\\right) \\left(x + 2\\right) \\left(x + 1\\right) \\left(x + 9\\right) \\left(x + 1\\right) \\left(x + 10\\right) \\left(x + 1\\right)^{2}$$|(x + 1)**5*(x + 2)*(x + 9)*(x + 10)||0|-1||0|\\left(x + 1\\right)^{5} \\left(x + 2\\right) \\left(x + 9\\right) \\left(x + 10\\right)\n",
       "3|$$\\left(x + 4\\right) \\left(x + 5\\right) \\left(x + 4\\right) \\left(x + 5\\right) \\left(x + 5\\right) \\left(x + 7\\right) \\left(x + 5\\right)^{2}$$|(x + 4)**2*(x + 5)**5*(x + 7)||0|-1||0|\\left(x + 4\\right)^{2} \\left(x + 5\\right)^{5} \\left(x + 7\\right)"
      ],
      "text/plain": [
       "<IPython.core.display.Markdown object>"
      ]
     },
     "metadata": {},
     "output_type": "display_data"
    }
   ],
   "source": [
    "import math                                       #math 內置數學函數\n",
    "import numpy as np                                #數字矩陣\n",
    "import re\n",
    "import random                                     #亂數 \n",
    "import sympy as sp                                #sympy 簡易別名 sp    \n",
    "from sympy.parsing.sympy_parser import parse_expr #文字字串, 解釋成, Sympy 運算式\n",
    "from IPython.display import Latex,HTML,Markdown                 #網頁顯示數學符號\n",
    "sp.init_printing(\"mathjax\")                       #sp.init_printing()  168 \n",
    "import lib\n",
    "from lib import GetTE\n",
    "\"\"\"\n",
    "分式乘除(tx4)\n",
    "\"\"\"\n",
    "def Get_PF204_Expr(QizAmt):\n",
    "    x,y,z,m,n=sp.symbols('x,y,z,m,n')\n",
    "    op_list=[\"*\",\"/\"]\n",
    "    sample_list0= list(range(1,17))   # [-5,-4,-3,-2,-1,1,2,3,4,5]\n",
    "    sample_list1= list(range(-39,29))\n",
    "    sample_list1.remove(0)    # 非零數列\n",
    "    NTE=[]\n",
    "    for i in range(0,QizAmt):\n",
    "        op=  random.choice(op_list) \n",
    "        a = random.choice(sample_list0) \n",
    "        b = random.choice(sample_list0) \n",
    "        c = random.choice(sample_list0) \n",
    "        d = random.choice(sample_list0) \n",
    "        p = random.choice(sample_list0) \n",
    "        q = random.choice(sample_list0) \n",
    "        r = random.choice(sample_list0) \n",
    "        u = random.choice(sample_list0) \n",
    "        v = random.choice(sample_list0) \n",
    "        p1 = random.choice(sample_list0) \n",
    "        q1 = random.choice(sample_list0) \n",
    "        r1 = random.choice(sample_list0) \n",
    "        u1 = random.choice(sample_list0)\n",
    "        v1 = random.choice(sample_list0)\n",
    "        \n",
    "        ffx=x+a\n",
    "        fx1=(x+b)*ffx\n",
    "        fx2=(x+c)*ffx\n",
    "        fx3=(x+d)*ffx\n",
    "        fx4=(x+a)*ffx\n",
    "        St1=fx1/fx2\n",
    "        st2=fx3/fx4\n",
    "        #St=sp.Mul(fx1,fx2,evaluate=False)\n",
    "        fx1latex=sp.latex(fx1.expand())\n",
    "        fx2latex=sp.latex(fx2.expand())  \n",
    "        fx3latex=sp.latex(fx3.expand())  \n",
    "        fx4latex=sp.latex(fx4.expand())  \n",
    "        StLatex= r\"\\frac {%s}{%s}{%s}{%s}\"% (fx1latex,fx2latex,fx3latex,fx4latex)\n",
    "        \n",
    "               \n",
    "        \n",
    "        \n",
    "        #fx1=(a*x**p*y**q*z**r)/(b*m**u*n**v)\n",
    "        #fx2=(d*m**u1*n**v1)/(c*x**p1*y**q1*z**r1)\n",
    "        #StLatex=\"\"\n",
    "        if op==\"*\":\n",
    "            St=sp.Mul(fx1,fx2,fx3,fx4,evaluate=False)\n",
    "            StLatex=sp.latex(St)\n",
    "        elif op==\"/\":\n",
    "            St=(fx1/fx2)*(fx3/fx4)\n",
    "            fx1latex=sp.latex(fx1)\n",
    "            fx2latex=sp.latex(fx2)\n",
    "            fx3latex=sp.latex(fx3)\n",
    "            fx4latex=sp.latex(fx4)\n",
    "            \n",
    "            StLatex= f\" {fx1latex} \\div {fx2latex} {fx3latex} \\div {fx4latex}\"\n",
    "        Val=sp.simplify(St)\n",
    "        TE=GetTE(len(NTE),StLatex,Val)        \n",
    "        TE[\"ValLatex\"]=sp.latex(Val)\n",
    "        NTE.append(TE)    \n",
    "    return NTE\n",
    "\n",
    "x,y,z,m,n=sp.symbols('x,y,z,m,n')\n",
    "NTE=Get_PF204_Expr(4)\n",
    "display(Markdown(lib.NTE2TBL(NTE)))   "
   ]
  },
  {
   "cell_type": "code",
   "execution_count": 3,
   "id": "alike-company",
   "metadata": {},
   "outputs": [
    {
     "name": "stdout",
     "output_type": "stream",
     "text": [
      "第1題:\n"
     ]
    },
    {
     "data": {
      "text/latex": [
       " $$  \\frac{9 x^{6} y^{12} z^{7}}{16 m^{4} n^{2}} \\div \\frac{5 m^{7} n^{3}}{12 x^{4} y^{6} z^{5}} $$ "
      ],
      "text/plain": [
       "<IPython.core.display.Latex object>"
      ]
     },
     "metadata": {},
     "output_type": "display_data"
    },
    {
     "data": {
      "text/latex": [
       " 標準答案: $ \\frac{27 x^{10} y^{18} z^{12}}{20 m^{11} n^{5}}$"
      ],
      "text/plain": [
       "<IPython.core.display.Latex object>"
      ]
     },
     "metadata": {},
     "output_type": "display_data"
    },
    {
     "name": "stdout",
     "output_type": "stream",
     "text": [
      "27*x**10*y**18*z**12/(20*m**11*n**5)\n"
     ]
    },
    {
     "name": "stdin",
     "output_type": "stream",
     "text": [
      "請作答: 0\n"
     ]
    },
    {
     "name": "stdout",
     "output_type": "stream",
     "text": [
      "0\n"
     ]
    },
    {
     "data": {
      "text/latex": [
       "答案錯誤, 標準答案: $ \\frac{27 x^{10} y^{18} z^{12}}{20 m^{11} n^{5}} $"
      ],
      "text/plain": [
       "<IPython.core.display.Latex object>"
      ]
     },
     "metadata": {},
     "output_type": "display_data"
    },
    {
     "name": "stdout",
     "output_type": "stream",
     "text": [
      "第2題:\n"
     ]
    },
    {
     "data": {
      "text/latex": [
       " $$  \\frac{3 x^{12} y^{13} z^{15}}{m^{2} n^{14}} \\div \\frac{13 m^{7} n^{13}}{5 x^{14} y^{5} z^{13}} $$ "
      ],
      "text/plain": [
       "<IPython.core.display.Latex object>"
      ]
     },
     "metadata": {},
     "output_type": "display_data"
    },
    {
     "data": {
      "text/latex": [
       " 標準答案: $ \\frac{15 x^{26} y^{18} z^{28}}{13 m^{9} n^{27}}$"
      ],
      "text/plain": [
       "<IPython.core.display.Latex object>"
      ]
     },
     "metadata": {},
     "output_type": "display_data"
    },
    {
     "name": "stdout",
     "output_type": "stream",
     "text": [
      "15*x**26*y**18*z**28/(13*m**9*n**27)\n"
     ]
    },
    {
     "name": "stdin",
     "output_type": "stream",
     "text": [
      "請作答: 0\n"
     ]
    },
    {
     "name": "stdout",
     "output_type": "stream",
     "text": [
      "0\n"
     ]
    },
    {
     "data": {
      "text/latex": [
       "答案錯誤, 標準答案: $ \\frac{15 x^{26} y^{18} z^{28}}{13 m^{9} n^{27}} $"
      ],
      "text/plain": [
       "<IPython.core.display.Latex object>"
      ]
     },
     "metadata": {},
     "output_type": "display_data"
    },
    {
     "name": "stdout",
     "output_type": "stream",
     "text": [
      "第3題:\n"
     ]
    },
    {
     "data": {
      "text/latex": [
       " $$  \\frac{x^{14} y^{7} z^{15}}{16 m^{15} n^{10}} \\div \\frac{4 m^{11} n^{15}}{x^{10} y^{14} z} $$ "
      ],
      "text/plain": [
       "<IPython.core.display.Latex object>"
      ]
     },
     "metadata": {},
     "output_type": "display_data"
    },
    {
     "data": {
      "text/latex": [
       " 標準答案: $ \\frac{x^{24} y^{21} z^{16}}{64 m^{26} n^{25}}$"
      ],
      "text/plain": [
       "<IPython.core.display.Latex object>"
      ]
     },
     "metadata": {},
     "output_type": "display_data"
    },
    {
     "name": "stdout",
     "output_type": "stream",
     "text": [
      "x**24*y**21*z**16/(64*m**26*n**25)\n"
     ]
    },
    {
     "name": "stdin",
     "output_type": "stream",
     "text": [
      "請作答: 0\n"
     ]
    },
    {
     "name": "stdout",
     "output_type": "stream",
     "text": [
      "0\n"
     ]
    },
    {
     "data": {
      "text/latex": [
       "答案錯誤, 標準答案: $ \\frac{x^{24} y^{21} z^{16}}{64 m^{26} n^{25}} $"
      ],
      "text/plain": [
       "<IPython.core.display.Latex object>"
      ]
     },
     "metadata": {},
     "output_type": "display_data"
    },
    {
     "name": "stdout",
     "output_type": "stream",
     "text": [
      "第4題:\n"
     ]
    },
    {
     "data": {
      "text/latex": [
       " $$ \\frac{16 x^{2} y^{6} z}{11 m^{2} n^{10}} \\frac{2 m^{9} n^{11}}{3 x y^{7} z^{9}} $$ "
      ],
      "text/plain": [
       "<IPython.core.display.Latex object>"
      ]
     },
     "metadata": {},
     "output_type": "display_data"
    },
    {
     "data": {
      "text/latex": [
       " 標準答案: $ \\frac{32 m^{7} n x}{33 y z^{8}}$"
      ],
      "text/plain": [
       "<IPython.core.display.Latex object>"
      ]
     },
     "metadata": {},
     "output_type": "display_data"
    },
    {
     "name": "stdout",
     "output_type": "stream",
     "text": [
      "32*m**7*n*x/(33*y*z**8)\n"
     ]
    },
    {
     "name": "stdin",
     "output_type": "stream",
     "text": [
      "請作答: 0\n"
     ]
    },
    {
     "name": "stdout",
     "output_type": "stream",
     "text": [
      "0\n"
     ]
    },
    {
     "data": {
      "text/latex": [
       "答案錯誤, 標準答案: $ \\frac{32 m^{7} n x}{33 y z^{8}} $"
      ],
      "text/plain": [
       "<IPython.core.display.Latex object>"
      ]
     },
     "metadata": {},
     "output_type": "display_data"
    },
    {
     "name": "stdout",
     "output_type": "stream",
     "text": [
      "總結: 共4題,得 0 分. \n"
     ]
    },
    {
     "data": {
      "text/html": [
       "<table><tr><td>St</td><td>Val</td><td>Ans</td><td>OK</td></tr><tr><td>$$ \\frac{9 x^{6} y^{12} z^{7}}{16 m^{4} n^{2}} \\div \\frac{5 m^{7} n^{3}}{12 x^{4} y^{6} z^{5}}$$</td><td>27*x**10*y**18*z**12/(20*m**11*n**5)</td><td>0</td><td>0</td></tr><tr><td>$$ \\frac{3 x^{12} y^{13} z^{15}}{m^{2} n^{14}} \\div \\frac{13 m^{7} n^{13}}{5 x^{14} y^{5} z^{13}}$$</td><td>15*x**26*y**18*z**28/(13*m**9*n**27)</td><td>0</td><td>0</td></tr><tr><td>$$ \\frac{x^{14} y^{7} z^{15}}{16 m^{15} n^{10}} \\div \\frac{4 m^{11} n^{15}}{x^{10} y^{14} z}$$</td><td>x**24*y**21*z**16/(64*m**26*n**25)</td><td>0</td><td>0</td></tr><tr><td>$$\\frac{16 x^{2} y^{6} z}{11 m^{2} n^{10}} \\frac{2 m^{9} n^{11}}{3 x y^{7} z^{9}}$$</td><td>32*m**7*n*x/(33*y*z**8)</td><td>0</td><td>0</td></tr></table>"
      ],
      "text/plain": [
       "<IPython.core.display.HTML object>"
      ]
     },
     "metadata": {},
     "output_type": "display_data"
    }
   ],
   "source": [
    "\"\"\"程式二\n",
    "分式乘除\n",
    "\"\"\"\n",
    "x,y,z,m,n=sp.symbols('x,y,z,m,n')\n",
    "QizAmt=4\n",
    "Mark=0\n",
    "NTE=Get_PF204_Expr(QizAmt)\n",
    "i=0\n",
    "for TE in NTE:\n",
    "    i+=1 \n",
    "    St=TE[\"St\"]\n",
    "    Val=TE[\"Val\"]\n",
    "    ValLatex=TE[\"ValLatex\"]\n",
    "    print(f\"第{i}題:\")        \n",
    "    display(Latex(f\" $$ {St} $$ \" ))\n",
    "    display(Latex(f\" 標準答案: $ {ValLatex}$\" ))\n",
    "    print(Val)\n",
    "    ans=input(\"請作答:\")  \n",
    "    ans=lib.Text2St(ans)\n",
    "    print(ans)\n",
    "    TE[\"Ans\"]=ans\n",
    "    if parse_expr(ans).subs({x:7})==Val.subs({x:7}):                   #比對答案:\n",
    "        print(\"答對!\")                              #答對加一分\n",
    "        Mark+=1\n",
    "        TE[\"OK\"]=1\n",
    "    else:                                      #不則\n",
    "        TE[\"OK\"]=0\n",
    "        display(Latex(f\"答案錯誤, 標準答案: $ {ValLatex} $\"))\n",
    "\n",
    "print(f\"總結: 共{QizAmt}題,得 {Mark} 分. \")  #總結得分\n",
    "\n",
    "display(Markdown(lib.NTE2TBL(NTE)))   \n"
   ]
  },
  {
   "cell_type": "code",
   "execution_count": 6,
   "id": "interracial-southwest",
   "metadata": {},
   "outputs": [],
   "source": [
    "x,y,z,m,n=sp.symbols('x,y,z,m,n')\n",
    "sample_list0= list(range(1,17))   # [-5,-4,-3,-2,-1,1,2,3,4,5]\n",
    "sample_list1= list(range(-39,29))\n",
    "sample_list1.remove(0)    # 非零數列\n",
    "a = random.choice(sample_list0) \n",
    "b = random.choice(sample_list0) \n",
    "c = random.choice(sample_list0) \n",
    "d = random.choice(sample_list0) \n",
    "p = random.choice(sample_list0) \n",
    "q = random.choice(sample_list0) \n",
    "r = random.choice(sample_list0) \n",
    "u = random.choice(sample_list0) \n",
    "v = random.choice(sample_list0) \n",
    "p1 = random.choice(sample_list0) \n",
    "q1 = random.choice(sample_list0) \n",
    "r1 = random.choice(sample_list0) \n",
    "u1 = random.choice(sample_list0)\n",
    "v1 = random.choice(sample_list0)\n",
    "fx1=(a*x**p*y**q*z**r)/(v)\n",
    "fx2=(d*m**u1*n**v1)/(c*x**p1*y**q1*z**r1)"
   ]
  },
  {
   "cell_type": "code",
   "execution_count": 8,
   "id": "constitutional-rogers",
   "metadata": {},
   "outputs": [
    {
     "data": {
      "text/latex": [
       "$\\displaystyle - \\frac{7 m^{6} n^{14}}{5 x^{6} y^{4} z^{15}} + \\frac{13 x^{9} y^{6} z^{15}}{2}$"
      ],
      "text/plain": [
       "       6  14        9  6  15\n",
       "    7⋅m ⋅n      13⋅x ⋅y ⋅z  \n",
       "- ─────────── + ────────────\n",
       "     6  4  15        2      \n",
       "  5⋅x ⋅y ⋅z                 "
      ]
     },
     "execution_count": 8,
     "metadata": {},
     "output_type": "execute_result"
    }
   ],
   "source": [
    "fx1-fx2"
   ]
  },
  {
   "cell_type": "code",
   "execution_count": 13,
   "id": "opposite-kidney",
   "metadata": {},
   "outputs": [
    {
     "name": "stdout",
     "output_type": "stream",
     "text": [
      "end\n"
     ]
    },
    {
     "data": {
      "text/plain": [
       "'-9x**2+25'"
      ]
     },
     "execution_count": 13,
     "metadata": {},
     "output_type": "execute_result"
    }
   ],
   "source": [
    "print(\"end\")\n",
    "import re\n",
    "ans =\"-9x  ^2+25\"\n",
    "#ans = re.sub(r\"(\\d)x\", r\"\\1*x\", ans)\n",
    "ans = re.sub(r\"X, r\"x\", ans)\n",
    "ans = re.sub(r\"x[ ]*\", r\"x\", ans)\n",
    "ans = ans.replace(r\"x^\", r\"x**\")\n",
    "\n",
    "ans"
   ]
  }
 ],
 "metadata": {
  "kernelspec": {
   "display_name": "Python 3",
   "language": "python",
   "name": "python3"
  },
  "language_info": {
   "codemirror_mode": {
    "name": "ipython",
    "version": 3
   },
   "file_extension": ".py",
   "mimetype": "text/x-python",
   "name": "python",
   "nbconvert_exporter": "python",
   "pygments_lexer": "ipython3",
   "version": "3.9.9"
  }
 },
 "nbformat": 4,
 "nbformat_minor": 5
}

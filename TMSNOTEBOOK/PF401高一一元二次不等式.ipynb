{
 "cells": [
  {
   "cell_type": "markdown",
   "id": "subsequent-objective",
   "metadata": {},
   "source": [
    "# 電腦數學符號運算"
   ]
  },
  {
   "cell_type": "markdown",
   "id": "printable-ethnic",
   "metadata": {},
   "source": [
    "## 高一一元二次不等式實作\n",
    "```python\n",
    "import sympy as sp\n",
    "x=sp.Symbol('x',real=True)\n",
    "fx=parse_expr(\"2*x-3 > 2\" , evaluate=False)  \n",
    "solve_univariate_inequality(fx ,x)    \n",
    "```\n",
    "\n"
   ]
  },
  {
   "cell_type": "markdown",
   "id": "enabling-terrace",
   "metadata": {},
   "source": [
    "## 一元二次不等式 ax + b >= c 求解\n",
    "題目: 1𝑥+0<−9   \n",
    "作答: x<-9   \n",
    "電腦答案: (-oo < x) & (x < -9)  "
   ]
  },
  {
   "cell_type": "code",
   "execution_count": 10,
   "id": "empirical-albert",
   "metadata": {},
   "outputs": [
    {
     "name": "stdout",
     "output_type": "stream",
     "text": [
      "例子一\n"
     ]
    },
    {
     "data": {
      "image/png": "[encoded data removed]",
      "text/latex": [
       "$\\displaystyle \\left(x + 1\\right) \\left(2 x - 1\\right) < 0$"
      ],
      "text/plain": [
       "(x + 1)⋅(2⋅x - 1) < 0"
      ]
     },
     "metadata": {},
     "output_type": "display_data"
    },
    {
     "data": {
      "image/png": "[encoded data removed]",
      "text/latex": [
       "$\\displaystyle -1 < x \\wedge x < \\frac{1}{2}$"
      ],
      "text/plain": [
       "-1 < x ∧ x < 1/2"
      ]
     },
     "metadata": {},
     "output_type": "display_data"
    },
    {
     "name": "stdout",
     "output_type": "stream",
     "text": [
      "例子二\n"
     ]
    },
    {
     "data": {
      "image/png": "[encoded data removed]",
      "text/latex": [
       "$\\displaystyle \\left(x + 3\\right) \\left(x - 2\\right) > 0$"
      ],
      "text/plain": [
       "(x + 3)⋅(x - 2) > 0"
      ]
     },
     "metadata": {},
     "output_type": "display_data"
    },
    {
     "data": {
      "image/png": "[encoded data removed]",
      "text/latex": [
       "$\\displaystyle \\left(-\\infty < x \\wedge x < -3\\right) \\vee \\left(2 < x \\wedge x < \\infty\\right)$"
      ],
      "text/plain": [
       "(-∞ < x ∧ x < -3) ∨ (2 < x ∧ x < ∞)"
      ]
     },
     "metadata": {},
     "output_type": "display_data"
    }
   ],
   "source": [
    "import random                                     #亂數 \n",
    "import sympy as sp                                #sympy 簡易別名 sp    \n",
    "import lib\n",
    "from lib import GetTE\n",
    "from sympy.parsing.sympy_parser import parse_expr #文字字串, 解釋成, Sympy 運算式\n",
    "from sympy.solvers.inequalities import solve_univariate_inequality\n",
    "sp.init_printing(\"mathjax\")                       #sp.init_printing()  168 \n",
    "from IPython.display import Latex,HTML,Markdown                 #網頁顯示數學符號\n",
    "\n",
    "x=sp.Symbol('x')\n",
    "\n",
    "print(\"例子一\")\n",
    "St=(x +1)*(2*x-1) < 0\n",
    "Val=solve_univariate_inequality(St,x)      #solve_univariate_inequality 解不等式  \n",
    "display(St)\n",
    "display(Val)\n",
    "\n",
    "print(\"例子二\")\n",
    "St=parse_expr(f\" (x +3) * (x-2) > 0\" , evaluate=False) #字串解釋為可運算式子 expression \n",
    "Val=solve_univariate_inequality(St,x)      #solve_univariate_inequality 解不等式  \n",
    "display(St)\n",
    "display(Val)"
   ]
  },
  {
   "cell_type": "markdown",
   "id": "ultimate-liability",
   "metadata": {},
   "source": [
    "# 程式-四題型\n",
    "題一   \n",
    "$(ax-a_1)(bx-b_1)<0   $   \n",
    "(x+1)(2x-1)<0   -1<x<1/2    \n",
    "(x+3)(x-2)>0    x<-3,x>2    \n",
    "題二   \n",
    "$ax^2+b>0$   \n",
    "x2+5>0,  x<-J(5),x>J(5)  \n",
    "3x2-1<0  -J(3)/3<x<J(3)/3   \n",
    "x2+1>4   x<-J(3),x>J(3)   \n",
    "x2+3>0 ,   R    \n",
    "x2+3<0,   Nil    \n",
    "題三   \n",
    "x2+2x-3>0,  x<-3, x>1    \n",
    "2x2+7x+3<0 , -3<x<-1/2   \n",
    "題四   \n",
    "2x2+x-2<0, (-1-J(17))/4<x<(-1+J(17))/4)     \n",
    "2x2+-2<0 , 空集 nil    \n",
    "x2+2x-3>0 , R   "
   ]
  },
  {
   "cell_type": "code",
   "execution_count": 10,
   "id": "charitable-charter",
   "metadata": {},
   "outputs": [
    {
     "data": {
      "text/markdown": [
       "號|題|值|答|檢查|題型|提示\n",
       "--|--|--|--|--|--|--\n",
       "0|$$2 x^{2} + 2 > 0$$|(-oo < x) & (x < oo)||0|-1||0\n",
       "1|$$3 x^{2} + 1 > 0$$|(-oo < x) & (x < oo)||0|-1||0\n",
       "2|$$1 x^{2} - 4 > 0$$|((-oo < x) & (x < -2)) | ((2 < x) & (x < oo))||0|-1||0\n",
       "3|$$1 x^{2} - 2 > 0$$|((x < oo) & (sqrt(2) < x)) | ((-oo < x) & (x < -sqrt(2)))||0|-1||0"
      ],
      "text/plain": [
       "<IPython.core.display.Markdown object>"
      ]
     },
     "metadata": {},
     "output_type": "display_data"
    },
    {
     "data": {
      "text/markdown": [
       "號|題|值|答|檢查|題型|提示\n",
       "--|--|--|--|--|--|--\n",
       "0|$$- 5 x^{2} - 14 x + 3 > 0$$|(-3 < x) & (x < 1/5)||0|-1||0\n",
       "1|$$- 3 x^{2} + 14 x + 24 < 0$$|((-oo < x) & (x < -4/3)) | ((6 < x) & (x < oo))||0|-1||0\n",
       "2|$$- 30 x^{2} - 29 x + 7 > 0$$|(-7/6 < x) & (x < 1/5)||0|-1||0\n",
       "3|$$x^{2} + 6 x + 5 > 0$$|((-oo < x) & (x < -5)) | ((-1 < x) & (x < oo))||0|-1||0"
      ],
      "text/plain": [
       "<IPython.core.display.Markdown object>"
      ]
     },
     "metadata": {},
     "output_type": "display_data"
    }
   ],
   "source": [
    "import random                                     #亂數 \n",
    "import sympy as sp                                #sympy 簡易別名 sp    \n",
    "import numpy as np\n",
    "import lib\n",
    "from lib import GetTE\n",
    "from sympy.parsing.sympy_parser import parse_expr #文字字串, 解釋成, Sympy 運算式\n",
    "from sympy.solvers.inequalities import solve_univariate_inequality\n",
    "sp.init_printing(\"mathjax\")                       #sp.init_printing()  168 \n",
    "from IPython.display import Latex,HTML,Markdown                 #網頁顯示數學符號\n",
    "\"\"\"程式一\n",
    "一元一次不等式 ax + b >= c 求解\n",
    "\"\"\"\n",
    "def Put_PF401_Expr(TE):\n",
    "    St=TE[\"St\"]\n",
    "    Val=TE[\"Val\"]\n",
    "    ans=TE[\"Ans\"]\n",
    "    try:\n",
    "        if sp.solve(ans)==Val:                   #比對答案:\n",
    "            TE[\"OK\"]=1\n",
    "            return True\n",
    "    except:\n",
    "        pass\n",
    "    return False\n",
    "\n",
    "def Get_PF401_Expr(QN,Tx=-1):\n",
    "    x=sp.symbols('x')\n",
    "    NTE=[]\n",
    "    for i in range(0,QN):\n",
    "        ai=np.random.choice(range(-7,7),4)\n",
    "        for i_, a_ in enumerate(ai):\n",
    "            if a_ ==0 : ai[i_]=1            \n",
    "        if Tx==0:\n",
    "            op=random.choice([\">\",\"<\"])\n",
    "            express_str=f\" ({ai[0]}*x + {ai[1]})*  ({ai[2]}*x + {ai[3]}) {op} 0 \"       # f(x)= ax + b > c\n",
    "            St=parse_expr(express_str, evaluate=False) #字串解釋為可運算式子 expression \n",
    "            Val=solve_univariate_inequality(St,x)      #solve_univariate_inequality 解不等式   \n",
    "            TE=GetTE(i,sp.latex(St),Val,Tx)        \n",
    "            NTE.append(TE)    \n",
    "            \n",
    "        elif Tx==1:\n",
    "            op=random.choice([\">\",\"<\"])\n",
    "            express_str=f\" {ai[0]}*x**2 + {ai[1]} {op} 0 \"       # f(x)= ax + b > c\n",
    "            St=parse_expr(express_str, evaluate=False) #字串解釋為可運算式子 expression \n",
    "            Val=solve_univariate_inequality(St,x)      #solve_univariate_inequality 解不等式   \n",
    "            TE=GetTE(i,sp.latex(St),Val)        \n",
    "            NTE.append(TE)    \n",
    "            \n",
    "        elif Tx==2:\n",
    "            op=random.choice([\">\",\"<\"])\n",
    "            express_str=f\" ({ai[0]}*x + {ai[1]})*  ({ai[2]}*x + {ai[3]}) \"       # f(x)= ax + b > c\n",
    "            fx=parse_expr(express_str, evaluate=True) #字串解釋為可運算式子 expression \n",
    "            St=fx.apart() \n",
    "            if op==\">\":\n",
    "                St=St>0\n",
    "                Val=solve_univariate_inequality(fx > 0, x)      #solve_univariate_inequality 解不等式   \n",
    "            else:\n",
    "                St=St<0\n",
    "                Val=solve_univariate_inequality(fx < 0, x)      #solve_univariate_inequality 解不等式   \n",
    "            TE=GetTE(i,sp.latex(St),Val)        \n",
    "            NTE.append(TE)    \n",
    "                \n",
    "                \n",
    "        elif Tx==3:\n",
    "            op=random.choice([\">\",\"<\"])\n",
    "            express_str=f\" {ai[0]}*x**2 + {ai[1]}*x+{ai[2]} {op} 0 \"       # f(x)= ax + b > c\n",
    "            St=parse_expr(express_str, evaluate=False) #字串解釋為可運算式子 expression \n",
    "            Val=solve_univariate_inequality(St,x)      #solve_univariate_inequality 解不等式   \n",
    "            TE=GetTE(i,sp.latex(St),Val)        \n",
    "            NTE.append(TE)    \n",
    "            \n",
    "        else:\n",
    "            op=random.choice([\">\",\"<\"])\n",
    "            express_str=f\" {ai[0]}*x**2 + {ai[1]} {op} 0 \"       # f(x)= ax + b > c\n",
    "            St=parse_expr(express_str, evaluate=False) #字串解釋為可運算式子 expression \n",
    "            Val=solve_univariate_inequality(St,x)      #solve_univariate_inequality 解不等式   \n",
    "            TE=GetTE(i,sp.latex(St),Val)        \n",
    "            NTE.append(TE)    \n",
    "    return NTE\n",
    "\n",
    "if __name__ ==\"__main__\":\n",
    "    for Tx in range(1,3):\n",
    "        NTE=Get_PF401_Expr(4,Tx)\n",
    "        display(Markdown(lib.NTE2TBL(NTE)  ))"
   ]
  },
  {
   "cell_type": "code",
   "execution_count": null,
   "id": "conventional-promotion",
   "metadata": {},
   "outputs": [],
   "source": [
    "if __name__==\"__main__\" :\n",
    "    NTE=Get_PF401_Expr(4,0)\n",
    "    for i,TE in enumerate(NTE):\n",
    "        St=TE[\"St\"]\n",
    "        Val=TE[\"Val\"]\n",
    "        print(f\"第{i}題:\")        \n",
    "        display(Latex(f\" $$ {St} $$ \" ))\n",
    "        display(Latex(f\"標準答案:  {Val} \"))\n",
    "        ans_str=input(\"請作答:\")  #\"x <= -1\" #\n",
    "        ans_str.replace(\",\",\"|\")\n",
    "        TE[\"Ans\"]=ans_str\n",
    "        if Put_PF701_Expr(TE):                   #比對答案:\n",
    "            print(\"答對!\")                              #答對加一分\n",
    "        else:                                      #不則\n",
    "            display(Latex(f\"答案錯誤, 標準答案:  {Val} \"))\n",
    "    display(Markdown(lib.NTE2TBL(NTE)  ))    "
   ]
  },
  {
   "cell_type": "markdown",
   "id": "hundred-stephen",
   "metadata": {},
   "source": [
    "# 參考資料"
   ]
  },
  {
   "cell_type": "markdown",
   "id": "velvet-maker",
   "metadata": {},
   "source": [
    "## 高一, 解一元二次不等式"
   ]
  },
  {
   "cell_type": "code",
   "execution_count": null,
   "id": "recorded-pressure",
   "metadata": {},
   "outputs": [],
   "source": [
    "import random                                     #亂數 \n",
    "import sympy as sp                                #sympy 簡易別名 sp    \n",
    "import lib\n",
    "from lib import GetTE\n",
    "from sympy.parsing.sympy_parser import parse_expr #文字字串, 解釋成, Sympy 運算式\n",
    "from sympy.solvers.inequalities import solve_univariate_inequality\n",
    "sp.init_printing(\"mathjax\")                       #sp.init_printing()  168 \n",
    "from IPython.display import Latex,HTML,Markdown                 #網頁顯示數學符號"
   ]
  },
  {
   "cell_type": "code",
   "execution_count": null,
   "id": "after-evidence",
   "metadata": {},
   "outputs": [],
   "source": [
    "x=sp.Symbol('x')\n",
    "express_str=f\" (x +1)*(2*x-1) < 0\"       # f(x)= ax + b > c\n",
    "St=parse_expr(express_str, evaluate=False) #字串解釋為可運算式子 expression \n",
    "Val=solve_univariate_inequality(St,x)      #solve_univariate_inequality 解不等式  \n",
    "display(St)\n",
    "display(Val)\n",
    "express_str=f\" (x +3) *(x-2) > 0\"       # f(x)= ax + b > c\n",
    "St=parse_expr(express_str, evaluate=False) #字串解釋為可運算式子 expression \n",
    "Val=solve_univariate_inequality(St,x)      #solve_univariate_inequality 解不等式  \n",
    "display(St)\n",
    "display(Val)"
   ]
  },
  {
   "cell_type": "code",
   "execution_count": null,
   "id": "secret-metropolitan",
   "metadata": {},
   "outputs": [],
   "source": [
    "x=sp.Symbol('x')\n",
    "express_str=f\" x**2+5 > 0\"       # f(x)= ax + b > c\n",
    "fx=parse_expr(express_str, evaluate=False) #字串解釋為可運算式子 expression \n",
    "St=fx\n",
    "Val=solve_univariate_inequality(fx,x)      #solve_univariate_inequality 解不等式  \n",
    "display(St)\n",
    "display(Val)\n",
    "express_str=f\"3*x**2-1 < 0\"       # f(x)= ax + b > c\n",
    "fx=parse_expr(express_str, evaluate=False) #字串解釋為可運算式子 expression \n",
    "St=fx\n",
    "Val=solve_univariate_inequality(fx,x)      #solve_univariate_inequality 解不等式  \n",
    "display(St)\n",
    "display(Val)"
   ]
  },
  {
   "cell_type": "code",
   "execution_count": null,
   "id": "lined-terrorist",
   "metadata": {},
   "outputs": [],
   "source": [
    "x=sp.Symbol('x')\n",
    "express_str=f\" 2*x**2+ 7*x+3<0\"       # f(x)= ax + b > c\n",
    "fx=parse_expr(express_str, evaluate=False) #字串解釋為可運算式子 expression \n",
    "St=fx\n",
    "Val=solve_univariate_inequality(fx,x)      #solve_univariate_inequality 解不等式  \n",
    "display(St)\n",
    "display(Val)"
   ]
  },
  {
   "cell_type": "code",
   "execution_count": null,
   "id": "alert-missile",
   "metadata": {},
   "outputs": [],
   "source": [
    "x=sp.Symbol('x')\n",
    "express_str=f\" 2*x**2+ x -2<0\"       # f(x)= ax + b > c\n",
    "fx=parse_expr(express_str, evaluate=False) #字串解釋為可運算式子 expression \n",
    "St=fx\n",
    "Val=solve_univariate_inequality(fx,x)      #solve_univariate_inequality 解不等式  \n",
    "display(St)\n",
    "display(Val)"
   ]
  },
  {
   "cell_type": "markdown",
   "id": "understood-knight",
   "metadata": {},
   "source": [
    "## 高二, 二次不等式"
   ]
  },
  {
   "cell_type": "code",
   "execution_count": null,
   "id": "junior-collar",
   "metadata": {},
   "outputs": [],
   "source": [
    "x=sp.Symbol('x')\n",
    "express_str=f\" (x+1)*(x+2)*(2*x-1)>0\"       # f(x)= ax + b > c\n",
    "fx=parse_expr(express_str, evaluate=False) #字串解釋為可運算式子 expression \n",
    "St=fx\n",
    "Val=solve_univariate_inequality(fx,x)      #solve_univariate_inequality 解不等式  \n",
    "display(St)\n",
    "display(Val)"
   ]
  },
  {
   "cell_type": "code",
   "execution_count": null,
   "id": "afraid-diagnosis",
   "metadata": {},
   "outputs": [],
   "source": [
    "x=sp.Symbol('x')\n",
    "express_str=f\" (x-1)**2*(x-2)**2*(x-3)**2*(x-4)**5>0\"       # f(x)= ax + b > c\n",
    "fx=parse_expr(express_str, evaluate=False) #字串解釋為可運算式子 expression \n",
    "St=fx\n",
    "Val=solve_univariate_inequality(fx,x)      #solve_univariate_inequality 解不等式  \n",
    "display(St)\n",
    "display(Val)"
   ]
  },
  {
   "cell_type": "code",
   "execution_count": null,
   "id": "growing-platform",
   "metadata": {
    "tags": []
   },
   "outputs": [],
   "source": [
    "x=sp.Symbol('x')\n",
    "express_str=f\" (x+1)*(x+2)/((x+3)*(x+4))>0\"       # f(x)= ax + b > c\n",
    "fx=parse_expr(express_str, evaluate=False) #字串解釋為可運算式子 expression \n",
    "St=fx\n",
    "Val=solve_univariate_inequality(fx,x)      #solve_univariate_inequality 解不等式  \n",
    "display(St)\n",
    "display(Val)"
   ]
  },
  {
   "cell_type": "code",
   "execution_count": null,
   "id": "abandoned-keeping",
   "metadata": {},
   "outputs": [],
   "source": [
    "x=sp.Symbol('x')\n",
    "express_str=f\" (x/((x+1)*(x+2)))>1\"       # f(x)= ax + b > c\n",
    "fx=parse_expr(express_str, evaluate=False) #字串解釋為可運算式子 expression \n",
    "St=fx\n",
    "Val=solve_univariate_inequality(fx,x)      #solve_univariate_inequality 解不等式  \n",
    "display(St)\n",
    "display(Val)"
   ]
  },
  {
   "cell_type": "markdown",
   "id": "behavioral-crystal",
   "metadata": {},
   "source": [
    "HTML Table\n",
    "```python\n",
    "display(HTML( (x <= -1) & (-oo < x)\n",
    "   '<table><tr>{}</tr></table>'.format(\n",
    "       '</tr><tr>'.join(\n",
    "           '<td>{}</td>'.format('</td><td>'.join(str(row[_]) for _ in row)) for row in NTE)\n",
    "       )\n",
    "))\n",
    "```"
   ]
  }
 ],
 "metadata": {
  "kernelspec": {
   "display_name": "Python 3",
   "language": "python",
   "name": "python3"
  },
  "language_info": {
   "codemirror_mode": {
    "name": "ipython",
    "version": 3
   },
   "file_extension": ".py",
   "mimetype": "text/x-python",
   "name": "python",
   "nbconvert_exporter": "python",
   "pygments_lexer": "ipython3",
   "version": "3.9.9"
  }
 },
 "nbformat": 4,
 "nbformat_minor": 5
}

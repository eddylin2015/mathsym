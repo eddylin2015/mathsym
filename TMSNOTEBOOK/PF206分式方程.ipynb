{
 "cells": [
  {
   "cell_type": "markdown",
   "id": "clinical-latest",
   "metadata": {},
   "source": [
    "# 電腦數學符號運算"
   ]
  },
  {
   "cell_type": "markdown",
   "id": "centered-conflict",
   "metadata": {},
   "source": [
    "### 第3節. 分式方程式練習\n",
    "安裝 Python 3.8.7\n",
    "- pip install numpy\n",
    "- pip install sympy\n",
    "- pip install jupyterlab\n",
    "- lib.py 自定義函數庫\n",
    "\n",
    "#### 分式方程\n",
    "第1題:\n",
    "$$\\frac{35𝑥−3}{7𝑥+6}=\\frac{35𝑥+1}{7𝑥−4}$$\n",
    " \n",
    "標準答案:  [1/63] \n",
    "\n",
    "請作答: 1/63\n"
   ]
  },
  {
   "cell_type": "markdown",
   "id": "excessive-yahoo",
   "metadata": {},
   "source": [
    "分式方程式練習  \n",
    "        expr1=(c *x+d )/(a*x+b)  \n",
    "        expr2=(c1 *x+d1 )/(a1*x+b1)  \n",
    "        \n",
    "        expr1=expr2  \n",
    "        \n",
    "        a * c1 = a1 * c   \n",
    "        \n",
    "        x= ?  "
   ]
  },
  {
   "cell_type": "code",
   "execution_count": 1,
   "id": "advised-freeze",
   "metadata": {},
   "outputs": [
    {
     "data": {
      "text/markdown": [
       "號|題|值|答|檢查|題型|提示\n",
       "--|--|--|--|--|--|--\n",
       "0|$$\\frac{6 x + 7}{3 x - 7} = \\frac{6 x + 5}{3 x - 2}$$|[-7/12]||0|-1|\n",
       "1|$$\\frac{60 x + 2}{6 x - 8} = \\frac{70 x + 1}{7 x + 4}$$|[-2/101]||0|-1|\n",
       "2|$$- \\frac{7}{6 x + 3} = \\frac{5}{5 x + 5}$$|[-10/13]||0|-1|\n",
       "3|$$\\frac{36 x + 4}{2 x + 3} = \\frac{126 x - 1}{7 x + 7}$$|[31/96]||0|-1|\n",
       "4|$$\\frac{5 x - 8}{3 x - 8} = \\frac{10 x + 5}{6 x + 9}$$|[16/31]||0|-1|\n",
       "5|$$\\frac{2 x - 5}{5 x + 5} = \\frac{2 x - 10}{5 x - 8}$$|[90]||0|-1|\n",
       "6|$$\\frac{6}{7 x - 7} = \\frac{2}{7 x + 1}$$|[-5/7]||0|-1|\n",
       "7|$$\\frac{1}{x} = \\frac{5}{4 x - 4}$$|[-4]||0|-1|\n",
       "8|$$\\frac{18 x + 2}{x + 1} = \\frac{72 x + 7}{4 x + 1}$$|[-5/53]||0|-1|\n",
       "9|$$\\frac{24 x - 1}{3 x - 6} = \\frac{8 x - 10}{x - 9}$$|[-51/139]||0|-1|"
      ],
      "text/plain": [
       "<IPython.core.display.Markdown object>"
      ]
     },
     "metadata": {},
     "output_type": "display_data"
    }
   ],
   "source": [
    "\n",
    "####################初始化,文件頭,匯入組件#####################################\n",
    "import random                                     #亂數 \n",
    "import math                                       #math 內置數學函數\n",
    "import numpy as np                                #數字矩陣\n",
    "import sympy as sp                                #sympy 簡易別名 sp    \n",
    "from sympy.parsing.sympy_parser import parse_expr #文字字串, 解釋成, Sympy 運算式\n",
    "from sympy.plotting import plot                   #繪圖表\n",
    "from IPython.display import Latex,HTML,Markdown                 #網頁顯示數學符號\n",
    "import json                                       #JSON 結構化資料\n",
    "import re\n",
    "import lib\n",
    "from lib import GetTE\n",
    "sp.init_printing(\"mathjax\")                       #sp.init_printing()  168 \n",
    "\"\"\"\n",
    "分式方程式練習\n",
    "\"\"\"\n",
    "def Get_PF206_Expr(QizAmt):\n",
    "    x,y,z=sp.symbols('x,y,z')\n",
    "    sample_list0= list(range(1,8))     # [-5,-4,-3,-2,-1,1,2,3,4,5]\n",
    "    sample_list1= list(range(0,10))\n",
    "    sample_list2= list(range(-10,10))  #sample_list1.remove(0)    # 非零數列\n",
    "    NTE=[]\n",
    "    for i in range(0,QizAmt):\n",
    "        a = random.choice( sample_list0)\n",
    "        a1 = random.choice( sample_list0)\n",
    "        c = random.choice( sample_list1)\n",
    "        c1 = random.choice( sample_list1)\n",
    "        ac1=a*c1\n",
    "        a1c=a1*c\n",
    "        aclcm=lib.lcm(ac1,a1c)\n",
    "        c1= aclcm//a\n",
    "        c= aclcm//a1\n",
    "        b = random.choice( sample_list2)\n",
    "        b1 = random.choice( sample_list2)\n",
    "        d = random.choice( sample_list2)\n",
    "        d1 = random.choice( sample_list2)\n",
    "        expr1=(c *x+d )/(a*x+b)\n",
    "        expr2=(c1 *x+d1 )/(a1*x+b1)\n",
    "        St=sp.Eq(expr1,expr2)                              #f1(x)=f2(x)\n",
    "        Val=sp.solve(St) \n",
    "        TE=GetTE(len(NTE),sp.latex(St),Val )\n",
    "        if Val==[]:\n",
    "            pass\n",
    "        else:\n",
    "            NTE.append(TE)    \n",
    "    return NTE\n",
    "if __name__ ==\"__main__\":\n",
    "    NTE=Get_PF206_Expr(10)\n",
    "    display(Markdown(lib.NTE2TBL(NTE))) "
   ]
  },
  {
   "cell_type": "code",
   "execution_count": 2,
   "id": "tropical-recorder",
   "metadata": {},
   "outputs": [
    {
     "name": "stdout",
     "output_type": "stream",
     "text": [
      "第1題:\n"
     ]
    },
    {
     "data": {
      "text/latex": [
       " $$ \\frac{60 x - 8}{5 x - 10} = \\frac{48 x - 9}{4 x + 8} $$ "
      ],
      "text/plain": [
       "<IPython.core.display.Latex object>"
      ]
     },
     "metadata": {},
     "output_type": "display_data"
    },
    {
     "name": "stdin",
     "output_type": "stream",
     "text": [
      "請作答: 0\n"
     ]
    },
    {
     "data": {
      "text/latex": [
       "答案錯誤, 標準答案: $ [22/139] $"
      ],
      "text/plain": [
       "<IPython.core.display.Latex object>"
      ]
     },
     "metadata": {},
     "output_type": "display_data"
    },
    {
     "name": "stdout",
     "output_type": "stream",
     "text": [
      "第2題:\n"
     ]
    },
    {
     "data": {
      "text/latex": [
       " $$ \\frac{12 x}{7 x - 6} = \\frac{12 x - 4}{7 x + 7} $$ "
      ],
      "text/plain": [
       "<IPython.core.display.Latex object>"
      ]
     },
     "metadata": {},
     "output_type": "display_data"
    },
    {
     "name": "stdin",
     "output_type": "stream",
     "text": [
      "請作答: 0\n"
     ]
    },
    {
     "data": {
      "text/latex": [
       "答案錯誤, 標準答案: $ [3/23] $"
      ],
      "text/plain": [
       "<IPython.core.display.Latex object>"
      ]
     },
     "metadata": {},
     "output_type": "display_data"
    },
    {
     "name": "stdout",
     "output_type": "stream",
     "text": [
      "第3題:\n"
     ]
    },
    {
     "data": {
      "text/latex": [
       " $$ \\frac{16 x - 4}{4 x - 5} = \\frac{24 x - 6}{6 x + 6} $$ "
      ],
      "text/plain": [
       "<IPython.core.display.Latex object>"
      ]
     },
     "metadata": {},
     "output_type": "display_data"
    },
    {
     "name": "stdin",
     "output_type": "stream",
     "text": [
      "請作答: 0\n"
     ]
    },
    {
     "data": {
      "text/latex": [
       "答案錯誤, 標準答案: $ [1/4] $"
      ],
      "text/plain": [
       "<IPython.core.display.Latex object>"
      ]
     },
     "metadata": {},
     "output_type": "display_data"
    },
    {
     "name": "stdout",
     "output_type": "stream",
     "text": [
      "第4題:\n"
     ]
    },
    {
     "data": {
      "text/latex": [
       " $$ \\frac{4 x + 1}{2 x + 3} = \\frac{8 x - 2}{4 x - 5} $$ "
      ],
      "text/plain": [
       "<IPython.core.display.Latex object>"
      ]
     },
     "metadata": {},
     "output_type": "display_data"
    },
    {
     "name": "stdin",
     "output_type": "stream",
     "text": [
      "請作答: 0\n"
     ]
    },
    {
     "data": {
      "text/latex": [
       "答案錯誤, 標準答案: $ [1/36] $"
      ],
      "text/plain": [
       "<IPython.core.display.Latex object>"
      ]
     },
     "metadata": {},
     "output_type": "display_data"
    },
    {
     "name": "stdout",
     "output_type": "stream",
     "text": [
      "總結: 共4題,得 0 分. \n"
     ]
    },
    {
     "data": {
      "text/html": [
       "<table><tr><td>St</td><td>Val</td><td>Ans</td><td>OK</td></tr><tr><td>$$\\frac{60 x - 8}{5 x - 10} = \\frac{48 x - 9}{4 x + 8}$$</td><td>[22/139]</td><td>0</td><td>0</td></tr><tr><td>$$\\frac{12 x}{7 x - 6} = \\frac{12 x - 4}{7 x + 7}$$</td><td>[3/23]</td><td>0</td><td>0</td></tr><tr><td>$$\\frac{16 x - 4}{4 x - 5} = \\frac{24 x - 6}{6 x + 6}$$</td><td>[1/4]</td><td>0</td><td>0</td></tr><tr><td>$$\\frac{4 x + 1}{2 x + 3} = \\frac{8 x - 2}{4 x - 5}$$</td><td>[1/36]</td><td>0</td><td>0</td></tr></table>"
      ],
      "text/plain": [
       "<IPython.core.display.HTML object>"
      ]
     },
     "metadata": {},
     "output_type": "display_data"
    }
   ],
   "source": [
    "\"\"\"\n",
    "分式方程式練習\n",
    "        expr1=(c *x+d )/(a*x+b)\n",
    "        expr2=(c1 *x+d1 )/(a1*x+b1)\n",
    "        \n",
    "        expr1=expr2\n",
    "        \n",
    "        a * c1 = a1 * c \n",
    "        \n",
    "        x= ?\n",
    "\"\"\"\n",
    "x,y,z=sp.symbols('x,y,z')\n",
    "QizAmt=4\n",
    "Mark=0\n",
    "NTE=Get_PF206_Expr(QizAmt)\n",
    "i=0\n",
    "for TE in NTE:\n",
    "    i+=1 \n",
    "    St=TE[\"St\"]\n",
    "    Val=TE[\"Val\"]\n",
    "    print(f\"第{i}題:\")        \n",
    "    display(Latex(f\" $$ {St} $$ \" ))\n",
    "    #display(Latex(f\"標準答案: $ {Val} $\"))\n",
    "    ans=input(\"請作答:\")  \n",
    "    ans=lib.Text2St(ans)\n",
    "    TE[\"Ans\"]=ans\n",
    "    if parse_expr(ans).subs({x:7})==Val[0].subs({x:7}):                   #比對答案:\n",
    "        print(\"答對!\")                              #答對加一分\n",
    "        Mark+=1\n",
    "        TE[\"OK\"]=1\n",
    "    else:                                      #不則\n",
    "        TE[\"OK\"]=0\n",
    "        display(Latex(f\"答案錯誤, 標準答案: $ {Val} $\"))\n",
    "    \n",
    "\n",
    "print(f\"總結: 共{QizAmt}題,得 {Mark} 分. \")  #總結得分\n",
    "\n",
    "display(HTML(lib.NTE2HTML(NTE))) \n"
   ]
  }
 ],
 "metadata": {
  "kernelspec": {
   "display_name": "Python 3",
   "language": "python",
   "name": "python3"
  },
  "language_info": {
   "codemirror_mode": {
    "name": "ipython",
    "version": 3
   },
   "file_extension": ".py",
   "mimetype": "text/x-python",
   "name": "python",
   "nbconvert_exporter": "python",
   "pygments_lexer": "ipython3",
   "version": "3.9.9"
  }
 },
 "nbformat": 4,
 "nbformat_minor": 5
}

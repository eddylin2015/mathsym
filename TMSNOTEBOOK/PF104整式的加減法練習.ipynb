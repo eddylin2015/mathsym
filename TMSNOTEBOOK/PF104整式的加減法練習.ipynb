{
 "cells": [
  {
   "cell_type": "markdown",
   "id": "second-sense",
   "metadata": {},
   "source": [
    "# 電腦數學符號運算"
   ]
  },
  {
   "cell_type": "markdown",
   "id": "spectacular-thousand",
   "metadata": {},
   "source": [
    "### 第3節. 整式的加減法練習實作\n",
    "安裝 Python 3.8.7\n",
    "- pip install numpy\n",
    "- pip install sympy\n",
    "- pip install jupyterlab\n",
    "- lib.py 自定義函數庫"
   ]
  },
  {
   "cell_type": "code",
   "execution_count": 2,
   "id": "valid-special",
   "metadata": {},
   "outputs": [
    {
     "data": {
      "text/markdown": [
       "號|題|值|答|檢查|題型|提示\n",
       "--|--|--|--|--|--|--\n",
       "0|$$1 x^{2} + 7 x^{2} + 10$$|8*x**2 + 10||0|0|指數用x**2,求x=|0\n",
       "1|$$x^{2} \\left(-6\\right) + 1 x^{2} + 5$$|5 - 5*x**2||0|0|指數用x**2,求x=|0\n",
       "2|$$x^{4} \\left(-8\\right) + 1 x^{4} + 15$$|15 - 7*x**4||0|0|指數用x**2,求x=|0\n",
       "3|$$1 x^{4} + 7 x^{4} + 10$$|8*x**4 + 10||0|0|指數用x**2,求x=|0"
      ],
      "text/plain": [
       "<IPython.core.display.Markdown object>"
      ]
     },
     "metadata": {},
     "output_type": "display_data"
    },
    {
     "data": {
      "text/markdown": [
       "號|題|值|答|檢查|題型|提示\n",
       "--|--|--|--|--|--|--\n",
       "9|$$(x^{5} + x^{4} - 1) - (x^{5} + x^{2} + 3)$$|x**4 - x**2 - 4||0|1|指數用x**2,求x=|0\n",
       "9|$$(x^{4} + x^{2} + 3) + (x^{4} + x^{3} + \\frac{7}{2})$$|2*x**4 + x**3 + x**2 + 13/2||0|1|指數用x**2,求x=|0\n",
       "9|$$(x^{4} + x^{3} - 1) + (x^{5} + x + \\frac{1}{2})$$|x**5 + x**4 + x**3 + x - 1/2||0|1|指數用x**2,求x=|0\n",
       "9|$$(x^{5} + x^{4} + 3) - (x^{4} + x^{3} + \\frac{9}{2})$$|x**5 - x**3 - 3/2||0|1|指數用x**2,求x=|0\n",
       "9|$$(2 x^{2} - 2) - (x^{5} + x^{3} + \\frac{5}{2})$$|-x**5 - x**3 + 2*x**2 - 9/2||0|1|指數用x**2,求x=|0\n",
       "9|$$(x^{4} + x^{3} - 1) - (x^{3} + x + \\frac{1}{2})$$|x**4 - x - 3/2||0|1|指數用x**2,求x=|0\n",
       "9|$$(x^{5} + x^{4} - 3) - (x^{3} + x^{2} + \\frac{5}{2})$$|x**5 + x**4 - x**3 - x**2 - 11/2||0|1|指數用x**2,求x=|0\n",
       "9|$$(x^{4} + x^{2} - 5) - (x^{3} + x + \\frac{3}{2})$$|x**4 - x**3 + x**2 - x - 13/2||0|1|指數用x**2,求x=|0\n",
       "9|$$(x^{5} + x^{3} - 5) - (x^{3} + x + \\frac{5}{2})$$|x**5 - x - 15/2||0|1|指數用x**2,求x=|0\n",
       "9|$$(x^{3} + x^{2} - 5) - (x^{5} + x + 3)$$|-x**5 + x**3 + x**2 - x - 8||0|1|指數用x**2,求x=|0"
      ],
      "text/plain": [
       "<IPython.core.display.Markdown object>"
      ]
     },
     "metadata": {},
     "output_type": "display_data"
    },
    {
     "data": {
      "text/markdown": [
       "號|題|值|答|檢查|題型|提示\n",
       "--|--|--|--|--|--|--\n",
       "9|$$-1 (4 x^{3} - 1) - 3 (- x^{3} + 4 x^{2} + 5)$$|x**3 - 20*x**2 - 24||0|2|指數用x**2,求x=|0\n",
       "9|$$- \\frac{1}{2} (- \\frac{x^{4}}{2} - 5 x^{3} - 4) + \\frac{7}{2} (- 4 x^{4} + 5 x^{3} - 5)$$|-79*x**4/4 + 55*x**3/2 - 23||0|2|指數用x**2,求x=|0\n",
       "9|$$- \\frac{5}{2} (4 x^{3} - \\frac{5 x^{2}}{2} + 1) + 2 (x^{2} - x + 4)$$|-10*x**3 + 21*x**2/4 + x - 13/2||0|2|指數用x**2,求x=|0\n",
       "9|$$- \\frac{7}{2} (- 3 x^{3} - \\frac{7 x^{2}}{2} - 1) + \\frac{5}{2} (- x^{2} + 4 x - 3)$$|21*x**3/2 + 33*x**2/4 + 16*x - 17/2||0|2|指數用x**2,求x=|0\n",
       "9|$$- \\frac{9}{2} (5 x^{3} - \\frac{9 x^{2}}{2} + 4) + \\frac{1}{2} (3 x^{2} + 5)$$|-45*x**3/2 + 69*x**2/4 - 23||0|2|指數用x**2,求x=|0\n",
       "9|$$-1 (2 x^{3} - x^{2} - 1) - \\frac{3}{2} (2 - 2 x^{2})$$|-2*x**3 + 5*x**2 - 3||0|2|指數用x**2,求x=|0\n",
       "9|$$-2 (- 2 x^{3} - 5 x^{2} + 1) - 3 (6 x^{3} - 5)$$|34*x**3 + 10*x**2 - 27||0|2|指數用x**2,求x=|0\n",
       "9|$$- \\frac{3}{2} (- \\frac{3 x^{4}}{2} + 3 x^{2} - 1) + \\frac{5}{2} (- x^{4} - 3 x + 3)$$|21*x**4/4 - 9*x**2/2 + 9*x - 15/2||0|2|指數用x**2,求x=|0\n",
       "9|$$- \\frac{1}{2} (2 x^{3} - \\frac{x^{2}}{2} - 1) - 2 (3 x^{3} - x^{2} + 2)$$|-7*x**3 + 9*x**2/4 - 7/2||0|2|指數用x**2,求x=|0\n",
       "9|$$-1 (- 4 x^{2} - 3) + 2 (3 x^{3} - 3 x^{2} - 3)$$|9*x**3 - 5*x**2 - 6||0|2|指數用x**2,求x=|0"
      ],
      "text/plain": [
       "<IPython.core.display.Markdown object>"
      ]
     },
     "metadata": {},
     "output_type": "display_data"
    }
   ],
   "source": [
    "import random                                     #亂數 \n",
    "import math                                       #math 內置數學函數\n",
    "import numpy as np                                #數字矩陣\n",
    "import sympy as sp                                #sympy 簡易別名 sp    \n",
    "from sympy.parsing.sympy_parser import parse_expr #文字字串, 解釋成, Sympy 運算式\n",
    "from sympy.plotting import plot                   #繪圖表\n",
    "from IPython.display import Latex,HTML,Markdown                 #網頁顯示數學符號\n",
    "import json                                       #JSON 結構化資料\n",
    "import re\n",
    "import lib\n",
    "sp.init_printing(\"mathjax\")                       #sp.init_printing()  168 \n",
    "from lib import GetTE\n",
    "##################################################################################\n",
    "\"\"\"\n",
    "整式的加減法練習\n",
    "第題:𝑥(−7)+1𝑥+12\n",
    "作答:(-6)*x+12\n",
    "答對!\n",
    "\"\"\"\n",
    "def Put_PF104_Expr(TE):\n",
    "    Val=TE[\"Val\"]\n",
    "    ans=TE[\"Ans\"]\n",
    "    if parse_expr(lib.Text2St(ans)).subs({x:7})==Val.subs({x:7}):      #比對答案:\n",
    "        TE[\"OK\"]=1\n",
    "        return True\n",
    "    return False\n",
    "\n",
    "def Get_PF104_Expr(QN,Tx=0):\n",
    "    x,y,z=sp.symbols('x,y,z')\n",
    "    NTE=[]\n",
    "    for i in range(0,QN):\n",
    "\n",
    "        if Tx==1:\n",
    "            #( mx2+px)+(nx2+qx) = ax2 + bx  |p|,|q| < 16 整数\n",
    "            #   p, q = 16以内随机±整数\n",
    "            #   a=m+n,    b=p∙q \n",
    "            R_list=[]\n",
    "            PR_list=[]\n",
    "            for i in range(1,10):\n",
    "                R_list.append(-5+sp.Rational(1,2)*i)\n",
    "                PR_list.append(sp.Rational(1,2)*i)\n",
    "            l=random.choice(PR_list)\n",
    "            m=random.choice(R_list)\n",
    "            n=random.choice([-5,-4,-3,-2,-1,1,2,3,4,5])\n",
    "            p=random.choice([-5,-4,-3,-2,-1,1,2,3,4,5])\n",
    "            q=random.choice([-5,-4,-3,-2,-1,1,2,3,4,5])\n",
    "            s=random.choice([2,3,4])\n",
    "            t=random.choice([2,3,5])\n",
    "            u=random.choice([1,2,3,4])\n",
    "            v=random.choice([1,3,5])                 \n",
    "            expr1=x**s+x**t+n\n",
    "            expr2=x**u+x**v+l\n",
    "            op=random.choice([\"-\",\"-\",\"+\"])\n",
    "            if op==\"-\":\n",
    "                Val=(expr1)-expr2\n",
    "            else:\n",
    "                Val=(expr1)+expr2\n",
    "            St=r\"(%s) %s (%s)\"%(   sp.latex(expr1), op, sp.latex(expr2))\n",
    "        elif   Tx==2:\n",
    "            #( mx2+px)+(nx2+qx) = ax2 + bx  |p|,|q| < 16 整数\n",
    "            #   p, q = 16以内随机±整数\n",
    "            #   a=m+n,    b=p∙q \n",
    "            R_list=[]\n",
    "            PR_list=[]\n",
    "            for i in range(1,10):\n",
    "                R_list.append(-5+sp.Rational(1,2)*i)\n",
    "                PR_list.append(sp.Rational(1,2)*i)\n",
    "            l=random.choice(PR_list)\n",
    "            m=random.choice(R_list)\n",
    "            \n",
    "            n=random.choice([-5,-4,-3,-2,-1,1,2,3,4,5])\n",
    "            p=random.choice([-5,-4,-3,-2,-1,1,2,3,4,5])\n",
    "            q=random.choice([-5,-4,-3,-2,-1,1,2,3,4,5])\n",
    "            s=random.choice([2,3,4])\n",
    "            t=random.choice([2,3])\n",
    "            w=random.choice([1,2,3,4])\n",
    "            expr1=m*x**s+p*x**t+n\n",
    "            expr2=n*x**s+q*x**w+p\n",
    "            op=random.choice([\"-\",\"-\",\"+\"])\n",
    "            if op==\"-\":\n",
    "                Val=m*(expr1)-p*expr2\n",
    "            else:\n",
    "                Val=m*(expr1)+q*expr2\n",
    "            St=r\"%s (%s) %s %s (%s)\"%( sp.latex(m) ,    sp.latex(expr1),op,  sp.latex(l)  ,sp.latex(expr2))            \n",
    "        else:\n",
    "            a = 1 \n",
    "            p=random.choice([-5,-4,-3,-2,-1,1,2,3,4,5])\n",
    "            q=random.choice([-5,-4,-3,-2,-1,1,2,3,4,5])\n",
    "            t=random.choice([2,3,4])\n",
    "            b=p+q\n",
    "            c=p*q\n",
    "            express_str=f\"{a}*x**{t} + {b}*x**{t} + {c}  \"       #題型 express_str ax+bx+c\n",
    "            St=parse_expr(express_str, evaluate=False) #字串解釋為可運算式子 expression\n",
    "            Val=sp.simplify(St)\n",
    "            St=sp.latex(St)\n",
    "        TE=GetTE(i,St,Val, Tx)       \n",
    "        TE[\"Tip\"]=\"指數用x**2,求x=\"\n",
    "        NTE.append(TE)    \n",
    "    return NTE\n",
    "\n",
    "if __name__ == '__main__': #主程式\n",
    "    NTE=Get_PF104_Expr(4,0)\n",
    "    display(Markdown(lib.NTE2TBL(NTE)    ))\n",
    "    NTE=Get_PF104_Expr(10,1)\n",
    "    display(Markdown(lib.NTE2TBL(NTE)    ))    \n",
    "    NTE=Get_PF104_Expr(10,2)\n",
    "    display(Markdown(lib.NTE2TBL(NTE)    ))        "
   ]
  },
  {
   "cell_type": "code",
   "execution_count": null,
   "id": "particular-venezuela",
   "metadata": {},
   "outputs": [],
   "source": [
    "if __name__ == '__main__': #主程式\n",
    "    x,y,z=sp.symbols('x,y,z')\n",
    "    NTE=Get_PF104_Expr(4)\n",
    "    for i,TE in enumerate(NTE):\n",
    "        St=TE[\"St\"]\n",
    "        Val=TE[\"Val\"]\n",
    "        print(f\"第{i}題:\")        \n",
    "        display(Latex(f\" $$ {St} $$ \" ))\n",
    "        display(Latex(f\"標準答案: $ {Val} $\"))\n",
    "        TE[\"Ans\"]=input(\"請作答:\")  \n",
    "        if Put_PF104_Expr(TE):                   #比對答案:\n",
    "            print(\"答對!\")                              #答對加一分\n",
    "        else:                                      #不則\n",
    "            display(Latex(f\"答案錯誤, 標準答案: $ {Val} $\"))\n",
    "    display(Markdown(lib.NTE2TBL(NTE)    ))    "
   ]
  }
 ],
 "metadata": {
  "kernelspec": {
   "display_name": "Python 3",
   "language": "python",
   "name": "python3"
  },
  "language_info": {
   "codemirror_mode": {
    "name": "ipython",
    "version": 3
   },
   "file_extension": ".py",
   "mimetype": "text/x-python",
   "name": "python",
   "nbconvert_exporter": "python",
   "pygments_lexer": "ipython3",
   "version": "3.9.10"
  }
 },
 "nbformat": 4,
 "nbformat_minor": 5
}

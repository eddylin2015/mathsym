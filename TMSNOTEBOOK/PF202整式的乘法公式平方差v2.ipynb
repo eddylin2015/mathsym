{
 "cells": [
  {
   "cell_type": "markdown",
   "id": "forward-rider",
   "metadata": {},
   "source": [
    "# 電腦數學符號運算"
   ]
  },
  {
   "cell_type": "markdown",
   "id": "baking-tractor",
   "metadata": {},
   "source": [
    "### 第3節. 整式的乘法公式完全平方公式練習實作\n",
    "安裝 Python 3.8.7\n",
    "- pip install numpy\n",
    "- pip install sympy\n",
    "- pip install jupyterlab\n",
    "- lib.py 自定義函數庫"
   ]
  },
  {
   "cell_type": "markdown",
   "id": "colonial-colon",
   "metadata": {},
   "source": [
    "整式的乘法公式   \n",
    "平方差公式  \n",
    "(px+qy)(px-qy)= ax^2-by^2, a=p2, b=q2  \n"
   ]
  },
  {
   "cell_type": "code",
   "execution_count": 4,
   "id": "norman-wales",
   "metadata": {},
   "outputs": [
    {
     "data": {
      "text/markdown": [
       "號|題|值|答|檢查|題型|提示\n",
       "--|--|--|--|--|--|--\n",
       "0|$$\\left(18 - 5 x\\right) \\left(- 5 x - 18\\right)$$|25*x**2 - 324||0|0||0\n",
       "1|$$\\left(6 x - 12\\right) \\left(6 x + 12\\right)$$|36*x**2 - 144||0|0||0\n",
       "2|$$\\left(5 x - 1\\right) \\left(5 x + 1\\right)$$|25*x**2 - 1||0|0||0\n",
       "3|$$\\left(7 x - 2\\right) \\left(7 x + 2\\right)$$|49*x**2 - 4||0|0||0"
      ],
      "text/plain": [
       "<IPython.core.display.Markdown object>"
      ]
     },
     "metadata": {},
     "output_type": "display_data"
    },
    {
     "data": {
      "text/markdown": [
       "號|題|值|答|檢查|題型|提示\n",
       "--|--|--|--|--|--|--\n",
       "0|$$\\left(8 x^{\\frac{2}{3}} - 18\\right) \\left(8 x^{\\frac{2}{3}} + 18\\right)$$|64*x**(4/3) - 324||0|1||0\n",
       "1|$$\\left(13 - 2 x^{\\frac{2}{3}}\\right) \\left(- 2 x^{\\frac{2}{3}} - 13\\right)$$|4*x**(4/3) - 169||0|1||0\n",
       "2|$$\\left(5 x^{4} - 7\\right) \\left(5 x^{4} + 7\\right)$$|25*x**8 - 49||0|1||0\n",
       "3|$$\\left(10 x^{\\frac{3}{4}} - 5\\right) \\left(10 x^{\\frac{3}{4}} + 5\\right)$$|100*x**(3/2) - 25||0|1||0"
      ],
      "text/plain": [
       "<IPython.core.display.Markdown object>"
      ]
     },
     "metadata": {},
     "output_type": "display_data"
    },
    {
     "data": {
      "text/markdown": [
       "號|題|值|答|檢查|題型|提示\n",
       "--|--|--|--|--|--|--\n",
       "0|$$\\left(3 \\sqrt{x} y^{3} - z^{3}\\right) \\left(3 \\sqrt{x} y^{3} + z^{3}\\right)$$|9*x*y**6 - z**6||0|2||0\n",
       "1|$$\\left(4 x^{3} y^{4} - z^{4}\\right) \\left(4 x^{3} y^{4} + z^{4}\\right)$$|16*x**6*y**8 - z**8||0|2||0\n",
       "2|$$\\left(x^{2} y - z\\right) \\left(x^{2} y + z\\right)$$|x**4*y**2 - z**2||0|2||0\n",
       "3|$$\\left(3 x^{3} y^{3} - z^{3}\\right) \\left(3 x^{3} y^{3} + z^{3}\\right)$$|9*x**6*y**6 - z**6||0|2||0"
      ],
      "text/plain": [
       "<IPython.core.display.Markdown object>"
      ]
     },
     "metadata": {},
     "output_type": "display_data"
    }
   ],
   "source": [
    "import random                                     #亂數 \n",
    "import math                                       #math 內置數學函數\n",
    "import numpy as np                                #數字矩陣\n",
    "import sympy as sp                                #sympy 簡易別名 sp    \n",
    "from sympy.parsing.sympy_parser import parse_expr #文字字串, 解釋成, Sympy 運算式\n",
    "from sympy.plotting import plot                   #繪圖表\n",
    "from IPython.display import Latex,HTML,Markdown                 #網頁顯示數學符號\n",
    "import json                                       #JSON 結構化資料\n",
    "import re\n",
    "import lib\n",
    "from lib import GetTE\n",
    "sp.init_printing(\"mathjax\")                       #sp.init_printing()  168 \n",
    "def displayTable(NTE):\n",
    "    display(Markdown(lib.NTE2TBL(NTE))) \n",
    "\"\"\"\n",
    "完全平方公式題型一   \n",
    "\"\"\"\n",
    "    \n",
    "def Get_PF202_Expr(QN,Tx=-1):\n",
    "    x,y,z=sp.symbols(\"x y z\")\n",
    "    sample_list0= list(range(-39,29))   # [-5,-4,-3,-2,-1,1,2,3,4,5]\n",
    "    sample_list1= list(range(-19,19))\n",
    "    sample_list1.remove(0)    # 非零數列\n",
    "    NTE = []\n",
    "    for Qid in range(0, QN):\n",
    "        if Tx==0:\n",
    "            a = random.choice(sample_list1)\n",
    "            p=random.choice([-5,-4,-3,-2,-1,1,2,3,4,5,6,7,8,9,10])\n",
    "            q=random.choice([-5,-4,-3,-2,-1,1,2,3,4,5,6,7,8,9,10])\n",
    "            St=(p*x +a) * (p*x - a)\n",
    "            Val = sp.expand(St)\n",
    "            TE = GetTE(Qid, sp.latex(St), Val, Tx)\n",
    "            NTE.append(TE)\n",
    "\n",
    "        elif Tx==1:\n",
    "            a =random.choice(sample_list1) \n",
    "            p=random.choice([-5,-4,-3,-2,-1,1,2,3,4,5,6,7,8,9,10])\n",
    "            q=random.choice([sp.Rational(1,2),sp.Rational(2,3),sp.Rational(3,4),2,3,4])\n",
    "            St=(p*x**q +a) * (p*x**q - a)    \n",
    "            Val=sp.expand(St)\n",
    "            TE = GetTE(Qid, sp.latex(St), Val, Tx)\n",
    "            NTE.append(TE)\n",
    "        elif Tx==2:            \n",
    "            a =random.choice(sample_list1) \n",
    "            p=random.choice([1,2,3,4,5])\n",
    "            q=random.choice([sp.Rational(1,2),sp.Rational(2,3),2,3,4])\n",
    "            St=(p*x**q * y**p + z**p ) * (p * x**q * y**p - z**p)  \n",
    "            Val=sp.expand(St)\n",
    "            TE = GetTE(Qid, sp.latex(St), Val, Tx)\n",
    "            NTE.append(TE)\n",
    "        else:\n",
    "            a = random.choice(sample_list1)\n",
    "            p = random.choice([-5, -4, -3, -2, -1, 1, 2, 3, 4, 5])\n",
    "            q = random.choice([-5, -4, -3, -2, -1, 1, 2, 3, 4, 5])\n",
    "            b = p+q\n",
    "            c = p*q\n",
    "            express_str = f\"(x +({a})) * ( x - ({a}))  \"  \n",
    "            St = parse_expr(express_str, evaluate=False)  \n",
    "            Val = sp.expand(St)\n",
    "            TE = GetTE(Qid, sp.latex(St), Val, Tx)\n",
    "            NTE.append(TE)\n",
    "            \n",
    "    return NTE\n",
    "\n",
    "if __name__==\"__main__\":\n",
    "    \n",
    "    NTE=Get_PF202_Expr(4,0)\n",
    "    displayTable(NTE)\n",
    "    NTE=Get_PF202_Expr(4,1)\n",
    "    displayTable(NTE)\n",
    "    \n",
    "    NTE=Get_PF202_Expr(4,2)\n",
    "    displayTable(NTE)\n"
   ]
  }
 ],
 "metadata": {
  "kernelspec": {
   "display_name": "Python 3",
   "language": "python",
   "name": "python3"
  },
  "language_info": {
   "codemirror_mode": {
    "name": "ipython",
    "version": 3
   },
   "file_extension": ".py",
   "mimetype": "text/x-python",
   "name": "python",
   "nbconvert_exporter": "python",
   "pygments_lexer": "ipython3",
   "version": "3.9.9"
  }
 },
 "nbformat": 4,
 "nbformat_minor": 5
}

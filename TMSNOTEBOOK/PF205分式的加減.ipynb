{
 "cells": [
  {
   "cell_type": "markdown",
   "id": "patent-welding",
   "metadata": {},
   "source": [
    "# 電腦數學符號運算"
   ]
  },
  {
   "cell_type": "markdown",
   "id": "innovative-novel",
   "metadata": {},
   "source": [
    "### 第3節. 整式的加乘法練習實作\n",
    "安裝 Python 3.8.7\n",
    "- pip install numpy\n",
    "- pip install sympy\n",
    "- pip install jupyterlab\n",
    "- lib.py 自定義函數庫\n",
    "#### 分式加減\n",
    "\n",
    "第1題:\n",
    "$$ −\\frac{3}{5x^3y^3}−\\frac{3}{x^5y^7} $$\n",
    "\n",
    "標準答案: -(3*x^2*y^4 + 15)/(5*x^5*y^7)\n",
    "$$ \\frac{−3x^2y^4+15}{5*x^5y^7}$$"
   ]
  },
  {
   "cell_type": "code",
   "execution_count": 2,
   "id": "anonymous-fundamental",
   "metadata": {},
   "outputs": [
    {
     "data": {
      "text/markdown": [
       "號|題|值|答|檢查|題型|提示\n",
       "--|--|--|--|--|--|--\n",
       "0|$$- \\frac{4}{7 x^{3} y^{8}} - \\frac{11}{3 x^{6} y^{10}}$$|-(12*x**3*y**2 + 77)/(21*x**6*y**10)||0|-1||- \\frac{12 x^{3} y^{2} + 77}{21 x^{6} y^{10}}\n",
       "1|$$\\frac{7}{3 x^{5} y^{8}} + \\frac{5}{14 x^{9} y^{5}}$$|(98*x**4 + 15*y**3)/(42*x**9*y**8)||0|-1||\\frac{98 x^{4} + 15 y^{3}}{42 x^{9} y^{8}}\n",
       "2|$$\\frac{2}{x^{4} y^{9}} - \\frac{1}{x^{5} y}$$|(2*x - y**8)/(x**5*y**9)||0|-1||\\frac{2 x - y^{8}}{x^{5} y^{9}}\n",
       "3|$$\\frac{9}{7 x y^{6}} + \\frac{2}{x^{3} y^{10}}$$|9/(7*x*y**6) + 2/(x**3*y**10)||0|-1||\\frac{9}{7 x y^{6}} + \\frac{2}{x^{3} y^{10}}\n",
       "4|$$\\frac{8}{x y^{8}} - \\frac{2}{11 x^{8} y^{10}}$$|8/(x*y**8) - 2/(11*x**8*y**10)||0|-1||\\frac{8}{x y^{8}} - \\frac{2}{11 x^{8} y^{10}}\n",
       "5|$$\\frac{5}{12 x y} - \\frac{1}{6 x^{6} y^{4}}$$|5/(12*x*y) - 1/(6*x**6*y**4)||0|-1||\\frac{5}{12 x y} - \\frac{1}{6 x^{6} y^{4}}\n",
       "6|$$\\frac{5}{4 x^{5} y^{8}} + \\frac{5}{6 x^{7} y^{7}}$$|5*(3*x**2 + 2*y)/(12*x**7*y**8)||0|-1||\\frac{5 \\left(3 x^{2} + 2 y\\right)}{12 x^{7} y^{8}}\n",
       "7|$$\\frac{11}{7 x^{2} y} + \\frac{1}{x^{7} y}$$|(11*x**5 + 7)/(7*x**7*y)||0|-1||\\frac{11 x^{5} + 7}{7 x^{7} y}\n",
       "8|$$- \\frac{6}{13 x y} + \\frac{6}{x^{10} y^{4}}$$|-6/(13*x*y) + 6/(x**10*y**4)||0|-1||- \\frac{6}{13 x y} + \\frac{6}{x^{10} y^{4}}\n",
       "9|$$- \\frac{4}{x^{3} y^{9}} - \\frac{12}{5 x^{5} y^{5}}$$|-(20*x**2 + 12*y**4)/(5*x**5*y**9)||0|-1||- \\frac{20 x^{2} + 12 y^{4}}{5 x^{5} y^{9}}\n",
       "10|$$- \\frac{2}{x^{2} y^{7}} - \\frac{3}{x^{6} y^{8}}$$|-(2*x**4*y + 3)/(x**6*y**8)||0|-1||- \\frac{2 x^{4} y + 3}{x^{6} y^{8}}\n",
       "11|$$- \\frac{1}{x^{2} y^{7}} + \\frac{8}{15 x^{8} y^{5}}$$|(-x**6 + 8*y**2/15)/(x**8*y**7)||0|-1||\\frac{- x^{6} + \\frac{8 y^{2}}{15}}{x^{8} y^{7}}\n",
       "12|$$\\frac{3}{2 x^{2} y^{8}} + \\frac{1}{x^{9} y^{9}}$$|(3*x**7*y + 2)/(2*x**9*y**9)||0|-1||\\frac{3 x^{7} y + 2}{2 x^{9} y^{9}}\n",
       "13|$$- \\frac{5}{12 x^{2} y} - \\frac{3}{4 x^{5} y^{3}}$$|-(5*x**3*y**2 + 9)/(12*x**5*y**3)||0|-1||- \\frac{5 x^{3} y^{2} + 9}{12 x^{5} y^{3}}\n",
       "14|$$- \\frac{15}{7 x^{6} y^{10}} + \\frac{13}{2 x^{10} y^{6}}$$|(-30*x**4 + 91*y**4)/(14*x**10*y**10)||0|-1||\\frac{- 30 x^{4} + 91 y^{4}}{14 x^{10} y^{10}}\n",
       "15|$$- \\frac{13}{x^{7} y^{8}} - \\frac{4}{x^{9} y^{3}}$$|-(13*x**2 + 4*y**5)/(x**9*y**8)||0|-1||- \\frac{13 x^{2} + 4 y^{5}}{x^{9} y^{8}}\n",
       "16|$$- \\frac{3}{2 x y^{2}} - \\frac{3}{x^{2} y^{2}}$$|-(3*x + 6)/(2*x**2*y**2)||0|-1||- \\frac{3 x + 6}{2 x^{2} y^{2}}\n",
       "17|$$- \\frac{1}{x^{3} y^{3}} - \\frac{6}{7 x^{10} y^{10}}$$|-(x**7*y**7 + 6/7)/(x**10*y**10)||0|-1||- \\frac{x^{7} y^{7} + \\frac{6}{7}}{x^{10} y^{10}}\n",
       "18|$$- \\frac{1}{x^{2} y^{2}} + \\frac{10}{9 x^{6} y^{5}}$$|(-x**4*y**3 + 10/9)/(x**6*y**5)||0|-1||\\frac{- x^{4} y^{3} + \\frac{10}{9}}{x^{6} y^{5}}\n",
       "19|$$- \\frac{5}{4 x^{7} y^{5}} + \\frac{5}{x^{10} y^{3}}$$|5*(-x**3 + 4*y**2)/(4*x**10*y**5)||0|-1||\\frac{5 \\left(- x^{3} + 4 y^{2}\\right)}{4 x^{10} y^{5}}"
      ],
      "text/plain": [
       "<IPython.core.display.Markdown object>"
      ]
     },
     "metadata": {},
     "output_type": "display_data"
    }
   ],
   "source": [
    "import numpy as np                                #數字矩陣\n",
    "import re\n",
    "import random                                     #亂數 \n",
    "import math                                       #math 內置數學函數\n",
    "import sympy as sp                                #sympy 簡易別名 sp    \n",
    "from sympy.parsing.sympy_parser import parse_expr #文字字串, 解釋成, Sympy 運算式\n",
    "from IPython.display import Latex,HTML,Markdown                 #網頁顯示數學符號\n",
    "sp.init_printing(\"mathjax\")                       #sp.init_printing()  168 \n",
    "import lib\n",
    "from lib import GetTE\n",
    "    \n",
    "\"\"\"\n",
    "分式加減\n",
    "\"\"\"\n",
    "def Get_PF205_Expr(QizAmt):\n",
    "    x,y,z=sp.symbols('x,y,z')\n",
    "    op_list=[\"+\",\"-\"]\n",
    "    sample_list0= list(range(1,16))   # [-5,-4,-3,-2,-1,1,2,3,4,5]\n",
    "    sample_list1= list(range(0,11)) \n",
    "    sample_list1.remove(0)    # 非零數列\n",
    "    NTE=[]\n",
    "    for i in range(0,QizAmt):\n",
    "        op= random.choice(op_list)\n",
    "        a = random.choice( sample_list0 )\n",
    "        b = random.choice( sample_list0 )\n",
    "        c = random.choice( sample_list0 )\n",
    "        d = random.choice( sample_list0 )\n",
    "        h = random.choice( sample_list1 )\n",
    "        k = random.choice( sample_list1 )\n",
    "        h1= random.choice( sample_list1 )\n",
    "        k1= random.choice( sample_list1 )\n",
    "        e=lib.lcm(a,b)   \n",
    "        f=lib.lcm(a,b) // a  \n",
    "        g=lib.lcm(a,b) // b  \n",
    "        p=random.choice([-5,-4,-3,-2,-1,1,2,3,4,5])\n",
    "        q=random.choice([-5,-4,-3,-2,-1,1,2,3,4,5])\n",
    "        if p+q==0: q=int(math.copysign((abs(q)+2),q))\n",
    "        b=p+q\n",
    "        \n",
    "        c=p*q\n",
    "        fx1=c / (a*x**h*y**k)\n",
    "        fx2=d / (b*x**h1*y**k1)\n",
    "        St=sp.S(0)\n",
    "        if op==\"+\":\n",
    "            St=sp.Add(fx1,fx2)\n",
    "        if op==\"-\":\n",
    "            St=fx1-fx2\n",
    "        Val=sp.simplify(St)\n",
    "        TE=GetTE(len(NTE),sp.latex(St),Val)        \n",
    "        TE[\"ValLatex\"]=sp.latex(Val )\n",
    "        NTE.append(TE)    \n",
    "    return NTE\n",
    "if __name__ ==\"__main__\":\n",
    "    NTE=Get_PF205_Expr(20)\n",
    "    display(Markdown(lib.NTE2TBL(NTE)))    \n"
   ]
  },
  {
   "cell_type": "code",
   "execution_count": 3,
   "id": "documented-stereo",
   "metadata": {},
   "outputs": [
    {
     "name": "stdout",
     "output_type": "stream",
     "text": [
      "第1題:\n"
     ]
    },
    {
     "data": {
      "text/latex": [
       " $$ - \\frac{4}{3 x y^{3}} + \\frac{2}{x^{3} y^{7}} $$ "
      ],
      "text/plain": [
       "<IPython.core.display.Latex object>"
      ]
     },
     "metadata": {},
     "output_type": "display_data"
    },
    {
     "name": "stdin",
     "output_type": "stream",
     "text": [
      "請作答: 0\n"
     ]
    },
    {
     "data": {
      "text/latex": [
       "答案錯誤, 標準答案: $ - \\frac{4}{3 x y^{3}} + \\frac{2}{x^{3} y^{7}} $"
      ],
      "text/plain": [
       "<IPython.core.display.Latex object>"
      ]
     },
     "metadata": {},
     "output_type": "display_data"
    },
    {
     "name": "stdout",
     "output_type": "stream",
     "text": [
      "第2題:\n"
     ]
    },
    {
     "data": {
      "text/latex": [
       " $$ \\frac{1}{2 x y^{10}} + \\frac{1}{4 x^{3} y^{3}} $$ "
      ],
      "text/plain": [
       "<IPython.core.display.Latex object>"
      ]
     },
     "metadata": {},
     "output_type": "display_data"
    },
    {
     "name": "stdin",
     "output_type": "stream",
     "text": [
      "請作答: 0\n"
     ]
    },
    {
     "data": {
      "text/latex": [
       "答案錯誤, 標準答案: $ \\frac{2 x^{2} + y^{7}}{4 x^{3} y^{10}} $"
      ],
      "text/plain": [
       "<IPython.core.display.Latex object>"
      ]
     },
     "metadata": {},
     "output_type": "display_data"
    },
    {
     "name": "stdout",
     "output_type": "stream",
     "text": [
      "第3題:\n"
     ]
    },
    {
     "data": {
      "text/latex": [
       " $$ \\frac{3}{x^{4} y^{4}} - \\frac{1}{x^{8} y^{9}} $$ "
      ],
      "text/plain": [
       "<IPython.core.display.Latex object>"
      ]
     },
     "metadata": {},
     "output_type": "display_data"
    },
    {
     "name": "stdin",
     "output_type": "stream",
     "text": [
      "請作答: 0\n"
     ]
    },
    {
     "data": {
      "text/latex": [
       "答案錯誤, 標準答案: $ \\frac{3 x^{4} y^{5} - 1}{x^{8} y^{9}} $"
      ],
      "text/plain": [
       "<IPython.core.display.Latex object>"
      ]
     },
     "metadata": {},
     "output_type": "display_data"
    },
    {
     "name": "stdout",
     "output_type": "stream",
     "text": [
      "第4題:\n"
     ]
    },
    {
     "data": {
      "text/latex": [
       " $$ \\frac{10}{x^{4} y^{3}} - \\frac{1}{9 x^{5} y^{3}} $$ "
      ],
      "text/plain": [
       "<IPython.core.display.Latex object>"
      ]
     },
     "metadata": {},
     "output_type": "display_data"
    },
    {
     "name": "stdin",
     "output_type": "stream",
     "text": [
      "請作答: 0\n"
     ]
    },
    {
     "data": {
      "text/latex": [
       "答案錯誤, 標準答案: $ \\frac{90 x - 1}{9 x^{5} y^{3}} $"
      ],
      "text/plain": [
       "<IPython.core.display.Latex object>"
      ]
     },
     "metadata": {},
     "output_type": "display_data"
    },
    {
     "name": "stdout",
     "output_type": "stream",
     "text": [
      "總結: 共4題,得 0 分. \n"
     ]
    },
    {
     "data": {
      "text/html": [
       "<table><tr><td>St</td><td>Val</td><td>Ans</td><td>OK</td></tr><tr><td>$$- \\frac{4}{3 x y^{3}} + \\frac{2}{x^{3} y^{7}}$$</td><td>-4/(3*x*y**3) + 2/(x**3*y**7)</td><td>0</td><td>0</td></tr><tr><td>$$\\frac{1}{2 x y^{10}} + \\frac{1}{4 x^{3} y^{3}}$$</td><td>(2*x**2 + y**7)/(4*x**3*y**10)</td><td>0</td><td>0</td></tr><tr><td>$$\\frac{3}{x^{4} y^{4}} - \\frac{1}{x^{8} y^{9}}$$</td><td>(3*x**4*y**5 - 1)/(x**8*y**9)</td><td>0</td><td>0</td></tr><tr><td>$$\\frac{10}{x^{4} y^{3}} - \\frac{1}{9 x^{5} y^{3}}$$</td><td>(90*x - 1)/(9*x**5*y**3)</td><td>0</td><td>0</td></tr></table>"
      ],
      "text/plain": [
       "<IPython.core.display.HTML object>"
      ]
     },
     "metadata": {},
     "output_type": "display_data"
    }
   ],
   "source": [
    "\"\"\"程式二\n",
    "分式加減\n",
    "\"\"\"\n",
    "x,y,z=sp.symbols('x,y,z')\n",
    "QizAmt=4\n",
    "Mark=0\n",
    "NTE=Get_PF205_Expr(QizAmt)\n",
    "i=0\n",
    "for TE in NTE:\n",
    "    i+=1 \n",
    "    St=TE[\"St\"]\n",
    "    Val=TE[\"Val\"]\n",
    "    ValLatex=TE[\"ValLatex\"]\n",
    "    print(f\"第{i}題:\")        \n",
    "    display(Latex(f\" $$ {St} $$ \" ))\n",
    "    #display(Latex(f\"標準答案: $ {ValLatex} $\"))\n",
    "    #print(Val)\n",
    "    ans=input(\"請作答:\") \n",
    "    ans=lib.Text2St(ans)\n",
    "    TE[\"Ans\"]=ans\n",
    "    if parse_expr(ans).subs({x:7})==Val.subs({x:7}):                   #比對答案:\n",
    "        print(\"答對!\")                              #答對加一分\n",
    "        Mark+=1\n",
    "        TE[\"OK\"]=1\n",
    "    else:                                      #不則\n",
    "        TE[\"OK\"]=0\n",
    "        display(Latex(f\"答案錯誤, 標準答案: $ {ValLatex} $\"))\n",
    "\n",
    "print(f\"總結: 共{QizAmt}題,得 {Mark} 分. \")  #總結得分\n",
    "\n",
    "display(Markdown(lib.NTE2TBL(NTE)))    \n"
   ]
  }
 ],
 "metadata": {
  "kernelspec": {
   "display_name": "Python 3",
   "language": "python",
   "name": "python3"
  },
  "language_info": {
   "codemirror_mode": {
    "name": "ipython",
    "version": 3
   },
   "file_extension": ".py",
   "mimetype": "text/x-python",
   "name": "python",
   "nbconvert_exporter": "python",
   "pygments_lexer": "ipython3",
   "version": "3.9.9"
  }
 },
 "nbformat": 4,
 "nbformat_minor": 5
}

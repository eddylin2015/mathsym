{
 "cells": [
  {
   "cell_type": "markdown",
   "id": "beginning-croatia",
   "metadata": {},
   "source": [
    "# 電腦數學符號運算"
   ]
  },
  {
   "cell_type": "markdown",
   "id": "colored-contents",
   "metadata": {},
   "source": [
    "### 第3節. 解可化爲一元二次方程的分式方程實作\n",
    "#### 安裝 Python 3.8.7\n",
    "- pip install numpy\n",
    "- pip install sympy\n",
    "- pip install jupyterlab\n",
    "- lib.py 自定義函數庫\n",
    "\n",
    "#### 【项目】解可化爲一元二次方程的分式方程\n",
    "- 題型1: $ \\frac{a}{x^2}=b$,\n",
    "\n",
    "作答: x1=+J(a/b);  x2=-J(a/b) ,   \n",
    "\n",
    "參數: |a|,|b|<10 Integer, b=math.copysign(b,a) , none_zero\n",
    "\n",
    "- 题型2： $ \\frac{a}{x}+\\frac{b}{x^2}=1$\n",
    "\n",
    "參數: |a|,|b| < 10 整数\n",
    "\n",
    "- 题型3： $\\frac{a}{x-c}+\\frac{b}{x-d}=\\frac{e}{(x-c)(x-d)}$\n",
    "\n",
    "參數: |a|,|b|, |c|,|d|,|e|< 10 整数\n",
    "\n",
    "- 题型4：  $\\frac{a}{x-c}+\\frac{b}{x-d}=e$\n",
    "\n",
    "參數: |a|,|b|, |c|,|d|,|e|< 10 整数\n"
   ]
  },
  {
   "cell_type": "code",
   "execution_count": 2,
   "id": "covered-creek",
   "metadata": {},
   "outputs": [
    {
     "data": {
      "text/markdown": [
       "號|題|值|答|檢查|題型|提示\n",
       "--|--|--|--|--|--|--\n",
       "0|$$- \\frac{5}{x^{2}} = -1$$|[-sqrt(5), sqrt(5)]||0|-1|\n",
       "1|$$- \\frac{7}{x} - \\frac{3}{x^{2}} = 1$$|[-7/2 - sqrt(37)/2, -7/2 + sqrt(37)/2]||0|-1|\n",
       "2|$$- \\frac{3}{x^{2}} = -1$$|[-sqrt(3), sqrt(3)]||0|-1|\n",
       "3|$$- \\frac{5}{x^{2}} = -6$$|[-sqrt(30)/6, sqrt(30)/6]||0|-1|"
      ],
      "text/plain": [
       "<IPython.core.display.Markdown object>"
      ]
     },
     "metadata": {},
     "output_type": "display_data"
    }
   ],
   "source": [
    "import random                                     #亂數 \n",
    "import math                                       #math 內置數學函數\n",
    "import numpy as np                                #數字矩陣\n",
    "import sympy as sp                                #sympy 簡易別名 sp    \n",
    "from sympy.parsing.sympy_parser import parse_expr #文字字串, 解釋成, Sympy 運算式\n",
    "from sympy.plotting import plot                   #繪圖表\n",
    "from IPython.display import Latex,HTML,Markdown                 #網頁顯示數學符號\n",
    "import json                                       #JSON 結構化資料\n",
    "import re\n",
    "import lib\n",
    "from lib import GetTE\n",
    "sp.init_printing(\"mathjax\")                       #sp.init_printing()  168 \n",
    "\"\"\"\n",
    "【项目】解可化爲一元二次方程的分式方程\n",
    "\"\"\"\n",
    "def Get_PF302_Expr(QizAmt):\n",
    "    x,y,z=sp.symbols('x,y,z')\n",
    "    sample_list0= list(range(-39,29))   # [-5,-4,-3,-2,-1,1,2,3,4,5]\n",
    "    sample_list1= list(range(-10,10))\n",
    "    sample_list1.remove(0)    # 非零數列\n",
    "    NTE=[]\n",
    "    for i in range(0,QizAmt):\n",
    "        Tx=i % 4 +1\n",
    "        a = random.choice(sample_list1) \n",
    "        b = random.choice(sample_list1) \n",
    "        b=sp.Integer(math.copysign(b,a))\n",
    "        fx1= a / (x**2)\n",
    "        St=sp.Eq(fx1,b)                             #f(x)=0\n",
    "        if Tx==2:\n",
    "            if a*a+4*b >= 0 : \n",
    "                fx1= a / x\n",
    "                fx2= b / (x**2)\n",
    "                fx=sp.Add(fx1,fx2,evaluate=False)\n",
    "                St=sp.Eq(fx,sp.Integer(1))                             #f(x)=0\n",
    "        elif Tx==3:\n",
    "            m=random.choice(range(1,6))\n",
    "            n=random.choice(range(1,6))\n",
    "            a=m*n\n",
    "            p=random.choice(range(-10,10))\n",
    "            q=random.choice(range(-10,10))\n",
    "            b=p*n+q*m\n",
    "            c=p*q\n",
    "        elif Tx==4:\n",
    "            m=random.choice([-5,-4,-3,-2,-1,1,2,3,4,5])\n",
    "            n=random.choice([-5,-4,-3,-2,-1,1,2,3,4,5])\n",
    "            if m*n >0 : n=n*-1\n",
    "            a=m*n\n",
    "            p=random.choice(range(-10,10))\n",
    "            q=random.choice(range(-10,10))\n",
    "            b=p*n+q*m\n",
    "            c=p*q\n",
    "        else:\n",
    "            pass\n",
    "        Val=sp.solve(St)                              #因式分解,得出標準答案\n",
    "        TE=GetTE(len(NTE),sp.latex(St),Val )\n",
    "        NTE.append(TE)    \n",
    "    return NTE\n",
    "\n",
    "if __name__==\"__main__\":\n",
    "    NTE=Get_PF302_Expr(4)\n",
    "    display(Markdown(lib.NTE2TBL(NTE))) "
   ]
  },
  {
   "cell_type": "code",
   "execution_count": 3,
   "id": "endangered-pleasure",
   "metadata": {},
   "outputs": [
    {
     "name": "stdout",
     "output_type": "stream",
     "text": [
      "第0題:\n"
     ]
    },
    {
     "data": {
      "text/latex": [
       " $$ \\frac{5}{x^{2}} = 9 $$ "
      ],
      "text/plain": [
       "<IPython.core.display.Latex object>"
      ]
     },
     "metadata": {},
     "output_type": "display_data"
    },
    {
     "name": "stdin",
     "output_type": "stream",
     "text": [
      "請作答x1: 0\n",
      "請作答x2: 0\n"
     ]
    },
    {
     "data": {
      "text/latex": [
       "答案錯誤, 標準答案: "
      ],
      "text/plain": [
       "<IPython.core.display.Latex object>"
      ]
     },
     "metadata": {},
     "output_type": "display_data"
    },
    {
     "data": {
      "text/latex": [
       "$ - \\frac{\\sqrt{5}}{3} $"
      ],
      "text/plain": [
       "<IPython.core.display.Latex object>"
      ]
     },
     "metadata": {},
     "output_type": "display_data"
    },
    {
     "data": {
      "text/latex": [
       "$ \\frac{\\sqrt{5}}{3} $"
      ],
      "text/plain": [
       "<IPython.core.display.Latex object>"
      ]
     },
     "metadata": {},
     "output_type": "display_data"
    },
    {
     "name": "stdout",
     "output_type": "stream",
     "text": [
      "第1題:\n"
     ]
    },
    {
     "data": {
      "text/latex": [
       " $$ \\frac{3}{x} + \\frac{5}{x^{2}} = 1 $$ "
      ],
      "text/plain": [
       "<IPython.core.display.Latex object>"
      ]
     },
     "metadata": {},
     "output_type": "display_data"
    },
    {
     "name": "stdin",
     "output_type": "stream",
     "text": [
      "請作答x1: 0\n",
      "請作答x2: 0\n"
     ]
    },
    {
     "data": {
      "text/latex": [
       "答案錯誤, 標準答案: "
      ],
      "text/plain": [
       "<IPython.core.display.Latex object>"
      ]
     },
     "metadata": {},
     "output_type": "display_data"
    },
    {
     "data": {
      "text/latex": [
       "$ \\frac{3}{2} - \\frac{\\sqrt{29}}{2} $"
      ],
      "text/plain": [
       "<IPython.core.display.Latex object>"
      ]
     },
     "metadata": {},
     "output_type": "display_data"
    },
    {
     "data": {
      "text/latex": [
       "$ \\frac{3}{2} + \\frac{\\sqrt{29}}{2} $"
      ],
      "text/plain": [
       "<IPython.core.display.Latex object>"
      ]
     },
     "metadata": {},
     "output_type": "display_data"
    },
    {
     "name": "stdout",
     "output_type": "stream",
     "text": [
      "第2題:\n"
     ]
    },
    {
     "data": {
      "text/latex": [
       " $$ \\frac{9}{x^{2}} = 2 $$ "
      ],
      "text/plain": [
       "<IPython.core.display.Latex object>"
      ]
     },
     "metadata": {},
     "output_type": "display_data"
    },
    {
     "name": "stdin",
     "output_type": "stream",
     "text": [
      "請作答x1: 0\n",
      "請作答x2: 0\n"
     ]
    },
    {
     "data": {
      "text/latex": [
       "答案錯誤, 標準答案: "
      ],
      "text/plain": [
       "<IPython.core.display.Latex object>"
      ]
     },
     "metadata": {},
     "output_type": "display_data"
    },
    {
     "data": {
      "text/latex": [
       "$ - \\frac{3 \\sqrt{2}}{2} $"
      ],
      "text/plain": [
       "<IPython.core.display.Latex object>"
      ]
     },
     "metadata": {},
     "output_type": "display_data"
    },
    {
     "data": {
      "text/latex": [
       "$ \\frac{3 \\sqrt{2}}{2} $"
      ],
      "text/plain": [
       "<IPython.core.display.Latex object>"
      ]
     },
     "metadata": {},
     "output_type": "display_data"
    },
    {
     "name": "stdout",
     "output_type": "stream",
     "text": [
      "第3題:\n"
     ]
    },
    {
     "data": {
      "text/latex": [
       " $$ \\frac{5}{x^{2}} = 9 $$ "
      ],
      "text/plain": [
       "<IPython.core.display.Latex object>"
      ]
     },
     "metadata": {},
     "output_type": "display_data"
    },
    {
     "name": "stdin",
     "output_type": "stream",
     "text": [
      "請作答x1: 0\n",
      "請作答x2: 0\n"
     ]
    },
    {
     "data": {
      "text/latex": [
       "答案錯誤, 標準答案: "
      ],
      "text/plain": [
       "<IPython.core.display.Latex object>"
      ]
     },
     "metadata": {},
     "output_type": "display_data"
    },
    {
     "data": {
      "text/latex": [
       "$ - \\frac{\\sqrt{5}}{3} $"
      ],
      "text/plain": [
       "<IPython.core.display.Latex object>"
      ]
     },
     "metadata": {},
     "output_type": "display_data"
    },
    {
     "data": {
      "text/latex": [
       "$ \\frac{\\sqrt{5}}{3} $"
      ],
      "text/plain": [
       "<IPython.core.display.Latex object>"
      ]
     },
     "metadata": {},
     "output_type": "display_data"
    },
    {
     "data": {
      "text/html": [
       "<table><tr><td>Qiz</td><td>Val</td><td>Ans</td><td>OK</td></tr><tr><td>$$\\frac{5}{x^{2}} = 9$$</td><td>[-sqrt(5)/3, sqrt(5)/3]</td><td>[0, 0]</td><td>0</td></tr><tr><td>$$\\frac{3}{x} + \\frac{5}{x^{2}} = 1$$</td><td>[3/2 - sqrt(29)/2, 3/2 + sqrt(29)/2]</td><td>[0, 0]</td><td>0</td></tr><tr><td>$$\\frac{9}{x^{2}} = 2$$</td><td>[-3*sqrt(2)/2, 3*sqrt(2)/2]</td><td>[0, 0]</td><td>0</td></tr><tr><td>$$\\frac{5}{x^{2}} = 9$$</td><td>[-sqrt(5)/3, sqrt(5)/3]</td><td>[0, 0]</td><td>0</td></tr></table>"
      ],
      "text/plain": [
       "<IPython.core.display.HTML object>"
      ]
     },
     "metadata": {},
     "output_type": "display_data"
    }
   ],
   "source": [
    "\"\"\"\n",
    "【项目】解可化爲一元二次方程的分式方程\n",
    "\"\"\"\n",
    "NTE=Get_PF302_Expr(4)\n",
    "for i,TE in enumerate(NTE):\n",
    "    St=TE[\"St\"]\n",
    "    Val=TE[\"Val\"]\n",
    "    print(f\"第{i}題:\")        \n",
    "    display(Latex(f\" $$ {St} $$ \" ))\n",
    "    #for v_ in Val: display(Latex(r\"提示答案:$ %s $\" % sp.latex(v_)))    \n",
    "    ans=[]\n",
    "    for idx in range(0,len(Val)):\n",
    "        ans1=input(f\"請作答x{idx+1}:\")  \n",
    "        ans.append(parse_expr(lib.Text2St(ans1)))\n",
    "    TE[\"Ans\"]=ans\n",
    "    Flag=0\n",
    "    for v_ in Val:\n",
    "        for a_ in ans:\n",
    "            if(v_==a_): Flag+=1\n",
    "    if Flag>1:                   #比對答案:\n",
    "        print(\"答對!\")                              #答對加一分\n",
    "        TE[\"OK\"]=1\n",
    "    else:                                      #不則\n",
    "        TE[\"OK\"]=0\n",
    "        display(Latex(f\"答案錯誤, 標準答案: \"))\n",
    "        for v_ in Val:\n",
    "            v_=sp.latex(v_)\n",
    "            display(Latex(f\"$ {v_} $\"))\n",
    "    \n",
    "display(Markdown(lib.NTE2TBL(NTE))) "
   ]
  },
  {
   "cell_type": "code",
   "execution_count": 2,
   "id": "coordinate-honey",
   "metadata": {},
   "outputs": [
    {
     "name": "stdout",
     "output_type": "stream",
     "text": [
      "第1題:\n"
     ]
    },
    {
     "data": {
      "text/latex": [
       " $$ - \\frac{8}{x^{2}} = -7 $$ "
      ],
      "text/plain": [
       "<IPython.core.display.Latex object>"
      ]
     },
     "metadata": {},
     "output_type": "display_data"
    },
    {
     "data": {
      "text/latex": [
       "提示答案:$ - \\frac{2 \\sqrt{14}}{7} $"
      ],
      "text/plain": [
       "<IPython.core.display.Latex object>"
      ]
     },
     "metadata": {},
     "output_type": "display_data"
    },
    {
     "data": {
      "text/latex": [
       "提示答案:$ \\frac{2 \\sqrt{14}}{7} $"
      ],
      "text/plain": [
       "<IPython.core.display.Latex object>"
      ]
     },
     "metadata": {},
     "output_type": "display_data"
    },
    {
     "name": "stdout",
     "output_type": "stream",
     "text": [
      "第2題:\n"
     ]
    },
    {
     "data": {
      "text/latex": [
       " $$ \\frac{4}{x} + \\frac{2}{x^{2}} = 1 $$ "
      ],
      "text/plain": [
       "<IPython.core.display.Latex object>"
      ]
     },
     "metadata": {},
     "output_type": "display_data"
    },
    {
     "data": {
      "text/latex": [
       "提示答案:$ 2 - \\sqrt{6} $"
      ],
      "text/plain": [
       "<IPython.core.display.Latex object>"
      ]
     },
     "metadata": {},
     "output_type": "display_data"
    },
    {
     "data": {
      "text/latex": [
       "提示答案:$ 2 + \\sqrt{6} $"
      ],
      "text/plain": [
       "<IPython.core.display.Latex object>"
      ]
     },
     "metadata": {},
     "output_type": "display_data"
    },
    {
     "name": "stdout",
     "output_type": "stream",
     "text": [
      "第3題:\n"
     ]
    },
    {
     "data": {
      "text/latex": [
       " $$ - \\frac{1}{x^{2}} = -1 $$ "
      ],
      "text/plain": [
       "<IPython.core.display.Latex object>"
      ]
     },
     "metadata": {},
     "output_type": "display_data"
    },
    {
     "data": {
      "text/latex": [
       "提示答案:$ -1 $"
      ],
      "text/plain": [
       "<IPython.core.display.Latex object>"
      ]
     },
     "metadata": {},
     "output_type": "display_data"
    },
    {
     "data": {
      "text/latex": [
       "提示答案:$ 1 $"
      ],
      "text/plain": [
       "<IPython.core.display.Latex object>"
      ]
     },
     "metadata": {},
     "output_type": "display_data"
    },
    {
     "name": "stdout",
     "output_type": "stream",
     "text": [
      "第4題:\n"
     ]
    },
    {
     "data": {
      "text/latex": [
       " $$ \\frac{7}{x^{2}} = 3 $$ "
      ],
      "text/plain": [
       "<IPython.core.display.Latex object>"
      ]
     },
     "metadata": {},
     "output_type": "display_data"
    },
    {
     "data": {
      "text/latex": [
       "提示答案:$ - \\frac{\\sqrt{21}}{3} $"
      ],
      "text/plain": [
       "<IPython.core.display.Latex object>"
      ]
     },
     "metadata": {},
     "output_type": "display_data"
    },
    {
     "data": {
      "text/latex": [
       "提示答案:$ \\frac{\\sqrt{21}}{3} $"
      ],
      "text/plain": [
       "<IPython.core.display.Latex object>"
      ]
     },
     "metadata": {},
     "output_type": "display_data"
    },
    {
     "data": {
      "text/markdown": [
       "|Qiz|Val|Ans|OK|\n",
       "|---|---|---|---|\n",
       "|$$- \\frac{8}{x^{2}} = -7$$||$$-2*sqrt(14)/7$$ $$2*sqrt(14)/7$$|-|0|\n",
       "|$$\\frac{4}{x} + \\frac{2}{x^{2}} = 1$$||$$2 - sqrt(6)$$ $$2 + sqrt(6)$$|-|0|\n",
       "|$$- \\frac{1}{x^{2}} = -1$$||$$-1$$ $$1$$|-|0|\n",
       "|$$\\frac{7}{x^{2}} = 3$$||$$-sqrt(21)/3$$ $$sqrt(21)/3$$|-|0|\n"
      ],
      "text/plain": [
       "<IPython.core.display.Markdown object>"
      ]
     },
     "metadata": {},
     "output_type": "display_data"
    }
   ],
   "source": [
    "\"\"\"\n",
    "【项目】解可化爲一元二次方程的分式方程\n",
    "\"\"\"\n",
    "####################初始化,文件頭,匯入組件#####################################\n",
    "import random                                     #亂數 \n",
    "import math                                       #math 內置數學函數\n",
    "import sympy as sp                                #sympy 簡易別名 sp    \n",
    "from IPython.display import Latex,HTML,Markdown                 #網頁顯示數學符號\n",
    "import lib\n",
    "sp.init_printing(\"mathjax\")                       #sp.init_printing()  168 \n",
    "def displayTable(NTE):\n",
    "    tablecontext=lib.NTE2MD(NTE)\n",
    "    display(Markdown(tablecontext)) \n",
    "############################################################################\n",
    "def Get_EquExpr(QizAmt):\n",
    "    x,y,z=sp.symbols('x,y,z')\n",
    "    sample_list0= list(range(-39,29))   # [-5,-4,-3,-2,-1,1,2,3,4,5]\n",
    "    sample_list1= list(range(-10,10))\n",
    "    sample_list1.remove(0)    # 非零數列\n",
    "    NTE=[]\n",
    "    for i in range(0,QizAmt):\n",
    "        Tx=i % 4 +1\n",
    "        a = random.choice(sample_list1) \n",
    "        b = random.choice(sample_list1) \n",
    "        b=sp.Integer(math.copysign(b,a))\n",
    "        fx1= a / (x**2)\n",
    "        St=sp.Eq(fx1,b)                             #f(x)=0\n",
    "        if Tx==2:\n",
    "            if a*a+4*b >= 0 : \n",
    "                fx1= a / x\n",
    "                fx2= b / (x**2)\n",
    "                fx=sp.Add(fx1,fx2,evaluate=False)\n",
    "                St=sp.Eq(fx,sp.Integer(1))                             #f(x)=0\n",
    "        elif Tx==3:\n",
    "            m=random.choice(range(1,6))\n",
    "            n=random.choice(range(1,6))\n",
    "            a=m*n\n",
    "            p=random.choice(range(-10,10))\n",
    "            q=random.choice(range(-10,10))\n",
    "            b=p*n+q*m\n",
    "            c=p*q\n",
    "        elif Tx==4:\n",
    "            m=random.choice([-5,-4,-3,-2,-1,1,2,3,4,5])\n",
    "            n=random.choice([-5,-4,-3,-2,-1,1,2,3,4,5])\n",
    "            if m*n >0 : n=n*-1\n",
    "            a=m*n\n",
    "            p=random.choice(range(-10,10))\n",
    "            q=random.choice(range(-10,10))\n",
    "            b=p*n+q*m\n",
    "            c=p*q\n",
    "        else:\n",
    "            pass\n",
    "        Val=sp.solve(St)                              #因式分解,得出標準答案\n",
    "        TE={}\n",
    "        TE[\"St\"]=sp.latex(St)\n",
    "        TE[\"Val\"]=Val        \n",
    "        TE[\"Ans\"]=\"-\"      \n",
    "        TE[\"OK\"]=0\n",
    "        NTE.append(TE)    \n",
    "    return NTE\n",
    "\n",
    "NTE=Get_EquExpr(4)\n",
    "for i, TE in enumerate(NTE):\n",
    "    St=TE[\"St\"]\n",
    "    Val=TE[\"Val\"]\n",
    "    print(f\"第{i+1}題:\")        \n",
    "    display(Latex(f\" $$ {St} $$ \" ))\n",
    "    for v_ in Val: display(Latex(r\"提示答案:$ %s $\" % sp.latex(v_)))    \n",
    "\n",
    "displayTable(NTE)\n"
   ]
  }
 ],
 "metadata": {
  "kernelspec": {
   "display_name": "Python 3",
   "language": "python",
   "name": "python3"
  },
  "language_info": {
   "codemirror_mode": {
    "name": "ipython",
    "version": 3
   },
   "file_extension": ".py",
   "mimetype": "text/x-python",
   "name": "python",
   "nbconvert_exporter": "python",
   "pygments_lexer": "ipython3",
   "version": "3.9.9"
  }
 },
 "nbformat": 4,
 "nbformat_minor": 5
}

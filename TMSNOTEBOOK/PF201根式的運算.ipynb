{
 "cells": [
  {
   "cell_type": "markdown",
   "id": "secondary-moscow",
   "metadata": {},
   "source": [
    "# 電腦數學符號運算"
   ]
  },
  {
   "cell_type": "markdown",
   "id": "internal-discretion",
   "metadata": {},
   "source": [
    "### 第3節. 根式練習實作\n",
    "安裝 Python 3.8.7\n",
    "- pip install numpy\n",
    "- pip install sympy\n",
    "- pip install jupyterlab\n",
    "- lib.py 自定義函數庫"
   ]
  },
  {
   "cell_type": "markdown",
   "id": "assured-iceland",
   "metadata": {},
   "source": [
    "程式一   \n",
    "根式練習  \n",
    "第1題:$\\sqrt{126}$     \n",
    "標準答案: 3∗sqrt(14)     \n",
    "作答: 3*J(14)   \n",
    "  \n",
    "第2題: $\\sqrt{171}$    \n",
    "標準答案: 3∗sqrt(19)    \n",
    "作答: 3*J(19)    "
   ]
  },
  {
   "cell_type": "code",
   "execution_count": 99,
   "id": "electric-tokyo",
   "metadata": {},
   "outputs": [
    {
     "name": "stdout",
     "output_type": "stream",
     "text": [
      "Qiz:\n"
     ]
    },
    {
     "data": {
      "text/latex": [
       "$ 16 \\times \\sqrt{16} +  18 \\times \\sqrt{18} + 3 \\times \\sqrt{3} $"
      ],
      "text/plain": [
       "<IPython.core.display.Latex object>"
      ]
     },
     "metadata": {},
     "output_type": "display_data"
    },
    {
     "name": "stdout",
     "output_type": "stream",
     "text": [
      "Val:\n"
     ]
    },
    {
     "data": {
      "image/png": "[encoded data removed]",
      "text/latex": [
       "$\\displaystyle 3 \\sqrt{3} + 64 + 54 \\sqrt{2}$"
      ],
      "text/plain": [
       "3⋅√3 + 64 + 54⋅√2"
      ]
     },
     "metadata": {},
     "output_type": "display_data"
    },
    {
     "name": "stdout",
     "output_type": "stream",
     "text": [
      "Qiz:\n"
     ]
    },
    {
     "data": {
      "text/latex": [
       "$ 32 \\times \\sqrt{32} +  12 \\times \\sqrt{12} + 10 \\times \\sqrt{10} $"
      ],
      "text/plain": [
       "<IPython.core.display.Latex object>"
      ]
     },
     "metadata": {},
     "output_type": "display_data"
    },
    {
     "name": "stdout",
     "output_type": "stream",
     "text": [
      "Val:\n"
     ]
    },
    {
     "data": {
      "image/png": "[encoded data removed]",
      "text/latex": [
       "$\\displaystyle 10 \\sqrt{10} + 24 \\sqrt{3} + 128 \\sqrt{2}$"
      ],
      "text/plain": [
       "10⋅√10 + 24⋅√3 + 128⋅√2"
      ]
     },
     "metadata": {},
     "output_type": "display_data"
    }
   ],
   "source": [
    "import random                    \n",
    "import numpy as np\n",
    "import sympy as sp               \n",
    "from IPython.display import Latex\n",
    "sp.init_printing()               \n",
    "for i in range(0,2):\n",
    "    a=2**random.choice([1,2,3,4,5,6,7])\n",
    "    b,c,d=np.random.choice(range(2,30),3)\n",
    "    st1=a * sp.sqrt(a)  \n",
    "    st2=b * sp.sqrt(b)\n",
    "    st3=c * sp.sqrt(c)\n",
    "    St = st1 + st2 + st3\n",
    "    Stt= r\"$ %s \\sqrt{%s} +  %s  \\sqrt{%s} + %s \\sqrt{%s} $\"%(a,a,b,b,c,c)\n",
    "    Val= sp.simplify(St)\n",
    "    print(\"Qiz:\")\n",
    "    display(Latex(Stt))\n",
    "    print(\"Val:\")\n",
    "    display(Val)"
   ]
  },
  {
   "cell_type": "code",
   "execution_count": 98,
   "id": "contained-studio",
   "metadata": {
    "tags": []
   },
   "outputs": [
    {
     "data": {
      "image/png": "[encoded data removed]",
      "text/latex": [
       "$\\displaystyle \\frac{- R c + c \\left(R + d\\right)}{c^{2}}$"
      ],
      "text/plain": [
       "-R⋅c + c⋅(R + d)\n",
       "────────────────\n",
       "        2       \n",
       "       c        "
      ]
     },
     "metadata": {},
     "output_type": "display_data"
    },
    {
     "data": {
      "image/png": "[encoded data removed]",
      "text/latex": [
       "$\\displaystyle \\frac{d}{c}$"
      ],
      "text/plain": [
       "d\n",
       "─\n",
       "c"
      ]
     },
     "metadata": {},
     "output_type": "display_data"
    },
    {
     "data": {
      "text/latex": [
       "$\\frac{1}{\\sqrt{2}}=\\frac{\\sqrt{2}}{2} $"
      ],
      "text/plain": [
       "<IPython.core.display.Latex object>"
      ]
     },
     "metadata": {},
     "output_type": "display_data"
    },
    {
     "data": {
      "text/latex": [
       "$\\frac{1}{\\sqrt{a}}=\\frac{1}{\\sqrt{a}}  $"
      ],
      "text/plain": [
       "<IPython.core.display.Latex object>"
      ]
     },
     "metadata": {},
     "output_type": "display_data"
    },
    {
     "data": {
      "image/png": "[encoded data removed]",
      "text/latex": [
       "$\\displaystyle \\frac{\\sqrt{3}}{3}$"
      ],
      "text/plain": [
       "√3\n",
       "──\n",
       "3 "
      ]
     },
     "metadata": {},
     "output_type": "display_data"
    },
    {
     "data": {
      "text/plain": [
       "'1/sqrt(3)'"
      ]
     },
     "metadata": {},
     "output_type": "display_data"
    },
    {
     "data": {
      "image/png": "[encoded data removed]",
      "text/latex": [
       "$\\displaystyle \\frac{3}{2}$"
      ],
      "text/plain": [
       "3/2"
      ]
     },
     "execution_count": 98,
     "metadata": {},
     "output_type": "execute_result"
    }
   ],
   "source": [
    "import random                    \n",
    "import sympy as sp               \n",
    "from IPython.display import Latex\n",
    "sp.init_printing()               \n",
    "###################################################################\n",
    "x,y,z=sp.symbols('x,y,z', positive = True)\n",
    "a=sp.symbols('a', integer = True)\n",
    "b,c,d,R=sp.symbols('b,c,d,R', positive = True, real = True)\n",
    "dt = sp.symbols('\\Delta_t', real = True)\n",
    "dt = (1/c**2)*(-R * c + sp.sqrt(c**2*(R+d)**2))\n",
    "display(dt)\n",
    "display(sp.simplify(dt))\n",
    "###################################################################\n",
    "display(Latex(r'$\\frac{1}{\\sqrt{2}}=%s $'% sp.latex(1/sp.sqrt(2) )))\n",
    "display(Latex(r'$\\frac{1}{\\sqrt{a}}=%s  $' %sp.latex(1/sp.sqrt(a) )))\n",
    "###################################################################\n",
    "fraction = sp.sqrt(3) / 3\n",
    "display(fraction)\n",
    "def stringify(frac):\n",
    "\tfrac = frac ** 2\n",
    "\tnumer, denom = frac.as_numer_denom()\n",
    "\treturn str(sp.sqrt(numer)) + \"/\" + str(sp.sqrt(denom))\n",
    "display(stringify(fraction))\n",
    "###################################################################\n",
    "sp.Rational('1.5')"
   ]
  },
  {
   "cell_type": "code",
   "execution_count": 9,
   "id": "effective-palestine",
   "metadata": {},
   "outputs": [
    {
     "data": {
      "text/markdown": [
       "號|題|值|答|檢查|題型|提示\n",
       "--|--|--|--|--|--|--\n",
       "0|$$ 75\\sqrt{110} $$|75*sqrt(110)||0|0||0\n",
       "1|$$ 9\\sqrt{38} $$|9*sqrt(38)||0|0||0\n",
       "2|$$ 46\\sqrt{148} $$|92*sqrt(37)||0|0||0\n",
       "3|$$ 35\\sqrt{88} $$|70*sqrt(22)||0|0||0"
      ],
      "text/plain": [
       "<IPython.core.display.Markdown object>"
      ]
     },
     "metadata": {},
     "output_type": "display_data"
    },
    {
     "data": {
      "text/markdown": [
       "號|題|值|答|檢查|題型|提示\n",
       "--|--|--|--|--|--|--\n",
       "0|$$\\frac{32}{ 9 \\sqrt{39} }$$|32*sqrt(39)/351||0|1||0\n",
       "1|$$\\frac{25}{ 1 \\sqrt{27} }$$|25*sqrt(3)/9||0|1||0\n",
       "2|$$\\frac{43}{ 5 \\sqrt{42} }$$|43*sqrt(42)/210||0|1||0\n",
       "3|$$\\frac{10}{ 1 \\sqrt{20} }$$|sqrt(5)||0|1||0"
      ],
      "text/plain": [
       "<IPython.core.display.Markdown object>"
      ]
     },
     "metadata": {},
     "output_type": "display_data"
    },
    {
     "data": {
      "text/markdown": [
       "號|題|值|答|檢查|題型|提示\n",
       "--|--|--|--|--|--|--\n",
       "0|$$ \\frac{2}{2 + \\sqrt{12}} $$|-1/2 + sqrt(3)/2||0|2||0\n",
       "1|$$ \\frac{4}{2 + \\sqrt{41}} $$|-8/37 + 4*sqrt(41)/37||0|2||0\n",
       "2|$$ \\frac{4}{3 + \\sqrt{13}} $$|-3 + sqrt(13)||0|2||0\n",
       "3|$$ \\frac{4}{4 + \\sqrt{49}} $$|4/11||0|2||0"
      ],
      "text/plain": [
       "<IPython.core.display.Markdown object>"
      ]
     },
     "metadata": {},
     "output_type": "display_data"
    },
    {
     "data": {
      "text/markdown": [
       "號|題|值|答|檢查|題型|提示\n",
       "--|--|--|--|--|--|--\n",
       "0|$$ (\\sqrt{27} + \\sqrt{28})^2 $$|12*sqrt(21) + 55||0|3||0\n",
       "1|$$ (\\sqrt{147} +\\sqrt{4})(\\sqrt{147}-\\sqrt{4}) $$|143||0|3||0\n",
       "2|$$ \\sqrt{8} + \\sqrt{3} - \\sqrt{20} $$|-2*sqrt(5) + sqrt(3) + 2*sqrt(2)||0|3||0\n",
       "3|$$ \\sqrt{8} + \\sqrt{24} - \\sqrt{147} $$|-7*sqrt(3) + 2*sqrt(2) + 2*sqrt(6)||0|3||0"
      ],
      "text/plain": [
       "<IPython.core.display.Markdown object>"
      ]
     },
     "metadata": {},
     "output_type": "display_data"
    }
   ],
   "source": [
    "import random                                     #亂數 \n",
    "import sympy as sp                                #sympy 簡易別名 sp    \n",
    "import numpy as np\n",
    "from sympy.parsing.sympy_parser import parse_expr #文字字串,解釋成運算式\n",
    "from IPython.display import Latex,HTML,Markdown                 #網頁顯示數學符號\n",
    "sp.init_printing()                       #sp.init_printing()  168 \n",
    "import lib\n",
    "from lib import GetTE\n",
    "def displayTable(NTE):\n",
    "    display(Markdown(lib.NTE2TBL(NTE))) \n",
    "############################################################################\n",
    "\"\"\"\n",
    "PF201根式的運算\n",
    "\"\"\"\n",
    "\n",
    "def Put_PF201_Expr(TE):\n",
    "    x=sp.Symbol('x')\n",
    "    Val=TE[\"Val\"]\n",
    "    ans=TE[\"Ans\"]\n",
    "    if ans.strip() == \"\": ans = \"3.1415926\"\n",
    "    ans=lib.Text2St(ans)\n",
    "    try:\n",
    "        if parse_expr(ans).subs({x:7})==Val.subs({x:7}):                   #比對答案:\n",
    "            TE[\"OK\"]=1\n",
    "        else:                                      #不則\n",
    "            TE[\"OK\"]=0\n",
    "    except:\n",
    "        pass\n",
    "\n",
    "def Get_PF201_Expr(QN,Tx=-1):\n",
    "    NTE=[]\n",
    "    for Qid in range(0,QN):\n",
    "        if Tx==0:  #題型一\n",
    "            a,b=np.random.choice(range(2,80),2)\n",
    "            St=b*sp.sqrt(2*a)\n",
    "            Stt=r\" %s\\sqrt{%s} \"%(b,2*a)\n",
    "            Val=sp.simplify(St)\n",
    "            TE = GetTE(Qid, Stt, Val, Tx)\n",
    "            NTE.append(TE)\n",
    "        if Tx==1: #分母有理化二\n",
    "            a,b=np.random.choice(range(2,60),2)\n",
    "            c=random.choice(range(1,10))\n",
    "            St=r\"\\frac{%s}{ %s \\sqrt{%s} }\"%(b,c,a)\n",
    "            Val=b/(c*sp.sqrt(a))\n",
    "            Val=sp.simplify(Val)            \n",
    "            TE = GetTE(Qid, St, Val, Tx)\n",
    "            NTE.append(TE)\n",
    "        elif Tx==2: #分母有理化三\n",
    "            a=random.choice(range(2,50))\n",
    "            b,c=np.random.choice(range(2,5),2)\n",
    "            c=random.choice(range(2,5))\n",
    "            St=r\" \\frac{%s}{%s + \\sqrt{%s}} \"%(b,c,a)\n",
    "            Val=b/( sp.sqrt(a)+c)\n",
    "            Val=sp.simplify(Val)\n",
    "            TE = GetTE(Qid, St, Val, Tx)\n",
    "            NTE.append(TE)\n",
    "        elif Tx==3:  #題型四\n",
    "            Tid=random.choice(range(0,3))\n",
    "            a=random.choice([2,4,8,12,16,18,20,24,28,32,36,3,9,27,48,75,108,147])\n",
    "            b,c,d=np.random.choice([2,4,8,12,16,18,20,24,28,32,36,3,9,27,48,75,108,147],3)\n",
    "            st1=sp.sqrt(a)\n",
    "            st2=sp.sqrt(b)\n",
    "            st3=sp.sqrt(c)\n",
    "            if Tid==0:\n",
    "                St=st1+st2-st3\n",
    "                Stt=r\" \\sqrt{%s} + \\sqrt{%s} - \\sqrt{%s} \"%(a,b,c)\n",
    "            elif Tid==1:\n",
    "                St=(st1+st2)*(st1-st2)\n",
    "                Stt=r\" (\\sqrt{%s} +\\sqrt{%s})(\\sqrt{%s}-\\sqrt{%s}) \"%(a,b,a,b)\n",
    "            elif Tid==2:\n",
    "                St=(st1+st2)**2\n",
    "                Stt=r\" (\\sqrt{%s} + \\sqrt{%s})^2 \"%(a,b)        \n",
    "            Val=sp.simplify(St)\n",
    "            TE = GetTE(Qid, Stt, Val, Tx)\n",
    "            NTE.append(TE)\n",
    "\n",
    "    return NTE\n",
    "\n",
    "if __name__==\"__main__\":\n",
    "    for Tx in range(0,4):\n",
    "        NTE=Get_PF201_Expr(4,Tx)\n",
    "        displayTable(NTE)    "
   ]
  },
  {
   "cell_type": "code",
   "execution_count": 12,
   "id": "further-invasion",
   "metadata": {},
   "outputs": [
    {
     "name": "stdout",
     "output_type": "stream",
     "text": [
      "第0題:\n"
     ]
    },
    {
     "data": {
      "text/latex": [
       " $$ \\sqrt{612} $$ "
      ],
      "text/plain": [
       "<IPython.core.display.Latex object>"
      ]
     },
     "metadata": {},
     "output_type": "display_data"
    },
    {
     "data": {
      "text/latex": [
       "答案錯誤, 標準答案: $ 6*sqrt(17) $"
      ],
      "text/plain": [
       "<IPython.core.display.Latex object>"
      ]
     },
     "metadata": {},
     "output_type": "display_data"
    },
    {
     "name": "stdout",
     "output_type": "stream",
     "text": [
      "sqrt(2) 可寫 J(2 )\n"
     ]
    },
    {
     "name": "stdin",
     "output_type": "stream",
     "text": [
      "請作答: 6*sqrt(17)\n"
     ]
    },
    {
     "name": "stdout",
     "output_type": "stream",
     "text": [
      "True\n",
      "OK\n",
      "第1題:\n"
     ]
    },
    {
     "data": {
      "text/latex": [
       " $$ \\sqrt{588} + \\sqrt{108}  $$ "
      ],
      "text/plain": [
       "<IPython.core.display.Latex object>"
      ]
     },
     "metadata": {},
     "output_type": "display_data"
    },
    {
     "data": {
      "text/latex": [
       "答案錯誤, 標準答案: $ 20*sqrt(3) $"
      ],
      "text/plain": [
       "<IPython.core.display.Latex object>"
      ]
     },
     "metadata": {},
     "output_type": "display_data"
    },
    {
     "name": "stdout",
     "output_type": "stream",
     "text": [
      "sqrt(2) 可寫 J(2 )\n"
     ]
    },
    {
     "name": "stdin",
     "output_type": "stream",
     "text": [
      "請作答: 0\n"
     ]
    },
    {
     "name": "stdout",
     "output_type": "stream",
     "text": [
      "False\n",
      "Wrong\n",
      "第2題:\n"
     ]
    },
    {
     "data": {
      "text/latex": [
       " $$ \\sqrt{112} \\times {\\sqrt{343}}  $$ "
      ],
      "text/plain": [
       "<IPython.core.display.Latex object>"
      ]
     },
     "metadata": {},
     "output_type": "display_data"
    },
    {
     "data": {
      "text/latex": [
       "答案錯誤, 標準答案: $ 196 $"
      ],
      "text/plain": [
       "<IPython.core.display.Latex object>"
      ]
     },
     "metadata": {},
     "output_type": "display_data"
    },
    {
     "name": "stdout",
     "output_type": "stream",
     "text": [
      "sqrt(2) 可寫 J(2 )\n"
     ]
    },
    {
     "name": "stdin",
     "output_type": "stream",
     "text": [
      "請作答: 196\n"
     ]
    },
    {
     "name": "stdout",
     "output_type": "stream",
     "text": [
      "True\n",
      "OK\n",
      "第3題:\n"
     ]
    },
    {
     "data": {
      "text/latex": [
       " $$ \\frac{\\sqrt{5}}{  \\sqrt{490} + (\\sqrt{9})}  $$ "
      ],
      "text/plain": [
       "<IPython.core.display.Latex object>"
      ]
     },
     "metadata": {},
     "output_type": "display_data"
    },
    {
     "data": {
      "text/latex": [
       "答案錯誤, 標準答案: $ sqrt(5)/(3 + 7*sqrt(10)) $"
      ],
      "text/plain": [
       "<IPython.core.display.Latex object>"
      ]
     },
     "metadata": {},
     "output_type": "display_data"
    },
    {
     "name": "stdout",
     "output_type": "stream",
     "text": [
      "sqrt(2) 可寫 J(2 )\n"
     ]
    },
    {
     "name": "stdin",
     "output_type": "stream",
     "text": [
      "請作答: 0\n"
     ]
    },
    {
     "name": "stdout",
     "output_type": "stream",
     "text": [
      "False\n",
      "Wrong\n"
     ]
    },
    {
     "data": {
      "text/html": [
       "<table><tr><td>St</td><td>Val</td><td>Ans</td><td>OK</td></tr><tr><td>$$\\sqrt{612}$$</td><td>6*sqrt(17)</td><td>6*sqrt(17)</td><td>1</td></tr><tr><td>$$\\sqrt{588} + \\sqrt{108} $$</td><td>20*sqrt(3)</td><td>0</td><td>0</td></tr><tr><td>$$\\sqrt{112} \\times {\\sqrt{343}} $$</td><td>196</td><td>196</td><td>1</td></tr><tr><td>$$\\frac{\\sqrt{5}}{  \\sqrt{490} + (\\sqrt{9})} $$</td><td>sqrt(5)/(3 + 7*sqrt(10))</td><td>0</td><td>0</td></tr></table>"
      ],
      "text/plain": [
       "<IPython.core.display.HTML object>"
      ]
     },
     "metadata": {},
     "output_type": "display_data"
    }
   ],
   "source": [
    "if __name__==\"__main__\":\n",
    "    x,y,z=sp.symbols('x,y,z')\n",
    "    NTE=Get_PF201_Expr(4)\n",
    "    for i,TE in enumerate(NTE):\n",
    "        St=TE[\"St\"]\n",
    "        Val=TE[\"Val\"]\n",
    "        print(f\"第{i}題:\")        \n",
    "        display(Latex(f\" $$ {St} $$ \" ))\n",
    "        display(Latex(f\"答案錯誤, 標準答案: $ {Val} $\"))\n",
    "        print(TE[\"Tips\"])\n",
    "        TE[\"Ans\"]=input(\"請作答:\")  \n",
    "        if Put_PF201_Expr(TE):\n",
    "            print(\"OK\")\n",
    "        else:\n",
    "            print(\"Wrong\")\n",
    "    displayTable(NTE)    \n"
   ]
  },
  {
   "cell_type": "code",
   "execution_count": null,
   "id": "subsequent-technical",
   "metadata": {},
   "outputs": [],
   "source": []
  },
  {
   "cell_type": "code",
   "execution_count": null,
   "id": "abroad-worth",
   "metadata": {},
   "outputs": [],
   "source": []
  },
  {
   "cell_type": "code",
   "execution_count": null,
   "id": "piano-ladder",
   "metadata": {},
   "outputs": [],
   "source": []
  },
  {
   "cell_type": "code",
   "execution_count": null,
   "id": "answering-calendar",
   "metadata": {},
   "outputs": [],
   "source": []
  },
  {
   "cell_type": "code",
   "execution_count": null,
   "id": "protecting-runner",
   "metadata": {},
   "outputs": [],
   "source": []
  },
  {
   "cell_type": "code",
   "execution_count": null,
   "id": "renewable-venezuela",
   "metadata": {},
   "outputs": [],
   "source": []
  },
  {
   "cell_type": "code",
   "execution_count": null,
   "id": "related-fiction",
   "metadata": {},
   "outputs": [],
   "source": []
  },
  {
   "cell_type": "code",
   "execution_count": null,
   "id": "light-instrumentation",
   "metadata": {},
   "outputs": [],
   "source": []
  },
  {
   "cell_type": "code",
   "execution_count": null,
   "id": "fifteen-smoke",
   "metadata": {},
   "outputs": [],
   "source": []
  },
  {
   "cell_type": "code",
   "execution_count": null,
   "id": "professional-proposal",
   "metadata": {},
   "outputs": [],
   "source": []
  },
  {
   "cell_type": "code",
   "execution_count": 13,
   "id": "double-focus",
   "metadata": {},
   "outputs": [
    {
     "name": "stdout",
     "output_type": "stream",
     "text": [
      "end\n"
     ]
    },
    {
     "data": {
      "text/plain": [
       "'-9x**2+25'"
      ]
     },
     "execution_count": 13,
     "metadata": {},
     "output_type": "execute_result"
    }
   ],
   "source": [
    "print(\"end\")\n",
    "import re\n",
    "ans =\"-9x  ^2+25\"\n",
    "#ans = re.sub(r\"(\\d)x\", r\"\\1*x\", ans)\n",
    "ans = re.sub(r\"X\", r\"x\", ans)\n",
    "ans = re.sub(r\"x[ ]*\", r\"x\", ans)\n",
    "ans = ans.replace(r\"x^\", r\"x**\")\n",
    "\n",
    "ans"
   ]
  },
  {
   "cell_type": "code",
   "execution_count": 2,
   "id": "convinced-macro",
   "metadata": {},
   "outputs": [
    {
     "name": "stdout",
     "output_type": "stream",
     "text": [
      "第1題:\n"
     ]
    },
    {
     "data": {
      "text/latex": [
       " $$ \\sqrt153 $$ "
      ],
      "text/plain": [
       "<IPython.core.display.Latex object>"
      ]
     },
     "metadata": {},
     "output_type": "display_data"
    },
    {
     "data": {
      "text/latex": [
       "答案錯誤, 標準答案: $ 3*sqrt(17) $"
      ],
      "text/plain": [
       "<IPython.core.display.Latex object>"
      ]
     },
     "metadata": {},
     "output_type": "display_data"
    },
    {
     "name": "stdout",
     "output_type": "stream",
     "text": [
      "第2題:\n"
     ]
    },
    {
     "data": {
      "text/latex": [
       " $$ \\sqrt117 $$ "
      ],
      "text/plain": [
       "<IPython.core.display.Latex object>"
      ]
     },
     "metadata": {},
     "output_type": "display_data"
    },
    {
     "data": {
      "text/latex": [
       "答案錯誤, 標準答案: $ 3*sqrt(13) $"
      ],
      "text/plain": [
       "<IPython.core.display.Latex object>"
      ]
     },
     "metadata": {},
     "output_type": "display_data"
    },
    {
     "name": "stdout",
     "output_type": "stream",
     "text": [
      "第3題:\n"
     ]
    },
    {
     "data": {
      "text/latex": [
       " $$ \\sqrt156 $$ "
      ],
      "text/plain": [
       "<IPython.core.display.Latex object>"
      ]
     },
     "metadata": {},
     "output_type": "display_data"
    },
    {
     "data": {
      "text/latex": [
       "答案錯誤, 標準答案: $ 2*sqrt(39) $"
      ],
      "text/plain": [
       "<IPython.core.display.Latex object>"
      ]
     },
     "metadata": {},
     "output_type": "display_data"
    },
    {
     "name": "stdout",
     "output_type": "stream",
     "text": [
      "第4題:\n"
     ]
    },
    {
     "data": {
      "text/latex": [
       " $$ \\sqrt208 $$ "
      ],
      "text/plain": [
       "<IPython.core.display.Latex object>"
      ]
     },
     "metadata": {},
     "output_type": "display_data"
    },
    {
     "data": {
      "text/latex": [
       "答案錯誤, 標準答案: $ 4*sqrt(13) $"
      ],
      "text/plain": [
       "<IPython.core.display.Latex object>"
      ]
     },
     "metadata": {},
     "output_type": "display_data"
    },
    {
     "name": "stdout",
     "output_type": "stream",
     "text": [
      "總結: 共4題,得 0 分. \n"
     ]
    },
    {
     "data": {
      "text/html": [
       "<table><tr><td>St</td><td>Val</td><td>Ans</td><td>OK</td></tr><tr><td>$$\\sqrt153$$</td><td>3*sqrt(17)</td><td>-</td><td>-</td></tr><tr><td>$$\\sqrt117$$</td><td>3*sqrt(13)</td><td>-</td><td>-</td></tr><tr><td>$$\\sqrt156$$</td><td>2*sqrt(39)</td><td>-</td><td>-</td></tr><tr><td>$$\\sqrt208$$</td><td>4*sqrt(13)</td><td>-</td><td>-</td></tr></table>"
      ],
      "text/plain": [
       "<IPython.core.display.HTML object>"
      ]
     },
     "metadata": {},
     "output_type": "display_data"
    }
   ],
   "source": []
  }
 ],
 "metadata": {
  "kernelspec": {
   "display_name": "Python 3",
   "language": "python",
   "name": "python3"
  },
  "language_info": {
   "codemirror_mode": {
    "name": "ipython",
    "version": 3
   },
   "file_extension": ".py",
   "mimetype": "text/x-python",
   "name": "python",
   "nbconvert_exporter": "python",
   "pygments_lexer": "ipython3",
   "version": "3.9.2"
  }
 },
 "nbformat": 4,
 "nbformat_minor": 5
}

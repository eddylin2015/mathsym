{
 "cells": [
  {
   "cell_type": "markdown",
   "id": "harmful-basket",
   "metadata": {},
   "source": [
    "7(3x-8)(4x+3)=6(2x-3)\n",
    "ai 1, 4  \n",
    "bi -10, 10   \n",
    "a x2 + bx＋ｃ＝０　　　\n",
    "ａ　１，２，３　　\n",
    "ｂ　—３，３　　　\n",
    "ｃ　—４，—４　　\n",
    "\n",
    "$２ｘ^２＋　ｋｘ　-　４５＝０　　$　     \n",
    "$３ｘ^２＋　ｋｘ -　４５＝０   $  \n",
    "$４ｘ^２＋　ｋｘ　-　４５＝０  $   \n",
    "$４ｘ^２＋　ｋ（ｘ　-　１）＝０  $   \n",
    "　"
   ]
  }
 ],
 "metadata": {
  "kernelspec": {
   "display_name": "Python 3",
   "language": "python",
   "name": "python3"
  },
  "language_info": {
   "codemirror_mode": {
    "name": "ipython",
    "version": 3
   },
   "file_extension": ".py",
   "mimetype": "text/x-python",
   "name": "python",
   "nbconvert_exporter": "python",
   "pygments_lexer": "ipython3",
   "version": "3.9.9"
  }
 },
 "nbformat": 4,
 "nbformat_minor": 5
}

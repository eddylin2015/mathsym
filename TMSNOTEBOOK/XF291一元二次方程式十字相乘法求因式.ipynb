{
 "cells": [
  {
   "cell_type": "markdown",
   "id": "chronic-seminar",
   "metadata": {},
   "source": [
    "# 電腦數學符號運算"
   ]
  },
  {
   "cell_type": "markdown",
   "id": "developmental-parking",
   "metadata": {},
   "source": [
    "### 第3節. 十字相乘法因式分解實作\n",
    "安裝 Python 3.8.7\n",
    "- pip install numpy\n",
    "- pip install sympy\n",
    "- pip install jupyterlab\n",
    "- lib.py 自定義函數庫"
   ]
  },
  {
   "cell_type": "code",
   "execution_count": 3,
   "id": "handed-examination",
   "metadata": {},
   "outputs": [
    {
     "data": {
      "text/markdown": [
       "號|題|值|答|檢查|題型|提示\n",
       "--|--|--|--|--|--|--\n",
       "0|$$1 x^{2} + x \\left(-1\\right) - 12$$|(x - 4)*(x + 3)||0|-1|\n",
       "1|$$1 x^{2} + x \\left(-5\\right) + 6$$|(x - 3)*(x - 2)||0|-1|\n",
       "2|$$1 x^{2} + 3 x + 2$$|(x + 1)*(x + 2)||0|-1|\n",
       "3|$$1 x^{2} + x \\left(-9\\right) + 20$$|(x - 5)*(x - 4)||0|-1|\n",
       "4|$$1 x^{2} + 1 x - 20$$|(x - 4)*(x + 5)||0|-1|\n",
       "5|$$1 x^{2} + 0 x - 4$$|(x - 2)*(x + 2)||0|-1|\n",
       "6|$$1 x^{2} + 2 x - 3$$|(x - 1)*(x + 3)||0|-1|\n",
       "7|$$1 x^{2} + x \\left(-7\\right) + 12$$|(x - 4)*(x - 3)||0|-1|\n",
       "8|$$1 x^{2} + 3 x - 10$$|(x - 2)*(x + 5)||0|-1|\n",
       "9|$$1 x^{2} + x \\left(-6\\right) + 8$$|(x - 4)*(x - 2)||0|-1|"
      ],
      "text/plain": [
       "<IPython.core.display.Markdown object>"
      ]
     },
     "metadata": {},
     "output_type": "display_data"
    }
   ],
   "source": [
    "import random                                     #亂數 \n",
    "import math                                       #math 內置數學函數\n",
    "import numpy as np                                #數字矩陣\n",
    "import sympy as sp                                #sympy 簡易別名 sp    \n",
    "from sympy.parsing.sympy_parser import parse_expr #文字字串, 解釋成, Sympy 運算式\n",
    "from sympy.plotting import plot                   #繪圖表\n",
    "from IPython.display import Math,Latex,HTML,Markdown                 #網頁顯示數學符號\n",
    "import re\n",
    "import lib\n",
    "from lib import GetTE\n",
    "sp.init_printing(\"mathjax\")                       #sp.init_printing()  168 \n",
    "\"\"\"\n",
    "十字相乘法因式分解factor   x**2 + b*x + c\n",
    "\"\"\"\n",
    "def Get_PF291_Expr(QizAmt):\n",
    "    sample_list0= list(range(-39,29))   # [-5,-4,-3,-2,-1,1,2,3,4,5]\n",
    "    sample_list1= list(range(-39,29))\n",
    "    sample_list1.remove(0)    # 非零數列\n",
    "    NTE=[]\n",
    "    for i in range(0,QizAmt):\n",
    "        a = 1 \n",
    "        p=random.choice([-5,-4,-3,-2,-1,1,2,3,4,5])\n",
    "        q=random.choice([-5,-4,-3,-2,-1,1,2,3,4,5])\n",
    "        b=p+q\n",
    "        c=p*q\n",
    "        express_str=f\"{a}*x**2 + {b}*x +  {c} \"  \n",
    "        St=parse_expr(express_str, evaluate=False)     #字串解釋為可運算式子 expression\n",
    "        Val=sp.factor(St)                              #因式分解,得出標準答案\n",
    "        TE=GetTE(len(NTE),sp.latex(St),Val )    \n",
    "        NTE.append(TE)    \n",
    "    return NTE\n",
    "\n",
    "NTE=Get_PF291_Expr(10)\n",
    "display(Markdown(lib.NTE2TBL(NTE))) \n"
   ]
  },
  {
   "cell_type": "code",
   "execution_count": 2,
   "id": "graduate-multiple",
   "metadata": {},
   "outputs": [
    {
     "name": "stdout",
     "output_type": "stream",
     "text": [
      "第0題:\n"
     ]
    },
    {
     "data": {
      "text/latex": [
       " $$ 1 x^{2} + 10 x + 25 $$ "
      ],
      "text/plain": [
       "<IPython.core.display.Latex object>"
      ]
     },
     "metadata": {},
     "output_type": "display_data"
    },
    {
     "name": "stdin",
     "output_type": "stream",
     "text": [
      "請作答: 0\n"
     ]
    },
    {
     "data": {
      "text/latex": [
       "答案錯誤, 標準答案: $ (x + 5)**2 $"
      ],
      "text/plain": [
       "<IPython.core.display.Latex object>"
      ]
     },
     "metadata": {},
     "output_type": "display_data"
    },
    {
     "name": "stdout",
     "output_type": "stream",
     "text": [
      "第1題:\n"
     ]
    },
    {
     "data": {
      "text/latex": [
       " $$ 1 x^{2} + 3 x - 10 $$ "
      ],
      "text/plain": [
       "<IPython.core.display.Latex object>"
      ]
     },
     "metadata": {},
     "output_type": "display_data"
    },
    {
     "name": "stdin",
     "output_type": "stream",
     "text": [
      "請作答: 0\n"
     ]
    },
    {
     "data": {
      "text/latex": [
       "答案錯誤, 標準答案: $ (x - 2)*(x + 5) $"
      ],
      "text/plain": [
       "<IPython.core.display.Latex object>"
      ]
     },
     "metadata": {},
     "output_type": "display_data"
    },
    {
     "name": "stdout",
     "output_type": "stream",
     "text": [
      "第2題:\n"
     ]
    },
    {
     "data": {
      "text/latex": [
       " $$ 1 x^{2} + x \\left(-1\\right) - 20 $$ "
      ],
      "text/plain": [
       "<IPython.core.display.Latex object>"
      ]
     },
     "metadata": {},
     "output_type": "display_data"
    },
    {
     "name": "stdin",
     "output_type": "stream",
     "text": [
      "請作答: \n"
     ]
    },
    {
     "data": {
      "text/latex": [
       "答案錯誤, 標準答案: $ (x - 5)*(x + 4) $"
      ],
      "text/plain": [
       "<IPython.core.display.Latex object>"
      ]
     },
     "metadata": {},
     "output_type": "display_data"
    },
    {
     "name": "stdout",
     "output_type": "stream",
     "text": [
      "第3題:\n"
     ]
    },
    {
     "data": {
      "text/latex": [
       " $$ 1 x^{2} + 6 x + 8 $$ "
      ],
      "text/plain": [
       "<IPython.core.display.Latex object>"
      ]
     },
     "metadata": {},
     "output_type": "display_data"
    },
    {
     "name": "stdin",
     "output_type": "stream",
     "text": [
      "請作答: 0\n"
     ]
    },
    {
     "data": {
      "text/latex": [
       "答案錯誤, 標準答案: $ (x + 2)*(x + 4) $"
      ],
      "text/plain": [
       "<IPython.core.display.Latex object>"
      ]
     },
     "metadata": {},
     "output_type": "display_data"
    },
    {
     "data": {
      "text/markdown": [
       "號|題|值|答|檢查|題型|提示\n",
       "--|--|--|--|--|--|--\n",
       "0|$$1 x^{2} + 10 x + 25$$|(x + 5)**2|0|0|-1|\n",
       "1|$$1 x^{2} + 3 x - 10$$|(x - 2)*(x + 5)|0|0|-1|\n",
       "2|$$1 x^{2} + x \\left(-1\\right) - 20$$|(x - 5)*(x + 4)|-3.1415926|0|-1|\n",
       "3|$$1 x^{2} + 6 x + 8$$|(x + 2)*(x + 4)|0|0|-1|"
      ],
      "text/plain": [
       "<IPython.core.display.Markdown object>"
      ]
     },
     "metadata": {},
     "output_type": "display_data"
    }
   ],
   "source": [
    "\"\"\"\n",
    "十字相乘法因式分解factor   x**2 + b*x + c\n",
    "\"\"\"\n",
    "x,y,z=sp.symbols('x,y,z')\n",
    "NTE=Get_PF291_Expr(4)\n",
    "for i,TE in enumerate(NTE):\n",
    "    St=TE[\"St\"]\n",
    "    Val=TE[\"Val\"]\n",
    "    print(f\"第{i}題:\")        \n",
    "    display(Latex(f\" $$ {St} $$ \" ))\n",
    "    ans=lib.Text2St(input(\"請作答:\")  )\n",
    "    TE[\"Ans\"]=ans\n",
    "    if parse_expr(ans).subs({x:7})==Val.subs({x:7}):                   #比對答案:\n",
    "        print(\"答對!\")                              #答對加一分\n",
    "        TE[\"OK\"]=1\n",
    "    else:                                      #不則\n",
    "        TE[\"OK\"]=0\n",
    "        display(Latex(f\"答案錯誤, 標準答案: $ {Val} $\"))\n",
    "        \n",
    "display(Markdown(lib.NTE2TBL(NTE)))\n"
   ]
  },
  {
   "cell_type": "code",
   "execution_count": null,
   "id": "finished-heading",
   "metadata": {},
   "outputs": [],
   "source": []
  },
  {
   "cell_type": "code",
   "execution_count": null,
   "id": "industrial-extra",
   "metadata": {},
   "outputs": [],
   "source": []
  },
  {
   "cell_type": "code",
   "execution_count": null,
   "id": "published-wales",
   "metadata": {},
   "outputs": [],
   "source": []
  },
  {
   "cell_type": "code",
   "execution_count": null,
   "id": "american-french",
   "metadata": {},
   "outputs": [],
   "source": []
  },
  {
   "cell_type": "code",
   "execution_count": null,
   "id": "sharp-provider",
   "metadata": {},
   "outputs": [],
   "source": []
  },
  {
   "cell_type": "code",
   "execution_count": null,
   "id": "encouraging-packaging",
   "metadata": {},
   "outputs": [],
   "source": []
  },
  {
   "cell_type": "code",
   "execution_count": null,
   "id": "optimum-deployment",
   "metadata": {},
   "outputs": [],
   "source": []
  },
  {
   "cell_type": "code",
   "execution_count": 8,
   "id": "bright-singing",
   "metadata": {},
   "outputs": [
    {
     "ename": "SyntaxError",
     "evalue": "invalid syntax (<ipython-input-8-b6d51e3909c9>, line 6)",
     "output_type": "error",
     "traceback": [
      "\u001b[1;36m  File \u001b[1;32m\"<ipython-input-8-b6d51e3909c9>\"\u001b[1;36m, line \u001b[1;32m6\u001b[0m\n\u001b[1;33m    pprint( (sqrt(x),use_unicode=True)\u001b[0m\n\u001b[1;37m                                ^\u001b[0m\n\u001b[1;31mSyntaxError\u001b[0m\u001b[1;31m:\u001b[0m invalid syntax\n"
     ]
    }
   ],
   "source": [
    "from sympy import *\n",
    "x, y, z, t = symbols('x y z t',real=True)\n",
    "k, m, n = symbols('k m n', integer=True)\n",
    "f, g, h = symbols('f g h', cls=Function)\n",
    "init_printing()\n",
    "pprint( (sqrt(x),use_unicode=True)"
   ]
  },
  {
   "cell_type": "code",
   "execution_count": 2,
   "id": "contrary-today",
   "metadata": {},
   "outputs": [
    {
     "data": {
      "text/latex": [
       "$\\displaystyle  \\frac{a}{b} $"
      ],
      "text/plain": [
       "<IPython.core.display.Math object>"
      ]
     },
     "metadata": {},
     "output_type": "display_data"
    },
    {
     "data": {
      "text/latex": [
       "$\\displaystyle  a^{b}     $"
      ],
      "text/plain": [
       "<IPython.core.display.Math object>"
      ]
     },
     "metadata": {},
     "output_type": "display_data"
    },
    {
     "data": {
      "text/latex": [
       "$\\displaystyle  \\log_{b}{a} $"
      ],
      "text/plain": [
       "<IPython.core.display.Math object>"
      ]
     },
     "metadata": {},
     "output_type": "display_data"
    },
    {
     "data": {
      "text/latex": [
       "$\\displaystyle  \\sqrt[]{x+y}  $"
      ],
      "text/plain": [
       "<IPython.core.display.Math object>"
      ]
     },
     "metadata": {},
     "output_type": "display_data"
    },
    {
     "data": {
      "text/latex": [
       "$\\displaystyle  x=\\frac{-b\\pm\\sqrt{b^2-4ac}}{2a}  $"
      ],
      "text/plain": [
       "<IPython.core.display.Math object>"
      ]
     },
     "metadata": {},
     "output_type": "display_data"
    }
   ],
   "source": [
    "from IPython.display import display, Math, Latex\n",
    "display(Math(r' \\frac{a}{b} '))\n",
    "display(Math(r' a^{b}     '))\n",
    "display(Math(r' \\log_{b}{a} '))\n",
    "display(Math(r' \\sqrt[]{x+y}  '))\n",
    "display(Math(r' x=\\frac{-b\\pm\\sqrt{b^2-4ac}}{2a}  '))"
   ]
  },
  {
   "cell_type": "code",
   "execution_count": null,
   "id": "civic-customs",
   "metadata": {},
   "outputs": [],
   "source": []
  },
  {
   "cell_type": "code",
   "execution_count": null,
   "id": "essential-prison",
   "metadata": {},
   "outputs": [],
   "source": []
  },
  {
   "cell_type": "code",
   "execution_count": null,
   "id": "sonic-hunger",
   "metadata": {},
   "outputs": [],
   "source": []
  },
  {
   "cell_type": "code",
   "execution_count": null,
   "id": "stuffed-corruption",
   "metadata": {},
   "outputs": [],
   "source": []
  },
  {
   "cell_type": "code",
   "execution_count": null,
   "id": "wrong-candy",
   "metadata": {},
   "outputs": [],
   "source": []
  },
  {
   "cell_type": "code",
   "execution_count": null,
   "id": "earned-fisher",
   "metadata": {},
   "outputs": [],
   "source": []
  },
  {
   "cell_type": "code",
   "execution_count": null,
   "id": "charming-marine",
   "metadata": {},
   "outputs": [],
   "source": []
  },
  {
   "cell_type": "code",
   "execution_count": null,
   "id": "efficient-sellers",
   "metadata": {},
   "outputs": [],
   "source": []
  },
  {
   "cell_type": "code",
   "execution_count": null,
   "id": "numerical-lecture",
   "metadata": {},
   "outputs": [],
   "source": []
  },
  {
   "cell_type": "code",
   "execution_count": null,
   "id": "satellite-sector",
   "metadata": {},
   "outputs": [],
   "source": []
  },
  {
   "cell_type": "code",
   "execution_count": null,
   "id": "major-zealand",
   "metadata": {},
   "outputs": [],
   "source": []
  },
  {
   "cell_type": "code",
   "execution_count": null,
   "id": "derived-shooting",
   "metadata": {},
   "outputs": [],
   "source": []
  },
  {
   "cell_type": "code",
   "execution_count": 4,
   "id": "defensive-scroll",
   "metadata": {},
   "outputs": [
    {
     "name": "stdout",
     "output_type": "stream",
     "text": [
      "end\n"
     ]
    },
    {
     "data": {
      "text/plain": [
       "'(-2*x+1)*(x-5)'"
      ]
     },
     "execution_count": 4,
     "metadata": {},
     "output_type": "execute_result"
    }
   ],
   "source": [
    "print(\"end\")\n",
    "import re\n",
    "ans=\"(-2x+1)(x-5)\"\n",
    "ans = re.sub(r\"[)][(]\", r\")*(\", re.sub(r\"(\\d)x\", r\"\\1*x\", ans))\n",
    "ans"
   ]
  },
  {
   "cell_type": "code",
   "execution_count": 26,
   "id": "premier-absorption",
   "metadata": {},
   "outputs": [
    {
     "data": {
      "image/png": "[encoded data removed]",
      "text/latex": [
       "$\\displaystyle 2 B^{2} + C \\left(- A - B\\right) + C \\left(A - B\\right)$"
      ],
      "text/plain": [
       "   2                         \n",
       "2⋅B  + C⋅(-A - B) + C⋅(A - B)"
      ]
     },
     "execution_count": 26,
     "metadata": {},
     "output_type": "execute_result"
    }
   ],
   "source": [
    "from sympy import *\n",
    "A,B,C=symbols('A,B,C',integer=True)\n",
    "f = (A-B)*C + B**2 + (-B-A)*C + B**2\n",
    "f"
   ]
  },
  {
   "cell_type": "code",
   "execution_count": 12,
   "id": "conventional-density",
   "metadata": {},
   "outputs": [
    {
     "data": {
      "image/png": "[encoded data removed]",
      "text/latex": [
       "$\\displaystyle 2 B \\left(B - C\\right)$"
      ],
      "text/plain": [
       "2⋅B⋅(B - C)"
      ]
     },
     "execution_count": 12,
     "metadata": {},
     "output_type": "execute_result"
    }
   ],
   "source": [
    "simplify(f) #約簡式子"
   ]
  },
  {
   "cell_type": "code",
   "execution_count": 13,
   "id": "varying-waters",
   "metadata": {
    "scrolled": true
   },
   "outputs": [
    {
     "data": {
      "image/png": "[encoded data removed]",
      "text/latex": [
       "$\\displaystyle 2 B^{2} - 2 B C$"
      ],
      "text/plain": [
       "   2        \n",
       "2⋅B  - 2⋅B⋅C"
      ]
     },
     "execution_count": 13,
     "metadata": {},
     "output_type": "execute_result"
    }
   ],
   "source": [
    "ratsimp(f) #給出一個約簡2項式"
   ]
  },
  {
   "cell_type": "code",
   "execution_count": 23,
   "id": "quick-differential",
   "metadata": {},
   "outputs": [
    {
     "data": {
      "image/png": "[encoded data removed]",
      "text/latex": [
       "$\\displaystyle -400$"
      ],
      "text/plain": [
       "-400"
      ]
     },
     "execution_count": 23,
     "metadata": {},
     "output_type": "execute_result"
    }
   ],
   "source": [
    "f.subs([(A, 10), (B, 20), (C, 30)])"
   ]
  },
  {
   "cell_type": "code",
   "execution_count": 40,
   "id": "moving-delicious",
   "metadata": {},
   "outputs": [
    {
     "data": {
      "image/png": "[encoded data removed]",
      "text/latex": [
       "$\\displaystyle -400$"
      ],
      "text/plain": [
       "-400"
      ]
     },
     "execution_count": 40,
     "metadata": {},
     "output_type": "execute_result"
    }
   ],
   "source": [
    "f.xreplace({A: 10, B: 20, C: 30})"
   ]
  },
  {
   "cell_type": "code",
   "execution_count": 25,
   "id": "alive-genome",
   "metadata": {},
   "outputs": [
    {
     "data": {
      "image/png": "[encoded data removed]",
      "text/latex": [
       "$\\displaystyle 2 B^{2} + C \\left(10 - B\\right) + C \\left(- B - 10\\right)$"
      ],
      "text/plain": [
       "   2                           \n",
       "2⋅B  + C⋅(10 - B) + C⋅(-B - 10)"
      ]
     },
     "execution_count": 25,
     "metadata": {},
     "output_type": "execute_result"
    }
   ],
   "source": [
    "f.subs(A, 10)"
   ]
  },
  {
   "cell_type": "code",
   "execution_count": 27,
   "id": "municipal-thomson",
   "metadata": {},
   "outputs": [
    {
     "data": {
      "image/png": "[encoded data removed]",
      "text/latex": [
       "$\\displaystyle 2 B \\left(B - C\\right)$"
      ],
      "text/plain": [
       "2⋅B⋅(B - C)"
      ]
     },
     "execution_count": 27,
     "metadata": {},
     "output_type": "execute_result"
    }
   ],
   "source": [
    "factor(f)"
   ]
  },
  {
   "cell_type": "code",
   "execution_count": 34,
   "id": "buried-frederick",
   "metadata": {},
   "outputs": [
    {
     "data": {
      "image/png": "[encoded data removed]",
      "text/latex": [
       "$\\displaystyle \\frac{3}{2} + \\frac{4}{x - 4} + \\frac{1}{x}$"
      ],
      "text/plain": [
       "3     4     1\n",
       "─ + ───── + ─\n",
       "2   x - 4   x"
      ]
     },
     "execution_count": 34,
     "metadata": {},
     "output_type": "execute_result"
    }
   ],
   "source": [
    "from sympy import * \n",
    "x, y, z = symbols('x y z')\n",
    "gfg_exp = 1 / x + (3 * x / 2 - 2)/(x - 4)\n",
    "apart(gfg_exp)"
   ]
  },
  {
   "cell_type": "code",
   "execution_count": 19,
   "id": "interracial-buffalo",
   "metadata": {},
   "outputs": [
    {
     "data": {
      "image/png": "[encoded data removed]",
      "text/plain": [
       "<Figure size 432x288 with 1 Axes>"
      ]
     },
     "metadata": {
      "needs_background": "light"
     },
     "output_type": "display_data"
    },
    {
     "data": {
      "text/plain": [
       "<sympy.plotting.plot.Plot at 0x1441e5d7550>"
      ]
     },
     "execution_count": 19,
     "metadata": {},
     "output_type": "execute_result"
    }
   ],
   "source": [
    "from sympy.plotting import plot\n",
    "y = -(x+2)*(x+1)*(x-1)\n",
    "plot(y, (x, -4, 4))"
   ]
  },
  {
   "cell_type": "code",
   "execution_count": 61,
   "id": "breathing-maple",
   "metadata": {},
   "outputs": [
    {
     "data": {
      "image/png": "[encoded data removed]",
      "text/plain": [
       "<Figure size 432x288 with 1 Axes>"
      ]
     },
     "metadata": {
      "needs_background": "light"
     },
     "output_type": "display_data"
    }
   ],
   "source": [
    "import sympy as sp\n",
    "from sympy.geometry import Point, Triangle, Segment\n",
    "import matplotlib.pyplot as plt\n",
    "from matplotlib.figure import Figure\n",
    "\n",
    "t = Triangle(sss=(3, 4 , 5)) #53\n",
    "Ang = 53\n",
    "\n",
    "plt.close('all')\n",
    "fig = plt.figure()\n",
    "ax = fig.add_subplot(1, 1, 1)\n",
    "ax.set_aspect('equal')\n",
    "ax.set_axis_off() \n",
    "ax.add_patch(plt.Polygon(t.vertices, fill=False))\n",
    "ax.plot(*zip(*t.vertices), 'o')\n",
    "\n",
    "B, C, A = t.vertices         #頂点\n",
    "AB, BC, CA = Segment(A, B), Segment(B, C), Segment(C, A) \n",
    "a, b, c = BC.length, CA.length, AB.length \n",
    "#角標誌\n",
    "ax.text(*B, r'B', ha='right', va='top')\n",
    "ax.text(*C, r'C', ha='left', va='top')\n",
    "ax.text(*A, r'A', ha='left', va='bottom')\n",
    "#直角\n",
    "squar_side_len=0.1\n",
    "c1=Point(C[0],C[1]+squar_side_len)\n",
    "c2=Point(C[0]-squar_side_len,C[1]+squar_side_len)\n",
    "c3=Point(C[0]-squar_side_len,C[1])\n",
    "ax.add_patch(plt.Polygon([C,c1,c2,c3], fill=False))\n",
    "#邊中點,標誌 a,b,c\n",
    "ax.text(*BC.midpoint, r'a', ha='right', va='top')\n",
    "ax.text(*CA.midpoint, r'b', ha='left', va='top')\n",
    "ax.text(*AB.midpoint, r'c', ha='left', va='bottom')    \n",
    "#角度53\n",
    "d=np.arange(start=0,stop=Ang,step=1)\n",
    "rad=np.deg2rad(d)\n",
    "r=0.2\n",
    "xc = r*np.cos(rad)\n",
    "yc = r*np.sin(rad)\n",
    "plt.plot(xc,yc,color=[20/255,20/255,20/255],linestyle='-')   \n",
    "ax.text(B[0]+0.24,B[1]+0.04,f'${Ang}^o$')\n",
    "plt.show()"
   ]
  },
  {
   "cell_type": "code",
   "execution_count": 52,
   "id": "initial-closing",
   "metadata": {},
   "outputs": [
    {
     "data": {
      "image/png": "[encoded data removed]",
      "text/plain": [
       "<Figure size 432x288 with 1 Axes>"
      ]
     },
     "metadata": {
      "needs_background": "light"
     },
     "output_type": "display_data"
    }
   ],
   "source": [
    "# Perquisites\n",
    "import sympy as sp\n",
    "from sympy.geometry import Point, Circle, Triangle, Segment, Line, RegularPolygon\n",
    "import matplotlib.pyplot as plt\n",
    "from matplotlib.figure import Figure\n",
    "t = Triangle(sss=(3, 4 , 5)) #53\n",
    "Ang=53\n",
    "B, C, A = t.vertices #頂点\n",
    "AB, BC, CA = Segment(A, B), Segment(B, C), Segment(C, A) \n",
    "a, b, c = BC.length, CA.length, AB.length \n",
    "opposides = { A: BC, B: CA,  C: AB  } \n",
    "plt.close('all')\n",
    "fig = plt.figure()\n",
    "ax = fig.add_subplot(1, 1, 1)\n",
    "ax.set_aspect('equal')\n",
    "ax.set_axis_off() \n",
    "ax.add_patch(plt.Polygon(t.vertices, fill=False))\n",
    "ax.plot(*zip(*t.vertices), 'o')\n",
    "ax.text(*B, r'$  \\mathrm{B}$', ha='right', va='top')\n",
    "ax.text(*C, r'$  \\mathrm{C}$', ha='left', va='top')\n",
    "ax.text(*A, r'$  \\mathrm{A}$', ha='left', va='bottom')\n",
    "squar_side_len=0.1\n",
    "c1=Point(C[0],C[1]+squar_side_len)\n",
    "c2=Point(C[0]-squar_side_len,C[1]+squar_side_len)\n",
    "c3=Point(C[0]-squar_side_len,C[1])\n",
    "ax.add_patch(plt.Polygon([C,c1,c2,c3], fill=False))\n",
    "ax.text(*BC.midpoint, r'$\\mathrm{a } $', ha='right', va='top')\n",
    "ax.text(*CA.midpoint, r'$\\mathrm{b } $', ha='left', va='top')\n",
    "ax.text(*AB.midpoint, r'$\\mathrm{c } $', ha='left', va='bottom')    \n",
    "d=np.arange(start=0,stop=Ang,step=1)\n",
    "rad=np.deg2rad(d)\n",
    "r=0.2\n",
    "xc = r*np.cos(rad)\n",
    "yc = r*np.sin(rad)\n",
    "plt.plot(xc,yc,color=[20/255,20/255,20/255],linestyle='-')   \n",
    "ax.text(B[0]+0.24,B[1]+0.04,f'${Ang}^o$')\n",
    "plt.show()\n",
    "\n"
   ]
  },
  {
   "cell_type": "code",
   "execution_count": null,
   "id": "pregnant-academy",
   "metadata": {},
   "outputs": [],
   "source": []
  },
  {
   "cell_type": "code",
   "execution_count": null,
   "id": "adjacent-apartment",
   "metadata": {},
   "outputs": [],
   "source": []
  },
  {
   "cell_type": "code",
   "execution_count": null,
   "id": "clear-commodity",
   "metadata": {},
   "outputs": [],
   "source": []
  }
 ],
 "metadata": {
  "kernelspec": {
   "display_name": "Python 3",
   "language": "python",
   "name": "python3"
  },
  "language_info": {
   "codemirror_mode": {
    "name": "ipython",
    "version": 3
   },
   "file_extension": ".py",
   "mimetype": "text/x-python",
   "name": "python",
   "nbconvert_exporter": "python",
   "pygments_lexer": "ipython3",
   "version": "3.9.9"
  }
 },
 "nbformat": 4,
 "nbformat_minor": 5
}

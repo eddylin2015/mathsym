{
 "cells": [
  {
   "cell_type": "markdown",
   "id": "thermal-project",
   "metadata": {},
   "source": [
    "# 高三 餘式定理 Remainder theorem\n",
    "定理一: 設f(x)為x有理整式, 以 x-a 除, 則其所得之剩餘等於以a 代換所得之值f(a).   \n",
    "f(x)=Q(x)(x-a)+R  \n",
    "x-a = 0  \n",
    "x = a  \n",
    "f(a) = R  \n",
    "\n",
    "f1 = 3 * x**2 - 5 * x + 7   \n",
    "f2 = ( x - 1 ) * ( x + 1 )  \n",
    "\n",
    "設 x= 1 時, 則 5  = a *  1 + b  (1)  \n",
    "設 x=-1 時, 則 15 = a * -1 + b  (2)  \n",
    "(1)+(2)  b = 10, a = -5    \n",
    "餘: -5 * x + 10   \n",
    "\n",
    "例子:\n",
    "1. x3+2x2-4x+1  x+1 , |ai|<=6,|a|<=3,|b|<=8       \n",
    "2. 2x4-x3+3x2-8x+4 2x+1 , |ai|<=6,|a|<=3,|b|<=8      \n",
    "3. x3+2x2-4x+1 (x+2)(x-3), |ai|<=6,|a|<=6,|b|<=6        \n",
    "4. 2x4+3x3-2x2-4x+1 (2x+3)(x-3), |ai|<=6,|a|<=3,|b|<=6,|c|<=3,|d|<=6   "
   ]
  },
  {
   "cell_type": "markdown",
   "id": "motivated-creator",
   "metadata": {},
   "source": [
    "## 餘式"
   ]
  },
  {
   "cell_type": "code",
   "execution_count": 8,
   "id": "noted-bottle",
   "metadata": {},
   "outputs": [
    {
     "data": {
      "text/latex": [
       "求多項式 $ 3 x^{2} - 5 x + 7 $ 除以 $ \\left(x - 1\\right) \\left(x + 1\\right) $ 之餘式"
      ],
      "text/plain": [
       "<IPython.core.display.Latex object>"
      ]
     },
     "metadata": {},
     "output_type": "display_data"
    },
    {
     "data": {
      "image/png": "[encoded data removed]",
      "text/latex": [
       "$\\displaystyle \\left( 3, \\  10 - 5 x\\right)$"
      ],
      "text/plain": [
       "(3, 10 - 5⋅x)"
      ]
     },
     "metadata": {},
     "output_type": "display_data"
    },
    {
     "data": {
      "image/png": "[encoded data removed]",
      "text/latex": [
       "$\\displaystyle 10 - 5 x$"
      ],
      "text/plain": [
       "10 - 5⋅x"
      ]
     },
     "metadata": {},
     "output_type": "display_data"
    }
   ],
   "source": [
    "import sympy as sp\n",
    "sp.init_printing(\"mathjax\")                       #\n",
    "from sympy import div,pdiv,rem,ZZ,QQ \n",
    "from IPython.display import Latex,HTML,Markdown    \n",
    "from sympy.parsing.sympy_parser import parse_expr #文字字串, 解釋成, Sympy 運算式\n",
    "## domain=QQ 有理數 //ZZ integer\n",
    "x=sp.Symbol('x')\n",
    "\n",
    "f1=3* x**2-5*x+7\n",
    "\n",
    "f2=(x-1)*(x+1)\n",
    "\n",
    "display(Latex( r\"求多項式 $ %s $ 除以 $ %s $ 之餘式\" %(sp.latex(f1),sp.latex(f2)) ))\n",
    "\n",
    "display( sp.div(f1,f2,domain=sp.QQ) ) \n",
    "display( sp.rem(f1,f2,domain=sp.QQ) ) \n"
   ]
  },
  {
   "cell_type": "code",
   "execution_count": 22,
   "id": "fourth-paintball",
   "metadata": {},
   "outputs": [
    {
     "name": "stdout",
     "output_type": "stream",
     "text": [
      "\n",
      "解釋 餘式定理 ,求解過程\n",
      "f(x)=Q(x)(x-a)+R\n",
      "x-a = 0  \n",
      "x = a  \n",
      "f(a) = R\n"
     ]
    },
    {
     "data": {
      "text/latex": [
       "求多項式 $ 2 x^{4} + 3 x^{3} - 2 x^{2} - 4 x + 1 $ 除以 $ \\left(x - 3\\right) \\left(2 x + 3\\right) $ 之餘式"
      ],
      "text/plain": [
       "<IPython.core.display.Latex object>"
      ]
     },
     "metadata": {},
     "output_type": "display_data"
    },
    {
     "name": "stdout",
     "output_type": "stream",
     "text": [
      "When x=-3/2:\n"
     ]
    },
    {
     "data": {
      "image/png": "[encoded data removed]",
      "text/latex": [
       "$\\displaystyle - \\frac{3 a}{2} + b = \\frac{5}{2}$"
      ],
      "text/plain": [
       "  3⋅a          \n",
       "- ─── + b = 5/2\n",
       "   2           "
      ]
     },
     "metadata": {},
     "output_type": "display_data"
    },
    {
     "name": "stdout",
     "output_type": "stream",
     "text": [
      "When x=3:\n"
     ]
    },
    {
     "data": {
      "image/png": "[encoded data removed]",
      "text/latex": [
       "$\\displaystyle 3 a + b = 214$"
      ],
      "text/plain": [
       "3⋅a + b = 214"
      ]
     },
     "metadata": {},
     "output_type": "display_data"
    },
    {
     "name": "stdout",
     "output_type": "stream",
     "text": [
      "解a,b多項式\n"
     ]
    },
    {
     "data": {
      "image/png": "[encoded data removed]",
      "text/latex": [
       "$\\displaystyle \\left\\{ a : 47, \\  b : 73\\right\\}$"
      ],
      "text/plain": [
       "{a: 47, b: 73}"
      ]
     },
     "metadata": {},
     "output_type": "display_data"
    },
    {
     "data": {
      "image/png": "[encoded data removed]",
      "text/latex": [
       "$\\displaystyle \\left( x^{2} + 3 x + 8, \\  47 x + 73\\right)$"
      ],
      "text/plain": [
       "⎛ 2                     ⎞\n",
       "⎝x  + 3⋅x + 8, 47⋅x + 73⎠"
      ]
     },
     "metadata": {},
     "output_type": "display_data"
    },
    {
     "data": {
      "image/png": "[encoded data removed]",
      "text/latex": [
       "$\\displaystyle 47 x + 73$"
      ],
      "text/plain": [
       "47⋅x + 73"
      ]
     },
     "metadata": {},
     "output_type": "display_data"
    }
   ],
   "source": [
    "print(\"\"\"\n",
    "解釋 餘式定理 ,求解過程\n",
    "f(x)=Q(x)(x-a)+R\n",
    "x-a = 0  \n",
    "x = a  \n",
    "f(a) = R\"\"\")\n",
    "\n",
    "x,a,b=sp.symbols('x,a,b')\n",
    "f1=2* x**4 +3*x**3-2*x**2-4*x+1\n",
    "f2=(2*x+3)*(x-3)\n",
    "display(Latex( r\"求多項式 $ %s $ 除以 $ %s $ 之餘式\" %(sp.latex(f1),sp.latex(f2)) ))\n",
    "s1=sp.solve(f2)\n",
    "print(f\"When x={s1[0]}:\") # R=  a * (-3/2) +  b = 5/2\n",
    "r1_=parse_expr(f\"{s1[0]}*a + b \")\n",
    "r1 =sp.Eq(r1_, f1.subs(x,s1[0]))\n",
    "display(r1)\n",
    "print(f\"When x={s1[1]}:\") # R=  a * 3  + b =  214\n",
    "r2_=parse_expr(f\"{s1[1]}*a + b \") \n",
    "r2= sp.Eq(r2_,f1.subs(x,s1[1]))\n",
    "display(r2)\n",
    "print(\"解a,b多項式\")\n",
    "display(sp.solve([r1, r2], [a, b]))\n",
    "display(div(f1,f2,domain=QQ)) ##rationals\n",
    "display(rem(f1,f2,domain=QQ)) ##rationals"
   ]
  },
  {
   "cell_type": "markdown",
   "id": "obvious-procurement",
   "metadata": {},
   "source": [
    "## 程式"
   ]
  },
  {
   "cell_type": "code",
   "execution_count": 5,
   "id": "statistical-accessory",
   "metadata": {},
   "outputs": [
    {
     "data": {
      "text/markdown": [
       "號|題|值|答|檢查|題型|提示\n",
       "--|--|--|--|--|--|--\n",
       "0|$$求多項式 $ 0 x^{4} + x^{3} \\left(-1\\right) + 2 x^{2} + 2 x - 2$  除以  $\\left(1 x + 1\\right) \\left(2 x + 4\\right)$  之餘式$$|-11*x - 12||0|-1||1\n",
       "1|$$求多項式 $ 1 x^{4} + 0 x^{3} + x^{2} \\left(-3\\right) + 4 x + 4$  除以  $\\left(2 + x \\left(-2\\right)\\right) \\left(4 + x \\left(-1\\right)\\right)$  之餘式$$|74*x - 68||0|-1||1\n",
       "2|$$求多項式 $ x^{4} \\left(-3\\right) + x^{3} \\left(-4\\right) + x^{2} \\left(-4\\right) + x \\left(-3\\right) + 1$  除以  $\\left(2 x - 1\\right) \\left(x \\left(-2\\right) - 2\\right)$  之餘式$$|-17*x/8 - 9/8||0|-1||1\n",
       "3|$$求多項式 $ x^{4} \\left(-2\\right) + 0 x^{3} + 1 x^{2} + 2 x + 1$  除以  $\\left(2 x - 1\\right) \\left(x \\left(-2\\right) - 1\\right)$  之餘式$$|2*x + 9/8||0|-1||1\n",
       "4|$$求多項式 $ 4 x^{4} + 2 x^{3} + x^{2} \\left(-3\\right) + 2 x + 0$  除以  $\\left(2 x + 4\\right) \\left(x \\left(-1\\right) + 0\\right)$  之餘式$$|-16*x||0|-1||1"
      ],
      "text/plain": [
       "<IPython.core.display.Markdown object>"
      ]
     },
     "metadata": {},
     "output_type": "display_data"
    }
   ],
   "source": [
    "import random                                     #亂數 \n",
    "import sympy as sp                                #sympy 簡易別名 sp    \n",
    "import numpy as np\n",
    "import lib\n",
    "from lib import GetTE\n",
    "from sympy.parsing.sympy_parser import parse_expr #文字字串, 解釋成, Sympy 運算式\n",
    "from sympy.solvers.inequalities import solve_univariate_inequality\n",
    "sp.init_printing(\"mathjax\")                       #sp.init_printing()  168 \n",
    "from IPython.display import Latex,HTML,Markdown                 #網頁顯示數學符號\n",
    "\"\"\"程式一\n",
    "一元一次不等式 ax + b >= c 求解\n",
    "\"\"\"\n",
    "def Put_PF601_Expr(TE):\n",
    "    x=sp.Symbol('x')\n",
    "    Val=TE[\"Val\"]\n",
    "    ans=lib.Text2St(TE[\"Ans\"])\n",
    "    if parse_expr(ans).subs({x:7})==Val.subs({x:7}):                   #比對答案:\n",
    "        TE[\"OK\"]=1\n",
    "    else:                                      #不則\n",
    "        TE[\"OK\"]=0\n",
    "    return TE[\"OK\"]==1\n",
    "\n",
    "def Get_PF601_Expr(QN,Tx=-1):\n",
    "    x=sp.symbols('x')\n",
    "    NTE=[]\n",
    "    for i in range(0,QN):\n",
    "        ai = np.random.choice(range(-6,7), 5)\n",
    "        a= random.choice(range(-3,4));\n",
    "        if a==0 : a=1\n",
    "        b= random.choice(range(-8,9));\n",
    "        c= random.choice(range(-3,4));\n",
    "        d= random.choice(range(-6,7));        \n",
    "        if Tx==0:\n",
    "            express_str=f\" {ai[0]}+{ai[1]}*x + {ai[2]}* x**2 +  {ai[3]}* x**3 \" # f(x)= ax + b > c\n",
    "            f1=parse_expr(express_str, evaluate=False) #字串解釋為可運算式子 expression \n",
    "            f2=parse_expr(f\"{a}*x+{b}\", evaluate=False) #字串解釋為可運算式子 expression \n",
    "            St=r\"求多項式 $ %s$  除以  $%s$  之餘式\" %(sp.latex(f1),sp.latex(f2))\n",
    "            Val=sp.rem(f1,f2,domain=sp.QQ)     #solve_univariate_inequality 解不等式   \n",
    "\n",
    "        elif Tx==1:\n",
    "            express_str=f\" {ai[0]}+{ai[1]}*x + {ai[2]}* x**2 +  {ai[3]}* x**3  +  {ai[4]}* x**4\" # f(x)= ax + b > c\n",
    "            f1=parse_expr(express_str, evaluate=False) #字串解釋為可運算式子 expression \n",
    "            f2=parse_expr(f\"{a}*x+{b}\", evaluate=False) #字串解釋為可運算式子 expression \n",
    "            St=r\"求多項式 $ %s$  除以  $%s$  之餘式\" %(sp.latex(f1),sp.latex(f2))\n",
    "            Val=sp.rem(f1,f2,domain=sp.QQ)     #solve_univariate_inequality 解不等式        elif Tx==3:\n",
    "            \n",
    "        elif Tx==2:\n",
    "            b= random.choice(range(-6,7));\n",
    "            express_str=f\" {ai[0]}+{ai[1]}*x + {ai[2]}* x**2 +  {ai[3]}* x**3 \" # f(x)= ax + b > c\n",
    "            f1=parse_expr(express_str, evaluate=False) #字串解釋為可運算式子 expression \n",
    "            f2=parse_expr(f\"(x+{a})*(x+{b})\", evaluate=False) #字串解釋為可運算式子 expression \n",
    "            St=r\"求多項式 $ %s$  除以  $%s$  之餘式\" %(sp.latex(f1),sp.latex(f2))\n",
    "            Val=sp.rem(f1,f2,domain=sp.QQ)     #solve_univariate_inequality 解不等式        else:\n",
    "            \n",
    "        else:\n",
    "            ai = np.random.choice(range(-4,5), 5)\n",
    "            a= random.choice(range(-2,3));\n",
    "            if a==0 : a=1\n",
    "            b= random.choice(range(-4,5));\n",
    "            c= random.choice(range(-2,3));\n",
    "            d= random.choice(range(-4,5));        \n",
    "            express_str=f\" {ai[0]}+{ai[1]}*x + {ai[2]}* x**2 +  {ai[3]}* x**3 +  {ai[4]}* x**4\" # f(x)= ax + b > c\n",
    "            f1=parse_expr(express_str, evaluate=False) #字串解釋為可運算式子 expression \n",
    "            f2=parse_expr(f\"({a}*x+{b})*({c}*x+{d})\", evaluate=False) #字串解釋為可運算式子 expression \n",
    "            St=r\"求多項式 $ %s$  除以  $%s$  之餘式\" %(sp.latex(f1),sp.latex(f2))\n",
    "            Val=sp.rem(f1,f2,domain=sp.QQ)     #solve_univariate_inequality 解不等式\n",
    "        #display(Latex(St))\n",
    "        #display(Val)\n",
    "            \n",
    "            \n",
    "        TE=GetTE(i,St,Val)    \n",
    "        TE[\"PlainText\"]=1\n",
    "        NTE.append(TE)    \n",
    "    return NTE\n",
    "\n",
    "if __name__ ==\"__main__\":\n",
    "    NTE=Get_PF601_Expr(5,4)\n",
    "    display(Markdown(lib.NTE2TBL(NTE)  ))"
   ]
  },
  {
   "cell_type": "code",
   "execution_count": 28,
   "id": "collect-camping",
   "metadata": {},
   "outputs": [
    {
     "name": "stdout",
     "output_type": "stream",
     "text": [
      "第0題:\n"
     ]
    },
    {
     "data": {
      "text/latex": [
       "求多項式 $ 4 x^{4} + 0 x^{3} + 2 x^{2} + 2 x + 2$  除以  $\\left(1 x - 3\\right) \\left(x \\left(-1\\right) - 1\\right)$  之餘式"
      ],
      "text/plain": [
       "<IPython.core.display.Latex object>"
      ]
     },
     "metadata": {},
     "output_type": "display_data"
    },
    {
     "data": {
      "text/latex": [
       "標準答案:  86*x + 92 "
      ],
      "text/plain": [
       "<IPython.core.display.Latex object>"
      ]
     },
     "metadata": {},
     "output_type": "display_data"
    },
    {
     "name": "stdin",
     "output_type": "stream",
     "text": [
      "請作答: 0\n"
     ]
    },
    {
     "data": {
      "text/latex": [
       "答案錯誤, 標準答案:  86*x + 92 "
      ],
      "text/plain": [
       "<IPython.core.display.Latex object>"
      ]
     },
     "metadata": {},
     "output_type": "display_data"
    },
    {
     "name": "stdout",
     "output_type": "stream",
     "text": [
      "第1題:\n"
     ]
    },
    {
     "data": {
      "text/latex": [
       "求多項式 $ x^{4} \\left(-3\\right) + x^{3} \\left(-1\\right) + 2 x^{2} + x \\left(-2\\right) - 3$  除以  $\\left(3 + x \\left(-2\\right)\\right) \\left(1 x + 1\\right)$  之餘式"
      ],
      "text/plain": [
       "<IPython.core.display.Latex object>"
      ]
     },
     "metadata": {},
     "output_type": "display_data"
    },
    {
     "data": {
      "text/latex": [
       "標準答案:  -61*x/8 - 69/8 "
      ],
      "text/plain": [
       "<IPython.core.display.Latex object>"
      ]
     },
     "metadata": {},
     "output_type": "display_data"
    },
    {
     "name": "stdin",
     "output_type": "stream",
     "text": [
      "請作答: 0\n"
     ]
    },
    {
     "data": {
      "text/latex": [
       "答案錯誤, 標準答案:  -61*x/8 - 69/8 "
      ],
      "text/plain": [
       "<IPython.core.display.Latex object>"
      ]
     },
     "metadata": {},
     "output_type": "display_data"
    },
    {
     "name": "stdout",
     "output_type": "stream",
     "text": [
      "第2題:\n"
     ]
    },
    {
     "data": {
      "text/latex": [
       "求多項式 $ x^{4} \\left(-2\\right) + 2 x^{3} + x^{2} \\left(-1\\right) + x \\left(-4\\right) - 4$  除以  $\\left(1 x + 2\\right) \\left(2 x - 4\\right)$  之餘式"
      ],
      "text/plain": [
       "<IPython.core.display.Latex object>"
      ]
     },
     "metadata": {},
     "output_type": "display_data"
    },
    {
     "data": {
      "text/latex": [
       "標準答案:  4*x - 40 "
      ],
      "text/plain": [
       "<IPython.core.display.Latex object>"
      ]
     },
     "metadata": {},
     "output_type": "display_data"
    },
    {
     "name": "stdin",
     "output_type": "stream",
     "text": [
      "請作答: 4*x-40\n"
     ]
    },
    {
     "name": "stdout",
     "output_type": "stream",
     "text": [
      "答對!\n",
      "第3題:\n"
     ]
    },
    {
     "data": {
      "text/latex": [
       "求多項式 $ x^{4} \\left(-1\\right) + x^{3} \\left(-2\\right) + 0 x^{2} + x \\left(-2\\right) - 1$  除以  $\\left(1 x - 3\\right) \\left(x \\left(-2\\right) - 1\\right)$  之餘式"
      ],
      "text/plain": [
       "<IPython.core.display.Latex object>"
      ]
     },
     "metadata": {},
     "output_type": "display_data"
    },
    {
     "data": {
      "text/latex": [
       "標準答案:  -325*x/8 - 161/8 "
      ],
      "text/plain": [
       "<IPython.core.display.Latex object>"
      ]
     },
     "metadata": {},
     "output_type": "display_data"
    },
    {
     "name": "stdin",
     "output_type": "stream",
     "text": [
      "請作答: 0\n"
     ]
    },
    {
     "data": {
      "text/latex": [
       "答案錯誤, 標準答案:  -325*x/8 - 161/8 "
      ],
      "text/plain": [
       "<IPython.core.display.Latex object>"
      ]
     },
     "metadata": {},
     "output_type": "display_data"
    },
    {
     "name": "stdout",
     "output_type": "stream",
     "text": [
      "第4題:\n"
     ]
    },
    {
     "data": {
      "text/latex": [
       "求多項式 $ 1 x^{4} + 4 x^{3} + x^{2} \\left(-3\\right) + 2 x + 0$  除以  $\\left(1 x - 3\\right) \\left(2 x - 2\\right)$  之餘式"
      ],
      "text/plain": [
       "<IPython.core.display.Latex object>"
      ]
     },
     "metadata": {},
     "output_type": "display_data"
    },
    {
     "data": {
      "text/latex": [
       "標準答案:  82*x - 78 "
      ],
      "text/plain": [
       "<IPython.core.display.Latex object>"
      ]
     },
     "metadata": {},
     "output_type": "display_data"
    },
    {
     "name": "stdin",
     "output_type": "stream",
     "text": [
      "請作答: 82*x-78\n"
     ]
    },
    {
     "name": "stdout",
     "output_type": "stream",
     "text": [
      "答對!\n"
     ]
    },
    {
     "data": {
      "text/markdown": [
       "號|題|值|答|檢查|題型|提示\n",
       "--|--|--|--|--|--|--\n",
       "0|$$求多項式 $ 4 x^{4} + 0 x^{3} + 2 x^{2} + 2 x + 2$  除以  $\\left(1 x - 3\\right) \\left(x \\left(-1\\right) - 1\\right)$  之餘式$$|86*x + 92|0|0|-1||1\n",
       "1|$$求多項式 $ x^{4} \\left(-3\\right) + x^{3} \\left(-1\\right) + 2 x^{2} + x \\left(-2\\right) - 3$  除以  $\\left(3 + x \\left(-2\\right)\\right) \\left(1 x + 1\\right)$  之餘式$$|-61*x/8 - 69/8|0|0|-1||1\n",
       "2|$$求多項式 $ x^{4} \\left(-2\\right) + 2 x^{3} + x^{2} \\left(-1\\right) + x \\left(-4\\right) - 4$  除以  $\\left(1 x + 2\\right) \\left(2 x - 4\\right)$  之餘式$$|4*x - 40|4*x-40|1|-1||1\n",
       "3|$$求多項式 $ x^{4} \\left(-1\\right) + x^{3} \\left(-2\\right) + 0 x^{2} + x \\left(-2\\right) - 1$  除以  $\\left(1 x - 3\\right) \\left(x \\left(-2\\right) - 1\\right)$  之餘式$$|-325*x/8 - 161/8|0|0|-1||1\n",
       "4|$$求多項式 $ 1 x^{4} + 4 x^{3} + x^{2} \\left(-3\\right) + 2 x + 0$  除以  $\\left(1 x - 3\\right) \\left(2 x - 2\\right)$  之餘式$$|82*x - 78|82*x-78|1|-1||1"
      ],
      "text/plain": [
       "<IPython.core.display.Markdown object>"
      ]
     },
     "metadata": {},
     "output_type": "display_data"
    }
   ],
   "source": [
    "if __name__==\"__main__\" :\n",
    "    NTE=Get_PF601_Expr(5,3)\n",
    "    for i,TE in enumerate(NTE):\n",
    "        St=TE[\"St\"]\n",
    "        Val=TE[\"Val\"]\n",
    "        print(f\"第{i}題:\")        \n",
    "        if TE[\"PlainText\"]==0:\n",
    "            display(Latex(f\" $$ {St} $$ \" ))\n",
    "        elif TE[\"PlainText\"]==1:\n",
    "            display(Latex(St))\n",
    "        display(Latex(f\"標準答案:  {Val} \"))\n",
    "        \n",
    "        TE[\"Ans\"]=input(\"請作答:\")  #\"x <= -1\" #\n",
    "        \n",
    "        if Put_PF601_Expr(TE):                   #比對答案:\n",
    "            print(\"答對!\")                              #答對加一分\n",
    "        else:                                      #不則\n",
    "            display(Latex(f\"答案錯誤, 標準答案:  {Val} \"))\n",
    "    display(Markdown(lib.NTE2TBL(NTE)  ))    "
   ]
  },
  {
   "cell_type": "markdown",
   "id": "popular-heavy",
   "metadata": {},
   "source": [
    "## 參考資料: 高三餘式定理  \n",
    "https://docs.sympy.org/latest/modules/polys/reference.html\n",
    "\n",
    "Remainder\n",
    "\n",
    "Compute polynomial remainder of f and g.\n",
    "\n",
    "Polynomial division with remainder of f by g.\n",
    "\n",
    "Examples\n",
    "```python\n",
    "from sympy import Poly\n",
    "from sympy.abc import x\n",
    "Poly(x**2 + 1, x).div(Poly(2*x - 4, x))\n",
    "```\n",
    "(Poly(1/2*x + 1, x, domain='QQ'), Poly(5, x, domain='QQ'))\n",
    "```python\n",
    "Poly(x**2 + 1, x).div(Poly(2*x - 4, x), auto=False)\n",
    "```\n",
    "(Poly(0, x, domain='ZZ'), Poly(x**2 + 1, x, domain='ZZ'))\n"
   ]
  },
  {
   "cell_type": "code",
   "execution_count": 3,
   "id": "chief-kidney",
   "metadata": {},
   "outputs": [
    {
     "data": {
      "text/plain": [
       "(x**2 + 3*x + 8, 47*x + 73)"
      ]
     },
     "metadata": {},
     "output_type": "display_data"
    },
    {
     "data": {
      "text/plain": [
       "(x/2 + 1, 5)"
      ]
     },
     "metadata": {},
     "output_type": "display_data"
    },
    {
     "data": {
      "text/latex": [
       "$\\displaystyle 5$"
      ],
      "text/plain": [
       "5"
      ]
     },
     "metadata": {},
     "output_type": "display_data"
    }
   ],
   "source": [
    "import sympy as sp\n",
    "x=sp.Symbol('x')\n",
    "\n",
    "from sympy import div,pdiv,rem,ZZ,QQ\n",
    "f1=2* x**4 +3*x**3-2*x**2-4*x+1\n",
    "f2=(2*x+3)*(x-3)\n",
    "display(div(f1,f2,domain=QQ)) ##rationals\n",
    "display(div(x**2+1,2*x-4,domain=QQ)) ##rationals\n",
    "display(rem(x**2+1,2*x-4,domain=QQ))"
   ]
  },
  {
   "cell_type": "code",
   "execution_count": 13,
   "id": "conditional-czech",
   "metadata": {
    "tags": []
   },
   "outputs": [
    {
     "data": {
      "image/png": "[encoded data removed]",
      "text/latex": [
       "$\\displaystyle \\left( x^{2} + x - 5, \\  6\\right)$"
      ],
      "text/plain": [
       "⎛ 2           ⎞\n",
       "⎝x  + x - 5, 6⎠"
      ]
     },
     "metadata": {},
     "output_type": "display_data"
    },
    {
     "data": {
      "image/png": "[encoded data removed]",
      "text/latex": [
       "$\\displaystyle \\left( x^{2} + x - 5, \\  6\\right)$"
      ],
      "text/plain": [
       "⎛ 2           ⎞\n",
       "⎝x  + x - 5, 6⎠"
      ]
     },
     "metadata": {},
     "output_type": "display_data"
    },
    {
     "data": {
      "image/png": "[encoded data removed]",
      "text/latex": [
       "$\\displaystyle \\left( x^{2} + x - 5, \\  6\\right)$"
      ],
      "text/plain": [
       "⎛ 2           ⎞\n",
       "⎝x  + x - 5, 6⎠"
      ]
     },
     "metadata": {},
     "output_type": "display_data"
    },
    {
     "data": {
      "image/png": "[encoded data removed]",
      "text/latex": [
       "$\\displaystyle \\left( 8 x^{2} + 24 x + 64, \\  376 x + 584\\right)$"
      ],
      "text/plain": [
       "⎛   2                         ⎞\n",
       "⎝8⋅x  + 24⋅x + 64, 376⋅x + 584⎠"
      ]
     },
     "metadata": {},
     "output_type": "display_data"
    },
    {
     "data": {
      "image/png": "[encoded data removed]",
      "text/latex": [
       "$\\displaystyle \\left( x^{2} + 3 x + 8, \\  47 x + 73\\right)$"
      ],
      "text/plain": [
       "⎛ 2                     ⎞\n",
       "⎝x  + 3⋅x + 8, 47⋅x + 73⎠"
      ]
     },
     "metadata": {},
     "output_type": "display_data"
    },
    {
     "data": {
      "image/png": "[encoded data removed]",
      "text/latex": [
       "$\\displaystyle \\left( x^{2} + 3 x + 8, \\  47 x + 73\\right)$"
      ],
      "text/plain": [
       "⎛ 2                     ⎞\n",
       "⎝x  + 3⋅x + 8, 47⋅x + 73⎠"
      ]
     },
     "metadata": {},
     "output_type": "display_data"
    },
    {
     "data": {
      "image/png": "[encoded data removed]",
      "text/latex": [
       "$\\displaystyle 47 x + 73$"
      ],
      "text/plain": [
       "47⋅x + 73"
      ]
     },
     "metadata": {},
     "output_type": "display_data"
    },
    {
     "data": {
      "image/png": "[encoded data removed]",
      "text/latex": [
       "$\\displaystyle 47 x + 73$"
      ],
      "text/plain": [
       "47⋅x + 73"
      ]
     },
     "metadata": {},
     "output_type": "display_data"
    },
    {
     "data": {
      "image/png": "[encoded data removed]",
      "text/latex": [
       "$\\displaystyle x^{2} + 1$"
      ],
      "text/plain": [
       " 2    \n",
       "x  + 1"
      ]
     },
     "metadata": {},
     "output_type": "display_data"
    },
    {
     "data": {
      "image/png": "[encoded data removed]",
      "text/latex": [
       "$\\displaystyle 5$"
      ],
      "text/plain": [
       "5"
      ]
     },
     "metadata": {},
     "output_type": "display_data"
    },
    {
     "data": {
      "image/png": "[encoded data removed]",
      "text/latex": [
       "$\\displaystyle \\left( 0, \\  x^{2} + 1\\right)$"
      ],
      "text/plain": [
       "⎛    2    ⎞\n",
       "⎝0, x  + 1⎠"
      ]
     },
     "metadata": {},
     "output_type": "display_data"
    },
    {
     "data": {
      "image/png": "[encoded data removed]",
      "text/latex": [
       "$\\displaystyle \\left( \\frac{x}{2} + 1, \\  5\\right)$"
      ],
      "text/plain": [
       "⎛x       ⎞\n",
       "⎜─ + 1, 5⎟\n",
       "⎝2       ⎠"
      ]
     },
     "metadata": {},
     "output_type": "display_data"
    }
   ],
   "source": [
    "x=sp.Symbol('x')\n",
    "from sympy import div,pdiv,rem,ZZ,QQ\n",
    "display(div(x**3+2*x**2-4*x+1,x+1,domain=ZZ))\n",
    "display(div(x**3+2*x**2-4*x+1,x+1,domain=QQ))\n",
    "display(pdiv(x**3+2*x**2-4*x+1,x+1))\n",
    "f1=2* x**4 +3*x**3-2*x**2-4*x+1\n",
    "f2=(2*x+3)*(x-3)\n",
    "display(pdiv(f1,f2 ))\n",
    "display(div(f1,f2,domain=ZZ))\n",
    "display(div(f1,f2,domain=QQ))\n",
    "display(rem(f1,f2,domain=ZZ))\n",
    "display(rem(f1,f2,domain=QQ))\n",
    "display(rem(x**2+1,2*x-4,domain=ZZ))\n",
    "display(div(x**2+1,2*x-4,domain=ZZ))  ##Integers\n"
   ]
  }
 ],
 "metadata": {
  "kernelspec": {
   "display_name": "Python 3",
   "language": "python",
   "name": "python3"
  },
  "language_info": {
   "codemirror_mode": {
    "name": "ipython",
    "version": 3
   },
   "file_extension": ".py",
   "mimetype": "text/x-python",
   "name": "python",
   "nbconvert_exporter": "python",
   "pygments_lexer": "ipython3",
   "version": "3.9.9"
  }
 },
 "nbformat": 4,
 "nbformat_minor": 5
}

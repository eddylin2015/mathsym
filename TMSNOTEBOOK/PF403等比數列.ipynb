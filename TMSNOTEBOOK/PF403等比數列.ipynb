{
 "cells": [
  {
   "cell_type": "markdown",
   "id": "mexican-vertex",
   "metadata": {},
   "source": [
    "# 等比數列之和"
   ]
  },
  {
   "cell_type": "code",
   "execution_count": 1,
   "id": "liberal-portugal",
   "metadata": {},
   "outputs": [
    {
     "data": {
      "text/plain": [
       "683"
      ]
     },
     "execution_count": 1,
     "metadata": {},
     "output_type": "execute_result"
    }
   ],
   "source": [
    "1-2+4-8+ 16 -32 +64- 128+ 256 -512 + 1024 "
   ]
  },
  {
   "cell_type": "code",
   "execution_count": 78,
   "id": "accessible-brooks",
   "metadata": {},
   "outputs": [
    {
     "data": {
      "text/plain": [
       "-0.5"
      ]
     },
     "execution_count": 78,
     "metadata": {},
     "output_type": "execute_result"
    }
   ],
   "source": [
    "exper =-2**(-1)"
   ]
  },
  {
   "cell_type": "code",
   "execution_count": 85,
   "id": "focal-hours",
   "metadata": {
    "jupyter": {
     "source_hidden": true
    },
    "tags": []
   },
   "outputs": [
    {
     "data": {
      "text/plain": [
       "array([   1,    1,   -2,    4,   -8,   16,  -32,   64, -128,  256, -512,\n",
       "       1024], dtype=int32)"
      ]
     },
     "execution_count": 85,
     "metadata": {},
     "output_type": "execute_result"
    }
   ],
   "source": [
    "import sympy as sp\n",
    "import numpy as np\n",
    "n,i= sp.symbols('n,i')\n",
    "expre= (-2) ** (n-1)\n",
    "expr_func= sp.lambdify(n, expre)\n",
    "n_arr=np.arange(12)\n",
    "n_arr[0]=1\n",
    "a=expr_func(n_arr)\n",
    "a"
   ]
  },
  {
   "cell_type": "markdown",
   "id": "short-washington",
   "metadata": {},
   "source": [
    "### 等比"
   ]
  },
  {
   "cell_type": "code",
   "execution_count": 87,
   "id": "seventh-church",
   "metadata": {},
   "outputs": [
    {
     "data": {
      "text/plain": [
       "-2.0"
      ]
     },
     "execution_count": 87,
     "metadata": {},
     "output_type": "execute_result"
    }
   ],
   "source": [
    "\n",
    "q=a[4]/a[3]\n",
    "q"
   ]
  },
  {
   "cell_type": "markdown",
   "id": "developmental-luxury",
   "metadata": {},
   "source": [
    "### 通項"
   ]
  },
  {
   "cell_type": "code",
   "execution_count": 88,
   "id": "accompanied-natural",
   "metadata": {},
   "outputs": [
    {
     "data": {
      "text/latex": [
       "$\\displaystyle 1024$"
      ],
      "text/plain": [
       "1024"
      ]
     },
     "execution_count": 88,
     "metadata": {},
     "output_type": "execute_result"
    }
   ],
   "source": [
    "\n",
    "expre.subs(n,11)"
   ]
  },
  {
   "cell_type": "code",
   "execution_count": 89,
   "id": "compatible-damage",
   "metadata": {},
   "outputs": [
    {
     "data": {
      "text/plain": [
       "1024.0"
      ]
     },
     "execution_count": 89,
     "metadata": {},
     "output_type": "execute_result"
    }
   ],
   "source": [
    "a[1] * q**(11-1)"
   ]
  },
  {
   "cell_type": "markdown",
   "id": "gorgeous-lying",
   "metadata": {},
   "source": [
    "### 和"
   ]
  },
  {
   "cell_type": "code",
   "execution_count": 97,
   "id": "treated-white",
   "metadata": {},
   "outputs": [
    {
     "data": {
      "text/latex": [
       "$\\displaystyle 683.0$"
      ],
      "text/plain": [
       "683.000000000000"
      ]
     },
     "execution_count": 97,
     "metadata": {},
     "output_type": "execute_result"
    }
   ],
   "source": [
    "(a[1]*(1-q**n)/(1-q)).subs(n,11) "
   ]
  },
  {
   "cell_type": "code",
   "execution_count": 95,
   "id": "inner-frank",
   "metadata": {
    "jupyter": {
     "source_hidden": true
    },
    "tags": []
   },
   "outputs": [
    {
     "data": {
      "text/plain": [
       "683.0"
      ]
     },
     "execution_count": 95,
     "metadata": {},
     "output_type": "execute_result"
    }
   ],
   "source": [
    "(a[1]-a[11]*q)/(1-q)"
   ]
  },
  {
   "cell_type": "code",
   "execution_count": 94,
   "id": "received-marsh",
   "metadata": {},
   "outputs": [
    {
     "data": {
      "text/latex": [
       "$\\displaystyle 683$"
      ],
      "text/plain": [
       "683"
      ]
     },
     "execution_count": 94,
     "metadata": {},
     "output_type": "execute_result"
    }
   ],
   "source": [
    "sp.summation( expre, (n, 1, 11))     "
   ]
  },
  {
   "cell_type": "markdown",
   "id": "trained-duplicate",
   "metadata": {},
   "source": [
    "![](https://appwk.baidu.com/naapi/doc/view?ih=673&o=jpg_6_0_______&iw=678&ix=0&iy=0&aimw=678&rn=1&doc_id=21ad731a59eef8c75fbfb3d0&pn=1&sign=095cfb97e48b57b1777292b350277067&type=1&app_ver=2.9.8.2&ua=bd_800_800_IncredibleS_2.9.8.2_2.3.7&bid=1&app_ua=IncredibleS&uid=&cuid=&fr=3&Bdi_bear=WIFI&from=3_10000&bduss=&pid=1&screen=800_800&sys_ver=2.3.7)"
   ]
  },
  {
   "cell_type": "code",
   "execution_count": null,
   "id": "inclusive-hormone",
   "metadata": {},
   "outputs": [],
   "source": []
  },
  {
   "cell_type": "markdown",
   "id": "rental-failing",
   "metadata": {},
   "source": [
    "## 題型一"
   ]
  },
  {
   "cell_type": "code",
   "execution_count": 48,
   "id": "selective-singles",
   "metadata": {},
   "outputs": [
    {
     "name": "stdout",
     "output_type": "stream",
     "text": [
      "[-2, 1, -3, 4, -4]\n",
      "[1, -2, 4, -8, 16, -32, 64, -128, 256, -512, 1024, -2048]\n",
      "己知 a1=-2,q=-2,求a4?\n",
      "16\n",
      "[1, 2, 4, 8, 16, 32, 64, 128, 256, 512, 1024, 2048]\n",
      "己知 a3=8,q=2,求a5?\n",
      "32\n",
      "[1, -3, 9, -27, 81, -243, 729, -2187, 6561, -19683, 59049, -177147]\n",
      "己知 a2=9,q=-3,求a5?\n",
      "-243\n",
      "[1, 4, 16, 64, 256, 1024, 4096, 16384, 65536, 262144, 1048576, 4194304]\n",
      "己知 a3=64,q=4,求a6?\n",
      "4096\n",
      "[1, -4, 16, -64, 256, -1024, 4096, -16384, 65536, -262144, 1048576, -4194304]\n",
      "己知 a3=-64,q=-4,求a5?\n",
      "-1024\n"
     ]
    }
   ],
   "source": [
    "import sympy as sp\n",
    "import numpy as np\n",
    "import random\n",
    "import math\n",
    "n= sp.symbols('n')\n",
    "a1=random.sample([sp.S(-4),-3,-2,sp.Rational(-1,2),sp.Rational(-1,3),sp.Rational(-1,4),1,2,3,4], k=5)\n",
    "print(a1)\n",
    "for i in range(5):\n",
    "    a2=random.randrange(3) +1 \n",
    "    a3=(a2+random.choice(range(2,5)) )% 8 ;a3=a3 if a3>0 else 1;\n",
    "    q=a1[i]; \n",
    "    if q==0 :q=2\n",
    "    if q==1 :q=2\n",
    "    expre= q**n\n",
    "    a=[]\n",
    "    for j in range(12):\n",
    "        a.append(expre.subs(n,j))\n",
    "    #expr_func= sp.lambdify(n,expre)\n",
    "    #a=expr_func(np.arange(12))\n",
    "    print(a)\n",
    "    St=f\"己知 a{a2}={a[a2]},q={q},求a{a3}?\"\n",
    "    Val=a[a3]\n",
    "    print(St)\n",
    "    print(Val)"
   ]
  },
  {
   "cell_type": "markdown",
   "id": "distant-establishment",
   "metadata": {},
   "source": [
    "## 題型二"
   ]
  },
  {
   "cell_type": "code",
   "execution_count": 57,
   "id": "editorial-edinburgh",
   "metadata": {},
   "outputs": [
    {
     "name": "stdout",
     "output_type": "stream",
     "text": [
      "[2, 4, -1/3, -3, -2]\n",
      "[1, 2, 4, 8, 16, 32, 64, 128, 256, 512, 1024, 2048]\n",
      "己知 a2=4,a4=16,求?q\n",
      "2\n",
      "[1, 4, 16, 64, 256, 1024, 4096, 16384, 65536, 262144, 1048576, 4194304]\n",
      "己知 a2=16,a5=1024,求?q\n",
      "4\n",
      "[1, -1/3, 1/9, -1/27, 1/81, -1/243, 1/729, -1/2187, 1/6561, -1/19683, 1/59049, -1/177147]\n",
      "己知 a2=1/9,a6=1/729,求?q\n",
      "-1/3\n",
      "[1, -3, 9, -27, 81, -243, 729, -2187, 6561, -19683, 59049, -177147]\n",
      "己知 a3=-27,a5=-243,求?q\n",
      "-3\n",
      "[1, -2, 4, -8, 16, -32, 64, -128, 256, -512, 1024, -2048]\n",
      "己知 a3=-8,a5=-32,求?q\n",
      "-2\n"
     ]
    }
   ],
   "source": [
    "import sympy as sp\n",
    "import numpy as np\n",
    "import random\n",
    "import math\n",
    "n= sp.symbols('n')\n",
    "a1=random.sample([-4,-3,-2,sp.Rational(-1,2),sp.Rational(-1,3),sp.Rational(-1,4),1,2,3,4], k=5)\n",
    "print(a1)\n",
    "for i in range(5):\n",
    "    a2=random.randrange(3) +1 \n",
    "    a3=(a2+random.choice(range(2,5)) )% 8 ;a3=a3 if a3>0 else 1;\n",
    "    q=a1[i]; \n",
    "    if q==0 :q=2\n",
    "    if q==1 :q=2\n",
    "    expre= q**n\n",
    "    a=[]\n",
    "    for j in range(12):\n",
    "        a.append(expre.subs(n,j))\n",
    "    print(a)\n",
    "    St=f\"己知 a{a2}={a[a2]},a{a3}={a[a3]},求?q\"\n",
    "    Val=q\n",
    "    print(St)\n",
    "    print(Val)"
   ]
  },
  {
   "cell_type": "markdown",
   "id": "varied-speaking",
   "metadata": {},
   "source": [
    "## 題型三"
   ]
  },
  {
   "cell_type": "code",
   "execution_count": 66,
   "id": "conservative-veteran",
   "metadata": {
    "tags": []
   },
   "outputs": [
    {
     "name": "stdout",
     "output_type": "stream",
     "text": [
      "[4, -2, -1/4, -1/2, -1/3]\n",
      "己知 4,16,64,..4096, S6 ?\n",
      "5460\n",
      "己知 -2,4,-8,..-128, S7 ?\n",
      "-86\n",
      "己知 -1/4,1/16,-1/64,..-1/1024, S5 ?\n",
      "-205/1024\n",
      "己知 -1/2,1/4,-1/8,..-1/32, S5 ?\n",
      "-11/32\n",
      "己知 -1/3,1/9,-1/27,..1/729, S6 ?\n",
      "-182/729\n"
     ]
    }
   ],
   "source": [
    "import sympy as sp\n",
    "import numpy as np\n",
    "import random\n",
    "import math\n",
    "n= sp.symbols('n')\n",
    "a1=random.sample([-4,-3,-2,sp.Rational(-1,2),sp.Rational(-1,3),sp.Rational(-1,4),1,2,3,4], k=5)\n",
    "print(a1)\n",
    "for i in range(5):\n",
    "    a2=random.randrange(3) +5\n",
    "    a3=(a2+random.choice(range(2,5)) )% 8 ;a3=a3 if a3>0 else 1;\n",
    "    q=a1[i]; \n",
    "    if q==0 :q=2\n",
    "    if q==1 :q=2\n",
    "    expre= q**n\n",
    "    a=[]\n",
    "    for j in range(12):\n",
    "        a.append(expre.subs(n,j))\n",
    "    tem_=\"\"\n",
    "    for i,a_ in enumerate(a):\n",
    "        if i>0 and i<4  :\n",
    "            tem_ = tem_+str(a_ )+\",\"\n",
    "    St=r'己知 {}..{}, S{} ?'.format(tem_,a[a2],a2)\n",
    "    Val=sp.summation(expre, (n, 1, a2))\n",
    "    print(St)\n",
    "    print(Val)"
   ]
  },
  {
   "cell_type": "markdown",
   "id": "convenient-gateway",
   "metadata": {},
   "source": [
    "## 題型四"
   ]
  },
  {
   "cell_type": "code",
   "execution_count": 68,
   "id": "regulated-gathering",
   "metadata": {},
   "outputs": [
    {
     "name": "stdout",
     "output_type": "stream",
     "text": [
      "[-1/2, 2, -1/4, -2, 4]\n",
      "己知 a1=-1/2,q=-1/2, S4 ?\n",
      "-5/16\n",
      "己知 a1=2,q=2, S5 ?\n",
      "62\n",
      "己知 a1=-1/4,q=-1/4, S5 ?\n",
      "-205/1024\n",
      "己知 a1=-2,q=-2, S4 ?\n",
      "10\n",
      "己知 a1=4,q=4, S4 ?\n",
      "340\n"
     ]
    }
   ],
   "source": [
    "import sympy as sp\n",
    "import numpy as np\n",
    "import random\n",
    "import math\n",
    "n= sp.symbols('n')\n",
    "a1=random.sample([-4,-3,-2,sp.Rational(-1,2),sp.Rational(-1,3),sp.Rational(-1,4),1,2,3,4], k=5)\n",
    "print(a1)\n",
    "for i in range(5):\n",
    "    a2=random.randrange(3) +4 \n",
    "    a3=(a2+random.choice(range(2,5)) )% 8 ;a3=a3 if a3>0 else 1;\n",
    "    q=a1[i]; \n",
    "    if q==0 :q=2\n",
    "    if q==1 :q=2\n",
    "    expre= q**n\n",
    "    a=[]\n",
    "    for j in range(12):\n",
    "        a.append(expre.subs(n,j))\n",
    "    St=r'己知 a1={},q={}, S{} ?'.format(a[1],q,a2)\n",
    "    Val=sp.summation(expre, (n, 1, a2))\n",
    "    print(St)\n",
    "    print(Val)"
   ]
  }
 ],
 "metadata": {
  "kernelspec": {
   "display_name": "Python 3",
   "language": "python",
   "name": "python3"
  },
  "language_info": {
   "codemirror_mode": {
    "name": "ipython",
    "version": 3
   },
   "file_extension": ".py",
   "mimetype": "text/x-python",
   "name": "python",
   "nbconvert_exporter": "python",
   "pygments_lexer": "ipython3",
   "version": "3.9.9"
  }
 },
 "nbformat": 4,
 "nbformat_minor": 5
}

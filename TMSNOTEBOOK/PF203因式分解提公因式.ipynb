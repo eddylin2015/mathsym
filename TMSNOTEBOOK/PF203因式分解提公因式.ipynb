{
 "cells": [
  {
   "cell_type": "markdown",
   "id": "previous-marina",
   "metadata": {},
   "source": [
    "# 電腦數學符號運算"
   ]
  },
  {
   "cell_type": "markdown",
   "id": "worldwide-virtue",
   "metadata": {},
   "source": [
    "### 第3節. 因式分解提公因式練習實作\n",
    "安裝 Python 3.8.7\n",
    "- pip install numpy\n",
    "- pip install sympy\n",
    "- pip install jupyterlab\n",
    "- lib.py 自定義函數庫\n",
    "\n",
    "- 因式分解提公因式\n",
    "\n",
    "第1題:\n",
    "$$x^5*(−5)y^4+x^4*(−25)y^5 $$\n",
    "電腦標準答案: -5*x**4*y**4*(x + 5*y)\n",
    "\n",
    "第2題: \n",
    "$$4x^1*y^3+x^1*(−5)y^2$$\n",
    "電腦標準答案:  x*y**2*(4*y - 5)\n",
    "\n",
    "\n",
    "第3題:\n",
    "$$6x^3*y^2+x^3*(−8)*y^1$$\n",
    "電腦標準答案: 2*x**3*y*(3*y - 4)\n",
    "\n",
    "第4題:\n",
    "$$ 3*x^1*y^3+3*x^0*y^5 $$\n",
    "電腦標準答案: 3*y**3*(x + y**2)\n"
   ]
  },
  {
   "cell_type": "markdown",
   "id": "unable-legend",
   "metadata": {},
   "source": [
    "因式分解 提公因式  \n",
    "題型1：  \n",
    "\"{ab} * x**{p} * y**{q}  + {ac} * x**{u}*y**{v}  \"   \n",
    "s1=abxpyq, s2=acxuyv, s3=adxgyh, s1’= bxp-myq-n, s2’= cxu-myv-n, s3’= dxg-myh-n,   \n",
    "s1 +s2 +s3=axmyn(s1’+ s2’+ s3’) (s1≠s2≠s3), s1 ,s2 ,s3亂序,s和s’的順序相同  \n",
    "(|a|,|b|,|c|,|d|,|k|)<13 整數, -1<(p,q,u,v,g,h)<11整數, (a,b,c)≠0, m=min(p,u,g), n=min(q,v,h),   \n",
    "(x,y)=(a至z內隨機字母) 或 (a至z內隨機字母 ± a至z內隨機字母) 或 (a至z內隨機字母 ± k), x≠y  "
   ]
  },
  {
   "cell_type": "code",
   "execution_count": 1,
   "id": "celtic-greensboro",
   "metadata": {},
   "outputs": [
    {
     "data": {
      "text/markdown": [
       "號|題|值|答|檢查|題型|提示\n",
       "--|--|--|--|--|--|--\n"
      ],
      "text/plain": [
       "<IPython.core.display.Markdown object>"
      ]
     },
     "metadata": {},
     "output_type": "display_data"
    }
   ],
   "source": [
    "import math                                       #math 內置數學函數\n",
    "import numpy as np                                #數字矩陣\n",
    "import re\n",
    "import random                                     #亂數 \n",
    "import sympy as sp                                #sympy 簡易別名 sp    \n",
    "from sympy.parsing.sympy_parser import parse_expr #文字字串, 解釋成, Sympy 運算式\n",
    "from IPython.display import Latex,HTML,Markdown                 #網頁顯示數學符號\n",
    "import lib\n",
    "from lib import GetTE\n",
    "sp.init_printing(\"mathjax\")                       #sp.init_printing()  168 \n",
    "# 因式分解 提公因式題型1,2,3,4\n",
    "def Get_PF203_Expr(QN,Tx=-1):\n",
    "    x,y,z=sp.symbols('x,y,z',real=True)\n",
    "    NTE = []\n",
    "    for Qid in range(0, QN):\n",
    "        if Tx==0:\n",
    "            pass\n",
    "            a,b,c,d =  np.random.choice([-5,-4,-3,-2,-1,1,2,3,4,5],4)\n",
    "            ab=a*b;ac=a*c; ad=a*d\n",
    "            p=random.choice([2,3,4,5])\n",
    "            q=random.choice([1,2,3])\n",
    "            u=random.choice([1,2,3,4,5])\n",
    "            v=random.choice([1,2])\n",
    "            expr1=a*b*x**p\n",
    "            expr2=b*c*x**q\n",
    "            expr3=a*b*c*d*x**v\n",
    "            St=expr1+expr2+expr3\n",
    "            Val=sp.factor(St)\n",
    "            TE = GetTE(Qid, sp.latex(St), Val, Tx)\n",
    "            NTE.append(TE)\n",
    "        \n",
    "        elif Tx==1:\n",
    "            a,b,c,d = np.random.choice([-5,-4,-3,-2,-1,1,2,3,4,5],4)\n",
    "            ab=a*b; ac=a*c; ad=a*d\n",
    "            p,q,u,v = np.random.choice([1,2,3,4],4)\n",
    "            express_str=f\"{ab} * x**{p} * y**{q}  + {ac} * x**{u}*y**{v}  \"  #題型 express_str ax+bx+c\n",
    "            St=parse_expr(express_str, evaluate=False) #字串解釋為可運算式子 expression\n",
    "            Val=sp.factor(St)\n",
    "            TE = GetTE(Qid, sp.latex(St), Val, Tx)\n",
    "            NTE.append(TE)\n",
    "        elif Tx==2:\n",
    "            p,q=np.random.choice([-5,-4,-3,-2,-1,1,2,3,4,5],2)\n",
    "            b=p+q; c=p*q\n",
    "            express_str=f\"x**2 + {b}*x +  {c} \"  \n",
    "            St=parse_expr(express_str, evaluate=False)     #字串解釋為可運算式子 expression\n",
    "            Val=sp.factor(St)                              #因式分解,得出標準答案\n",
    "            TE = GetTE(Qid, sp.latex(St), Val, Tx)\n",
    "            NTE.append(TE)\n",
    "        elif Tx==3:\n",
    "            a,b,c,d=np.random.choice([-5,-4,-3,-2,-1,1,2,3,4,5],4)\n",
    "            expr1=a*c*x**2\n",
    "            expr2=(a*d+b*c)*x\n",
    "            expr3=b*d\n",
    "            St=expr1+expr2+expr3\n",
    "            Val=sp.factor(St)                              #因式分解,得出標準答案\n",
    "            TE = GetTE(Qid, sp.latex(St), Val, Tx)\n",
    "            NTE.append(TE)\n",
    "    return NTE\n",
    "\n",
    "x,y,z=sp.symbols('x,y,z',real=True)\n",
    "NTE=Get_PF203_Expr(4)\n",
    "display(Markdown(lib.NTE2TBL(NTE)))  "
   ]
  },
  {
   "cell_type": "code",
   "execution_count": 2,
   "id": "later-medicare",
   "metadata": {},
   "outputs": [
    {
     "data": {
      "text/markdown": [
       "號|題|值|答|檢查|題型|提示\n",
       "--|--|--|--|--|--|--\n",
       "0|$$- 60 x^{2} + 16 x$$|-4*x*(15*x - 4)||0|-1||0|- 4 x \\left(15 x - 4\\right)\n",
       "1|$$- 4 x^{5} - 12 x^{3} + 24 x^{2}$$|-4*x**2*(x**3 + 3*x - 6)||0|-1||0|- 4 x^{2} \\left(x^{3} + 3 x - 6\\right)\n",
       "2|$$- 425 x^{2} + 20 x$$|-5*x*(85*x - 4)||0|-1||0|- 5 x \\left(85 x - 4\\right)\n",
       "3|$$6 x^{3} - 12 x^{2} - 24 x$$|6*x*(x**2 - 2*x - 4)||0|-1||0|6 x \\left(x^{2} - 2 x - 4\\right)"
      ],
      "text/plain": [
       "<IPython.core.display.Markdown object>"
      ]
     },
     "metadata": {},
     "output_type": "display_data"
    }
   ],
   "source": [
    "import math                                       #math 內置數學函數\n",
    "import numpy as np                                #數字矩陣\n",
    "import re\n",
    "import random                                     #亂數 \n",
    "import sympy as sp                                #sympy 簡易別名 sp    \n",
    "from sympy.parsing.sympy_parser import parse_expr #文字字串, 解釋成, Sympy 運算式\n",
    "from IPython.display import Latex,HTML,Markdown                 #網頁顯示數學符號\n",
    "import lib\n",
    "from lib import GetTE\n",
    "sp.init_printing(\"mathjax\")                       #sp.init_printing()  168 \n",
    "\"\"\"\n",
    "因式分解 提公因式題型1\n",
    "\"\"\"\n",
    "def Get_PF203_Expr(QizAmt):\n",
    "    NTE=[]\n",
    "    for i in range(0,QizAmt):\n",
    "        x=sp.Symbol('x')\n",
    "        a,b,c,d =  np.random.choice([-5,-4,-3,-2,-1,1,2,3,4,5],4)\n",
    "        ab=a*b;ac=a*c; ad=a*d\n",
    "        p=random.choice([2,3,4,5])\n",
    "        q=random.choice([1,2,3])\n",
    "        u=random.choice([1,2,3,4,5])\n",
    "        v=random.choice([1,2])\n",
    "        expr1=a*b*x**p\n",
    "        expr2=b*c*x**q\n",
    "        expr3=a*b*c*d*x**v\n",
    "        St=expr1+expr2+expr3\n",
    "        Val=sp.factor(St)\n",
    "        TE=GetTE(len(NTE),sp.latex(St), Val)\n",
    "        TE[\"ValLatex\"]=sp.latex(Val)    \n",
    "        NTE.append(TE)    \n",
    "    return NTE\n",
    "\n",
    "x,y,z=sp.symbols('x,y,z')\n",
    "NTE=Get_PF203_Expr(4)\n",
    "display(Markdown(lib.NTE2TBL(NTE)))  \n"
   ]
  },
  {
   "cell_type": "code",
   "execution_count": 13,
   "id": "armed-individual",
   "metadata": {},
   "outputs": [
    {
     "data": {
      "text/markdown": [
       "號|題|值|答|檢查|題型|提示\n",
       "--|--|--|--|--|--|--\n",
       "0|$$4 x^{4} y^{1} + x^{1} \\left(-8\\right) y^{3}$$|4*x*y*(x**3 - 2*y**2)||0|-1||0|4 x y \\left(x^{3} - 2 y^{2}\\right)\n",
       "1|$$2 x^{4} y^{2} + 10 x^{3} y^{2}$$|2*x**3*y**2*(x + 5)||0|-1||0|2 x^{3} y^{2} \\left(x + 5\\right)\n",
       "2|$$8 x^{2} y^{2} + x^{1} \\left(-8\\right) y^{1}$$|8*x*y*(x*y - 1)||0|-1||0|8 x y \\left(x y - 1\\right)\n",
       "3|$$x^{4} \\left(-15\\right) y^{4} + 12 x^{3} y^{3}$$|-3*x**3*y**3*(5*x*y - 4)||0|-1||0|- 3 x^{3} y^{3} \\left(5 x y - 4\\right)"
      ],
      "text/plain": [
       "<IPython.core.display.Markdown object>"
      ]
     },
     "metadata": {},
     "output_type": "display_data"
    }
   ],
   "source": [
    "import math                                       #math 內置數學函數\n",
    "import numpy as np                                #數字矩陣\n",
    "import re\n",
    "import random                                     #亂數 \n",
    "import sympy as sp                                #sympy 簡易別名 sp    \n",
    "from sympy.parsing.sympy_parser import parse_expr #文字字串, 解釋成, Sympy 運算式\n",
    "from IPython.display import Latex,HTML,Markdown                 #網頁顯示數學符號\n",
    "import lib\n",
    "from lib import GetTE\n",
    "sp.init_printing(\"mathjax\")                       #sp.init_printing()  168 \n",
    "\"\"\"\n",
    "因式分解 提公因式題型2\n",
    "\"\"\"\n",
    "def Get_PF203_Expr(QizAmt):\n",
    "    NTE=[]\n",
    "    for i in range(0,QizAmt):\n",
    "        a,b,c,d = np.random.choice([-5,-4,-3,-2,-1,1,2,3,4,5],4)\n",
    "        ab=a*b; ac=a*c; ad=a*d\n",
    "        p,q,u,v = np.random.choice([1,2,3,4],4)\n",
    "        express_str=f\"{ab} * x**{p} * y**{q}  + {ac} * x**{u}*y**{v}  \"  #題型 express_str ax+bx+c\n",
    "        St=parse_expr(express_str, evaluate=False) #字串解釋為可運算式子 expression\n",
    "        Val=sp.factor(St)\n",
    "        TE=GetTE(len(NTE),sp.latex(St), Val)\n",
    "        TE[\"ValLatex\"]=sp.latex(Val)    \n",
    "        NTE.append(TE)    \n",
    "    return NTE\n",
    "\n",
    "x,y,z=sp.symbols('x,y,z')\n",
    "NTE=Get_PF203_Expr(4)\n",
    "display(Markdown(lib.NTE2TBL(NTE)))  \n"
   ]
  },
  {
   "cell_type": "code",
   "execution_count": 14,
   "id": "annual-simulation",
   "metadata": {},
   "outputs": [
    {
     "data": {
      "text/markdown": [
       "號|題|值|答|檢查|題型|提示\n",
       "--|--|--|--|--|--|--\n",
       "0|$$x^{2} + x \\left(-1\\right) - 12$$|(x - 4)*(x + 3)||0|-1||0\n",
       "1|$$x^{2} + x \\left(-3\\right) + 2$$|(x - 2)*(x - 1)||0|-1||0\n",
       "2|$$x^{2} + x \\left(-4\\right) + 4$$|(x - 2)**2||0|-1||0\n",
       "3|$$x^{2} + 0 x - 16$$|(x - 4)*(x + 4)||0|-1||0\n",
       "4|$$x^{2} + 5 x + 4$$|(x + 1)*(x + 4)||0|-1||0\n",
       "5|$$x^{2} + 1 x - 6$$|(x - 2)*(x + 3)||0|-1||0\n",
       "6|$$x^{2} + 0 x - 4$$|(x - 2)*(x + 2)||0|-1||0\n",
       "7|$$x^{2} + x \\left(-8\\right) + 15$$|(x - 5)*(x - 3)||0|-1||0\n",
       "8|$$x^{2} + 5 x + 4$$|(x + 1)*(x + 4)||0|-1||0\n",
       "9|$$x^{2} + 3 x - 4$$|(x - 1)*(x + 4)||0|-1||0"
      ],
      "text/plain": [
       "<IPython.core.display.Markdown object>"
      ]
     },
     "metadata": {},
     "output_type": "display_data"
    }
   ],
   "source": [
    "import random                                     #亂數 \n",
    "import math                                       #math 內置數學函數\n",
    "import numpy as np                                #數字矩陣\n",
    "import sympy as sp                                #sympy 簡易別名 sp    \n",
    "from sympy.parsing.sympy_parser import parse_expr #文字字串, 解釋成, Sympy 運算式\n",
    "from sympy.plotting import plot                   #繪圖表\n",
    "from IPython.display import Latex,HTML,Markdown                 #網頁顯示數學符號\n",
    "import re\n",
    "import lib\n",
    "from lib import GetTE\n",
    "sp.init_printing(\"mathjax\")                       #sp.init_printing()  168 \n",
    "\"\"\"\n",
    "十字相乘法因式分解factor 題型3\n",
    "\"\"\"\n",
    "def Get_PF291_Expr(QizAmt):\n",
    "    NTE=[]\n",
    "    for i in range(0,QizAmt):\n",
    "        p,q=np.random.choice([-5,-4,-3,-2,-1,1,2,3,4,5],2)\n",
    "        b=p+q; c=p*q\n",
    "        express_str=f\"x**2 + {b}*x +  {c} \"  \n",
    "        St=parse_expr(express_str, evaluate=False)     #字串解釋為可運算式子 expression\n",
    "        Val=sp.factor(St)                              #因式分解,得出標準答案\n",
    "        TE=GetTE(len(NTE),sp.latex(St),Val )    \n",
    "        NTE.append(TE)    \n",
    "    return NTE\n",
    "\n",
    "NTE=Get_PF291_Expr(10)\n",
    "display(Markdown(lib.NTE2TBL(NTE))) \n"
   ]
  },
  {
   "cell_type": "code",
   "execution_count": 15,
   "id": "capital-invitation",
   "metadata": {},
   "outputs": [
    {
     "data": {
      "text/markdown": [
       "號|題|值|答|檢查|題型|提示\n",
       "--|--|--|--|--|--|--\n",
       "0|$$- 3 x^{2} - 11 x - 10$$|-(x + 2)*(3*x + 5)||0|-1||0\n",
       "1|$$6 x^{2} + 11 x - 10$$|(2*x + 5)*(3*x - 2)||0|-1||0\n",
       "2|$$10 x^{2} + 18 x - 4$$|2*(x + 2)*(5*x - 1)||0|-1||0\n",
       "3|$$- 20 x^{2} - 3 x + 9$$|-(4*x + 3)*(5*x - 3)||0|-1||0\n",
       "4|$$12 x^{2} - 10 x + 2$$|2*(2*x - 1)*(3*x - 1)||0|-1||0\n",
       "5|$$12 x^{2} + 14 x - 10$$|2*(2*x - 1)*(3*x + 5)||0|-1||0\n",
       "6|$$20 x^{2} - 21 x - 5$$|(4*x - 5)*(5*x + 1)||0|-1||0\n",
       "7|$$- 2 x^{2} - 5 x - 3$$|-(x + 1)*(2*x + 3)||0|-1||0\n",
       "8|$$- 16 x^{2} - 8 x + 15$$|-(4*x - 3)*(4*x + 5)||0|-1||0\n",
       "9|$$x^{2} - 4 x + 3$$|(x - 3)*(x - 1)||0|-1||0"
      ],
      "text/plain": [
       "<IPython.core.display.Markdown object>"
      ]
     },
     "metadata": {},
     "output_type": "display_data"
    }
   ],
   "source": [
    "import random                                     #亂數 \n",
    "import math                                       #math 內置數學函數\n",
    "import numpy as np                                #數字矩陣\n",
    "import sympy as sp                                #sympy 簡易別名 sp    \n",
    "from sympy.parsing.sympy_parser import parse_expr #文字字串, 解釋成, Sympy 運算式\n",
    "from sympy.plotting import plot                   #繪圖表\n",
    "from IPython.display import Latex,HTML,Markdown                 #網頁顯示數學符號\n",
    "import re\n",
    "import lib\n",
    "from lib import GetTE\n",
    "sp.init_printing(\"mathjax\")                       #sp.init_printing()  168 \n",
    "\"\"\"\n",
    "十字相乘法因式分解factor 題型4\n",
    "\"\"\"\n",
    "def Get_PF291_Expr(QizAmt):\n",
    "    x=sp.Symbol('x')\n",
    "    NTE=[]\n",
    "    for i in range(0,QizAmt):\n",
    "        a,b,c,d=np.random.choice([-5,-4,-3,-2,-1,1,2,3,4,5],4)\n",
    "        expr1=a*c*x**2\n",
    "        expr2=(a*d+b*c)*x\n",
    "        expr3=b*d\n",
    "        St=expr1+expr2+expr3\n",
    "        Val=sp.factor(St)                              #因式分解,得出標準答案\n",
    "        TE=GetTE(len(NTE),sp.latex(St),Val )    \n",
    "        NTE.append(TE)    \n",
    "    return NTE\n",
    "\n",
    "NTE=Get_PF291_Expr(10)\n",
    "display(Markdown(lib.NTE2TBL(NTE))) \n"
   ]
  },
  {
   "cell_type": "markdown",
   "id": "medical-oracle",
   "metadata": {},
   "source": [
    "end."
   ]
  }
 ],
 "metadata": {
  "kernelspec": {
   "display_name": "Python 3",
   "language": "python",
   "name": "python3"
  },
  "language_info": {
   "codemirror_mode": {
    "name": "ipython",
    "version": 3
   },
   "file_extension": ".py",
   "mimetype": "text/x-python",
   "name": "python",
   "nbconvert_exporter": "python",
   "pygments_lexer": "ipython3",
   "version": "3.9.9"
  }
 },
 "nbformat": 4,
 "nbformat_minor": 5
}

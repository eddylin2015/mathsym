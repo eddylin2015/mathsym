{
 "cells": [
  {
   "cell_type": "markdown",
   "id": "metallic-chambers",
   "metadata": {},
   "source": [
    "# 電腦數學符號運算"
   ]
  },
  {
   "cell_type": "markdown",
   "id": "collected-proceeding",
   "metadata": {},
   "source": [
    "### 第3節. 一元二次方程式實作\n",
    "安裝 Python 3.8.7\n",
    "- pip install numpy\n",
    "- pip install sympy\n",
    "- pip install jupyterlab\n",
    "- lib.py 自定義函數庫"
   ]
  },
  {
   "cell_type": "code",
   "execution_count": 2,
   "id": "divine-kernel",
   "metadata": {},
   "outputs": [
    {
     "data": {
      "text/markdown": [
       "號|題|值|答|檢查|題型|提示\n",
       "--|--|--|--|--|--|--\n",
       "0|$$x^{2} + x \\left(-7\\right) + 10 = 0$$|[2, 5]||0|0|['x1', 'x2']|0\n",
       "1|$$x^{2} + x \\left(-1\\right) - 6 = 0$$|[-2, 3]||0|0|['x1', 'x2']|0\n",
       "2|$$x^{2} + x \\left(-7\\right) + 10 = 0$$|[2, 5]||0|0|['x1', 'x2']|0\n",
       "3|$$x^{2} + 4 x + 3 = 0$$|[-3, -1]||0|0|['x1', 'x2']|0\n",
       "4|$$x^{2} + 6 x + 9 = 0$$|[-3]||0|0|['x1', 'x2']|0"
      ],
      "text/plain": [
       "<IPython.core.display.Markdown object>"
      ]
     },
     "metadata": {},
     "output_type": "display_data"
    },
    {
     "data": {
      "text/markdown": [
       "號|題|值|答|檢查|題型|提示\n",
       "--|--|--|--|--|--|--\n",
       "0|$$6 x^{2} - 4 x - 2 = 0$$|[-1/3, 1]||0|1|['x1', 'x2']|0\n",
       "1|$$15 x^{2} - 2 x - 8 = 0$$|[-2/3, 4/5]||0|1|['x1', 'x2']|0\n",
       "2|$$15 x^{2} + 11 x + 2 = 0$$|[-2/5, -1/3]||0|1|['x1', 'x2']|0\n",
       "3|$$- 16 x^{2} - 12 x + 4 = 0$$|[-1, 1/4]||0|1|['x1', 'x2']|0\n",
       "4|$$- 4 x^{2} + 10 x + 6 = 0$$|[-1/2, 3]||0|1|['x1', 'x2']|0"
      ],
      "text/plain": [
       "<IPython.core.display.Markdown object>"
      ]
     },
     "metadata": {},
     "output_type": "display_data"
    },
    {
     "data": {
      "text/markdown": [
       "號|題|值|答|檢查|題型|提示\n",
       "--|--|--|--|--|--|--\n",
       "0|$$- 10 \\left(x + 5\\right)^{2} + 24 \\left(x + 5\\right) - 8 = 0$$|[-23/5, -3]||0|2|['x1', 'x2']|0\n",
       "1|$$- 3 \\left(x + 1\\right)^{2} + 8 \\left(x + 1\\right) - 5 = 0$$|[0, 2/3]||0|2|['x1', 'x2']|0\n",
       "2|$$12 \\left(x - 4\\right)^{2} + 13 \\left(x - 4\\right) - 4 = 0$$|[8/3, 17/4]||0|2|['x1', 'x2']|0\n",
       "3|$$- 15 \\left(x - 3\\right)^{2} + 23 \\left(x - 3\\right) - 4 = 0$$|[16/5, 13/3]||0|2|['x1', 'x2']|0\n",
       "4|$$- 16 \\left(x + 4\\right)^{2} + 16 \\left(x + 4\\right) - 3 = 0$$|[-15/4, -13/4]||0|2|['x1', 'x2']|0"
      ],
      "text/plain": [
       "<IPython.core.display.Markdown object>"
      ]
     },
     "metadata": {},
     "output_type": "display_data"
    },
    {
     "data": {
      "text/markdown": [
       "號|題|值|答|檢查|題型|提示\n",
       "--|--|--|--|--|--|--\n",
       "0|$$- x^{2} + 3 x - 3 = 0$$|['無解']||0|3|['x1', 'x2']|0\n",
       "1|$$- 2 x^{2} - 4 x + 1 = 0$$|[-1 + sqrt(6)/2, -sqrt(6)/2 - 1]||0|3|['x1', 'x2']|0\n",
       "2|$$- 5 x^{2} - x - 5 = 0$$|['無解']||0|3|['x1', 'x2']|0\n",
       "3|$$- 2 x^{2} + 2 x - 2 = 0$$|['無解']||0|3|['x1', 'x2']|0\n",
       "4|$$3 x^{2} - 5 x - 5 = 0$$|[5/6 - sqrt(85)/6, 5/6 + sqrt(85)/6]||0|3|['x1', 'x2']|0"
      ],
      "text/plain": [
       "<IPython.core.display.Markdown object>"
      ]
     },
     "metadata": {},
     "output_type": "display_data"
    }
   ],
   "source": [
    "import random                                     #亂數 \n",
    "import math                                       #math 內置數學函數\n",
    "import numpy as np                                #數字矩陣\n",
    "import sympy as sp                                #sympy 簡易別名 sp    \n",
    "from sympy.parsing.sympy_parser import parse_expr #文字字串, 解釋成, Sympy 運算式\n",
    "from IPython.display import Latex,HTML,Markdown                 #網頁顯示數學符號\n",
    "sp.init_printing(\"mathjax\")                       #sp.init_printing()  168 \n",
    "import lib\n",
    "from lib import GetTE\n",
    "# 一元二次方程式,集題型1,2,3,4\n",
    "def Get_PF292_Expr(QN,Tx=-1):\n",
    "    x=sp.Symbol('x',real=True)\n",
    "    NTE = []\n",
    "    for Qid in range(0, QN):\n",
    "        if Tx==0:\n",
    "            p,q=np.random.choice([-5,-4,-3,-2,-1,1,2,3,4,5],2)\n",
    "            b=p+q\n",
    "            c=p*q\n",
    "            express_str=f\"x**2 + {b}*x +  {c} \"  \n",
    "            St=parse_expr(express_str, evaluate=False)     #字串解釋為可運算式子 expression\n",
    "            St=sp.Eq(St,0)                              #f(x)=0\n",
    "            Val=sp.solve(St)                              #因式分解,得出標準答案\n",
    "            TE = GetTE(Qid, sp.latex(St), Val, Tx)\n",
    "            TE[\"Tip\"] = [\"x1\", \"x2\"]\n",
    "            NTE.append(TE)\n",
    "        elif Tx==1:\n",
    "            a,b,c,d=np.random.choice([-5,-4,-3,-2,-1,1,2,3,4,5],4)\n",
    "            expr1=a*c*x**2\n",
    "            expr2=(a*d+b*c)*x\n",
    "            St=expr1+expr2+b*d\n",
    "            St=sp.Eq(St,0)                              #f(x)=0\n",
    "            Val=sp.solve(St)                              #因式分解,得出標準答案\n",
    "            TE = GetTE(Qid, sp.latex(St), Val, Tx)\n",
    "            TE[\"Tip\"] = [\"x1\", \"x2\"]\n",
    "            NTE.append(TE)\n",
    "        elif Tx==2:\n",
    "            a,b,c,d=np.random.choice([-5,-4,-3,-2,-1,1,2,3,4,5],4)\n",
    "            expr1=a*c*(x+a)**2\n",
    "            expr2=sp.Mul((a*d+b*c),(x+a),evaluate=False)\n",
    "            St=sp.Add(expr1,expr2,b*d,evaluate=False)\n",
    "            St=sp.Eq(St,0)                              #f(x)=0\n",
    "            Val=sp.solve(St)                              #因式分解,得出標準答案\n",
    "            TE = GetTE(Qid, sp.latex(St), Val, Tx)\n",
    "            TE[\"Tip\"] = [\"x1\", \"x2\"]\n",
    "            NTE.append(TE)\n",
    "        elif Tx==3:\n",
    "            a,b,c=np.random.choice([-5,-4,-3,-2,-1,1,2,3,4,5],3)\n",
    "            expr1=a*x**2\n",
    "            expr2=b*x\n",
    "            St=expr1+expr2+c\n",
    "            St=sp.Eq(St,0)                    #f(x)=0\n",
    "            Val=sp.solve(St,x)         #因式分解,得出標準答案\n",
    "            if Val==[] : Val=[\"無解\"]\n",
    "            TE = GetTE(Qid, sp.latex(St), Val, Tx)\n",
    "            TE[\"Tip\"] = [\"x1\", \"x2\"]\n",
    "            NTE.append(TE)\n",
    "    return NTE\n",
    "for Tx in range(0,4):\n",
    "    NTE=Get_PF292_Expr(5,Tx)\n",
    "    display(Markdown(lib.NTE2TBL(NTE))) "
   ]
  },
  {
   "cell_type": "code",
   "execution_count": 5,
   "id": "bound-lambda",
   "metadata": {},
   "outputs": [
    {
     "data": {
      "text/markdown": [
       "號|題|值|答|檢查|題型|提示\n",
       "--|--|--|--|--|--|--\n",
       "0|$$x^{2} + 4 x + 3 = 0$$|[-3, -1]||0|-1||0\n",
       "1|$$x^{2} + 9 x + 20 = 0$$|[-5, -4]||0|-1||0\n",
       "2|$$x^{2} + 6 x + 9 = 0$$|[-3]||0|-1||0\n",
       "3|$$x^{2} + 3 x - 10 = 0$$|[-5, 2]||0|-1||0\n",
       "4|$$x^{2} + x \\left(-1\\right) - 6 = 0$$|[-2, 3]||0|-1||0\n",
       "5|$$x^{2} + 3 x - 10 = 0$$|[-5, 2]||0|-1||0\n",
       "6|$$x^{2} + x \\left(-5\\right) + 6 = 0$$|[2, 3]||0|-1||0\n",
       "7|$$x^{2} + 0 x - 16 = 0$$|[-4, 4]||0|-1||0\n",
       "8|$$x^{2} + 2 x - 15 = 0$$|[-5, 3]||0|-1||0\n",
       "9|$$x^{2} + 6 x + 5 = 0$$|[-5, -1]||0|-1||0"
      ],
      "text/plain": [
       "<IPython.core.display.Markdown object>"
      ]
     },
     "metadata": {},
     "output_type": "display_data"
    }
   ],
   "source": [
    "import random                                     #亂數 \n",
    "import math                                       #math 內置數學函數\n",
    "import numpy as np                                #數字矩陣\n",
    "import sympy as sp                                #sympy 簡易別名 sp    \n",
    "from sympy.parsing.sympy_parser import parse_expr #文字字串, 解釋成, Sympy 運算式\n",
    "from sympy.plotting import plot                   #繪圖表\n",
    "from IPython.display import Latex,HTML,Markdown                 #網頁顯示數學符號\n",
    "import json                                       #JSON 結構化資料\n",
    "\n",
    "sp.init_printing(\"mathjax\")                       #sp.init_printing()  168 \n",
    "import lib\n",
    "from lib import GetTE\n",
    "\"\"\"\n",
    "一元二次方程式題型1\n",
    "\"\"\"\n",
    "def Get_PF292_Expr(QizAmt):\n",
    "    sample_list0= list(range(-39,29))   # [-5,-4,-3,-2,-1,1,2,3,4,5]\n",
    "    sample_list1= list(range(-39,29))\n",
    "    sample_list1.remove(0)    # 非零數列\n",
    "    NTE=[]\n",
    "    for i in range(0,QizAmt):\n",
    "        p=random.choice([-5,-4,-3,-2,-1,1,2,3,4,5])\n",
    "        q=random.choice([-5,-4,-3,-2,-1,1,2,3,4,5])\n",
    "        b=p+q\n",
    "        c=p*q\n",
    "        express_str=f\"x**2 + {b}*x +  {c} \"  \n",
    "        St=parse_expr(express_str, evaluate=False)     #字串解釋為可運算式子 expression\n",
    "        St=sp.Eq(St,0)                              #f(x)=0\n",
    "        Val=sp.solve(St)                              #因式分解,得出標準答案\n",
    "        TE=GetTE(len(NTE),sp.latex(St),Val )\n",
    "        NTE.append(TE)    \n",
    "    return NTE\n",
    "\n",
    "NTE=Get_PF292_Expr(10)\n",
    "display(Markdown(lib.NTE2TBL(NTE))) "
   ]
  },
  {
   "cell_type": "code",
   "execution_count": 8,
   "id": "departmental-ending",
   "metadata": {},
   "outputs": [
    {
     "data": {
      "text/markdown": [
       "號|題|值|答|檢查|題型|提示\n",
       "--|--|--|--|--|--|--\n",
       "0|$$15 x^{2} + 5 x - 20 = 0$$|[-4/3, 1]||0|-1||0\n",
       "1|$$12 x^{2} + 22 x + 8 = 0$$|[-4/3, -1/2]||0|-1||0\n",
       "2|$$- 15 x^{2} - 32 x - 16 = 0$$|[-4/3, -4/5]||0|-1||0\n",
       "3|$$- 2 x^{2} + 3 x - 1 = 0$$|[1/2, 1]||0|-1||0\n",
       "4|$$8 x^{2} - 14 x + 6 = 0$$|[3/4, 1]||0|-1||0\n",
       "5|$$8 x^{2} - 24 x + 10 = 0$$|[1/2, 5/2]||0|-1||0\n",
       "6|$$- 20 x^{2} + 37 x - 15 = 0$$|[3/5, 5/4]||0|-1||0\n",
       "7|$$- 5 x^{2} + 18 x - 9 = 0$$|[3/5, 3]||0|-1||0\n",
       "8|$$- 6 x^{2} + 5 x - 1 = 0$$|[1/3, 1/2]||0|-1||0\n",
       "9|$$15 x^{2} - 18 x + 3 = 0$$|[1/5, 1]||0|-1||0"
      ],
      "text/plain": [
       "<IPython.core.display.Markdown object>"
      ]
     },
     "metadata": {},
     "output_type": "display_data"
    }
   ],
   "source": [
    "import random                                     #亂數 \n",
    "import math                                       #math 內置數學函數\n",
    "import numpy as np                                #數字矩陣\n",
    "import sympy as sp                                #sympy 簡易別名 sp    \n",
    "from sympy.parsing.sympy_parser import parse_expr #文字字串, 解釋成, Sympy 運算式\n",
    "from sympy.plotting import plot                   #繪圖表\n",
    "from IPython.display import Latex,HTML,Markdown                 #網頁顯示數學符號\n",
    "import json                                       #JSON 結構化資料\n",
    "\n",
    "sp.init_printing(\"mathjax\")                       #sp.init_printing()  168 \n",
    "import lib\n",
    "from lib import GetTE\n",
    "\"\"\"\n",
    "一元二次方程式 題型2\n",
    "\"\"\"\n",
    "def Get_PF292_Expr(QizAmt):\n",
    "    sample_list0= list(range(-39,29))   # [-5,-4,-3,-2,-1,1,2,3,4,5]\n",
    "    sample_list1= list(range(-39,29))\n",
    "    sample_list1.remove(0)    # 非零數列\n",
    "    NTE=[]\n",
    "    for i in range(0,QizAmt):\n",
    "        x=sp.Symbol('x',real=True)\n",
    "        a,b,c,d=np.random.choice([-5,-4,-3,-2,-1,1,2,3,4,5],4)\n",
    "        expr1=a*c*x**2\n",
    "        expr2=(a*d+b*c)*x\n",
    "        St=expr1+expr2+b*d\n",
    "        St=sp.Eq(St,0)                              #f(x)=0\n",
    "        Val=sp.solve(St)                              #因式分解,得出標準答案\n",
    "        TE=GetTE(len(NTE),sp.latex(St),Val )\n",
    "        NTE.append(TE)    \n",
    "    return NTE\n",
    "\n",
    "NTE=Get_PF292_Expr(10)\n",
    "display(Markdown(lib.NTE2TBL(NTE))) "
   ]
  },
  {
   "cell_type": "code",
   "execution_count": 2,
   "id": "julian-anchor",
   "metadata": {},
   "outputs": [
    {
     "data": {
      "text/markdown": [
       "號|題|值|答|檢查|題型|提示\n",
       "--|--|--|--|--|--|--\n",
       "0|$$10 \\left(x + 2\\right)^{2} + 0 \\left(x + 2\\right) - 10 = 0$$|[-3, -1]||0|-1|\n",
       "1|$$4 \\left(x - 2\\right)^{2} + 16 \\left(x - 2\\right) + 15 = 0$$|[-1/2, 1/2]||0|-1|\n",
       "2|$$5 \\left(x - 1\\right)^{2} + 7 \\left(x - 1\\right) + 2 = 0$$|[0, 3/5]||0|-1|\n",
       "3|$$3 \\left(x - 3\\right)^{2} + 14 \\left(x - 3\\right) - 5 = 0$$|[-2, 10/3]||0|-1|\n",
       "4|$$3 \\left(x + 3\\right)^{2} - 10 \\left(x + 3\\right) - 25 = 0$$|[-14/3, 2]||0|-1|\n",
       "5|$$12 \\left(x + 3\\right)^{2} - 27 \\left(x + 3\\right) + 15 = 0$$|[-2, -7/4]||0|-1|\n",
       "6|$$- 9 \\left(x + 3\\right)^{2} + 0 \\left(x + 3\\right) + 9 = 0$$|[-4, -2]||0|-1|\n",
       "7|$$- 8 \\left(x + 4\\right)^{2} - 18 \\left(x + 4\\right) - 4 = 0$$|[-6, -17/4]||0|-1|\n",
       "8|$$9 \\left(x + 3\\right)^{2} + 30 \\left(x + 3\\right) + 25 = 0$$|[-14/3]||0|-1|\n",
       "9|$$- 2 \\left(x + 1\\right)^{2} + 9 \\left(x + 1\\right) - 10 = 0$$|[1, 3/2]||0|-1|"
      ],
      "text/plain": [
       "<IPython.core.display.Markdown object>"
      ]
     },
     "metadata": {},
     "output_type": "display_data"
    }
   ],
   "source": [
    "import random                                     #亂數 \n",
    "import math                                       #math 內置數學函數\n",
    "import numpy as np                                #數字矩陣\n",
    "import sympy as sp                                #sympy 簡易別名 sp    \n",
    "from sympy.parsing.sympy_parser import parse_expr #文字字串, 解釋成, Sympy 運算式\n",
    "from sympy.plotting import plot                   #繪圖表\n",
    "from IPython.display import Latex,HTML,Markdown                 #網頁顯示數學符號\n",
    "import json                                       #JSON 結構化資料\n",
    "\n",
    "sp.init_printing(\"mathjax\")                       #sp.init_printing()  168 \n",
    "import lib\n",
    "from lib import GetTE\n",
    "\"\"\"\n",
    "一元二次方程式 題型3\n",
    "\"\"\"\n",
    "def Get_PF292_Expr(QizAmt):\n",
    "    sample_list0= list(range(-39,29))   # [-5,-4,-3,-2,-1,1,2,3,4,5]\n",
    "    sample_list1= list(range(-39,29))\n",
    "    sample_list1.remove(0)    # 非零數列\n",
    "    NTE=[]\n",
    "    for i in range(0,QizAmt):\n",
    "        x=sp.Symbol('x')\n",
    "        a,b,c,d=random.choice([-5,-4,-3,-2,-1,1,2,3,4,5],4)\n",
    "        expr1=a*c*(x+a)**2\n",
    "        expr2=sp.Mul((a*d+b*c),(x+a),evaluate=False)\n",
    "        expr3=b*d\n",
    "        St=sp.Add(expr1,expr2,expr3,evaluate=False)\n",
    "        #St=parse_expr(express_str, evaluate=False)     #字串解釋為可運算式子 expression\n",
    "        St=sp.Eq(St,0)                              #f(x)=0\n",
    "        Val=sp.solve(St)                              #因式分解,得出標準答案\n",
    "        TE=GetTE(len(NTE),sp.latex(St),Val )\n",
    "        NTE.append(TE)    \n",
    "    return NTE\n",
    "\n",
    "NTE=Get_PF292_Expr(10)\n",
    "display(Markdown(lib.NTE2TBL(NTE))) "
   ]
  },
  {
   "cell_type": "code",
   "execution_count": 9,
   "id": "vital-toilet",
   "metadata": {},
   "outputs": [
    {
     "data": {
      "text/markdown": [
       "號|題|值|答|檢查|題型|提示\n",
       "--|--|--|--|--|--|--\n",
       "0|$$- x^{2} - 2 x - 5 = 0$$|['無解']||0|-1||0\n",
       "1|$$3 x^{2} - x + 3 = 0$$|['無解']||0|-1||0\n",
       "2|$$- 4 x^{2} - 2 x + 3 = 0$$|[-1/4 + sqrt(13)/4, -sqrt(13)/4 - 1/4]||0|-1||0\n",
       "3|$$- 4 x^{2} + 2 x - 5 = 0$$|['無解']||0|-1||0\n",
       "4|$$- 2 x^{2} + 4 x - 3 = 0$$|['無解']||0|-1||0\n",
       "5|$$3 x^{2} - x + 2 = 0$$|['無解']||0|-1||0\n",
       "6|$$4 x^{2} - 5 x - 2 = 0$$|[5/8 - sqrt(57)/8, 5/8 + sqrt(57)/8]||0|-1||0\n",
       "7|$$- x^{2} - x - 2 = 0$$|['無解']||0|-1||0\n",
       "8|$$4 x^{2} - x - 1 = 0$$|[1/8 - sqrt(17)/8, 1/8 + sqrt(17)/8]||0|-1||0\n",
       "9|$$- x^{2} - x - 4 = 0$$|['無解']||0|-1||0"
      ],
      "text/plain": [
       "<IPython.core.display.Markdown object>"
      ]
     },
     "metadata": {},
     "output_type": "display_data"
    }
   ],
   "source": [
    "import random                                     #亂數 \n",
    "import math                                       #math 內置數學函數\n",
    "import numpy as np                                #數字矩陣\n",
    "import sympy as sp                                #sympy 簡易別名 sp    \n",
    "from sympy.parsing.sympy_parser import parse_expr #文字字串, 解釋成, Sympy 運算式\n",
    "from sympy.plotting import plot                   #繪圖表\n",
    "from IPython.display import Latex,HTML,Markdown                 #網頁顯示數學符號\n",
    "import json                                       #JSON 結構化資料\n",
    "\n",
    "sp.init_printing(\"mathjax\")                       #sp.init_printing()  168 \n",
    "import lib\n",
    "from lib import GetTE\n",
    "\"\"\"\n",
    "一元二次方程式 題型4\n",
    "\"\"\"\n",
    "def Get_PF292_Expr(QizAmt):\n",
    "    sample_list0= list(range(-39,29))   # [-5,-4,-3,-2,-1,1,2,3,4,5]\n",
    "    sample_list1= list(range(-39,29))\n",
    "    sample_list1.remove(0)    # 非零數列\n",
    "    NTE=[]\n",
    "    for i in range(0,QizAmt):\n",
    "        x=sp.Symbol('x',real=True)\n",
    "        a,b,c=np.random.choice([-5,-4,-3,-2,-1,1,2,3,4,5],3)\n",
    "        expr1=a*x**2\n",
    "        expr2=b*x\n",
    "        St=expr1+expr2+c\n",
    "        St=sp.Eq(St,0)                    #f(x)=0\n",
    "        Val=sp.solve(St,x)         #因式分解,得出標準答案\n",
    "        if Val==[] : Val=[\"無解\"]\n",
    "        TE=GetTE(len(NTE),sp.latex(St),Val )\n",
    "        NTE.append(TE)    \n",
    "    return NTE\n",
    "\n",
    "NTE=Get_PF292_Expr(10)\n",
    "display(Markdown(lib.NTE2TBL(NTE))) "
   ]
  },
  {
   "cell_type": "markdown",
   "id": "joined-hearts",
   "metadata": {},
   "source": [
    "end."
   ]
  },
  {
   "cell_type": "code",
   "execution_count": null,
   "id": "abstract-occurrence",
   "metadata": {},
   "outputs": [],
   "source": []
  },
  {
   "cell_type": "code",
   "execution_count": null,
   "id": "opposite-repair",
   "metadata": {
    "tags": []
   },
   "outputs": [],
   "source": [
    "NTE=Get_PF292_Expr(4)\n",
    "for i,TE in enumerate(NTE):\n",
    "    St=TE[\"St\"]\n",
    "    Val=TE[\"Val\"]\n",
    "    print(f\"第{i}題:\")        \n",
    "    display(Latex(f\" $$ {St} $$ \" ))\n",
    "    ans=[]\n",
    "    for idx in range(0,len(Val)):\n",
    "        ans1=input(f\"請作答x{idx+1}:\")  \n",
    "        ans.append(int(ans1))\n",
    "    TE[\"Ans\"]=ans\n",
    "    if ans==Val:                   #比對答案:\n",
    "        print(\"答對!\")                              #答對加一分\n",
    "        TE[\"OK\"]=1\n",
    "    else:                                      #不則\n",
    "        TE[\"OK\"]=0\n",
    "        display(Latex(f\"答案錯誤, 標準答案: $ {Val} $\"))\n",
    "    \n",
    "display(Markdown(lib.NTE2TBL(NTE))) "
   ]
  }
 ],
 "metadata": {
  "kernelspec": {
   "display_name": "Python 3",
   "language": "python",
   "name": "python3"
  },
  "language_info": {
   "codemirror_mode": {
    "name": "ipython",
    "version": 3
   },
   "file_extension": ".py",
   "mimetype": "text/x-python",
   "name": "python",
   "nbconvert_exporter": "python",
   "pygments_lexer": "ipython3",
   "version": "3.9.9"
  }
 },
 "nbformat": 4,
 "nbformat_minor": 5
}

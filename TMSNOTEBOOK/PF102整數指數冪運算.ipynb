{
 "cells": [
  {
   "cell_type": "markdown",
   "id": "sharing-issue",
   "metadata": {},
   "source": [
    "# 電腦數學符號運算"
   ]
  },
  {
   "cell_type": "markdown",
   "id": "collectible-communication",
   "metadata": {},
   "source": [
    "### 第3節. 整數指數冪的運算實作\n",
    "安裝 Python 3.8.7\n",
    "- pip install numpy\n",
    "- pip install sympy\n",
    "- pip install jupyterlab\n",
    "- lib.py 自定義函數庫"
   ]
  },
  {
   "cell_type": "markdown",
   "id": "planned-species",
   "metadata": {},
   "source": [
    "- 程式1\n",
    "- 整數指數冪的運算 (a/b)^c \n",
    "- 題目: (-3/4)^(-2)  \n",
    "- 作答: 16/9"
   ]
  },
  {
   "cell_type": "code",
   "execution_count": 2,
   "id": "controlled-rehabilitation",
   "metadata": {},
   "outputs": [
    {
     "data": {
      "text/markdown": [
       "號|題|值|答|檢查|題型|提示\n",
       "--|--|--|--|--|--|--\n",
       "0|$$ {\\large (\\frac{5}{7})}^{-2} $$|49/25||0|0|a**b 格弍表示:\n",
       "1|$$ {-1}^{-3} \\cdot  {-1}^{-3} $$|1||0|1|a**b 格弍表示:\n",
       "2|$$ a^{-1} \\div  a^{3} $$|a**(-4)||0|2|a**b 格弍表示:\n",
       "3|$$ ({2}*a)^{-2} $$|1/(4*a**2)||0|3|a**b 格弍表示:\n",
       "4|$$ (a^{-2} \\cdot  b^{-3})^{-1} $$|a**2*b**3||0|4|a**b 格弍表示:\n",
       "5|$$ { (a^{-1} \\cdot  b^{-3})^{3} } \\div  { (a^{3} \\cdot  b^{3})^{-2} } $$|a**3/b**3||0|5|a**b 格弍表示:\n",
       "6|$$ {\\large (\\frac{1}{2})}^{2} $$|1/4||0|0|a**b 格弍表示:\n",
       "7|$$ {5}^{-2} \\cdot  {5}^{-2} $$|1/625||0|1|a**b 格弍表示:\n",
       "8|$$ a^{-2} \\div  a^{2} $$|a**(-4)||0|2|a**b 格弍表示:\n",
       "9|$$ ({2}*a)^{-1} $$|1/(2*a)||0|3|a**b 格弍表示:\n",
       "10|$$ (a^{3} \\cdot  b^{2})^{-1} $$|1/(a**3*b**2)||0|4|a**b 格弍表示:\n",
       "11|$$ { (a^{2} \\cdot  b^{2})^{3} } \\cdot  { (a^{-1} \\cdot  b^{2})^{-1} } $$|a**7*b**4||0|5|a**b 格弍表示:\n",
       "12|$$ {\\large (- \\frac{1}{5})}^{-2} $$|25||0|0|a**b 格弍表示:\n",
       "13|$$ {-1}^{-1} \\cdot  {-1}^{-2} $$|-1||0|1|a**b 格弍表示:\n",
       "14|$$ a^{-3} \\div  a^{-3} $$|1||0|2|a**b 格弍表示:\n",
       "15|$$ ({2}*a)^{3} $$|8*a**3||0|3|a**b 格弍表示:\n",
       "16|$$ (a^{3} \\cdot  b^{-3})^{-1} $$|b**3/a**3||0|4|a**b 格弍表示:\n",
       "17|$$ { (a^{2} \\cdot  b^{-3})^{-1} } \\cdot  { (a^{-2} \\cdot  b^{-2})^{3} } $$|1/(a**8*b**3)||0|5|a**b 格弍表示:\n",
       "18|$$ {\\large (- \\frac{5}{7})}^{-3} $$|-343/125||0|0|a**b 格弍表示:\n",
       "19|$$ {4}^{-1} \\cdot  {4}^{-2} $$|1/64||0|1|a**b 格弍表示:"
      ],
      "text/plain": [
       "<IPython.core.display.Markdown object>"
      ]
     },
     "metadata": {},
     "output_type": "display_data"
    }
   ],
   "source": [
    "import random                                     #亂數 \n",
    "import math                                       #math 內置數學函數\n",
    "import sympy as sp                                #sympy 簡易別名 sp    \n",
    "from sympy.parsing.sympy_parser import parse_expr #文字字串, 解釋成, Sympy 運算式\n",
    "from IPython.display import Latex,HTML,Markdown                 #網頁顯示數學符號\n",
    "sp.init_printing(\"mathjax\")                       #sp.init_printing()  168 \n",
    "import lib\n",
    "from lib import GetTE\n",
    "\"\"\"\n",
    "整數指數冪的運算\n",
    "\"\"\"\n",
    "def Get_PF102_Expr(QN):\n",
    "    a,b,c,x,y,z=sp.symbols(\"a,b,c,x,y,z\")\n",
    "    NTE=[]\n",
    "    for i in range(0,QN):\n",
    "        Tx=int(i % 6)\n",
    "        if Tx==1:\n",
    "            a1=sp.S(random.choice([-5,-4,-3,-2,-1,2,3,4,5]))\n",
    "            b1=random.choice([-3,-2,-1,2,3])\n",
    "            c1=random.choice([-3,-2,-1,2,3])\n",
    "            St=sp.Mul(a1**b1 , a1**c1, evaluate=False)\n",
    "            Val=sp.simplify(St)\n",
    "            St=r\" {%s}^{%s} \\cdot  {%s}^{%s} \" % (a1,b1,a1,c1) #Latex    \n",
    "        elif Tx==2:\n",
    "            b1=random.choice([-3,-2,-1,2,3])\n",
    "            c1=random.choice([-3,-2,-1,2,3])\n",
    "            op=random.choice([\"Mul\",\"Div\"])\n",
    "            if op==\"Div\":\n",
    "                St=a**b1 / a**c1\n",
    "                Val=sp.simplify(St)\n",
    "                St=r\" a^{%s} \\div  a^{%s} \" % (b1,c1) #Latex   \\times\n",
    "            else:\n",
    "                St=sp.Mul(a**b1 , a**c1, evaluate=False)\n",
    "                Val=sp.simplify(St)\n",
    "                St=r\" a^{%s} \\cdot  a^{%s} \" % (b1,c1) #Latex \n",
    "\n",
    "        elif Tx==3:\n",
    "            b1=random.choice([-3,-2,-1,2,3])\n",
    "            c1=random.choice([-3,-2,-1,2,3])\n",
    "            St=sp.Pow(sp.Mul(b1*a,evaluate=False) , c1, evaluate=False)\n",
    "            Val=sp.simplify(St)\n",
    "            St=r\" ({%s}*a)^{%s} \" % (b1,c1) #sp.latex(_)\n",
    "\n",
    "        elif Tx==4:\n",
    "            b1=random.choice([-3,-2,-1,2,3])\n",
    "            c1=random.choice([-3,-2,-1,2,3])\n",
    "            n1=random.choice([-3,-2,-1,2,3])\n",
    "            op=random.choice([\"Mul\",\"Div\"])\n",
    "            St1=sp.Pow(sp.Mul(a**b1 , b**c1, evaluate=False),n1, evaluate=False)\n",
    "            Val=sp.simplify(St1)\n",
    "            St=r\" (a^{%s} \\cdot  b^{%s})^{%s} \" % (b1,c1,n1) #Latex \n",
    "\n",
    "        elif Tx==5:\n",
    "            b1=random.choice([-3,-2,-1,2,3])\n",
    "            c1=random.choice([-3,-2,-1,2,3])\n",
    "            n1=random.choice([-3,-2,-1,2,3])\n",
    "            St1=sp.Pow(sp.Mul(a**b1 , b**c1, evaluate=False),n1, evaluate=False)\n",
    "            St11=r\" (a^{%s} \\cdot  b^{%s})^{%s} \" % (b1,c1,n1) #Latex \n",
    "            b1=random.choice([-3,-2,-1,2,3])\n",
    "            c1=random.choice([-3,-2,-1,2,3])\n",
    "            n1=random.choice([-3,-2,-1,2,3])\n",
    "            St2=sp.Pow(sp.Mul(a**b1 , b**c1, evaluate=False),n1, evaluate=False)\n",
    "            St22=r\" (a^{%s} \\cdot  b^{%s})^{%s} \" % (b1,c1,n1) #Latex \n",
    "            op=random.choice([\"cdot\",\"div\"])\n",
    "            if op==\"div\":\n",
    "                St=St1 / St2\n",
    "                Val=sp.simplify(St)\n",
    "                #St=r\" {%s} \\div  {%s} \" % (sp.latex(St1),sp.latex(St2)) #Latex   \\times\n",
    "            else:\n",
    "                St=sp.Mul(St1 , St2, evaluate=False)\n",
    "                Val=sp.simplify(St)\n",
    "            St=r\" {%s} \\%s  {%s} \" % (St11,op,St22) #Latex   \\times\n",
    "        else:\n",
    "            a1=sp.S(random.choice([-5,-4,-3,-2,-1,1,2,3,4,5]))\n",
    "            b1=random.choice([-9,-8,-7,-6,-5,-4,-3,-2,2,3,4,5,6,7,8,9])\n",
    "            c1=random.choice([-3,-2,-1,2,3])\n",
    "            St=r\" {\\large (%s)}^{%s} \" % (sp.latex(sp.Rational(a1,b1)),c1) #Latex \n",
    "            expr=sp.Pow(sp.Rational(a1,b1), c1 ,evaluate=False)\n",
    "            Val=sp.simplify(expr) #標準答案 \n",
    "        #運算方法1:\n",
    "        #運算方法2:\n",
    "        #Val=(a / sp.S(b))** c\n",
    "        TE=GetTE(i,St,Val,Tx)\n",
    "        TE[\"Tip\"]=\"a**b 格弍表示:\"\n",
    "        NTE.append(TE)    \n",
    "    return NTE\n",
    "\n",
    "def Put_PF102_Expr(TE):\n",
    "    ''' 檢查作答結果,比對Val ==parse_expr( Ans ), 對錯OK=[0/1] '''\n",
    "    a,b,c,x,y,z=sp.symbols(\"a,b,c,x,y,z\")\n",
    "    ans = TE[\"Ans\"]\n",
    "    if ans.strip() == \"\":\n",
    "        ans = \"-3.1415926\"\n",
    "    Val = TE[\"Val\"]\n",
    "    if parse_expr(ans) == Val:  # 比對答案:\n",
    "        TE[\"OK\"] = 1    \n",
    "        return True\n",
    "    return False    \n",
    "\n",
    "if __name__ == '__main__': #主程式\n",
    "    NTE=Get_PF102_Expr(20)\n",
    "    for i,TE in enumerate(NTE):\n",
    "        St=TE[\"St\"]\n",
    "        Val=TE[\"Val\"]\n",
    "    display(Markdown(lib.NTE2TBL(NTE)))"
   ]
  },
  {
   "cell_type": "code",
   "execution_count": 3,
   "id": "liquid-daniel",
   "metadata": {},
   "outputs": [
    {
     "name": "stdout",
     "output_type": "stream",
     "text": [
      "第1題:\n"
     ]
    },
    {
     "data": {
      "text/latex": [
       " $$  {\\large (\\frac{5}{7})}^{2}  $$ "
      ],
      "text/plain": [
       "<IPython.core.display.Latex object>"
      ]
     },
     "metadata": {},
     "output_type": "display_data"
    },
    {
     "name": "stdin",
     "output_type": "stream",
     "text": [
      "a**b 格弍表示: 0\n"
     ]
    },
    {
     "data": {
      "text/latex": [
       "答案錯誤, 標準答案: $ 25/49 $"
      ],
      "text/plain": [
       "<IPython.core.display.Latex object>"
      ]
     },
     "metadata": {},
     "output_type": "display_data"
    },
    {
     "name": "stdout",
     "output_type": "stream",
     "text": [
      "第2題:\n"
     ]
    },
    {
     "data": {
      "text/latex": [
       " $$  {4}^{3} \\cdot  {4}^{3}  $$ "
      ],
      "text/plain": [
       "<IPython.core.display.Latex object>"
      ]
     },
     "metadata": {},
     "output_type": "display_data"
    },
    {
     "name": "stdin",
     "output_type": "stream",
     "text": [
      "a**b 格弍表示: 00\n"
     ]
    },
    {
     "data": {
      "text/latex": [
       "答案錯誤, 標準答案: $ 4096 $"
      ],
      "text/plain": [
       "<IPython.core.display.Latex object>"
      ]
     },
     "metadata": {},
     "output_type": "display_data"
    },
    {
     "name": "stdout",
     "output_type": "stream",
     "text": [
      "第3題:\n"
     ]
    },
    {
     "data": {
      "text/latex": [
       " $$  a^{-2} \\cdot  a^{-1}  $$ "
      ],
      "text/plain": [
       "<IPython.core.display.Latex object>"
      ]
     },
     "metadata": {},
     "output_type": "display_data"
    },
    {
     "name": "stdin",
     "output_type": "stream",
     "text": [
      "a**b 格弍表示: 0\n"
     ]
    },
    {
     "data": {
      "text/latex": [
       "答案錯誤, 標準答案: $ a**(-3) $"
      ],
      "text/plain": [
       "<IPython.core.display.Latex object>"
      ]
     },
     "metadata": {},
     "output_type": "display_data"
    },
    {
     "name": "stdout",
     "output_type": "stream",
     "text": [
      "第4題:\n"
     ]
    },
    {
     "data": {
      "text/latex": [
       " $$  ({-1}*a)^{-1}  $$ "
      ],
      "text/plain": [
       "<IPython.core.display.Latex object>"
      ]
     },
     "metadata": {},
     "output_type": "display_data"
    },
    {
     "name": "stdin",
     "output_type": "stream",
     "text": [
      "a**b 格弍表示: 0\n"
     ]
    },
    {
     "data": {
      "text/latex": [
       "答案錯誤, 標準答案: $ -1/a $"
      ],
      "text/plain": [
       "<IPython.core.display.Latex object>"
      ]
     },
     "metadata": {},
     "output_type": "display_data"
    },
    {
     "name": "stdout",
     "output_type": "stream",
     "text": [
      "第5題:\n"
     ]
    },
    {
     "data": {
      "text/latex": [
       " $$  (a^{2} \\cdot  b^{-3})^{3}  $$ "
      ],
      "text/plain": [
       "<IPython.core.display.Latex object>"
      ]
     },
     "metadata": {},
     "output_type": "display_data"
    },
    {
     "name": "stdin",
     "output_type": "stream",
     "text": [
      "a**b 格弍表示: 0\n"
     ]
    },
    {
     "data": {
      "text/latex": [
       "答案錯誤, 標準答案: $ a**6/b**9 $"
      ],
      "text/plain": [
       "<IPython.core.display.Latex object>"
      ]
     },
     "metadata": {},
     "output_type": "display_data"
    },
    {
     "name": "stdout",
     "output_type": "stream",
     "text": [
      "第6題:\n"
     ]
    },
    {
     "data": {
      "text/latex": [
       " $$  { (a^{3} \\cdot  b^{2})^{2} } \\div  { (a^{-1} \\cdot  b^{2})^{2} }  $$ "
      ],
      "text/plain": [
       "<IPython.core.display.Latex object>"
      ]
     },
     "metadata": {},
     "output_type": "display_data"
    },
    {
     "name": "stdin",
     "output_type": "stream",
     "text": [
      "a**b 格弍表示: 0\n"
     ]
    },
    {
     "data": {
      "text/latex": [
       "答案錯誤, 標準答案: $ a**8 $"
      ],
      "text/plain": [
       "<IPython.core.display.Latex object>"
      ]
     },
     "metadata": {},
     "output_type": "display_data"
    },
    {
     "name": "stdout",
     "output_type": "stream",
     "text": [
      "總結: 得 0 分. \n"
     ]
    },
    {
     "data": {
      "text/markdown": [
       "號|題|值|答|檢查|題型|提示\n",
       "--|--|--|--|--|--|--\n",
       "0|$$ {\\large (\\frac{5}{7})}^{2} $$|25/49|0|0|0|a**b 格弍表示:\n",
       "1|$$ {4}^{3} \\cdot  {4}^{3} $$|4096|00|0|1|a**b 格弍表示:\n",
       "2|$$ a^{-2} \\cdot  a^{-1} $$|a**(-3)|0|0|2|a**b 格弍表示:\n",
       "3|$$ ({-1}*a)^{-1} $$|-1/a|0|0|3|a**b 格弍表示:\n",
       "4|$$ (a^{2} \\cdot  b^{-3})^{3} $$|a**6/b**9|0|0|4|a**b 格弍表示:\n",
       "5|$$ { (a^{3} \\cdot  b^{2})^{2} } \\div  { (a^{-1} \\cdot  b^{2})^{2} } $$|a**8|0|0|5|a**b 格弍表示:"
      ],
      "text/plain": [
       "<IPython.core.display.Markdown object>"
      ]
     },
     "metadata": {},
     "output_type": "display_data"
    }
   ],
   "source": [
    "if __name__ == '__main__': #主程式\n",
    "    a,b,c,x,y,z=sp.symbols(\"a,b,c,x,y,z\")\n",
    "    Mark=0\n",
    "    NTE=Get_PF102_Expr(6)\n",
    "    for i,TE in enumerate(NTE):\n",
    "        St=TE[\"St\"]\n",
    "        Val=TE[\"Val\"]\n",
    "        print(f\"第{i+1}題:\")        \n",
    "        display(Latex(f\" $$ {St} $$ \" ))\n",
    "        TE[\"Ans\"]=lib.Text2St(input(TE[\"Tip\"]))  \n",
    "        if Put_PF102_Expr(TE):                   #比對答案:\n",
    "            print(\"答對!\")                              #答對加一分\n",
    "            Mark+=1\n",
    "        else:\n",
    "            display(Latex(f\"答案錯誤, 標準答案: $ {Val} $\"))\n",
    "\n",
    "    print(f\"總結: 得 {Mark} 分. \")  #總結得分\n",
    "    display(Markdown(lib.NTE2TBL(NTE)))"
   ]
  }
 ],
 "metadata": {
  "kernelspec": {
   "display_name": "Python 3",
   "language": "python",
   "name": "python3"
  },
  "language_info": {
   "codemirror_mode": {
    "name": "ipython",
    "version": 3
   },
   "file_extension": ".py",
   "mimetype": "text/x-python",
   "name": "python",
   "nbconvert_exporter": "python",
   "pygments_lexer": "ipython3",
   "version": "3.9.9"
  }
 },
 "nbformat": 4,
 "nbformat_minor": 5
}

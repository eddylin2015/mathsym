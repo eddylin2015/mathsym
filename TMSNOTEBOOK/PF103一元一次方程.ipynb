{
 "cells": [
  {
   "cell_type": "markdown",
   "id": "clinical-wellington",
   "metadata": {},
   "source": [
    "# 電腦數學符號運算"
   ]
  },
  {
   "cell_type": "markdown",
   "id": "human-services",
   "metadata": {},
   "source": [
    "### 第3節. 一元一次方程實作\n",
    "安裝 Python 3.8.7\n",
    "- pip install numpy\n",
    "- pip install sympy\n",
    "- pip install jupyterlab\n",
    "- lib.py 自定義函數庫"
   ]
  },
  {
   "cell_type": "code",
   "execution_count": 1,
   "id": "detected-commissioner",
   "metadata": {},
   "outputs": [
    {
     "data": {
      "text/markdown": [
       "號|題|值|答|檢查|題型|提示\n",
       "--|--|--|--|--|--|--\n",
       "0|$$1 x - 3 = -10$$|[-7]||0|0|\n",
       "1|$$3 - 2 x = 5 x - 3$$|[6/7]||0|1|\n",
       "2|$$ -2 *(3+1*x)+2*(-3+-5*x)= -5* (1+3*x) $$|[7/3]||0|2|\n",
       "3|$$ \\frac{-3+2*x}{1}+\\frac{-4+-5*x}{-4}=\\frac{1+3*x}{-5} $$|[36/77]||0|3|\n",
       "4|$$1 x - 4 = -5$$|[-1]||0|0|\n",
       "5|$$5 x + 5 = 7 x + 4$$|[1/2]||0|1|\n",
       "6|$$ 5 *(5+1*x)+-4*(2+-2*x)= 1* (5+-4*x) $$|[-12/17]||0|2|\n",
       "7|$$ \\frac{4+-3*x}{-4}+\\frac{3+1*x}{2}=\\frac{2+-3*x}{1} $$|[6/17]||0|3|\n",
       "8|$$1 x + 0 = -25$$|[-25]||0|0|\n",
       "9|$$2 x + 1 = 4 x - 2$$|[3/2]||0|1|\n",
       "10|$$ 1 *(1+3*x)+1*(5+-4*x)= 5* (-2+-2*x) $$|[-16/9]||0|2|\n",
       "11|$$ \\frac{-1+-2*x}{-3}+\\frac{-3+3*x}{-1}=\\frac{1+2*x}{5} $$|[47/41]||0|3|\n",
       "12|$$1 x + 6 = 5$$|[-1]||0|0|\n",
       "13|$$- 2 x - 5 = - 5 x - 3$$|[2/3]||0|1|\n",
       "14|$$ -4 *(5+3*x)+2*(1+2*x)= 5* (4+-1*x) $$|[-38/3]||0|2|\n",
       "15|$$ \\frac{-3+3*x}{1}+\\frac{5+3*x}{4}=\\frac{2+-5*x}{5} $$|[43/95]||0|3|\n",
       "16|$$1 x + 3 = -4$$|[-7]||0|0|\n",
       "17|$$1 - 2 x = 5 x + 4$$|[-3/7]||0|1|\n",
       "18|$$ -1 *(5+5*x)+-3*(-2+-2*x)= 4* (-2+-3*x) $$|[-9/13]||0|2|\n",
       "19|$$ \\frac{-5+-2*x}{2}+\\frac{2+-1*x}{3}=\\frac{-4+-1*x}{4} $$|[-10/13]||0|3|\n",
       "20|$$1 x + 1 = -2$$|[-3]||0|0|\n",
       "21|$$3 x - 2 = 1 - 5 x$$|[3/8]||0|1|\n",
       "22|$$ -3 *(-1+-2*x)+-3*(-1+5*x)= 2* (-5+-5*x) $$|[-16]||0|2|\n",
       "23|$$ \\frac{-1+-2*x}{-4}+\\frac{1+1*x}{3}=\\frac{5+2*x}{2} $$|[-23/2]||0|3|\n",
       "24|$$1 x - 6 = 8$$|[14]||0|0|\n",
       "25|$$- 2 x - 1 = 3 x + 4$$|[-1]||0|1|\n",
       "26|$$ -1 *(-4+-5*x)+-1*(-5+-2*x)= -4* (3+-1*x) $$|[-7]||0|2|\n",
       "27|$$ \\frac{-1+3*x}{-2}+\\frac{5+-3*x}{5}=\\frac{-4+2*x}{-4} $$|[5/16]||0|3|\n",
       "28|$$1 x + 0 = -9$$|[-9]||0|0|\n",
       "29|$$5 x - 4 = 7 x - 3$$|[-1/2]||0|1|\n",
       "30|$$ 4 *(-5+1*x)+2*(5+4*x)= 3* (4+2*x) $$|[11/3]||0|2|\n",
       "31|$$ \\frac{-2+-5*x}{-4}+\\frac{-5+-1*x}{4}=\\frac{-4+-4*x}{3} $$|[-1/4]||0|3|"
      ],
      "text/plain": [
       "<IPython.core.display.Markdown object>"
      ]
     },
     "metadata": {},
     "output_type": "display_data"
    }
   ],
   "source": [
    "####################初始化,文件頭,匯入組件#####################################\n",
    "import random                                     #亂數 \n",
    "import math                                       #math 內置數學函數\n",
    "import numpy as np                                #數字矩陣\n",
    "import sympy as sp                                #sympy 簡易別名 sp    \n",
    "from sympy.parsing.sympy_parser import parse_expr #文字字串, 解釋成, Sympy 運算式\n",
    "from IPython.display import Latex,HTML,Markdown            #網頁顯示數學符號\n",
    "import json                                       #JSON 結構化資料\n",
    "import datetime\n",
    "import lib\n",
    "from lib import GetTE\n",
    "sp.init_printing(\"mathjax\")                       #sp.init_printing()  168 \n",
    "#############################################################################\n",
    "def Post_PF103_Expr(NTE):\n",
    "    for TE in NTE: Put_PF103_Expr(TE)\n",
    "\n",
    "def Put_PF103_Expr(TE):\n",
    "    Val=TE[\"Val\"]\n",
    "    ans=TE[\"Ans\"]\n",
    "    if parse_expr(lib.Text2St(ans))==Val[0]:                   #比對答案:\n",
    "        TE[\"OK\"]=1\n",
    "        return True\n",
    "    return False\n",
    "\n",
    "def Get_PF103_Expr(QN):\n",
    "    x=sp.symbols('x')\n",
    "    NTE=[]\n",
    "    for i in range(0,QN):\n",
    "        Tx=int(i % 4)\n",
    "        if Tx==1:\n",
    "            # 2:  ax+b=cx+d a,b,c,d均為-99至99的整数,\n",
    "            a=random.choice([-5,-4,-3,-2,-1,1,2,3,4,5])\n",
    "            b=random.choice([-5,-4,-3,-2,-1,1,2,3,4,5])\n",
    "            c=random.choice([-5,-4,-3,-2,-1,1,2,3,4,5])\n",
    "            d=random.choice([-5,-4,-3,-2,-1,1,2,3,4,5])\n",
    "            if c==a : c=int(math.copysign(abs(c)+2,c))\n",
    "                \n",
    "            expre=sp.Eq( a * x + b, c * x + d,evaluate=False)\n",
    "            \n",
    "            St=sp.latex(expre)\n",
    "            Val=sp.solve(expre)\n",
    "        elif Tx==2:\n",
    "            #3： m(a+bx) + n(c+dx) = p(e+fx) 所有字母均為-9至9整数\n",
    "            a=random.choice([-5,-4,-3,-2,-1,1,2,3,4,5])\n",
    "            b=random.choice([-5,-4,-3,-2,-1,1,2,3,4,5])\n",
    "            c=random.choice([-5,-4,-3,-2,-1,1,2,3,4,5])\n",
    "            d=random.choice([-5,-4,-3,-2,-1,1,2,3,4,5])\n",
    "            e=random.choice([-5,-4,-3,-2,-1,1,2,3,4,5])\n",
    "            f=random.choice([-5,-4,-3,-2,-1,1,2,3,4,5])\n",
    "            m=random.choice([-5,-4,-3,-2,-1,1,2,3,4,5])\n",
    "            n=random.choice([-5,-4,-3,-2,-1,1,2,3,4,5])\n",
    "            expre=sp.Eq(m*(a+b*x)+n*(c+d*x),p*(e+f*x),evaluate=False)\n",
    "            St=r\" %s *(%s+%s*x)+%s*(%s+%s*x)= %s* (%s+%s*x) \"%(m,a,b,n,c,d,p,e,f)\n",
    "            Val=sp.solve(expre)\n",
    "        elif Tx==3:\n",
    "            #4： (ax+b)/m + (cx+d)/n = (ex+f)/p 字母a,b,c,d,e,f均為-9至9整数;m,n,f均為1至9的整數\n",
    "            a=random.choice([-5,-4,-3,-2,-1,1,2,3,4,5])\n",
    "            b=random.choice([-5,-4,-3,-2,-1,1,2,3,4,5])\n",
    "            c=random.choice([-5,-4,-3,-2,-1,1,2,3,4,5])\n",
    "            d=random.choice([-5,-4,-3,-2,-1,1,2,3,4,5])\n",
    "            e=random.choice([-5,-4,-3,-2,-1,1,2,3,4,5])\n",
    "            f=random.choice([-5,-4,-3,-2,-1,1,2,3,4,5])\n",
    "            m=random.choice([-5,-4,-3,-2,-1,1,2,3,4,5])\n",
    "            n=random.choice([-5,-4,-3,-2,-1,1,2,3,4,5])\n",
    "            expre=sp.Eq((a+b*x)/m+(c+d*x)/n,(e+f*x)/p,evaluate=False)\n",
    "            St=r\" \\frac{%s+%s*x}{%s}+\\frac{%s+%s*x}{%s}=\\frac{%s+%s*x}{%s} \"%(a,b,m,c,d,n,e,f,p)\n",
    "            Val=sp.solve(expre)\n",
    "        else:\n",
    "            a = 1 \n",
    "            p=random.choice([-5,-4,-3,-2,-1,1,2,3,4,5])\n",
    "            q=random.choice([-5,-4,-3,-2,-1,1,2,3,4,5])\n",
    "            b=p+q\n",
    "            c=p*q\n",
    "            express_str=f\" {a}*x + {b} \"                    # f(x)= ax + b\n",
    "            QizStat=parse_expr(express_str, evaluate=False) #字串解釋為可運算式子 expression \n",
    "            fx=sp.Eq( QizStat, c )                           #sympy.Eq 方程式 f(x)=c ,\n",
    "            St=sp.latex(fx)                                  #題目 latex 數學格式\n",
    "            Val=sp.solve(fx)                                 #sympy.solve求根,得出標準答案\n",
    "        TE=GetTE(i,St,Val,Tx)\n",
    "        NTE.append(TE)    \n",
    "    return NTE\n",
    "\n",
    "if __name__ == '__main__': #主程式\n",
    "    NTE=Get_PF103_Expr(32)\n",
    "    for i,TE in enumerate(NTE):\n",
    "        St=TE[\"St\"]\n",
    "        Val=TE[\"Val\"]\n",
    "    display(Markdown(lib.NTE2TBL(NTE)))"
   ]
  },
  {
   "cell_type": "code",
   "execution_count": 4,
   "id": "stone-hardwood",
   "metadata": {},
   "outputs": [
    {
     "name": "stdout",
     "output_type": "stream",
     "text": [
      "第1題:\n"
     ]
    },
    {
     "data": {
      "text/latex": [
       " $$ 1 x + 1 = -20 $$ "
      ],
      "text/plain": [
       "<IPython.core.display.Latex object>"
      ]
     },
     "metadata": {},
     "output_type": "display_data"
    },
    {
     "data": {
      "text/latex": [
       "標準答案: $ [-21] $"
      ],
      "text/plain": [
       "<IPython.core.display.Latex object>"
      ]
     },
     "metadata": {},
     "output_type": "display_data"
    },
    {
     "name": "stdout",
     "output_type": "stream",
     "text": [
      "\n"
     ]
    },
    {
     "name": "stdin",
     "output_type": "stream",
     "text": [
      "請作答:x= -21\n"
     ]
    },
    {
     "name": "stdout",
     "output_type": "stream",
     "text": [
      "答對!\n",
      "第2題:\n"
     ]
    },
    {
     "data": {
      "text/latex": [
       " $$ - 3 x - 5 = 4 - 4 x $$ "
      ],
      "text/plain": [
       "<IPython.core.display.Latex object>"
      ]
     },
     "metadata": {},
     "output_type": "display_data"
    },
    {
     "data": {
      "text/latex": [
       "標準答案: $ [9] $"
      ],
      "text/plain": [
       "<IPython.core.display.Latex object>"
      ]
     },
     "metadata": {},
     "output_type": "display_data"
    },
    {
     "name": "stdout",
     "output_type": "stream",
     "text": [
      "\n"
     ]
    },
    {
     "name": "stdin",
     "output_type": "stream",
     "text": [
      "請作答:x= 9\n"
     ]
    },
    {
     "name": "stdout",
     "output_type": "stream",
     "text": [
      "答對!\n",
      "第3題:\n"
     ]
    },
    {
     "data": {
      "text/latex": [
       " $$  -4 *(-5+-3*x)+4*(-5+-1*x)= 5* (3+5*x)  $$ "
      ],
      "text/plain": [
       "<IPython.core.display.Latex object>"
      ]
     },
     "metadata": {},
     "output_type": "display_data"
    },
    {
     "data": {
      "text/latex": [
       "標準答案: $ [-15/17] $"
      ],
      "text/plain": [
       "<IPython.core.display.Latex object>"
      ]
     },
     "metadata": {},
     "output_type": "display_data"
    },
    {
     "name": "stdout",
     "output_type": "stream",
     "text": [
      "\n"
     ]
    },
    {
     "name": "stdin",
     "output_type": "stream",
     "text": [
      "請作答:x= 0\n"
     ]
    },
    {
     "data": {
      "text/latex": [
       "答案錯誤, 標準答案: $ [-15/17] $"
      ],
      "text/plain": [
       "<IPython.core.display.Latex object>"
      ]
     },
     "metadata": {},
     "output_type": "display_data"
    },
    {
     "name": "stdout",
     "output_type": "stream",
     "text": [
      "第4題:\n"
     ]
    },
    {
     "data": {
      "text/latex": [
       " $$  \\frac{-4+-1*x}{-2}+\\frac{-3+-4*x}{4}=\\frac{5+-2*x}{5}  $$ "
      ],
      "text/plain": [
       "<IPython.core.display.Latex object>"
      ]
     },
     "metadata": {},
     "output_type": "display_data"
    },
    {
     "data": {
      "text/latex": [
       "標準答案: $ [5/2] $"
      ],
      "text/plain": [
       "<IPython.core.display.Latex object>"
      ]
     },
     "metadata": {},
     "output_type": "display_data"
    },
    {
     "name": "stdout",
     "output_type": "stream",
     "text": [
      "\n"
     ]
    },
    {
     "name": "stdin",
     "output_type": "stream",
     "text": [
      "請作答:x= 0\n"
     ]
    },
    {
     "data": {
      "text/latex": [
       "答案錯誤, 標準答案: $ [5/2] $"
      ],
      "text/plain": [
       "<IPython.core.display.Latex object>"
      ]
     },
     "metadata": {},
     "output_type": "display_data"
    },
    {
     "data": {
      "text/html": [
       "<table><tr><th>編號</th><th>題目</th><th>答案</th><th>作答</th><th>檢查</th><th>題型</th><th>提示</th></tr><tr><td>0</td><td>$$1 x + 1 = -20$$</td><td>[-21]</td><td>-21</td><td>1</td><td>0</td><td></td></tr><tr><td>1</td><td>$$- 3 x - 5 = 4 - 4 x$$</td><td>[9]</td><td>9</td><td>1</td><td>1</td><td></td></tr><tr><td>2</td><td>$$ -4 *(-5+-3*x)+4*(-5+-1*x)= 5* (3+5*x) $$</td><td>[-15/17]</td><td>0</td><td>0</td><td>2</td><td></td></tr><tr><td>3</td><td>$$ \\frac{-4+-1*x}{-2}+\\frac{-3+-4*x}{4}=\\frac{5+-2*x}{5} $$</td><td>[5/2]</td><td>0</td><td>0</td><td>3</td><td></td></tr></table>"
      ],
      "text/plain": [
       "<IPython.core.display.HTML object>"
      ]
     },
     "metadata": {},
     "output_type": "display_data"
    },
    {
     "name": "stdout",
     "output_type": "stream",
     "text": [
      "得分2!\n"
     ]
    }
   ],
   "source": [
    "if __name__ == '__main__': #主程式\n",
    "    Mark=0\n",
    "    NTE=Get_PF103_Expr(4)\n",
    "    for i,TE in enumerate(NTE):\n",
    "        St=TE[\"St\"]\n",
    "        Val=TE[\"Val\"]\n",
    "        print(f\"第{i+1}題:\")        \n",
    "        display(Latex(f\" $$ {St} $$ \" ))\n",
    "        display(Latex(f\"標準答案: $ {Val} $\"))\n",
    "        print(TE[\"Tip\"])\n",
    "        TE[\"Ans\"]=input(\"請作答:x=\")  \n",
    "        if Put_PF103_Expr(TE):                   #比對答案:\n",
    "            print(\"答對!\");Mark+=1               #答對加一分\n",
    "        else:                                    #不則\n",
    "            display(Latex(f\"答案錯誤, 標準答案: $ {Val} $\"))\n",
    "    display(Markdown(lib.NTE2TBL(NTE)))\n",
    "    print(f\"得分{Mark}!\")"
   ]
  }
 ],
 "metadata": {
  "kernelspec": {
   "display_name": "Python 3",
   "language": "python",
   "name": "python3"
  },
  "language_info": {
   "codemirror_mode": {
    "name": "ipython",
    "version": 3
   },
   "file_extension": ".py",
   "mimetype": "text/x-python",
   "name": "python",
   "nbconvert_exporter": "python",
   "pygments_lexer": "ipython3",
   "version": "3.9.9"
  }
 },
 "nbformat": 4,
 "nbformat_minor": 5
}

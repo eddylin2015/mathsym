{
 "cells": [
  {
   "cell_type": "markdown",
   "id": "broke-neutral",
   "metadata": {},
   "source": [
    "# 電腦數學符號運算"
   ]
  },
  {
   "cell_type": "markdown",
   "id": "planned-parallel",
   "metadata": {},
   "source": [
    "### 第3節. 解直角三角形實作\n",
    "安裝 Python 3.8.7\n",
    "- pip install numpy\n",
    "- pip install sympy\n",
    "- pip install jupyterlab\n",
    "- lib.py 自定義函數庫"
   ]
  },
  {
   "cell_type": "markdown",
   "id": "limiting-notification",
   "metadata": {},
   "source": [
    "程式一   \n",
    "例：【项目】 解直角三角形   \n",
    "题型1：正弦,餘弦,正切,餘切的特殊銳角的三角函數值    \n",
    "例题\t答案式样\t数型及范围\t评分标准\t时限  \n",
    "1. sin(45)- tan 60=  J(6/2) \t    \n",
    "2. sin(45)+ tan 60= 1/2+J(3) \t    \n",
    "\t  \n",
    "1.必須用最簡二次根式表示才得分,\t20秒  \n",
    " \t\t  \n",
    "命题方式参考\t所有三角函數的角必為   \n",
    "degree (0,30,45,60,90)   \n",
    "print(sy.sin(sy.pi/6))得到  1/2  "
   ]
  },
  {
   "cell_type": "code",
   "execution_count": 1,
   "id": "about-couple",
   "metadata": {},
   "outputs": [
    {
     "data": {
      "text/markdown": [
       "號|題|值|答|檢查|題型|提示\n",
       "--|--|--|--|--|--|--\n",
       "0|$$sin0^o * tan0^o$$|0||0|-1|\n",
       "1|$$tan^245^o\\div tan60^o$$|sqrt(3)/3||0|-1|\n",
       "2|$$sin60^o - tan30^o$$|sqrt(3)/6||0|-1|\n",
       "3|$$tan60^o * sin60^o$$|3/2||0|-1|\n",
       "4|$$sin^20^o + sin45^o$$|sqrt(2)/2||0|-1|\n",
       "5|$$sin^260^o * sin45^o$$|3*sqrt(2)/8||0|-1|\n",
       "6|$$tan0^o - cos60^o$$|-1/2||0|-1|\n",
       "7|$$cos45^o - sin30^o$$|-1/2 + sqrt(2)/2||0|-1|\n",
       "8|$$cos90^o * sin45^o$$|0||0|-1|\n",
       "9|$$cos90^o + sin60^o$$|sqrt(3)/2||0|-1|"
      ],
      "text/plain": [
       "<IPython.core.display.Markdown object>"
      ]
     },
     "metadata": {},
     "output_type": "display_data"
    }
   ],
   "source": [
    "import random                                     #亂數 \n",
    "import math                                       #math 內置數學函數\n",
    "import numpy as np                                #數字矩陣\n",
    "import sympy as sp                                #sympy 簡易別名 sp    \n",
    "from sympy.parsing.sympy_parser import parse_expr #文字字串, 解釋成, Sympy 運算式\n",
    "from IPython.display import Latex,HTML,Markdown                 #網頁顯示數學符號\n",
    "import json                                       #JSON 結構化資料\n",
    "import re\n",
    "import lib\n",
    "from lib import GetTE\n",
    "#sp.init_printing(\"mathjax\")                       #\n",
    "sp.init_printing()  \n",
    "def displayTable(NTE):\n",
    "    tablecontext=lib.NTE2MD(NTE)\n",
    "    display(Markdown(tablecontext)) \n",
    "    \n",
    "def sjstr(a,d,e):\n",
    "    triang_fnc=[\"\",\"sin\",\"cos\",\"tan\"]\n",
    "    str=triang_fnc[a]\n",
    "    if e==2:\n",
    "        str+=\"^2\"\n",
    "    ang_degree=[\"\",\"0^o\",\"30^o\",\"45^o\",\"60^o\",\"90^o\"]\n",
    "    return str+ang_degree[d]        \n",
    "\n",
    "def ang_expre(a,d,e):\n",
    "    ad=[sp.pi,sp.pi*0,sp.pi/6,sp.pi/4,sp.pi/3,sp.pi/2]\n",
    "    f=sp.S(1);\n",
    "    if a==1:\n",
    "        f=sp.sin(ad[d])\n",
    "    elif a==2:\n",
    "        f=sp.cos(ad[d])\n",
    "    elif a==3:\n",
    "        f=sp.tan(ad[d])\n",
    "    elif a==4:\n",
    "        f=sp.atan(ad[d])\n",
    "    if e==2:\n",
    "        f=f**2\n",
    "    return f\n",
    "\"\"\"\n",
    "例：【项目】 解直角三角形\n",
    "\"\"\"\n",
    "def Get_PF305_Expr(QizAmt):\n",
    "    NTE=[]\n",
    "    for i in range(0,QizAmt):\n",
    "        op=random.choice([\" + \",\" - \",\" * \",\" / \"])\n",
    "        e=random.choice([1,2])\n",
    "        a=random.choice([1,2,3])\n",
    "        b=random.choice([1,2,3])\n",
    "        d1=random.choice([1,2,3,4,5])\n",
    "        d2=random.choice([1,2,3,4,5])\n",
    "        \n",
    "        if a==3 and d1==5: d1=4\n",
    "        if b==3 and d2==5: d2=4\n",
    "        St= sjstr(a,d1,e)+ op+ sjstr(b,d2,1)\n",
    "        if op==\" / \": St= sjstr(a,d1,e)+ \"\\div \"+ sjstr(b,d2,1)\n",
    "        Val=sp.S(0)\n",
    "\n",
    "        if op==\" + \":\n",
    "            Val=ang_expre(a,d1,e) + ang_expre(b,d2,1)\n",
    "        elif op==\" - \":\n",
    "            Val=ang_expre(a,d1,e) - ang_expre(b,d2,1)\n",
    "        elif op==\" * \":\n",
    "            Val=ang_expre(a,d1,e) * ang_expre(b,d2,1)\n",
    "        elif op==\" / \":\n",
    "            Val=ang_expre(a,d1,e) / ang_expre(b,d2,1)\n",
    "           \n",
    "            \n",
    "        TE=GetTE(len(NTE),St,Val)\n",
    "        NTE.append(TE)    \n",
    "    return NTE\n",
    "if __name__==\"__main__\":\n",
    "    NTE=Get_PF305_Expr(10)\n",
    "    display(Markdown(lib.NTE2TBL(NTE)   ))   \n"
   ]
  },
  {
   "cell_type": "code",
   "execution_count": 3,
   "id": "negative-boston",
   "metadata": {},
   "outputs": [
    {
     "name": "stdout",
     "output_type": "stream",
     "text": [
      "第1題:\n"
     ]
    },
    {
     "data": {
      "text/latex": [
       " $$ tan0^o\\div cos45^o $$ "
      ],
      "text/plain": [
       "<IPython.core.display.Latex object>"
      ]
     },
     "metadata": {},
     "output_type": "display_data"
    },
    {
     "data": {
      "text/latex": [
       "標準答案: $ 0 $"
      ],
      "text/plain": [
       "<IPython.core.display.Latex object>"
      ]
     },
     "metadata": {},
     "output_type": "display_data"
    },
    {
     "name": "stdin",
     "output_type": "stream",
     "text": [
      "註 J(4) =2 用J() 表示開方 ,請作答: 0\n"
     ]
    },
    {
     "name": "stdout",
     "output_type": "stream",
     "text": [
      "答對!\n",
      "第2題:\n"
     ]
    },
    {
     "data": {
      "text/latex": [
       " $$ sin60^o - sin0^o $$ "
      ],
      "text/plain": [
       "<IPython.core.display.Latex object>"
      ]
     },
     "metadata": {},
     "output_type": "display_data"
    },
    {
     "data": {
      "text/latex": [
       "標準答案: $ sqrt(3)/2 $"
      ],
      "text/plain": [
       "<IPython.core.display.Latex object>"
      ]
     },
     "metadata": {},
     "output_type": "display_data"
    },
    {
     "name": "stdin",
     "output_type": "stream",
     "text": [
      "註 J(4) =2 用J() 表示開方 ,請作答: 0\n"
     ]
    },
    {
     "data": {
      "text/latex": [
       "答案錯誤, 標準答案: $ sqrt(3)/2 $"
      ],
      "text/plain": [
       "<IPython.core.display.Latex object>"
      ]
     },
     "metadata": {},
     "output_type": "display_data"
    },
    {
     "name": "stdout",
     "output_type": "stream",
     "text": [
      "第3題:\n"
     ]
    },
    {
     "data": {
      "text/latex": [
       " $$ sin^260^o - cos30^o $$ "
      ],
      "text/plain": [
       "<IPython.core.display.Latex object>"
      ]
     },
     "metadata": {},
     "output_type": "display_data"
    },
    {
     "data": {
      "text/latex": [
       "標準答案: $ 3/4 - sqrt(3)/2 $"
      ],
      "text/plain": [
       "<IPython.core.display.Latex object>"
      ]
     },
     "metadata": {},
     "output_type": "display_data"
    },
    {
     "name": "stdin",
     "output_type": "stream",
     "text": [
      "註 J(4) =2 用J() 表示開方 ,請作答: 0\n"
     ]
    },
    {
     "data": {
      "text/latex": [
       "答案錯誤, 標準答案: $ 3/4 - sqrt(3)/2 $"
      ],
      "text/plain": [
       "<IPython.core.display.Latex object>"
      ]
     },
     "metadata": {},
     "output_type": "display_data"
    },
    {
     "name": "stdout",
     "output_type": "stream",
     "text": [
      "第4題:\n"
     ]
    },
    {
     "data": {
      "text/latex": [
       " $$ tan^260^o - sin90^o $$ "
      ],
      "text/plain": [
       "<IPython.core.display.Latex object>"
      ]
     },
     "metadata": {},
     "output_type": "display_data"
    },
    {
     "data": {
      "text/latex": [
       "標準答案: $ 2 $"
      ],
      "text/plain": [
       "<IPython.core.display.Latex object>"
      ]
     },
     "metadata": {},
     "output_type": "display_data"
    },
    {
     "name": "stdin",
     "output_type": "stream",
     "text": [
      "註 J(4) =2 用J() 表示開方 ,請作答: 0\n"
     ]
    },
    {
     "data": {
      "text/latex": [
       "答案錯誤, 標準答案: $ 2 $"
      ],
      "text/plain": [
       "<IPython.core.display.Latex object>"
      ]
     },
     "metadata": {},
     "output_type": "display_data"
    },
    {
     "name": "stdout",
     "output_type": "stream",
     "text": [
      "總結: 共4題,得 1 分. \n"
     ]
    },
    {
     "data": {
      "text/markdown": [
       "|Qiz|Val|Ans|OK|\n",
       "|---|---|---|---|\n",
       "|$$tan0^o\\div cos45^o$$|0|0|1|\n",
       "|$$sin60^o - sin0^o$$|sqrt(3)/2|0|0|\n",
       "|$$sin^260^o - cos30^o$$|3/4 - sqrt(3)/2|0|0|\n",
       "|$$tan^260^o - sin90^o$$|2|0|0|\n"
      ],
      "text/plain": [
       "<IPython.core.display.Markdown object>"
      ]
     },
     "metadata": {},
     "output_type": "display_data"
    }
   ],
   "source": [
    "QizAmt=4\n",
    "Mark=0\n",
    "NTE=Get_PF305_Expr(QizAmt)\n",
    "i=0\n",
    "for TE in NTE:\n",
    "    i+=1 \n",
    "    St=TE[\"St\"]\n",
    "    Val=TE[\"Val\"]\n",
    "    print(f\"第{i}題:\")        \n",
    "    display(Latex(f\" $$ {St} $$ \" ))\n",
    "    display(Latex(f\"標準答案: $ {Val} $\"))\n",
    "    ans=input(\"註 J(4) =2 用J() 表示開方 ,請作答:\")  \n",
    "    TE[\"Ans\"]=ans\n",
    "    if parse_expr(ans)==Val:                   #比對答案:\n",
    "        print(\"答對!\")                              #答對加一分\n",
    "        Mark+=1\n",
    "        TE[\"OK\"]=1\n",
    "    else:                                      #不則\n",
    "        TE[\"OK\"]=0\n",
    "        display(Latex(f\"答案錯誤, 標準答案: $ {Val} $\"))\n",
    "\n",
    "print(f\"總結: 共{QizAmt}題,得 {Mark} 分. \")  #總結得分\n",
    "display(Markdown(lib.NTE2TBL(NTE)   ))   \n"
   ]
  },
  {
   "cell_type": "code",
   "execution_count": 14,
   "id": "variable-impression",
   "metadata": {},
   "outputs": [
    {
     "name": "stdout",
     "output_type": "stream",
     "text": [
      "end\n",
      " sin(pi)=\n"
     ]
    },
    {
     "data": {
      "image/png": "[encoded data removed]",
      "text/latex": [
       "$\\displaystyle 0$"
      ],
      "text/plain": [
       "0"
      ]
     },
     "metadata": {},
     "output_type": "display_data"
    },
    {
     "name": "stdout",
     "output_type": "stream",
     "text": [
      " sin(0)=\n"
     ]
    },
    {
     "data": {
      "image/png": "[encoded data removed]",
      "text/latex": [
       "$\\displaystyle 0$"
      ],
      "text/plain": [
       "0"
      ]
     },
     "metadata": {},
     "output_type": "display_data"
    },
    {
     "name": "stdout",
     "output_type": "stream",
     "text": [
      " sin(pi/6)=\n"
     ]
    },
    {
     "data": {
      "image/png": "[encoded data removed]",
      "text/latex": [
       "$\\displaystyle \\frac{1}{2}$"
      ],
      "text/plain": [
       "1/2"
      ]
     },
     "metadata": {},
     "output_type": "display_data"
    },
    {
     "name": "stdout",
     "output_type": "stream",
     "text": [
      " sin(pi/4)=\n"
     ]
    },
    {
     "data": {
      "image/png": "[encoded data removed]",
      "text/latex": [
       "$\\displaystyle \\frac{\\sqrt{2}}{2}$"
      ],
      "text/plain": [
       "√2\n",
       "──\n",
       "2 "
      ]
     },
     "metadata": {},
     "output_type": "display_data"
    },
    {
     "name": "stdout",
     "output_type": "stream",
     "text": [
      " sin(pi/3)=\n"
     ]
    },
    {
     "data": {
      "image/png": "[encoded data removed]",
      "text/latex": [
       "$\\displaystyle \\frac{\\sqrt{3}}{2}$"
      ],
      "text/plain": [
       "√3\n",
       "──\n",
       "2 "
      ]
     },
     "metadata": {},
     "output_type": "display_data"
    },
    {
     "name": "stdout",
     "output_type": "stream",
     "text": [
      " sin(pi/2)=\n"
     ]
    },
    {
     "data": {
      "image/png": "[encoded data removed]",
      "text/latex": [
       "$\\displaystyle 1$"
      ],
      "text/plain": [
       "1"
      ]
     },
     "metadata": {},
     "output_type": "display_data"
    },
    {
     "name": "stdout",
     "output_type": "stream",
     "text": [
      " cos(pi)=\n"
     ]
    },
    {
     "data": {
      "image/png": "[encoded data removed]",
      "text/latex": [
       "$\\displaystyle -1$"
      ],
      "text/plain": [
       "-1"
      ]
     },
     "metadata": {},
     "output_type": "display_data"
    },
    {
     "name": "stdout",
     "output_type": "stream",
     "text": [
      " cos(0)=\n"
     ]
    },
    {
     "data": {
      "image/png": "[encoded data removed]",
      "text/latex": [
       "$\\displaystyle 1$"
      ],
      "text/plain": [
       "1"
      ]
     },
     "metadata": {},
     "output_type": "display_data"
    },
    {
     "name": "stdout",
     "output_type": "stream",
     "text": [
      " cos(pi/6)=\n"
     ]
    },
    {
     "data": {
      "image/png": "[encoded data removed]",
      "text/latex": [
       "$\\displaystyle \\frac{\\sqrt{3}}{2}$"
      ],
      "text/plain": [
       "√3\n",
       "──\n",
       "2 "
      ]
     },
     "metadata": {},
     "output_type": "display_data"
    },
    {
     "name": "stdout",
     "output_type": "stream",
     "text": [
      " cos(pi/4)=\n"
     ]
    },
    {
     "data": {
      "image/png": "[encoded data removed]",
      "text/latex": [
       "$\\displaystyle \\frac{\\sqrt{2}}{2}$"
      ],
      "text/plain": [
       "√2\n",
       "──\n",
       "2 "
      ]
     },
     "metadata": {},
     "output_type": "display_data"
    },
    {
     "name": "stdout",
     "output_type": "stream",
     "text": [
      " cos(pi/3)=\n"
     ]
    },
    {
     "data": {
      "image/png": "[encoded data removed]",
      "text/latex": [
       "$\\displaystyle \\frac{1}{2}$"
      ],
      "text/plain": [
       "1/2"
      ]
     },
     "metadata": {},
     "output_type": "display_data"
    },
    {
     "name": "stdout",
     "output_type": "stream",
     "text": [
      " cos(pi/2)=\n"
     ]
    },
    {
     "data": {
      "image/png": "[encoded data removed]",
      "text/latex": [
       "$\\displaystyle 0$"
      ],
      "text/plain": [
       "0"
      ]
     },
     "metadata": {},
     "output_type": "display_data"
    },
    {
     "name": "stdout",
     "output_type": "stream",
     "text": [
      " tan(pi)=\n"
     ]
    },
    {
     "data": {
      "image/png": "[encoded data removed]",
      "text/latex": [
       "$\\displaystyle 0$"
      ],
      "text/plain": [
       "0"
      ]
     },
     "metadata": {},
     "output_type": "display_data"
    },
    {
     "name": "stdout",
     "output_type": "stream",
     "text": [
      " tan(0)=\n"
     ]
    },
    {
     "data": {
      "image/png": "[encoded data removed]",
      "text/latex": [
       "$\\displaystyle 0$"
      ],
      "text/plain": [
       "0"
      ]
     },
     "metadata": {},
     "output_type": "display_data"
    },
    {
     "name": "stdout",
     "output_type": "stream",
     "text": [
      " tan(pi/6)=\n"
     ]
    },
    {
     "data": {
      "image/png": "[encoded data removed]",
      "text/latex": [
       "$\\displaystyle \\frac{\\sqrt{3}}{3}$"
      ],
      "text/plain": [
       "√3\n",
       "──\n",
       "3 "
      ]
     },
     "metadata": {},
     "output_type": "display_data"
    },
    {
     "name": "stdout",
     "output_type": "stream",
     "text": [
      " tan(pi/4)=\n"
     ]
    },
    {
     "data": {
      "image/png": "[encoded data removed]",
      "text/latex": [
       "$\\displaystyle 1$"
      ],
      "text/plain": [
       "1"
      ]
     },
     "metadata": {},
     "output_type": "display_data"
    },
    {
     "name": "stdout",
     "output_type": "stream",
     "text": [
      " tan(pi/3)=\n"
     ]
    },
    {
     "data": {
      "image/png": "[encoded data removed]",
      "text/latex": [
       "$\\displaystyle \\sqrt{3}$"
      ],
      "text/plain": [
       "√3"
      ]
     },
     "metadata": {},
     "output_type": "display_data"
    },
    {
     "name": "stdout",
     "output_type": "stream",
     "text": [
      " tan(pi/2)=\n"
     ]
    },
    {
     "data": {
      "image/png": "[encoded data removed]",
      "text/latex": [
       "$\\displaystyle \\tilde{\\infty}$"
      ],
      "text/plain": [
       "zoo"
      ]
     },
     "metadata": {},
     "output_type": "display_data"
    },
    {
     "name": "stdout",
     "output_type": "stream",
     "text": [
      " atan(pi)=\n"
     ]
    },
    {
     "data": {
      "image/png": "[encoded data removed]",
      "text/latex": [
       "$\\displaystyle \\operatorname{atan}{\\left(\\pi \\right)}$"
      ],
      "text/plain": [
       "atan(π)"
      ]
     },
     "metadata": {},
     "output_type": "display_data"
    },
    {
     "name": "stdout",
     "output_type": "stream",
     "text": [
      " atan(0)=\n"
     ]
    },
    {
     "data": {
      "image/png": "[encoded data removed]",
      "text/latex": [
       "$\\displaystyle 0$"
      ],
      "text/plain": [
       "0"
      ]
     },
     "metadata": {},
     "output_type": "display_data"
    },
    {
     "name": "stdout",
     "output_type": "stream",
     "text": [
      " atan(pi/6)=\n"
     ]
    },
    {
     "data": {
      "image/png": "[encoded data removed]",
      "text/latex": [
       "$\\displaystyle \\operatorname{atan}{\\left(\\frac{\\pi}{6} \\right)}$"
      ],
      "text/plain": [
       "    ⎛π⎞\n",
       "atan⎜─⎟\n",
       "    ⎝6⎠"
      ]
     },
     "metadata": {},
     "output_type": "display_data"
    },
    {
     "name": "stdout",
     "output_type": "stream",
     "text": [
      " atan(pi/4)=\n"
     ]
    },
    {
     "data": {
      "image/png": "[encoded data removed]",
      "text/latex": [
       "$\\displaystyle \\operatorname{atan}{\\left(\\frac{\\pi}{4} \\right)}$"
      ],
      "text/plain": [
       "    ⎛π⎞\n",
       "atan⎜─⎟\n",
       "    ⎝4⎠"
      ]
     },
     "metadata": {},
     "output_type": "display_data"
    },
    {
     "name": "stdout",
     "output_type": "stream",
     "text": [
      " atan(pi/3)=\n"
     ]
    },
    {
     "data": {
      "image/png": "[encoded data removed]",
      "text/latex": [
       "$\\displaystyle \\operatorname{atan}{\\left(\\frac{\\pi}{3} \\right)}$"
      ],
      "text/plain": [
       "    ⎛π⎞\n",
       "atan⎜─⎟\n",
       "    ⎝3⎠"
      ]
     },
     "metadata": {},
     "output_type": "display_data"
    },
    {
     "name": "stdout",
     "output_type": "stream",
     "text": [
      " atan(pi/2)=\n"
     ]
    },
    {
     "data": {
      "image/png": "[encoded data removed]",
      "text/latex": [
       "$\\displaystyle \\operatorname{atan}{\\left(\\frac{\\pi}{2} \\right)}$"
      ],
      "text/plain": [
       "    ⎛π⎞\n",
       "atan⎜─⎟\n",
       "    ⎝2⎠"
      ]
     },
     "metadata": {},
     "output_type": "display_data"
    }
   ],
   "source": [
    "import random                                     #亂數 \n",
    "import math                                       #math 內置數學函數\n",
    "import numpy as np                                #數字矩陣\n",
    "import sympy as sp                                #sympy 簡易別名 sp    \n",
    "from sympy.parsing.sympy_parser import parse_expr #文字字串, 解釋成, Sympy 運算式\n",
    "from sympy.plotting import plot                   #繪圖表\n",
    "from IPython.display import Latex,HTML                 #網頁顯示數學符號\n",
    "import json                                       #JSON 結構化資料\n",
    "import re\n",
    "sp.init_printing(\"mathjax\")                       #sp.init_printing()  168 \n",
    "print(\"end\")\n",
    "def sjstr(a,d,e):\n",
    "    triang_fnc=[\"\",\"sin\",\"cos\",\"tan\"]\n",
    "    str=triang_fnc[a]\n",
    "    if e==2:\n",
    "        str+=\"^2\"\n",
    "    ang_degree=[\"\",\"0^o\",\"30^o\",\"45^o\",\"60^o\",\"90^o\"]\n",
    "    return str+ang_degree[d]        \n",
    "\n",
    "def ang_expre(a,d,e):\n",
    "    ad=[sp.pi,sp.pi*0,sp.pi/6,sp.pi/4,sp.pi/3,sp.pi/2]\n",
    "    f=sp.S(1);\n",
    "    if a==1:\n",
    "        f=sp.sin(ad[d])\n",
    "    elif a==2:\n",
    "        f=sp.cos(ad[d])\n",
    "    elif a==3:\n",
    "        f=sp.tan(ad[d])\n",
    "    elif a==4:\n",
    "        f=sp.atan(ad[d])\n",
    "    if e==2:\n",
    "        f=f**2\n",
    "    return f\n",
    "\n",
    "for a in [\"sin\",\"cos\",\"tan\",\"atan\"]:\n",
    "    for b in [sp.pi,sp.pi*0,sp.pi/6,sp.pi/4,sp.pi/3,sp.pi/2]:\n",
    "        f=sp.S(1);\n",
    "        if a==\"sin\":\n",
    "            f=sp.sin(b)\n",
    "        elif a==\"cos\":\n",
    "            f=sp.cos(b)\n",
    "        elif a==\"tan\":\n",
    "            f=sp.tan(b)\n",
    "        elif a==\"atan\":\n",
    "            f=sp.atan(b)\n",
    "        print(f\" {a}({b})=\")\n",
    "        display(f)\n",
    "    \n",
    "    #display(sp.sin(sp.pi/4)**2 + sp.tan(sp.pi/3) )\n",
    "    #display(Latex(r\"$sin^2 30^o + tan 60^o$\"))\n",
    "    #display(sp.sin(sp.pi/4) * sp.tan(sp.pi/3) )"
   ]
  }
 ],
 "metadata": {
  "kernelspec": {
   "display_name": "Python 3",
   "language": "python",
   "name": "python3"
  },
  "language_info": {
   "codemirror_mode": {
    "name": "ipython",
    "version": 3
   },
   "file_extension": ".py",
   "mimetype": "text/x-python",
   "name": "python",
   "nbconvert_exporter": "python",
   "pygments_lexer": "ipython3",
   "version": "3.9.9"
  }
 },
 "nbformat": 4,
 "nbformat_minor": 5
}

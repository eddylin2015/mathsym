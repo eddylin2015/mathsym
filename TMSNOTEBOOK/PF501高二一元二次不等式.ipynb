{
 "cells": [
  {
   "cell_type": "markdown",
   "id": "downtown-definition",
   "metadata": {},
   "source": [
    "# 電腦數學符號運算"
   ]
  },
  {
   "cell_type": "markdown",
   "id": "primary-offset",
   "metadata": {},
   "source": [
    "### 第3節. 一元一次不等式實作\n",
    "安裝 Python 3.8.7\n",
    "- pip install numpy\n",
    "- pip install sympy\n",
    "- pip install jupyterlab\n",
    "- lib.py \n",
    "fx=parse_expr(\"2*x-3 > 2\" , evaluate=False)\n",
    "solve_univariate_inequality(fx ,x)  "
   ]
  },
  {
   "cell_type": "markdown",
   "id": "accredited-smart",
   "metadata": {},
   "source": [
    "程式一   \n",
    "一元一次不等式 ax + b >= c 求解\n",
    "\n",
    "題目: 1𝑥+0<−9   \n",
    "作答: x<-9   \n",
    "電腦答案: (-oo < x) & (x < -9)  \n"
   ]
  },
  {
   "cell_type": "code",
   "execution_count": 8,
   "id": "finnish-danish",
   "metadata": {},
   "outputs": [
    {
     "data": {
      "image/png": "[encoded data removed]",
      "text/latex": [
       "$\\displaystyle \\left(2 x - 4\\right) \\left(3 x - 6\\right) > 0$"
      ],
      "text/plain": [
       "(2⋅x - 4)⋅(3⋅x - 6) > 0"
      ]
     },
     "metadata": {},
     "output_type": "display_data"
    },
    {
     "data": {
      "image/png": "[encoded data removed]",
      "text/latex": [
       "$\\displaystyle x > -\\infty \\wedge x < \\infty \\wedge x \\neq 2$"
      ],
      "text/plain": [
       "x > -∞ ∧ x < ∞ ∧ x ≠ 2"
      ]
     },
     "metadata": {},
     "output_type": "display_data"
    }
   ],
   "source": [
    "import re\n",
    "import random                                     #亂數 \n",
    "import sympy as sp                                #sympy 簡易別名 sp    \n",
    "import numpy as np\n",
    "import lib\n",
    "from lib import GetTE\n",
    "from sympy.parsing.sympy_parser import parse_expr #文字字串, 解釋成, Sympy 運算式\n",
    "from sympy.solvers.inequalities import solve_univariate_inequality\n",
    "sp.init_printing(\"mathjax\")                       #sp.init_printing()  168 \n",
    "from IPython.display import Latex,HTML,Markdown \n",
    "\n",
    "x=sp.symbols('x')\n",
    "\n",
    "St=(2*x-4)*(3*x-6) > 0\n",
    "\n",
    "Val=solve_univariate_inequality(St,x)\n",
    "\n",
    "display(St)\n",
    "display(Val)\n"
   ]
  },
  {
   "cell_type": "code",
   "execution_count": 7,
   "id": "wicked-edition",
   "metadata": {},
   "outputs": [
    {
     "name": "stdout",
     "output_type": "stream",
     "text": [
      "{'St': (2*x - 4)*(3*x - 6) > 0, 'Val': (x > -oo) & (x < oo) & Ne(x, 2), 'OK': 0, 'Ans': ''}\n",
      "{'St': (2*x - 4)*(3*x - 6) > 0, 'Val': (x > -oo) & (x < oo) & Ne(x, 2), 'OK': 1, 'Ans': 'x !=  2'}\n"
     ]
    }
   ],
   "source": [
    "import re\n",
    "import random                                     #亂數 \n",
    "import sympy as sp                                #sympy 簡易別名 sp    \n",
    "import numpy as np\n",
    "import lib\n",
    "from lib import GetTE\n",
    "from sympy.parsing.sympy_parser import parse_expr #文字字串, 解釋成, Sympy 運算式\n",
    "from sympy.solvers.inequalities import solve_univariate_inequality\n",
    "sp.init_printing(\"mathjax\")                       #sp.init_printing()  168 \n",
    "from IPython.display import Latex,HTML,Markdown \n",
    "\n",
    "x=sp.symbols('x')\n",
    "fx=(2*x-4)*(3*x-6) > 0\n",
    "TE={}\n",
    "TE[\"St\"]=fx\n",
    "Val=solve_univariate_inequality(fx,x)\n",
    "TE[\"Val\"]=Val\n",
    "TE[\"OK\"]=0\n",
    "TE[\"Ans\"]=\"\"\n",
    "print(TE)\n",
    "\n",
    "def Text2Inequ(ans):\n",
    "      \n",
    "    ans = re.sub(r\",\", r\"|\", ans)\n",
    "    r3=re.findall('x[ ]*[≠][ ]*[-]?\\d+[ ]*[/]?[ ]*\\d*', ans)\n",
    "    for l_ in r3:\n",
    "        s_=\"Ne(%s)\" % l_.replace('≠',\",\")\n",
    "        ans=ans.replace(l_,s_)\n",
    "    r3=re.findall('x[ ]*[!][=][ ]*[-]?\\d+[ ]*[/]?[ ]*\\d*', ans)\n",
    "    for l_ in r3:\n",
    "        s_=\"Ne(%s)\" % l_.replace('!=',\",\")\n",
    "        ans=ans.replace(l_,s_)           \n",
    "    ans = re.sub(r\"[<][ ]*x[ ]*[<]\", r\"<x & x<\", ans)\n",
    "    ans = re.sub(r\"[>][ ]*x[ ]*[>]\", r\">x & x>\", ans)\n",
    "    if ans.strip() == \"\": return \"(-oo < x) & (x < oo)\"\n",
    "    if ans.strip() == \"\": return \"-3.1415926\"\n",
    "    ans = re.sub(r\"X\", r\"x\", ans)\n",
    "    ans = re.sub(r\"(\\d)x\", r\"\\1*x\", ans)\n",
    "    ans = ans = re.sub(r\"[)][(]\", r\")*(\", re.sub(r\"(\\d)x\", r\"\\1*x\", ans))\n",
    "    ans=re.sub(r\"x[(]\", r\"x*(\", ans)\n",
    "    ans = re.sub(r\"x[ ]*\", r\"x\", ans)\n",
    "    ans = ans.replace(r\"x^\", r\"x**\")\n",
    "    ans = re.sub(r\"Y\", r\"y\", ans)\n",
    "    ans = re.sub(r\"(\\d)y\", r\"\\1*y\", ans)\n",
    "    ans = ans = re.sub(r\"[)][(]\", r\")*(\", re.sub(r\"(\\d)y\", r\"\\1*y\", ans))\n",
    "    ans=re.sub(r\"y[(]\", r\"y*(\", ans)\n",
    "    ans = re.sub(r\"y[ ]*\", r\"y\", ans)\n",
    "    ans = ans.replace(r\"y^\", r\"y**\")   \n",
    "    ans=re.sub(r\"(\\d)[(]\", r\"\\1*(\", ans)\n",
    "    ans=re.sub(r\"(\\d)J[(]\", r\"\\1*J(\", ans)\n",
    "    ans = ans.replace(r\"J(\", r\"sqrt(\")\n",
    "    return ans\n",
    "\n",
    "def Text2Inequ(ans):\n",
    "    if ans == \"\" or  ans == \"R\" or ans == \"r\": return \"(-oo < x) & (x < oo)\"  \n",
    "    ans = re.sub(r\",\", r\"|\", ans)\n",
    "    \n",
    "    r3=re.findall('x[ ]*[≠][ ]*[-]?\\d+[ ]*[/]?[ ]*\\d*', ans)\n",
    "    for l_ in r3:\n",
    "        s_=\"Ne(%s)\" % l_.replace('≠',\",\")\n",
    "        ans=ans.replace(l_,s_)\n",
    "    r3=re.findall('x[ ]*[!][=][ ]*[-]?\\d+[ ]*[/]?[ ]*\\d*', ans)\n",
    "    for l_ in r3:\n",
    "        s_=\"Ne(%s)\" % l_.replace('!=',\",\")\n",
    "        ans=ans.replace(l_,s_)\n",
    "    \n",
    "    ans = re.sub(r\"[<][ ]*x[ ]*[<]\", r\"<x & x<\", ans)\n",
    "    ans = re.sub(r\"[>][ ]*x[ ]*[>]\", r\">x & x>\", ans)\n",
    "    if ans.strip() == \"\": return \"(-oo < x) & (x < oo)\"\n",
    "    if ans.strip() == \"\": return \"-3.1415926\"\n",
    "    \n",
    "    ans = re.sub(r\"X\", r\"x\", ans)\n",
    "    ans = re.sub(r\"(\\d)x\", r\"\\1*x\", ans)\n",
    "    ans = ans = re.sub(r\"[)][(]\", r\")*(\", re.sub(r\"(\\d)x\", r\"\\1*x\", ans))\n",
    "    ans=re.sub(r\"x[(]\", r\"x*(\", ans)\n",
    "    ans = re.sub(r\"x[ ]*\", r\"x\", ans)\n",
    "    ans = ans.replace(r\"x^\", r\"x**\")\n",
    "\n",
    "    ans = re.sub(r\"Y\", r\"y\", ans)\n",
    "    ans = re.sub(r\"(\\d)y\", r\"\\1*y\", ans)\n",
    "    ans = ans = re.sub(r\"[)][(]\", r\")*(\", re.sub(r\"(\\d)y\", r\"\\1*y\", ans))\n",
    "    ans=re.sub(r\"y[(]\", r\"y*(\", ans)\n",
    "    ans = re.sub(r\"y[ ]*\", r\"y\", ans)\n",
    "    ans = ans.replace(r\"y^\", r\"y**\")\n",
    "    \n",
    "    ans=re.sub(r\"(\\d)[(]\", r\"\\1*(\", ans)\n",
    "    ans=re.sub(r\"(\\d)J[(]\", r\"\\1*J(\", ans)\n",
    "    ans = ans.replace(r\"J(\", r\"sqrt(\")\n",
    "    return ans\n",
    "\n",
    "def Put_Expr_InequV1(TE):\n",
    "    x = sp.symbols('x')\n",
    "    Val = TE[\"Val\"]\n",
    "    Flag = False\n",
    "    ans = TE[\"Ans\"]\n",
    "    ans = Text2Inequ(TE[\"Ans\"])\n",
    "    a1 = ans.split(\"|\")\n",
    "    a2 = ans.split(\"&\")\n",
    "    try:\n",
    "        if len(a1) > 1:\n",
    "            a_ = []\n",
    "            for aa_ in a1:\n",
    "                a_.append(sp.solve(aa_))\n",
    "            Flag = (a_[0] | a_[1]) == Val\n",
    "        elif len(a2) > 1:\n",
    "            a_ = []\n",
    "            for aa_ in a2:\n",
    "                a_.append(sp.parse_expr(aa_))\n",
    "            Flag = reduce_rational_inequalities([[a_[0], a_[1]]], x) == Val\n",
    "        elif ans == '空集' or ans == '0'  or ans=='False' or ans==\"false\":\n",
    "            if str(Val) == \"False\":\n",
    "                Flag = True\n",
    "        else:\n",
    "            Flag = sp.solve(ans) == Val\n",
    "        if Flag:  # 比對答案:\n",
    "            TE[\"OK\"] = 1\n",
    "        else:  # 不則\n",
    "            TE[\"OK\"] = 0\n",
    "    except:\n",
    "        pass\n",
    "\n",
    "\n",
    "ans=\"x ≠  2\"   # \"Ne(x,2)\"\n",
    "ans=\"x !=  2\"  # \"Ne(x,2)\"\n",
    "TE[\"Ans\"]=ans\n",
    "Put_Expr_InequV1(TE)\n",
    "print(TE)\n"
   ]
  },
  {
   "cell_type": "code",
   "execution_count": 5,
   "id": "informal-healthcare",
   "metadata": {},
   "outputs": [
    {
     "data": {
      "text/markdown": [
       "號|題|值|答|檢查|題型|提示\n",
       "--|--|--|--|--|--|--\n",
       "0|$$\\frac{\\left(x - 1\\right) \\left(x + 3\\right)}{x \\left(x - 2\\right)} > 0$$|((2 < x) & (x < sqrt(6) + 3)) | ((0 < x) & (x < 3 - sqrt(6)))||0|-1||0\n",
       "1|$$\\frac{x - 2}{x - 4} < 0$$|(18/5 < x) & (x < 4)||0|-1||0\n",
       "2|$$\\frac{\\left(x - 1\\right) \\left(x + 3\\right)}{\\left(x - 3\\right) \\left(x + 1\\right)} > 0$$|((-1 < x) & (x < 3 - 2*sqrt(3))) | ((3 < x) & (x < 3 + 2*sqrt(3)))||0|-1||0\n",
       "3|$$\\frac{x \\left(x - 1\\right)}{\\left(x - 2\\right) \\left(x + 2\\right)} > 0$$|((-oo < x) & (x < -2)) | ((2 < x) & (x < oo)) | ((x < 1/4 + sqrt(33)/4) & (1/4 - sqrt(33)/4 < x))||0|-1||0\n",
       "4|$$\\frac{\\left(x - 2\\right) \\left(x + 1\\right)}{\\left(x - 1\\right) \\left(x + 2\\right)} > 0$$|((x < 1) & (-1 + sqrt(3) < x)) | ((x < -2) & (-sqrt(3) - 1 < x))||0|-1||0\n",
       "5|$$\\frac{x \\left(x + 1\\right)}{\\left(x - 1\\right) \\left(x + 3\\right)} < 0$$|((-3 < x) & (x < 1)) | ((3 < x) & (x < oo))||0|-1||0\n",
       "6|$$\\frac{\\left(x - 2\\right) \\left(x - 1\\right)}{\\left(x - 3\\right) \\left(x + 3\\right)} > 0$$|((3 < x) & (x < -3/4 + sqrt(241)/4)) | ((x < -3) & (-sqrt(241)/4 - 3/4 < x))||0|-1||0\n",
       "7|$$\\frac{x + 3}{x + 2} > 0$$|(-2 < x) & (x < -1)||0|-1||0\n",
       "8|$$\\frac{x \\left(x - 2\\right)}{\\left(x - 1\\right) \\left(x + 3\\right)} < 0$$|((1 < x) & (x < oo)) | ((-oo < x) & (x < -sqrt(34)/2 - 2)) | ((-3 < x) & (x < -2 + sqrt(34)/2))||0|-1||0\n",
       "9|$$\\frac{\\left(x - 4\\right) \\left(x - 3\\right)}{\\left(x - 1\\right) \\left(x + 3\\right)} < 0$$|((-3 < x) & (x < -1/5)) | ((0 < x) & (x < 1))||0|-1||0"
      ],
      "text/plain": [
       "<IPython.core.display.Markdown object>"
      ]
     },
     "metadata": {},
     "output_type": "display_data"
    }
   ],
   "source": [
    "import random                                     #亂數 \n",
    "import sympy as sp                                #sympy 簡易別名 sp    \n",
    "import numpy as np\n",
    "import lib\n",
    "from lib import GetTE\n",
    "from sympy.parsing.sympy_parser import parse_expr #文字字串, 解釋成, Sympy 運算式\n",
    "from sympy.solvers.inequalities import solve_univariate_inequality\n",
    "sp.init_printing(\"mathjax\")                       #sp.init_printing()  168 \n",
    "from IPython.display import Latex,HTML,Markdown                 #網頁顯示數學符號\n",
    "\"\"\"程式一\n",
    "一元一次不等式 ax + b >= c 求解\n",
    "\"\"\"\n",
    "\n",
    "def Get_PF501_Expr(QN,Tx=-1):\n",
    "    x=sp.symbols('x')\n",
    "    NTE=[]\n",
    "    for i in range(0,QN):\n",
    "        ai=np.random.choice(range(-4,4),12)\n",
    "        if Tx==0:\n",
    "            op=random.choice([\">\",\"<\"])\n",
    "            express_str=f\" ({ai[0]}*x + {ai[1]}) * ({ai[2]}*x + {ai[3]}) * ({ai[4]}*x + {ai[5]}) {op} 0 \"       # f(x)= ax + b > c\n",
    "            fx=parse_expr(express_str, evaluate=False) #字串解釋為可運算式子 expression \n",
    "            St=fx\n",
    "            Val=solve_univariate_inequality(fx,x)      #solve_univariate_inequality 解不等式   \n",
    "        elif Tx==1:\n",
    "            op=random.choice([\">\",\"<\"])\n",
    "            express_str=f\" ({ai[0]}*x + {ai[1]}) * ({ai[2]}*x + {ai[3]}) * ({ai[4]}*x + {ai[5]}) * ({ai[6]}*x + {ai[7]}) {op} 0 \"       # f(x)= ax + b > c\n",
    "            fx=parse_expr(express_str, evaluate=False) #字串解釋為可運算式子 expression \n",
    "            St=fx\n",
    "            Val=solve_univariate_inequality(fx,x)      #solve_univariate_inequality 解不等式   \n",
    "        elif Tx==2:\n",
    "            op=random.choice([\">\",\"<\"])\n",
    "            express_str=f\" ((x + {ai[0]})*( x + {ai[1]}) ) / ( (x+ {ai[2]})*(x + {ai[3]})) \"       # f(x)= ax + b > c\n",
    "            fx=parse_expr(express_str, evaluate=True) #字串解釋為可運算式子 expression \n",
    "            St=fx #.apart() \n",
    "            if op==\">\":\n",
    "                St=St>0\n",
    "                Val=solve_univariate_inequality(fx > 0, x)      #solve_univariate_inequality 解不等式   \n",
    "            else:\n",
    "                St=St<0\n",
    "                Val=solve_univariate_inequality(fx < 0, x)      #solve_univariate_inequality 解不等式   \n",
    "                \n",
    "        elif Tx==3:\n",
    "            op=random.choice([\">\",\"<\"])\n",
    "            express_str=f\" ((x + {ai[0]})*( x + {ai[1]}) ) / ( (x+ {ai[2]})*(x + {ai[3]})) \"       # f(x)= ax + b > c\n",
    "            fx=parse_expr(express_str, evaluate=True) #字串解釋為可運算式子 expression \n",
    "            St=fx #.apart() \n",
    "            if op==\">\":\n",
    "                St=St>0\n",
    "                Val=solve_univariate_inequality(fx > ai[4], x)      #solve_univariate_inequality 解不等式   \n",
    "            else:\n",
    "                St=St<0\n",
    "                Val=solve_univariate_inequality(fx <  ai[4], x)      #solve_univariate_inequality 解不等式   \n",
    "        else:\n",
    "            op=random.choice([\">\",\"<\"])\n",
    "            express_str=f\" {ai[0]}*x**2 + {ai[1]} {op} 0 \"       # f(x)= ax + b > c\n",
    "            fx=parse_expr(express_str, evaluate=False) #字串解釋為可運算式子 expression \n",
    "            St=fx\n",
    "            Val=solve_univariate_inequality(fx,x)      #solve_univariate_inequality 解不等式   \n",
    "        \n",
    "        TE=GetTE(i,sp.latex(St),Val)        \n",
    "        NTE.append(TE)    \n",
    "    return NTE\n",
    "\n",
    "if __name__ ==\"__main__\":\n",
    "    NTE=Get_PF501_Expr(10,3)\n",
    "    display(Markdown(lib.NTE2TBL(NTE)  ))"
   ]
  },
  {
   "cell_type": "code",
   "execution_count": null,
   "id": "superb-scroll",
   "metadata": {},
   "outputs": [],
   "source": [
    "if __name__==\"__main__\" :\n",
    "    NTE=Get_PF501_Expr(4)\n",
    "    for i,TE in enumerate(NTE):\n",
    "        St=TE[\"St\"]\n",
    "        Val=TE[\"Val\"]\n",
    "        print(f\"第{i}題:\")        \n",
    "        display(Latex(f\" $$ {St} $$ \" ))\n",
    "        display(Latex(f\"標準答案:  {Val} \"))\n",
    "        TE[\"Ans\"]=input(\"請作答:\")  #\"x <= -1\" #\n",
    "        if Put_PF501_Expr(TE):                   #比對答案:\n",
    "            print(\"答對!\")                              #答對加一分\n",
    "        else:                                      #不則\n",
    "            display(Latex(f\"答案錯誤, 標準答案:  {Val} \"))\n",
    "    display(Markdown(lib.NTE2TBL(NTE)  ))    "
   ]
  },
  {
   "cell_type": "markdown",
   "id": "alpine-hardware",
   "metadata": {},
   "source": [
    "## 高一, 解一元二次不等式"
   ]
  },
  {
   "cell_type": "code",
   "execution_count": 4,
   "id": "assisted-engineer",
   "metadata": {},
   "outputs": [],
   "source": [
    "import random                                     #亂數 \n",
    "import sympy as sp                                #sympy 簡易別名 sp    \n",
    "import lib\n",
    "from lib import GetTE\n",
    "from sympy.parsing.sympy_parser import parse_expr #文字字串, 解釋成, Sympy 運算式\n",
    "from sympy.solvers.inequalities import solve_univariate_inequality\n",
    "sp.init_printing(\"mathjax\")                       #sp.init_printing()  168 \n",
    "from IPython.display import Latex,HTML,Markdown                 #網頁顯示數學符號"
   ]
  },
  {
   "cell_type": "code",
   "execution_count": 6,
   "id": "essential-arnold",
   "metadata": {},
   "outputs": [
    {
     "data": {
      "image/png": "[encoded data removed]",
      "text/latex": [
       "$\\displaystyle \\left(x + 1\\right) \\left(2 x - 1\\right) < 0$"
      ],
      "text/plain": [
       "(x + 1)⋅(2⋅x - 1) < 0"
      ]
     },
     "metadata": {},
     "output_type": "display_data"
    },
    {
     "data": {
      "image/png": "[encoded data removed]",
      "text/latex": [
       "$\\displaystyle -1 < x \\wedge x < \\frac{1}{2}$"
      ],
      "text/plain": [
       "-1 < x ∧ x < 1/2"
      ]
     },
     "metadata": {},
     "output_type": "display_data"
    },
    {
     "data": {
      "image/png": "[encoded data removed]",
      "text/latex": [
       "$\\displaystyle \\left(x + 3\\right) \\left(x - 2\\right) > 0$"
      ],
      "text/plain": [
       "(x + 3)⋅(x - 2) > 0"
      ]
     },
     "metadata": {},
     "output_type": "display_data"
    },
    {
     "data": {
      "image/png": "[encoded data removed]",
      "text/latex": [
       "$\\displaystyle \\left(-\\infty < x \\wedge x < -3\\right) \\vee \\left(2 < x \\wedge x < \\infty\\right)$"
      ],
      "text/plain": [
       "(-∞ < x ∧ x < -3) ∨ (2 < x ∧ x < ∞)"
      ]
     },
     "metadata": {},
     "output_type": "display_data"
    }
   ],
   "source": [
    "x=sp.Symbol('x')\n",
    "express_str=f\" (x +1)*(2*x-1) < 0\"       # f(x)= ax + b > c\n",
    "St=parse_expr(express_str, evaluate=False) #字串解釋為可運算式子 expression \n",
    "Val=solve_univariate_inequality(St,x)      #solve_univariate_inequality 解不等式  \n",
    "display(St)\n",
    "display(Val)\n",
    "express_str=f\" (x +3) *(x-2) > 0\"       # f(x)= ax + b > c\n",
    "St=parse_expr(express_str, evaluate=False) #字串解釋為可運算式子 expression \n",
    "Val=solve_univariate_inequality(St,x)      #solve_univariate_inequality 解不等式  \n",
    "display(St)\n",
    "display(Val)"
   ]
  },
  {
   "cell_type": "code",
   "execution_count": 17,
   "id": "corresponding-minimum",
   "metadata": {},
   "outputs": [
    {
     "data": {
      "image/png": "[encoded data removed]",
      "text/latex": [
       "$\\displaystyle x^{2} + 5 > 0$"
      ],
      "text/plain": [
       " 2        \n",
       "x  + 5 > 0"
      ]
     },
     "metadata": {},
     "output_type": "display_data"
    },
    {
     "data": {
      "image/png": "[encoded data removed]",
      "text/latex": [
       "$\\displaystyle -\\infty < x \\wedge x < \\infty$"
      ],
      "text/plain": [
       "-∞ < x ∧ x < ∞"
      ]
     },
     "metadata": {},
     "output_type": "display_data"
    },
    {
     "data": {
      "image/png": "[encoded data removed]",
      "text/latex": [
       "$\\displaystyle 3 x^{2} - 1 < 0$"
      ],
      "text/plain": [
       "   2        \n",
       "3⋅x  - 1 < 0"
      ]
     },
     "metadata": {},
     "output_type": "display_data"
    },
    {
     "data": {
      "image/png": "[encoded data removed]",
      "text/latex": [
       "$\\displaystyle - \\frac{\\sqrt{3}}{3} < x \\wedge x < \\frac{\\sqrt{3}}{3}$"
      ],
      "text/plain": [
       "-√3            √3\n",
       "──── < x ∧ x < ──\n",
       " 3             3 "
      ]
     },
     "metadata": {},
     "output_type": "display_data"
    }
   ],
   "source": [
    "x=sp.Symbol('x')\n",
    "express_str=f\" x**2+5 > 0\"       # f(x)= ax + b > c\n",
    "fx=parse_expr(express_str, evaluate=False) #字串解釋為可運算式子 expression \n",
    "St=fx\n",
    "Val=solve_univariate_inequality(fx,x)      #solve_univariate_inequality 解不等式  \n",
    "display(St)\n",
    "display(Val)\n",
    "express_str=f\"3*x**2-1 < 0\"       # f(x)= ax + b > c\n",
    "fx=parse_expr(express_str, evaluate=False) #字串解釋為可運算式子 expression \n",
    "St=fx\n",
    "Val=solve_univariate_inequality(fx,x)      #solve_univariate_inequality 解不等式  \n",
    "display(St)\n",
    "display(Val)"
   ]
  },
  {
   "cell_type": "code",
   "execution_count": 7,
   "id": "delayed-remedy",
   "metadata": {},
   "outputs": [
    {
     "data": {
      "image/png": "[encoded data removed]",
      "text/latex": [
       "$\\displaystyle 2 x^{2} + 7 x + 3 < 0$"
      ],
      "text/plain": [
       "   2              \n",
       "2⋅x  + 7⋅x + 3 < 0"
      ]
     },
     "metadata": {},
     "output_type": "display_data"
    },
    {
     "data": {
      "image/png": "[encoded data removed]",
      "text/latex": [
       "$\\displaystyle -3 < x \\wedge x < - \\frac{1}{2}$"
      ],
      "text/plain": [
       "-3 < x ∧ x < -1/2"
      ]
     },
     "metadata": {},
     "output_type": "display_data"
    }
   ],
   "source": [
    "x=sp.Symbol('x')\n",
    "express_str=f\" 2*x**2+ 7*x+3<0\"       # f(x)= ax + b > c\n",
    "fx=parse_expr(express_str, evaluate=False) #字串解釋為可運算式子 expression \n",
    "St=fx\n",
    "Val=solve_univariate_inequality(fx,x)      #solve_univariate_inequality 解不等式  \n",
    "display(St)\n",
    "display(Val)"
   ]
  },
  {
   "cell_type": "code",
   "execution_count": 8,
   "id": "complimentary-watson",
   "metadata": {},
   "outputs": [
    {
     "data": {
      "image/png": "[encoded data removed]",
      "text/latex": [
       "$\\displaystyle 2 x^{2} + x - 2 < 0$"
      ],
      "text/plain": [
       "   2            \n",
       "2⋅x  + x - 2 < 0"
      ]
     },
     "metadata": {},
     "output_type": "display_data"
    },
    {
     "data": {
      "image/png": "[encoded data removed]",
      "text/latex": [
       "$\\displaystyle x < - \\frac{1}{4} + \\frac{\\sqrt{17}}{4} \\wedge - \\frac{\\sqrt{17}}{4} - \\frac{1}{4} < x$"
      ],
      "text/plain": [
       "      1   √17     √17   1    \n",
       "x < - ─ + ─── ∧ - ─── - ─ < x\n",
       "      4    4       4    4    "
      ]
     },
     "metadata": {},
     "output_type": "display_data"
    }
   ],
   "source": [
    "x=sp.Symbol('x')\n",
    "express_str=f\" 2*x**2+ x -2<0\"       # f(x)= ax + b > c\n",
    "fx=parse_expr(express_str, evaluate=False) #字串解釋為可運算式子 expression \n",
    "St=fx\n",
    "Val=solve_univariate_inequality(fx,x)      #solve_univariate_inequality 解不等式  \n",
    "display(St)\n",
    "display(Val)"
   ]
  },
  {
   "cell_type": "markdown",
   "id": "whole-studio",
   "metadata": {},
   "source": [
    "## 高二, 高二次不等式"
   ]
  },
  {
   "cell_type": "code",
   "execution_count": 9,
   "id": "instrumental-blind",
   "metadata": {},
   "outputs": [
    {
     "data": {
      "image/png": "[encoded data removed]",
      "text/latex": [
       "$\\displaystyle \\left(x + 1\\right) \\left(x + 2\\right) \\left(2 x - 1\\right) > 0$"
      ],
      "text/plain": [
       "(x + 1)⋅(x + 2)⋅(2⋅x - 1) > 0"
      ]
     },
     "metadata": {},
     "output_type": "display_data"
    },
    {
     "data": {
      "image/png": "[encoded data removed]",
      "text/latex": [
       "$\\displaystyle \\left(-2 < x \\wedge x < -1\\right) \\vee \\left(\\frac{1}{2} < x \\wedge x < \\infty\\right)$"
      ],
      "text/plain": [
       "(-2 < x ∧ x < -1) ∨ (1/2 < x ∧ x < ∞)"
      ]
     },
     "metadata": {},
     "output_type": "display_data"
    }
   ],
   "source": [
    "x=sp.Symbol('x')\n",
    "express_str=f\" (x+1)*(x+2)*(2*x-1)>0\"       # f(x)= ax + b > c\n",
    "fx=parse_expr(express_str, evaluate=False) #字串解釋為可運算式子 expression \n",
    "St=fx\n",
    "Val=solve_univariate_inequality(fx,x)      #solve_univariate_inequality 解不等式  \n",
    "display(St)\n",
    "display(Val)"
   ]
  },
  {
   "cell_type": "code",
   "execution_count": 10,
   "id": "little-purple",
   "metadata": {},
   "outputs": [
    {
     "data": {
      "image/png": "[encoded data removed]",
      "text/latex": [
       "$\\displaystyle \\left(x - 1\\right)^{2} \\left(x - 2\\right)^{2} \\left(x - 3\\right)^{2} \\left(x - 4\\right)^{5} > 0$"
      ],
      "text/plain": [
       "       2        2        2        5    \n",
       "(x - 1) ⋅(x - 2) ⋅(x - 3) ⋅(x - 4)  > 0"
      ]
     },
     "metadata": {},
     "output_type": "display_data"
    },
    {
     "data": {
      "image/png": "[encoded data removed]",
      "text/latex": [
       "$\\displaystyle 4 < x \\wedge x < \\infty$"
      ],
      "text/plain": [
       "4 < x ∧ x < ∞"
      ]
     },
     "metadata": {},
     "output_type": "display_data"
    }
   ],
   "source": [
    "x=sp.Symbol('x')\n",
    "express_str=f\" (x-1)**2*(x-2)**2*(x-3)**2*(x-4)**5>0\"       # f(x)= ax + b > c\n",
    "fx=parse_expr(express_str, evaluate=False) #字串解釋為可運算式子 expression \n",
    "St=fx\n",
    "Val=solve_univariate_inequality(fx,x)      #solve_univariate_inequality 解不等式  \n",
    "display(St)\n",
    "display(Val)"
   ]
  },
  {
   "cell_type": "code",
   "execution_count": 11,
   "id": "trying-panel",
   "metadata": {
    "tags": []
   },
   "outputs": [
    {
     "data": {
      "image/png": "[encoded data removed]",
      "text/latex": [
       "$\\displaystyle \\frac{\\left(x + 1\\right) \\left(x + 2\\right)}{\\left(x + 3\\right) \\left(x + 4\\right)} > 0$"
      ],
      "text/plain": [
       "(x + 1)⋅(x + 2)    \n",
       "─────────────── > 0\n",
       "(x + 3)⋅(x + 4)    "
      ]
     },
     "metadata": {},
     "output_type": "display_data"
    },
    {
     "data": {
      "image/png": "[encoded data removed]",
      "text/latex": [
       "$\\displaystyle \\left(-\\infty < x \\wedge x < -4\\right) \\vee \\left(-3 < x \\wedge x < -2\\right) \\vee \\left(-1 < x \\wedge x < \\infty\\right)$"
      ],
      "text/plain": [
       "(-∞ < x ∧ x < -4) ∨ (-3 < x ∧ x < -2) ∨ (-1 < x ∧ x < ∞)"
      ]
     },
     "metadata": {},
     "output_type": "display_data"
    }
   ],
   "source": [
    "x=sp.Symbol('x')\n",
    "express_str=f\" (x+1)*(x+2)/((x+3)*(x+4))>0\"       # f(x)= ax + b > c\n",
    "fx=parse_expr(express_str, evaluate=False) #字串解釋為可運算式子 expression \n",
    "St=fx\n",
    "Val=solve_univariate_inequality(fx,x)      #solve_univariate_inequality 解不等式  \n",
    "display(St)\n",
    "display(Val)"
   ]
  },
  {
   "cell_type": "code",
   "execution_count": 12,
   "id": "artificial-queen",
   "metadata": {},
   "outputs": [
    {
     "data": {
      "image/png": "[encoded data removed]",
      "text/latex": [
       "$\\displaystyle \\frac{x}{\\left(x + 1\\right) \\left(x + 2\\right)} > 1$"
      ],
      "text/plain": [
       "       x           \n",
       "─────────────── > 1\n",
       "(x + 1)⋅(x + 2)    "
      ]
     },
     "metadata": {},
     "output_type": "display_data"
    },
    {
     "data": {
      "image/png": "[encoded data removed]",
      "text/latex": [
       "$\\displaystyle -2 < x \\wedge x < -1$"
      ],
      "text/plain": [
       "-2 < x ∧ x < -1"
      ]
     },
     "metadata": {},
     "output_type": "display_data"
    }
   ],
   "source": [
    "x=sp.Symbol('x')\n",
    "express_str=f\" (x/((x+1)*(x+2)))>1\"       # f(x)= ax + b > c\n",
    "fx=parse_expr(express_str, evaluate=False) #字串解釋為可運算式子 expression \n",
    "St=fx\n",
    "Val=solve_univariate_inequality(fx,x)      #solve_univariate_inequality 解不等式  \n",
    "display(St)\n",
    "display(Val)"
   ]
  },
  {
   "cell_type": "markdown",
   "id": "compact-stone",
   "metadata": {},
   "source": [
    "## 高三 餘式定理\n",
    "https://docs.sympy.org/latest/modules/polys/reference.html\n",
    "\n",
    "Remainder\n",
    "\n",
    "Compute polynomial remainder of f and g.\n",
    "\n",
    "Polynomial division with remainder of f by g.\n",
    "\n",
    "Examples\n",
    "```python\n",
    "from sympy import Poly\n",
    "from sympy.abc import x\n",
    "Poly(x**2 + 1, x).div(Poly(2*x - 4, x))\n",
    "```\n",
    "(Poly(1/2*x + 1, x, domain='QQ'), Poly(5, x, domain='QQ'))\n",
    "```python\n",
    "Poly(x**2 + 1, x).div(Poly(2*x - 4, x), auto=False)\n",
    "```\n",
    "(Poly(0, x, domain='ZZ'), Poly(x**2 + 1, x, domain='ZZ'))\n"
   ]
  },
  {
   "cell_type": "code",
   "execution_count": 14,
   "id": "scientific-killing",
   "metadata": {},
   "outputs": [
    {
     "data": {
      "image/png": "[encoded data removed]",
      "text/latex": [
       "$\\displaystyle \\left( x^{2} + 3 x + 8, \\  47 x + 73\\right)$"
      ],
      "text/plain": [
       "⎛ 2                     ⎞\n",
       "⎝x  + 3⋅x + 8, 47⋅x + 73⎠"
      ]
     },
     "metadata": {},
     "output_type": "display_data"
    },
    {
     "data": {
      "image/png": "[encoded data removed]",
      "text/latex": [
       "$\\displaystyle \\left( \\frac{x}{2} + 1, \\  5\\right)$"
      ],
      "text/plain": [
       "⎛x       ⎞\n",
       "⎜─ + 1, 5⎟\n",
       "⎝2       ⎠"
      ]
     },
     "metadata": {},
     "output_type": "display_data"
    },
    {
     "data": {
      "image/png": "[encoded data removed]",
      "text/latex": [
       "$\\displaystyle 5$"
      ],
      "text/plain": [
       "5"
      ]
     },
     "metadata": {},
     "output_type": "display_data"
    }
   ],
   "source": [
    "x=sp.Symbol('x')\n",
    "from sympy import div,pdiv,rem,ZZ,QQ\n",
    "f1=2* x**4 +3*x**3-2*x**2-4*x+1\n",
    "f2=(2*x+3)*(x-3)\n",
    "display(div(f1,f2,domain=QQ)) ##rationals\n",
    "display(div(x**2+1,2*x-4,domain=QQ)) ##rationals\n",
    "display(rem(x**2+1,2*x-4,domain=QQ))"
   ]
  },
  {
   "cell_type": "code",
   "execution_count": 13,
   "id": "opened-jungle",
   "metadata": {
    "tags": []
   },
   "outputs": [
    {
     "data": {
      "image/png": "[encoded data removed]",
      "text/latex": [
       "$\\displaystyle \\left( x^{2} + x - 5, \\  6\\right)$"
      ],
      "text/plain": [
       "⎛ 2           ⎞\n",
       "⎝x  + x - 5, 6⎠"
      ]
     },
     "metadata": {},
     "output_type": "display_data"
    },
    {
     "data": {
      "image/png": "[encoded data removed]",
      "text/latex": [
       "$\\displaystyle \\left( x^{2} + x - 5, \\  6\\right)$"
      ],
      "text/plain": [
       "⎛ 2           ⎞\n",
       "⎝x  + x - 5, 6⎠"
      ]
     },
     "metadata": {},
     "output_type": "display_data"
    },
    {
     "data": {
      "image/png": "[encoded data removed]",
      "text/latex": [
       "$\\displaystyle \\left( x^{2} + x - 5, \\  6\\right)$"
      ],
      "text/plain": [
       "⎛ 2           ⎞\n",
       "⎝x  + x - 5, 6⎠"
      ]
     },
     "metadata": {},
     "output_type": "display_data"
    },
    {
     "data": {
      "image/png": "[encoded data removed]",
      "text/latex": [
       "$\\displaystyle \\left( 8 x^{2} + 24 x + 64, \\  376 x + 584\\right)$"
      ],
      "text/plain": [
       "⎛   2                         ⎞\n",
       "⎝8⋅x  + 24⋅x + 64, 376⋅x + 584⎠"
      ]
     },
     "metadata": {},
     "output_type": "display_data"
    },
    {
     "data": {
      "image/png": "[encoded data removed]",
      "text/latex": [
       "$\\displaystyle \\left( x^{2} + 3 x + 8, \\  47 x + 73\\right)$"
      ],
      "text/plain": [
       "⎛ 2                     ⎞\n",
       "⎝x  + 3⋅x + 8, 47⋅x + 73⎠"
      ]
     },
     "metadata": {},
     "output_type": "display_data"
    },
    {
     "data": {
      "image/png": "[encoded data removed]",
      "text/latex": [
       "$\\displaystyle \\left( x^{2} + 3 x + 8, \\  47 x + 73\\right)$"
      ],
      "text/plain": [
       "⎛ 2                     ⎞\n",
       "⎝x  + 3⋅x + 8, 47⋅x + 73⎠"
      ]
     },
     "metadata": {},
     "output_type": "display_data"
    },
    {
     "data": {
      "image/png": "[encoded data removed]",
      "text/latex": [
       "$\\displaystyle 47 x + 73$"
      ],
      "text/plain": [
       "47⋅x + 73"
      ]
     },
     "metadata": {},
     "output_type": "display_data"
    },
    {
     "data": {
      "image/png": "[encoded data removed]",
      "text/latex": [
       "$\\displaystyle 47 x + 73$"
      ],
      "text/plain": [
       "47⋅x + 73"
      ]
     },
     "metadata": {},
     "output_type": "display_data"
    },
    {
     "data": {
      "image/png": "[encoded data removed]",
      "text/latex": [
       "$\\displaystyle x^{2} + 1$"
      ],
      "text/plain": [
       " 2    \n",
       "x  + 1"
      ]
     },
     "metadata": {},
     "output_type": "display_data"
    },
    {
     "data": {
      "image/png": "[encoded data removed]",
      "text/latex": [
       "$\\displaystyle 5$"
      ],
      "text/plain": [
       "5"
      ]
     },
     "metadata": {},
     "output_type": "display_data"
    },
    {
     "data": {
      "image/png": "[encoded data removed]",
      "text/latex": [
       "$\\displaystyle \\left( 0, \\  x^{2} + 1\\right)$"
      ],
      "text/plain": [
       "⎛    2    ⎞\n",
       "⎝0, x  + 1⎠"
      ]
     },
     "metadata": {},
     "output_type": "display_data"
    },
    {
     "data": {
      "image/png": "[encoded data removed]",
      "text/latex": [
       "$\\displaystyle \\left( \\frac{x}{2} + 1, \\  5\\right)$"
      ],
      "text/plain": [
       "⎛x       ⎞\n",
       "⎜─ + 1, 5⎟\n",
       "⎝2       ⎠"
      ]
     },
     "metadata": {},
     "output_type": "display_data"
    }
   ],
   "source": [
    "x=sp.Symbol('x')\n",
    "from sympy import div,pdiv,rem,ZZ,QQ\n",
    "display(div(x**3+2*x**2-4*x+1,x+1,domain=ZZ))\n",
    "display(div(x**3+2*x**2-4*x+1,x+1,domain=QQ))\n",
    "display(pdiv(x**3+2*x**2-4*x+1,x+1))\n",
    "f1=2* x**4 +3*x**3-2*x**2-4*x+1\n",
    "f2=(2*x+3)*(x-3)\n",
    "display(pdiv(f1,f2 ))\n",
    "display(div(f1,f2,domain=ZZ))\n",
    "display(div(f1,f2,domain=QQ))\n",
    "display(rem(f1,f2,domain=ZZ))\n",
    "display(rem(f1,f2,domain=QQ))\n",
    "display(rem(x**2+1,2*x-4,domain=ZZ))\n",
    "display(div(x**2+1,2*x-4,domain=ZZ))  ##Integers\n",
    "\n",
    "\n"
   ]
  },
  {
   "cell_type": "markdown",
   "id": "amended-kernel",
   "metadata": {},
   "source": [
    "```python\n",
    "print(\"end\")\n",
    "\n",
    "display(HTML( (x <= -1) & (-oo < x)\n",
    "   '<table><tr>{}</tr></table>'.format(\n",
    "       '</tr><tr>'.join(\n",
    "           '<td>{}</td>'.format('</td><td>'.join(str(row[_]) for _ in row)) for row in NTE)\n",
    "       )\n",
    "))\n",
    "```"
   ]
  },
  {
   "cell_type": "code",
   "execution_count": null,
   "id": "circular-brick",
   "metadata": {},
   "outputs": [],
   "source": [
    "import re\n",
    "r3=re.findall('x[ ]*[≠][ ]*[-]?\\d+[ ]*[/]?[ ]*\\d*', 'x ≠  1')\n",
    "for l_ in r3:\n",
    "    s_=\"Ne(%s)\" % l_.replace('≠',\",\")\n",
    "    print(l_ ,s_)\n",
    "r3=re.findall('x[ ]*[!][=][ ]*[-]?\\d+[ ]*[/]?[ ]*\\d*', 'x !=  1')\n",
    "for l_ in r3:\n",
    "    s_=\"Ne(%s)\" % l_.replace('!=',\",\")\n",
    "    print(l_ ,s_)   "
   ]
  }
 ],
 "metadata": {
  "kernelspec": {
   "display_name": "Python 3",
   "language": "python",
   "name": "python3"
  },
  "language_info": {
   "codemirror_mode": {
    "name": "ipython",
    "version": 3
   },
   "file_extension": ".py",
   "mimetype": "text/x-python",
   "name": "python",
   "nbconvert_exporter": "python",
   "pygments_lexer": "ipython3",
   "version": "3.9.9"
  }
 },
 "nbformat": 4,
 "nbformat_minor": 5
}

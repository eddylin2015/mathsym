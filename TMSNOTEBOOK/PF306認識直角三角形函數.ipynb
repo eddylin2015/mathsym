{
 "cells": [
  {
   "cell_type": "markdown",
   "id": "republican-playing",
   "metadata": {},
   "source": [
    "# 電腦數學符號運算"
   ]
  },
  {
   "cell_type": "markdown",
   "id": "further-ratio",
   "metadata": {},
   "source": [
    "# 解直角三角形實作\n",
    "\n",
    "![](http://mail.mbc.edu.mo/mathsymImg/MATHS_2_2_trigonometricratios.png)    \n",
    "\n",
    "Adjacent 邻近的  \n",
    "Opposite 对面的   \n",
    "Hypotenuse 斜边的     \n",
    "\n",
    "$H^2=A^2+O^2$  \n",
    "\n",
    "sin $\\theta$ = $\\frac{opp}{hyp}$   \n",
    "cos $\\theta$ = $\\frac{adj}{hyp}$  \n",
    "tan $\\theta$ = $\\frac{opp}{adj}$    \n",
    "\n",
    "x 隨機數 (2,3,4,5,6,7,8)  \n",
    "基於經典直角三角型.給出 theta, gamma, A, O, H 值.   \n",
    "角 theta gamma 90度角   \n",
    "邊 A O H\n",
    "\n",
    "题型1：\n",
    "給出兩條邊長度.  \n",
    "求: 正弦,餘弦,正切的特殊銳角的三角函數值    \n",
    "例题\t答案式样\t数型及范围\t评分标准\t时限  \n",
    "1. sin(theta) = A/C  \n",
    "2. cose(theta) =  A/H  \n",
    "\n",
    "题型2：\n",
    "給出一條邊長度,一角.  \n",
    "利用正弦,餘弦,正切的特殊銳角的三角函數值 \n",
    "求: 另一邊長度.   \n",
    "例题\t答案式样\t数型及范围\t评分标准\t时限  \n",
    "1. sin(theta) * C= A  \n",
    "2. cose(theta) * H =  A  \n",
    "\n",
    "參考希臘字母表:  \n",
    "$\\alpha$  \\alpha    $A$\t A   \n",
    "$\\beta$\t\\beta   $B$\tB   \n",
    "$\\gamma$\t\\gammma  $\\Gamma$\t\\Gamma  \n",
    "$\\pi$\t\\pi   $\\Pi$\t\\Pi  \n",
    "$\\phi$\t\\phi  $\\Phi$\t\\Phi   \n",
    "$\\varphi$\t\\varphi  \n",
    "$\\theta$\t\\theta  "
   ]
  },
  {
   "cell_type": "markdown",
   "id": "spoken-jerusalem",
   "metadata": {},
   "source": [
    "##  RegularPolygon"
   ]
  },
  {
   "cell_type": "code",
   "execution_count": 6,
   "id": "structural-template",
   "metadata": {},
   "outputs": [
    {
     "data": {
      "text/plain": [
       "[Point2D(-cos(pi/3 + 1021/100), -sin(pi/3 + 1021/100)),\n",
       " Point2D(-70723130881147/100000000000000, -706982231627369/1000000000000000),\n",
       " Point2D(-sin(pi/6 + 1021/100), cos(pi/6 + 1021/100))]"
      ]
     },
     "metadata": {},
     "output_type": "display_data"
    },
    {
     "data": {
      "image/png": "[encoded data removed]",
      "text/plain": [
       "<Figure size 432x288 with 1 Axes>"
      ]
     },
     "metadata": {
      "needs_background": "light"
     },
     "output_type": "display_data"
    }
   ],
   "source": [
    "import sympy as sp\n",
    "from sympy.geometry import Point, Circle, Triangle, Segment, Line, RegularPolygon\n",
    "import matplotlib.pyplot as plt\n",
    "from matplotlib.figure import Figure\n",
    "t=RegularPolygon(Point(0,0),1,3,10.21) # 4 sides\n",
    "display(t.vertices)\n",
    "plt.close('all')\n",
    "fig = plt.figure()\n",
    "ax = fig.add_subplot(1, 1, 1)\n",
    "ax.set_aspect('equal')\n",
    "#ax.grid()\n",
    "ax.set_axis_off() #軸の非表示\n",
    "ax.add_patch(plt.Polygon(t.vertices, fill=False))\n",
    "ax.plot(*zip(*t.vertices), 'o')\n",
    "plt.show()"
   ]
  },
  {
   "cell_type": "markdown",
   "id": "private-ambassador",
   "metadata": {},
   "source": [
    "## 三角函數"
   ]
  },
  {
   "cell_type": "code",
   "execution_count": 5,
   "id": "curious-banking",
   "metadata": {
    "tags": []
   },
   "outputs": [
    {
     "data": {
      "text/latex": [
       "當 $\\theta=30^o$, 求 $sin\\theta$ or  $cos\\theta$ or  $tan\\theta$ ?"
      ],
      "text/plain": [
       "<IPython.core.display.Latex object>"
      ]
     },
     "metadata": {},
     "output_type": "display_data"
    },
    {
     "data": {
      "text/latex": [
       "$\\frac{1}{2}$, $\\frac{\\sqrt{3}}{2}$, $\\frac{\\sqrt{3}}{3}$"
      ],
      "text/plain": [
       "<IPython.core.display.Latex object>"
      ]
     },
     "metadata": {},
     "output_type": "display_data"
    },
    {
     "data": {
      "text/latex": [
       "a=$3$, o=$\\sqrt{3}$, h=$\\frac{3 \\sqrt{3}}{2}$"
      ],
      "text/plain": [
       "<IPython.core.display.Latex object>"
      ]
     },
     "metadata": {},
     "output_type": "display_data"
    },
    {
     "data": {
      "image/png": "[encoded data removed]",
      "text/plain": [
       "<Figure size 432x288 with 1 Axes>"
      ]
     },
     "metadata": {
      "needs_background": "light"
     },
     "output_type": "display_data"
    },
    {
     "data": {
      "text/latex": [
       "當 $\\theta=45^o$, 求 $sin\\theta$ or  $cos\\theta$ or  $tan\\theta$ ?"
      ],
      "text/plain": [
       "<IPython.core.display.Latex object>"
      ]
     },
     "metadata": {},
     "output_type": "display_data"
    },
    {
     "data": {
      "text/latex": [
       "$\\frac{\\sqrt{2}}{2}$, $\\frac{\\sqrt{2}}{2}$, $1$"
      ],
      "text/plain": [
       "<IPython.core.display.Latex object>"
      ]
     },
     "metadata": {},
     "output_type": "display_data"
    },
    {
     "data": {
      "text/latex": [
       "a=$2$, o=$2$, h=$\\sqrt{2}$"
      ],
      "text/plain": [
       "<IPython.core.display.Latex object>"
      ]
     },
     "metadata": {},
     "output_type": "display_data"
    },
    {
     "data": {
      "image/png": "[encoded data removed]",
      "text/plain": [
       "<Figure size 432x288 with 1 Axes>"
      ]
     },
     "metadata": {
      "needs_background": "light"
     },
     "output_type": "display_data"
    },
    {
     "data": {
      "text/latex": [
       "當 $\\theta=60^o$, 求 $sin\\theta$ or  $cos\\theta$ or  $tan\\theta$ ?"
      ],
      "text/plain": [
       "<IPython.core.display.Latex object>"
      ]
     },
     "metadata": {},
     "output_type": "display_data"
    },
    {
     "data": {
      "text/latex": [
       "$\\frac{\\sqrt{3}}{2}$, $\\frac{1}{2}$, $\\sqrt{3}$"
      ],
      "text/plain": [
       "<IPython.core.display.Latex object>"
      ]
     },
     "metadata": {},
     "output_type": "display_data"
    },
    {
     "data": {
      "text/latex": [
       "a=$2$, o=$2 \\sqrt{3}$, h=$1$"
      ],
      "text/plain": [
       "<IPython.core.display.Latex object>"
      ]
     },
     "metadata": {},
     "output_type": "display_data"
    },
    {
     "data": {
      "image/png": "[encoded data removed]",
      "text/plain": [
       "<Figure size 432x288 with 1 Axes>"
      ]
     },
     "metadata": {
      "needs_background": "light"
     },
     "output_type": "display_data"
    },
    {
     "name": "stdout",
     "output_type": "stream",
     "text": [
      "勾3,股4,弦5 直角三⻆型:\n"
     ]
    },
    {
     "data": {
      "image/png": "[encoded data removed]",
      "text/plain": [
       "<Figure size 432x288 with 1 Axes>"
      ]
     },
     "metadata": {
      "needs_background": "light"
     },
     "output_type": "display_data"
    },
    {
     "data": {
      "image/png": "[encoded data removed]",
      "text/plain": [
       "<Figure size 432x288 with 1 Axes>"
      ]
     },
     "metadata": {
      "needs_background": "light"
     },
     "output_type": "display_data"
    }
   ],
   "source": [
    "# Perquisites\n",
    "import datetime\n",
    "import numpy as np\n",
    "import scipy as scp\n",
    "import sympy as sp\n",
    "from sympy.geometry import Point, Circle, Triangle, Segment, Line, RegularPolygon\n",
    "import random\n",
    "import math\n",
    "import matplotlib.pyplot as plt\n",
    "from matplotlib.figure import Figure\n",
    "from IPython.display import Latex,HTML,Markdown                 #網頁顯示數學符號\n",
    "\n",
    "def plotTriangle(t,BAngle,Path_):\n",
    "    B, C, A = t.vertices #頂点\n",
    "    AB, BC, CA = Segment(A, B), Segment(B, C), Segment(C, A) #辺の設定 右辺は ABC.sidesと同等\n",
    "    a, b, c = BC.length, CA.length, AB.length #辺の長さ\n",
    "    opposides = { #頂点に対する対辺(opposite side)\n",
    "        A: BC,\n",
    "        B: CA,\n",
    "        C: AB\n",
    "    } #print(AB,BC,CA)#  print(*t.sides)    \n",
    "    plt.close('all')\n",
    "    fig = plt.figure()\n",
    "    ax = fig.add_subplot(1, 1, 1)\n",
    "    ax.set_aspect('equal')\n",
    "    #ax.grid()\n",
    "    ax.set_axis_off() #軸の非表示\n",
    "    ax.add_patch(plt.Polygon(t.vertices, fill=False))\n",
    "    ax.plot(*zip(*t.vertices), 'o')\n",
    "    ax.text(*B, r'$  \\mathrm{B}$', ha='right', va='top')\n",
    "    ax.text(*C, r'$  \\mathrm{C}$', ha='left', va='top')\n",
    "    ax.text(*A, r'$  \\mathrm{A}$', ha='left', va='bottom')\n",
    "    squar_side_len=0.1\n",
    "    c1=Point(C[0],C[1]+squar_side_len)\n",
    "    c2=Point(C[0]-squar_side_len,C[1]+squar_side_len)\n",
    "    c3=Point(C[0]-squar_side_len,C[1])\n",
    "    ax.add_patch(plt.Polygon([C,c1,c2,c3], fill=False))\n",
    "    ax.text(*BC.midpoint, r'$\\mathrm{a } $', ha='right', va='top')\n",
    "    ax.text(*CA.midpoint, r'$\\mathrm{b } $', ha='left', va='top')\n",
    "    ax.text(*AB.midpoint, r'$\\mathrm{c } $', ha='left', va='bottom')    \n",
    "    #Arc Plot\n",
    "    if BAngle != None:\n",
    "        d=np.arange(start=0,stop=BAngle,step=1)\n",
    "        rad=np.deg2rad(d)\n",
    "        r=0.2\n",
    "        xc = r*np.cos(rad)\n",
    "        yc = r*np.sin(rad)\n",
    "        plt.plot(xc,yc,color=[20/255,20/255,20/255],linestyle='-')   \n",
    "        ax.text(B[0]+0.24,B[1]+0.04,f'${BAngle}^o$')\n",
    "    plt.show()\n",
    "#特殊角 30,45,60\n",
    "Degrees=[30,45,60] \n",
    "for d in Degrees:\n",
    "    display(Latex(f\"當 $\\\\theta={d}^o$, 求 $sin\\\\theta$ or  $cos\\\\theta$ or  $tan\\\\theta$ ?\"))\n",
    "    sv=sp.sin(sp.S(d)/180* sp.pi)\n",
    "    cv=sp.cos(sp.S(d)/180* sp.pi)\n",
    "    tv=sp.tan(sp.S(d)/180* sp.pi)\n",
    "    display(Latex( r\"$%s$, $%s$, $%s$\"  % (sp.latex(sv),  sp.latex(cv),sp.latex(tv))))\n",
    "    s1=random.choice([2,3,4,5,6])\n",
    "    s2=cv*s1\n",
    "    display(Latex( r\"a=$%s$, o=$%s$, h=$%s$\"  % (sp.latex(s1),sp.latex(s1*tv),sp.latex(s2))))\n",
    "    t = Triangle(sas=(s1, d , s2)) #sss, sas, or asa\n",
    "    plotTriangle(t,d,\"\")\n",
    "    \n",
    "print(\"勾3,股4,弦5 直角三⻆型:\")\n",
    "t = Triangle(sss=(3, 4 , 5)) #53\n",
    "plotTriangle(t,None,\"\")\n",
    "\n",
    "t = Triangle(sss=(4, 3 , 5)) #37\n",
    "plotTriangle(t,None,\"\")\n"
   ]
  },
  {
   "cell_type": "markdown",
   "id": "unique-field",
   "metadata": {},
   "source": [
    "## 源碼"
   ]
  },
  {
   "cell_type": "code",
   "execution_count": 79,
   "id": "legendary-poverty",
   "metadata": {},
   "outputs": [
    {
     "data": {
      "image/png": "[encoded data removed]",
      "text/plain": [
       "<Figure size 432x288 with 1 Axes>"
      ]
     },
     "metadata": {
      "needs_background": "light"
     },
     "output_type": "display_data"
    },
    {
     "data": {
      "image/png": "[encoded data removed]",
      "text/plain": [
       "<Figure size 432x288 with 1 Axes>"
      ]
     },
     "metadata": {
      "needs_background": "light"
     },
     "output_type": "display_data"
    },
    {
     "data": {
      "image/png": "[encoded data removed]",
      "text/plain": [
       "<Figure size 432x288 with 1 Axes>"
      ]
     },
     "metadata": {
      "needs_background": "light"
     },
     "output_type": "display_data"
    },
    {
     "data": {
      "image/png": "[encoded data removed]",
      "text/plain": [
       "<Figure size 432x288 with 1 Axes>"
      ]
     },
     "metadata": {
      "needs_background": "light"
     },
     "output_type": "display_data"
    },
    {
     "data": {
      "image/png": "[encoded data removed]",
      "text/plain": [
       "<Figure size 432x288 with 1 Axes>"
      ]
     },
     "metadata": {
      "needs_background": "light"
     },
     "output_type": "display_data"
    },
    {
     "data": {
      "image/png": "[encoded data removed]",
      "text/plain": [
       "<Figure size 432x288 with 1 Axes>"
      ]
     },
     "metadata": {
      "needs_background": "light"
     },
     "output_type": "display_data"
    },
    {
     "data": {
      "image/png": "[encoded data removed]",
      "text/plain": [
       "<Figure size 432x288 with 1 Axes>"
      ]
     },
     "metadata": {
      "needs_background": "light"
     },
     "output_type": "display_data"
    },
    {
     "data": {
      "image/png": "[encoded data removed]",
      "text/plain": [
       "<Figure size 432x288 with 1 Axes>"
      ]
     },
     "metadata": {
      "needs_background": "light"
     },
     "output_type": "display_data"
    },
    {
     "data": {
      "image/png": "[encoded data removed]",
      "text/plain": [
       "<Figure size 432x288 with 1 Axes>"
      ]
     },
     "metadata": {
      "needs_background": "light"
     },
     "output_type": "display_data"
    },
    {
     "data": {
      "image/png": "[encoded data removed]",
      "text/plain": [
       "<Figure size 432x288 with 1 Axes>"
      ]
     },
     "metadata": {
      "needs_background": "light"
     },
     "output_type": "display_data"
    },
    {
     "data": {
      "image/png": "[encoded data removed]",
      "text/plain": [
       "<Figure size 432x288 with 1 Axes>"
      ]
     },
     "metadata": {
      "needs_background": "light"
     },
     "output_type": "display_data"
    },
    {
     "data": {
      "image/png": "[encoded data removed]",
      "text/plain": [
       "<Figure size 432x288 with 1 Axes>"
      ]
     },
     "metadata": {
      "needs_background": "light"
     },
     "output_type": "display_data"
    },
    {
     "data": {
      "image/png": "[encoded data removed]",
      "text/plain": [
       "<Figure size 432x288 with 1 Axes>"
      ]
     },
     "metadata": {
      "needs_background": "light"
     },
     "output_type": "display_data"
    },
    {
     "data": {
      "image/png": "[encoded data removed]",
      "text/plain": [
       "<Figure size 432x288 with 1 Axes>"
      ]
     },
     "metadata": {
      "needs_background": "light"
     },
     "output_type": "display_data"
    },
    {
     "data": {
      "image/png": "[encoded data removed]",
      "text/plain": [
       "<Figure size 432x288 with 1 Axes>"
      ]
     },
     "metadata": {
      "needs_background": "light"
     },
     "output_type": "display_data"
    },
    {
     "data": {
      "image/png": "[encoded data removed]",
      "text/plain": [
       "<Figure size 432x288 with 1 Axes>"
      ]
     },
     "metadata": {
      "needs_background": "light"
     },
     "output_type": "display_data"
    },
    {
     "data": {
      "image/png": "[encoded data removed]",
      "text/plain": [
       "<Figure size 432x288 with 1 Axes>"
      ]
     },
     "metadata": {
      "needs_background": "light"
     },
     "output_type": "display_data"
    },
    {
     "data": {
      "image/png": "[encoded data removed]",
      "text/plain": [
       "<Figure size 432x288 with 1 Axes>"
      ]
     },
     "metadata": {
      "needs_background": "light"
     },
     "output_type": "display_data"
    },
    {
     "data": {
      "image/png": "[encoded data removed]",
      "text/plain": [
       "<Figure size 432x288 with 1 Axes>"
      ]
     },
     "metadata": {
      "needs_background": "light"
     },
     "output_type": "display_data"
    },
    {
     "data": {
      "image/png": "[encoded data removed]",
      "text/plain": [
       "<Figure size 432x288 with 1 Axes>"
      ]
     },
     "metadata": {
      "needs_background": "light"
     },
     "output_type": "display_data"
    },
    {
     "data": {
      "text/plain": [
       "[{'Id': 0,\n",
       "  'Tx': 1,\n",
       "  'St': ['如下圖, 在Rt\\\\triangle ABC中, \\\\angle C = 90^o,',\n",
       "   ' a  = 15 , c  = 25 ,',\n",
       "   '求 b  = ?'],\n",
       "  'Val': 20,\n",
       "  'Ans': '',\n",
       "  'OK': 0,\n",
       "  'Mark': 0,\n",
       "  'Minute': '28:17',\n",
       "  'Tip': '',\n",
       "  'PotImg': None,\n",
       "  'PlotImg': None},\n",
       " {'Id': 1,\n",
       "  'Tx': 1,\n",
       "  'St': ['如下圖, 在Rt\\\\triangle ABC中, \\\\angle C = 90^o,',\n",
       "   '\\\\angle B =60^o, a=2,  求 c  = ?'],\n",
       "  'Val': 4,\n",
       "  'Ans': '',\n",
       "  'OK': 0,\n",
       "  'Mark': 0,\n",
       "  'Minute': '28:17',\n",
       "  'Tip': '',\n",
       "  'PotImg': None,\n",
       "  'PlotImg': None},\n",
       " {'Id': 2,\n",
       "  'Tx': 1,\n",
       "  'St': ['如下圖, 在Rt\\\\triangle ABC中, \\\\angle C = 90^o,',\n",
       "   ' a  = 9 , b  = 12 ,',\n",
       "   '求 c  = ?'],\n",
       "  'Val': 15,\n",
       "  'Ans': '',\n",
       "  'OK': 0,\n",
       "  'Mark': 0,\n",
       "  'Minute': '28:17',\n",
       "  'Tip': '',\n",
       "  'PotImg': None,\n",
       "  'PlotImg': None},\n",
       " {'Id': 3,\n",
       "  'Tx': 1,\n",
       "  'St': ['如下圖, 在Rt\\\\triangle ABC中, \\\\angle C = 90^o,',\n",
       "   '\\\\angle B =45^o, a=3,  求 b  = ?'],\n",
       "  'Val': 3,\n",
       "  'Ans': '',\n",
       "  'OK': 0,\n",
       "  'Mark': 0,\n",
       "  'Minute': '28:17',\n",
       "  'Tip': '',\n",
       "  'PotImg': None,\n",
       "  'PlotImg': None},\n",
       " {'Id': 4,\n",
       "  'Tx': 1,\n",
       "  'St': ['如下圖, 在Rt\\\\triangle ABC中, \\\\angle C = 90^o,',\n",
       "   ' b  = 12 , c  = 20 ,',\n",
       "   '求 a  = ?'],\n",
       "  'Val': 16,\n",
       "  'Ans': '',\n",
       "  'OK': 0,\n",
       "  'Mark': 0,\n",
       "  'Minute': '28:18',\n",
       "  'Tip': '',\n",
       "  'PotImg': None,\n",
       "  'PlotImg': None},\n",
       " {'Id': 5,\n",
       "  'Tx': 1,\n",
       "  'St': ['如下圖, 在Rt\\\\triangle ABC中, \\\\angle C = 90^o,',\n",
       "   ' a  = 15 , c  = 25 ,',\n",
       "   '求 b  = ?'],\n",
       "  'Val': 20,\n",
       "  'Ans': '',\n",
       "  'OK': 0,\n",
       "  'Mark': 0,\n",
       "  'Minute': '28:18',\n",
       "  'Tip': '',\n",
       "  'PotImg': None,\n",
       "  'PlotImg': None},\n",
       " {'Id': 6,\n",
       "  'Tx': 1,\n",
       "  'St': ['如下圖, 在Rt\\\\triangle ABC中, \\\\angle C = 90^o,',\n",
       "   ' b  = 9 , c  = 15 ,',\n",
       "   '求 a  = ?'],\n",
       "  'Val': 12,\n",
       "  'Ans': '',\n",
       "  'OK': 0,\n",
       "  'Mark': 0,\n",
       "  'Minute': '28:18',\n",
       "  'Tip': '',\n",
       "  'PotImg': None,\n",
       "  'PlotImg': None},\n",
       " {'Id': 7,\n",
       "  'Tx': 1,\n",
       "  'St': ['如下圖, 在Rt\\\\triangle ABC中, \\\\angle C = 90^o,',\n",
       "   ' a  = 9 , b  = 12 ,',\n",
       "   '求 c  = ?'],\n",
       "  'Val': 15,\n",
       "  'Ans': '',\n",
       "  'OK': 0,\n",
       "  'Mark': 0,\n",
       "  'Minute': '28:18',\n",
       "  'Tip': '',\n",
       "  'PotImg': None,\n",
       "  'PlotImg': None},\n",
       " {'Id': 8,\n",
       "  'Tx': 1,\n",
       "  'St': ['如下圖, 在Rt\\\\triangle ABC中, \\\\angle C = 90^o,',\n",
       "   '\\\\angle B =45^o, a=3,  求 c  = ?'],\n",
       "  'Val': 3*sqrt(2),\n",
       "  'Ans': '',\n",
       "  'OK': 0,\n",
       "  'Mark': 0,\n",
       "  'Minute': '28:19',\n",
       "  'Tip': '',\n",
       "  'PotImg': None,\n",
       "  'PlotImg': None},\n",
       " {'Id': 9,\n",
       "  'Tx': 1,\n",
       "  'St': ['如下圖, 在Rt\\\\triangle ABC中, \\\\angle C = 90^o,',\n",
       "   ' a  = 20 , b  = 15 ,',\n",
       "   '求 c  = ?'],\n",
       "  'Val': 25,\n",
       "  'Ans': '',\n",
       "  'OK': 0,\n",
       "  'Mark': 0,\n",
       "  'Minute': '28:19',\n",
       "  'Tip': '',\n",
       "  'PotImg': None,\n",
       "  'PlotImg': None}]"
      ]
     },
     "execution_count": 79,
     "metadata": {},
     "output_type": "execute_result"
    }
   ],
   "source": [
    "# Perquisites \n",
    "import datetime\n",
    "import numpy as np\n",
    "import scipy as scp\n",
    "import sympy as sp\n",
    "import random\n",
    "import math\n",
    "import matplotlib.pyplot as plt\n",
    "from IPython.display import Latex,HTML,Markdown                 #網頁顯示數學符號\n",
    "from matplotlib.figure import Figure\n",
    "def GetKey():\n",
    "    return \"\"\n",
    "def GetTE(Qid, St, Val, Tx=0):\n",
    "    ''' 單條題目記錄: St題目, Val電腦答案, Ans作答,OK檢查1/0, Tip提示'''\n",
    "    TE = {}\n",
    "    #TE[\"Key\"] =r\"%s.%s\"% (datetime.datetime.now().isoformat().replace(\":\",\"_\"),random.random())\n",
    "    TE[\"Id\"] = Qid\n",
    "    TE[\"Tx\"] = Tx\n",
    "    TE[\"St\"] = St\n",
    "    TE[\"Val\"] = Val\n",
    "    TE[\"Ans\"] = \"\"\n",
    "    TE[\"OK\"] = 0\n",
    "    TE[\"Mark\"] = 0\n",
    "    TE[\"Minute\"]= datetime.datetime.now().strftime(\"%M:%S\")   #\"%m-%d-%Y %H:%M:%S\")\n",
    "    TE[\"Tip\"] = \"\"\n",
    "    TE[\"PotImg\"]=None\n",
    "    return TE\n",
    "\n",
    "def plotTriangle(t,BAngle,li,Path_):\n",
    "    B, C, A = t.vertices #頂点\n",
    "    AB, BC, CA = Segment(A, B), Segment(B, C), Segment(C, A) #辺の設定 右辺は ABC.sidesと同等\n",
    "    a, b, c = BC.length, CA.length, AB.length #辺の長さ\n",
    "    opposides = { #頂点に対する対辺(opposite side)\n",
    "        A: BC,\n",
    "        B: CA,\n",
    "        C: AB\n",
    "    } #print(AB,BC,CA)#  print(*t.sides)    \n",
    "    # Figure and Axes\n",
    "    #fig1=Figure()\n",
    "    #fig1.set_figheight(3)\n",
    "    #fig1.set_figwidth(3)\n",
    "    #ax=fig1.subplots()    \n",
    "    plt.close('all')\n",
    "    fig = plt.figure()\n",
    "    ax = fig.add_subplot(1, 1, 1)\n",
    "    ax.set_aspect('equal')      #ax.grid()\n",
    "    ax.set_axis_off() #軸の非表示\n",
    "    ax.add_patch(plt.Polygon(t.vertices, fill=False))  \n",
    "    ax.plot(*zip(*t.vertices), 'o') #'ro'\n",
    "    ax.text(*B, '$\\mathrm{B}$', ha='right', va='top')\n",
    "    ax.text(*C, '$\\mathrm{C}$', ha='left', va='top')\n",
    "    ax.text(*A, '$\\mathrm{A}$', ha='left', va='bottom')\n",
    "    squar_side_len=0.1\n",
    "    c1=Point(C[0],C[1]+squar_side_len)\n",
    "    c2=Point(C[0]-squar_side_len,C[1]+squar_side_len)\n",
    "    c3=Point(C[0]-squar_side_len,C[1])\n",
    "    ax.add_patch(plt.Polygon([C,c1,c2,c3], fill=False))\n",
    "    if \"a\" in li:\n",
    "        ax.text(*BC.midpoint, r'$\\mathrm{a}=%s$'%sp.latex(a), ha='right', va='top')\n",
    "    else:\n",
    "        ax.text(*BC.midpoint, '$\\mathrm{a} $', ha='right', va='top')\n",
    "    if \"b\" in li:    \n",
    "        ax.text(*CA.midpoint, r'$\\mathrm{b}=%s $'%sp.latex(b), ha='left', va='top')\n",
    "    else:\n",
    "        ax.text(*CA.midpoint, '$\\mathrm{b} $', ha='left', va='top')\n",
    "    if \"c\" in li:\n",
    "        ax.text(*AB.midpoint, r'$\\mathrm{c}=%s $'%sp.latex(c), ha='left', va='bottom')      \n",
    "    else:\n",
    "        ax.text(*AB.midpoint, '$\\mathrm{c} $', ha='left', va='bottom')  \n",
    "    #Arc Plot\n",
    "    if BAngle != None:\n",
    "        d=np.arange(start=0,stop=BAngle,step=1)\n",
    "        rad=np.deg2rad(d)\n",
    "        r=0.2\n",
    "        xc = r*np.cos(rad)\n",
    "        yc = r*np.sin(rad)\n",
    "        plt.plot(xc,yc,color=[20/255,20/255,20/255],linestyle='-')   \n",
    "        ax.text(B[0]+0.24,B[1]+0.04,f'${BAngle}^o$')\n",
    "    plt.show()\n",
    "    #fig1.savefig(os.getcwd()+\"\\\\static\\\\\"+Path_)\n",
    "\n",
    "def Get_PF306_Expr(QN,Tx=-1):\n",
    "    NTE = []\n",
    "    for Qid in range(0, QN):\n",
    "        x=random.choice([2,3,4,5])\n",
    "        theta = random.choice([30,45,60,37,53])\n",
    "        gamma=90-theta\n",
    "        if theta==30:\n",
    "            A=x*sp.sqrt(3)\n",
    "            O=sp.S(x)\n",
    "            H=sp.S(2*x)\n",
    "        elif theta==45:\n",
    "            A=sp.S(x)\n",
    "            O=sp.S(x)\n",
    "            H=x*sp.sqrt(2)\n",
    "        elif theta==60:\n",
    "            A=sp.S(x)\n",
    "            O=x*sp.sqrt(3)\n",
    "            H=sp.S(2*x)\n",
    "        elif theta==37:\n",
    "            A=sp.S(4*x)\n",
    "            O=sp.S(3*x)\n",
    "            H=sp.S(5*x)\n",
    "        elif theta==53:\n",
    "            A=sp.S(3*x)\n",
    "            O=sp.S(4*x)\n",
    "            H=sp.S(5*x)        \n",
    "        if Tx == 1:\n",
    "            b_f=[\"a\",\"b\",\"c\"]\n",
    "            b_v=[A,O,H]\n",
    "            b_idx=random.choice([0,1,2])\n",
    "            b_a=(random.choice([1,2])+b_idx)% 3\n",
    "            St=[r\"如下圖, 在Rt\\triangle ABC中, \\angle C = 90^o,\", r\"\\angle B =%s^o, %s=%s,  求 %s  = ?\"%(theta, b_f[b_idx],sp.latex(b_v[b_idx]),b_f[b_a])]\n",
    "            if theta==53 or theta==37:\n",
    "                anglesfilter=\"\"\n",
    "                St=[r\"如下圖, 在Rt\\triangle ABC中, \\angle C = 90^o,\"]\n",
    "                for b_ in range(0,3):\n",
    "                    if b_f[b_] != b_f[b_a]:\n",
    "                        anglesfilter+=r\" %s  = %s ,\"% (b_f[b_],sp.latex(b_v[b_]))\n",
    "                St.append(   anglesfilter)     \n",
    "                St.append(r\"求 %s  = ?\"% (b_f[b_a]))\n",
    "            Val = b_v[b_a]\n",
    "            TE = GetTE(Qid, St, Val, Tx)\n",
    "            if theta==53 or theta==37:\n",
    "                t = Triangle(sss=(A, O,H)) #sss, sas, or asa\n",
    "                anglesfilter=\"\"\n",
    "                for b_ in b_f:\n",
    "                    if b_ != b_f[b_a]:\n",
    "                        anglesfilter+=b_\n",
    "                TE[\"PlotImg\"]=plotTriangle(t,None,anglesfilter,\"img\"+GetKey()+str(Qid)+\".png\")\n",
    "            else:\n",
    "                t = Triangle(sas=(H, theta ,A)) #sss, sas, or asa\n",
    "                TE[\"PlotImg\"]=plotTriangle(t,theta,b_f[b_idx],\"img\"+GetKey()+str(Qid)+\".png\")\n",
    "\n",
    "            \n",
    "            NTE.append(TE)\n",
    "            \n",
    "        else:\n",
    "            angle_=[\"A\",\"B\"]\n",
    "            trig_=[\"sin\",\"cos\",\"tan\"]\n",
    "            trig=random.choice(trig_)\n",
    "            ang=random.choice(angle_)\n",
    "            St=[r\"如下圖, 在Rt\\triangle ABC中, \\angle C = 90^o,\", r\"a=%s, b=%s, 求 %s (%s) = ?\"%(sp.latex(A),sp.latex(O), trig,ang)]\n",
    "            Val = 1\n",
    "            if trig==\"sin\":\n",
    "                if ang==\"A\":             \n",
    "                    Val=O/H\n",
    "                if ang==\"B\":             \n",
    "                    Val=A/H\n",
    "            if trig==\"cos\":\n",
    "                if ang==\"A\":             \n",
    "                    Val=A/H\n",
    "                if ang==\"B\":             \n",
    "                    Val=O/H\n",
    "            if trig==\"tan\":\n",
    "                if ang==\"A\":             \n",
    "                    Val=sp.S(O)/A\n",
    "                if ang==\"B\":             \n",
    "                    Val=sp.S(A)/O\n",
    "            \n",
    "            TE = GetTE(Qid, St, Val, Tx)\n",
    "            t = Triangle(sss=(A, O,H)) #sss, sas, or asa\n",
    "            TE[\"PlotImg\"]=plotTriangle(t,None,\"ab\",\"img\"+GetKey()+str(Qid)+\".png\")\n",
    "            NTE.append(TE)\n",
    "\n",
    "    return NTE\n",
    "Get_PF306_Expr(10,Tx=0)\n",
    "Get_PF306_Expr(10,Tx=1)"
   ]
  },
  {
   "cell_type": "markdown",
   "id": "underlying-kinase",
   "metadata": {},
   "source": [
    "## Source Code"
   ]
  },
  {
   "cell_type": "code",
   "execution_count": null,
   "id": "controlling-share",
   "metadata": {
    "tags": []
   },
   "outputs": [],
   "source": [
    "# Perquisites \n",
    "import datetime\n",
    "import numpy as np\n",
    "import scipy as scp\n",
    "import sympy as sp\n",
    "import random\n",
    "import math\n",
    "import matplotlib.pyplot as plt\n",
    "from IPython.display import Latex,HTML,Markdown                 #網頁顯示數學符號\n",
    "from matplotlib.figure import Figure\n",
    "def GetKey():\n",
    "    return \"\"\n",
    "def GetTE(Qid, St, Val, Tx=0):\n",
    "    ''' 單條題目記錄: St題目, Val電腦答案, Ans作答,OK檢查1/0, Tip提示'''\n",
    "    TE = {}\n",
    "    #TE[\"Key\"] =r\"%s.%s\"% (datetime.datetime.now().isoformat().replace(\":\",\"_\"),random.random())\n",
    "    TE[\"Id\"] = Qid\n",
    "    TE[\"Tx\"] = Tx\n",
    "    TE[\"St\"] = St\n",
    "    TE[\"Val\"] = Val\n",
    "    TE[\"Ans\"] = \"\"\n",
    "    TE[\"OK\"] = 0\n",
    "    TE[\"Mark\"] = 0\n",
    "    TE[\"Minute\"]= datetime.datetime.now().strftime(\"%M:%S\")   #\"%m-%d-%Y %H:%M:%S\")\n",
    "    TE[\"Tip\"] = \"\"\n",
    "    TE[\"PotImg\"]=None\n",
    "    return TE\n",
    "def Plot_RightTriangle(A,O,H,Path_):\n",
    "    try:\n",
    "        # Triangle 1\n",
    "        a=A.evalf()\n",
    "        o=O.evalf()\n",
    "        h=H.evalf()\n",
    "        x=np.array([0,a,a,0])\n",
    "        y=np.array([0,0,o,0])\n",
    "        # for jupyternote\n",
    "        plt.close('all')\n",
    "        fig1=plt.figure(1)\n",
    "        ax1=fig1.add_subplot(111)\n",
    "        # Figure and Axes for WebSite\n",
    "        #fig1=Figure()\n",
    "        #fig1.set_figheight(3)\n",
    "        #fig1.set_figwidth(3)\n",
    "        #ax1=fig1.subplots()\n",
    "        ax1.axis('square')\n",
    "        ax1.plot(x,y)\n",
    "        # Axes Limits\n",
    "        \n",
    "        ax1.set_xlim([-1,int(a)+2])\n",
    "        ax1.set_ylim([-1,int(o)+2])\n",
    "        ax1.text(0.5,0.25,'θ')\n",
    "        \n",
    "        ax1.text(a-0.5,0.25,'90')\n",
    "        \n",
    "        ax1.text(a-0.25,o-0.35,'γ')\n",
    "        ax1.text(a/2,-0.5,f'a=${sp.latex(A)}$')\n",
    "        ax1.text(a+0.5,o/2,f'b=${sp.latex(O)}$')\n",
    "        #ax1.text(A/2-1,O/2,f'c=${sp.latex(H)}$')\n",
    "        ax1.text(a/2-1,o/2,f'c')\n",
    "        #fig1.savefig(os.getcwd()+\"\\\\static\\\\\"+Path_)\n",
    "        plt.show()\n",
    "        return Path_\n",
    "    except Exception as e:\n",
    "        print(e)\n",
    "        return None\n",
    "\n",
    "def Plot_RightTriangle2(A,O,H,r,Path_):\n",
    "    try:\n",
    "        #plt.close('all')\n",
    "        # Triangle 1\n",
    "        a=A.evalf()\n",
    "        o=O.evalf()\n",
    "        h=H.evalf()\n",
    "        x=np.array([0,a,a,0])\n",
    "        y=np.array([0,0,o,0])\n",
    "        # Figure and Axes\n",
    "        #fig1=Figure()\n",
    "        #fig1.set_figheight(3)\n",
    "        #fig1.set_figwidth(3)\n",
    "        #ax1=fig1.subplots()\n",
    "        \n",
    "        # for jupyternote\n",
    "        plt.close('all')\n",
    "        fig1=plt.figure(1)\n",
    "        ax1=fig1.add_subplot(111)\n",
    "        # end for jupyternote\n",
    "        \n",
    "        ax1.axis('square')\n",
    "        ax1.plot(x,y)\n",
    "        # Axes Limits\n",
    "        ax1.set_xlim([-1,int(a)+2])\n",
    "        ax1.set_ylim([-1,int(o)+2])\n",
    "        \n",
    "        ax1.text(0.5,0.25,'θ')\n",
    "        ax1.text(a-0.5,0.25,'90')\n",
    "        ax1.text(a-0.35,o-0.4,f'γ(${r}^o$)')\n",
    "        ax1.text(a/2,-0.5,f'a=${sp.latex(A)}$')\n",
    "        #ax1.text(A+0.5,O/2,f'b={O}')\n",
    "        ax1.text(a+0.5,o/2,f'b')\n",
    "        #ax1.text(A/2-1,O/2,f'c=${sp.latex(H)}$')\n",
    "        ax1.text(a/2-1,o/2,f'c')\n",
    "        #fig1.savefig(os.getcwd()+\"\\\\static\\\\\"+Path_)\n",
    "        \n",
    "        # for jupyternote\n",
    "        plt.show()\n",
    "        # end for jupyternote\n",
    "        return Path_\n",
    "    except Exception as e:\n",
    "        print(e)\n",
    "        return None\n",
    "        \n",
    "    \n",
    "def Get_PF306_Expr(QN,Tx=-1):\n",
    "    NTE = []\n",
    "    for Qid in range(0, QN):\n",
    "        x=random.choice([2,3,4,5])\n",
    "        if Tx == 1:\n",
    "            theta = random.choice([30,45,60])\n",
    "            gamma=90-theta\n",
    "            if theta==30:\n",
    "                A=x*sp.sqrt(3)\n",
    "                O=sp.S(x)\n",
    "                H=sp.S(2*x)\n",
    "            elif theta==45:\n",
    "                A=sp.S(x)\n",
    "                O=sp.S(x)\n",
    "                H=x*sp.sqrt(2)\n",
    "            elif theta==60:\n",
    "                A=sp.S(x)\n",
    "                O=x*sp.sqrt(3)\n",
    "                H=sp.S(2*x)\n",
    "            bian_=[\"b\",\"c\"]\n",
    "            bian=random.choice(bian_)\n",
    "            St=[\"設直角三角形:\", r\"a=%s, \\gamma=%s^o, 求 %s  = ?\"%(sp.latex(A),gamma, bian)]\n",
    "            Val = 1\n",
    "            if bian==\"b\":\n",
    "                Val=O\n",
    "            if bian==\"c\":\n",
    "                Val=H\n",
    "            TE = GetTE(Qid, St, Val, Tx)\n",
    "            TE[\"PlotImg\"]=Plot_RightTriangle2(A,O,H,gamma,\"img\"+GetKey()+str(Qid)+\".png\")\n",
    "            NTE.append(TE)\n",
    "            \n",
    "        else:\n",
    "            theta = random.choice([30,45,60,37,53])\n",
    "            gamma=90-theta\n",
    "            if theta==30:\n",
    "                A=x*sp.sqrt(3)\n",
    "                O=sp.S(x)\n",
    "                H=sp.S(2*x)\n",
    "            elif theta==45:\n",
    "                A=sp.S(x)\n",
    "                O=sp.S(x)\n",
    "                H=x*sp.sqrt(2)\n",
    "            elif theta==60:\n",
    "                A=sp.S(x)\n",
    "                O=x*sp.sqrt(3)\n",
    "                H=sp.S(2*x)\n",
    "            elif theta==37:\n",
    "                A=sp.S(4*x)\n",
    "                O=sp.S(3*x)\n",
    "                H=sp.S(5*x)\n",
    "            elif theta==53:\n",
    "                A=sp.S(3*x)\n",
    "                O=sp.S(4*x)\n",
    "                H=sp.S(5*x)        \n",
    "            #A=random.choice([2,3,4,5,7])\n",
    "            #O=random.choice([2,3,4,5,7])\n",
    "            #H=sp.sqrt(A**2+O**2)\n",
    "            angle_=[\"theta\",\"gamma\"]\n",
    "            trig_=[\"sin\",\"cos\",\"tan\"]\n",
    "            trig=random.choice(trig_)\n",
    "            ang=random.choice(angle_)\n",
    "            St=[\"設直角三角形:\", r\"a=%s, b=%s, 求 %s \\%s = ?\"%(A,O, trig,ang)]\n",
    "            Val = 1\n",
    "            if trig==\"sin\":\n",
    "                if ang==\"theta\":             \n",
    "                    Val=O/H\n",
    "                if ang==\"gamma\":             \n",
    "                    Val=A/H\n",
    "            if trig==\"cos\":\n",
    "                if ang==\"theta\":             \n",
    "                    Val=A/H\n",
    "                if ang==\"gamma\":             \n",
    "                    Val=O/H\n",
    "            if trig==\"tan\":\n",
    "                if ang==\"theta\":             \n",
    "                    Val=sp.S(O)/A\n",
    "                if ang==\"gamma\":             \n",
    "                    Val=sp.S(A)/O\n",
    "            \n",
    "            TE = GetTE(Qid, St, Val, Tx)\n",
    "\n",
    "            TE[\"PlotImg\"]=Plot_RightTriangle(A,O,H,\"img\"+GetKey()+str(Qid)+\".png\")\n",
    "            NTE.append(TE)\n",
    "\n",
    "    return NTE\n",
    "\n",
    "Get_PF306_Expr(10,Tx=0)\n",
    "Get_PF306_Expr(10,Tx=1)\n"
   ]
  },
  {
   "cell_type": "markdown",
   "id": "governmental-jesus",
   "metadata": {},
   "source": [
    "# Plot 圖"
   ]
  },
  {
   "cell_type": "markdown",
   "id": "preceding-following",
   "metadata": {},
   "source": [
    "## 三邊 SSS"
   ]
  },
  {
   "cell_type": "code",
   "execution_count": 19,
   "id": "eligible-peeing",
   "metadata": {},
   "outputs": [
    {
     "data": {
      "image/png": "[encoded data removed]",
      "text/plain": [
       "<Figure size 432x288 with 1 Axes>"
      ]
     },
     "metadata": {
      "needs_background": "light"
     },
     "output_type": "display_data"
    }
   ],
   "source": [
    "fig = plt.figure()\n",
    "ax = fig.add_subplot(1, 1, 1)\n",
    "ax.set_aspect('equal')\n",
    "ax.grid()\n",
    "\n",
    "t = Triangle(sss=(3, 4, 5))\n",
    "\n",
    "ax.add_patch(plt.Polygon(t.vertices))\n",
    "ax.plot(*zip(*t.vertices), 'ro')\n",
    "\n",
    "plt.show()"
   ]
  },
  {
   "cell_type": "markdown",
   "id": "maritime-sussex",
   "metadata": {},
   "source": [
    "## 二邊一角 SAS"
   ]
  },
  {
   "cell_type": "code",
   "execution_count": 20,
   "id": "geological-saying",
   "metadata": {},
   "outputs": [
    {
     "data": {
      "image/png": "[encoded data removed]",
      "text/plain": [
       "<Figure size 432x288 with 1 Axes>"
      ]
     },
     "metadata": {
      "needs_background": "light"
     },
     "output_type": "display_data"
    }
   ],
   "source": [
    "fig = plt.figure()\n",
    "ax = fig.add_subplot(1, 1, 1)\n",
    "ax.set_aspect('equal')\n",
    "ax.grid()\n",
    "\n",
    "t = Triangle(sas=(4, 60, 2))\n",
    "\n",
    "ax.add_patch(plt.Polygon(t.vertices))\n",
    "ax.plot(*zip(*t.vertices), 'ro')\n",
    "\n",
    "plt.show()"
   ]
  },
  {
   "cell_type": "markdown",
   "id": "crucial-sweden",
   "metadata": {},
   "source": [
    "## 二角一邊 ASA , 及反轉"
   ]
  },
  {
   "cell_type": "code",
   "execution_count": 21,
   "id": "convertible-burns",
   "metadata": {},
   "outputs": [
    {
     "data": {
      "image/png": "[encoded data removed]",
      "text/plain": [
       "<Figure size 432x288 with 1 Axes>"
      ]
     },
     "metadata": {
      "needs_background": "light"
     },
     "output_type": "display_data"
    }
   ],
   "source": [
    "fig = plt.figure()\n",
    "ax = fig.add_subplot(1, 1, 1)\n",
    "ax.set_aspect('equal')\n",
    "ax.grid()\n",
    "\n",
    "t = Triangle(asa=(45, 3, 60))\n",
    "\n",
    "ax.add_patch(plt.Polygon(t.vertices))\n",
    "ax.plot(*zip(*t.vertices), 'ro')\n",
    "\n",
    "plt.show()\n"
   ]
  },
  {
   "cell_type": "markdown",
   "id": "trained-universal",
   "metadata": {},
   "source": [
    "## 填色"
   ]
  },
  {
   "cell_type": "code",
   "execution_count": 22,
   "id": "small-dietary",
   "metadata": {},
   "outputs": [
    {
     "data": {
      "image/png": "[encoded data removed]",
      "text/plain": [
       "<Figure size 432x288 with 1 Axes>"
      ]
     },
     "metadata": {
      "needs_background": "light"
     },
     "output_type": "display_data"
    }
   ],
   "source": [
    "from sympy import pi\n",
    "\n",
    "fig = plt.figure()\n",
    "ax = fig.add_subplot(1, 1, 1)\n",
    "ax.set_aspect('equal')\n",
    "ax.grid()\n",
    "\n",
    "t = Triangle(sss=(5, 6, 7))\n",
    "\n",
    "ax.add_patch(plt.Polygon(t.vertices, fill=False))\n",
    "ax.plot(*zip(*t.vertices), 'ro')\n",
    "\n",
    "plt.show()"
   ]
  },
  {
   "cell_type": "code",
   "execution_count": 26,
   "id": "delayed-drunk",
   "metadata": {},
   "outputs": [
    {
     "data": {
      "image/png": "[encoded data removed]",
      "text/plain": [
       "<Figure size 432x288 with 1 Axes>"
      ]
     },
     "metadata": {
      "needs_background": "light"
     },
     "output_type": "display_data"
    }
   ],
   "source": [
    "fig = plt.figure()\n",
    "ax = fig.add_subplot(1, 1, 1)\n",
    "ax.set_aspect('equal')\n",
    "ax.set_axis_off() #軸の非表示\n",
    "\n",
    "t = Triangle(sss=(5, 6, 7))\n",
    "\n",
    "ax.add_patch(plt.Polygon(t.vertices,\n",
    "                         facecolor=\"orange\", #塗り潰しの色\n",
    "                         linewidth=2, #辺の長さ\n",
    "                         edgecolor=\"green\", #辺の色\n",
    "                         alpha=.5 #半透明 0=透明 1=不透明\n",
    "                        ))\n",
    "ax.plot(*zip(*t.vertices), 'ro')\n",
    "\n",
    "plt.show()"
   ]
  },
  {
   "cell_type": "markdown",
   "id": "developmental-calgary",
   "metadata": {},
   "source": [
    "## 變數"
   ]
  },
  {
   "cell_type": "code",
   "execution_count": 30,
   "id": "prime-comparison",
   "metadata": {},
   "outputs": [
    {
     "name": "stdout",
     "output_type": "stream",
     "text": [
      "Segment2D(Point2D(0, 0), Point2D(5, 0)) Segment2D(Point2D(5, 0), Point2D(19/5, 12*sqrt(6)/5)) Segment2D(Point2D(19/5, 12*sqrt(6)/5), Point2D(0, 0))\n",
      "Segment2D(Point2D(0, 0), Point2D(5, 0)) Segment2D(Point2D(5, 0), Point2D(19/5, 12*sqrt(6)/5)) Segment2D(Point2D(19/5, 12*sqrt(6)/5), Point2D(0, 0))\n"
     ]
    }
   ],
   "source": [
    "ABC = Triangle(sss=(5, 6, 7))\n",
    "A, B, C = ABC.vertices #頂点\n",
    "AB, BC, CA = Segment(A, B), Segment(B, C), Segment(C, A) #辺の設定 右辺は ABC.sidesと同等\n",
    "a, b, c = BC.length, CA.length, AB.length #辺の長さ\n",
    "opposides = { #頂点に対する対辺(opposite side)\n",
    "    A: BC,\n",
    "    B: CA,\n",
    "    C: AB\n",
    "}\n",
    "print(AB,BC,CA)\n",
    "print(*ABC.sides)"
   ]
  },
  {
   "cell_type": "markdown",
   "id": "adapted-display",
   "metadata": {},
   "source": [
    "## 中點"
   ]
  },
  {
   "cell_type": "code",
   "execution_count": 31,
   "id": "weekly-selection",
   "metadata": {},
   "outputs": [
    {
     "data": {
      "image/png": "[encoded data removed]",
      "text/plain": [
       "<Figure size 432x288 with 1 Axes>"
      ]
     },
     "metadata": {
      "needs_background": "light"
     },
     "output_type": "display_data"
    }
   ],
   "source": [
    "fig = plt.figure()\n",
    "ax = fig.add_subplot(1, 1, 1)\n",
    "ax.set_aspect('equal')\n",
    "ax.set_axis_off()\n",
    "\n",
    "ax.add_patch(plt.Polygon((A,B,C), fill=False))\n",
    "ax.plot(*zip(A,B,C), 'ro')\n",
    "\n",
    "ax.add_patch(plt.Polygon((BC.midpoint,CA.midpoint,AB.midpoint), fill=False))\n",
    "ax.plot(*zip(BC.midpoint,CA.midpoint,AB.midpoint), 'ro')\n",
    "\n",
    "plt.show()"
   ]
  },
  {
   "cell_type": "markdown",
   "id": "defensive-holder",
   "metadata": {},
   "source": [
    "## 文字"
   ]
  },
  {
   "cell_type": "code",
   "execution_count": 32,
   "id": "major-correspondence",
   "metadata": {},
   "outputs": [
    {
     "data": {
      "image/png": "[encoded data removed]",
      "text/plain": [
       "<Figure size 432x288 with 1 Axes>"
      ]
     },
     "metadata": {
      "needs_background": "light"
     },
     "output_type": "display_data"
    }
   ],
   "source": [
    "fig = plt.figure()\n",
    "ax = fig.add_subplot(1, 1, 1)\n",
    "ax.set_aspect('equal')\n",
    "ax.set_axis_off()\n",
    "\n",
    "ax.add_patch(plt.Polygon((A, B, C), fill=False))\n",
    "ax.plot(*zip(*t.vertices), 'ro')\n",
    "\n",
    "plt.text(*A, '$\\mathrm{A}$', ha='right', va='top')\n",
    "plt.text(*B, '$\\mathrm{B}$', ha='left', va='top')\n",
    "plt.text(*C, '$\\mathrm{C}$', ha='left', va='bottom')\n",
    "\n",
    "plt.show()"
   ]
  },
  {
   "cell_type": "code",
   "execution_count": 33,
   "id": "senior-driver",
   "metadata": {},
   "outputs": [],
   "source": [
    "ABC = Triangle(sss=(5, 6, 7))\n",
    "A, B, C = ABC.vertices #頂点\n",
    "AB, BC, CA = Segment(A, B), Segment(B, C), Segment(C, A) #辺の設定 右辺は ABC.sidesと同等\n",
    "a, b, c = BC.length, CA.length, AB.length #辺の長さ\n",
    "opposides = { #頂点に対する対辺(opposite side)\n",
    "    A: BC,\n",
    "    B: CA,\n",
    "    C: AB\n",
    "}"
   ]
  },
  {
   "cell_type": "markdown",
   "id": "indie-funeral",
   "metadata": {},
   "source": [
    "## 重心點"
   ]
  },
  {
   "cell_type": "code",
   "execution_count": 34,
   "id": "resident-mailing",
   "metadata": {},
   "outputs": [
    {
     "data": {
      "image/png": "[encoded data removed]",
      "text/plain": [
       "<Figure size 432x288 with 1 Axes>"
      ]
     },
     "metadata": {
      "needs_background": "light"
     },
     "output_type": "display_data"
    }
   ],
   "source": [
    "fig = plt.figure()\n",
    "ax = fig.add_subplot(1, 1, 1)\n",
    "ax.set_aspect('equal')\n",
    "ax.set_axis_off()\n",
    "\n",
    "ax.add_patch(plt.Polygon((A, B, C), fill=False))\n",
    "\n",
    "G = ABC.centroid #重心を取得\n",
    "ax.plot(*zip(A, BC.midpoint)) #AとBCの中点を結ぶ\n",
    "ax.plot(*zip(B, CA.midpoint)) #BとCAの中点を結ぶ\n",
    "ax.plot(*zip(C, AB.midpoint)) #CとABの中点を結ぶ\n",
    "ax.plot(*zip(G), 'o') #重心をプロット\n",
    "\n",
    "plt.text(*A, '$\\mathrm{A}$', ha='right', va='top')\n",
    "plt.text(*B, '$\\mathrm{B}$', ha='left', va='top')\n",
    "plt.text(*C, '$\\mathrm{C}$', ha='left', va='bottom')\n",
    "plt.text(*G, '$\\mathrm{G}$', ha='left', va='top')\n",
    "\n",
    "plt.show()"
   ]
  },
  {
   "cell_type": "code",
   "execution_count": 35,
   "id": "expanded-fraction",
   "metadata": {},
   "outputs": [
    {
     "data": {
      "image/png": "[encoded data removed]",
      "text/plain": [
       "<Figure size 432x288 with 1 Axes>"
      ]
     },
     "metadata": {
      "needs_background": "light"
     },
     "output_type": "display_data"
    }
   ],
   "source": [
    "fig = plt.figure()\n",
    "ax = fig.add_subplot(1, 1, 1)\n",
    "ax.set_aspect('equal')\n",
    "ax.set_axis_off()\n",
    "\n",
    "ax.add_patch(plt.Polygon((A, B, C), fill=False))\n",
    "\n",
    "G = ABC.centroid #重心を取得\n",
    "for X in [A, B, C]: #中線のプロット\n",
    "    ax.plot(*zip(X, opposides[X].midpoint), linestyle='--', color='blue', linewidth=1)\n",
    "ax.plot(*zip(G), 'o') #重心をプロット\n",
    "\n",
    "ax.text(*A, '$\\mathrm{A}$', ha='right', va='top')\n",
    "ax.text(*B, '$\\mathrm{B}$', ha='left', va='top')\n",
    "ax.text(*C, '$\\mathrm{C}$', ha='left', va='bottom')\n",
    "ax.text(*G, '$\\mathrm{G}$', ha='left', va='top')\n",
    "\n",
    "plt.show()"
   ]
  },
  {
   "cell_type": "markdown",
   "id": "southern-bacteria",
   "metadata": {},
   "source": [
    "## 重心公式"
   ]
  },
  {
   "cell_type": "code",
   "execution_count": 36,
   "id": "waiting-muslim",
   "metadata": {},
   "outputs": [
    {
     "data": {
      "text/plain": [
       "True"
      ]
     },
     "execution_count": 36,
     "metadata": {},
     "output_type": "execute_result"
    }
   ],
   "source": [
    "ABC=Triangle(sss=(5,6,7))\n",
    "A, B, C = ABC.vertices\n",
    "G = (A+B+C)/3 #重心を計算\n",
    "G == ABC.centroid"
   ]
  },
  {
   "cell_type": "markdown",
   "id": "european-performer",
   "metadata": {},
   "source": [
    "## 垂心"
   ]
  },
  {
   "cell_type": "code",
   "execution_count": 37,
   "id": "inner-hopkins",
   "metadata": {},
   "outputs": [
    {
     "data": {
      "text/plain": [
       "{Point2D(0, 0): Segment2D(Point2D(0, 0), Point2D(24/5, 2*sqrt(6)/5)),\n",
       " Point2D(5, 0): Segment2D(Point2D(5, 0), Point2D(361/245, 228*sqrt(6)/245)),\n",
       " Point2D(19/5, 12*sqrt(6)/5): Segment2D(Point2D(19/5, 12*sqrt(6)/5), Point2D(19/5, 0))}"
      ]
     },
     "execution_count": 37,
     "metadata": {},
     "output_type": "execute_result"
    }
   ],
   "source": [
    "alts = ABC.altitudes #垂線の取得\n",
    "alts"
   ]
  },
  {
   "cell_type": "code",
   "execution_count": 38,
   "id": "still-budget",
   "metadata": {},
   "outputs": [
    {
     "data": {
      "image/png": "[encoded data removed]",
      "text/plain": [
       "<Figure size 432x288 with 1 Axes>"
      ]
     },
     "metadata": {
      "needs_background": "light"
     },
     "output_type": "display_data"
    }
   ],
   "source": [
    "fig = plt.figure()\n",
    "ax = fig.add_subplot(1, 1, 1)\n",
    "ax.set_aspect('equal')\n",
    "ax.set_axis_off()\n",
    "ax.add_patch(plt.Polygon((A, B, C), fill=False))\n",
    "\n",
    "H=ABC.orthocenter #垂心の取得\n",
    "alts = ABC.altitudes #垂線の取得\n",
    "for X in [A, B, C]: #垂線のプロット\n",
    "    ax.plot(*zip(*alts[X].args))\n",
    "ax.plot(*zip(H), 'o') #垂心をプロット\n",
    "\n",
    "plt.text(*A, '$\\mathrm{A}$', ha='right', va='top')\n",
    "plt.text(*B, '$\\mathrm{B}$', ha='left', va='top')\n",
    "plt.text(*C, '$\\mathrm{C}$', ha='left', va='bottom')\n",
    "plt.text(*H, '$\\mathrm{H}$', ha='left', va='bottom')\n",
    "\n",
    "plt.show()"
   ]
  },
  {
   "cell_type": "markdown",
   "id": "unsigned-qualification",
   "metadata": {},
   "source": [
    "## 中點垂直"
   ]
  },
  {
   "cell_type": "code",
   "execution_count": 39,
   "id": "silent-missile",
   "metadata": {},
   "outputs": [
    {
     "data": {
      "image/png": "[encoded data removed]",
      "text/plain": [
       "<Figure size 432x288 with 1 Axes>"
      ]
     },
     "metadata": {
      "needs_background": "light"
     },
     "output_type": "display_data"
    }
   ],
   "source": [
    "fig = plt.figure()\n",
    "ax = fig.add_subplot(1, 1, 1)\n",
    "ax.set_aspect('equal')\n",
    "ax.set_axis_off()\n",
    "\n",
    "ax.add_patch(plt.Polygon((A, B, C), fill=False))\n",
    "\n",
    "ax.plot(*zip(*AB.perpendicular_bisector().args)) #ABの垂直二等分線をプロット？\n",
    "ax.plot(*zip(*BC.perpendicular_bisector().args)) #BCの垂直二等分線をプロット？\n",
    "ax.plot(*zip(*CA.perpendicular_bisector().args)) #CAの垂直二等分線をプロット？\n",
    "ax.plot(*ABC.circumcenter, 'o') #外心をプロット\n",
    "\n",
    "ax.text(*A, '$\\mathrm{A}$', ha='right', va='top')\n",
    "ax.text(*B, '$\\mathrm{B}$', ha='left', va='top')\n",
    "ax.text(*C, '$\\mathrm{C}$', ha='left', va='bottom')\n",
    "\n",
    "plt.show()"
   ]
  },
  {
   "cell_type": "code",
   "execution_count": 42,
   "id": "mature-shanghai",
   "metadata": {},
   "outputs": [
    {
     "data": {
      "image/png": "[encoded data removed]",
      "text/plain": [
       "<Figure size 432x288 with 1 Axes>"
      ]
     },
     "metadata": {
      "needs_background": "light"
     },
     "output_type": "display_data"
    }
   ],
   "source": [
    "def side_of_line(p, q, mint=-100, maxt=100):\n",
    "    return zip(p+(q-p)*mint, p+(q-p)*maxt)\n",
    "\n",
    "def side_of_ray(p, q, maxt=100):\n",
    "    return zip(p, p+(q-p)*maxt)\n",
    "\n",
    "fig = plt.figure()\n",
    "ax = fig.add_subplot(1, 1, 1)\n",
    "ax.set_aspect('equal')\n",
    "ax.set_axis_off()\n",
    "ax.set_xlim(-10, 10)\n",
    "ax.set_ylim(-10, 10)\n",
    "\n",
    "ax.add_patch(plt.Polygon((A, B, C), fill=False))\n",
    "\n",
    "ax.plot(*side_of_line(*AB.perpendicular_bisector().args)) #ABの垂直二等分線をプロット\n",
    "ax.plot(*side_of_line(*BC.perpendicular_bisector().args)) #BCの垂直二等分線をプロット\n",
    "ax.plot(*side_of_line(*CA.perpendicular_bisector().args)) #CAの垂直二等分線をプロット\n",
    "\n",
    "ax.plot(*ABC.circumcenter, 'o') #外心\n",
    "\n",
    "ax.text(*A, '$\\mathrm{A}$', ha='right', va='top')\n",
    "ax.text(*B, '$\\mathrm{B}$', ha='left', va='top')\n",
    "ax.text(*C, '$\\mathrm{C}$', ha='left', va='bottom')\n",
    "\n",
    "plt.show()"
   ]
  },
  {
   "cell_type": "code",
   "execution_count": 44,
   "id": "careful-symphony",
   "metadata": {},
   "outputs": [
    {
     "data": {
      "image/png": "[encoded data removed]",
      "text/plain": [
       "<Figure size 432x288 with 1 Axes>"
      ]
     },
     "metadata": {
      "needs_background": "light"
     },
     "output_type": "display_data"
    }
   ],
   "source": [
    "\n",
    "ax = plt.gca()\n",
    "ax.set_xlim((-3,8))\n",
    "ax.set_ylim((-3,8))\n",
    "ax.set_axis_off()\n",
    "ax.set_aspect('equal')\n",
    "\n",
    "ax.add_patch(plt.Polygon((A, B, C), fill=False))\n",
    "\n",
    "O=ABC.circumcenter #外心の取得\n",
    "\n",
    "for X in [A, B, C]:\n",
    "    ax.plot(*side_of_line(*opposides[X].perpendicular_bisector().args)) #Xの対辺の垂直二等分線をプロット\n",
    "\n",
    "ax.plot(*O, 'o') #外心をプロット\n",
    "ax.add_patch(plt.Circle(O, ABC.circumradius, fill=False)) #外接円をプロット\n",
    "\n",
    "ax.text(*A, '$\\mathrm{A}$', ha='right', va='top')\n",
    "ax.text(*B, '$\\mathrm{B}$', ha='left', va='top')\n",
    "ax.text(*C, '$\\mathrm{C}$', ha='left', va='bottom')\n",
    "ax.text(*O, '$\\mathrm{O}$', ha='right', va='top')\n",
    "\n",
    "plt.show()"
   ]
  },
  {
   "cell_type": "code",
   "execution_count": 43,
   "id": "amateur-event",
   "metadata": {},
   "outputs": [
    {
     "data": {
      "image/png": "[encoded data removed]",
      "text/plain": [
       "<Figure size 432x288 with 1 Axes>"
      ]
     },
     "metadata": {
      "needs_background": "light"
     },
     "output_type": "display_data"
    }
   ],
   "source": [
    "ax = plt.gca()\n",
    "ax.set_axis_off()\n",
    "ax.set_aspect('equal')\n",
    "\n",
    "ax.add_patch(plt.Polygon((A, B, C), fill=False))\n",
    "\n",
    "bisectors = ABC.bisectors() #内角の二等分線を取得\n",
    "\n",
    "I = ABC.incenter #内心の取得\n",
    "for X in [A, B, C]:\n",
    "    ax.plot(*zip(*bisectors[X].args)) #角Xの二等分線をプロット\n",
    "ax.plot(*zip(I), 'o') #内心をプロット\n",
    "ax.add_patch(plt.Circle(I, ABC.inradius, fill=False)) #内接円をプロット\n",
    "\n",
    "ax.text(*A, '$\\mathrm{A}$', ha='right', va='top')\n",
    "ax.text(*B, '$\\mathrm{B}$', ha='left', va='top')\n",
    "ax.text(*C, '$\\mathrm{C}$', ha='left', va='bottom')\n",
    "ax.text(*I, '$\\mathrm{I}$', ha='left', va='top')\n",
    "\n",
    "plt.show()"
   ]
  },
  {
   "cell_type": "code",
   "execution_count": 31,
   "id": "central-portfolio",
   "metadata": {},
   "outputs": [
    {
     "data": {
      "image/png": "[encoded data removed]",
      "text/plain": [
       "<Figure size 432x288 with 1 Axes>"
      ]
     },
     "metadata": {
      "needs_background": "light"
     },
     "output_type": "display_data"
    }
   ],
   "source": [
    "# Perquisites\n",
    "import datetime\n",
    "import numpy as np\n",
    "import scipy as scp\n",
    "import sympy as sp\n",
    "from sympy.geometry import Point, Circle, Triangle, Segment, Line, RegularPolygon\n",
    "import random\n",
    "import math\n",
    "import matplotlib.pyplot as plt\n",
    "from matplotlib.figure import Figure\n",
    "from IPython.display import Latex,HTML,Markdown                 #網頁顯示數學符號\n",
    "from sympy.plotting import plot\n",
    "from sympy import pi\n",
    "#plot(expr1,(x, -5, 5)) \n",
    "u=sp.Symbol('u')\n",
    "expr1=(u, sp.sin(2*pi*u)+sp.cos(2*pi*u)+u)\n",
    "expr2=(u, sp.sin(2*pi*u))\n",
    "expr3=(u, sp.cos(2*pi*u))\n",
    "expr4=(sp.sin(2*pi*u), sp.cos(2*pi*u))\n",
    "p=sp.plot_parametric(expr1, expr2,expr3,expr4, (u, 0,5 ), xlim =(0,5),ylim =(-2,2),line_color='blue',show=False)\n",
    "p[1].line_color='red'\n",
    "p[2].line_color='green'\n",
    "p.show()\n"
   ]
  },
  {
   "cell_type": "markdown",
   "id": "vulnerable-conference",
   "metadata": {},
   "source": [
    "# Reference"
   ]
  },
  {
   "cell_type": "markdown",
   "id": "operating-world",
   "metadata": {},
   "source": [
    "[Symbolic Algebra and Geometry Introduction](https://coolum001.github.io/category/sympy.html)    \n",
    "\n",
    "[sympyとmatplotlibで三角形](https://qiita.com/HigashinoSola/items/2ab8894b543e0c55cfa7)\n",
    "\n",
    "[sin-cos-and-tan](https://revisionmaths.com/gcse-maths-revision/trigonometry/sin-cos-and-tan)\n",
    "\n",
    "[Sine And Cosine Rule](http://www.bat400.com/step-up/sect4/index.htm)     \n",
    "\n",
    "[Sine, Cosine and Tangent](https://www.mathsisfun.com/sine-cosine-tangent.html)  "
   ]
  }
 ],
 "metadata": {
  "kernelspec": {
   "display_name": "Python 3",
   "language": "python",
   "name": "python3"
  },
  "language_info": {
   "codemirror_mode": {
    "name": "ipython",
    "version": 3
   },
   "file_extension": ".py",
   "mimetype": "text/x-python",
   "name": "python",
   "nbconvert_exporter": "python",
   "pygments_lexer": "ipython3",
   "version": "3.9.9"
  }
 },
 "nbformat": 4,
 "nbformat_minor": 5
}

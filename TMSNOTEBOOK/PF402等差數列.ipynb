{
 "cells": [
  {
   "cell_type": "markdown",
   "id": "informed-contrast",
   "metadata": {},
   "source": [
    "# 等差數列之和"
   ]
  },
  {
   "cell_type": "markdown",
   "id": "gothic-dispatch",
   "metadata": {
    "tags": []
   },
   "source": [
    "## 1.數列之和函數為：summation\n",
    "\n",
    "summation(一般項 a_i, (i, 初值, 終值)) 。\n",
    "\n",
    "等差  \n",
    "$\\sum_{i=1}^{10} i$\n",
    "\n",
    "等比  \n",
    "$\\sum_{i=1}^{10} i*2$  \n",
    "\n",
    "指數  \n",
    "$\\sum_{i=1}^{10} i^2$  "
   ]
  },
  {
   "cell_type": "code",
   "execution_count": 17,
   "id": "banned-massachusetts",
   "metadata": {},
   "outputs": [
    {
     "data": {
      "image/png": "[encoded data removed]",
      "text/latex": [
       "$\\displaystyle 55$"
      ],
      "text/plain": [
       "55"
      ]
     },
     "execution_count": 17,
     "metadata": {},
     "output_type": "execute_result"
    }
   ],
   "source": [
    "import sympy as sp    \n",
    "i=sp.Symbol('i')   \n",
    "sp.summation(i, (i, 1, 10))    "
   ]
  },
  {
   "cell_type": "code",
   "execution_count": 15,
   "id": "loving-wrong",
   "metadata": {},
   "outputs": [
    {
     "data": {
      "image/png": "[encoded data removed]",
      "text/latex": [
       "$\\displaystyle 110$"
      ],
      "text/plain": [
       "110"
      ]
     },
     "execution_count": 15,
     "metadata": {},
     "output_type": "execute_result"
    }
   ],
   "source": [
    "import sympy as sp    \n",
    "i=sp.Symbol('i')   \n",
    "sp.summation(i*2, (i, 1, 10))    "
   ]
  },
  {
   "cell_type": "code",
   "execution_count": 19,
   "id": "intermediate-norman",
   "metadata": {},
   "outputs": [
    {
     "data": {
      "image/png": "[encoded data removed]",
      "text/latex": [
       "$\\displaystyle 385$"
      ],
      "text/plain": [
       "385"
      ]
     },
     "execution_count": 19,
     "metadata": {},
     "output_type": "execute_result"
    }
   ],
   "source": [
    "sp.summation(i**2, (i, 1, 10))"
   ]
  },
  {
   "cell_type": "markdown",
   "id": "robust-diabetes",
   "metadata": {
    "tags": []
   },
   "source": [
    "## 2.嘗試從 1 到 11 的等差和。"
   ]
  },
  {
   "cell_type": "code",
   "execution_count": 59,
   "id": "casual-devil",
   "metadata": {
    "tags": []
   },
   "outputs": [
    {
     "data": {
      "text/plain": [
       "66"
      ]
     },
     "execution_count": 59,
     "metadata": {},
     "output_type": "execute_result"
    }
   ],
   "source": [
    "1 + 2 + 3 + 4 + 5 + 6 + 7 + 8 + 9 + 10+11"
   ]
  },
  {
   "cell_type": "code",
   "execution_count": 1,
   "id": "sonic-floating",
   "metadata": {},
   "outputs": [
    {
     "data": {
      "text/plain": [
       "array([ 0,  5, 10, 15, 20, 25, 30, 35, 40, 45, 50, 55])"
      ]
     },
     "execution_count": 1,
     "metadata": {},
     "output_type": "execute_result"
    }
   ],
   "source": [
    "import sympy as sp\n",
    "import numpy as np\n",
    "n,i= sp.symbols('n,i')\n",
    "expre= n*5\n",
    "expr_func= sp.lambdify(n,expre)\n",
    "a=expr_func(np.arange(12))\n",
    "a"
   ]
  },
  {
   "cell_type": "markdown",
   "id": "motivated-branch",
   "metadata": {},
   "source": [
    "### 2.1 定義等差d"
   ]
  },
  {
   "cell_type": "code",
   "execution_count": 3,
   "id": "handmade-following",
   "metadata": {},
   "outputs": [
    {
     "data": {
      "text/plain": [
       "5"
      ]
     },
     "execution_count": 3,
     "metadata": {},
     "output_type": "execute_result"
    }
   ],
   "source": [
    "d=a[2]-a[1]\n",
    "d"
   ]
  },
  {
   "cell_type": "markdown",
   "id": "embedded-peninsula",
   "metadata": {},
   "source": [
    "### 2.2 通項 a[i], i [1,2,3...n]\n",
    "\n",
    "註明:電腦從計 a[0] 計算,這里a[0]不使用"
   ]
  },
  {
   "cell_type": "code",
   "execution_count": 4,
   "id": "surrounded-gauge",
   "metadata": {
    "tags": []
   },
   "outputs": [
    {
     "data": {
      "text/latex": [
       "$\\displaystyle 55$"
      ],
      "text/plain": [
       "55"
      ]
     },
     "execution_count": 4,
     "metadata": {},
     "output_type": "execute_result"
    }
   ],
   "source": [
    "\n",
    "(a[1]+(n-1)*d).subs(n,11)"
   ]
  },
  {
   "cell_type": "markdown",
   "id": "destroyed-captain",
   "metadata": {},
   "source": [
    "### 2.3 數列和"
   ]
  },
  {
   "cell_type": "code",
   "execution_count": 67,
   "id": "brutal-massage",
   "metadata": {},
   "outputs": [
    {
     "data": {
      "text/latex": [
       "$\\displaystyle 396$"
      ],
      "text/plain": [
       "396"
      ]
     },
     "execution_count": 67,
     "metadata": {},
     "output_type": "execute_result"
    }
   ],
   "source": [
    "sp.summation(expre, (n, 1, 11)) "
   ]
  },
  {
   "cell_type": "markdown",
   "id": "included-editor",
   "metadata": {},
   "source": [
    "### 2.4 計算公式  $\\frac{n(n+1)}{2}$  由  n=10  也可要求。"
   ]
  },
  {
   "cell_type": "code",
   "execution_count": 13,
   "id": "individual-champion",
   "metadata": {},
   "outputs": [],
   "source": [
    "import sympy as sp\n",
    "n= sp.Symbol('n')"
   ]
  },
  {
   "cell_type": "code",
   "execution_count": 16,
   "id": "ideal-spine",
   "metadata": {
    "tags": []
   },
   "outputs": [
    {
     "data": {
      "text/latex": [
       "$\\displaystyle \\frac{n \\left(n + 1\\right)}{2}$"
      ],
      "text/plain": [
       "n*(n + 1)/2"
      ]
     },
     "execution_count": 16,
     "metadata": {},
     "output_type": "execute_result"
    }
   ],
   "source": [
    "(n*(n + 1)/2)"
   ]
  },
  {
   "cell_type": "code",
   "execution_count": 58,
   "id": "finite-velvet",
   "metadata": {
    "tags": []
   },
   "outputs": [
    {
     "data": {
      "text/latex": [
       "$\\displaystyle 66$"
      ],
      "text/plain": [
       "66"
      ]
     },
     "execution_count": 58,
     "metadata": {},
     "output_type": "execute_result"
    }
   ],
   "source": [
    "(n*(n + 1)/2).subs(n,11)"
   ]
  },
  {
   "cell_type": "markdown",
   "id": "advanced-subscription",
   "metadata": {},
   "source": [
    "## 題型一"
   ]
  },
  {
   "cell_type": "code",
   "execution_count": 66,
   "id": "cheap-drove",
   "metadata": {},
   "outputs": [
    {
     "name": "stdout",
     "output_type": "stream",
     "text": [
      "[4, 0, -8, -1, 8, -3, -5, 3, 2, 6]\n",
      "[ 0  4  8 12 16 20 24 28 32 36 40 44]\n",
      "己知 a10=40,d=4,求a3?\n",
      "12\n",
      "[ 0  1  2  3  4  5  6  7  8  9 10 11]\n",
      "己知 a9=9,d=1,求a2?\n",
      "2\n",
      "[  0  -8 -16 -24 -32 -40 -48 -56 -64 -72 -80 -88]\n",
      "己知 a1=-8,d=-8,求a6?\n",
      "-48\n",
      "[  0  -1  -2  -3  -4  -5  -6  -7  -8  -9 -10 -11]\n",
      "己知 a3=-3,d=-1,求a8?\n",
      "-8\n",
      "[ 0  8 16 24 32 40 48 56 64 72 80 88]\n",
      "己知 a3=24,d=8,求a8?\n",
      "64\n",
      "[  0  -3  -6  -9 -12 -15 -18 -21 -24 -27 -30 -33]\n",
      "己知 a10=-30,d=-3,求a5?\n",
      "-15\n",
      "[  0  -5 -10 -15 -20 -25 -30 -35 -40 -45 -50 -55]\n",
      "己知 a2=-10,d=-5,求a8?\n",
      "-40\n",
      "[ 0  3  6  9 12 15 18 21 24 27 30 33]\n",
      "己知 a1=3,d=3,求a7?\n",
      "21\n",
      "[ 0  2  4  6  8 10 12 14 16 18 20 22]\n",
      "己知 a3=6,d=2,求a8?\n",
      "16\n",
      "[ 0  6 12 18 24 30 36 42 48 54 60 66]\n",
      "己知 a8=48,d=6,求a1?\n",
      "6\n"
     ]
    }
   ],
   "source": [
    "import sympy as sp\n",
    "import numpy as np\n",
    "import random\n",
    "n= sp.symbols('n')\n",
    "a1=random.sample(range(-9,10), k=10)\n",
    "print(a1)\n",
    "for i in range(10):\n",
    "    a2=random.randrange(10) +1 \n",
    "    a3=(a2+random.choice(range(4,7)) )% 11 ;a3=a3 if a3>0 else 1;\n",
    "    d=a1[i]; d= d if d!=0 else 1\n",
    "    expre= n*d\n",
    "    expr_func= sp.lambdify(n,expre)\n",
    "    a=expr_func(np.arange(12))\n",
    "    print(a)\n",
    "    St=f\"己知 a{a2}={a[a2]},d={d},求a{a3}?\"\n",
    "    Val=a[a3]\n",
    "    print(St)\n",
    "    print(Val)"
   ]
  },
  {
   "cell_type": "markdown",
   "id": "endangered-asthma",
   "metadata": {},
   "source": [
    "## 題型二"
   ]
  },
  {
   "cell_type": "code",
   "execution_count": 70,
   "id": "twelve-microphone",
   "metadata": {},
   "outputs": [
    {
     "name": "stdout",
     "output_type": "stream",
     "text": [
      "[3, -8, 1, -1, 9, -7, 8, 2, 5, -6]\n",
      "[ 0  3  6  9 12 15 18 21 24 27 30 33 36 39 42 45 48 51 54 57 60]\n",
      "己知 a10=30,a5=15,求?d\n",
      "3\n",
      "[   0   -8  -16  -24  -32  -40  -48  -56  -64  -72  -80  -88  -96 -104\n",
      " -112 -120 -128 -136 -144 -152 -160]\n",
      "己知 a7=-56,a1=-8,求?d\n",
      "-8\n",
      "[ 0  1  2  3  4  5  6  7  8  9 10 11 12 13 14 15 16 17 18 19 20]\n",
      "己知 a5=5,a9=9,求?d\n",
      "1\n",
      "[  0  -1  -2  -3  -4  -5  -6  -7  -8  -9 -10 -11 -12 -13 -14 -15 -16 -17\n",
      " -18 -19 -20]\n",
      "己知 a6=-6,a1=-1,求?d\n",
      "-1\n",
      "[  0   9  18  27  36  45  54  63  72  81  90  99 108 117 126 135 144 153\n",
      " 162 171 180]\n",
      "己知 a3=27,a9=81,求?d\n",
      "9\n",
      "[   0   -7  -14  -21  -28  -35  -42  -49  -56  -63  -70  -77  -84  -91\n",
      "  -98 -105 -112 -119 -126 -133 -140]\n",
      "己知 a9=-63,a2=-14,求?d\n",
      "-7\n",
      "[  0   8  16  24  32  40  48  56  64  72  80  88  96 104 112 120 128 136\n",
      " 144 152 160]\n",
      "己知 a10=80,a3=24,求?d\n",
      "8\n",
      "[ 0  2  4  6  8 10 12 14 16 18 20 22 24 26 28 30 32 34 36 38 40]\n",
      "己知 a10=20,a5=10,求?d\n",
      "2\n",
      "[  0   5  10  15  20  25  30  35  40  45  50  55  60  65  70  75  80  85\n",
      "  90  95 100]\n",
      "己知 a6=30,a1=5,求?d\n",
      "5\n",
      "[   0   -6  -12  -18  -24  -30  -36  -42  -48  -54  -60  -66  -72  -78\n",
      "  -84  -90  -96 -102 -108 -114 -120]\n",
      "己知 a4=-24,a10=-60,求?d\n",
      "-6\n"
     ]
    }
   ],
   "source": [
    "import sympy as sp\n",
    "import numpy as np\n",
    "import random\n",
    "n= sp.symbols('n')\n",
    "a1=random.sample(range(-9,10), k=10)\n",
    "print(a1)\n",
    "for i in range(10):\n",
    "    a2=random.randrange(10) +1 \n",
    "    a3=(a2+random.choice(range(4,7)) )% 11 ;a3=a3 if a3>0 else 1;\n",
    "    d=a1[i]; d= d if d!=0 else 1\n",
    "    expre= n*d\n",
    "    expr_func= sp.lambdify(n,expre)\n",
    "    a=expr_func(np.arange(21))\n",
    "    print(a)\n",
    "    St=f\"己知 a{a2}={a[a2]},a{a3}={a[a3]},求?d\"\n",
    "    Val=d\n",
    "    print(St)\n",
    "    print(Val)"
   ]
  },
  {
   "cell_type": "markdown",
   "id": "sought-advocate",
   "metadata": {},
   "source": [
    "## 題型三"
   ]
  },
  {
   "cell_type": "code",
   "execution_count": 88,
   "id": "distinguished-judgment",
   "metadata": {
    "tags": []
   },
   "outputs": [
    {
     "name": "stdout",
     "output_type": "stream",
     "text": [
      "[-5, 7, 3, -7, 2, -2, 9, 4, 6, -8]\n",
      "[  0  -5 -10 -15 -20 -25 -30 -35 -40 -45 -50 -55 -60 -65 -70 -75 -80 -85]\n",
      "己知 -5,-10,-15,..-35, S7 ?\n",
      "-140\n",
      "[  0   7  14  21  28  35  42  49  56  63  70  77  84  91  98 105 112 119]\n",
      "己知 7,14,21,..56, S8 ?\n",
      "252\n",
      "[ 0  3  6  9 12 15 18 21 24 27 30 33 36 39 42 45 48 51]\n",
      "己知 3,6,9,..21, S7 ?\n",
      "84\n",
      "[   0   -7  -14  -21  -28  -35  -42  -49  -56  -63  -70  -77  -84  -91\n",
      "  -98 -105 -112 -119]\n",
      "己知 -7,-14,-21,..-63, S9 ?\n",
      "-315\n",
      "[ 0  2  4  6  8 10 12 14 16 18 20 22 24 26 28 30 32 34]\n",
      "己知 2,4,6,..12, S6 ?\n",
      "42\n",
      "[  0  -2  -4  -6  -8 -10 -12 -14 -16 -18 -20 -22 -24 -26 -28 -30 -32 -34]\n",
      "己知 -2,-4,-6,..-18, S9 ?\n",
      "-90\n",
      "[  0   9  18  27  36  45  54  63  72  81  90  99 108 117 126 135 144 153]\n",
      "己知 9,18,27,..54, S6 ?\n",
      "189\n",
      "[ 0  4  8 12 16 20 24 28 32 36 40 44 48 52 56 60 64 68]\n",
      "己知 4,8,12,..24, S6 ?\n",
      "84\n",
      "[  0   6  12  18  24  30  36  42  48  54  60  66  72  78  84  90  96 102]\n",
      "己知 6,12,18,..42, S7 ?\n",
      "168\n",
      "[   0   -8  -16  -24  -32  -40  -48  -56  -64  -72  -80  -88  -96 -104\n",
      " -112 -120 -128 -136]\n",
      "己知 -8,-16,-24,..-88, S11 ?\n",
      "-528\n"
     ]
    }
   ],
   "source": [
    "import sympy as sp\n",
    "import numpy as np\n",
    "import random\n",
    "n= sp.symbols('n')\n",
    "a1=random.sample(range(-9,10), k=10)\n",
    "print(a1)\n",
    "for i in range(10):\n",
    "    a2=random.randrange(6) + 6 \n",
    "    a3=(a2+random.choice(range(4,7)) )% 11 ;a3=a3 if a3>0 else 1;\n",
    "    d=a1[i]; d= d if d!=0 else 1\n",
    "    expre= n*d\n",
    "    expr_func= sp.lambdify(n,expre)\n",
    "    a=expr_func(np.arange(18))\n",
    "    print(a)\n",
    "    tem_=\"\"\n",
    "    for i,a_ in enumerate(a):\n",
    "        if i>0 and i<4  :\n",
    "            tem_ = tem_+str(a_ )+\",\"\n",
    "    St=r'己知 {}..{}, S{} ?'.format(tem_,a[a2],a2)\n",
    "    Val=sp.summation(expre, (n, 1, a2))\n",
    "    print(St)\n",
    "    print(Val)"
   ]
  },
  {
   "cell_type": "markdown",
   "id": "controlled-wyoming",
   "metadata": {},
   "source": [
    "## 題型四"
   ]
  },
  {
   "cell_type": "code",
   "execution_count": 91,
   "id": "roman-powell",
   "metadata": {},
   "outputs": [
    {
     "name": "stdout",
     "output_type": "stream",
     "text": [
      "[4, -8, 0, -9, 1, -5, 8, -4, 6, 5]\n",
      "[ 0  4  8 12 16 20 24 28 32 36 40 44 48 52 56 60 64 68]\n",
      "己知 a1=4,d=4, S8 ?\n",
      "144\n",
      "[   0   -8  -16  -24  -32  -40  -48  -56  -64  -72  -80  -88  -96 -104\n",
      " -112 -120 -128 -136]\n",
      "己知 a1=-8,d=-8, S7 ?\n",
      "-224\n",
      "[ 0  1  2  3  4  5  6  7  8  9 10 11 12 13 14 15 16 17]\n",
      "己知 a1=1,d=1, S11 ?\n",
      "66\n",
      "[   0   -9  -18  -27  -36  -45  -54  -63  -72  -81  -90  -99 -108 -117\n",
      " -126 -135 -144 -153]\n",
      "己知 a1=-9,d=-9, S8 ?\n",
      "-324\n",
      "[ 0  1  2  3  4  5  6  7  8  9 10 11 12 13 14 15 16 17]\n",
      "己知 a1=1,d=1, S9 ?\n",
      "45\n",
      "[  0  -5 -10 -15 -20 -25 -30 -35 -40 -45 -50 -55 -60 -65 -70 -75 -80 -85]\n",
      "己知 a1=-5,d=-5, S10 ?\n",
      "-275\n",
      "[  0   8  16  24  32  40  48  56  64  72  80  88  96 104 112 120 128 136]\n",
      "己知 a1=8,d=8, S11 ?\n",
      "528\n",
      "[  0  -4  -8 -12 -16 -20 -24 -28 -32 -36 -40 -44 -48 -52 -56 -60 -64 -68]\n",
      "己知 a1=-4,d=-4, S6 ?\n",
      "-84\n",
      "[  0   6  12  18  24  30  36  42  48  54  60  66  72  78  84  90  96 102]\n",
      "己知 a1=6,d=6, S6 ?\n",
      "126\n",
      "[ 0  5 10 15 20 25 30 35 40 45 50 55 60 65 70 75 80 85]\n",
      "己知 a1=5,d=5, S9 ?\n",
      "225\n"
     ]
    }
   ],
   "source": [
    "import sympy as sp\n",
    "import numpy as np\n",
    "import random\n",
    "n= sp.symbols('n')\n",
    "a1=random.sample(range(-9,10), k=10)\n",
    "print(a1)\n",
    "for i in range(10):\n",
    "    a2=random.randrange(6) + 6 \n",
    "    a3=(a2+random.choice(range(4,7)) )% 11 ;a3=a3 if a3>0 else 1;\n",
    "    d=a1[i]; d= d if d!=0 else 1\n",
    "    expre= n*d\n",
    "    expr_func= sp.lambdify(n,expre)\n",
    "    a=expr_func(np.arange(18))\n",
    "    print(a)\n",
    "    St=r'己知 a1={},d={}, S{} ?'.format(a[1],d,a2)\n",
    "    Val=sp.summation(expre, (n, 1, a2))\n",
    "    print(St)\n",
    "    print(Val)"
   ]
  },
  {
   "cell_type": "markdown",
   "id": "direct-demonstration",
   "metadata": {},
   "source": [
    "## 3. 等比和"
   ]
  },
  {
   "cell_type": "code",
   "execution_count": 1,
   "id": "accomplished-dover",
   "metadata": {},
   "outputs": [
    {
     "data": {
      "text/plain": [
       "683"
      ]
     },
     "execution_count": 1,
     "metadata": {},
     "output_type": "execute_result"
    }
   ],
   "source": [
    "1-2+4-8+ 16 -32 +64- 128+ 256 -512 + 1024 "
   ]
  },
  {
   "cell_type": "code",
   "execution_count": 78,
   "id": "pharmaceutical-endorsement",
   "metadata": {},
   "outputs": [
    {
     "data": {
      "text/plain": [
       "-0.5"
      ]
     },
     "execution_count": 78,
     "metadata": {},
     "output_type": "execute_result"
    }
   ],
   "source": [
    "exper =-2**(-1)"
   ]
  },
  {
   "cell_type": "code",
   "execution_count": 85,
   "id": "labeled-affair",
   "metadata": {
    "tags": []
   },
   "outputs": [
    {
     "data": {
      "text/plain": [
       "array([   1,    1,   -2,    4,   -8,   16,  -32,   64, -128,  256, -512,\n",
       "       1024], dtype=int32)"
      ]
     },
     "execution_count": 85,
     "metadata": {},
     "output_type": "execute_result"
    }
   ],
   "source": [
    "import sympy as sp\n",
    "import numpy as np\n",
    "n,i= sp.symbols('n,i')\n",
    "expre= (-2) ** (n-1)\n",
    "expr_func= sp.lambdify(n, expre)\n",
    "n_arr=np.arange(12)\n",
    "n_arr[0]=1\n",
    "a=expr_func(n_arr)\n",
    "a"
   ]
  },
  {
   "cell_type": "markdown",
   "id": "stable-hands",
   "metadata": {},
   "source": [
    "### 3.1 等比"
   ]
  },
  {
   "cell_type": "code",
   "execution_count": 87,
   "id": "answering-cholesterol",
   "metadata": {},
   "outputs": [
    {
     "data": {
      "text/plain": [
       "-2.0"
      ]
     },
     "execution_count": 87,
     "metadata": {},
     "output_type": "execute_result"
    }
   ],
   "source": [
    "\n",
    "q=a[4]/a[3]\n",
    "q"
   ]
  },
  {
   "cell_type": "markdown",
   "id": "front-narrative",
   "metadata": {},
   "source": [
    "### 3.2 通項"
   ]
  },
  {
   "cell_type": "code",
   "execution_count": 88,
   "id": "ambient-doctrine",
   "metadata": {},
   "outputs": [
    {
     "data": {
      "text/latex": [
       "$\\displaystyle 1024$"
      ],
      "text/plain": [
       "1024"
      ]
     },
     "execution_count": 88,
     "metadata": {},
     "output_type": "execute_result"
    }
   ],
   "source": [
    "\n",
    "expre.subs(n,11)"
   ]
  },
  {
   "cell_type": "code",
   "execution_count": 89,
   "id": "hungarian-money",
   "metadata": {},
   "outputs": [
    {
     "data": {
      "text/plain": [
       "1024.0"
      ]
     },
     "execution_count": 89,
     "metadata": {},
     "output_type": "execute_result"
    }
   ],
   "source": [
    "a[1] * q**(11-1)"
   ]
  },
  {
   "cell_type": "markdown",
   "id": "sufficient-shame",
   "metadata": {},
   "source": [
    "### 3.3 數列和"
   ]
  },
  {
   "cell_type": "code",
   "execution_count": 97,
   "id": "tested-arrival",
   "metadata": {},
   "outputs": [
    {
     "data": {
      "text/latex": [
       "$\\displaystyle 683.0$"
      ],
      "text/plain": [
       "683.000000000000"
      ]
     },
     "execution_count": 97,
     "metadata": {},
     "output_type": "execute_result"
    }
   ],
   "source": [
    "(a[1]*(1-q**n)/(1-q)).subs(n,11) "
   ]
  },
  {
   "cell_type": "code",
   "execution_count": 95,
   "id": "italian-chart",
   "metadata": {
    "tags": []
   },
   "outputs": [
    {
     "data": {
      "text/plain": [
       "683.0"
      ]
     },
     "execution_count": 95,
     "metadata": {},
     "output_type": "execute_result"
    }
   ],
   "source": [
    "(a[1]-a[11]*q)/(1-q)"
   ]
  },
  {
   "cell_type": "code",
   "execution_count": 94,
   "id": "multiple-rover",
   "metadata": {},
   "outputs": [
    {
     "data": {
      "text/latex": [
       "$\\displaystyle 683$"
      ],
      "text/plain": [
       "683"
      ]
     },
     "execution_count": 94,
     "metadata": {},
     "output_type": "execute_result"
    }
   ],
   "source": [
    "sp.summation( expre, (n, 1, 11))     "
   ]
  },
  {
   "cell_type": "markdown",
   "id": "thirty-anaheim",
   "metadata": {},
   "source": [
    "### 3.4 公式表"
   ]
  },
  {
   "cell_type": "markdown",
   "id": "proprietary-static",
   "metadata": {},
   "source": [
    "![](https://appwk.baidu.com/naapi/doc/view?ih=673&o=jpg_6_0_______&iw=678&ix=0&iy=0&aimw=678&rn=1&doc_id=21ad731a59eef8c75fbfb3d0&pn=1&sign=095cfb97e48b57b1777292b350277067&type=1&app_ver=2.9.8.2&ua=bd_800_800_IncredibleS_2.9.8.2_2.3.7&bid=1&app_ua=IncredibleS&uid=&cuid=&fr=3&Bdi_bear=WIFI&from=3_10000&bduss=&pid=1&screen=800_800&sys_ver=2.3.7)"
   ]
  },
  {
   "cell_type": "markdown",
   "id": "unlikely-ecology",
   "metadata": {},
   "source": [
    "## 4  指數數列之和\n",
    "\n",
    "$\\sum_{i=1}^{10} 2^i$  "
   ]
  },
  {
   "cell_type": "code",
   "execution_count": 6,
   "id": "limiting-intranet",
   "metadata": {
    "tags": []
   },
   "outputs": [
    {
     "data": {
      "image/png": "[encoded data removed]",
      "text/latex": [
       "$\\displaystyle 2046$"
      ],
      "text/plain": [
       "2046"
      ]
     },
     "execution_count": 6,
     "metadata": {},
     "output_type": "execute_result"
    }
   ],
   "source": [
    "import sympy as sp\n",
    "sp.init_printing(\"mathjax\")                       #\n",
    "from sympy import div,pdiv,rem,ZZ,QQ \n",
    "from IPython.display import Latex,HTML,Markdown    \n",
    "from sympy.parsing.sympy_parser import parse_expr #文字字串, 解釋成, Sympy 運算式\n",
    "i=sp.Symbol('i')\n",
    "sp.summation(2 ** i  , (i, 1, 10))"
   ]
  },
  {
   "cell_type": "markdown",
   "id": "photographic-asthma",
   "metadata": {
    "tags": []
   },
   "source": [
    "### 4.1 N項数列指數和\n",
    "\n",
    "$\\sum_{i=1}^{N}  i^2=N(N+1)(2N+1)/6 $\n",
    "\n",
    "$\\sum_{i=1}^{N} i^2  = \\frac{N(N+1)(2N+1)}{6}$ "
   ]
  },
  {
   "cell_type": "code",
   "execution_count": 20,
   "id": "early-morrison",
   "metadata": {
    "tags": []
   },
   "outputs": [
    {
     "data": {
      "image/png": "[encoded data removed]",
      "text/latex": [
       "$\\displaystyle \\frac{N^{3}}{3} + \\frac{N^{2}}{2} + \\frac{N}{6}$"
      ],
      "text/plain": [
       " 3    2    \n",
       "N    N    N\n",
       "── + ── + ─\n",
       "3    2    6"
      ]
     },
     "execution_count": 20,
     "metadata": {},
     "output_type": "execute_result"
    }
   ],
   "source": [
    "N= sp.Symbol('N')\n",
    "sp.summation(i**2, (i, 1, N))"
   ]
  },
  {
   "cell_type": "code",
   "execution_count": 21,
   "id": "literary-monitor",
   "metadata": {},
   "outputs": [
    {
     "data": {
      "image/png": "[encoded data removed]",
      "text/latex": [
       "$\\displaystyle \\frac{N \\left(N + 1\\right) \\left(2 N + 1\\right)}{6}$"
      ],
      "text/plain": [
       "N⋅(N + 1)⋅(2⋅N + 1)\n",
       "───────────────────\n",
       "         6         "
      ]
     },
     "execution_count": 21,
     "metadata": {},
     "output_type": "execute_result"
    }
   ],
   "source": [
    "sp.factor(_)"
   ]
  },
  {
   "cell_type": "markdown",
   "id": "identical-mixer",
   "metadata": {},
   "source": [
    "\n",
    "### 練習. 數列之和\n",
    "\n",
    "第一項  a1 ，公差  d  等差列的第1項至第2項 n 要求一個術語的總和。  \n",
    "對於初項為3、公比為2的等比數列，求出到第10項之和。  \n",
    "\n",
    "\n",
    "$\\sum_{i=1}^{N}  b_1 * r^(i−1) $ \n",
    "\n",
    "\n",
    "問問你 另外，無限等比數列之和  n→∞  問問你 但是， 0<r<1 。  \n",
    "\n",
    "\n",
    "（提示）\n",
    "\n",
    "1. 計算如下。 在句子末尾添加時，不顯示結果。; \n",
    "\n"
   ]
  },
  {
   "cell_type": "code",
   "execution_count": 22,
   "id": "attended-calculator",
   "metadata": {},
   "outputs": [],
   "source": [
    "a1 = sp.Symbol('a1')\n",
    "sp.summation(a1 + ( i- 1)*d, (i, 1, n));"
   ]
  },
  {
   "cell_type": "code",
   "execution_count": 23,
   "id": "actual-increase",
   "metadata": {
    "tags": []
   },
   "outputs": [],
   "source": [
    "b1 = sp.Symbol('b1')\n",
    "sum2 = sp.summation(b1*r**(i - 1), (i, 1, n))"
   ]
  },
  {
   "cell_type": "code",
   "execution_count": 24,
   "id": "resistant-approach",
   "metadata": {
    "tags": []
   },
   "outputs": [
    {
     "data": {
      "text/latex": [
       "$\\displaystyle \\frac{b_{1} \\left(\\begin{cases} n & \\text{for}\\: r = 1 \\\\\\frac{r - r^{n + 1}}{1 - r} & \\text{otherwise} \\end{cases}\\right)}{r}$"
      ],
      "text/plain": [
       "   ⎛⎧    n       for r = 1⎞\n",
       "   ⎜⎪                     ⎟\n",
       "   ⎜⎪     n + 1           ⎟\n",
       "b₁⋅⎜⎨r - r                ⎟\n",
       "   ⎜⎪──────────  otherwise⎟\n",
       "   ⎜⎪  1 - r              ⎟\n",
       "   ⎝⎩                     ⎠\n",
       "───────────────────────────\n",
       "             r             "
      ]
     },
     "execution_count": 24,
     "metadata": {},
     "output_type": "execute_result"
    }
   ],
   "source": [
    "sum2"
   ]
  },
  {
   "cell_type": "markdown",
   "id": "consolidated-hundred",
   "metadata": {
    "tags": []
   },
   "source": [
    "## 5.計算的階乘"
   ]
  },
  {
   "cell_type": "markdown",
   "id": "loaded-piano",
   "metadata": {
    "tags": []
   },
   "source": [
    "4  計算的階乘。4! =4×3×2×1=24 是。 在 SymPy 中，階乘使用函數。factorial"
   ]
  },
  {
   "cell_type": "code",
   "execution_count": 40,
   "id": "renewable-language",
   "metadata": {
    "tags": []
   },
   "outputs": [
    {
     "data": {
      "image/png": "[encoded data removed]",
      "text/latex": [
       "$\\displaystyle 24$"
      ],
      "text/plain": [
       "24"
      ]
     },
     "execution_count": 40,
     "metadata": {},
     "output_type": "execute_result"
    }
   ],
   "source": [
    "factorial(4)"
   ]
  },
  {
   "cell_type": "markdown",
   "id": "behavioral-elizabeth",
   "metadata": {
    "tags": []
   },
   "source": [
    "factorial2 函數計算每個場地。 5! ! =5×3×1=15  是。"
   ]
  },
  {
   "cell_type": "code",
   "execution_count": 41,
   "id": "banner-induction",
   "metadata": {
    "tags": []
   },
   "outputs": [
    {
     "data": {
      "image/png": "[encoded data removed]",
      "text/latex": [
       "$\\displaystyle 15$"
      ],
      "text/plain": [
       "15"
      ]
     },
     "execution_count": 41,
     "metadata": {},
     "output_type": "execute_result"
    }
   ],
   "source": [
    "factorial2(5)"
   ]
  },
  {
   "cell_type": "markdown",
   "id": "royal-uniform",
   "metadata": {},
   "source": [
    "\n",
    "練習\n",
    "（練習）  3,2,1  最大數位由\n",
    "\n",
    "使用數位 3、2 和 1 的單一動作可以建立的最大整數是什麼？\n",
    "\n",
    "（提示）\n",
    "\n",
    "(1+2)×3=9  那一點也不好。 如果你按原樣排列， 321  但是，使用冪可以創建更大的數位。\n",
    "\n",
    "213  或者說， 312  或者說， 231  或者說， 321  或者...\n",
    "\n"
   ]
  },
  {
   "cell_type": "markdown",
   "id": "pressed-shock",
   "metadata": {},
   "source": [
    "## 6 數列之積product\n",
    "$$\\prod_{k=1}^{10} k= 10!$$\n"
   ]
  },
  {
   "cell_type": "code",
   "execution_count": 19,
   "id": "collaborative-lexington",
   "metadata": {},
   "outputs": [
    {
     "data": {
      "image/png": "[encoded data removed]",
      "text/latex": [
       "$\\displaystyle 3628800$"
      ],
      "text/plain": [
       "3628800"
      ]
     },
     "execution_count": 19,
     "metadata": {},
     "output_type": "execute_result"
    }
   ],
   "source": [
    "import sympy as sp\n",
    "sp.factorial(10)"
   ]
  },
  {
   "cell_type": "code",
   "execution_count": 20,
   "id": "voluntary-motel",
   "metadata": {},
   "outputs": [
    {
     "data": {
      "image/png": "[encoded data removed]",
      "text/latex": [
       "$\\displaystyle 3628800$"
      ],
      "text/plain": [
       "3628800"
      ]
     },
     "execution_count": 20,
     "metadata": {},
     "output_type": "execute_result"
    }
   ],
   "source": [
    "import sympy as sp\n",
    "k=sp.symbols('k',integer=True)\n",
    "sp.product(k, (k, 1, 10) )"
   ]
  },
  {
   "cell_type": "markdown",
   "id": "contemporary-oxide",
   "metadata": {},
   "source": [
    "### 6.1 例題\n",
    "\n",
    "\n",
    "$$\\prod_{k=2}^{2021} \\frac{k^2-1}{K^2}$$\n",
    "\n",
    "$$ A_1= \\frac{2^2-1}{2^2} \\cdot \\frac{3^2-1}{3^2}  \\cdot \\frac{4^2-1}{4^2} \\cdot \\cdot \\cdot \\frac{2021^2-1}{2021^2}  $$\n",
    "\n",
    "\n",
    "<details>\n",
    "    <summary>Click to reveal solution</summary>\n",
    "```    \n",
    "$$ A_1= \\frac{(2-1)(2+1)}{2^2} \\cdot \\frac{(3+1)(3-1)}{3^2}  \\cdot \\cdot \\cdot \\frac{(2021-1)(2021+1)}{2021^2}  $$    \n",
    "$$ A_1= \\frac{(1)(3)}{2^2} \\cdot \\frac{(2)(4)}{3^2}  \\cdot \\cdot \\cdot \\frac{(2020)(2022)}{2021^2}  $$\n",
    "$$ A_1= \\frac{(1 * 2 * 3 * 4 \\cdot \\cdot \\cdot 2020) \\cdot ( 3 * 4 \\cdot \\cdot \\cdot 2020 * 2021*2022)}{(2 * 3 * 4 \\cdot \\cdot \\cdot 2020 * 2021) *(2 * 3 * 4 \\cdot \\cdot \\cdot 2020 * 2021)}  $$\n",
    "$$ A_1= \\frac{ 2022}{2021 *2} = \\frac{1011}{2021} $$    \n",
    "$$ A_1= \\frac{ 2022}{2021 *2} = \\frac{1011}{2021} $$\n",
    "```\n",
    "</details>\n",
    "\n",
    "\n"
   ]
  },
  {
   "cell_type": "code",
   "execution_count": 21,
   "id": "similar-pattern",
   "metadata": {},
   "outputs": [
    {
     "name": "stdout",
     "output_type": "stream",
     "text": [
      "0.500247402276101\n",
      "0.5002474022761008\n",
      "1011/2021\n"
     ]
    }
   ],
   "source": [
    "# 計算\n",
    "print(1011/2021)\n",
    "\n",
    "# 程式一\n",
    "A1=1 \n",
    "for i in range(2,2022): \n",
    "    A1 *= (i**2-1)/ (i**2)\n",
    "print(A1)\n",
    "\n",
    "# 程式二\n",
    "A2=1 \n",
    "for i in range(2,2022): \n",
    "    A2 *= sp.S(i**2-1) / sp.S(i**2)\n",
    "print(A2)\n"
   ]
  },
  {
   "cell_type": "code",
   "execution_count": 16,
   "id": "scheduled-female",
   "metadata": {
    "tags": []
   },
   "outputs": [
    {
     "data": {
      "image/png": "[encoded data removed]",
      "text/latex": [
       "$\\displaystyle \\frac{1011}{2021}$"
      ],
      "text/plain": [
       "1011\n",
       "────\n",
       "2021"
      ]
     },
     "execution_count": 16,
     "metadata": {},
     "output_type": "execute_result"
    }
   ],
   "source": [
    "expre=(k**2-1)/(k**2)\n",
    "sp.product(expre, (k, 2, 2021) )"
   ]
  },
  {
   "cell_type": "markdown",
   "id": "biblical-lemon",
   "metadata": {},
   "source": [
    "## 7. 資料收集,未整理"
   ]
  },
  {
   "cell_type": "markdown",
   "id": "incident-skill",
   "metadata": {},
   "source": [
    "### sequences  \n",
    "https://docs.sympy.org/latest/modules/series/sequences.html\n",
    "\n",
    "### Combinatorial\n",
    "https://docs.sympy.org/latest/modules/functions/combinatorial.html   \n",
    "\n",
    "\n"
   ]
  }
 ],
 "metadata": {
  "kernelspec": {
   "display_name": "Python 3",
   "language": "python",
   "name": "python3"
  },
  "language_info": {
   "codemirror_mode": {
    "name": "ipython",
    "version": 3
   },
   "file_extension": ".py",
   "mimetype": "text/x-python",
   "name": "python",
   "nbconvert_exporter": "python",
   "pygments_lexer": "ipython3",
   "version": "3.9.9"
  }
 },
 "nbformat": 4,
 "nbformat_minor": 5
}

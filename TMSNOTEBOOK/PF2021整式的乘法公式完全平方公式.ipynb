{
 "cells": [
  {
   "cell_type": "markdown",
   "id": "fourth-heater",
   "metadata": {},
   "source": [
    "# 電腦數學符號運算"
   ]
  },
  {
   "cell_type": "markdown",
   "id": "published-filter",
   "metadata": {},
   "source": [
    "### 第3節. 整式的乘法公式法平方差 \n",
    "安裝 Python 3.9.5\n",
    "- pip install numpy\n",
    "- pip install sympy\n",
    "- pip install jupyterlab\n",
    "- lib.py 自定義函數庫"
   ]
  },
  {
   "cell_type": "markdown",
   "id": "geological-router",
   "metadata": {},
   "source": [
    "整式的乘法公式平方差公式  \n",
    "$(px+qy)(px-qy)= ax^2-by^2, a=p2, b=q2$    "
   ]
  },
  {
   "cell_type": "code",
   "execution_count": 5,
   "id": "tight-pharmaceutical",
   "metadata": {},
   "outputs": [
    {
     "data": {
      "text/markdown": [
       "號|題|值|答|檢查|題型|提示\n",
       "--|--|--|--|--|--|--\n",
       "0|$$\\left(x + 2\\right)^{2}$$|x**2 + 4*x + 4||0|-1||0\n",
       "1|$$(-7+y)^2$$|y**2 - 14*y + 49||0|-1||0\n",
       "2|$$(5-y)^2$$|y**2 - 10*y + 25||0|-1||0\n",
       "3|$$\\left(x + 8\\right)^{2}$$|x**2 + 16*x + 64||0|-1||0\n",
       "4|$$(-2+y)^2$$|y**2 - 4*y + 4||0|-1||0\n",
       "5|$$(14-y)^2$$|y**2 - 28*y + 196||0|-1||0\n",
       "6|$$\\left(x + 12\\right)^{2}$$|x**2 + 24*x + 144||0|-1||0\n",
       "7|$$(-10+y)^2$$|y**2 - 20*y + 100||0|-1||0\n",
       "8|$$(-15-y)^2$$|y**2 + 30*y + 225||0|-1||0\n",
       "9|$$\\left(x + 7\\right)^{2}$$|x**2 + 14*x + 49||0|-1||0"
      ],
      "text/plain": [
       "<IPython.core.display.Markdown object>"
      ]
     },
     "metadata": {},
     "output_type": "display_data"
    },
    {
     "data": {
      "text/markdown": [
       "號|題|值|答|檢查|題型|提示\n",
       "--|--|--|--|--|--|--\n",
       "0|$$\\left(6 + x \\left(-12\\right)\\right)^{2}$$|144*x**2 - 144*x + 36||0|-1||0\n",
       "1|$$\\left(6 - 8 y\\right)^{2}$$|64*y**2 - 96*y + 36||0|-1||0\n",
       "2|$$\\left(- 9 x - 16 y\\right)^{2}$$|81*x**2 + 288*x*y + 256*y**2||0|-1||0\n",
       "3|$$\\left(9 + x \\left(-12\\right)\\right)^{2}$$|144*x**2 - 216*x + 81||0|-1||0\n",
       "4|$$\\left(12 y - 8\\right)^{2}$$|144*y**2 - 192*y + 64||0|-1||0\n",
       "5|$$\\left(- 14 x + 4 y\\right)^{2}$$|196*x**2 - 112*x*y + 16*y**2||0|-1||0\n",
       "6|$$\\left(x \\left(-11\\right) - 10\\right)^{2}$$|121*x**2 + 220*x + 100||0|-1||0\n",
       "7|$$\\left(13 y + 15\\right)^{2}$$|169*y**2 + 390*y + 225||0|-1||0\n",
       "8|$$\\left(- 5 x + 7 y\\right)^{2}$$|25*x**2 - 70*x*y + 49*y**2||0|-1||0\n",
       "9|$$\\left(8 x - 15\\right)^{2}$$|64*x**2 - 240*x + 225||0|-1||0"
      ],
      "text/plain": [
       "<IPython.core.display.Markdown object>"
      ]
     },
     "metadata": {},
     "output_type": "display_data"
    },
    {
     "data": {
      "text/markdown": [
       "號|題|值|答|檢查|題型|提示\n",
       "--|--|--|--|--|--|--\n",
       "0|$$\\left(- 13 x^{2} + 5 y^{5}\\right)^{2}$$|169*x**4 - 130*x**2*y**5 + 25*y**10||0|-1||0\n",
       "1|$$\\left(- 9 x^{\\frac{2}{3}} - \\frac{2 y^{\\frac{2}{3}}}{3}\\right)^{2}$$|81*x**(4/3) + 12*x**(2/3)*y**(2/3) + 4*y**(4/3)/9||0|-1||0\n",
       "2|$$\\left(4 \\sqrt[3]{x} + 3 y^{3}\\right)^{2}$$|16*x**(2/3) + 24*x**(1/3)*y**3 + 9*y**6||0|-1||0\n",
       "3|$$\\left(- 5 \\sqrt[4]{x} - \\frac{\\sqrt[4]{y}}{4}\\right)^{2}$$|5*x**(1/4)*y**(1/4)/2 + 25*sqrt(x) + sqrt(y)/16||0|-1||0\n",
       "4|$$\\left(14 \\sqrt[3]{x} + 4 y^{4}\\right)^{2}$$|196*x**(2/3) + 112*x**(1/3)*y**4 + 16*y**8||0|-1||0\n",
       "5|$$\\left(- 14 \\sqrt[4]{x} - \\frac{\\sqrt[4]{y}}{4}\\right)^{2}$$|7*x**(1/4)*y**(1/4) + 196*sqrt(x) + sqrt(y)/16||0|-1||0\n",
       "6|$$\\left(- 16 x^{2} + 3 y^{3}\\right)^{2}$$|256*x**4 - 96*x**2*y**3 + 9*y**6||0|-1||0\n",
       "7|$$\\left(7 \\sqrt[3]{x} - \\frac{\\sqrt[3]{y}}{3}\\right)^{2}$$|49*x**(2/3) - 14*x**(1/3)*y**(1/3)/3 + y**(2/3)/9||0|-1||0\n",
       "8|$$\\left(11 x^{4} + 3 y^{3}\\right)^{2}$$|121*x**8 + 66*x**4*y**3 + 9*y**6||0|-1||0\n",
       "9|$$\\left(7 \\sqrt[4]{x} - \\frac{\\sqrt[4]{y}}{4}\\right)^{2}$$|-7*x**(1/4)*y**(1/4)/2 + 49*sqrt(x) + sqrt(y)/16||0|-1||0"
      ],
      "text/plain": [
       "<IPython.core.display.Markdown object>"
      ]
     },
     "metadata": {},
     "output_type": "display_data"
    },
    {
     "data": {
      "text/markdown": [
       "號|題|值|答|檢查|題型|提示\n",
       "--|--|--|--|--|--|--\n",
       "0|$$\\left(2 - x\\right) \\left(- x - 2\\right) \\left(x^{2} - 4\\right)$$|x**4 - 8*x**2 + 16||0|-1||0\n",
       "1|$$\\left(\\frac{1}{2} - \\frac{x}{2}\\right) \\left(- \\frac{x}{2} - \\frac{1}{2}\\right) \\left(\\frac{x^{2}}{4} - \\frac{1}{4}\\right)$$|x**4/16 - x**2/8 + 1/16||0|-1||0\n",
       "2|$$\\left(\\frac{1}{2} - x\\right) \\left(- x - \\frac{1}{2}\\right) \\left(x^{2} - \\frac{1}{4}\\right)$$|x**4 - x**2/2 + 1/16||0|-1||0\n",
       "3|$$\\left(\\frac{1}{2} - \\frac{x}{2}\\right) \\left(- \\frac{x}{2} - \\frac{1}{2}\\right) \\left(\\frac{x^{2}}{4} - \\frac{1}{4}\\right)$$|x**4/16 - x**2/8 + 1/16||0|-1||0\n",
       "4|$$\\left(\\frac{1}{2} - \\frac{3 x}{2}\\right) \\left(- \\frac{3 x}{2} - \\frac{1}{2}\\right) \\left(\\frac{9 x^{2}}{4} - \\frac{1}{4}\\right)$$|81*x**4/16 - 9*x**2/8 + 1/16||0|-1||0\n",
       "5|$$\\left(\\frac{3 x}{2} - \\frac{1}{2}\\right) \\left(\\frac{3 x}{2} + \\frac{1}{2}\\right) \\left(\\frac{9 x^{2}}{4} - \\frac{1}{4}\\right)$$|81*x**4/16 - 9*x**2/8 + 1/16||0|-1||0\n",
       "6|$$\\left(2 - \\frac{3 x}{2}\\right) \\left(- \\frac{3 x}{2} - 2\\right) \\left(\\frac{9 x^{2}}{4} - 4\\right)$$|81*x**4/16 - 18*x**2 + 16||0|-1||0\n",
       "7|$$\\left(x - \\frac{5}{2}\\right) \\left(x + \\frac{5}{2}\\right) \\left(x^{2} - \\frac{25}{4}\\right)$$|x**4 - 25*x**2/2 + 625/16||0|-1||0\n",
       "8|$$\\left(\\frac{1}{2} - \\frac{3 x}{2}\\right) \\left(- \\frac{3 x}{2} - \\frac{1}{2}\\right) \\left(\\frac{9 x^{2}}{4} - \\frac{1}{4}\\right)$$|81*x**4/16 - 9*x**2/8 + 1/16||0|-1||0\n",
       "9|$$\\left(\\frac{3 x}{2} - \\frac{1}{2}\\right) \\left(\\frac{3 x}{2} + \\frac{1}{2}\\right) \\left(\\frac{9 x^{2}}{4} - \\frac{1}{4}\\right)$$|81*x**4/16 - 9*x**2/8 + 1/16||0|-1||0"
      ],
      "text/plain": [
       "<IPython.core.display.Markdown object>"
      ]
     },
     "metadata": {},
     "output_type": "display_data"
    }
   ],
   "source": [
    "import random                                     #亂數 \n",
    "import math                                       #math 內置數學函數\n",
    "import numpy as np                                #數字矩陣\n",
    "import sympy as sp                                #sympy 簡易別名 sp    \n",
    "from sympy.parsing.sympy_parser import parse_expr #文字字串, 解釋成, Sympy 運算式\n",
    "from IPython.display import Latex,HTML,Markdown                 #網頁顯示數學符號\n",
    "import re\n",
    "import lib\n",
    "from lib import GetTE\n",
    "sp.init_printing(\"mathjax\")                       #sp.init_printing()  168 \n",
    "def displayTable(NTE):\n",
    "    display(Markdown(lib.NTE2TBL(NTE))) \n",
    "\"\"\"\n",
    "整式的乘法公式完全平方公式 題型1,2,3,4  \n",
    "\"\"\"   \n",
    "def Get_PF2021_Expr(QN,Tx=-1):\n",
    "    x,y,z=sp.symbols(\"x y z\")\n",
    "    NTE = []\n",
    "    for Qid in range(0, QN):\n",
    "        if Tx==0:\n",
    "            p,q=np.random.choice(range(-16,16),2)\n",
    "            p=p if p!=0 else 1;q=q if q!=0 else 1\n",
    "            Tidx=Qid % 3\n",
    "            if Tidx==0:\n",
    "                express_str=f\"(x+({q})) ** 2\" \n",
    "                St=parse_expr(express_str, evaluate=False) \n",
    "                Stt=sp.latex(St)\n",
    "            elif Tidx==1:\n",
    "                Stt=f\"({p}+y)^2\" #顯示算式\n",
    "                St=(p+y)**2      #運算算式\n",
    "            elif Tidx==2:\n",
    "                Stt=f\"({p}-y)^2\"\n",
    "                St=(p-y)**2\n",
    "            Val=sp.expand(St)\n",
    "            TE=GetTE(Qid,Stt,Val)        \n",
    "            NTE.append(TE)    \n",
    "        elif Tx==1:\n",
    "            p,q=np.random.choice(range(-16,16),2)\n",
    "            p=p if p!=0 else 1;q=q if q!=0 else 1\n",
    "            Tidx=Qid % 3\n",
    "            if Tidx==0:\n",
    "                express_str=f\"({p}*x+({q})) ** 2\" \n",
    "                St=parse_expr(express_str, evaluate=False) \n",
    "                Stt=sp.latex(St)\n",
    "            elif Tidx==1:\n",
    "                St=(p+q*y)**2\n",
    "                Stt=sp.latex(St)\n",
    "            elif Tidx==2:\n",
    "                St=(p*x+q*y)**2\n",
    "                Stt=sp.latex(St)\n",
    "            Val=sp.expand(St)\n",
    "            TE=GetTE(Qid,Stt,Val)        \n",
    "            NTE.append(TE)    \n",
    "        elif Tx==2:\n",
    "            p,q=np.random.choice(range(-16,16),2)\n",
    "            r=random.choice([sp.S(1)/3,sp.S(2)/3,sp.S(1)/4,2,3,4,5])\n",
    "            s=random.choice([sp.S(1)/3,sp.S(2)/3,sp.S(1)/4,2,3,4,5])\n",
    "            p=p if p!=0 else 1;q=q if q!=0 else 1\n",
    "            Tidx=Qid % 2\n",
    "            if Tidx==0:\n",
    "                expr1=p*x**s\n",
    "                expr2=r*y**r\n",
    "                St=(expr1+expr2)**2\n",
    "                Stt=sp.latex(St)\n",
    "            elif Tidx==1:\n",
    "                expr1=p* x**r\n",
    "                expr2=r* y**r\n",
    "                St=(expr1-expr2)**2\n",
    "                Stt=sp.latex(St)            \n",
    "            Val=sp.expand(St)\n",
    "            TE=GetTE(Qid,Stt,Val)        \n",
    "            NTE.append(TE)    \n",
    "        elif Tx==3:\n",
    "            p,q=np.random.choice(range(-5,5),2)\n",
    "            p=p if p!=0 else 1;q=q if q!=0 else 1\n",
    "            p=p*sp.Rational(1,2)\n",
    "            q=q*sp.Rational(1,2)\n",
    "            exp1=p*x+q\n",
    "            exp2=p*x-q\n",
    "            exp3=(p*x)**2 - q**2\n",
    "            St=exp1 * exp2 * exp3\n",
    "            Stt=sp.latex(St)            \n",
    "            Val=sp.expand(St)\n",
    "            TE=GetTE(Qid,Stt,Val)        \n",
    "            NTE.append(TE)                \n",
    "    return NTE\n",
    "\n",
    "if __name__==\"__main__\":\n",
    "    for Tx in range(4):\n",
    "        NTE=Get_PF2021_Expr(10,Tx)\n",
    "        displayTable(NTE)"
   ]
  },
  {
   "cell_type": "code",
   "execution_count": 2,
   "id": "approximate-russell",
   "metadata": {},
   "outputs": [
    {
     "data": {
      "text/markdown": [
       "號|題|值|答|檢查|題型|提示\n",
       "--|--|--|--|--|--|--\n",
       "0|$$\\left(6 x + 9\\right)^{2}$$|36*x**2 + 108*x + 81||0|-1|\n",
       "1|$$\\left(11 y - 8\\right)^{2}$$|121*y**2 - 176*y + 64||0|-1|\n",
       "2|$$\\left(7 x + y\\right)^{2}$$|49*x**2 + 14*x*y + y**2||0|-1|\n",
       "3|$$\\left(2 + x \\left(-5\\right)\\right)^{2}$$|25*x**2 - 20*x + 4||0|-1|\n",
       "4|$$\\left(6 y + 9\\right)^{2}$$|36*y**2 + 108*y + 81||0|-1|\n",
       "5|$$\\left(- 4 x - y\\right)^{2}$$|16*x**2 + 8*x*y + y**2||0|-1|\n",
       "6|$$\\left(4 + x \\left(-2\\right)\\right)^{2}$$|4*x**2 - 16*x + 16||0|-1|\n",
       "7|$$\\left(5 - 11 y\\right)^{2}$$|121*y**2 - 110*y + 25||0|-1|\n",
       "8|$$\\left(- 6 x + 2 y\\right)^{2}$$|36*x**2 - 24*x*y + 4*y**2||0|-1|\n",
       "9|$$\\left(4 + x \\left(-10\\right)\\right)^{2}$$|100*x**2 - 80*x + 16||0|-1|"
      ],
      "text/plain": [
       "<IPython.core.display.Markdown object>"
      ]
     },
     "metadata": {},
     "output_type": "display_data"
    }
   ],
   "source": [
    "import random                                     #亂數 \n",
    "import math                                       #math 內置數學函數\n",
    "import numpy as np                                #數字矩陣\n",
    "import sympy as sp                                #sympy 簡易別名 sp    \n",
    "from sympy.parsing.sympy_parser import parse_expr #文字字串, 解釋成, Sympy 運算式\n",
    "from IPython.display import Latex,HTML,Markdown                 #網頁顯示數學符號\n",
    "import re\n",
    "import lib\n",
    "from lib import GetTE\n",
    "sp.init_printing(\"mathjax\")                       #sp.init_printing()  168 \n",
    "def displayTable(NTE):\n",
    "    display(Markdown(lib.NTE2TBL(NTE))) \n",
    "\"\"\"\n",
    "整式的乘法公式完全平方公式 題型2  \n",
    "\"\"\"   \n",
    "def Get_PF2021_Expr(QN):\n",
    "    x,y,z=sp.symbols('x y z')\n",
    "    NTE=[]\n",
    "    for idx in range(0,QN):\n",
    "        p,q=np.random.choice(range(-12,12),2)\n",
    "        p=p if p!=0 else 1;q=q if q!=0 else 1\n",
    "        Tidx=idx % 3\n",
    "        if Tidx==0:\n",
    "            express_str=f\"({p}*x+({q})) ** 2\" \n",
    "            St=parse_expr(express_str, evaluate=False) \n",
    "            Stt=sp.latex(St)\n",
    "        elif Tidx==1:\n",
    "            St=(p+q*y)**2\n",
    "            Stt=sp.latex(St)\n",
    "        elif Tidx==2:\n",
    "            St=(p*x+q*y)**2\n",
    "            Stt=sp.latex(St)\n",
    "        Val=sp.expand(St)\n",
    "        TE=GetTE(idx,Stt,Val)        \n",
    "        NTE.append(TE)    \n",
    "    return NTE\n",
    "\n",
    "if __name__==\"__main__\":\n",
    "    NTE=Get_PF2021_Expr(10)\n",
    "    displayTable(NTE)"
   ]
  },
  {
   "cell_type": "code",
   "execution_count": 3,
   "id": "velvet-mason",
   "metadata": {},
   "outputs": [
    {
     "data": {
      "text/markdown": [
       "號|題|值|答|檢查|題型|提示\n",
       "--|--|--|--|--|--|--\n",
       "0|$$\\left(6 x^{5} + 1 \\frac{1}{4} y^{1 \\frac{1}{4}}\\right)^{2}$$|36*x**10 + 3*x**5*y**(1/4) + sqrt(y)/16||0|-1||0\n",
       "1|$$\\left(2 x^{4} - 4 y^{4}\\right)^{2}$$|4*x**8 - 16*x**4*y**4 + 16*y**8||0|-1||0\n",
       "2|$$\\left(x^{4} \\left(-7\\right) + 5 y^{5}\\right)^{2}$$|49*x**8 - 70*x**4*y**5 + 25*y**10||0|-1||0\n",
       "3|$$\\left(x^{5} \\left(-7\\right) - 5 y^{5}\\right)^{2}$$|49*x**10 + 70*x**5*y**5 + 25*y**10||0|-1||0\n",
       "4|$$\\left(x^{1 \\frac{1}{3}} \\left(-2\\right) + 5 y^{5}\\right)^{2}$$|4*x**(2/3) - 20*x**(1/3)*y**5 + 25*y**10||0|-1||0\n",
       "5|$$\\left(x^{4} \\left(-10\\right) - 4 y^{4}\\right)^{2}$$|100*x**8 + 80*x**4*y**4 + 16*y**8||0|-1||0\n",
       "6|$$\\left(12 x^{4} + 1 \\frac{1}{3} y^{1 \\frac{1}{3}}\\right)^{2}$$|144*x**8 + 8*x**4*y**(1/3) + y**(2/3)/9||0|-1||0\n",
       "7|$$\\left(7 x^{3} - 3 y^{3}\\right)^{2}$$|49*x**6 - 42*x**3*y**3 + 9*y**6||0|-1||0\n",
       "8|$$\\left(5 x^{1 \\frac{1}{3}} + 3 y^{3}\\right)^{2}$$|25*x**(2/3) + 30*x**(1/3)*y**3 + 9*y**6||0|-1||0\n",
       "9|$$\\left(x^{\\frac{2}{3}} \\left(-2\\right) - \\frac{2 y^{\\frac{2}{3}}}{3}\\right)^{2}$$|4*x**(4/3) + 8*x**(2/3)*y**(2/3)/3 + 4*y**(4/3)/9||0|-1||0"
      ],
      "text/plain": [
       "<IPython.core.display.Markdown object>"
      ]
     },
     "metadata": {},
     "output_type": "display_data"
    }
   ],
   "source": [
    "import random                                     #亂數 \n",
    "import math                                       #math 內置數學函數\n",
    "import numpy as np                                #數字矩陣\n",
    "import sympy as sp                                #sympy 簡易別名 sp    \n",
    "from sympy.parsing.sympy_parser import parse_expr #文字字串, 解釋成, Sympy 運算式\n",
    "from IPython.display import Latex,HTML,Markdown                 #網頁顯示數學符號\n",
    "import re\n",
    "import lib\n",
    "from lib import GetTE\n",
    "sp.init_printing(\"mathjax\")                       #sp.init_printing()  168 \n",
    "def displayTable(NTE):\n",
    "    display(Markdown(lib.NTE2TBL(NTE))) \n",
    "\"\"\"\n",
    "整式的乘法公式完全平方公式 題型3  \n",
    "\"\"\"   \n",
    "def Get_PF2021_Expr(QN):\n",
    "    x,y,z=sp.symbols('x y z')\n",
    "    NTE=[]\n",
    "    for idx in range(0,QN):\n",
    "        p,q=np.random.choice(range(-16,16),2)\n",
    "        r=random.choice([\"(1/3)\",\"(2/3)\",\"(1/4)\",2,3,4,5])\n",
    "        s=random.choice([\"(1/3)\",\"(2/3)\",\"(1/4)\",2,3,4,5])\n",
    "        p=p if p!=0 else 1;q=q if q!=0 else 1\n",
    "        Tidx=idx % 2\n",
    "        if Tidx==0:\n",
    "            express_str=f\"({p}*x**{s}+({r})*y**{r}) ** 2\" \n",
    "            St=parse_expr(express_str, evaluate=False) \n",
    "            Stt=sp.latex(St)\n",
    "        elif Tidx==1:\n",
    "            express_str=f\"({p}*x**{r}-({r})*y**{r}) ** 2\" \n",
    "            St=parse_expr(express_str, evaluate=False) \n",
    "            Stt=sp.latex(St)            \n",
    "        Val=sp.expand(St)\n",
    "        TE=GetTE(idx,Stt,Val)        \n",
    "        NTE.append(TE)    \n",
    "    return NTE\n",
    "\n",
    "if __name__==\"__main__\":\n",
    "    NTE=Get_PF2021_Expr(10)\n",
    "    displayTable(NTE)"
   ]
  },
  {
   "cell_type": "code",
   "execution_count": 59,
   "id": "conventional-stamp",
   "metadata": {},
   "outputs": [
    {
     "data": {
      "text/markdown": [
       "號|題|值|答|檢查|題型|提示\n",
       "--|--|--|--|--|--|--\n",
       "0|$$\\left(\\frac{3}{2} - \\frac{3 x}{2}\\right) \\left(- \\frac{3 x}{2} - \\frac{3}{2}\\right) \\left(\\frac{9 x^{2}}{4} - \\frac{9}{4}\\right)$$|81*x**4/16 - 81*x**2/8 + 81/16||0|-1|\n",
       "1|$$\\left(2 x - 1\\right) \\left(2 x + 1\\right) \\left(4 x^{2} - 1\\right)$$|16*x**4 - 8*x**2 + 1||0|-1|\n",
       "2|$$\\left(\\frac{1}{2} - \\frac{x}{2}\\right) \\left(- \\frac{x}{2} - \\frac{1}{2}\\right) \\left(\\frac{x^{2}}{4} - \\frac{1}{4}\\right)$$|x**4/16 - x**2/8 + 1/16||0|-1|\n",
       "3|$$\\left(\\frac{5}{2} - 2 x\\right) \\left(- 2 x - \\frac{5}{2}\\right) \\left(4 x^{2} - \\frac{25}{4}\\right)$$|16*x**4 - 50*x**2 + 625/16||0|-1|\n",
       "4|$$\\left(\\frac{5}{2} - x\\right) \\left(- x - \\frac{5}{2}\\right) \\left(x^{2} - \\frac{25}{4}\\right)$$|x**4 - 25*x**2/2 + 625/16||0|-1|\n",
       "5|$$\\left(\\frac{3}{2} - \\frac{3 x}{2}\\right) \\left(- \\frac{3 x}{2} - \\frac{3}{2}\\right) \\left(\\frac{9 x^{2}}{4} - \\frac{9}{4}\\right)$$|81*x**4/16 - 81*x**2/8 + 81/16||0|-1|\n",
       "6|$$\\left(\\frac{3}{2} - \\frac{3 x}{2}\\right) \\left(- \\frac{3 x}{2} - \\frac{3}{2}\\right) \\left(\\frac{9 x^{2}}{4} - \\frac{9}{4}\\right)$$|81*x**4/16 - 81*x**2/8 + 81/16||0|-1|\n",
       "7|$$\\left(1 - \\frac{3 x}{2}\\right) \\left(- \\frac{3 x}{2} - 1\\right) \\left(\\frac{9 x^{2}}{4} - 1\\right)$$|81*x**4/16 - 9*x**2/2 + 1||0|-1|\n",
       "8|$$\\left(\\frac{3 x}{2} - \\frac{1}{2}\\right) \\left(\\frac{3 x}{2} + \\frac{1}{2}\\right) \\left(\\frac{9 x^{2}}{4} - \\frac{1}{4}\\right)$$|81*x**4/16 - 9*x**2/8 + 1/16||0|-1|\n",
       "9|$$\\left(\\frac{3}{2} - \\frac{5 x}{2}\\right) \\left(- \\frac{5 x}{2} - \\frac{3}{2}\\right) \\left(\\frac{25 x^{2}}{4} - \\frac{9}{4}\\right)$$|625*x**4/16 - 225*x**2/8 + 81/16||0|-1|"
      ],
      "text/plain": [
       "<IPython.core.display.Markdown object>"
      ]
     },
     "metadata": {},
     "output_type": "display_data"
    }
   ],
   "source": [
    "import random                                     #亂數 \n",
    "import math                                       #math 內置數學函數\n",
    "import numpy as np                                #數字矩陣\n",
    "import sympy as sp                                #sympy 簡易別名 sp    \n",
    "from sympy.parsing.sympy_parser import parse_expr #文字字串, 解釋成, Sympy 運算式\n",
    "from IPython.display import Latex,HTML,Markdown                 #網頁顯示數學符號\n",
    "import re\n",
    "import lib\n",
    "from lib import GetTE\n",
    "sp.init_printing(\"mathjax\")                       #sp.init_printing()  168 \n",
    "def displayTable(NTE):\n",
    "    display(Markdown(lib.NTE2TBL(NTE))) \n",
    "\"\"\"\n",
    "整式的乘法公式完全平方公式 題型4  \n",
    "\"\"\"   \n",
    "def Get_PF2021_Expr(QN):\n",
    "    x,y,z=sp.symbols('x y z')\n",
    "    NTE=[]\n",
    "    for idx in range(0,QN):\n",
    "        p,q=np.random.choice(range(-5,5),2)\n",
    "        r=random.choice([\"(1/3)\",\"(2/3)\",\"(1/4)\",2,3,4,5])\n",
    "        s=random.choice([\"(1/3)\",\"(2/3)\",\"(1/4)\",2,3,4,5])\n",
    "        p=p if p!=0 else 1;q=q if q!=0 else 1\n",
    "        p=p*sp.Rational(1,2)\n",
    "        q=q*sp.Rational(1,2)\n",
    "        Tidx=2  #idx % 3\n",
    "        if Tidx==0:\n",
    "            pass\n",
    "        elif Tidx==2:\n",
    "            exp1=p*x+q\n",
    "            exp2=p*x-q\n",
    "            exp3=(p*x)**2 - q**2\n",
    "            St=exp1 * exp2 * exp3\n",
    "            #express_str=f\"(({p}*x)**2-({q})**2) *({p}*x**{q} +({q})) * ({p}*x**{q} - ({q}))\" \n",
    "            #St=parse_expr(express_str, evaluate=False) \n",
    "            Stt=sp.latex(St)            \n",
    "            \n",
    "        Val=sp.expand(St)\n",
    "        TE=GetTE(idx,Stt,Val)        \n",
    "        NTE.append(TE)    \n",
    "    return NTE\n",
    "\n",
    "if __name__==\"__main__\":\n",
    "    NTE=Get_PF2021_Expr(10)\n",
    "    displayTable(NTE)"
   ]
  },
  {
   "cell_type": "code",
   "execution_count": 13,
   "id": "rough-friendship",
   "metadata": {},
   "outputs": [
    {
     "name": "stdout",
     "output_type": "stream",
     "text": [
      "end\n"
     ]
    },
    {
     "data": {
      "text/plain": [
       "'-9x**2+25'"
      ]
     },
     "execution_count": 13,
     "metadata": {},
     "output_type": "execute_result"
    }
   ],
   "source": [
    "print(\"end\")\n",
    "import re\n",
    "ans =\"-9x  ^2+25\"\n",
    "#ans = re.sub(r\"(\\d)x\", r\"\\1*x\", ans)\n",
    "ans = re.sub(r\"X\", r\"x\", ans)\n",
    "ans = re.sub(r\"x[ ]*\", r\"x\", ans)\n",
    "ans = ans.replace(r\"x^\", r\"x**\")\n",
    "\n",
    "ans"
   ]
  }
 ],
 "metadata": {
  "kernelspec": {
   "display_name": "Python 3",
   "language": "python",
   "name": "python3"
  },
  "language_info": {
   "codemirror_mode": {
    "name": "ipython",
    "version": 3
   },
   "file_extension": ".py",
   "mimetype": "text/x-python",
   "name": "python",
   "nbconvert_exporter": "python",
   "pygments_lexer": "ipython3",
   "version": "3.9.9"
  }
 },
 "nbformat": 4,
 "nbformat_minor": 5
}

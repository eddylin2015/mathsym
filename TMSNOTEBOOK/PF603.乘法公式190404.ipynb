{
 "cells": [
  {
   "cell_type": "markdown",
   "id": "limited-looking",
   "metadata": {},
   "source": [
    "# 乘法公式190404\n",
    "```python\n",
    "(2(s-t)+r)(2(s-t)-r)  #4(s-t)**2-r**2\n",
    "(x+y)(x-y)       #x**2-y**2\n",
    "(3k+2r)(3k-2r)   #9k**2-4*r**2\n",
    "\n",
    "(2x/5+7/6)(2x/5-7/6)\n",
    "(3x/5+7/4)(3x/5-7/4)\n",
    "(5y/2-6/7)(5y/2+6/7)\n",
    "\n",
    "(9(s-t)-5)**2\n",
    "(u+r+y)^2\n",
    "((a+b)-8)**2\n",
    "\n",
    "\n",
    "(y/2+9/5)**2\n",
    "(6y/7+1/5)**2\n",
    "(5*(s-t)/4 - 6/7)**2\n",
    "\n",
    "((p-q)-1)**3\n"
   ]
  },
  {
   "cell_type": "code",
   "execution_count": 1,
   "id": "accurate-toolbox",
   "metadata": {},
   "outputs": [
    {
     "data": {
      "text/latex": [
       "$\\displaystyle p^{3} - 3 p^{2} q - 3 p^{2} + 3 p q^{2} + 6 p q + 3 p - q^{3} - 3 q^{2} - 3 q - 1$"
      ],
      "text/plain": [
       "p**3 - 3*p**2*q - 3*p**2 + 3*p*q**2 + 6*p*q + 3*p - q**3 - 3*q**2 - 3*q - 1"
      ]
     },
     "execution_count": 1,
     "metadata": {},
     "output_type": "execute_result"
    }
   ],
   "source": [
    "import sympy as sp\n",
    "p,q=sp.symbols('p q')\n",
    "fx=((p-q)-1)**3\n",
    "sp.expand(fx)"
   ]
  },
  {
   "cell_type": "code",
   "execution_count": null,
   "id": "heated-subdivision",
   "metadata": {},
   "outputs": [],
   "source": []
  }
 ],
 "metadata": {
  "kernelspec": {
   "display_name": "Python 3",
   "language": "python",
   "name": "python3"
  },
  "language_info": {
   "codemirror_mode": {
    "name": "ipython",
    "version": 3
   },
   "file_extension": ".py",
   "mimetype": "text/x-python",
   "name": "python",
   "nbconvert_exporter": "python",
   "pygments_lexer": "ipython3",
   "version": "3.9.9"
  }
 },
 "nbformat": 4,
 "nbformat_minor": 5
}

{
 "cells": [
  {
   "cell_type": "markdown",
   "id": "express-antarctica",
   "metadata": {},
   "source": [
    "# 5.3 電腦運算與二項式定理\n",
    "\n",
    "### 摘要: \n",
    "\n",
    "介紹電腦演示二項式定理及通項公式, 幫助同學了解二項式展開式子。在這里設計關於二項式几類題型, 分享Sympy 設計思路。\n",
    "\n",
    "### 關鍵:\n",
    "\n",
    "Python, Sympy, 二項式定理Binomial theorem, 通項公式General Term\n",
    "\n",
    "## 1.\t安裝Python及組件\n",
    "-\t安裝 Python 3.9.6\n",
    "-\tC:\\Users\\Pi>pip install numpy sympy jupyterlab\n",
    "-\tC:\\Users\\Pi>jupyter notebook"
   ]
  },
  {
   "cell_type": "markdown",
   "id": "formed-botswana",
   "metadata": {},
   "source": [
    "## 2. 數學知識\n",
    "### 2.1 二項式定理\n",
    "$ (a+b)^n = \\sum_{k=0}^{n}  C_{n}^{k} a^{n-k} b^{k}$ .    \n",
    "### 2.2 通項公式：\n",
    "$ T_{k}= C_n^k a^{n-k} b^{k}  $  \n",
    "\n",
    "### 2.3 二項式係數：\n",
    "$ C_{n}^{k} ={\\binom{n}{k}}$   \n",
    "係數性質：  \n",
    "（1）和首末兩端等距離的係數相等;   \n",
    "（2）當二項式指數n是奇數時，中間兩項最大且相等;  \n",
    "（3）當二項式指數n是偶數時，中間一項最大;  \n",
    "（4）二項式展開式中奇數項和偶數項總和相同，都是$2^{n-1}$;  \n",
    "（5）二項式展開式中所有係數總和是$2^n$   "
   ]
  },
  {
   "cell_type": "markdown",
   "id": "artificial-trace",
   "metadata": {},
   "source": [
    "## 3. Sympy演示\n",
    "### 3.1 係數binomial(n, k)\n",
    "$\\left(a + b\\right)^{5} = $ \n",
    "$a^{5} + 5 a^{4} b + 10 a^{3} b^{2} + 10 a^{2} b^{3} + 5 a b^{4} + b^{5}$"
   ]
  },
  {
   "cell_type": "code",
   "execution_count": null,
   "id": "exciting-formation",
   "metadata": {},
   "outputs": [],
   "source": [
    "from sympy import *\n",
    "init_printing()\n",
    "a,b,x,y = symbols('a b x y', real=True)\n",
    "n,k = symbols('n k', integer=True, nonnegative=True)"
   ]
  },
  {
   "cell_type": "markdown",
   "id": "fifty-liverpool",
   "metadata": {},
   "source": [
    "### 各項係數Binomial coefficients :  binomial(n, k)"
   ]
  },
  {
   "cell_type": "code",
   "execution_count": null,
   "id": "entertaining-berkeley",
   "metadata": {
    "scrolled": true
   },
   "outputs": [],
   "source": [
    "binomial(n, k)"
   ]
  },
  {
   "cell_type": "code",
   "execution_count": null,
   "id": "artistic-egyptian",
   "metadata": {},
   "outputs": [],
   "source": [
    "binomial(5, 2)   "
   ]
  },
  {
   "cell_type": "code",
   "execution_count": null,
   "id": "direct-nursing",
   "metadata": {},
   "outputs": [],
   "source": [
    "N=5\n",
    "[binomial(N, i) for i in range(N + 1)]"
   ]
  },
  {
   "cell_type": "code",
   "execution_count": null,
   "id": "changed-export",
   "metadata": {},
   "outputs": [],
   "source": [
    "for N in range(6):\n",
    "    n_val =f'n={N} '.ljust(12-N*5//3 )\n",
    "    print(n_val, [binomial(N, i) for i in range(N + 1)])"
   ]
  },
  {
   "cell_type": "markdown",
   "id": "regulated-credit",
   "metadata": {},
   "source": [
    "### 3.2 通項公式General_Term"
   ]
  },
  {
   "cell_type": "code",
   "execution_count": null,
   "id": "chubby-printer",
   "metadata": {},
   "outputs": [],
   "source": [
    "General_Term=binomial(n, k)  *  a**(n-k)  *   b**(k)\n",
    "General_Term"
   ]
  },
  {
   "cell_type": "markdown",
   "id": "operating-alabama",
   "metadata": {},
   "source": [
    "### 3.3 數列和Sum(General_Term, (k,0,n)),   即是 Binomial_theorem"
   ]
  },
  {
   "cell_type": "code",
   "execution_count": null,
   "id": "eleven-martin",
   "metadata": {},
   "outputs": [],
   "source": [
    "Binomial_theorem=Sum( General_Term, (k, 0, n))\n",
    "Binomial_theorem"
   ]
  },
  {
   "cell_type": "markdown",
   "id": "nominated-significance",
   "metadata": {},
   "source": [
    "## 3.5 $(\\frac{1}{\\sqrt{x}}-2)^5$ 整式展開"
   ]
  },
  {
   "cell_type": "code",
   "execution_count": null,
   "id": "aboriginal-funds",
   "metadata": {},
   "outputs": [],
   "source": [
    "A = 1/sqrt(x)  \n",
    "B = -2\n",
    "N=5\n",
    "(A+B)**N"
   ]
  },
  {
   "cell_type": "code",
   "execution_count": null,
   "id": "bronze-springfield",
   "metadata": {
    "scrolled": true,
    "tags": []
   },
   "outputs": [],
   "source": [
    "expand(_)"
   ]
  },
  {
   "cell_type": "markdown",
   "id": "parental-cinema",
   "metadata": {
    "tags": []
   },
   "source": [
    "## 3.5.1 利用通項公式General_Term，代入subs({ a:  1/√x  ,  b: -2,  n: 5, k:K} ;  K=0 … 5 。"
   ]
  },
  {
   "cell_type": "code",
   "execution_count": null,
   "id": "superior-motel",
   "metadata": {},
   "outputs": [],
   "source": [
    "expre_list=[  General_Term.subs({ a:A,  b: B,  n: N,  k:K  } ) for K in range(N + 1)]\n",
    "expre_list"
   ]
  },
  {
   "cell_type": "code",
   "execution_count": null,
   "id": "productive-stevens",
   "metadata": {},
   "outputs": [],
   "source": [
    "from IPython.display import display, Math, Latex\n",
    "St=[]\n",
    "for i_, term_ in enumerate(expre_list):\n",
    "    if not (str(term_)[0]=='-' or i_==0):\n",
    "        St.append(\"+\")\n",
    "    St.append(latex(term_))\n",
    "display( Latex(r\"$\\Large %s$\"% \"\".join(St)))"
   ]
  },
  {
   "cell_type": "markdown",
   "id": "boolean-placement",
   "metadata": {},
   "source": [
    "求含有$ x^{-1}$ 的項。"
   ]
  },
  {
   "cell_type": "code",
   "execution_count": null,
   "id": "informal-climb",
   "metadata": {
    "tags": []
   },
   "outputs": [],
   "source": [
    "found_expr =  x** -1\n",
    "for K in range(N + 1):\n",
    "    if not  x  in ( expre_list[K]  / found_expr ).free_symbols:\n",
    "        display( expre_list[K] )       #找到，並顯示第K項。\n",
    "        break;"
   ]
  },
  {
   "cell_type": "markdown",
   "id": "heated-garlic",
   "metadata": {},
   "source": [
    "利用二項式定理， 求展開式。"
   ]
  },
  {
   "cell_type": "code",
   "execution_count": null,
   "id": "beginning-grill",
   "metadata": {},
   "outputs": [],
   "source": [
    "Binomial_theorem.subs({ a:A, b:B,  n: N }).doit()"
   ]
  },
  {
   "cell_type": "markdown",
   "id": "patent-husband",
   "metadata": {},
   "source": [
    "## Plot"
   ]
  },
  {
   "cell_type": "code",
   "execution_count": null,
   "id": "hybrid-eight",
   "metadata": {
    "scrolled": true
   },
   "outputs": [],
   "source": [
    "plot(Binomial_theorem.subs({a:A, b:B, n:N}),(x, -2, 20),xlim=(-2,20),ylim=(-20,10),size=(10,3) )"
   ]
  },
  {
   "cell_type": "code",
   "execution_count": null,
   "id": "greater-montana",
   "metadata": {},
   "outputs": [],
   "source": [
    "from sympy.plotting import plot_parametric\n",
    "x = symbols('x')\n",
    "f1=(x, Binomial_theorem.subs({a:1/sqrt(x),b:-2,n:1}))\n",
    "f2=(x, Binomial_theorem.subs({a:1/sqrt(x),b:-2,n:2}))\n",
    "f3=(x, Binomial_theorem.subs({a:1/sqrt(x),b:-2,n:3}))\n",
    "f4=(x, Binomial_theorem.subs({a:1/sqrt(x),b:-2,n:4}))\n",
    "f5=(x, Binomial_theorem.subs({a:1/sqrt(x),b:-2,n:5}))\n",
    "p=plot_parametric(f1,f2,f3,f4,f5,(x, -2, 60),xlim=(-2,60),ylim=(-25,15),size=(3,3 ) ,show=False)\n",
    "labels=[r'1',r'2','3','4','5']\n",
    "colors=['red','orange','cyan','green','blue','purple','olive','pink','gray','brown']\n",
    "for idx in range(0,5):\n",
    "    p[idx].line_color=colors[idx]\n",
    "    p[idx].label=r\"$%s$\"%labels[idx]\n",
    "p.legend=True\n",
    "p.show()"
   ]
  },
  {
   "cell_type": "markdown",
   "id": "attached-boutique",
   "metadata": {},
   "source": [
    "## 4 題型設計"
   ]
  },
  {
   "cell_type": "code",
   "execution_count": null,
   "id": "improving-lemon",
   "metadata": {},
   "outputs": [],
   "source": [
    "import sympy as sp\n",
    "import numpy as np\n",
    "import random\n",
    "from IPython.display import display, Math, Latex\n",
    "sp.init_printing()\n",
    "a,b,x,y = sp.symbols('a b x y', real=True)\n",
    "n,k = sp.symbols('n k', integer=True, nonnegative=True)\n",
    "General_Term=sp.binomial(n, k)  *  a**(n-k)  *   b**(k)\n",
    "a_v =\"-1/2,1/2,1,-1,3/2,-3/2,2,-2\".split(\",\")\n",
    "a_v=[sp.S(i_) for i_ in a_v ]\n",
    "b_v =\"-1/3,1/3,-1/2,1/2,1,-1,3/2,-3/2,2,-2,-5/2,5/2,-3,3\".split(\",\")\n",
    "b_v=[sp.S(i_) for i_ in b_v ]"
   ]
  },
  {
   "cell_type": "markdown",
   "id": "romantic-maker",
   "metadata": {},
   "source": [
    "### 4.1 題型一:  $( a \\cdot x + b )^c $  "
   ]
  },
  {
   "cell_type": "code",
   "execution_count": null,
   "id": "proprietary-velvet",
   "metadata": {},
   "outputs": [],
   "source": [
    "for Qid in range(3):\n",
    "    a_=random.choice(a_v)\n",
    "    b_=random.choice(b_v)\n",
    "    c_=3 if Qid<6 else 4;\n",
    "    a_=x**a_\n",
    "    St= (a_ + b_) **c_\n",
    "    StFmt= sp.latex(a_)\n",
    "    if not str(b_)[0]==\"-\":\n",
    "        StFmt+=\"+\"\n",
    "    StFmt+=sp.latex(b_)\n",
    "    Val=[  General_Term.subs({ a:a_,  b: b_,  n: c_,  k:K } ) for K in range( c_ + 1)]\n",
    "    ValSt=[]\n",
    "    for i_, term_ in enumerate(Val):\n",
    "        if not (str(term_)[0]=='-' or i_==0):\n",
    "            ValSt.append(\"+\")\n",
    "        ValSt.append(sp.latex(term_))\n",
    "    Val=sp.expand(St)\n",
    "    St=f\"\\\\left( {StFmt} \\\\right) ^{c_}\" \n",
    "    ValSt=\"\".join(ValSt)\n",
    "    display(Math(St))\n",
    "    display(Math(ValSt) )"
   ]
  },
  {
   "cell_type": "markdown",
   "id": "comparative-growth",
   "metadata": {},
   "source": [
    "#### 4.2 題型二: $( a_1 \\cdot x^{b_1} + a_2 \\cdot x^{b_2} )^c $  "
   ]
  },
  {
   "cell_type": "code",
   "execution_count": null,
   "id": "confident-customs",
   "metadata": {},
   "outputs": [],
   "source": [
    "for Qid in range(3):\n",
    "    a_1,a_2=np.random.choice(b_v,2)\n",
    "    b_1,b_2=np.random.choice(a_v,2)\n",
    "    if b_1==b_2:b_1=b_1*b_1\n",
    "    c_=3 if Qid<6 else 4;\n",
    "    a_=a_1 * x**b_1\n",
    "    b_=a_2 * x**b_2\n",
    "    St= (a_ + b_) **c_\n",
    "    StFmt= sp.latex(a_)\n",
    "    if not str(b_)[0]==\"-\":\n",
    "        StFmt+=\"+\"\n",
    "    StFmt+=sp.latex(b_)\n",
    "    Val=[  General_Term.subs({ a:a_,  b: b_,  n: c_,  k:K } ) for K in range( c_ + 1)]\n",
    "    ValSt=[]\n",
    "    for i_, term_ in enumerate(Val):\n",
    "        if not (str(term_)[0]=='-' or i_==0):\n",
    "            ValSt.append(\"+\")\n",
    "        ValSt.append(sp.latex(term_))\n",
    "    Val=sp.expand(St)\n",
    "    St=f\"\\\\left( {StFmt} \\\\right) ^{c_}\" \n",
    "    ValSt=\"\".join(ValSt)\n",
    "    display(Math(St))\n",
    "    display(Math(ValSt) )"
   ]
  },
  {
   "cell_type": "markdown",
   "id": "finite-representative",
   "metadata": {},
   "source": [
    "#### 4.3 題型三: $( a \\cdot x + b )^n $ \n",
    "$\\displaystyle \\left( \\frac{1}{\\sqrt{x}} - 2   \\right)^{3}$"
   ]
  },
  {
   "cell_type": "code",
   "execution_count": null,
   "id": "elder-telescope",
   "metadata": {},
   "outputs": [],
   "source": [
    "for Qid in range(3):\n",
    "    a_=random.choice(a_v)\n",
    "    b_=random.choice(b_v)\n",
    "    c_=3 if Qid<6 else 4;\n",
    "    a_=x**a_\n",
    "    St= (a_ + b_) **c_\n",
    "    StFmt= sp.latex(a_)\n",
    "    if not str(b_)[0]==\"-\":\n",
    "        StFmt+=\"+\"\n",
    "    StFmt+=sp.latex(b_)\n",
    "    Val=[  General_Term.subs({ a:a_,  b: b_,  n: c_,  k:K } ) for K in range( c_ + 1)]\n",
    "    ValSt=[]\n",
    "    for i_, term_ in enumerate(Val):\n",
    "        if not (str(term_)[0]=='-' or i_==0):\n",
    "            ValSt.append(\"+\")\n",
    "        ValSt.append(sp.latex(term_))\n",
    "    Val=sp.expand(St)\n",
    "    St=f\"\\\\left( {StFmt} \\\\right) ^{c_}\" \n",
    "    ValSt=\"\".join(ValSt)\n",
    "    display(Math(St))\n",
    "    display(Math(ValSt) )"
   ]
  },
  {
   "cell_type": "markdown",
   "id": "intimate-nebraska",
   "metadata": {},
   "source": [
    "### 4.4 PF503.4.Binomial_theorem"
   ]
  },
  {
   "cell_type": "code",
   "execution_count": 1,
   "id": "informational-pasta",
   "metadata": {},
   "outputs": [
    {
     "data": {
      "text/html": [
       "<table><tr><th>編號</th><th>題目</th><th>答案</th><th>作答</th><th>檢查</th><th>提示</th></tr><tr><td>0</td><td>$$\\left( x + 1 \\right) ^3$$</td><td>x**3 + 3*x**2 + 3*x + 1</td><td></td><td>0</td><td>0</td><td></td><td>0</td><td>HTML</td><td>x**3+3*x**2+3*x+1</td></tr><tr><td>1</td><td>$$\\left( x + \\frac{3}{2} \\right) ^3$$</td><td>x**3 + 9*x**2/2 + 27*x/4 + 27/8</td><td></td><td>0</td><td>0</td><td></td><td>0</td><td>HTML</td><td>x**3+9*x**2/2+27*x/4+27/8</td></tr><tr><td>2</td><td>$$\\left( \\sqrt{x} + \\frac{1}{3} \\right) ^3$$</td><td>x**(3/2) + sqrt(x)/3 + x + 1/27</td><td></td><td>0</td><td>0</td><td></td><td>0</td><td>HTML</td><td>x**(3/2)+x+sqrt(x)/3+1/27</td></tr></table>"
      ],
      "text/plain": [
       "<IPython.core.display.HTML object>"
      ]
     },
     "metadata": {},
     "output_type": "display_data"
    },
    {
     "data": {
      "text/html": [
       "<table><tr><th>編號</th><th>題目</th><th>答案</th><th>作答</th><th>檢查</th><th>提示</th></tr><tr><td>0</td><td>$$\\left( - 2 x^{4} + \\frac{5 x^{2}}{2} \\right) ^3$$</td><td>-8*x**12 + 30*x**10 - 75*x**8/2 + 125*x**6/8</td><td></td><td>0</td><td>1</td><td></td><td>0</td><td>HTML</td><td>-8*x**12+30*x**10-75*x**8/2+125*x**6/8</td></tr><tr><td>1</td><td>$$\\left( - x  - 3 \\sqrt{x} \\right) ^3$$</td><td>-9*x**(5/2) - 27*x**(3/2) - x**3 - 27*x**2</td><td></td><td>0</td><td>1</td><td></td><td>0</td><td>HTML</td><td>-x**3-9*x**(5/2)-27*x**2-27*x**(3/2)</td></tr><tr><td>2</td><td>$$\\left( - \\frac{x^{2}}{3}  - \\frac{3 \\sqrt{x}}{2} \\right) ^3$$</td><td>-x**(9/2)/2 - 27*x**(3/2)/8 - x**6/27 - 9*x**3/4</td><td></td><td>0</td><td>1</td><td></td><td>0</td><td>HTML</td><td>-x**6/27-x**(9/2)/2-9*x**3/4-27*x**(3/2)/8</td></tr></table>"
      ],
      "text/plain": [
       "<IPython.core.display.HTML object>"
      ]
     },
     "metadata": {},
     "output_type": "display_data"
    },
    {
     "data": {
      "text/html": [
       "<table><tr><th>編號</th><th>題目</th><th>答案</th><th>作答</th><th>檢查</th><th>提示</th></tr><tr><td>0</td><td>$$\\left( \\frac{1}{x} + \\frac{1}{3} \\right) ^3$$<br>$$求第3項。$$</td><td>1/(3*x)</td><td></td><td>0</td><td>2</td><td></td><td>0</td></tr><tr><td>1</td><td>$$\\left( \\frac{1}{x} + \\frac{3}{2} \\right) ^3$$<br>$$求第4項。$$</td><td>27/8</td><td></td><td>0</td><td>2</td><td></td><td>0</td></tr><tr><td>2</td><td>$$\\left( \\frac{1}{x} + 3 \\right) ^3$$<br>$$求第3項。$$</td><td>27/x</td><td></td><td>0</td><td>2</td><td></td><td>0</td></tr></table>"
      ],
      "text/plain": [
       "<IPython.core.display.HTML object>"
      ]
     },
     "metadata": {},
     "output_type": "display_data"
    },
    {
     "data": {
      "text/html": [
       "<table><tr><th>編號</th><th>題目</th><th>答案</th><th>作答</th><th>檢查</th><th>提示</th></tr><tr><td>0</td><td>$$\\left( x  -2 \\right) ^3$$<br>$$求含有x^{3}的項。$$</td><td>x**3</td><td></td><td>0</td><td>3</td><td></td><td>0</td></tr><tr><td>1</td><td>$$\\left( x + 3 \\right) ^3$$<br>$$求含有x^{3}的項。$$</td><td>x**3</td><td></td><td>0</td><td>3</td><td></td><td>0</td></tr><tr><td>2</td><td>$$\\left( \\frac{1}{x}  -3 \\right) ^3$$<br>$$求含有\\frac{1}{x^{2}}的項。$$</td><td>-9/x**2</td><td></td><td>0</td><td>3</td><td></td><td>0</td></tr></table>"
      ],
      "text/plain": [
       "<IPython.core.display.HTML object>"
      ]
     },
     "metadata": {},
     "output_type": "display_data"
    }
   ],
   "source": [
    "import random                                     #亂數 \n",
    "import math                                       #math 內置數學函數\n",
    "import numpy as np                                #數字矩陣\n",
    "import sympy as sp                                #sympy 簡易別名 sp    \n",
    "from sympy.parsing.sympy_parser import parse_expr #文字字串, 解釋成, Sympy 運算式\n",
    "from sympy.plotting import plot                   #繪圖表\n",
    "from IPython.display import Latex,HTML,Markdown   #網頁顯示數學符號\n",
    "import lib                                         #JSON 結構化資料\n",
    "from lib import GetTE\n",
    "import re\n",
    "sp.init_printing(\"mathjax\")                       #sp.init_printing()  168 \n",
    "\"\"\"\n",
    "Binomial_theorem\n",
    "\"\"\"\n",
    "def Get_PF503_Expr(QN,Tx=-1):\n",
    "    a,b = sp.symbols('a b', real=True)\n",
    "    x,y = sp.symbols('x y')\n",
    "    n,k = sp.symbols('n k', integer=True, nonnegative=True)\n",
    "    General_Term=sp.binomial(n, k)  *  a**(n-k)  *   b**(k)\n",
    "    a_v =\"-1/2,1/2,1,-1,2,-2\".split(\",\")\n",
    "    a_v=[sp.S(i_) for i_ in a_v ]\n",
    "    b_v =\"-1/3,1/3,-1/2,1/2,1,-1,3/2,-3/2,2,-2,-5/2,5/2,-3,3\".split(\",\")\n",
    "    b_v=[sp.S(i_) for i_ in b_v ]\n",
    "    NTE=[]\n",
    "    for Qid in range(0,QN):\n",
    "        if Tx == 0:\n",
    "            a_=random.choice(a_v)\n",
    "            b_=random.choice(b_v)\n",
    "            c_=3 if Qid<6 else 4;\n",
    "            a_=x**a_\n",
    "            St= (a_ + b_) **c_\n",
    "            Val=sp.expand(St)\n",
    "            op=\"\" if str(b_)[0]==\"-\" else \"+\"\n",
    "            St=f\"\\\\left( {sp.latex(a_)} {op} {sp.latex(b_)} \\\\right) ^{c_}\" \n",
    "            \n",
    "            Val_Terms=[ General_Term.subs({ a:a_,  b: b_,  n: c_,  k:K } ) for K in range( c_ + 1)]\n",
    "            ValSt=[]\n",
    "            for i_, term_ in enumerate(Val_Terms):\n",
    "                if not (str(term_)[0]=='-' or i_==0):\n",
    "                    ValSt.append(\"+\")\n",
    "                ValSt.append(str(term_))\n",
    "            ValSt=\"\".join(ValSt)\n",
    "            TE = GetTE(Qid, St, Val, Tx)\n",
    "            TE[\"ValFmt\"]=r\"HTML\"\n",
    "            TE[\"ValSt\"]=ValSt\n",
    "            NTE.append(TE)\n",
    "        elif Tx == 1:\n",
    "            a_1,a_2=np.random.choice(b_v,2)\n",
    "            b_1,b_2=np.random.choice(a_v,2)\n",
    "            if b_1==b_2:b_1=b_1*b_1\n",
    "            c_=3 if Qid<6 else 4;\n",
    "            a_=a_1 * x**b_1\n",
    "            b_=a_2 * x**b_2\n",
    "            St= (a_ + b_) **c_\n",
    "            Val=sp.expand(St)\n",
    "            op=\"\" if str(b_)[0]==\"-\" else \"+\"\n",
    "            St=f\"\\\\left( {sp.latex(a_)} {op} {sp.latex(b_)} \\\\right) ^{c_}\" \n",
    "            Val_Terms=[ General_Term.subs({ a:a_,  b: b_,  n: c_,  k:K } ) for K in range( c_ + 1)]\n",
    "            ValSt=[]\n",
    "            for i_, term_ in enumerate(Val_Terms):\n",
    "                if not (str(term_)[0]=='-' or i_==0):\n",
    "                    ValSt.append(\"+\")\n",
    "                ValSt.append(str(term_))\n",
    "            ValSt=\"\".join(ValSt)\n",
    "            TE = GetTE(Qid, St, Val, Tx)\n",
    "            TE[\"ValFmt\"]=r\"HTML\"\n",
    "            TE[\"ValSt\"]=ValSt\n",
    "            NTE.append(TE)\n",
    "        elif Tx == 2:\n",
    "            a_=random.choice(a_v)\n",
    "            b_=random.choice(b_v)\n",
    "            c_=3 if Qid<6 else 4;\n",
    "            a_=x**a_\n",
    "            St= (a_ + b_) **c_\n",
    "            Val=sp.expand(St)\n",
    "            op=\"\" if str(b_)[0]==\"-\" else \"+\"\n",
    "            St=f\"\\\\left( {sp.latex(a_)} {op} {sp.latex(b_)} \\\\right) ^{c_}\" \n",
    "            ch=random.randint(1,c_+1)\n",
    "            St=[St, f\"求第{ch}項。\"]\n",
    "            Val= General_Term.subs({ a:a_,  b: b_,  n: c_,  k:ch-1 })\n",
    "            TE = GetTE(Qid, St, Val, Tx)\n",
    "            NTE.append(TE)\n",
    "        elif Tx == 3:\n",
    "            a_=random.choice(a_v)\n",
    "            b_=random.choice(b_v)\n",
    "            c_=3 if Qid<6 else 4;\n",
    "            a_=x**a_\n",
    "            St= (a_ + b_) **c_\n",
    "            Val=sp.expand(St)\n",
    "            op=\"\" if str(b_)[0]==\"-\" else \"+\"\n",
    "            St=f\"\\\\left( {sp.latex(a_)} {op} {sp.latex(b_)} \\\\right) ^{c_}\" \n",
    "            ch=random.randint(1,c_)\n",
    "            St=[St, f\"求含有{sp.latex(a_**ch)}的項。\"]\n",
    "            Val= General_Term.subs({ a:a_,  b: b_,  n: c_,  k:c_ - ch })\n",
    "            TE = GetTE(Qid, St, Val, Tx)\n",
    "            NTE.append(TE)\n",
    "\n",
    "        else:\n",
    "            a_=random.choice(a_v)\n",
    "            b_=random.choice(b_v)\n",
    "            c_=random.randint(3,4)\n",
    "            a_=x**a_\n",
    "            St= (a_ + b_) **c_\n",
    "            Val=sp.expand(St)\n",
    "            op=\"\" if str(b_)[0]==\"-\" else \"+\"\n",
    "            St=f\"\\\\left( {sp.latex(a_)} {op} {sp.latex(b_)} \\\\right) ^{c_}\" \n",
    "            TE = GetTE(Qid, St, Val, Tx)\n",
    "            NTE.append(TE)\n",
    "    return NTE\n",
    "\n",
    "\n",
    "qizamt=3\n",
    "NTE=Get_PF503_Expr(qizamt,0) \n",
    "display(HTML(lib.NTE2TBL(NTE,\"html\"))) \n",
    "NTE=Get_PF503_Expr(qizamt,1) \n",
    "display(HTML(lib.NTE2TBL(NTE,\"html\"))) \n",
    "NTE=Get_PF503_Expr(qizamt,2) \n",
    "display(HTML(lib.NTE2TBL(NTE,\"list\"))) \n",
    "NTE=Get_PF503_Expr(qizamt,3) \n",
    "display(HTML(lib.NTE2TBL(NTE,\"list\"))) "
   ]
  },
  {
   "cell_type": "code",
   "execution_count": 3,
   "id": "affecting-following",
   "metadata": {},
   "outputs": [
    {
     "name": "stdout",
     "output_type": "stream",
     "text": [
      "15*x**4/2\n",
      "第0題:\n"
     ]
    },
    {
     "data": {
      "text/html": [
       "$$\\left( x^{2} + \\frac{5}{2} \\right) ^3$$<br>$$求第2項。$$"
      ],
      "text/plain": [
       "<IPython.core.display.HTML object>"
      ]
     },
     "metadata": {},
     "output_type": "display_data"
    },
    {
     "name": "stdout",
     "output_type": "stream",
     "text": [
      "請作答:1\n",
      "9/(2*x)\n",
      "第1題:\n"
     ]
    },
    {
     "data": {
      "text/html": [
       "$$\\left( \\frac{1}{\\sqrt{x}} + \\frac{3}{2} \\right) ^3$$<br>$$求第2項。$$"
      ],
      "text/plain": [
       "<IPython.core.display.HTML object>"
      ]
     },
     "metadata": {},
     "output_type": "display_data"
    },
    {
     "name": "stdout",
     "output_type": "stream",
     "text": [
      "請作答:1\n",
      "3/x**4\n",
      "第2題:\n"
     ]
    },
    {
     "data": {
      "text/html": [
       "$$\\left( \\frac{1}{x^{2}} + 1 \\right) ^3$$<br>$$求第2項。$$"
      ],
      "text/plain": [
       "<IPython.core.display.HTML object>"
      ]
     },
     "metadata": {},
     "output_type": "display_data"
    },
    {
     "name": "stdout",
     "output_type": "stream",
     "text": [
      "請作答:1\n"
     ]
    },
    {
     "data": {
      "text/html": [
       "<table><tr><th>編號</th><th>題目</th><th>答案</th><th>作答</th><th>檢查</th><th>提示</th></tr><tr><td>0</td><td>$$\\left( x^{2} + \\frac{5}{2} \\right) ^3$$<br>$$求第2項。$$</td><td>15*x**4/2</td><td>1</td><td>0</td><td>2</td><td></td><td>0</td></tr><tr><td>1</td><td>$$\\left( \\frac{1}{\\sqrt{x}} + \\frac{3}{2} \\right) ^3$$<br>$$求第2項。$$</td><td>9/(2*x)</td><td>1</td><td>0</td><td>2</td><td></td><td>0</td></tr><tr><td>2</td><td>$$\\left( \\frac{1}{x^{2}} + 1 \\right) ^3$$<br>$$求第2項。$$</td><td>3/x**4</td><td>1</td><td>0</td><td>2</td><td></td><td>0</td></tr></table>"
      ],
      "text/plain": [
       "<IPython.core.display.HTML object>"
      ]
     },
     "metadata": {},
     "output_type": "display_data"
    }
   ],
   "source": [
    "def St2Str(St):\n",
    "    if isinstance(St, list):\n",
    "        return \"<br>\".join(\"$$%s$$\" % rr_ for rr_ in St) \n",
    "    elif isinstance(St, str):\n",
    "        return \"$$%s$$\" % St \n",
    "    else:\n",
    "        return \"$$%s$$\" % St \n",
    "\n",
    "NTE=Get_PF503_Expr(3,2)\n",
    "for i,TE in enumerate(NTE):\n",
    "    St=TE[\"St\"]\n",
    "    Val=TE[\"Val\"]\n",
    "    print(Val)\n",
    "    print(f\"第{i}題:\")        \n",
    "    display(HTML(St2Str(St)))\n",
    "    ans=input(\"請作答:\")  \n",
    "    TE[\"Ans\"]=ans\n",
    "    ans = lib.Text2St(ans)\n",
    "    lib.Put_Expr_X1(TE)\n",
    "    \n",
    "display(HTML(lib.NTE2TBL(NTE,\"list\"))) "
   ]
  },
  {
   "cell_type": "markdown",
   "id": "polish-squad",
   "metadata": {},
   "source": [
    "========end================================================"
   ]
  },
  {
   "cell_type": "markdown",
   "id": "latin-humanitarian",
   "metadata": {},
   "source": [
    "srepr(_)  #Note The above diagram was made using Graphviz and the dotprint function.\n",
    "func(_)      #func is the head of the object. \n",
    "args(_) #args are the top-level arguments of the object.\n",
    "Walking the Tree\n",
    "With this knowledge, let’s look at how we can recurse through an expression tree. The nested nature of args is a perfect fit for recursive functions. The base case will be empty args. Let’s write a simple function that goes through an expression and prints all the args at each level.\n",
    "```python\n",
    "Run code block in SymPy Live\n",
    "def pre(expr):\n",
    "    print(expr)\n",
    "    for arg in expr.args:\n",
    "        pre(arg)\n",
    "        \n",
    "are provided to make such traversals easy. We could have also written our algorithm as\n",
    "\n",
    "Run code block in SymPy Live\n",
    "for arg in preorder_traversal(expr):\n",
    "    print(arg)\n",
    "```       \n",
    "Prevent expression evaluation\n",
    "\n",
    "The x remaining alone is the x wrapped by UnevaluatedExpr. To release it:"
   ]
  },
  {
   "cell_type": "code",
   "execution_count": null,
   "id": "armed-garage",
   "metadata": {
    "scrolled": true
   },
   "outputs": [],
   "source": [
    "sp.binomial_coefficients(4) "
   ]
  },
  {
   "cell_type": "code",
   "execution_count": null,
   "id": "willing-rainbow",
   "metadata": {},
   "outputs": [],
   "source": [
    "import graphviz \n",
    "from IPython.display import display, Math, Latex\n",
    "expre_list=[  General_Term.subs({ a:A,  b: B,  n: N,  k:K  } ) for K in range(N + 1)]\n",
    "St=[]\n",
    "for i_,aa_ in enumerate(aa):\n",
    "    #display(graphviz.Source(printing.dotprint(aa_)))\n",
    "    #srepr(f)\n",
    "    if str(aa_)[0]=='-' or i_==0:\n",
    "        pass\n",
    "    else:\n",
    "        bb.append(\"+\")\n",
    "    bb.append(latex(aa_))\n",
    "display( Latex(r\"$%s$\"% \"\".join(bb)))"
   ]
  }
 ],
 "metadata": {
  "kernelspec": {
   "display_name": "Python 3",
   "language": "python",
   "name": "python3"
  },
  "language_info": {
   "codemirror_mode": {
    "name": "ipython",
    "version": 3
   },
   "file_extension": ".py",
   "mimetype": "text/x-python",
   "name": "python",
   "nbconvert_exporter": "python",
   "pygments_lexer": "ipython3",
   "version": "3.9.9"
  }
 },
 "nbformat": 4,
 "nbformat_minor": 5
}

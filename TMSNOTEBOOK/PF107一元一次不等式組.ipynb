{
 "cells": [
  {
   "cell_type": "markdown",
   "id": "synthetic-fantasy",
   "metadata": {},
   "source": [
    "# 電腦數學符號運算"
   ]
  },
  {
   "cell_type": "markdown",
   "id": "white-wayne",
   "metadata": {},
   "source": [
    "### 第3節. 一元一次不等式組實作\n",
    "安裝 Python 3.8.7\n",
    "- pip install numpy\n",
    "- pip install sympy\n",
    "- pip install jupyterlab\n",
    "- lib.py \n",
    "\n",
    "reduce_rational_inequalities([[ineq1, ineq2]],x) #and\n",
    "\n",
    "reduce_rational_inequalities([[ineq1],[ineq2]],x) #or\n",
    "\n",
    "并(&) 關係\n",
    "[ [ a x + b > c    , a1 x + b1 < c1 ]]\n",
    "\n",
    "或(|) 關係\n",
    "[ [ a x + b > c  ], [ a1 x + b1 < c1 ] ]\n",
    "\n"
   ]
  },
  {
   "cell_type": "markdown",
   "id": "hybrid-myanmar",
   "metadata": {},
   "source": [
    "程式一 出題   \n",
    "一元一次不等式組 并(&) 關係  \n",
    "\n",
    "題目: 一元一次不等式組,并關係   \n",
    "↱  x>−5   \n",
    "|      ,   \n",
    "↳  x>−1  \n",
    "電腦答案: (-1 < x) & (x < oo)   \n",
    "請作答: x>-1  \n",
    "   \n",
    "\n",
    "題目: 一元一次不等式組,并關係  \n",
    "↱ x<3  \n",
    "|      ,  \n",
    "↳ x<4   \n",
    "電腦答案: (-oo < x) & (x < 3)   \n",
    "請作答: x < 3  \n",
    "\n",
    "  \n",
    "題目: 一元一次不等式組,并關係  \n",
    "↱  x < 1     \n",
    "|      ,  \n",
    "↳  x > -3  \n",
    " \n",
    "$$ \\left\\{\\begin{array}\\\\\n",
    "        x < 1  \\\\\n",
    "         x > -3  \\\\\n",
    "    \\end{array}\\right. \n",
    "$$\n",
    " \n",
    "電腦答案: (-oo < x) & (-3 < x) & (x < 1) & (x < oo)  \n",
    "請作答: ( x > -3 ) & ( x < 1 )  "
   ]
  },
  {
   "cell_type": "code",
   "execution_count": 1,
   "id": "plastic-sword",
   "metadata": {},
   "outputs": [
    {
     "data": {
      "text/markdown": [
       "號|題|值|答|檢查|題型|提示\n",
       "--|--|--|--|--|--|--\n",
       "0|$$\\left\\{\\begin{array}\\\\ x < 1  \\\\  x > -5  \\\\  \\end{array}\\right.$$|(-5 < x) & (x < 1)||0|0|請作答 空集輸入 0; 等於某值  Ne(x,0) \n",
       "1|$$\\left\\{\\begin{array}\\\\ 2 + x \\left(-3\\right) > x \\left(-15\\right) - 4  \\\\  4 x + 1 > 5 + x \\left(-1\\right)  \\\\  \\end{array}\\right.$$|(4/5 < x) ||0|1|請作答 空集輸入 0; 等於某值  Ne(x,0) \n",
       "2|$$\\left\\{\\begin{array}\\\\ 4 \\left(5 x - 2\\right) + 2 \\left(x \\left(-8\\right) - 3\\right) < 2 \\left(5 x - 5\\right)  \\\\  \\frac{1 x + 3}{-4} + \\frac{3 x - 1}{4} > \\frac{3 x + 4}{2}  \\\\  \\end{array}\\right.$$|False||0|2|請作答 空集輸入 0; 等於某值  Ne(x,0) \n",
       "3|$$-5 < \\frac{1 * x + (1)}{-2}  < 5 $$|(-11 < x) & (x < 9)||0|3|請作答 空集輸入 0; 等於某值  Ne(x,0) \n",
       "4|$$\\left\\{\\begin{array}\\\\ x < -5  \\\\  x < 3  \\\\  \\end{array}\\right.$$| (x < -5)||0|0|請作答 空集輸入 0; 等於某值  Ne(x,0) \n",
       "5|$$\\left\\{\\begin{array}\\\\ 4 x - 4 < 3 x - 2  \\\\  x \\left(-4\\right) - 5 < 3 x + 4  \\\\  \\end{array}\\right.$$|(-9/7 < x) & (x < 2)||0|1|請作答 空集輸入 0; 等於某值  Ne(x,0) \n",
       "6|$$\\left\\{\\begin{array}\\\\ 3 \\left(1 x + 4\\right) + 5 \\left(x \\left(-5\\right) - 3\\right) < \\left(4 x + 5\\right) \\left(-1\\right)  \\\\  \\frac{4 + x \\left(-3\\right)}{5} + \\frac{1 x + 2}{5} < \\frac{3 + x \\left(-2\\right)}{2}  \\\\  \\end{array}\\right.$$|(1/9 < x) & (x < 1/2)||0|2|請作答 空集輸入 0; 等於某值  Ne(x,0) \n",
       "7|$$1 > \\frac{2 * x + (5)}{-3}  > -5 $$|(-4 < x) & (x < 5)||0|3|請作答 空集輸入 0; 等於某值  Ne(x,0) "
      ],
      "text/plain": [
       "<IPython.core.display.Markdown object>"
      ]
     },
     "metadata": {},
     "output_type": "display_data"
    }
   ],
   "source": [
    "import random                                     #亂數 \n",
    "import sympy as sp                                #sympy 簡易別名 sp    \n",
    "from IPython.display import Latex,HTML,Markdown                 #網頁顯示數學符號\n",
    "from sympy.parsing.sympy_parser import parse_expr #文字字串, 解釋成, Sympy 運算式\n",
    "from sympy.solvers.inequalities import solve_univariate_inequality\n",
    "from sympy.solvers.inequalities import reduce_rational_inequalities\n",
    "import math\n",
    "import re\n",
    "sp.init_printing(\"mathjax\")                       #sp.init_printing()  #for latex \n",
    "import lib\n",
    "from lib import GetTE\n",
    "\"\"\"\n",
    "一元一次不等式組 并(&) 關係\n",
    "\"\"\"\n",
    "def Get_PF107_Expr(QN,Tx=-1):\n",
    "    TxFlag=Tx==-1       \n",
    "    x=sp.symbols('x')\n",
    "    NTE=[]\n",
    "    for Qid in range(0,QN):\n",
    "        if TxFlag:Tx=Qid % 4\n",
    "        if Tx==1:\n",
    "            op1=random.choice([\">\",\"<\"])\n",
    "            op2=random.choice([\">\",\"<\"])\n",
    "            a = random.choice([-5,-4,-3,-2,-1,1,2,3,4,5]) \n",
    "            p=random.choice([-5,-4,-3,-2,-1,1,2,3,4,5])\n",
    "            q=random.choice([-5,-4,-3,-2,-1,1,2,3,4,5])\n",
    "            b=p+q\n",
    "            c =p*q\n",
    "            d=random.choice([-5,-4,-3,-2,-1,1,2,3,4,5])\n",
    "            e=random.choice([-5,-4,-3,-2,-1,1,2,3,4,5])\n",
    "            f=random.choice([-5,-4,-3,-2,-1,1,2,3,4,5])\n",
    "            g=random.choice([-5,-4,-3,-2,-1,1,2,3,4,5])\n",
    "            h=random.choice([-5,-4,-3,-2,-1,1,2,3,4,5])\n",
    "            \n",
    "            express_str=f\" {a}* x+ {b}  {op1} {c}* x+ {d} \"                    # f(x)= ax + b\n",
    "            fx1=parse_expr(express_str, evaluate=False) #字串解釋為可運算式子 expression \n",
    "            express_str=f\" {e}* x+ {f}   {op2} {g}* x+ {h} \"                    # f(x)= ax + b\n",
    "            fx2=parse_expr(express_str, evaluate=False) #字串解釋為可運算式子 expression \n",
    "            #St=[sp.latex(fx1),sp.latex(fx2)]               #題目\n",
    "            St=r\"\\left\\{\\begin{array}\\\\ %s  \\\\  %s  \\\\  \\end{array}\\right.\"%(sp.latex(fx1),sp.latex(fx2))  \n",
    "            Val1=solve_univariate_inequality(fx1,x)         \n",
    "            Val2=solve_univariate_inequality(fx2,x)  \n",
    "            #Val= reduce_rational_inequalities([[fx1],[fx2]],x) # or\n",
    "            Val= reduce_rational_inequalities([[fx1,fx2]],x)   # and\n",
    "            #Val= Val1 & Val2\n",
    "\n",
    "        elif Tx==2:\n",
    "            op1=random.choice([\">\",\"<\"])\n",
    "            op2=random.choice([\">\",\"<\"])\n",
    "            a = random.choice([-5,-4,-3,-2,-1,1,2,3,4,5]) \n",
    "            p=random.choice([-5,-4,-3,-2,-1,1,2,3,4,5])\n",
    "            q=random.choice([-5,-4,-3,-2,-1,1,2,3,4,5])\n",
    "            b=p+q\n",
    "            c =p*q\n",
    "            d=random.choice([-5,-4,-3,-2,-1,1,2,3,4,5])\n",
    "            e=random.choice([-5,-4,-3,-2,-1,1,2,3,4,5])\n",
    "            f=random.choice([-5,-4,-3,-2,-1,1,2,3,4,5])\n",
    "            g=random.choice([-5,-4,-3,-2,-1,1,2,3,4,5])\n",
    "            h=random.choice([-5,-4,-3,-2,-1,1,2,3,4,5])\n",
    "            i=random.choice([-5,-4,-3,-2,-1,1,2,3,4,5])\n",
    "            j=random.choice([-5,-4,-3,-2,-1,1,2,3,4,5])\n",
    "            k=random.choice([-5,-4,-3,-2,-1,1,2,3,4,5])\n",
    "            l=random.choice([-5,-4,-3,-2,-1,1,2,3,4,5])\n",
    "            m=random.choice([-5,-4,-3,-2,-1,1,2,3,4,5])\n",
    "            n=random.choice([-5,-4,-3,-2,-1,1,2,3,4,5])\n",
    "            r=random.choice([-5,-4,-3,-2,-1,1,2,3,4,5])\n",
    "            s=random.choice([-5,-4,-3,-2,-1,1,2,3,4,5])            \n",
    "            express_str=f\" {m}* ({a}* x+ {b})+{n}* ({c}* x+ {d})   {op1} {p}*({f}* x+ {e}) \"                    # f(x)= ax + b\n",
    "            fx1=parse_expr(express_str, evaluate=False) #字串解釋為可運算式子 expression \n",
    "            express_str=f\" ({g}* x+ {h})/{q}+ ({i}* x+ {j})/{r}  {op2} ({k}* x+ {l})/{s} \"                    # f(x)= ax + b\n",
    "            fx2=parse_expr(express_str, evaluate=False) #字串解釋為可運算式子 expression \n",
    "            #St=[sp.latex(fx1),sp.latex(fx2)]               #題目\n",
    "            St=r\"\\left\\{\\begin{array}\\\\ %s  \\\\  %s  \\\\  \\end{array}\\right.\"%(sp.latex(fx1),sp.latex(fx2))  \n",
    "            Val1=solve_univariate_inequality(fx1,x)         \n",
    "            Val2=solve_univariate_inequality(fx2,x)  \n",
    "            #Val= reduce_rational_inequalities([[fx1],[fx2]],x) # or\n",
    "            Val= reduce_rational_inequalities([[fx1,fx2]],x)   # and\n",
    "            #Val= Val1 & Val2\n",
    "        elif Tx==3:\n",
    "            op1=random.choice([\">\",\"<\"])\n",
    "            op2=random.choice([\">\",\"<\"])\n",
    "            a = random.choice([-5,-4,-3,-2,-1,1,2,3,4,5]) \n",
    "            b=random.choice([-5,-4,-3,-2,-1,1,2,3,4,5])\n",
    "            c=random.choice([-5,-4,-3,-2,-1,1,2,3,4,5])\n",
    "            d=random.choice([-5,-4,-3,-2,-1,1,2,3,4,5])\n",
    "            e=random.choice([-5,-4,-3,-2,-1,1,2,3,4,5])\n",
    "            m=random.choice([-5,-4,-3,-2,-1,1,2,3,4,5])\n",
    "            n=random.choice([-5,-4,-3,-2,-1,1,2,3,4,5])\n",
    "            if m==n: n=int(math.copysign(abs(n)+5,m))\n",
    "            if m>n:\n",
    "                temp=n\n",
    "                n=m\n",
    "                m=temp\n",
    "            expr1=R\"\\frac{%s * x + (%s)}{%s}\"%(a,b,c)\n",
    "            if op1==\">\":\n",
    "                express_str=f\"{n} > {expr1}  > {m} \"                    # f(x)= ax + b\n",
    "                fx1=parse_expr(f\"{n} > ({a}* x+ {b})/{c}\", evaluate=False) #字串解釋為可運算式子 expression \n",
    "                fx2=parse_expr(f\"({a}* x+ {b})/{c} > {m}\" , evaluate=False) #字串解釋為可運算式子 expression \n",
    "            else:\n",
    "                express_str=f\"{m} < {expr1}  < {n} \"                    # f(x)= ax + b\n",
    "                fx1=parse_expr(f\"{m} < ({a}* x + {b})/{c}\", evaluate=False) #字串解釋為可運算式子 expression \n",
    "                fx2=parse_expr(f\"({a}* x + {b})/{c} < {n}\" , evaluate=False) #字串解釋為可運算式子 expression \n",
    "            #St=[sp.latex(fx1),sp.latex(fx2)]               #題目\n",
    "            St=express_str\n",
    "            Val1=solve_univariate_inequality(fx1,x)         \n",
    "            Val2=solve_univariate_inequality(fx2,x)  \n",
    "            #Val= reduce_rational_inequalities([[fx1],[fx2]],x) # or\n",
    "            Val= reduce_rational_inequalities([[fx1,fx2]],x)   # and\n",
    "            #Val= Val1 & Val2            \n",
    "        else:\n",
    "            op1=random.choice([\">\",\"<\"])\n",
    "            op2=random.choice([\">\",\"<\"])\n",
    "            p=random.choice([-5,-4,-3,-2,-1,1,2,3,4,5])\n",
    "            q=random.choice([-5,-4,-3,-2,-1,1,2,3,4,5])\n",
    "            fx1= x > p if op1==\">\" else x < p\n",
    "            fx2=  x > q if op2==\">\" else x < q\n",
    "            #St=[sp.latex(fx1),sp.latex(fx2)]               #題目\n",
    "            St=r\"\\left\\{\\begin{array}\\\\ %s  \\\\  %s  \\\\  \\end{array}\\right.\"%(sp.latex(fx1),sp.latex(fx2))  \n",
    "            Val= reduce_rational_inequalities([[fx1,fx2]],x)   # and\n",
    "        TE = GetTE(Qid, St, Val, Tx)\n",
    "        TE[\"Tip\"] = \"請作答 空集輸入 0; 等於某值  Ne(x,0) \"\n",
    "        NTE.append(TE)\n",
    "    return NTE\n",
    "\n",
    "def Put_PF107_Expr(TE):\n",
    "    x = sp.symbols('x')    \n",
    "    Val = TE[\"Val\"]\n",
    "    Flag = False\n",
    "    ans = TE[\"Ans\"]\n",
    "    ans = re.sub(r\"[<][ ]*x[ ]*[<]\", r\"<x & x<\", ans)\n",
    "    ans = re.sub(r\"[>][ ]*x[ ]*[>]\", r\">x & x>\", ans)\n",
    "    if ans == \"\": ans = \"(-oo < x) & (x < oo)\"\n",
    "    a1 = ans.split(\"|\")\n",
    "    a2 = ans.split(\"&\")\n",
    "    try:\n",
    "        if len(a1) > 1:\n",
    "            a_ = []\n",
    "            for aa_ in a1:\n",
    "                a_.append(sp.solve(aa_))\n",
    "            Flag = (a_[0] | a_[1]) == Val\n",
    "        elif len(a2) > 1:\n",
    "            a_ = []\n",
    "            for aa_ in a2:\n",
    "                a_.append(sp.parse_expr(aa_))\n",
    "            Flag = reduce_rational_inequalities([[a_[0], a_[1]]], x) == Val\n",
    "        elif ans == '0':\n",
    "            if str(Val) == \"False\":\n",
    "                Flag = True\n",
    "        else:\n",
    "            Flag = sp.solve(ans) == Val\n",
    "        if Flag:  # 比對答案:\n",
    "            TE[\"OK\"] = 1\n",
    "        else:     # 不則\n",
    "            TE[\"OK\"] = 0\n",
    "    except:\n",
    "        pass    \n",
    "    TE[\"Val\"]=str(Val).replace(\"& (x < oo)\",\"\").replace(\"(-oo < x) &\",\"\")\n",
    "    return Flag\n",
    "\n",
    "def Post_PF107_Expr(NTE):\n",
    "    for idx,TE in enumerate(NTE):\n",
    "        Put_PF107_Expr(TE)\n",
    "\n",
    "if __name__ == '__main__':\n",
    "    x=sp.symbols('x')\n",
    "    NTE=Get_PF107_Expr(8)\n",
    "    Post_PF107_Expr(NTE)\n",
    "    display(Markdown(lib.NTE2TBL(NTE) ))"
   ]
  },
  {
   "cell_type": "code",
   "execution_count": 20,
   "id": "altered-gravity",
   "metadata": {},
   "outputs": [
    {
     "name": "stdout",
     "output_type": "stream",
     "text": [
      "第0題:\n"
     ]
    },
    {
     "data": {
      "text/latex": [
       " $$ x > -5 $$ "
      ],
      "text/plain": [
       "<IPython.core.display.Latex object>"
      ]
     },
     "metadata": {},
     "output_type": "display_data"
    },
    {
     "data": {
      "text/latex": [
       " $$ x > 2 $$ "
      ],
      "text/plain": [
       "<IPython.core.display.Latex object>"
      ]
     },
     "metadata": {},
     "output_type": "display_data"
    },
    {
     "data": {
      "text/latex": [
       "標準答案:  (2 < x) & (x < oo) "
      ],
      "text/plain": [
       "<IPython.core.display.Latex object>"
      ]
     },
     "metadata": {},
     "output_type": "display_data"
    },
    {
     "name": "stdin",
     "output_type": "stream",
     "text": [
      "請作答 空集輸入 0; 等於某值  Ne(x,0) : x>2\n"
     ]
    },
    {
     "name": "stdout",
     "output_type": "stream",
     "text": [
      "答對!\n",
      "第1題:\n"
     ]
    },
    {
     "data": {
      "text/latex": [
       " $$ x \\left(-1\\right) - 4 > 3 x - 2 $$ "
      ],
      "text/plain": [
       "<IPython.core.display.Latex object>"
      ]
     },
     "metadata": {},
     "output_type": "display_data"
    },
    {
     "data": {
      "text/latex": [
       " $$ 3 + x \\left(-5\\right) < x \\left(-2\\right) - 2 $$ "
      ],
      "text/plain": [
       "<IPython.core.display.Latex object>"
      ]
     },
     "metadata": {},
     "output_type": "display_data"
    },
    {
     "data": {
      "text/latex": [
       "標準答案:  False "
      ],
      "text/plain": [
       "<IPython.core.display.Latex object>"
      ]
     },
     "metadata": {},
     "output_type": "display_data"
    },
    {
     "name": "stdin",
     "output_type": "stream",
     "text": [
      "請作答 空集輸入 0; 等於某值  Ne(x,0) : 0\n"
     ]
    },
    {
     "name": "stdout",
     "output_type": "stream",
     "text": [
      "答對!\n",
      "第2題:\n"
     ]
    },
    {
     "data": {
      "text/latex": [
       " $$ \\left(1 + x \\left(-4\\right)\\right) \\left(-4\\right) + \\left(x \\left(-3\\right) - 3\\right) \\left(-3\\right) > 1 \\left(5 + x \\left(-3\\right)\\right) $$ "
      ],
      "text/plain": [
       "<IPython.core.display.Latex object>"
      ]
     },
     "metadata": {},
     "output_type": "display_data"
    },
    {
     "data": {
      "text/latex": [
       " $$ \\frac{1 x - 4}{-4} + \\frac{1 x - 3}{-1} > \\frac{4 x - 5}{4} $$ "
      ],
      "text/plain": [
       "<IPython.core.display.Latex object>"
      ]
     },
     "metadata": {},
     "output_type": "display_data"
    },
    {
     "data": {
      "text/latex": [
       "標準答案:  (0 < x) & (x < 7/3) "
      ],
      "text/plain": [
       "<IPython.core.display.Latex object>"
      ]
     },
     "metadata": {},
     "output_type": "display_data"
    },
    {
     "name": "stdin",
     "output_type": "stream",
     "text": [
      "請作答 空集輸入 0; 等於某值  Ne(x,0) : 0\n"
     ]
    },
    {
     "data": {
      "text/latex": [
       "答案錯誤, 標準答案: $ (0 < x) & (x < 7/3) $"
      ],
      "text/plain": [
       "<IPython.core.display.Latex object>"
      ]
     },
     "metadata": {},
     "output_type": "display_data"
    },
    {
     "name": "stdout",
     "output_type": "stream",
     "text": [
      "第3題:\n"
     ]
    },
    {
     "data": {
      "text/latex": [
       " $$ 3 > \\frac{-4 * x + (-2)}{1}  > -4  $$ "
      ],
      "text/plain": [
       "<IPython.core.display.Latex object>"
      ]
     },
     "metadata": {},
     "output_type": "display_data"
    },
    {
     "data": {
      "text/latex": [
       "標準答案:  (-5/4 < x) & (x < 1/2) "
      ],
      "text/plain": [
       "<IPython.core.display.Latex object>"
      ]
     },
     "metadata": {},
     "output_type": "display_data"
    },
    {
     "name": "stdin",
     "output_type": "stream",
     "text": [
      "請作答 空集輸入 0; 等於某值  Ne(x,0) : 0\n"
     ]
    },
    {
     "data": {
      "text/latex": [
       "答案錯誤, 標準答案: $ (-5/4 < x) & (x < 1/2) $"
      ],
      "text/plain": [
       "<IPython.core.display.Latex object>"
      ]
     },
     "metadata": {},
     "output_type": "display_data"
    },
    {
     "data": {
      "text/markdown": [
       "號|題|值|答|檢查|題型|提示\n",
       "--|--|--|--|--|--|--\n",
       "0|$$x > -5$$$$x > 2$$|(2 < x) |x>2|1|0|\n",
       "1|$$x \\left(-1\\right) - 4 > 3 x - 2$$$$3 + x \\left(-5\\right) < x \\left(-2\\right) - 2$$|False|0|1|1|\n",
       "1|$$\\left(1 + x \\left(-4\\right)\\right) \\left(-4\\right) + \\left(x \\left(-3\\right) - 3\\right) \\left(-3\\right) > 1 \\left(5 + x \\left(-3\\right)\\right)$$$$\\frac{1 x - 4}{-4} + \\frac{1 x - 3}{-1} > \\frac{4 x - 5}{4}$$|(0 < x) & (x < 7/3)|0|0|2|\n",
       "3|$$3 > \\frac{-4 * x + (-2)}{1}  > -4 $$|(-5/4 < x) & (x < 1/2)|0|0|3|"
      ],
      "text/plain": [
       "<IPython.core.display.Markdown object>"
      ]
     },
     "metadata": {},
     "output_type": "display_data"
    }
   ],
   "source": [
    "if __name__ == '__main__':\n",
    "    NTE=Get_PF107_Expr(4)\n",
    "    for i,TE in enumerate(NTE):\n",
    "        St=TE[\"St\"]\n",
    "        Val=TE[\"Val\"]\n",
    "        print(f\"第{i}題:\")       \n",
    "        if isinstance(St, str):\n",
    "            display(Latex(f\" $$ {St} $$ \" ))\n",
    "        else:\n",
    "            for st_ in St:\n",
    "                display(Latex(f\" $$ {st_} $$ \" ))\n",
    "        display(Latex(f\"標準答案:  {Val} \"))\n",
    "        ans=input(\"請作答 空集輸入 0; 等於某值  Ne(x,0) :\")  \n",
    "        TE[\"Ans\"]=ans\n",
    "        if Put_PF107_Expr(TE):  \n",
    "            print(\"答對!\")         #答對加一分\n",
    "        else:                      #不則\n",
    "            display(Latex(f\"答案錯誤, 標準答案: $ {Val} $\"))\n",
    "    display(Markdown(lib.NTE2TBL(NTE) )) "
   ]
  }
 ],
 "metadata": {
  "kernelspec": {
   "display_name": "Python 3",
   "language": "python",
   "name": "python3"
  },
  "language_info": {
   "codemirror_mode": {
    "name": "ipython",
    "version": 3
   },
   "file_extension": ".py",
   "mimetype": "text/x-python",
   "name": "python",
   "nbconvert_exporter": "python",
   "pygments_lexer": "ipython3",
   "version": "3.9.9"
  }
 },
 "nbformat": 4,
 "nbformat_minor": 5
}

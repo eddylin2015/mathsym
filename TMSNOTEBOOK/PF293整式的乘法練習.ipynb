{
 "cells": [
  {
   "cell_type": "markdown",
   "id": "ceramic-lafayette",
   "metadata": {},
   "source": [
    "# 電腦數學符號運算"
   ]
  },
  {
   "cell_type": "markdown",
   "id": "casual-daily",
   "metadata": {},
   "source": [
    "### 第3節. 整式的加乘法練習實作\n",
    "安裝 Python 3.8.7\n",
    "- pip install numpy\n",
    "- pip install sympy\n",
    "- pip install jupyterlab\n",
    "- lib.py 自定義函數庫"
   ]
  },
  {
   "cell_type": "markdown",
   "id": "objective-union",
   "metadata": {},
   "source": [
    "整式的乘法練習    \n",
    "#開展式子  \n",
    "f=(x+1)**3 * (x-2)**2  \n",
    "print(\"題:\")  \n",
    "display(f)  \n",
    "ans=sp.expand(f)  \n",
    "print(\"解:\")  \n",
    "display(ans)  \n"
   ]
  },
  {
   "cell_type": "code",
   "execution_count": 3,
   "id": "rapid-seminar",
   "metadata": {},
   "outputs": [
    {
     "data": {
      "text/markdown": [
       "號|題|值|答|檢查|題型|提示\n",
       "--|--|--|--|--|--|--\n",
       "0|$$\\left(x + 1\\right) \\left(x + 10\\right)$$|x**2 + 11*x + 10||0|-1|\n",
       "1|$$\\left(x - 3\\right) \\left(x + 1\\right)$$|x**2 - 2*x - 3||0|-1|\n",
       "2|$$\\left(x - 1\\right) \\left(x + 1\\right)$$|x**2 - 1||0|-1|\n",
       "3|$$\\left(x + 1\\right) \\left(x + 1\\right)$$|x**2 + 2*x + 1||0|-1|\n",
       "4|$$\\left(x + 1\\right) \\left(x + 6\\right)$$|x**2 + 7*x + 6||0|-1|\n",
       "5|$$\\left(x - 1\\right) \\left(x + 1\\right)$$|x**2 - 1||0|-1|\n",
       "6|$$\\left(x - 4\\right) \\left(x + 1\\right)$$|x**2 - 3*x - 4||0|-1|\n",
       "7|$$\\left(x - 4\\right) \\left(x + 1\\right)$$|x**2 - 3*x - 4||0|-1|\n",
       "8|$$\\left(x + 1\\right) \\left(x + 2\\right)$$|x**2 + 3*x + 2||0|-1|\n",
       "9|$$\\left(x + 1\\right) \\left(x + 2\\right)$$|x**2 + 3*x + 2||0|-1|"
      ],
      "text/plain": [
       "<IPython.core.display.Markdown object>"
      ]
     },
     "metadata": {},
     "output_type": "display_data"
    }
   ],
   "source": [
    "import random                                     #亂數 \n",
    "import math                                       #math 內置數學函數\n",
    "import numpy as np                                #數字矩陣\n",
    "import sympy as sp                                #sympy 簡易別名 sp    \n",
    "from sympy.parsing.sympy_parser import parse_expr #文字字串, 解釋成, Sympy 運算式\n",
    "from sympy.plotting import plot                   #繪圖表\n",
    "from IPython.display import Latex,HTML,Markdown                 #網頁顯示數學符號\n",
    "import lib                                       #JSON 結構化資料\n",
    "from lib import GetTE\n",
    "import re\n",
    "sp.init_printing(\"mathjax\")                       #sp.init_printing()  168 \n",
    "\"\"\"\n",
    "整式的乘法練習\n",
    "\"\"\"\n",
    "def Get_PF293_Expr(QizAmt):\n",
    "    sample_list0= list(range(-39,29))   # [-5,-4,-3,-2,-1,1,2,3,4,5]\n",
    "    sample_list1= list(range(-39,29))\n",
    "    sample_list1.remove(0)    # 非零數列\n",
    "    NTE=[]\n",
    "    for i in range(0,QizAmt):\n",
    "        a = 1 \n",
    "        p=random.choice([-5,-4,-3,-2,-1,1,2,3,4,5])\n",
    "        q=random.choice([-5,-4,-3,-2,-1,1,2,3,4,5])\n",
    "        b=p+q\n",
    "        c=p*q\n",
    "        express_str=f\"(x +({a}))* ( x + ({b}))  \"  #題型 express_str ax+bx+c\n",
    "        St=parse_expr(express_str, evaluate=False) #字串解釋為可運算式子 expression\n",
    "        Val=sp.expand(St)\n",
    "        TE=GetTE(len(NTE),sp.latex(St),Val  )\n",
    "        NTE.append(TE)    \n",
    "    return NTE\n",
    "\n",
    "NTE=Get_PF293_Expr(10) \n",
    "display(Markdown(lib.NTE2TBL(NTE))) "
   ]
  },
  {
   "cell_type": "code",
   "execution_count": 6,
   "id": "damaged-record",
   "metadata": {},
   "outputs": [
    {
     "name": "stdout",
     "output_type": "stream",
     "text": [
      "第0題:\n"
     ]
    },
    {
     "data": {
      "text/latex": [
       " $$ \\left(x + 1\\right) \\left(x + 3\\right) $$ "
      ],
      "text/plain": [
       "<IPython.core.display.Latex object>"
      ]
     },
     "metadata": {},
     "output_type": "display_data"
    },
    {
     "name": "stdin",
     "output_type": "stream",
     "text": [
      "請作答: x**2+4x+4\n"
     ]
    },
    {
     "data": {
      "text/latex": [
       "答案錯誤, 標準答案: $ x**2 + 4*x + 3 $"
      ],
      "text/plain": [
       "<IPython.core.display.Latex object>"
      ]
     },
     "metadata": {},
     "output_type": "display_data"
    },
    {
     "name": "stdout",
     "output_type": "stream",
     "text": [
      "第1題:\n"
     ]
    },
    {
     "data": {
      "text/latex": [
       " $$ \\left(x + 1\\right) \\left(x + 8\\right) $$ "
      ],
      "text/plain": [
       "<IPython.core.display.Latex object>"
      ]
     },
     "metadata": {},
     "output_type": "display_data"
    },
    {
     "name": "stdin",
     "output_type": "stream",
     "text": [
      "請作答: x**2+9x+8\n"
     ]
    },
    {
     "name": "stdout",
     "output_type": "stream",
     "text": [
      "答對!\n",
      "第2題:\n"
     ]
    },
    {
     "data": {
      "text/latex": [
       " $$ \\left(x + 0\\right) \\left(x + 1\\right) $$ "
      ],
      "text/plain": [
       "<IPython.core.display.Latex object>"
      ]
     },
     "metadata": {},
     "output_type": "display_data"
    },
    {
     "name": "stdin",
     "output_type": "stream",
     "text": [
      "請作答: 0\n"
     ]
    },
    {
     "data": {
      "text/latex": [
       "答案錯誤, 標準答案: $ x**2 + x $"
      ],
      "text/plain": [
       "<IPython.core.display.Latex object>"
      ]
     },
     "metadata": {},
     "output_type": "display_data"
    },
    {
     "name": "stdout",
     "output_type": "stream",
     "text": [
      "第3題:\n"
     ]
    },
    {
     "data": {
      "text/latex": [
       " $$ \\left(x - 9\\right) \\left(x + 1\\right) $$ "
      ],
      "text/plain": [
       "<IPython.core.display.Latex object>"
      ]
     },
     "metadata": {},
     "output_type": "display_data"
    },
    {
     "name": "stdin",
     "output_type": "stream",
     "text": [
      "請作答: 0\n"
     ]
    },
    {
     "data": {
      "text/latex": [
       "答案錯誤, 標準答案: $ x**2 - 8*x - 9 $"
      ],
      "text/plain": [
       "<IPython.core.display.Latex object>"
      ]
     },
     "metadata": {},
     "output_type": "display_data"
    },
    {
     "data": {
      "text/html": [
       "<table><tr><td>Qiz</td><td>Val</td><td>Ans</td><td>OK</td></tr><tr><td>$$\\left(x + 1\\right) \\left(x + 3\\right)$$</td><td>x**2 + 4*x + 3</td><td>x**2+4x+4</td><td>0</td></tr><tr><td>$$\\left(x + 1\\right) \\left(x + 8\\right)$$</td><td>x**2 + 9*x + 8</td><td>x**2+9x+8</td><td>1</td></tr><tr><td>$$\\left(x + 0\\right) \\left(x + 1\\right)$$</td><td>x**2 + x</td><td>0</td><td>0</td></tr><tr><td>$$\\left(x - 9\\right) \\left(x + 1\\right)$$</td><td>x**2 - 8*x - 9</td><td>0</td><td>0</td></tr></table>"
      ],
      "text/plain": [
       "<IPython.core.display.HTML object>"
      ]
     },
     "metadata": {},
     "output_type": "display_data"
    }
   ],
   "source": [
    "x,y,z=sp.symbols('x,y,z')\n",
    "NTE=Get_PF293_Expr(4)\n",
    "for i,TE in enumerate(NTE):\n",
    "    St=TE[\"St\"]\n",
    "    Val=TE[\"Val\"]\n",
    "    print(f\"第{i}題:\")        \n",
    "    display(Latex(f\" $$ {St} $$ \" ))\n",
    "    ans=input(\"請作答:\")  \n",
    "    TE[\"Ans\"]=ans\n",
    "    ans = lib.Text2St(ans)\n",
    "    if parse_expr(ans).subs({x:7})==Val.subs({x:7}): #比對答案:\n",
    "        print(\"答對!\")                               #答對加一分\n",
    "        TE[\"OK\"]=1\n",
    "    else:                                            #不則\n",
    "        TE[\"OK\"]=0\n",
    "        display(Latex(f\"答案錯誤, 標準答案: $ {Val} $\"))\n",
    "    \n",
    "display(Markdown(lib.NTE2TBL(NTE))) "
   ]
  }
 ],
 "metadata": {
  "kernelspec": {
   "display_name": "Python 3",
   "language": "python",
   "name": "python3"
  },
  "language_info": {
   "codemirror_mode": {
    "name": "ipython",
    "version": 3
   },
   "file_extension": ".py",
   "mimetype": "text/x-python",
   "name": "python",
   "nbconvert_exporter": "python",
   "pygments_lexer": "ipython3",
   "version": "3.9.9"
  }
 },
 "nbformat": 4,
 "nbformat_minor": 5
}

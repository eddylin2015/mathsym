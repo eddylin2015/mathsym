{
 "cells": [
  {
   "cell_type": "markdown",
   "id": "ancient-oliver",
   "metadata": {},
   "source": [
    "# 電腦數學符號運算"
   ]
  },
  {
   "cell_type": "markdown",
   "id": "baking-tournament",
   "metadata": {},
   "source": [
    "### 第3節. 二元一次方程實作\n",
    "安裝 Python 3.8.7\n",
    "- pip install numpy\n",
    "- pip install sympy\n",
    "- pip install jupyterlab\n",
    "- lib.py 自定義函數庫"
   ]
  },
  {
   "cell_type": "markdown",
   "id": "living-sewing",
   "metadata": {},
   "source": [
    "二元一次方程 ax + b =c 求解\n",
    "題目:\n",
    "方程組\n",
    "1. −5𝑥−4𝑦=−5\n",
    "2. 5𝑥−3𝑦=4\n",
    "作答x: 31/35\n",
    "作答y: 1/7\n",
    "標準答案: 𝑥:31/35,𝑦:1/7\n"
   ]
  },
  {
   "cell_type": "code",
   "execution_count": 11,
   "id": "regular-growth",
   "metadata": {},
   "outputs": [
    {
     "data": {
      "text/markdown": [
       "號|題|值|答|檢查|題型|提示\n",
       "--|--|--|--|--|--|--\n",
       "0|$$\\left\\{\\begin{array}\\\\ y = 52 - 10 x  \\\\  - x + 9 y = 13  \\\\  \\end{array}\\right.$$|{x: 5, y: 2}||0|0|求 x, y ?|0\n",
       "1|$$\\left\\{\\begin{array}\\\\ y = 38 - 9 x  \\\\  5 x + 10 y = 40  \\\\  \\end{array}\\right.$$|{x: 4, y: 2}||0|0|求 x, y ?|0\n",
       "2|$$\\left\\{\\begin{array}\\\\ y = 55 - 5 x  \\\\  8 x - 8 y = -8  \\\\  \\end{array}\\right.$$|{x: 9, y: 10}||0|0|求 x, y ?|0\n",
       "3|$$\\left\\{\\begin{array}\\\\ y = 71 - 9 x  \\\\  - 2 x + 4 y = 18  \\\\  \\end{array}\\right.$$|{x: 7, y: 8}||0|0|求 x, y ?|0\n",
       "4|$$\\left\\{\\begin{array}\\\\ y = 25 - 4 x  \\\\  - 10 x + y = -59  \\\\  \\end{array}\\right.$$|{x: 6, y: 1}||0|0|求 x, y ?|0\n",
       "5|$$\\left\\{\\begin{array}\\\\ y = 18 - 4 x  \\\\  - 7 x - 4 y = -45  \\\\  \\end{array}\\right.$$|{x: 3, y: 6}||0|0|求 x, y ?|0\n",
       "6|$$\\left\\{\\begin{array}\\\\ y = 4 x - 20  \\\\  - 9 x - 3 y = -66  \\\\  \\end{array}\\right.$$|{x: 6, y: 4}||0|0|求 x, y ?|0\n",
       "7|$$\\left\\{\\begin{array}\\\\ y = 71 - 7 x  \\\\  - 2 x + 2 y = -18  \\\\  \\end{array}\\right.$$|{x: 10, y: 1}||0|0|求 x, y ?|0\n",
       "8|$$\\left\\{\\begin{array}\\\\ y = 95 - 10 x  \\\\  4 x - y = 31  \\\\  \\end{array}\\right.$$|{x: 9, y: 5}||0|0|求 x, y ?|0\n",
       "9|$$\\left\\{\\begin{array}\\\\ y = x + 1  \\\\  - 10 x - 9 y = -161  \\\\  \\end{array}\\right.$$|{x: 8, y: 9}||0|0|求 x, y ?|0"
      ],
      "text/plain": [
       "<IPython.core.display.Markdown object>"
      ]
     },
     "metadata": {},
     "output_type": "display_data"
    }
   ],
   "source": [
    "import random                                     #亂數 \n",
    "import math                                       #math 內置數學函數\n",
    "import numpy as np                                #數字矩陣\n",
    "import sympy as sp                                #sympy 簡易別名 sp    \n",
    "from sympy.parsing.sympy_parser import parse_expr #文字字串, 解釋成, Sympy 運算式\n",
    "sp.init_printing(\"mathjax\")                       #sp.init_printing()   \n",
    "import lib\n",
    "from lib import GetTE\n",
    "from IPython.display import Latex,HTML,Markdown   #網頁顯示數學符號\n",
    "\"\"\"\n",
    "PF105.3.二元一次方程組\n",
    "\"\"\"\n",
    "def Put_PF105_Expr(TE):\n",
    "    x, y, z = sp.symbols('x,y,z')\n",
    "    ans = TE[\"Ans\"]\n",
    "    Val = TE[\"Val\"]\n",
    "    ans = ans.split(\";\")\n",
    "    ans1 = ans[0]\n",
    "    ans2 = ans[1] if len(ans) > 1 else \"3.1415\"\n",
    "    if ans1.strip() == \"\":\n",
    "        ans1 = \"3.1415\"\n",
    "    if ans2.strip() == \"\":\n",
    "        ans2 = \"3.1415\"\n",
    "    try:\n",
    "        ans = {x: parse_expr(ans1), y: parse_expr(ans2)}\n",
    "        if ans == Val:  # 比對答案:\n",
    "            TE[\"OK\"] = 1\n",
    "        else:  # 不則\n",
    "            TE[\"OK\"] = 0\n",
    "    except:\n",
    "        pass\n",
    "\n",
    "def Get_PF105_Expr(QN,Tx=-1):\n",
    "    x, y, z = sp.symbols('x,y,z')\n",
    "    NTE = []\n",
    "    if Tx==0:\n",
    "        for Qid in range(0, QN):\n",
    "            #\n",
    "            a = random.choice([-10,-9,-8,-7,-6,-5, -4, -3, -2, -1, 1, 2, 3, 4, 5,6,7,8,9,10])\n",
    "            b = random.choice([-10,-9,-8,-7,-6,-5, -4, -3, -2, -1, 1, 2, 3, 4, 5,6,7,8,9,10])\n",
    "            c = random.choice([-10,-9,-8,-7,-6,-5, -4, -3, -2, -1, 1, 2, 3, 4, 5,6,7,8,9,10])\n",
    "            d = random.choice([-10,-9,-8,-7,-6,-5, -4, -3, -2, -1, 1, 2, 3, 4, 5,6,7,8,9,10])\n",
    "            m = random.choice([-10,-9,-8,-7,-6,-5, -4, -3, -2, -1, 1, 2, 3, 4, 5,6,7,8,9,10])\n",
    "            n = random.choice([-10,-9,-8,-7,-6,-5, -4, -3, -2, -1, 1, 2, 3, 4, 5,6,7,8,9,10])\n",
    "            k1 = random.choice([1, 2, 3, 4, 5,6,7,8,9,10])\n",
    "            k2 = random.choice([1, 2, 3, 4, 5,6,7,8,9,10])\n",
    "            if k1==k2 : k2=k2+1\n",
    "            c1=-k1*a+k2\n",
    "            c2=k1*c+k2*d\n",
    "            eq1 = sp.Eq(y,a*x+c1)\n",
    "            eq2 = sp.Eq(c*x+d*y,c2)\n",
    "            St = [eq1, eq2]\n",
    "            #sp.latex(St)\n",
    "            Val = (sp.solve(St, [x, y]))\n",
    "            SSt=r\"\\left\\{\\begin{array}\\\\ %s  \\\\  %s  \\\\  \\end{array}\\right.\"%(sp.latex(eq1),sp.latex(eq2))  \n",
    "            TE = GetTE(Qid, SSt, Val, Tx)\n",
    "            TE[\"Tip\"] = \"求 x, y ?\"\n",
    "            if Val == []:\n",
    "                pass\n",
    "            else:\n",
    "                NTE.append(TE)\n",
    "            #\n",
    "    elif Tx==1:\n",
    "        for Qid in range(0, QN):\n",
    "            #\n",
    "            a = random.choice([-10,-9,-8,-7,-6,-5, -4, -3, -2, -1, 1, 2, 3, 4, 5,6,7,8,9,10])\n",
    "            b = random.choice([-10,-9,-8,-7,-6,-5, -4, -3, -2, -1, 1, 2, 3, 4, 5,6,7,8,9,10])\n",
    "            c = random.choice([-10,-9,-8,-7,-6,-5, -4, -3, -2, -1, 1, 2, 3, 4, 5,6,7,8,9,10])\n",
    "            d = random.choice([-10,-9,-8,-7,-6,-5, -4, -3, -2, -1, 1, 2, 3, 4, 5,6,7,8,9,10])\n",
    "            m = random.choice([-10,-9,-8,-7,-6,-5, -4, -3, -2, -1, 1, 2, 3, 4, 5,6,7,8,9,10])\n",
    "            n = random.choice([-10,-9,-8,-7,-6,-5, -4, -3, -2, -1, 1, 2, 3, 4, 5,6,7,8,9,10])\n",
    "            k1 = random.choice([1, 2, 3, 4, 5,6,7,8,9,10])\n",
    "            k2 = random.choice([1, 2, 3, 4, 5,6,7,8,9,10])\n",
    "            if k1==k2 : k2=k2+1\n",
    "            c1=k1+k2\n",
    "            c2=k1*c+k2*d\n",
    "            eq1 = sp.Eq(x+y, c1)\n",
    "            eq2 = sp.Eq(c*x+d*y,c2)\n",
    "            St = [eq1, eq2]\n",
    "            Val = (sp.solve([eq1, eq2], [x, y]))\n",
    "            TE = GetTE(Qid, sp.latex(St), Val, Tx)\n",
    "            TE[\"Tip\"] = \"求 x, y ?\"\n",
    "            if Val == []:\n",
    "                pass\n",
    "            else:\n",
    "                NTE.append(TE)\n",
    "            #\n",
    "    elif Tx==2:\n",
    "        for Qid in range(0, QN):       \n",
    "            #\n",
    "            a = random.choice([-10,-9,-8,-7,-6,-5, -4, -3, -2, -1, 1, 2, 3, 4, 5,6,7,8,9,10])\n",
    "            b = random.choice([-10,-9,-8,-7,-6,-5, -4, -3, -2, -1, 1, 2, 3, 4, 5,6,7,8,9,10])\n",
    "            c = random.choice([-10,-9,-8,-7,-6,-5, -4, -3, -2, -1, 1, 2, 3, 4, 5,6,7,8,9,10])\n",
    "            d = random.choice([-10,-9,-8,-7,-6,-5, -4, -3, -2, -1, 1, 2, 3, 4, 5,6,7,8,9,10])\n",
    "            m = random.choice([-10,-9,-8,-7,-6,-5, -4, -3, -2, -1, 1, 2, 3, 4, 5,6,7,8,9,10])\n",
    "            n = random.choice([-10,-9,-8,-7,-6,-5, -4, -3, -2, -1, 1, 2, 3, 4, 5,6,7,8,9,10])\n",
    "            k1 = random.choice([1, 2, 3, 4, 5,6,7,8,9,10])\n",
    "            k2 = random.choice([1, 2, 3, 4, 5,6,7,8,9,10])\n",
    "            if k1==k2 : k2=k2+1\n",
    "            c1=k1*a+k2*b\n",
    "            c2=k1*c+k2*d\n",
    "            eq1 = sp.Eq(a*x+b*y, c1)\n",
    "            eq2 = sp.Eq(c*x+d*y,c2)\n",
    "            St = [eq1, eq2]\n",
    "            Val = (sp.solve([eq1, eq2], [x, y]))\n",
    "            TE = GetTE(Qid, sp.latex(St), Val, Tx)\n",
    "            TE[\"Tip\"] = \"求 x, y ?\"\n",
    "            if Val == []:\n",
    "                pass\n",
    "            else:\n",
    "                NTE.append(TE)\n",
    "            #\n",
    "\n",
    "    return NTE\n",
    "if __name__ == '__main__': #主程式\n",
    "    NTE=Get_PF105_Expr(10,0)\n",
    "    display(Markdown(lib.NTE2TBL(NTE)))"
   ]
  },
  {
   "cell_type": "code",
   "execution_count": 8,
   "id": "listed-being",
   "metadata": {},
   "outputs": [
    {
     "data": {
      "text/markdown": [
       "號|題|值|答|檢查|題型|提示\n",
       "--|--|--|--|--|--|--\n",
       "0|$$\\left[ y = 7 x - 34, \\  - 5 x - 6 y = -78\\right]$$|{x: 6, y: 8}||0|0|求 x, y ?\n",
       "1|$$\\left[ y = 6 x - 38, \\  7 x - 3 y = 26\\right]$$|{x: 8, y: 10}||0|1|求 x, y ?\n",
       "2|$$\\left[ y = 2 x - 3, \\  - 9 x - 4 y = -56\\right]$$|{x: 4, y: 5}||0|0|求 x, y ?\n",
       "3|$$\\left[ y = 6 x - 21, \\  9 x - 5 y = 0\\right]$$|{x: 5, y: 9}||0|1|求 x, y ?\n",
       "4|$$\\left[ y = 10 - x, \\  8 x - 7 y = 35\\right]$$|{x: 7, y: 3}||0|0|求 x, y ?\n",
       "5|$$\\left[ y = 6 x - 51, \\  - 9 x + 4 y = -54\\right]$$|{x: 10, y: 9}||0|1|求 x, y ?\n",
       "6|$$\\left[ y = 53 - 5 x, \\  10 x + 7 y = 121\\right]$$|{x: 10, y: 3}||0|0|求 x, y ?\n",
       "7|$$\\left[ y = 11 - 9 x, \\  8 x + 9 y = 26\\right]$$|{x: 1, y: 2}||0|1|求 x, y ?\n",
       "8|$$\\left[ y = x + 3, \\  - 5 x + 8 y = 27\\right]$$|{x: 1, y: 4}||0|0|求 x, y ?\n",
       "9|$$\\left[ y = 15 - 2 x, \\  7 x - 2 y = 3\\right]$$|{x: 3, y: 9}||0|1|求 x, y ?\n",
       "10|$$\\left[ y = 7 x - 32, \\  x + 6 y = 23\\right]$$|{x: 5, y: 3}||0|0|求 x, y ?\n",
       "11|$$\\left[ y = 2 x - 9, \\  - 3 x - 5 y = -59\\right]$$|{x: 8, y: 7}||0|1|求 x, y ?\n",
       "12|$$\\left[ y = 7 x - 18, \\  - 3 x - 3 y = -42\\right]$$|{x: 4, y: 10}||0|0|求 x, y ?\n",
       "13|$$\\left[ y = 8 x - 38, \\  8 x + 7 y = 54\\right]$$|{x: 5, y: 2}||0|1|求 x, y ?\n",
       "14|$$\\left[ y = 2 x - 7, \\  3 x + 3 y = 33\\right]$$|{x: 6, y: 5}||0|0|求 x, y ?\n",
       "15|$$\\left[ y = 7 x - 41, \\  2 x + 10 y = 94\\right]$$|{x: 7, y: 8}||0|1|求 x, y ?\n",
       "16|$$\\left[ y = 9 x - 49, \\  2 x + 5 y = 37\\right]$$|{x: 6, y: 5}||0|0|求 x, y ?\n",
       "17|$$\\left[ y = 2 x + 2, \\  - 5 x - 2 y = -13\\right]$$|{x: 1, y: 4}||0|1|求 x, y ?\n",
       "18|$$\\left[ y = 36 - 7 x, \\  3 x - 9 y = -60\\right]$$|{x: 4, y: 8}||0|0|求 x, y ?\n",
       "19|$$\\left[ y = 5 x - 10, \\  2 x + 5 y = 58\\right]$$|{x: 4, y: 10}||0|1|求 x, y ?"
      ],
      "text/plain": [
       "<IPython.core.display.Markdown object>"
      ]
     },
     "metadata": {},
     "output_type": "display_data"
    }
   ],
   "source": [
    "import random                                     #亂數 \n",
    "import math                                       #math 內置數學函數\n",
    "import sympy as sp                                #sympy 簡易別名 sp    \n",
    "from sympy.parsing.sympy_parser import parse_expr #文字字串, 解釋成, Sympy 運算式\n",
    "import lib\n",
    "from lib import GetTE\n",
    "from sympy.solvers.inequalities import solve_univariate_inequality\n",
    "from sympy import var\n",
    "sp.init_printing(\"mathjax\")                       #sp.init_printing()  168 \n",
    "from IPython.display import Latex,HTML,Markdown                 #網頁顯示數學符號\n",
    "\"\"\"\n",
    "二元一次方程組 ax + b =c 求解(題型1)\n",
    "\"\"\"\n",
    "def Put_PF105_Expr(TE):\n",
    "    x, y, z = sp.symbols('x,y,z')\n",
    "    ans = TE[\"Ans\"]\n",
    "    Val = TE[\"Val\"]\n",
    "    ans = ans.split(\";\")\n",
    "    ans1 = ans[0]\n",
    "    ans2 = ans[1] if len(ans) > 1 else \"3.1415\"\n",
    "    if ans1.strip() == \"\":  ans1 = \"3.1415\"\n",
    "    if ans2.strip() == \"\":  ans2 = \"3.1415\"\n",
    "    try:\n",
    "        ans = {x: parse_expr(ans1), y: parse_expr(ans2)}\n",
    "        if ans == Val:  # 比對答案:\n",
    "            TE[\"OK\"] = 1\n",
    "            return True\n",
    "        else:  # 不則\n",
    "            TE[\"OK\"] = 0\n",
    "            return False\n",
    "    except:\n",
    "        return False\n",
    "    TE[\"Val\"] = r\"\\( {} \\)\".format(sp.latex(Val))\n",
    "    return False\n",
    "        \n",
    "def Get_PF105_Expr(QN,Tx=-1):\n",
    "    TxFlag=Tx==-1    \n",
    "    x, y, z = sp.symbols('x,y,z')\n",
    "    NTE = []\n",
    "    for Qid in range(0, QN):\n",
    "        if TxFlag : Tx=Qid % 2\n",
    "        a = random.choice([-10,-9,-8,-7,-6,-5, -4, -3, -2, -1, 1, 2, 3, 4, 5,6,7,8,9,10])\n",
    "        b = random.choice([-10,-9,-8,-7,-6,-5, -4, -3, -2, -1, 1, 2, 3, 4, 5,6,7,8,9,10])\n",
    "        c = random.choice([-10,-9,-8,-7,-6,-5, -4, -3, -2, -1, 1, 2, 3, 4, 5,6,7,8,9,10])\n",
    "        d = random.choice([-10,-9,-8,-7,-6,-5, -4, -3, -2, -1, 1, 2, 3, 4, 5,6,7,8,9,10])\n",
    "        m = random.choice([-10,-9,-8,-7,-6,-5, -4, -3, -2, -1, 1, 2, 3, 4, 5,6,7,8,9,10])\n",
    "        n = random.choice([-10,-9,-8,-7,-6,-5, -4, -3, -2, -1, 1, 2, 3, 4, 5,6,7,8,9,10])\n",
    "        k1 = random.choice([1, 2, 3, 4, 5,6,7,8,9,10])\n",
    "        k2 = random.choice([1, 2, 3, 4, 5,6,7,8,9,10])\n",
    "        if k1==k2 : k2=k2+1\n",
    "        c1=-k1*a+k2\n",
    "        c2=k1*c+k2*d\n",
    "        eq1 = sp.Eq(y,a*x+c1)\n",
    "        eq2 = sp.Eq(c*x+d*y,c2)\n",
    "        St = [eq1, eq2]\n",
    "        Val = (sp.solve([eq1, eq2], [x, y]))\n",
    "        TE = GetTE(Qid, sp.latex(St), Val, Tx)\n",
    "        TE[\"Tip\"] = \"求 x, y ?\"\n",
    "        if Val == []:\n",
    "            pass\n",
    "        else:\n",
    "            NTE.append(TE)\n",
    "    return NTE\n",
    "\n",
    "if __name__ == '__main__': #主程式\n",
    "    NTE=Get_PF105_Expr(20)\n",
    "    display(Markdown(lib.NTE2TBL(NTE)))"
   ]
  },
  {
   "cell_type": "code",
   "execution_count": 13,
   "id": "numerous-chick",
   "metadata": {},
   "outputs": [
    {
     "data": {
      "text/markdown": [
       "號|題|值|答|檢查|題型|提示\n",
       "--|--|--|--|--|--|--\n",
       "0|$$\\left[ x + y = 14, \\  - 2 x + 5 y = 42\\right]$$|{x: 4, y: 10}||0|0|求 x, y ?\n",
       "1|$$\\left[ x + y = 11, \\  - 6 x + 6 y = -18\\right]$$|{x: 7, y: 4}||0|1|求 x, y ?\n",
       "2|$$\\left[ x + y = 6, \\  - x - 5 y = -14\\right]$$|{x: 4, y: 2}||0|0|求 x, y ?\n",
       "3|$$\\left[ x + y = 15, \\  - x - 6 y = -45\\right]$$|{x: 9, y: 6}||0|1|求 x, y ?\n",
       "4|$$\\left[ x + y = 6, \\  - 3 x - 9 y = -24\\right]$$|{x: 5, y: 1}||0|0|求 x, y ?\n",
       "5|$$\\left[ x + y = 7, \\  - 8 x + 5 y = -30\\right]$$|{x: 5, y: 2}||0|1|求 x, y ?\n",
       "6|$$\\left[ x + y = 13, \\  - 6 x - 3 y = -51\\right]$$|{x: 4, y: 9}||0|0|求 x, y ?\n",
       "7|$$\\left[ x + y = 11, \\  - 5 x - y = -27\\right]$$|{x: 4, y: 7}||0|1|求 x, y ?\n",
       "8|$$\\left[ x + y = 10, \\  - 4 x - y = -16\\right]$$|{x: 2, y: 8}||0|0|求 x, y ?\n",
       "9|$$\\left[ x + y = 12, \\  6 x - 6 y = 48\\right]$$|{x: 10, y: 2}||0|1|求 x, y ?\n",
       "10|$$\\left[ x + y = 11, \\  - x - 3 y = -27\\right]$$|{x: 3, y: 8}||0|0|求 x, y ?\n",
       "11|$$\\left[ x + y = 7, \\  6 x - 9 y = -18\\right]$$|{x: 3, y: 4}||0|1|求 x, y ?\n",
       "12|$$\\left[ x + y = 11, \\  7 x + 3 y = 69\\right]$$|{x: 9, y: 2}||0|0|求 x, y ?\n",
       "13|$$\\left[ x + y = 13, \\  4 x + y = 22\\right]$$|{x: 3, y: 10}||0|1|求 x, y ?\n",
       "14|$$\\left[ x + y = 10, \\  - 10 x + 3 y = -9\\right]$$|{x: 3, y: 7}||0|0|求 x, y ?\n",
       "15|$$\\left[ x + y = 16, \\  4 x - 4 y = 16\\right]$$|{x: 10, y: 6}||0|1|求 x, y ?\n",
       "16|$$\\left[ x + y = 13, \\  5 x + 8 y = 74\\right]$$|{x: 10, y: 3}||0|0|求 x, y ?\n",
       "17|$$\\left[ x + y = 18, \\  4 x + 2 y = 56\\right]$$|{x: 10, y: 8}||0|1|求 x, y ?\n",
       "18|$$\\left[ x + y = 3, \\  2 x - 7 y = -12\\right]$$|{x: 1, y: 2}||0|0|求 x, y ?\n",
       "19|$$\\left[ x + y = 10, \\  3 x + y = 16\\right]$$|{x: 3, y: 7}||0|1|求 x, y ?"
      ],
      "text/plain": [
       "<IPython.core.display.Markdown object>"
      ]
     },
     "metadata": {},
     "output_type": "display_data"
    }
   ],
   "source": [
    "import random                                     #亂數 \n",
    "import math                                       #math 內置數學函數\n",
    "import sympy as sp                                #sympy 簡易別名 sp    \n",
    "from sympy.parsing.sympy_parser import parse_expr #文字字串, 解釋成, Sympy 運算式\n",
    "import lib\n",
    "from lib import GetTE\n",
    "from sympy.solvers.inequalities import solve_univariate_inequality\n",
    "from sympy import var\n",
    "sp.init_printing(\"mathjax\")                       #sp.init_printing()  168 \n",
    "from IPython.display import Latex,HTML,Markdown                 #網頁顯示數學符號\n",
    "\"\"\"\n",
    "二元一次方程 ax + b =c 求解(題型2)\n",
    "\"\"\"\n",
    "def Put_PF105_Expr(TE):\n",
    "    x, y, z = sp.symbols('x,y,z')\n",
    "    ans = TE[\"Ans\"]\n",
    "    Val = TE[\"Val\"]\n",
    "    ans = ans.split(\";\")\n",
    "    ans1 = ans[0]\n",
    "    ans2 = ans[1] if len(ans) > 1 else \"3.1415\"\n",
    "    if ans1.strip() == \"\":  ans1 = \"3.1415\"\n",
    "    if ans2.strip() == \"\":  ans2 = \"3.1415\"\n",
    "    try:\n",
    "        ans = {x: parse_expr(ans1), y: parse_expr(ans2)}\n",
    "        if ans == Val:  # 比對答案:\n",
    "            TE[\"OK\"] = 1\n",
    "            return True\n",
    "        else:  # 不則\n",
    "            TE[\"OK\"] = 0\n",
    "            return False\n",
    "    except:\n",
    "        return False\n",
    "    TE[\"Val\"] = r\"\\( {} \\)\".format(sp.latex(Val))\n",
    "    return False\n",
    "        \n",
    "def Get_PF105_Expr(QN,Tx=-1):\n",
    "    TxFlag=Tx==-1    \n",
    "    x, y, z = sp.symbols('x,y,z')\n",
    "    NTE = []\n",
    "    for Qid in range(0, QN):\n",
    "        if TxFlag : Tx=Qid % 2\n",
    "        a = random.choice([-10,-9,-8,-7,-6,-5, -4, -3, -2, -1, 1, 2, 3, 4, 5,6,7,8,9,10])\n",
    "        b = random.choice([-10,-9,-8,-7,-6,-5, -4, -3, -2, -1, 1, 2, 3, 4, 5,6,7,8,9,10])\n",
    "        c = random.choice([-10,-9,-8,-7,-6,-5, -4, -3, -2, -1, 1, 2, 3, 4, 5,6,7,8,9,10])\n",
    "        d = random.choice([-10,-9,-8,-7,-6,-5, -4, -3, -2, -1, 1, 2, 3, 4, 5,6,7,8,9,10])\n",
    "        m = random.choice([-10,-9,-8,-7,-6,-5, -4, -3, -2, -1, 1, 2, 3, 4, 5,6,7,8,9,10])\n",
    "        n = random.choice([-10,-9,-8,-7,-6,-5, -4, -3, -2, -1, 1, 2, 3, 4, 5,6,7,8,9,10])\n",
    "        k1 = random.choice([1, 2, 3, 4, 5,6,7,8,9,10])\n",
    "        k2 = random.choice([1, 2, 3, 4, 5,6,7,8,9,10])\n",
    "        if k1==k2 : k2=k2+1\n",
    "        c1=k1+k2\n",
    "        c2=k1*c+k2*d\n",
    "        eq1 = sp.Eq(x+y, c1)\n",
    "        eq2 = sp.Eq(c*x+d*y,c2)\n",
    "        \n",
    "       \n",
    "        St = [eq1, eq2]\n",
    "        Val = (sp.solve([eq1, eq2], [x, y]))\n",
    "        TE = GetTE(Qid, sp.latex(St), Val, Tx)\n",
    "        TE[\"Tip\"] = \"求 x, y ?\"\n",
    "        if Val == []:\n",
    "            pass\n",
    "        else:\n",
    "            NTE.append(TE)\n",
    "    return NTE\n",
    "\n",
    "if __name__ == '__main__': #主程式\n",
    "    NTE=Get_PF105_Expr(20)\n",
    "    display(Markdown(lib.NTE2TBL(NTE)))"
   ]
  },
  {
   "cell_type": "code",
   "execution_count": 1,
   "id": "considered-thousand",
   "metadata": {},
   "outputs": [
    {
     "data": {
      "text/markdown": [
       "號|題|值|答|檢查|題型|提示\n",
       "--|--|--|--|--|--|--\n",
       "0|$$\\left[ x - 7 y = -50, \\  - 6 x + 4 y = -4\\right]$$|{x: 6, y: 8}||0|0|求 x, y ?\n",
       "1|$$\\left[ - 6 x + 2 y = -4, \\  10 x - 3 y = 8\\right]$$|{x: 2, y: 4}||0|1|求 x, y ?\n",
       "2|$$\\left[ 7 x + 4 y = 19, \\  - 8 x - 7 y = -29\\right]$$|{x: 1, y: 3}||0|0|求 x, y ?\n",
       "3|$$\\left[ x - 3 y = -21, \\  10 x + 9 y = 141\\right]$$|{x: 6, y: 9}||0|1|求 x, y ?\n",
       "4|$$\\left[ - 10 x + y = -53, \\  - 2 x + 7 y = 37\\right]$$|{x: 6, y: 7}||0|0|求 x, y ?\n",
       "5|$$\\left[ - 10 x - 3 y = -82, \\  - 3 x - 10 y = -61\\right]$$|{x: 7, y: 4}||0|1|求 x, y ?\n",
       "6|$$\\left[ 5 x - 4 y = -21, \\  - 3 x + y = 0\\right]$$|{x: 3, y: 9}||0|0|求 x, y ?\n",
       "7|$$\\left[ - 2 x - 4 y = -46, \\  - 8 x - 6 y = -114\\right]$$|{x: 9, y: 7}||0|1|求 x, y ?\n",
       "8|$$\\left[ 4 x - 4 y = -4, \\  10 x - 6 y = 18\\right]$$|{x: 6, y: 7}||0|0|求 x, y ?\n",
       "9|$$\\left[ 7 x + 9 y = 23, \\  8 x + 9 y = 25\\right]$$|{x: 2, y: 1}||0|1|求 x, y ?\n",
       "10|$$\\left[ - 9 x - 4 y = -100, \\  - 10 x - 4 y = -108\\right]$$|{x: 8, y: 7}||0|0|求 x, y ?\n",
       "11|$$\\left[ 3 x + 3 y = 36, \\  8 x + 7 y = 92\\right]$$|{x: 8, y: 4}||0|1|求 x, y ?\n",
       "12|$$\\left[ - 8 x - 9 y = -92, \\  9 x - 10 y = 23\\right]$$|{x: 7, y: 4}||0|0|求 x, y ?\n",
       "13|$$\\left[ - 7 x + 6 y = 28, \\  - 10 x - 10 y = -90\\right]$$|{x: 2, y: 7}||0|1|求 x, y ?\n",
       "14|$$\\left[ - 7 x - 9 y = -130, \\  - 5 x - 6 y = -89\\right]$$|{x: 7, y: 9}||0|0|求 x, y ?\n",
       "15|$$\\left[ 2 x + 9 y = 34, \\  6 x - 10 y = 28\\right]$$|{x: 8, y: 2}||0|1|求 x, y ?\n",
       "16|$$\\left[ - 3 x - 9 y = -21, \\  - 10 x + y = -39\\right]$$|{x: 4, y: 1}||0|0|求 x, y ?\n",
       "17|$$\\left[ x - 9 y = -35, \\  - 7 x + 7 y = -35\\right]$$|{x: 10, y: 5}||0|1|求 x, y ?\n",
       "18|$$\\left[ - 6 x - y = -16, \\  - 5 x + y = -6\\right]$$|{x: 2, y: 4}||0|0|求 x, y ?\n",
       "19|$$\\left[ - x + 2 y = 12, \\  3 x - 9 y = -57\\right]$$|{x: 2, y: 7}||0|1|求 x, y ?"
      ],
      "text/plain": [
       "<IPython.core.display.Markdown object>"
      ]
     },
     "metadata": {},
     "output_type": "display_data"
    }
   ],
   "source": [
    "import random                                     #亂數 \n",
    "import math                                       #math 內置數學函數\n",
    "import sympy as sp                                #sympy 簡易別名 sp    \n",
    "from sympy.parsing.sympy_parser import parse_expr #文字字串, 解釋成, Sympy 運算式\n",
    "import lib\n",
    "from lib import GetTE\n",
    "from sympy.solvers.inequalities import solve_univariate_inequality\n",
    "from sympy import var\n",
    "sp.init_printing(\"mathjax\")                       #sp.init_printing()  168 \n",
    "from IPython.display import Latex,HTML,Markdown                 #網頁顯示數學符號\n",
    "\"\"\"\n",
    "二元一次方程 ax + b =c 求解(題型3)\n",
    "\"\"\"\n",
    "def Put_PF105_Expr(TE):\n",
    "    x, y, z = sp.symbols('x,y,z')\n",
    "    ans = TE[\"Ans\"]\n",
    "    Val = TE[\"Val\"]\n",
    "    ans = ans.split(\";\")\n",
    "    ans1 = ans[0]\n",
    "    ans2 = ans[1] if len(ans) > 1 else \"3.1415\"\n",
    "    if ans1.strip() == \"\":  ans1 = \"3.1415\"\n",
    "    if ans2.strip() == \"\":  ans2 = \"3.1415\"\n",
    "    try:\n",
    "        ans = {x: parse_expr(ans1), y: parse_expr(ans2)}\n",
    "        if ans == Val:  # 比對答案:\n",
    "            TE[\"OK\"] = 1\n",
    "            return True\n",
    "        else:  # 不則\n",
    "            TE[\"OK\"] = 0\n",
    "            return False\n",
    "    except:\n",
    "        return False\n",
    "    TE[\"Val\"] = r\"\\( {} \\)\".format(sp.latex(Val))\n",
    "    return False\n",
    "        \n",
    "def Get_PF105_Expr(QN,Tx=-1):\n",
    "    TxFlag=Tx==-1    \n",
    "    x, y, z = sp.symbols('x,y,z')\n",
    "    NTE = []\n",
    "    for Qid in range(0, QN):\n",
    "        if TxFlag : Tx=Qid % 2\n",
    "        a = random.choice([-10,-9,-8,-7,-6,-5, -4, -3, -2, -1, 1, 2, 3, 4, 5,6,7,8,9,10])\n",
    "        b = random.choice([-10,-9,-8,-7,-6,-5, -4, -3, -2, -1, 1, 2, 3, 4, 5,6,7,8,9,10])\n",
    "        c = random.choice([-10,-9,-8,-7,-6,-5, -4, -3, -2, -1, 1, 2, 3, 4, 5,6,7,8,9,10])\n",
    "        d = random.choice([-10,-9,-8,-7,-6,-5, -4, -3, -2, -1, 1, 2, 3, 4, 5,6,7,8,9,10])\n",
    "        m = random.choice([-10,-9,-8,-7,-6,-5, -4, -3, -2, -1, 1, 2, 3, 4, 5,6,7,8,9,10])\n",
    "        n = random.choice([-10,-9,-8,-7,-6,-5, -4, -3, -2, -1, 1, 2, 3, 4, 5,6,7,8,9,10])\n",
    "        k1 = random.choice([1, 2, 3, 4, 5,6,7,8,9,10])\n",
    "        k2 = random.choice([1, 2, 3, 4, 5,6,7,8,9,10])\n",
    "        if k1==k2 : k2=k2+1\n",
    "        c1=k1*a+k2*b\n",
    "        c2=k1*c+k2*d\n",
    "        eq1 = sp.Eq(a*x+b*y, c1)\n",
    "        eq2 = sp.Eq(c*x+d*y,c2)\n",
    "        St = [eq1, eq2]\n",
    "        Val = (sp.solve([eq1, eq2], [x, y]))\n",
    "        TE = GetTE(Qid, sp.latex(St), Val, Tx)\n",
    "        TE[\"Tip\"] = \"求 x, y ?\"\n",
    "        if Val == []:\n",
    "            pass\n",
    "        else:\n",
    "            NTE.append(TE)\n",
    "    return NTE\n",
    "\n",
    "if __name__ == '__main__': #主程式\n",
    "    NTE=Get_PF105_Expr(20)\n",
    "    display(Markdown(lib.NTE2TBL(NTE)))"
   ]
  },
  {
   "cell_type": "code",
   "execution_count": 4,
   "id": "sonic-midwest",
   "metadata": {},
   "outputs": [
    {
     "name": "stdout",
     "output_type": "stream",
     "text": [
      "第0題:\n"
     ]
    },
    {
     "data": {
      "text/latex": [
       " $$ \\left[ - 3 x - 3 y = -3, \\  - 2 x + 5 y = -1\\right] $$ "
      ],
      "text/plain": [
       "<IPython.core.display.Latex object>"
      ]
     },
     "metadata": {},
     "output_type": "display_data"
    },
    {
     "data": {
      "text/latex": [
       "標準答案: $ {x: 6/7, y: 1/7} $"
      ],
      "text/plain": [
       "<IPython.core.display.Latex object>"
      ]
     },
     "metadata": {},
     "output_type": "display_data"
    },
    {
     "name": "stdout",
     "output_type": "stream",
     "text": [
      "求 x, y ?\n"
     ]
    },
    {
     "name": "stdin",
     "output_type": "stream",
     "text": [
      "請作答x: 6/7\n",
      "請作答y: 1/7\n"
     ]
    },
    {
     "name": "stdout",
     "output_type": "stream",
     "text": [
      "答對!\n",
      "第1題:\n"
     ]
    },
    {
     "data": {
      "text/latex": [
       " $$ \\left[ - 5 x + 2 y = 1, \\  3 x - 2 y = 5\\right] $$ "
      ],
      "text/plain": [
       "<IPython.core.display.Latex object>"
      ]
     },
     "metadata": {},
     "output_type": "display_data"
    },
    {
     "data": {
      "text/latex": [
       "標準答案: $ {x: -3, y: -7} $"
      ],
      "text/plain": [
       "<IPython.core.display.Latex object>"
      ]
     },
     "metadata": {},
     "output_type": "display_data"
    },
    {
     "name": "stdout",
     "output_type": "stream",
     "text": [
      "求 x, y ?\n"
     ]
    },
    {
     "name": "stdin",
     "output_type": "stream",
     "text": [
      "請作答x: -3\n",
      "請作答y: 0\n"
     ]
    },
    {
     "data": {
      "text/latex": [
       "答案錯誤, 標準答案: $ {x: -3, y: -7} $"
      ],
      "text/plain": [
       "<IPython.core.display.Latex object>"
      ]
     },
     "metadata": {},
     "output_type": "display_data"
    },
    {
     "name": "stdout",
     "output_type": "stream",
     "text": [
      "第2題:\n"
     ]
    },
    {
     "data": {
      "text/latex": [
       " $$ \\left[ 3 x + y = -3, \\  - 5 x + y = 2\\right] $$ "
      ],
      "text/plain": [
       "<IPython.core.display.Latex object>"
      ]
     },
     "metadata": {},
     "output_type": "display_data"
    },
    {
     "data": {
      "text/latex": [
       "標準答案: $ {x: -5/8, y: -9/8} $"
      ],
      "text/plain": [
       "<IPython.core.display.Latex object>"
      ]
     },
     "metadata": {},
     "output_type": "display_data"
    },
    {
     "name": "stdout",
     "output_type": "stream",
     "text": [
      "求 x, y ?\n"
     ]
    },
    {
     "name": "stdin",
     "output_type": "stream",
     "text": [
      "請作答x: 0\n",
      "請作答y: 0\n"
     ]
    },
    {
     "data": {
      "text/latex": [
       "答案錯誤, 標準答案: $ {x: -5/8, y: -9/8} $"
      ],
      "text/plain": [
       "<IPython.core.display.Latex object>"
      ]
     },
     "metadata": {},
     "output_type": "display_data"
    },
    {
     "name": "stdout",
     "output_type": "stream",
     "text": [
      "第3題:\n"
     ]
    },
    {
     "data": {
      "text/latex": [
       " $$ \\left[ - x + 2 y = 5, \\  3 x + 2 y = 1\\right] $$ "
      ],
      "text/plain": [
       "<IPython.core.display.Latex object>"
      ]
     },
     "metadata": {},
     "output_type": "display_data"
    },
    {
     "data": {
      "text/latex": [
       "標準答案: $ {x: -1, y: 2} $"
      ],
      "text/plain": [
       "<IPython.core.display.Latex object>"
      ]
     },
     "metadata": {},
     "output_type": "display_data"
    },
    {
     "name": "stdout",
     "output_type": "stream",
     "text": [
      "求 x, y ?\n"
     ]
    },
    {
     "name": "stdin",
     "output_type": "stream",
     "text": [
      "請作答x: 0\n",
      "請作答y: 0\n"
     ]
    },
    {
     "data": {
      "text/latex": [
       "答案錯誤, 標準答案: $ {x: -1, y: 2} $"
      ],
      "text/plain": [
       "<IPython.core.display.Latex object>"
      ]
     },
     "metadata": {},
     "output_type": "display_data"
    },
    {
     "data": {
      "text/html": [
       "<table><tr><th>編號</th><th>題目</th><th>答案</th><th>作答</th><th>檢查</th><th>題型</th><th>提示</th></tr><tr><td>0</td><td>$$\\left[ - 3 x - 3 y = -3, \\  - 2 x + 5 y = -1\\right]$$</td><td>{x: 6/7, y: 1/7}</td><td>6/7;1/7</td><td>1</td><td>0</td><td>求 x, y ?</td></tr><tr><td>1</td><td>$$\\left[ - 5 x + 2 y = 1, \\  3 x - 2 y = 5\\right]$$</td><td>{x: -3, y: -7}</td><td>-3;0</td><td>0</td><td>1</td><td>求 x, y ?</td></tr><tr><td>2</td><td>$$\\left[ 3 x + y = -3, \\  - 5 x + y = 2\\right]$$</td><td>{x: -5/8, y: -9/8}</td><td>0;0</td><td>0</td><td>0</td><td>求 x, y ?</td></tr><tr><td>3</td><td>$$\\left[ - x + 2 y = 5, \\  3 x + 2 y = 1\\right]$$</td><td>{x: -1, y: 2}</td><td>0;0</td><td>0</td><td>1</td><td>求 x, y ?</td></tr></table>"
      ],
      "text/plain": [
       "<IPython.core.display.HTML object>"
      ]
     },
     "metadata": {},
     "output_type": "display_data"
    }
   ],
   "source": [
    "if __name__ == '__main__': #主程式\n",
    "    NTE=Get_PF105_Expr(4)\n",
    "    for i,TE in enumerate(NTE):\n",
    "        x,y,z=sp.symbols('x,y,z')\n",
    "        St=TE[\"St\"]\n",
    "        Val=TE[\"Val\"]\n",
    "        print(f\"第{i}題:\")  \n",
    "        display(Latex(f\" $$ {St} $$ \" ))\n",
    "        display(Latex(f\"標準答案: $ {Val} $\"))\n",
    "        print(TE[\"Tip\"])\n",
    "        ans1=input(\"請作答x:\")\n",
    "        ans2=input(\"請作答y:\")\n",
    "        TE[\"Ans\"]=\"%s;%s\"%(ans1,ans2)\n",
    "        if Put_PF105_Expr(TE):                   #比對答案:\n",
    "            print(\"答對!\")                       #答對加一分\n",
    "        else:                                    #否則\n",
    "            display(Latex(f\"答案錯誤, 標準答案: $ {Val} $\"))\n",
    "    display(Markdown(lib.NTE2TBL(NTE)))"
   ]
  }
 ],
 "metadata": {
  "kernelspec": {
   "display_name": "Python 3",
   "language": "python",
   "name": "python3"
  },
  "language_info": {
   "codemirror_mode": {
    "name": "ipython",
    "version": 3
   },
   "file_extension": ".py",
   "mimetype": "text/x-python",
   "name": "python",
   "nbconvert_exporter": "python",
   "pygments_lexer": "ipython3",
   "version": "3.9.9"
  }
 },
 "nbformat": 4,
 "nbformat_minor": 5
}

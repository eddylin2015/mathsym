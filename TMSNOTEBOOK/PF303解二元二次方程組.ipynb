{
 "cells": [
  {
   "cell_type": "markdown",
   "id": "mineral-architect",
   "metadata": {},
   "source": [
    "# 電腦數學符號運算"
   ]
  },
  {
   "cell_type": "markdown",
   "id": "determined-treasury",
   "metadata": {},
   "source": [
    "### 第3節. 解二元二次方程組實作\n",
    "安裝 Python 3.8.7\n",
    "- pip install numpy\n",
    "- pip install sympy\n",
    "- pip install jupyterlab\n",
    "- lib.py 自定義函數庫\n",
    "\n",
    "### 解二元二次方程組\n",
    "\n",
    "出題,自己對題.\n",
    "\n",
    "x+y=b\n",
    "\n",
    "xy=c\n",
    "\n",
    "解題答案[(x1,y1), (x2,y2)\n",
    "t^2-bt+c=0"
   ]
  },
  {
   "cell_type": "code",
   "execution_count": 1,
   "id": "modified-township",
   "metadata": {},
   "outputs": [
    {
     "data": {
      "text/markdown": [
       "號|題|值|答|檢查|題型|提示\n",
       "--|--|--|--|--|--|--\n",
       "0|$$['x + y = 10', 'x y = 21']$$|[(3, 7), (7, 3)]||0|-1|\n",
       "1|$$['x + y = 8', 'x y = 7']$$|[(1, 7), (7, 1)]||0|-1|\n",
       "2|$$['x + y = 3', 'x y = -4']$$|[(-1, 4), (4, -1)]||0|-1|\n",
       "3|$$['x + y = 6', 'x y = -27']$$|[(-3, 9), (9, -3)]||0|-1|\n",
       "4|$$['x + y = -1', 'x y = -90']$$|[(-10, 9), (9, -10)]||0|-1|"
      ],
      "text/plain": [
       "<IPython.core.display.Markdown object>"
      ]
     },
     "metadata": {},
     "output_type": "display_data"
    }
   ],
   "source": [
    "import random                                     #亂數 \n",
    "import math                                       #math 內置數學函數\n",
    "import numpy as np                                #數字矩陣\n",
    "import sympy as sp                                #sympy 簡易別名 sp    \n",
    "from sympy.parsing.sympy_parser import parse_expr #文字字串, 解釋成, Sympy 運算式\n",
    "from sympy.plotting import plot                   #繪圖表\n",
    "from IPython.display import Latex,HTML,Markdown                 #網頁顯示數學符號\n",
    "import json                                       #JSON 結構化資料\n",
    "from sympy.solvers.inequalities import solve_univariate_inequality\n",
    "from sympy.solvers.inequalities import reduce_rational_inequalities\n",
    "from sympy import var\n",
    "import lib\n",
    "from lib import GetTE\n",
    "sp.init_printing(\"mathjax\")                       #sp.init_printing()  168 \n",
    "\"\"\"\n",
    "解二元二次方程組\n",
    "\"\"\"\n",
    "x,y=sp.symbols('x,y')\n",
    "def Get_PF303_Expr(QizAmt):\n",
    "    sample_list0= list(range(-39,29))   # [-5,-4,-3,-2,-1,1,2,3,4,5]\n",
    "    sample_list1= list(range(0,6))\n",
    "    sample_list1.remove(0)    # 非零數列\n",
    "    NTE=[]\n",
    "    for i in range(0,QizAmt):\n",
    "        a = 1 \n",
    "        p=random.choice(range(-10,10))\n",
    "        q=random.choice(range(-10,10))\n",
    "        b=p+q\n",
    "        c=p*q\n",
    "        f=p*q\n",
    "        l=(p+q)\n",
    "        eq1=sp.Eq(x+y,b)\n",
    "        eq2=sp.Eq(x*y,c)\n",
    "        St=[eq1,eq2]\n",
    "        Val=sp.solve([eq1,eq2],x,y)        \n",
    "        #Val=sp.solve([x+y+f,x*y+l],x,y)        \n",
    "        St=[sp.latex(eq1),sp.latex(eq2)]               #題目\n",
    "        TE=GetTE(len(NTE),St,Val)        \n",
    "        NTE.append(TE)    \n",
    "    return NTE\n",
    "if __name__==\"__main__\":\n",
    "    NTE=Get_PF303_Expr(5)\n",
    "    display(Markdown(lib.NTE2TBL(NTE)))\n"
   ]
  },
  {
   "cell_type": "code",
   "execution_count": 2,
   "id": "fallen-messenger",
   "metadata": {},
   "outputs": [
    {
     "name": "stdout",
     "output_type": "stream",
     "text": [
      "第0題:\n"
     ]
    },
    {
     "data": {
      "text/latex": [
       " $$ x + y = -1 $$ "
      ],
      "text/plain": [
       "<IPython.core.display.Latex object>"
      ]
     },
     "metadata": {},
     "output_type": "display_data"
    },
    {
     "data": {
      "text/latex": [
       " $$ x y = -72 $$ "
      ],
      "text/plain": [
       "<IPython.core.display.Latex object>"
      ]
     },
     "metadata": {},
     "output_type": "display_data"
    },
    {
     "data": {
      "text/latex": [
       "標準答案: $ \\left[ \\left( -9, \\  8\\right), \\  \\left( 8, \\  -9\\right)\\right] $"
      ],
      "text/plain": [
       "<IPython.core.display.Latex object>"
      ]
     },
     "metadata": {},
     "output_type": "display_data"
    },
    {
     "name": "stdout",
     "output_type": "stream",
     "text": [
      "只需答一組(x,y),請作答:\n"
     ]
    },
    {
     "name": "stdin",
     "output_type": "stream",
     "text": [
      "x 0\n",
      "y 0\n"
     ]
    },
    {
     "data": {
      "text/latex": [
       "答案錯誤, 標準答案: $ [(-9, 8), (8, -9)] $"
      ],
      "text/plain": [
       "<IPython.core.display.Latex object>"
      ]
     },
     "metadata": {},
     "output_type": "display_data"
    },
    {
     "name": "stdout",
     "output_type": "stream",
     "text": [
      "第1題:\n"
     ]
    },
    {
     "data": {
      "text/latex": [
       " $$ x + y = 12 $$ "
      ],
      "text/plain": [
       "<IPython.core.display.Latex object>"
      ]
     },
     "metadata": {},
     "output_type": "display_data"
    },
    {
     "data": {
      "text/latex": [
       " $$ x y = 35 $$ "
      ],
      "text/plain": [
       "<IPython.core.display.Latex object>"
      ]
     },
     "metadata": {},
     "output_type": "display_data"
    },
    {
     "data": {
      "text/latex": [
       "標準答案: $ \\left[ \\left( 5, \\  7\\right), \\  \\left( 7, \\  5\\right)\\right] $"
      ],
      "text/plain": [
       "<IPython.core.display.Latex object>"
      ]
     },
     "metadata": {},
     "output_type": "display_data"
    },
    {
     "name": "stdout",
     "output_type": "stream",
     "text": [
      "只需答一組(x,y),請作答:\n"
     ]
    },
    {
     "name": "stdin",
     "output_type": "stream",
     "text": [
      "x 0\n",
      "y 0\n"
     ]
    },
    {
     "data": {
      "text/latex": [
       "答案錯誤, 標準答案: $ [(5, 7), (7, 5)] $"
      ],
      "text/plain": [
       "<IPython.core.display.Latex object>"
      ]
     },
     "metadata": {},
     "output_type": "display_data"
    },
    {
     "name": "stdout",
     "output_type": "stream",
     "text": [
      "第2題:\n"
     ]
    },
    {
     "data": {
      "text/latex": [
       " $$ x + y = -18 $$ "
      ],
      "text/plain": [
       "<IPython.core.display.Latex object>"
      ]
     },
     "metadata": {},
     "output_type": "display_data"
    },
    {
     "data": {
      "text/latex": [
       " $$ x y = 81 $$ "
      ],
      "text/plain": [
       "<IPython.core.display.Latex object>"
      ]
     },
     "metadata": {},
     "output_type": "display_data"
    },
    {
     "data": {
      "text/latex": [
       "標準答案: $ \\left[ \\left( -9, \\  -9\\right)\\right] $"
      ],
      "text/plain": [
       "<IPython.core.display.Latex object>"
      ]
     },
     "metadata": {},
     "output_type": "display_data"
    },
    {
     "name": "stdout",
     "output_type": "stream",
     "text": [
      "只需答一組(x,y),請作答:\n"
     ]
    },
    {
     "name": "stdin",
     "output_type": "stream",
     "text": [
      "x 0\n",
      "y 0\n"
     ]
    },
    {
     "data": {
      "text/latex": [
       "答案錯誤, 標準答案: $ [(-9, -9)] $"
      ],
      "text/plain": [
       "<IPython.core.display.Latex object>"
      ]
     },
     "metadata": {},
     "output_type": "display_data"
    },
    {
     "name": "stdout",
     "output_type": "stream",
     "text": [
      "第3題:\n"
     ]
    },
    {
     "data": {
      "text/latex": [
       " $$ x + y = -5 $$ "
      ],
      "text/plain": [
       "<IPython.core.display.Latex object>"
      ]
     },
     "metadata": {},
     "output_type": "display_data"
    },
    {
     "data": {
      "text/latex": [
       " $$ x y = 6 $$ "
      ],
      "text/plain": [
       "<IPython.core.display.Latex object>"
      ]
     },
     "metadata": {},
     "output_type": "display_data"
    },
    {
     "data": {
      "text/latex": [
       "標準答案: $ \\left[ \\left( -3, \\  -2\\right), \\  \\left( -2, \\  -3\\right)\\right] $"
      ],
      "text/plain": [
       "<IPython.core.display.Latex object>"
      ]
     },
     "metadata": {},
     "output_type": "display_data"
    },
    {
     "name": "stdout",
     "output_type": "stream",
     "text": [
      "只需答一組(x,y),請作答:\n"
     ]
    },
    {
     "name": "stdin",
     "output_type": "stream",
     "text": [
      "x 0\n",
      "y 0\n"
     ]
    },
    {
     "data": {
      "text/latex": [
       "答案錯誤, 標準答案: $ [(-3, -2), (-2, -3)] $"
      ],
      "text/plain": [
       "<IPython.core.display.Latex object>"
      ]
     },
     "metadata": {},
     "output_type": "display_data"
    },
    {
     "name": "stdout",
     "output_type": "stream",
     "text": [
      "第4題:\n"
     ]
    },
    {
     "data": {
      "text/latex": [
       " $$ x + y = -8 $$ "
      ],
      "text/plain": [
       "<IPython.core.display.Latex object>"
      ]
     },
     "metadata": {},
     "output_type": "display_data"
    },
    {
     "data": {
      "text/latex": [
       " $$ x y = -9 $$ "
      ],
      "text/plain": [
       "<IPython.core.display.Latex object>"
      ]
     },
     "metadata": {},
     "output_type": "display_data"
    },
    {
     "data": {
      "text/latex": [
       "標準答案: $ \\left[ \\left( -9, \\  1\\right), \\  \\left( 1, \\  -9\\right)\\right] $"
      ],
      "text/plain": [
       "<IPython.core.display.Latex object>"
      ]
     },
     "metadata": {},
     "output_type": "display_data"
    },
    {
     "name": "stdout",
     "output_type": "stream",
     "text": [
      "只需答一組(x,y),請作答:\n"
     ]
    },
    {
     "name": "stdin",
     "output_type": "stream",
     "text": [
      "x 0\n",
      "y 0\n"
     ]
    },
    {
     "data": {
      "text/latex": [
       "答案錯誤, 標準答案: $ [(-9, 1), (1, -9)] $"
      ],
      "text/plain": [
       "<IPython.core.display.Latex object>"
      ]
     },
     "metadata": {},
     "output_type": "display_data"
    },
    {
     "data": {
      "text/html": [
       "<table><tr><td>Qiz</td><td></td><td>Val</td><td>Ans</td><td>OK</td></tr><tr><td>$$x + y = -1$$</td><td>$$x y = -72$$</td><td>[(-9, 8), (8, -9)]</td><td>[0, 0]</td><td>0</td></tr><tr><td>$$x + y = 12$$</td><td>$$x y = 35$$</td><td>[(5, 7), (7, 5)]</td><td>[0, 0]</td><td>0</td></tr><tr><td>$$x + y = -18$$</td><td>$$x y = 81$$</td><td>[(-9, -9)]</td><td>[0, 0]</td><td>0</td></tr><tr><td>$$x + y = -5$$</td><td>$$x y = 6$$</td><td>[(-3, -2), (-2, -3)]</td><td>[0, 0]</td><td>0</td></tr><tr><td>$$x + y = -8$$</td><td>$$x y = -9$$</td><td>[(-9, 1), (1, -9)]</td><td>[0, 0]</td><td>0</td></tr></table>"
      ],
      "text/plain": [
       "<IPython.core.display.HTML object>"
      ]
     },
     "metadata": {},
     "output_type": "display_data"
    }
   ],
   "source": [
    "\"\"\"\n",
    "解二元二次方程組\n",
    "\"\"\"\n",
    "NTE=Get_PF303_Expr(5)\n",
    "for i,TE in enumerate(NTE):\n",
    "    St=TE[\"St\"]\n",
    "    Val=TE[\"Val\"]\n",
    "    print(f\"第{i}題:\")        \n",
    "    for st_ in St:\n",
    "        display(Latex(f\" $$ {st_} $$ \" ))\n",
    "    display(Latex(f\"標準答案: $ %s $\" % sp.latex(Val)))\n",
    "    ans=[]\n",
    "    print(\"只需答一組(x,y),請作答:\");\n",
    "    ax_title=[\"x\",\"y\"]\n",
    "    for idx in range(0,2):\n",
    "        ans1=input(ax_title[idx%2])  \n",
    "        ans.append(sp.S(ans1))\n",
    "    TE[\"Ans\"]=ans\n",
    "    Flag=0\n",
    "    for v_ in Val:\n",
    "        for vv in v_:\n",
    "            for a_ in ans:\n",
    "                if vv== a_: Flag+=1\n",
    "    \n",
    "    if Flag>1:                   #比對答案:\n",
    "        print(\"答對!\")                              #答對加一分\n",
    "        Mark+=1\n",
    "        TE[\"OK\"]=1\n",
    "    else:                                      #不則\n",
    "        TE[\"OK\"]=0\n",
    "        display(Latex(f\"答案錯誤, 標準答案: $ {Val} $\"))\n",
    "\n",
    "display(Markdown(lib.NTE2TBL(NTE)))"
   ]
  },
  {
   "cell_type": "code",
   "execution_count": 11,
   "id": "biblical-tenant",
   "metadata": {},
   "outputs": [
    {
     "name": "stdout",
     "output_type": "stream",
     "text": [
      "end\n"
     ]
    },
    {
     "data": {
      "text/latex": [
       "$\\displaystyle x + y + z = 0$"
      ],
      "text/plain": [
       "x + y + z = 0"
      ]
     },
     "metadata": {},
     "output_type": "display_data"
    },
    {
     "data": {
      "text/latex": [
       "$\\displaystyle 2 x - y - z = 10$"
      ],
      "text/plain": [
       "2⋅x - y - z = 10"
      ]
     },
     "metadata": {},
     "output_type": "display_data"
    },
    {
     "data": {
      "text/latex": [
       "$\\displaystyle y + 2 z = 5$"
      ],
      "text/plain": [
       "y + 2⋅z = 5"
      ]
     },
     "metadata": {},
     "output_type": "display_data"
    },
    {
     "data": {
      "text/latex": [
       "$\\displaystyle \\left\\{ x : \\frac{10}{3}, \\  y : - \\frac{35}{3}, \\  z : \\frac{25}{3}\\right\\}$"
      ],
      "text/plain": [
       "{x: 10/3, y: -35/3, z: 25/3}"
      ]
     },
     "execution_count": 11,
     "metadata": {},
     "output_type": "execute_result"
    }
   ],
   "source": [
    "print(\"end\")\n",
    "import re\n",
    "x,y,z=sp.symbols('x,y,z')\n",
    "eq1=sp.Eq(x+y+z,0)\n",
    "eq2=sp.Eq(2*x-y-z,10)\n",
    "eq3=sp.Eq(y+2*z,5)\n",
    "display(eq1)\n",
    "display(eq2)\n",
    "display(eq3)\n",
    "sp.solve([eq1,eq2,eq3],[x,y,z])"
   ]
  },
  {
   "cell_type": "code",
   "execution_count": 2,
   "id": "boxed-luxury",
   "metadata": {},
   "outputs": [
    {
     "data": {
      "text/latex": [
       "題目:$ \\left[ x + y = 7, \\  x y = -8\\right] $"
      ],
      "text/plain": [
       "<IPython.core.display.Latex object>"
      ]
     },
     "metadata": {},
     "output_type": "display_data"
    },
    {
     "data": {
      "text/latex": [
       "電腦答案:$ \\left[ \\left( -1, \\  8\\right), \\  \\left( 8, \\  -1\\right)\\right] $"
      ],
      "text/plain": [
       "<IPython.core.display.Latex object>"
      ]
     },
     "metadata": {},
     "output_type": "display_data"
    },
    {
     "data": {
      "text/latex": [
       "題目:$ \\left[ x + y = -10, \\  x y = 16\\right] $"
      ],
      "text/plain": [
       "<IPython.core.display.Latex object>"
      ]
     },
     "metadata": {},
     "output_type": "display_data"
    },
    {
     "data": {
      "text/latex": [
       "電腦答案:$ \\left[ \\left( -8, \\  -2\\right), \\  \\left( -2, \\  -8\\right)\\right] $"
      ],
      "text/plain": [
       "<IPython.core.display.Latex object>"
      ]
     },
     "metadata": {},
     "output_type": "display_data"
    },
    {
     "data": {
      "text/latex": [
       "題目:$ \\left[ x + y = 4, \\  x y = -45\\right] $"
      ],
      "text/plain": [
       "<IPython.core.display.Latex object>"
      ]
     },
     "metadata": {},
     "output_type": "display_data"
    },
    {
     "data": {
      "text/latex": [
       "電腦答案:$ \\left[ \\left( -5, \\  9\\right), \\  \\left( 9, \\  -5\\right)\\right] $"
      ],
      "text/plain": [
       "<IPython.core.display.Latex object>"
      ]
     },
     "metadata": {},
     "output_type": "display_data"
    },
    {
     "data": {
      "text/latex": [
       "題目:$ \\left[ x + y = 3, \\  x y = 0\\right] $"
      ],
      "text/plain": [
       "<IPython.core.display.Latex object>"
      ]
     },
     "metadata": {},
     "output_type": "display_data"
    },
    {
     "data": {
      "text/latex": [
       "電腦答案:$ \\left[ \\left( 0, \\  3\\right), \\  \\left( 3, \\  0\\right)\\right] $"
      ],
      "text/plain": [
       "<IPython.core.display.Latex object>"
      ]
     },
     "metadata": {},
     "output_type": "display_data"
    },
    {
     "data": {
      "text/latex": [
       "題目:$ \\left[ x + y = -13, \\  x y = 42\\right] $"
      ],
      "text/plain": [
       "<IPython.core.display.Latex object>"
      ]
     },
     "metadata": {},
     "output_type": "display_data"
    },
    {
     "data": {
      "text/latex": [
       "電腦答案:$ \\left[ \\left( -7, \\  -6\\right), \\  \\left( -6, \\  -7\\right)\\right] $"
      ],
      "text/plain": [
       "<IPython.core.display.Latex object>"
      ]
     },
     "metadata": {},
     "output_type": "display_data"
    },
    {
     "data": {
      "text/markdown": [
       "|Qiz|Val|Ans|OK|\n",
       "|---|---|---|---|\n",
       "|$$Eq(x + y, 7)$$ $$Eq(x*y, -8)$$||$$(-1, 8)$$ $$(8, -1)$$|-|0|\n",
       "|$$Eq(x + y, -10)$$ $$Eq(x*y, 16)$$||$$(-8, -2)$$ $$(-2, -8)$$|-|0|\n",
       "|$$Eq(x + y, 4)$$ $$Eq(x*y, -45)$$||$$(-5, 9)$$ $$(9, -5)$$|-|0|\n",
       "|$$Eq(x + y, 3)$$ $$Eq(x*y, 0)$$||$$(0, 3)$$ $$(3, 0)$$|-|0|\n",
       "|$$Eq(x + y, -13)$$ $$Eq(x*y, 42)$$||$$(-7, -6)$$ $$(-6, -7)$$|-|0|\n"
      ],
      "text/plain": [
       "<IPython.core.display.Markdown object>"
      ]
     },
     "metadata": {},
     "output_type": "display_data"
    }
   ],
   "source": [
    "\"\"\"\n",
    "解二元二次方程組\n",
    "\"\"\"\n",
    "####################初始化,文件頭,匯入組件#####################################\n",
    "import random                                     #亂數 \n",
    "import math                                       #math 內置數學函數\n",
    "import numpy as np                                #數字矩陣\n",
    "import sympy as sp                                #sympy 簡易別名 sp    \n",
    "from IPython.display import Latex,HTML,Markdown                 #網頁顯示數學符號\n",
    "import lib\n",
    "sp.init_printing(\"mathjax\")                       #sp.init_printing()  168 \n",
    "def displayTable(NTE):\n",
    "    tablecontext=lib.NTE2MD(NTE)\n",
    "    display(Markdown(tablecontext)) \n",
    "    \n",
    "############################################################################\n",
    "x,y=sp.symbols('x,y')\n",
    "def Get_ExpEquExpr(QizAmt):\n",
    "    NTE=[]\n",
    "    for i in range(0,QizAmt):\n",
    "        p=random.choice(range(-10,10))\n",
    "        q=random.choice(range(-10,10))\n",
    "        b=p+q\n",
    "        c=p*q\n",
    "\n",
    "        eq1=sp.Eq(x+y,b)  # x+y=b\n",
    "        eq2=sp.Eq(x*y,c)  # x*y=c\n",
    "        St=[eq1,eq2]      #題目\n",
    "        Val=sp.solve([eq1,eq2],x,y)        \n",
    "        \n",
    "        display(Latex(\"題目:$ %s $\" % sp.latex(St)))\n",
    "        display(Latex(\"電腦答案:$ %s $\" % sp.latex(Val)))\n",
    "        \n",
    "        TE={}\n",
    "        TE[\"St\"]=St\n",
    "        TE[\"Val\"]=Val        \n",
    "        TE[\"Ans\"]=\"-\"\n",
    "        TE[\"OK\"]=0\n",
    "        NTE.append(TE)    \n",
    "    return NTE\n",
    "\n",
    "NTE=Get_ExpEquExpr(5)\n",
    "    \n",
    "displayTable(NTE)\n",
    "\n",
    " "
   ]
  }
 ],
 "metadata": {
  "kernelspec": {
   "display_name": "Python 3",
   "language": "python",
   "name": "python3"
  },
  "language_info": {
   "codemirror_mode": {
    "name": "ipython",
    "version": 3
   },
   "file_extension": ".py",
   "mimetype": "text/x-python",
   "name": "python",
   "nbconvert_exporter": "python",
   "pygments_lexer": "ipython3",
   "version": "3.9.9"
  }
 },
 "nbformat": 4,
 "nbformat_minor": 5
}

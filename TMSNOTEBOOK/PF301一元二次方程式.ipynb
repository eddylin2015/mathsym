{
 "cells": [
  {
   "cell_type": "markdown",
   "id": "first-sheriff",
   "metadata": {},
   "source": [
    "# 電腦數學符號運算"
   ]
  },
  {
   "cell_type": "markdown",
   "id": "functioning-brake",
   "metadata": {},
   "source": [
    "### 第3節. 一元二次方程式練習實作\n",
    "安裝 Python 3.8.7\n",
    "- pip install numpy\n",
    "- pip install sympy\n",
    "- pip install jupyterlab\n",
    "- lib.py 自定義函數庫\n",
    "\n",
    "###\n",
    "第1題:\n",
    "$$1𝑥^2+18𝑥+56=0$$\n",
    " \n",
    "請作答x1: -14\n",
    "\n",
    "請作答x2: 4\n",
    "\n",
    "標準答案:  [−14,−4] \n",
    "\n",
    "第2題:\n",
    "$$8𝑥^2+18𝑥−35=0$$\n",
    " \n",
    "請作答x1: -7/2\n",
    "\n",
    "請作答x2: 5/4\n",
    "\n",
    "標準答案:  [−7/2,5/4]"
   ]
  },
  {
   "cell_type": "markdown",
   "id": "specific-fourth",
   "metadata": {},
   "source": [
    "【项目】ax2 + bx + c =0  即( mx+p)(nx+q)=0的解一元二次方程式   \n",
    "题型1：a=1, |p|,|q| < 10 整数   \n",
    "例题\t\t\t  \n",
    "1. x2 –5 x – 6 =0  \n",
    "2. x2 – 2x – 15=0\t  \n",
    "答案式样  \n",
    "1. = 6 ，-1  \n",
    "2. = 5，-3  \n",
    "数型及范围  \n",
    "a = 1  \n",
    "|p|,|q| < 10 整数  \n",
    "命题方式参考\t\t  \n",
    "a=1, m=1, n=1;  \n",
    "p, q = 10以内随机±整数  \n",
    "b=p+q,      \n",
    "c=p∙q   \n",
    "评分标准\t时限  \n",
    "1. 二個答案对得10分；  \n",
    "2. 只有一個答案对得5分；  \n",
    "3. 其他得0分；\t50秒  \n",
    "题型2：a=1, |p|,|q| < 15 整数   \n",
    "例题\t答案式样\t数型及范围\t评分标准\t时限  \n",
    "1. x2 -6x – 55=0   \n",
    "2. x2 + 23x+132=0 \t1. = 11，-5   \n",
    "2. = -11，-12 \ta=1  \n",
    "|p|,|q| < 15 整数  \n",
    "\t1. 二個答案对得10分；  \n",
    "2. 只有一個答案对得5分；  \n",
    "3. 其他得0分；\t70秒  \n",
    "命题方式参考\t\ta=1, m=1, n=1;  \n",
    "\tp, q = 15以内随机±整数  \n",
    "\t b=p+q,    c=p∙q   \n",
    " \n",
    "题型3：m, n <5 正整数, |p|,|q| < 10 整数  \n",
    "例题\t答案式样\t数型及范围\t评分标准\t时限  \n",
    "1. 6x2 + x – 12=0   \n",
    "  \n",
    "2. 3x2 -7x –6=0\t1. = -  ，    \n",
    "2. =-  ，3  \n",
    "m, n < 5 整数   \n",
    "|p|,|q| < 10 整数  \n",
    "\t1. 二個答案对得10分；  \n",
    "2. 只有一個答案对得5分；  \n",
    "3. 其他得0分；\t110秒  \n",
    "命题方式参考\t\tm, n <5 正整数;  p, q = 10以内随机±整数  \n",
    "\ta=m∙n,   \n",
    "\t b=p∙n+q∙m,    c=p∙q   \n",
    "\n",
    "\n",
    "题型4： m, n < 5整数,  mn < 0 , |p|,|q| < 10 整数  \n",
    "例题\t答案式样\t数型及范围\t评分标准\t时限  \n",
    "1. -6x2 + 5x +6=0   \n",
    "   \n",
    "2. -3x2 –10x –8=0  \n",
    "\t \t1. =   ，    \n",
    "2. =   ，-2  \n",
    "m, n < 5 整数  \n",
    "m∙n<0   \n",
    "|p|,|q| < 10 整数  \n",
    "\t1. 二個答案对得10分；  \n",
    "2. 只有一個答案对得5分；  \n",
    "3. 其他得0分；\t120秒  \n",
    "命题方式参考\tm, n < 5±整数; m∙n<0 ；p, q = 10以内随机±整数  \n",
    "\ta=m∙n,   \n",
    "\t b=p∙n+q∙m,    c=p∙q   "
   ]
  },
  {
   "cell_type": "code",
   "execution_count": 2,
   "id": "hundred-african",
   "metadata": {},
   "outputs": [
    {
     "data": {
      "text/markdown": [
       "號|題|值|答|檢查|題型|提示\n",
       "--|--|--|--|--|--|--\n",
       "0|$$1 x^{2} + x \\left(-8\\right) + 7 = 0$$|[1, 7]||0|-1|\n",
       "1|$$1 x^{2} + x \\left(-5\\right) - 150 = 0$$|[-10, 15]||0|-1|\n",
       "2|$$4 x^{2} + x \\left(-26\\right) + 40 = 0$$|[5/2, 4]||0|-1|\n",
       "3|$$x^{2} \\left(-3\\right) + x \\left(-9\\right) - 6 = 0$$|[-2, -1]||0|-1|"
      ],
      "text/plain": [
       "<IPython.core.display.Markdown object>"
      ]
     },
     "metadata": {},
     "output_type": "display_data"
    }
   ],
   "source": [
    "import random                                     #亂數 \n",
    "import sympy as sp                                #sympy 簡易別名 sp    \n",
    "from IPython.display import Latex,HTML,Markdown                 #網頁顯示數學符號\n",
    "from sympy.parsing.sympy_parser import parse_expr #文字字串, 解釋成, Sympy 運算式\n",
    "sp.init_printing(\"mathjax\")                       #sp.init_printing()  168 \n",
    "import lib\n",
    "from lib import GetTE\n",
    "    \n",
    "\"\"\"程式一\n",
    "解一元二次方程式   \n",
    "\"\"\"\n",
    "def Get_PF301_Expr(QizAmt):\n",
    "    x,y,z=sp.symbols('x,y,z')\n",
    "    sample_list0= list(range(-39,29))   # [-5,-4,-3,-2,-1,1,2,3,4,5]\n",
    "    sample_list1= list(range(-39,29))\n",
    "    sample_list1.remove(0)    # 非零數列\n",
    "    NTE=[]\n",
    "    for i in range(0,QizAmt):\n",
    "        Tx=i % 4 +1\n",
    "        a = 1 \n",
    "        p=random.choice(range(-10,10))\n",
    "        q=random.choice(range(-10,10))\n",
    "        b=p+q\n",
    "        c=p*q\n",
    "        if Tx==2:\n",
    "            p=random.choice(range(-15,15))\n",
    "            q=random.choice(range(-15,15))\n",
    "            b=p+q\n",
    "            c=p*q\n",
    "        elif Tx==3:\n",
    "            m=random.choice(range(1,6))\n",
    "            n=random.choice(range(1,6))\n",
    "            a=m*n\n",
    "            p=random.choice(range(-10,10))\n",
    "            q=random.choice(range(-10,10))\n",
    "            b=p*n+q*m\n",
    "            c=p*q\n",
    "        elif Tx==4:\n",
    "            m=random.choice([-5,-4,-3,-2,-1,1,2,3,4,5])\n",
    "            n=random.choice([-5,-4,-3,-2,-1,1,2,3,4,5])\n",
    "            if m*n >0 : n=n*-1\n",
    "            a=m*n\n",
    "            p=random.choice(range(-10,10))\n",
    "            q=random.choice(range(-10,10))\n",
    "            b=p*n+q*m\n",
    "            c=p*q\n",
    "        else:\n",
    "            pass\n",
    "            \n",
    "        express_str=f\"{a}*x**2 +({b})*x + ({c})  \"  #題型 express_str ax+bx+c\n",
    "        St=parse_expr(express_str, evaluate=False) #字串解釋為可運算式子 expression\n",
    "        #  St=sp.Add(a*x**2,b*x,c, evaluate=False) \n",
    "        St=sp.Eq(St,0)                              #f(x)=0\n",
    "        Val=sp.solve(St)                              #因式分解,得出標準答案\n",
    "        TE=GetTE(len(NTE),sp.latex(St),Val)\n",
    "        NTE.append(TE)    \n",
    "    return NTE\n",
    "\n",
    "NTE=Get_PF301_Expr(4)\n",
    "display(Markdown(lib.NTE2TBL(NTE))) "
   ]
  },
  {
   "cell_type": "code",
   "execution_count": 4,
   "id": "cooperative-roberts",
   "metadata": {},
   "outputs": [
    {
     "name": "stdout",
     "output_type": "stream",
     "text": [
      "第0題:\n"
     ]
    },
    {
     "data": {
      "text/latex": [
       " $$ 1 x^{2} + x \\left(-10\\right) + 16 = 0 $$ "
      ],
      "text/plain": [
       "<IPython.core.display.Latex object>"
      ]
     },
     "metadata": {},
     "output_type": "display_data"
    },
    {
     "name": "stdin",
     "output_type": "stream",
     "text": [
      "請作答x1: 0\n",
      "請作答x2: 0\n"
     ]
    },
    {
     "data": {
      "text/latex": [
       "答案錯誤, 標準答案: $ [2, 8] $"
      ],
      "text/plain": [
       "<IPython.core.display.Latex object>"
      ]
     },
     "metadata": {},
     "output_type": "display_data"
    },
    {
     "name": "stdout",
     "output_type": "stream",
     "text": [
      "第1題:\n"
     ]
    },
    {
     "data": {
      "text/latex": [
       " $$ 1 x^{2} + 3 x + 0 = 0 $$ "
      ],
      "text/plain": [
       "<IPython.core.display.Latex object>"
      ]
     },
     "metadata": {},
     "output_type": "display_data"
    },
    {
     "name": "stdin",
     "output_type": "stream",
     "text": [
      "請作答x1: 0\n",
      "請作答x2: 0\n"
     ]
    },
    {
     "data": {
      "text/latex": [
       "答案錯誤, 標準答案: $ [-3, 0] $"
      ],
      "text/plain": [
       "<IPython.core.display.Latex object>"
      ]
     },
     "metadata": {},
     "output_type": "display_data"
    },
    {
     "name": "stdout",
     "output_type": "stream",
     "text": [
      "第2題:\n"
     ]
    },
    {
     "data": {
      "text/latex": [
       " $$ 20 x^{2} + x \\left(-10\\right) - 30 = 0 $$ "
      ],
      "text/plain": [
       "<IPython.core.display.Latex object>"
      ]
     },
     "metadata": {},
     "output_type": "display_data"
    },
    {
     "name": "stdin",
     "output_type": "stream",
     "text": [
      "請作答x1: 0\n",
      "請作答x2: 0\n"
     ]
    },
    {
     "data": {
      "text/latex": [
       "答案錯誤, 標準答案: $ [-1, 3/2] $"
      ],
      "text/plain": [
       "<IPython.core.display.Latex object>"
      ]
     },
     "metadata": {},
     "output_type": "display_data"
    },
    {
     "name": "stdout",
     "output_type": "stream",
     "text": [
      "第3題:\n"
     ]
    },
    {
     "data": {
      "text/latex": [
       " $$ x^{2} \\left(-8\\right) + 34 x + 9 = 0 $$ "
      ],
      "text/plain": [
       "<IPython.core.display.Latex object>"
      ]
     },
     "metadata": {},
     "output_type": "display_data"
    },
    {
     "name": "stdin",
     "output_type": "stream",
     "text": [
      "請作答x1: 0\n",
      "請作答x2: 0\n"
     ]
    },
    {
     "data": {
      "text/latex": [
       "答案錯誤, 標準答案: $ [-1/4, 9/2] $"
      ],
      "text/plain": [
       "<IPython.core.display.Latex object>"
      ]
     },
     "metadata": {},
     "output_type": "display_data"
    },
    {
     "data": {
      "text/markdown": [
       "|Qiz|Val|Ans|OK|\n",
       "|---|---|---|---|\n",
       "|$$1 x^{2} + x \\left(-10\\right) + 16 = 0$$||$$2$$ $$8$$||$$0$$ $$0$$|0|\n",
       "|$$1 x^{2} + 3 x + 0 = 0$$||$$-3$$ $$0$$||$$0$$ $$0$$|0|\n",
       "|$$20 x^{2} + x \\left(-10\\right) - 30 = 0$$||$$-1$$ $$3/2$$||$$0$$ $$0$$|0|\n",
       "|$$x^{2} \\left(-8\\right) + 34 x + 9 = 0$$||$$-1/4$$ $$9/2$$||$$0$$ $$0$$|0|\n"
      ],
      "text/plain": [
       "<IPython.core.display.Markdown object>"
      ]
     },
     "metadata": {},
     "output_type": "display_data"
    }
   ],
   "source": [
    "NTE=Get_PF301_Expr(4)\n",
    "for i,TE in enumerate(NTE):\n",
    "    St=TE[\"St\"]\n",
    "    Val=TE[\"Val\"]\n",
    "    print(f\"第{i}題:\")        \n",
    "    display(Latex(f\" $$ {St} $$ \" ))\n",
    "    ans=[]\n",
    "    for idx in range(0,len(Val)):\n",
    "        ans1=input(f\"請作答x{idx+1}:\")  \n",
    "        ans.append(int(ans1))\n",
    "    TE[\"Ans\"]=ans\n",
    "    if ans==Val:                   #比對答案:\n",
    "        print(\"答對!\")                              #答對加一分\n",
    "        TE[\"OK\"]=1\n",
    "    else:                                      #不則\n",
    "        TE[\"OK\"]=0\n",
    "        display(Latex(f\"答案錯誤, 標準答案: $ {Val} $\"))\n",
    "    \n",
    "display(Markdown(lib.NTE2TBL(NTE))) \n"
   ]
  }
 ],
 "metadata": {
  "kernelspec": {
   "display_name": "Python 3",
   "language": "python",
   "name": "python3"
  },
  "language_info": {
   "codemirror_mode": {
    "name": "ipython",
    "version": 3
   },
   "file_extension": ".py",
   "mimetype": "text/x-python",
   "name": "python",
   "nbconvert_exporter": "python",
   "pygments_lexer": "ipython3",
   "version": "3.9.9"
  }
 },
 "nbformat": 4,
 "nbformat_minor": 5
}

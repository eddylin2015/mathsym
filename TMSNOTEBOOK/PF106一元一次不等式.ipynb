{
 "cells": [
  {
   "cell_type": "markdown",
   "id": "clear-harvey",
   "metadata": {},
   "source": [
    "# 電腦數學符號運算"
   ]
  },
  {
   "cell_type": "markdown",
   "id": "cooperative-seven",
   "metadata": {},
   "source": [
    "### 第3節. 一元一次不等式實作\n",
    "安裝 Python 3.8.7\n",
    "- pip install numpy\n",
    "- pip install sympy\n",
    "- pip install jupyterlab\n",
    "- lib.py \n",
    "fx=parse_expr(\"2*x-3 > 2\" , evaluate=False)\n",
    "solve_univariate_inequality(fx ,x)  "
   ]
  },
  {
   "cell_type": "markdown",
   "id": "retired-apple",
   "metadata": {},
   "source": [
    "程式一   \n",
    "一元一次不等式 ax + b >= c 求解\n",
    "\n",
    "題目: 1𝑥+0<−9   \n",
    "作答: x<-9   \n",
    "電腦答案: (-oo < x) & (x < -9)  \n"
   ]
  },
  {
   "cell_type": "code",
   "execution_count": 1,
   "id": "adolescent-immunology",
   "metadata": {},
   "outputs": [
    {
     "data": {
      "text/markdown": [
       "號|題|值|答|檢查|題型|提示\n",
       "--|--|--|--|--|--|--\n",
       "0|$$x \\leq -9$$|(x <= -9) & (-oo < x)||0|-1|\n",
       "1|$$1 x + 0 < x \\left(-25\\right) - 1$$|(-oo < x) & (x < -1/26)||0|-1|\n",
       "2|$$1 \\left(8 x - 4\\right) + \\left(x \\left(-2\\right) - 6\\right) \\left(-4\\right) \\leq \\left(1 x - 4\\right) \\left(-4\\right)$$|(x <= -1/5) & (-oo < x)||0|-1|\n",
       "3|$$\\frac{20 x + 4}{-4} + \\frac{x \\left(-3\\right) - 9}{-4} < \\frac{3 x - 3}{-4}$$|(1/7 < x) & (x < oo)||0|-1|"
      ],
      "text/plain": [
       "<IPython.core.display.Markdown object>"
      ]
     },
     "metadata": {},
     "output_type": "display_data"
    }
   ],
   "source": [
    "import random                                     #亂數 \n",
    "import sympy as sp                                #sympy 簡易別名 sp    \n",
    "import lib\n",
    "from lib import GetTE\n",
    "from sympy.parsing.sympy_parser import parse_expr #文字字串, 解釋成, Sympy 運算式\n",
    "from sympy.solvers.inequalities import solve_univariate_inequality\n",
    "sp.init_printing(\"mathjax\")                       #sp.init_printing()  168 \n",
    "from IPython.display import Latex,HTML,Markdown                 #網頁顯示數學符號\n",
    "\"\"\"程式一\n",
    "一元一次不等式 ax + b >= c 求解\n",
    "\"\"\"\n",
    "def Put_PF106_Expr(TE):\n",
    "    St=TE[\"St\"]\n",
    "    Val=TE[\"Val\"]\n",
    "    ans=TE[\"Ans\"]\n",
    "    try:\n",
    "        if sp.solve(ans)==Val:                   #比對答案:\n",
    "            TE[\"OK\"]=1\n",
    "            return True\n",
    "    except:\n",
    "        pass\n",
    "    return False\n",
    "\n",
    "def Get_PF106_Expr(QN):\n",
    "    x=sp.symbols('x')\n",
    "    NTE=[]\n",
    "    for i in range(0,QN):\n",
    "        Tx=i % 8\n",
    "        if Tx==1:\n",
    "            #ax+b<cx+d a,b,c,d均為-99至99的整数,\n",
    "            p=random.choice([-5,-4,-3,-2,-1,1,2,3,4,5])\n",
    "            q=random.choice([-5,-4,-3,-2,-1,1,2,3,4,5])\n",
    "            a=random.choice([-5,-4,-3,-2,-1,1,2,3,4,5])\n",
    "            b=p+q\n",
    "            c=p*q\n",
    "            d=random.choice([-5,-4,-3,-2,-1,1,2,3,4,5])\n",
    "            op=random.choice([\">=\",\">\",\"<=\",\"<\"])\n",
    "            express_str=f\" {a}*x + {b} {op} {c}*x+{d}\"       # f(x)= ax + b > c\n",
    "            fx=parse_expr(express_str, evaluate=False) #字串解釋為可運算式子 expression \n",
    "            St=fx\n",
    "            Val=solve_univariate_inequality(fx,x)      #solve_univariate_inequality 解不等式   \n",
    "        elif Tx==2:\n",
    "            #m(a+bx)+n(c+dx)<p(e+fx)  所有字母均為-9至9整数            \n",
    "            p=random.choice([-5,-4,-3,-2,-1,1,2,3,4,5])\n",
    "            q=random.choice([-5,-4,-3,-2,-1,1,2,3,4,5])\n",
    "            a=random.choice([-5,-4,-3,-2,-1,1,2,3,4,5])\n",
    "            b=p+q\n",
    "            c=p*q\n",
    "            d=random.choice([-5,-4,-3,-2,-1,1,2,3,4,5])\n",
    "            e=random.choice([-5,-4,-3,-2,-1,1,2,3,4,5])\n",
    "            f=random.choice([-5,-4,-3,-2,-1,1,2,3,4,5])\n",
    "            m=random.choice([-5,-4,-3,-2,-1,1,2,3,4,5])\n",
    "            n=random.choice([-5,-4,-3,-2,-1,1,2,3,4,5])\n",
    "            op=random.choice([\">=\",\">\",\"<=\",\"<\"])\n",
    "            express_str=f\" {m}*({a}*x + {b})+{n}*({c}*x+{d}) {op} {p}*({f}*x+{e})  \"       # f(x)= ax + b > c\n",
    "            fx=parse_expr(express_str, evaluate=False) #字串解釋為可運算式子 expression \n",
    "            St=fx\n",
    "            Val=solve_univariate_inequality(fx,x)      #solve_univariate_inequality 解不等式   \n",
    "        elif Tx==3:\n",
    "            #(a+bx)/m+(c+dx)/n<(e+fx)/p  所有字母均為-9至9整数\n",
    "            \n",
    "            p=random.choice([-5,-4,-3,-2,-1,1,2,3,4,5])\n",
    "            q=random.choice([-5,-4,-3,-2,-1,1,2,3,4,5])\n",
    "            a=random.choice([-5,-4,-3,-2,-1,1,2,3,4,5])\n",
    "            b=p+q\n",
    "            c=p*q\n",
    "            d=random.choice([-5,-4,-3,-2,-1,1,2,3,4,5])\n",
    "            e=random.choice([-5,-4,-3,-2,-1,1,2,3,4,5])\n",
    "            f=random.choice([-5,-4,-3,-2,-1,1,2,3,4,5])\n",
    "            m=random.choice([-5,-4,-3,-2,-1,1,2,3,4,5])\n",
    "            n=random.choice([-5,-4,-3,-2,-1,1,2,3,4,5])\n",
    "            op=random.choice([\">=\",\">\",\"<=\",\"<\"])\n",
    "            express_str=f\" ({a}*x+ {b})/{m} +({c}*x+{d})/{n} {op} ({f}*x+{e})/{p}  \"       # f(x)= ax + b > c\n",
    "            fx=parse_expr(express_str, evaluate=False) #字串解釋為可運算式子 expression \n",
    "            St=fx\n",
    "            Val=solve_univariate_inequality(fx,x)      #solve_univariate_inequality 解不等式   \n",
    "        else:\n",
    "            a = 1 \n",
    "            p=random.choice([-5,-4,-3,-2,-1,1,2,3,4,5])\n",
    "            q=random.choice([-5,-4,-3,-2,-1,1,2,3,4,5])\n",
    "            b=p+q\n",
    "            c=p*q\n",
    "            op=random.choice([\">=\",\">\",\"<=\",\"<\"])\n",
    "            St=a*x +b\n",
    "            if op==\">=\":\n",
    "                St= St >= c\n",
    "            elif op==\">\":\n",
    "                St= St > c\n",
    "            elif op==\"<=\":\n",
    "                St= St <= c\n",
    "            elif op==\"<\":\n",
    "                St= St < c\n",
    "            Val=solve_univariate_inequality(St,x)      #solve_univariate_inequality 解不等式   \n",
    "        \n",
    "        TE=GetTE(i,sp.latex(St),Val)        \n",
    "        NTE.append(TE)    \n",
    "    return NTE\n",
    "\n",
    "if __name__ ==\"__main__\":\n",
    "    NTE=Get_PF106_Expr(4)\n",
    "    display(Markdown(lib.NTE2TBL(NTE)  ))"
   ]
  },
  {
   "cell_type": "code",
   "execution_count": 4,
   "id": "organic-stewart",
   "metadata": {},
   "outputs": [
    {
     "name": "stdout",
     "output_type": "stream",
     "text": [
      "第0題:\n"
     ]
    },
    {
     "data": {
      "text/latex": [
       " $$ x - 7 < 10 $$ "
      ],
      "text/plain": [
       "<IPython.core.display.Latex object>"
      ]
     },
     "metadata": {},
     "output_type": "display_data"
    },
    {
     "data": {
      "text/latex": [
       "標準答案:  (-oo < x) & (x < 17) "
      ],
      "text/plain": [
       "<IPython.core.display.Latex object>"
      ]
     },
     "metadata": {},
     "output_type": "display_data"
    },
    {
     "name": "stdin",
     "output_type": "stream",
     "text": [
      "請作答: x<17\n"
     ]
    },
    {
     "name": "stdout",
     "output_type": "stream",
     "text": [
      "答對!\n",
      "第1題:\n"
     ]
    },
    {
     "data": {
      "text/latex": [
       " $$ 2 x + 5 \\leq 4 x + 5 $$ "
      ],
      "text/plain": [
       "<IPython.core.display.Latex object>"
      ]
     },
     "metadata": {},
     "output_type": "display_data"
    },
    {
     "data": {
      "text/latex": [
       "標準答案:  (0 <= x) & (x < oo) "
      ],
      "text/plain": [
       "<IPython.core.display.Latex object>"
      ]
     },
     "metadata": {},
     "output_type": "display_data"
    },
    {
     "name": "stdin",
     "output_type": "stream",
     "text": [
      "請作答: 0\n"
     ]
    },
    {
     "data": {
      "text/latex": [
       "答案錯誤, 標準答案:  (0 <= x) & (x < oo) "
      ],
      "text/plain": [
       "<IPython.core.display.Latex object>"
      ]
     },
     "metadata": {},
     "output_type": "display_data"
    },
    {
     "name": "stdout",
     "output_type": "stream",
     "text": [
      "第2題:\n"
     ]
    },
    {
     "data": {
      "text/latex": [
       " $$ 3 \\left(6 + x \\left(-3\\right)\\right) + 4 \\left(5 x - 5\\right) < 5 \\left(2 + x \\left(-4\\right)\\right) $$ "
      ],
      "text/plain": [
       "<IPython.core.display.Latex object>"
      ]
     },
     "metadata": {},
     "output_type": "display_data"
    },
    {
     "data": {
      "text/latex": [
       "標準答案:  (-oo < x) & (x < 12/31) "
      ],
      "text/plain": [
       "<IPython.core.display.Latex object>"
      ]
     },
     "metadata": {},
     "output_type": "display_data"
    },
    {
     "name": "stdin",
     "output_type": "stream",
     "text": [
      "請作答: 0\n"
     ]
    },
    {
     "data": {
      "text/latex": [
       "答案錯誤, 標準答案:  (-oo < x) & (x < 12/31) "
      ],
      "text/plain": [
       "<IPython.core.display.Latex object>"
      ]
     },
     "metadata": {},
     "output_type": "display_data"
    },
    {
     "name": "stdout",
     "output_type": "stream",
     "text": [
      "第3題:\n"
     ]
    },
    {
     "data": {
      "text/latex": [
       " $$ \\frac{2 + x \\left(-6\\right)}{3} + \\frac{1 x - 1}{-5} < \\frac{2 + x \\left(-5\\right)}{2} $$ "
      ],
      "text/plain": [
       "<IPython.core.display.Latex object>"
      ]
     },
     "metadata": {},
     "output_type": "display_data"
    },
    {
     "data": {
      "text/latex": [
       "標準答案:  (-oo < x) & (x < 4/9) "
      ],
      "text/plain": [
       "<IPython.core.display.Latex object>"
      ]
     },
     "metadata": {},
     "output_type": "display_data"
    },
    {
     "name": "stdin",
     "output_type": "stream",
     "text": [
      "請作答: 0\n"
     ]
    },
    {
     "data": {
      "text/latex": [
       "答案錯誤, 標準答案:  (-oo < x) & (x < 4/9) "
      ],
      "text/plain": [
       "<IPython.core.display.Latex object>"
      ]
     },
     "metadata": {},
     "output_type": "display_data"
    },
    {
     "data": {
      "text/html": [
       "<table><tr><th>編號</th><th>題目</th><th>答案</th><th>作答</th><th>檢查</th><th>題型</th><th>提示</th></tr><tr><td>0</td><td>$$x - 7 < 10$$</td><td>(-oo < x) & (x < 17)</td><td>x<17</td><td>1</td><td>-1</td><td></td></tr><tr><td>1</td><td>$$2 x + 5 \\leq 4 x + 5$$</td><td>(0 <= x) & (x < oo)</td><td>0</td><td>0</td><td>-1</td><td></td></tr><tr><td>2</td><td>$$3 \\left(6 + x \\left(-3\\right)\\right) + 4 \\left(5 x - 5\\right) < 5 \\left(2 + x \\left(-4\\right)\\right)$$</td><td>(-oo < x) & (x < 12/31)</td><td>0</td><td>0</td><td>-1</td><td></td></tr><tr><td>3</td><td>$$\\frac{2 + x \\left(-6\\right)}{3} + \\frac{1 x - 1}{-5} < \\frac{2 + x \\left(-5\\right)}{2}$$</td><td>(-oo < x) & (x < 4/9)</td><td>0</td><td>0</td><td>-1</td><td></td></tr></table>"
      ],
      "text/plain": [
       "<IPython.core.display.HTML object>"
      ]
     },
     "metadata": {},
     "output_type": "display_data"
    }
   ],
   "source": [
    "if __name__==\"__main__\" :\n",
    "    NTE=Get_PF106_Expr(4)\n",
    "    for i,TE in enumerate(NTE):\n",
    "        St=TE[\"St\"]\n",
    "        Val=TE[\"Val\"]\n",
    "        print(f\"第{i}題:\")        \n",
    "        display(Latex(f\" $$ {St} $$ \" ))\n",
    "        display(Latex(f\"標準答案:  {Val} \"))\n",
    "        TE[\"Ans\"]=input(\"請作答:\")  #\"x <= -1\" #\n",
    "        if Put_PF106_Expr(TE):                   #比對答案:\n",
    "            print(\"答對!\")                              #答對加一分\n",
    "        else:                                      #不則\n",
    "            display(Latex(f\"答案錯誤, 標準答案:  {Val} \"))\n",
    "    display(Markdown(lib.NTE2TBL(NTE)  ))    "
   ]
  },
  {
   "cell_type": "markdown",
   "id": "crucial-aircraft",
   "metadata": {},
   "source": [
    "## 解一元二次不等式"
   ]
  },
  {
   "cell_type": "code",
   "execution_count": 2,
   "id": "announced-volleyball",
   "metadata": {},
   "outputs": [
    {
     "data": {
      "image/png": "[encoded data removed]",
      "text/latex": [
       "$\\displaystyle -1 < x \\wedge x < \\frac{1}{2}$"
      ],
      "text/plain": [
       "-1 < x ∧ x < 1/2"
      ]
     },
     "execution_count": 2,
     "metadata": {},
     "output_type": "execute_result"
    }
   ],
   "source": [
    "import random                                     #亂數 \n",
    "import sympy as sp                                #sympy 簡易別名 sp    \n",
    "import lib\n",
    "from lib import GetTE\n",
    "from sympy.parsing.sympy_parser import parse_expr #文字字串, 解釋成, Sympy 運算式\n",
    "from sympy.solvers.inequalities import solve_univariate_inequality\n",
    "sp.init_printing(\"mathjax\")                       #sp.init_printing()  168 \n",
    "from IPython.display import Latex,HTML,Markdown                 #網頁顯示數學符號\n",
    "x=sp.Symbol('x')\n",
    "express_str=f\" (x +1)*(2*x-1)<0 \"       # f(x)= ax + b > c\n",
    "fx=parse_expr(express_str, evaluate=False) #字串解釋為可運算式子 expression \n",
    "St=fx\n",
    "Val=solve_univariate_inequality(fx,x)      #solve_univariate_inequality 解不等式  \n",
    "\n",
    "Val"
   ]
  },
  {
   "cell_type": "markdown",
   "id": "bearing-liabilities",
   "metadata": {},
   "source": [
    "顯示表格:\n",
    "```python\n",
    "display(HTML( (x <= -1) & (-oo < x)\n",
    "   '<table><tr>{}</tr></table>'.format(\n",
    "       '</tr><tr>'.join(\n",
    "           '<td>{}</td>'.format('</td><td>'.join(str(row[_]) for _ in row)) for row in NTE)\n",
    "       )\n",
    "))\n",
    "```"
   ]
  }
 ],
 "metadata": {
  "kernelspec": {
   "display_name": "Python 3",
   "language": "python",
   "name": "python3"
  },
  "language_info": {
   "codemirror_mode": {
    "name": "ipython",
    "version": 3
   },
   "file_extension": ".py",
   "mimetype": "text/x-python",
   "name": "python",
   "nbconvert_exporter": "python",
   "pygments_lexer": "ipython3",
   "version": "3.9.9"
  }
 },
 "nbformat": 4,
 "nbformat_minor": 5
}

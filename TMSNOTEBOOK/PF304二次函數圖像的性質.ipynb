{
 "cells": [
  {
   "cell_type": "markdown",
   "id": "floral-departure",
   "metadata": {},
   "source": [
    "# 電腦數學符號運算"
   ]
  },
  {
   "cell_type": "markdown",
   "id": "removable-college",
   "metadata": {},
   "source": [
    "### 第3節. 二次函數圖像的性質實作\n",
    "安裝 Python 3.8.7\n",
    "- pip install numpy\n",
    "- pip install sympy\n",
    "- pip install jupyterlab\n",
    "- lib.py 自定義函數庫\n",
    "\n",
    "二次函數圖像的性質\n",
    "\n",
    "y=a(x-h)**2 + k 曲線頂點坐標(x,y)\n"
   ]
  },
  {
   "cell_type": "markdown",
   "id": "functional-roommate",
   "metadata": {},
   "source": [
    "二次函數圖像的性質   \n",
    "\n",
    "題型1\t答案式样\t数型及范围  \n",
    "y=a(x-h)**2 + k  \n",
    "頂點坐標是(h,k)  .\t答: (h,k).\t  \n",
    "K為非0整數  \n",
    "h,k為整數  \n",
    "\n",
    "相關參考:\n",
    "\n",
    "函數的極大值  \n",
    "\n",
    "計算下一個函數獲取最大值的 x 的值及其最大值。\n",
    "\n",
    "1.  $\\frac{x^3}{e^x−1}$\n",
    "\n",
    "2.  $\\frac {x^5}{e^x−1}$\n",
    "\n",
    "http://web.ntnu.edu.tw/~tsungwu/Python_DevOps/Part1_Basics&Math/section3_optimization.html\n",
    "\n",
    "https://acupun.site/lecture/python_math/index.htm#exp5_6"
   ]
  },
  {
   "cell_type": "code",
   "execution_count": 16,
   "id": "parliamentary-envelope",
   "metadata": {},
   "outputs": [
    {
     "name": "stdout",
     "output_type": "stream",
     "text": [
      "一階導數函數 =  36 - 12*x\n",
      "求解一階導數=0的解 =  [3]\n",
      "[3] 7 3 7\n",
      "==================\n",
      "一階導數函數 =  -20*x - 140\n",
      "求解一階導數=0的解 =  [-7]\n",
      "[-7] 8 -7 8\n",
      "==================\n",
      "一階導數函數 =  112 - 16*x\n",
      "求解一階導數=0的解 =  [7]\n",
      "[7] -7 7 -7\n",
      "==================\n",
      "一階導數函數 =  16*x - 48\n",
      "求解一階導數=0的解 =  [3]\n",
      "[3] -1 3 -1\n",
      "==================\n",
      "一階導數函數 =  14*x - 84\n",
      "求解一階導數=0的解 =  [6]\n",
      "[6] 1 6 1\n",
      "==================\n",
      "一階導數函數 =  12*x - 72\n",
      "求解一階導數=0的解 =  [6]\n",
      "[6] -1 6 -1\n",
      "==================\n",
      "一階導數函數 =  60 - 12*x\n",
      "求解一階導數=0的解 =  [5]\n",
      "[5] -7 5 -7\n",
      "==================\n",
      "一階導數函數 =  -4*x - 36\n",
      "求解一階導數=0的解 =  [-9]\n",
      "[-9] 7 -9 7\n",
      "==================\n",
      "一階導數函數 =  6*x - 42\n",
      "求解一階導數=0的解 =  [7]\n",
      "[7] 1 7 1\n",
      "==================\n",
      "一階導數函數 =  160 - 20*x\n",
      "求解一階導數=0的解 =  [8]\n",
      "[8] -9 8 -9\n",
      "==================\n"
     ]
    },
    {
     "data": {
      "text/markdown": [
       "號|題|值|答|檢查|題型|提示\n",
       "--|--|--|--|--|--|--\n",
       "7 - 6*(x - 3)**2|$$y = 7 - 6 \\left(x - 3\\right)^{2}$$|[3, 7]||0|\n",
       "8 - 10*(x + 7)**2|$$y = 8 - 10 \\left(x + 7\\right)^{2}$$|[-7, 8]||0|\n",
       "-8*(x - 7)**2 - 7|$$y = - 8 \\left(x - 7\\right)^{2} - 7$$|[7, -7]||0|\n",
       "8*(x - 3)**2 - 1|$$y = 8 \\left(x - 3\\right)^{2} - 1$$|[3, -1]||0|\n",
       "7*(x - 6)**2 + 1|$$y = 7 \\left(x - 6\\right)^{2} + 1$$|[6, 1]||0|\n",
       "6*(x - 6)**2 - 1|$$y = 6 \\left(x - 6\\right)^{2} - 1$$|[6, -1]||0|\n",
       "-6*(x - 5)**2 - 7|$$y = - 6 \\left(x - 5\\right)^{2} - 7$$|[5, -7]||0|\n",
       "7 - 2*(x + 9)**2|$$y = 7 - 2 \\left(x + 9\\right)^{2}$$|[-9, 7]||0|\n",
       "3*(x - 7)**2 + 1|$$y = 3 \\left(x - 7\\right)^{2} + 1$$|[7, 1]||0|\n",
       "-10*(x - 8)**2 - 9|$$y = - 10 \\left(x - 8\\right)^{2} - 9$$|[8, -9]||0|"
      ],
      "text/plain": [
       "<IPython.core.display.Markdown object>"
      ]
     },
     "metadata": {},
     "output_type": "display_data"
    }
   ],
   "source": [
    "import random                                     #亂數 \n",
    "import math                                       #math 內置數學函數\n",
    "import numpy as np                                #數字矩陣\n",
    "import sympy as sp                                #sympy 簡易別名 sp    \n",
    "from sympy.parsing.sympy_parser import parse_expr #文字字串, 解釋成, Sympy 運算式\n",
    "from sympy.plotting import plot                   #繪圖表\n",
    "from IPython.display import Latex,HTML,Markdown            #網頁顯示數學符號\n",
    "import json                                       #JSON 結構化資料\n",
    "import re\n",
    "import lib\n",
    "from lib import GetTE\n",
    "sp.init_printing(\"mathjax\")                       \n",
    "#sp.init_printing()  \n",
    "\"\"\"\n",
    "二次函數圖像的性質\n",
    "\"\"\"\n",
    "def Get_PF304_Expr(QizAmt):\n",
    "    x,y,z=sp.symbols('x,y,z')\n",
    "    sample_list0= list(range(-10,10))   # [-5,-4,-3,-2,-1,1,2,3,4,5]\n",
    "    sample_list1= list(range(-10,10))\n",
    "    sample_list1.remove(0)    # 非零數列\n",
    "    NTE=[]\n",
    "    for i in range(0,QizAmt):\n",
    "        a = random.choice(sample_list1) \n",
    "        h =random.choice(sample_list0)\n",
    "        k =random.choice(sample_list0)\n",
    "        St=sp.Eq(y, a*(x-h)**2+k )  #, evaluate=False) #字串解釋為可運算式子 expression\n",
    "        ###\n",
    "        t = sp.Function('t')(x)\n",
    "        t=a*(x-h)**2+k\n",
    "        #求f的局部極值（極大值，極小值）\n",
    "        dif1y = sp.diff(t, x, 1)\n",
    "        print('一階導數函數 = ', dif1y)\n",
    "        #求解一階導數=0的位置\n",
    "        print('求解一階導數=0的解 = ', sp.solve(dif1y,x))\n",
    "        topx=sp.solve(dif1y,x)\n",
    "        topy=t.subs(x,topx[0])\n",
    "        Val=[topx[0],topy]\n",
    "        print(\"==================\")\n",
    "        ###\n",
    "        Val= [h,k]\n",
    "        TE={}\n",
    "        TE[\"Plot\"]=a*(x-h)**2+k \n",
    "        TE[\"St\"]=sp.latex(St)\n",
    "        TE[\"Val\"]=Val        \n",
    "        TE[\"Ans\"]=\"\"\n",
    "        TE[\"OK\"]=0\n",
    "        TE[\"Tip\"]=\"\"\n",
    "        NTE.append(TE)    \n",
    "    return NTE\n",
    "\n",
    "if __name__==\"__main__\":\n",
    "    NTE=Get_PF304_Expr(10)\n",
    "    display(Markdown(lib.NTE2TBL(NTE)   ))"
   ]
  },
  {
   "cell_type": "code",
   "execution_count": 5,
   "id": "narrative-columbia",
   "metadata": {},
   "outputs": [
    {
     "name": "stdout",
     "output_type": "stream",
     "text": [
      "第0題: 頂點坐標是____  ? \n"
     ]
    },
    {
     "data": {
      "text/latex": [
       " $$ y = 9 \\left(x - 1\\right)^{2} - 5 $$ "
      ],
      "text/plain": [
       "<IPython.core.display.Latex object>"
      ]
     },
     "metadata": {},
     "output_type": "display_data"
    },
    {
     "name": "stdout",
     "output_type": "stream",
     "text": [
      "  92000 |\\                                                      \n",
      "        | .                                                    /\n",
      "        |                                                     . \n",
      "        |  .                                                    \n",
      "        |   \\                                                .  \n",
      "        |    .                                              /   \n",
      "        |                                                  /    \n",
      "        |     .                                           /     \n",
      "        |      \\                                         .      \n",
      "        |       \\                                               \n",
      "  46000 |--------\\--------------------------------------.-------\n",
      "        |         \\                                    /        \n",
      "        |          \\                                 ..         \n",
      "        |           \\                               /           \n",
      "        |            \\                             /            \n",
      "        |             ..                          /             \n",
      "        |               \\                       ..              \n",
      "        |                ..                   ..                \n",
      "        |                  ..               ..                  \n",
      "        |                    ...         ...                    \n",
      "      0 |_______________________________________________________\n",
      "         -100                       0                          100\n",
      "\n"
     ]
    },
    {
     "name": "stdin",
     "output_type": "stream",
     "text": [
      "請作答 x: 0\n",
      "請作答 y: 0\n"
     ]
    },
    {
     "data": {
      "text/latex": [
       "答案錯誤, 標準答案: $ [1, -5] $"
      ],
      "text/plain": [
       "<IPython.core.display.Latex object>"
      ]
     },
     "metadata": {},
     "output_type": "display_data"
    },
    {
     "name": "stdout",
     "output_type": "stream",
     "text": [
      "第1題: 頂點坐標是____  ? \n"
     ]
    },
    {
     "data": {
      "text/latex": [
       " $$ y = 4 - 9 \\left(x + 3\\right)^{2} $$ "
      ],
      "text/plain": [
       "<IPython.core.display.Latex object>"
      ]
     },
     "metadata": {},
     "output_type": "display_data"
    },
    {
     "name": "stdout",
     "output_type": "stream",
     "text": [
      "      0 |                      .........                        \n",
      "        |                   ...         ...                     \n",
      "        |                 ..               ..                   \n",
      "        |               ..                   ..                 \n",
      "        |              /                       ..               \n",
      "        |            ..                          \\              \n",
      "        |           /                             ..            \n",
      "        |          /                                \\           \n",
      "        |         /                                  \\          \n",
      "        |        /                                    \\         \n",
      " -47500 |-------/--------------------------------------\\--------\n",
      "        |      /                                        \\       \n",
      "        |     /                                          .      \n",
      "        |    /                                                  \n",
      "        |   /                                             .     \n",
      "        |  /                                               \\    \n",
      "        | .                                                 \\   \n",
      "        |                                                    .  \n",
      "        |.                                                      \n",
      "        |                                                     . \n",
      " -95000 |_______________________________________________________\n",
      "         -100                       0                          100\n",
      "\n"
     ]
    },
    {
     "name": "stdin",
     "output_type": "stream",
     "text": [
      "請作答 x: 0\n",
      "請作答 y: 0\n"
     ]
    },
    {
     "data": {
      "text/latex": [
       "答案錯誤, 標準答案: $ [-3, 4] $"
      ],
      "text/plain": [
       "<IPython.core.display.Latex object>"
      ]
     },
     "metadata": {},
     "output_type": "display_data"
    },
    {
     "name": "stdout",
     "output_type": "stream",
     "text": [
      "第2題: 頂點坐標是____  ? \n"
     ]
    },
    {
     "data": {
      "text/latex": [
       " $$ y = 8 \\left(x + 10\\right)^{2} - 2 $$ "
      ],
      "text/plain": [
       "<IPython.core.display.Latex object>"
      ]
     },
     "metadata": {},
     "output_type": "display_data"
    },
    {
     "name": "stdout",
     "output_type": "stream",
     "text": [
      "  97000 |                                                      /\n",
      "        |                                                     . \n",
      "        |                                                       \n",
      "        |                                                    .  \n",
      "        |                                                   /   \n",
      "        |                                                  /    \n",
      "        |                                                 /     \n",
      "        |\\                                               /      \n",
      "        | \\                                             /       \n",
      "        |  \\                                           /        \n",
      "  48500 |---\\-----------------------------------------/---------\n",
      "        |    \\                                       /          \n",
      "        |     ..                                    /           \n",
      "        |       \\                                  /            \n",
      "        |        \\                               ..             \n",
      "        |         ..                            /               \n",
      "        |           \\                         ..                \n",
      "        |            ..                     ..                  \n",
      "        |              ...                ..                    \n",
      "        |                 ...          ...                      \n",
      "      0 |_______________________________________________________\n",
      "         -100                       0                          100\n",
      "\n"
     ]
    },
    {
     "name": "stdin",
     "output_type": "stream",
     "text": [
      "請作答 x: 0\n",
      "請作答 y: 0\n"
     ]
    },
    {
     "data": {
      "text/latex": [
       "答案錯誤, 標準答案: $ [-10, -2] $"
      ],
      "text/plain": [
       "<IPython.core.display.Latex object>"
      ]
     },
     "metadata": {},
     "output_type": "display_data"
    },
    {
     "name": "stdout",
     "output_type": "stream",
     "text": [
      "第3題: 頂點坐標是____  ? \n"
     ]
    },
    {
     "data": {
      "text/latex": [
       " $$ y = 6 \\left(x + 1\\right)^{2} + 2 $$ "
      ],
      "text/plain": [
       "<IPython.core.display.Latex object>"
      ]
     },
     "metadata": {},
     "output_type": "display_data"
    },
    {
     "name": "stdout",
     "output_type": "stream",
     "text": [
      "  61000 |                                                      /\n",
      "        |\\                                                    . \n",
      "        | \\                                                     \n",
      "        |  .                                                 .  \n",
      "        |                                                   /   \n",
      "        |   .                                              .    \n",
      "        |    \\                                                  \n",
      "        |     \\                                           .     \n",
      "        |      \\                                         /      \n",
      "        |       .                                       /       \n",
      "  30500 |----------------------------------------------/--------\n",
      "        |        .                                    /         \n",
      "        |         ..                                 /          \n",
      "        |           \\                               /           \n",
      "        |            \\                             /            \n",
      "        |             \\                          ..             \n",
      "        |              ..                       /               \n",
      "        |                ..                   ..                \n",
      "        |                  ..               ..                  \n",
      "        |                    ...         ...                    \n",
      "      0 |_______________________________________________________\n",
      "         -100                       0                          100\n",
      "\n"
     ]
    },
    {
     "name": "stdin",
     "output_type": "stream",
     "text": [
      "請作答 x: 0\n",
      "請作答 y: 0\n"
     ]
    },
    {
     "data": {
      "text/latex": [
       "答案錯誤, 標準答案: $ [-1, 2] $"
      ],
      "text/plain": [
       "<IPython.core.display.Latex object>"
      ]
     },
     "metadata": {},
     "output_type": "display_data"
    },
    {
     "data": {
      "text/html": [
       "<table><tr><td>Qiz</td><td>Val</td><td>Ans</td><td>OK</td></tr><tr><td>$$y = 9 \\left(x - 1\\right)^{2} - 5$$</td><td>[1, -5]</td><td>[0, 0]</td><td>0</td></tr><tr><td>$$y = 4 - 9 \\left(x + 3\\right)^{2}$$</td><td>[-3, 4]</td><td>[0, 0]</td><td>0</td></tr><tr><td>$$y = 8 \\left(x + 10\\right)^{2} - 2$$</td><td>[-10, -2]</td><td>[0, 0]</td><td>0</td></tr><tr><td>$$y = 6 \\left(x + 1\\right)^{2} + 2$$</td><td>[-1, 2]</td><td>[0, 0]</td><td>0</td></tr></table>"
      ],
      "text/plain": [
       "<IPython.core.display.HTML object>"
      ]
     },
     "metadata": {},
     "output_type": "display_data"
    }
   ],
   "source": [
    "x,y,z=sp.symbols('x,y,z')\n",
    "NTE=Get_PF304_Expr(4)\n",
    "for i,TE in enumerate(NTE):\n",
    "    St=TE[\"St\"]\n",
    "    Val=TE[\"Val\"]\n",
    "    print(f\"第{i}題: 頂點坐標是____  ? \")        \n",
    "    display(Latex(f\" $$ {St} $$ \" ))\n",
    "    plot(TE[\"Plot\"],(x,-100,100))\n",
    "    print(TE[\"Tip\"])\n",
    "    #print(Val)\n",
    "    ans=[]\n",
    "    for idx in range(0,len(Val)):\n",
    "        ax_title=[\"x\",\"y\"]\n",
    "        ax=ax_title[idx % 2]\n",
    "        ans1=input(f\"請作答 {ax}:\") \n",
    "        if ans1==\"\" : ans1=\"0\"\n",
    "        ans.append(parse_expr(lib.Text2St(ans1)))\n",
    "    TE[\"Ans\"]=ans\n",
    "    Flag=0\n",
    "    for v_ in Val:\n",
    "        for a_ in ans:\n",
    "            if(v_==a_): Flag+=1\n",
    "    if Flag>1:                   #比對答案:\n",
    "        print(\"答對!\")                              #答對加一分\n",
    "        TE[\"OK\"]=1\n",
    "    else:                                           #不則\n",
    "        TE[\"OK\"]=0\n",
    "        display(Latex(f\"答案錯誤, 標準答案: $ {Val} $\"))\n",
    "\n",
    "display(Markdown(lib.NTE2TBL(NTE)   ))     "
   ]
  },
  {
   "cell_type": "code",
   "execution_count": null,
   "id": "respiratory-hypothetical",
   "metadata": {},
   "outputs": [],
   "source": [
    "\"\"\"\n",
    "二次函數圖像的性質\n",
    "\n",
    "題型1\t答案式样\t数型及范围\n",
    "y=a(x-h)**2 + k\n",
    "頂點坐標是(h,k)  .\t答: (h,k).\t\n",
    "K為非0整數\n",
    "h,k為整數\n",
    "\n",
    "\"\"\"\n",
    "####################初始化,文件頭,匯入組件#####################################\n",
    "import random                                     #亂數 \n",
    "import sympy as sp                                #sympy 簡易別名 sp    \n",
    "from sympy.parsing.sympy_parser import parse_expr #文字字串, 解釋成, Sympy 運算式\n",
    "from sympy.plotting import plot                   #繪圖表\n",
    "from IPython.display import Latex,HTML,Markdown            #網頁顯示數學符號\n",
    "import lib\n",
    "sp.init_printing(\"mathjax\")                       \n",
    "#sp.init_printing()  \n",
    "def displayTable(NTE):\n",
    "    tablecontext=lib.NTE2MD(NTE)\n",
    "    display(Markdown(tablecontext)) \n",
    "############################################################################\n",
    "def Get_RelationalNumberExpr(QizAmt):\n",
    "    x,y,z=sp.symbols('x,y,z')\n",
    "    sample_list0= list(range(-10,10))   # [-5,-4,-3,-2,-1,1,2,3,4,5]\n",
    "    sample_list1= list(range(-10,10))\n",
    "    sample_list1.remove(0)    # 非零數列\n",
    "    NTE=[]\n",
    "    for i in range(0,QizAmt):\n",
    "        a = random.choice(sample_list1) \n",
    "        h =random.choice(sample_list0)\n",
    "        k =random.choice(sample_list0)\n",
    "        \n",
    "        St=sp.Eq(y,a*(x-h)**2+k )  #, evaluate=False) #字串解釋為可運算式子 expression\n",
    "        Val= [h,k]\n",
    "        \n",
    "        TE={}\n",
    "        TE[\"St\"]=sp.latex(St)\n",
    "        TE[\"Val\"]=Val        \n",
    "        TE[\"Ans\"]=\"-\"\n",
    "        TE[\"OK\"]=0\n",
    "        TE[\"Plot\"]=a*(x-h)**2+k \n",
    "        NTE.append(TE)    \n",
    "    return NTE\n",
    "\n",
    "x,y,z=sp.symbols('x,y,z')\n",
    "QizAmt=4\n",
    "NTE=Get_RelationalNumberExpr(QizAmt)\n",
    "for TE in enumerate(NTE):\n",
    "    St=TE[\"St\"]\n",
    "    Val=TE[\"Val\"]\n",
    "    print(f\"第{i+1}題: 頂點坐標是____  ? \")        \n",
    "    display(Latex(f\" $$ {St} $$ \" ))\n",
    "    plot(TE[\"Plot\"],(x,-100,100))\n",
    "    display(Latex(f\"答案錯誤, 標準答案: $ {Val} $\"))\n",
    "\n",
    "print(f\"總結: 共{QizAmt}題,得 {Mark} 分. \")  #總結得分\n",
    "\n",
    "displayTable(NTE)     \n"
   ]
  }
 ],
 "metadata": {
  "kernelspec": {
   "display_name": "Python 3",
   "language": "python",
   "name": "python3"
  },
  "language_info": {
   "codemirror_mode": {
    "name": "ipython",
    "version": 3
   },
   "file_extension": ".py",
   "mimetype": "text/x-python",
   "name": "python",
   "nbconvert_exporter": "python",
   "pygments_lexer": "ipython3",
   "version": "3.9.9"
  }
 },
 "nbformat": 4,
 "nbformat_minor": 5
}

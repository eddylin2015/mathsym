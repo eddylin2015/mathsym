{
 "cells": [
  {
   "cell_type": "markdown",
   "id": "willing-leadership",
   "metadata": {},
   "source": [
    "# 電腦數學符號運算"
   ]
  },
  {
   "cell_type": "markdown",
   "id": "marked-retreat",
   "metadata": {},
   "source": [
    "### 第3節. 整式的加乘法練習實作\n",
    "安裝 Python 3.8.7\n",
    "- pip install numpy\n",
    "- pip install sympy\n",
    "- pip install jupyterlab\n",
    "- lib.py 自定義函數庫\n",
    "\n",
    "- 整式的加乘法, 開展expand式子\n",
    "\n",
    "f= (x+1)**3 * (x-2)**2\n",
    "\n",
    "display(f)\n",
    "$$ (x+1)^3 * (x-2)^2   $$\n",
    "\n",
    "ans=sp.expand(f)  #開展式子\n",
    "\n",
    "display(ans)\n",
    "\n",
    "$$ x^5−x^4−5x^3+x^2+8x+4 $$"
   ]
  },
  {
   "cell_type": "markdown",
   "id": "weird-judge",
   "metadata": {},
   "source": [
    "整式的乘法練習  \n",
    "題 :    (x+1)**3 * (x-2)**2  \n",
    "標準答案:x**5−x**4−5*x**3+x**2+8*x+4  \n"
   ]
  },
  {
   "cell_type": "code",
   "execution_count": 1,
   "id": "persistent-defense",
   "metadata": {},
   "outputs": [
    {
     "data": {
      "text/markdown": [
       "號|題|值|答|檢查|題型|提示\n",
       "--|--|--|--|--|--|--\n",
       "0|$$\\left(x - 5\\right) \\left(x + 1\\right)$$|x**2 - 4*x - 5||0|-1||0\n",
       "1|$$\\left(x + 1\\right) \\left(x + 1\\right)$$|x**2 + 2*x + 1||0|-1||0\n",
       "2|$$\\left(x + 0\\right) \\left(x + 1\\right)$$|x**2 + x||0|-1||0\n",
       "3|$$\\left(x - 9\\right) \\left(x + 1\\right)$$|x**2 - 8*x - 9||0|-1||0"
      ],
      "text/plain": [
       "<IPython.core.display.Markdown object>"
      ]
     },
     "metadata": {},
     "output_type": "display_data"
    }
   ],
   "source": [
    "import random                                     #亂數 \n",
    "import math                                       #math 內置數學函數\n",
    "import numpy as np                                #數字矩陣\n",
    "import sympy as sp                                #sympy 簡易別名 sp    \n",
    "from sympy.parsing.sympy_parser import parse_expr #文字字串, 解釋成, Sympy 運算式\n",
    "from sympy.plotting import plot                   #繪圖表\n",
    "from IPython.display import Latex,HTML,Markdown                 #網頁顯示數學符號\n",
    "import json                                       #JSON 結構化資料\n",
    "import re\n",
    "sp.init_printing(\"mathjax\")                       #sp.init_printing()  168 \n",
    "import lib\n",
    "from lib import GetTE\n",
    "\"\"\"\n",
    "整式的乘法練習\n",
    "\"\"\"\n",
    "def Get_PF108_Expr(QN):\n",
    "    NTE=[]\n",
    "    for i in range(0,QN):\n",
    "        a = 1 \n",
    "        p=random.choice([-5,-4,-3,-2,-1,1,2,3,4,5])\n",
    "        q=random.choice([-5,-4,-3,-2,-1,1,2,3,4,5])\n",
    "        b=p+q\n",
    "        c=p*q\n",
    "        express_str=f\"(x +({a}))* ( x + ({b}))  \"  #題型 express_str ax+bx+c\n",
    "        St=parse_expr(express_str, evaluate=False) #字串解釋為可運算式子 expression\n",
    "        Val=sp.expand(St)\n",
    "        TE=GetTE(i, sp.latex(St),Val)        \n",
    "        NTE.append(TE)    \n",
    "    return NTE\n",
    "\n",
    "def Put_PF108_Expr(TE):\n",
    "    x=sp.Symbol('x')\n",
    "    Val=TE[\"Val\"]\n",
    "    ans=lib.Text2St(TE[\"Ans\"])\n",
    "    if parse_expr(ans).subs({x:7})==Val.subs({x:7}):                   #比對答案:\n",
    "        TE[\"OK\"]=1\n",
    "    else:                                      #不則\n",
    "        TE[\"OK\"]=0\n",
    "    return TE[\"OK\"]==1\n",
    "\n",
    "def Post_PF108_Expr(NTE):\n",
    "    x=sp.Symbol('x')\n",
    "    for TE in NTE:\n",
    "        Post_PF108_Expr(NTE)\n",
    "\n",
    "if __name__ == \"__main__\":\n",
    "    NTE=Get_PF108_Expr(4)\n",
    "    #Post_PF108_Expr(NTE)\n",
    "    display(Markdown(lib.NTE2TBL(NTE)))"
   ]
  },
  {
   "cell_type": "code",
   "execution_count": 5,
   "id": "under-aberdeen",
   "metadata": {},
   "outputs": [
    {
     "name": "stdout",
     "output_type": "stream",
     "text": [
      "第0題:\n"
     ]
    },
    {
     "data": {
      "text/latex": [
       " $$ \\left(x - 4\\right) \\left(x + 1\\right) $$ "
      ],
      "text/plain": [
       "<IPython.core.display.Latex object>"
      ]
     },
     "metadata": {},
     "output_type": "display_data"
    },
    {
     "name": "stdin",
     "output_type": "stream",
     "text": [
      "請作答: x**2-3x-4\n"
     ]
    },
    {
     "name": "stdout",
     "output_type": "stream",
     "text": [
      "OK\n",
      "第1題:\n"
     ]
    },
    {
     "data": {
      "text/latex": [
       " $$ \\left(x + 1\\right) \\left(x + 5\\right) $$ "
      ],
      "text/plain": [
       "<IPython.core.display.Latex object>"
      ]
     },
     "metadata": {},
     "output_type": "display_data"
    },
    {
     "name": "stdin",
     "output_type": "stream",
     "text": [
      "請作答: 0\n"
     ]
    },
    {
     "name": "stdout",
     "output_type": "stream",
     "text": [
      "Wrong\n",
      "第2題:\n"
     ]
    },
    {
     "data": {
      "text/latex": [
       " $$ \\left(x + 1\\right) \\left(x + 8\\right) $$ "
      ],
      "text/plain": [
       "<IPython.core.display.Latex object>"
      ]
     },
     "metadata": {},
     "output_type": "display_data"
    },
    {
     "name": "stdin",
     "output_type": "stream",
     "text": [
      "請作答: 0\n"
     ]
    },
    {
     "name": "stdout",
     "output_type": "stream",
     "text": [
      "Wrong\n",
      "第3題:\n"
     ]
    },
    {
     "data": {
      "text/latex": [
       " $$ \\left(x + 1\\right) \\left(x + 6\\right) $$ "
      ],
      "text/plain": [
       "<IPython.core.display.Latex object>"
      ]
     },
     "metadata": {},
     "output_type": "display_data"
    },
    {
     "name": "stdin",
     "output_type": "stream",
     "text": [
      "請作答: 0\n"
     ]
    },
    {
     "name": "stdout",
     "output_type": "stream",
     "text": [
      "Wrong\n"
     ]
    },
    {
     "data": {
      "text/markdown": [
       "號|題|值|答|檢查|題型|提示\n",
       "--|--|--|--|--|--|--\n",
       "0|$$\\left(x - 4\\right) \\left(x + 1\\right)$$|x**2 - 3*x - 4|x**2-3x-4|1|-1|\n",
       "1|$$\\left(x + 1\\right) \\left(x + 5\\right)$$|x**2 + 6*x + 5|0|0|-1|\n",
       "2|$$\\left(x + 1\\right) \\left(x + 8\\right)$$|x**2 + 9*x + 8|0|0|-1|\n",
       "3|$$\\left(x + 1\\right) \\left(x + 6\\right)$$|x**2 + 7*x + 6|0|0|-1|"
      ],
      "text/plain": [
       "<IPython.core.display.Markdown object>"
      ]
     },
     "metadata": {},
     "output_type": "display_data"
    }
   ],
   "source": [
    "if __name__ == \"__main__\":\n",
    "    x,y,z=sp.symbols('x,y,z')\n",
    "    NTE=Get_PF108_Expr(4)\n",
    "    for i,TE in enumerate(NTE):\n",
    "        St=TE[\"St\"]\n",
    "        Val=TE[\"Val\"]\n",
    "        print(f\"第{i}題:\")        \n",
    "        display(Latex(f\" $$ {St} $$ \" ))\n",
    "        TE[\"Ans\"]=input(\"請作答:\")  \n",
    "        if Put_PF108_Expr(TE):\n",
    "            print(\"OK\")\n",
    "        else:\n",
    "            print(\"Wrong\")\n",
    "    display(Markdown(lib.NTE2TBL(NTE)))"
   ]
  },
  {
   "cell_type": "code",
   "execution_count": null,
   "id": "according-terror",
   "metadata": {},
   "outputs": [],
   "source": [
    "print(\"end\")\n",
    "import re\n",
    "ans =\"-9x  ^2+25\"\n",
    "ans = re.sub(r\"(\\d)x\", r\"\\1*x\", ans)\n",
    "ans = re.sub(r\"X\", r\"x\", ans)\n",
    "ans = re.sub(r\"x[ ]*\", r\"x\", ans)\n",
    "ans = ans.replace(r\"x^\", r\"x**\")\n",
    "ans\n",
    "\n",
    "f= (x+1)**3 * (x-2)**2\n",
    "print(\"題:\")\n",
    "display(f)\n",
    "\n",
    "ans=sp.expand(f)  #開展式子\n",
    "print(\"解:\")\n",
    "display(ans)\n"
   ]
  },
  {
   "cell_type": "code",
   "execution_count": null,
   "id": "guided-evans",
   "metadata": {},
   "outputs": [],
   "source": [
    "\"\"\"\n",
    "整式的乘法練習\n",
    "題目 :    (x+1)**3 * (x-2)**2\n",
    "標準答案:x**5−x**4−5*x**3+x**2+8*x+4\n",
    "\"\"\"\n",
    "####################初始化,文件頭,匯入組件####\n",
    "import random                          #亂數 \n",
    "import sympy as sp                     #sympy 簡易別名 sp    \n",
    "from IPython.display import Latex,HTML #網頁顯示數學符號\n",
    "inting(\"mathjax\")                      #sp.init_printing()   \n",
    "import lib\n",
    "def displayTable(NTE):\n",
    "    display(HTML(lib.NTE2HTML(NTE))) \n",
    "############################################\n",
    "def Get_RelationalNumberExpr(QN):\n",
    "    x,y,z=sp.symbols('x,y,z')\n",
    "    NTE=[]\n",
    "    for i in range(0,QN):\n",
    "        a = 1 \n",
    "        p=random.choice([-5,-4,-3,-2,-1,1,2,3,4,5])\n",
    "        q=random.choice([-5,-4,-3,-2,-1,1,2,3,4,5])\n",
    "        b=p+q\n",
    "        c=p*q\n",
    "        St=( x + a ) * ( 2 * x + 2 * b)\n",
    "        Val=sp.expand(St)\n",
    "        TE={}\n",
    "        TE[\"St\"]=sp.latex(St)\n",
    "        TE[\"Val\"]=Val        \n",
    "        TE[\"Ans\"]=\"-\"\n",
    "        TE[\"OK\"]=0\n",
    "        NTE.append(TE)    \n",
    "    return NTE\n",
    "\n",
    "x,y,z=sp.symbols('x,y,z')\n",
    "NTE=Get_RelationalNumberExpr(4)\n",
    "displayTable(NTE)\n"
   ]
  }
 ],
 "metadata": {
  "kernelspec": {
   "display_name": "Python 3",
   "language": "python",
   "name": "python3"
  },
  "language_info": {
   "codemirror_mode": {
    "name": "ipython",
    "version": 3
   },
   "file_extension": ".py",
   "mimetype": "text/x-python",
   "name": "python",
   "nbconvert_exporter": "python",
   "pygments_lexer": "ipython3",
   "version": "3.9.9"
  }
 },
 "nbformat": 4,
 "nbformat_minor": 5
}

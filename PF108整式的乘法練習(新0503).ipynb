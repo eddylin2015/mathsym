{
 "cells": [
  {
   "cell_type": "markdown",
   "id": "dressed-journalism",
   "metadata": {},
   "source": [
    "# 電腦數學符號運算"
   ]
  },
  {
   "cell_type": "markdown",
   "id": "experimental-disposal",
   "metadata": {},
   "source": [
    "### 第3節. 整式的加乘法練習實作\n",
    "安裝 Python 3.8.7\n",
    "- pip install numpy\n",
    "- pip install sympy\n",
    "- pip install jupyterlab\n",
    "- lib.py 自定義函數庫\n",
    "\n",
    "- 整式的加乘法, 開展expand式子\n",
    "\n",
    "f= (x+1)**3 * (x-2)**2\n",
    "\n",
    "display(f)\n",
    "$$ (x+1)^3 * (x-2)^2   $$\n",
    "\n",
    "ans=sp.expand(f)  #開展式子\n",
    "\n",
    "display(ans)\n",
    "\n",
    "$$ x^5−x^4−5x^3+x^2+8x+4 $$"
   ]
  },
  {
   "cell_type": "markdown",
   "id": "nominated-rainbow",
   "metadata": {},
   "source": [
    "整式的乘法練習  \n",
    "題 :    (x+1)**3 * (x-2)**2  \n",
    "標準答案:x**5−x**4−5*x**3+x**2+8*x+4  \n"
   ]
  },
  {
   "cell_type": "code",
   "execution_count": 11,
   "id": "twenty-sharp",
   "metadata": {},
   "outputs": [
    {
     "data": {
      "text/markdown": [
       "號|題|值|答|檢查|題型|提示\n",
       "--|--|--|--|--|--|--\n",
       "0|$$ {1} x^{9}  x^{3} ({-1}) x^{9 x + 3} $$|-x**(9*x + 15)||0|0||0\n",
       "1|$$ {-1} x^{7}  x^{2} ({-1}) x^{7 x + 2} $$|x**(7*x + 11)||0|0||0\n",
       "2|$$ {-1} x^{8}  x^{3}  x^{8 x + 3} $$|-x**(8*x + 14)||0|0||0\n",
       "3|$$ {-1} x^{9}  x^{2}  x^{9 x + 2} $$|-x**(9*x + 13)||0|0||0\n",
       "4|$$ {-1} x^{5}  x^{3} ({-1}) x^{5 x + 3} $$|x**(5*x + 11)||0|0||0\n",
       "5|$$ {-1} x^{7}  x^{2}  x^{7 x + 2} $$|-x**(7*x + 11)||0|0||0\n",
       "6|$$ {1} x^{7}  x^{2}  x^{7 x + 2} $$|x**(7*x + 11)||0|0||0\n",
       "7|$$ {-1} x^{6}  x^{2}  x^{6 x + 2} $$|-x**(6*x + 10)||0|0||0\n",
       "8|$$ {-1} x^{7}  x^{4} ({-1}) x^{7 x + 4} $$|x**(7*x + 15)||0|0||0\n",
       "9|$$ {-1} x^{6}  x^{2}  x^{6 x + 2} $$|-x**(6*x + 10)||0|0||0"
      ],
      "text/plain": [
       "<IPython.core.display.Markdown object>"
      ]
     },
     "metadata": {},
     "output_type": "display_data"
    },
    {
     "data": {
      "text/markdown": [
       "號|題|值|答|檢查|題型|提示\n",
       "--|--|--|--|--|--|--\n",
       "0|$$ ({- \\frac{7}{2}} x^{7}  y^{4})^{2} $$|49*x**14*y**8/4||0|1||0\n",
       "1|$$ ({- \\frac{8}{3}} x^{8}  y^{7})^{3} $$|-512*x**24*y**21/27||0|1||0\n",
       "2|$$ ({- \\frac{8}{3}} x^{8}  y^{6})^{3} $$|-512*x**24*y**18/27||0|1||0\n",
       "3|$$ ({-1} x^{4}  y^{3})^{4} $$|x**16*y**12||0|1||0\n",
       "4|$$ ({- \\frac{5}{2}} x^{5}  y^{7})^{3} $$|-125*x**15*y**21/8||0|1||0\n",
       "5|$$ ({\\frac{8}{3}} x^{8}  y^{4})^{4} $$|4096*x**32*y**16/81||0|1||0\n",
       "6|$$ ({- \\frac{3}{5}} x^{3}  y^{7})^{3} $$|-27*x**9*y**21/125||0|1||0\n",
       "7|$$ ({\\frac{5}{4}} x^{5}  y^{5})^{4} $$|625*x**20*y**20/256||0|1||0\n",
       "8|$$ ({- \\frac{3}{5}} x^{3}  y^{7})^{4} $$|81*x**12*y**28/625||0|1||0\n",
       "9|$$ ({- \\frac{5}{3}} x^{5}  y^{2})^{3} $$|-125*x**15*y**6/27||0|1||0"
      ],
      "text/plain": [
       "<IPython.core.display.Markdown object>"
      ]
     },
     "metadata": {},
     "output_type": "display_data"
    },
    {
     "data": {
      "text/markdown": [
       "號|題|值|答|檢查|題型|提示\n",
       "--|--|--|--|--|--|--\n",
       "0|$$ ({- \\frac{5}{4}} x^{2}  y^{2})^{1}({- \\frac{4}{5}} x^{1}  y^{3}) $$|x**3*y**5||0|2||0\n",
       "1|$$ ({\\frac{1}{2}} x^{6}  y^{3})^{2}({4} x^{2}  y^{4}) $$|x**14*y**10||0|2||0\n",
       "2|$$ ({-2} x^{6}  y^{5})^{1}({- \\frac{1}{2}} x^{1}  y^{2}) $$|x**7*y**7||0|2||0\n",
       "3|$$ ({\\frac{3}{2}} x^{3}  y^{2})^{2}({\\frac{4}{3}} x^{2}  y^{3}) $$|3*x**8*y**7||0|2||0\n",
       "4|$$ ({- \\frac{2}{3}} x^{3}  y^{4})^{1}({- \\frac{3}{2}} x^{1}  y^{3}) $$|x**4*y**7||0|2||0\n",
       "5|$$ ({\\frac{5}{3}} x^{5}  y^{2})^{1}({\\frac{3}{5}} x^{1}  y^{4}) $$|x**6*y**6||0|2||0\n",
       "6|$$ ({\\frac{9}{4}} x^{3}  y^{5})^{3}({\\frac{4}{3}} x^{3}  y^{2}) $$|243*x**12*y**17/16||0|2||0\n",
       "7|$$ ({-8} x^{4}  y^{3})^{1}({- \\frac{1}{8}} x^{1}  y^{3}) $$|x**5*y**6||0|2||0\n",
       "8|$$ ({- \\frac{3}{2}} x^{3}  y^{4})^{3}({-2} x^{3}  y^{3}) $$|27*x**12*y**15/4||0|2||0\n",
       "9|$$ ({\\frac{7}{4}} x^{6}  y^{6})^{1}({\\frac{4}{7}} x^{1}  y^{3}) $$|x**7*y**9||0|2||0"
      ],
      "text/plain": [
       "<IPython.core.display.Markdown object>"
      ]
     },
     "metadata": {},
     "output_type": "display_data"
    },
    {
     "data": {
      "text/markdown": [
       "號|題|值|答|檢查|題型|提示\n",
       "--|--|--|--|--|--|--\n",
       "0|$$({5}x^{5}  y^{6} + {\\frac{25}{4}} x^{2} y^{7})({\\frac{4}{5}} x^{4}  y^{3})$$|x**6*y**9*(4*x**3 + 5*y)||0|3||0\n",
       "1|$$({\\frac{3}{2}}x^{2}  y^{3} + {1} x^{7} y^{7})({2} x^{3}  y^{2})$$|x**5*y**5*(2*x**5*y**4 + 3)||0|3||0\n",
       "2|$$({-20}x^{5}  y^{5} + {-25} x^{2} y^{3})({- \\frac{1}{5}} x^{4}  y^{8})$$|x**6*y**11*(4*x**3*y**2 + 5)||0|3||0\n",
       "3|$$({- \\frac{14}{3}}x^{7}  y^{7} + {- \\frac{49}{3}} x^{2} y^{8})({- \\frac{3}{7}} x^{2}  y^{6})$$|x**4*y**13*(2*x**5 + 7*y)||0|3||0\n",
       "4|$$({4}x^{6}  y^{9} + {12} x^{3} y^{7})({\\frac{1}{2}} x^{2}  y^{6})$$|2*x**5*y**13*(x**3*y**2 + 3)||0|3||0\n",
       "5|$$({- \\frac{14}{3}}x^{7}  y^{9} + {- \\frac{49}{3}} x^{5} y^{4})({- \\frac{3}{7}} x^{2}  y^{8})$$|x**7*y**12*(2*x**2*y**5 + 7)||0|3||0\n",
       "6|$$({\\frac{6}{5}}x^{2}  y^{4} + {\\frac{4}{5}} x^{3} y^{6})({\\frac{5}{2}} x^{3}  y^{4})$$|x**5*y**8*(2*x*y**2 + 3)||0|3||0\n",
       "7|$$({-2}x^{3}  y^{8} + {-3} x^{5} y^{2})({-1} x^{2}  y^{2})$$|x**5*y**4*(3*x**2 + 2*y**6)||0|3||0\n",
       "8|$$({9}x^{9}  y^{3} + {\\frac{81}{2}} x^{8} y^{5})({\\frac{2}{9}} x^{2}  y^{6})$$|x**10*y**9*(2*x + 9*y**2)||0|3||0\n",
       "9|$$({- \\frac{3}{2}}x^{2}  y^{7} + {-1} x^{5} y^{3})({-2} x^{3}  y^{8})$$|x**5*y**11*(2*x**3 + 3*y**4)||0|3||0"
      ],
      "text/plain": [
       "<IPython.core.display.Markdown object>"
      ]
     },
     "metadata": {},
     "output_type": "display_data"
    },
    {
     "data": {
      "text/markdown": [
       "號|題|值|答|檢查|題型|提示\n",
       "--|--|--|--|--|--|--\n",
       "0|$$({5} x^{3} +{-9} y^{1})({9} x^{3} + {3} y^{1})$$|3*(3*x**3 + y)*(5*x**3 - 9*y)||0|4||0\n",
       "1|$$({2} x^{2} +{2} y^{1})({-9} x^{2} + {4} y^{1})$$|-2*(x**2 + y)*(9*x**2 - 4*y)||0|4||0\n",
       "2|$$({4} x^{2} +{8} y^{1})({-7} x^{2} + {5} y^{1})$$|-28*x**4 - 36*x**2*y + 40*y**2||0|4||0\n",
       "3|$$({-5} x^{2} +{-5} y^{2})({6} x^{2} + {4} y^{2})$$|-10*(x**2 + y**2)*(3*x**2 + 2*y**2)||0|4||0\n",
       "4|$$({-1} x^{2} +{-7} y^{2})({7} x^{2} + {2} y^{2})$$|-(x**2 + 7*y**2)*(7*x**2 + 2*y**2)||0|4||0\n",
       "5|$$({-4} x^{2} +{-6} y^{2})({9} x^{2} + {3} y^{2})$$|-36*x**4 - 66*x**2*y**2 - 18*y**4||0|4||0\n",
       "6|$$({-2} x^{3} +{-5} y^{1})({8} x^{3} + {4} y^{1})$$|-4*(2*x**3 + y)*(2*x**3 + 5*y)||0|4||0\n",
       "7|$$({2} x^{2} +{8} y^{2})({5} x^{2} + {9} y^{2})$$|10*x**4 + 58*x**2*y**2 + 72*y**4||0|4||0\n",
       "8|$$({-5} x^{2} +{8} y^{3})({5} x^{2} + {6} y^{3})$$|-25*x**4 + 10*x**2*y**3 + 48*y**6||0|4||0\n",
       "9|$$({5} x^{3} +{-7} y^{2})({9} x^{3} + {9} y^{2})$$|9*(x**3 + y**2)*(5*x**3 - 7*y**2)||0|4||0"
      ],
      "text/plain": [
       "<IPython.core.display.Markdown object>"
      ]
     },
     "metadata": {},
     "output_type": "display_data"
    }
   ],
   "source": [
    "import random                                     #亂數 \n",
    "import math                                       #math 內置數學函數\n",
    "import numpy as np                                #數字矩陣\n",
    "import sympy as sp                                #sympy 簡易別名 sp    \n",
    "from sympy.parsing.sympy_parser import parse_expr #文字字串, 解釋成, Sympy 運算式\n",
    "from sympy.plotting import plot                   #繪圖表\n",
    "from IPython.display import Latex,HTML,Markdown                 #網頁顯示數學符號\n",
    "import json                                       #JSON 結構化資料\n",
    "import re\n",
    "sp.init_printing(\"mathjax\")                       #sp.init_printing()  168 \n",
    "import lib\n",
    "from lib import GetTE\n",
    "def Get_PF108_Expr(QN,Tx=-1):\n",
    "    NTE = []\n",
    "\n",
    "    for Qid in range(0, QN):\n",
    "        x=sp.Symbol('x')\n",
    "        y=sp.Symbol('y')\n",
    "        a=random.choice([2,3,4,5,6,7,8,9])\n",
    "        b=random.choice([-5,-4,-3,-2,-1,2,3,4,5])\n",
    "        c=random.choice([2,3,4,5,6,7,8,9])\n",
    "        d=random.choice([2,3,4])\n",
    "        e=random.choice([-1,1])\n",
    "        f=random.choice([-1,1])\n",
    "        fac1=sp.Rational(a,b)\n",
    "        if Tx==0:\n",
    "            #print(\"\"\"同底數冪相乘\"\"\")\n",
    "            ji=a*x+d\n",
    "            St=e*x**a*x**d*(f)*x**ji   \n",
    "            St_latex=r\" {%s} x^{%s}  x^{%s} ({%s}) x^{%s} \" %(e,a,d,f,sp.latex(ji))\n",
    "            if f==1:\n",
    "                St_latex=r\" {%s} x^{%s}  x^{%s}  x^{%s} \" %(e,a,d,sp.latex(ji))\n",
    "            #display(Latex(st_st))\n",
    "            #val=sp.simplify(st)\n",
    "            #display(val)\n",
    "            Val = sp.simplify(St)\n",
    "            TE = GetTE(Qid, St_latex, Val, Tx)\n",
    "            NTE.append(TE)\n",
    "\n",
    "        elif Tx==1:            \n",
    "            #print(\"\"\"冪的乘方\"\"\")\n",
    "            ji=a*x+d\n",
    "            St=(fac1*x**a*y**c)**d\n",
    "            St_latex=r\" ({%s} x^{%s}  y^{%s})^{%s} \" %(sp.latex(fac1),a,c,d)\n",
    "            #display(Latex(st_st))\n",
    "            #val=sp.simplify(st)\n",
    "            #display(val)\n",
    "            Val = sp.simplify(St)\n",
    "            TE = GetTE(Qid, St_latex, Val, Tx)\n",
    "            NTE.append(TE)\n",
    "\n",
    "        elif Tx==2:            \n",
    "            #print(\"\"\"單項式乘以單項式\"\"\")\n",
    "            b=random.choice([-4,-3,-2,-1,2,3,4])\n",
    "            d=random.choice([1,2,3])\n",
    "            e=random.choice([2,3,4])\n",
    "            f=random.choice([-1,1])\n",
    "            g=random.choice([-1,1])\n",
    "            m=random.choice([2,3,4,5,6])\n",
    "            n=random.choice([2,3,4,5,6])\n",
    "            fac1=sp.Rational(a,b)\n",
    "            fac2=sp.Rational(b,a)*d\n",
    "            St=(fac1*x**m*y**n)**d*(fac2*x**d*y**e)\n",
    "            St_latex=r\" ({%s} x^{%s}  y^{%s})^{%s}({%s} x^{%s}  y^{%s}) \" %(sp.latex(fac1),m,n,d,sp.latex(fac2),d,e)\n",
    "            #display(Latex(st_st))\n",
    "            #val=sp.simplify(st)\n",
    "            #display(val)\n",
    "            Val = sp.simplify(St)\n",
    "            TE = GetTE(Qid, St_latex, Val, Tx)\n",
    "            NTE.append(TE)\n",
    "\n",
    "        elif Tx==3:            \n",
    "            #print(\"\"\"單項式與多項式的乘法\"\"\")\n",
    "            c=random.choice([2,3,4,5,6,7,8,9])\n",
    "            g=random.choice([2,3,4,5,6,7,8,9])\n",
    "            i=random.choice([2,3,4,5,6,7,8,9])\n",
    "            d=random.choice([2,3,4])\n",
    "            e=random.choice([-1,1])\n",
    "            f=random.choice([-1,1])\n",
    "            h=random.choice([2,3,4,5,6,7,8,9])\n",
    "            fac1=sp.Rational(a,b)*d\n",
    "            fac2=sp.Rational(a,b)*a\n",
    "            fac3=sp.Rational(b,a)\n",
    "            ji=a*x+d\n",
    "            St=(fac1*x**a*y**c+fac2*x**g*y**i)*fac3*x**d*y**h\n",
    "            St_latex=r\"({%s}x^{%s}  y^{%s} + {%s} x^{%s} y^{%s})({%s} x^{%s}  y^{%s})\" %(sp.latex(fac1),a,c,sp.latex(fac2),g,i,sp.latex(fac3),d,h)\n",
    "            #display(Latex(st_st))\n",
    "            #val=sp.expand(st)\n",
    "            #display(val)\n",
    "            Val = sp.simplify(St)\n",
    "            TE = GetTE(Qid, St_latex, Val, Tx)\n",
    "            NTE.append(TE)\n",
    "\n",
    "        elif Tx==4:            \n",
    "            #print(\"\"\"多項式的乘法\"\"\")\n",
    "            m=random.choice([-9,-7,-6,-5,-4,-3,-2,2,3,4,5,6,7,8,9])\n",
    "            n=random.choice([-9,-7,-6,-5,-4,-3,-2,2,3,4,5,6,7,8,9])\n",
    "            c=random.choice([2,3,4,5,6,7,8,9,])\n",
    "            g=random.choice([2,3,4,5,6,7,8,9])\n",
    "            i=random.choice([2,3,4,5,6,7,8,9])\n",
    "            d=random.choice([1,2,3])\n",
    "            k=random.choice([1,2,3])\n",
    "            e=random.choice([-1,1])\n",
    "            f=random.choice([-1,1])\n",
    "            h=random.choice([2,3,4,5,6,7,8,9])\n",
    "            fac1=sp.Rational(a,b)*d\n",
    "            fac2=sp.Rational(a,b)*a\n",
    "            fac3=sp.Rational(b,a)\n",
    "            ji=a*x+d\n",
    "            St=(b*x**d+m*y**k)*(n*x**d+a*y**k)\n",
    "            St_latex=r\"({%s} x^{%s} +{%s} y^{%s})({%s} x^{%s} + {%s} y^{%s})\" %(b,d,m,k,n,d,a,k)\n",
    "            #display(Latex(st_st))\n",
    "            #val=sp.expand(st)\n",
    "            #display(val)        \n",
    "            Val = sp.simplify(St)\n",
    "            TE = GetTE(Qid, St_latex, Val, Tx)\n",
    "            NTE.append(TE)\n",
    "    return NTE\n",
    "\n",
    "\n",
    "if __name__ == \"__main__\":\n",
    "    for i in range(5):\n",
    "        NTE=Get_PF108_Expr(10,i)\n",
    "        #Post_PF108_Expr(NTE)\n",
    "        display(Markdown(lib.NTE2TBL(NTE)))"
   ]
  },
  {
   "cell_type": "code",
   "execution_count": null,
   "id": "answering-diversity",
   "metadata": {},
   "outputs": [],
   "source": []
  },
  {
   "cell_type": "code",
   "execution_count": 10,
   "id": "hearing-agenda",
   "metadata": {},
   "outputs": [
    {
     "name": "stdout",
     "output_type": "stream",
     "text": [
      "同底數冪相乘\n"
     ]
    },
    {
     "data": {
      "text/latex": [
       "$ {1} x^{6}  x^{4} ({-1}) x^{6 x + 4} $"
      ],
      "text/plain": [
       "<IPython.core.display.Latex object>"
      ]
     },
     "metadata": {},
     "output_type": "display_data"
    },
    {
     "data": {
      "image/png": "[encoded data removed]",
      "text/latex": [
       "$\\displaystyle - x^{6 x + 14}$"
      ],
      "text/plain": [
       "  6⋅x + 14\n",
       "-x        "
      ]
     },
     "metadata": {},
     "output_type": "display_data"
    }
   ],
   "source": [
    "\n",
    "import random                                     #亂數 \n",
    "import math                                       #math 內置數學函數\n",
    "import numpy as np                                #數字矩陣\n",
    "import sympy as sp                                #sympy 簡易別名 sp    \n",
    "from sympy.parsing.sympy_parser import parse_expr #文字字串, 解釋成, Sympy 運算式\n",
    "from sympy.plotting import plot                   #繪圖表\n",
    "from IPython.display import Latex,HTML,Markdown                 #網頁顯示數學符號\n",
    "import json                                       #JSON 結構化資料\n",
    "import re\n",
    "sp.init_printing(\"mathjax\")                       #sp.init_printing()  168 \n",
    "import lib\n",
    "x=sp.Symbol('x')\n",
    "y=sp.Symbol('y')\n",
    "a=random.choice([2,3,4,5,6,7,8,9])\n",
    "b=random.choice([-5,-4,-3,-2,-1,2,3,4,5])\n",
    "c=random.choice([2,3,4,5,6,7,8,9])\n",
    "d=random.choice([2,3,4])\n",
    "e=random.choice([-1,1])\n",
    "f=random.choice([-1,1])\n",
    "fac1=sp.Rational(a,b)\n",
    "print(\"\"\"同底數冪相乘\"\"\")\n",
    "ji=a*x+d\n",
    "st=e*x**a*x**d*(f)*x**ji   \n",
    "st_st=r\"$ {%s} x^{%s}  x^{%s} ({%s}) x^{%s} $\" %(e,a,d,f,sp.latex(ji))\n",
    "if f==1:\n",
    "    st_st=r\"$ {%s} x^{%s}  x^{%s}  x^{%s} $\" %(e,a,d,sp.latex(ji))\n",
    "display(Latex(st_st))\n",
    "val=sp.simplify(st)\n",
    "display(val)\n"
   ]
  },
  {
   "cell_type": "code",
   "execution_count": null,
   "id": "worthy-ability",
   "metadata": {},
   "outputs": [],
   "source": []
  },
  {
   "cell_type": "code",
   "execution_count": 5,
   "id": "literary-naples",
   "metadata": {},
   "outputs": [
    {
     "data": {
      "text/latex": [
       "$ ({-6} x^{6}  y^{4})^{2} $"
      ],
      "text/plain": [
       "<IPython.core.display.Latex object>"
      ]
     },
     "metadata": {},
     "output_type": "display_data"
    },
    {
     "data": {
      "image/png": "[encoded data removed]",
      "text/latex": [
       "$\\displaystyle 36 x^{12} y^{8}$"
      ],
      "text/plain": [
       "    12  8\n",
       "36⋅x  ⋅y "
      ]
     },
     "metadata": {},
     "output_type": "display_data"
    }
   ],
   "source": [
    "\n",
    "import random                                     #亂數 \n",
    "import math                                       #math 內置數學函數\n",
    "import numpy as np                                #數字矩陣\n",
    "import sympy as sp                                #sympy 簡易別名 sp    \n",
    "from sympy.parsing.sympy_parser import parse_expr #文字字串, 解釋成, Sympy 運算式\n",
    "from sympy.plotting import plot                   #繪圖表\n",
    "from IPython.display import Latex,HTML,Markdown                 #網頁顯示數學符號\n",
    "import json                                       #JSON 結構化資料\n",
    "import re\n",
    "sp.init_printing(\"mathjax\")                       #sp.init_printing()  168 \n",
    "import lib\n",
    "\"\"\"\n",
    "冪的乘方\n",
    "\"\"\"\n",
    "x=sp.Symbol('x')\n",
    "y=sp.Symbol('y')\n",
    "a=random.choice([2,3,4,5,6,7,8,9])\n",
    "b=random.choice([-5,-4,-3,-2,-1,2,3,4,5])\n",
    "c=random.choice([2,3,4,5,6,7,8,9,])\n",
    "d=random.choice([2,3,4])\n",
    "e=random.choice([-1,1])\n",
    "f=random.choice([-1,1])\n",
    "fac1=sp.Rational(a,b)\n",
    "ji=a*x+d\n",
    "st=(fac1*x**a*y**c)**d\n",
    "st_st=r\"$ ({%s} x^{%s}  y^{%s})^{%s} $\" %(sp.latex(fac1),a,c,d)\n",
    "display(Latex(st_st))\n",
    "val=sp.simplify(st)\n",
    "display(val)\n",
    "\n",
    "\n",
    "\n",
    "\n"
   ]
  },
  {
   "cell_type": "code",
   "execution_count": null,
   "id": "directed-magnet",
   "metadata": {},
   "outputs": [],
   "source": []
  },
  {
   "cell_type": "code",
   "execution_count": 6,
   "id": "supreme-craps",
   "metadata": {},
   "outputs": [
    {
     "data": {
      "text/latex": [
       "$ ({- \\frac{2}{3}} x^{2}  y^{3})^{2}({-3} x^{2}  y^{2}) $"
      ],
      "text/plain": [
       "<IPython.core.display.Latex object>"
      ]
     },
     "metadata": {},
     "output_type": "display_data"
    },
    {
     "data": {
      "image/png": "[encoded data removed]",
      "text/latex": [
       "$\\displaystyle - \\frac{4 x^{6} y^{8}}{3}$"
      ],
      "text/plain": [
       "    6  8 \n",
       "-4⋅x ⋅y  \n",
       "─────────\n",
       "    3    "
      ]
     },
     "metadata": {},
     "output_type": "display_data"
    }
   ],
   "source": [
    "\n",
    "import random                                     #亂數 \n",
    "import math                                       #math 內置數學函數\n",
    "import numpy as np                                #數字矩陣\n",
    "import sympy as sp                                #sympy 簡易別名 sp    \n",
    "from sympy.parsing.sympy_parser import parse_expr #文字字串, 解釋成, Sympy 運算式\n",
    "from sympy.plotting import plot                   #繪圖表\n",
    "from IPython.display import Latex,HTML,Markdown                 #網頁顯示數學符號\n",
    "import json                                       #JSON 結構化資料\n",
    "import re\n",
    "sp.init_printing(\"mathjax\")                       #sp.init_printing()  168 \n",
    "import lib\n",
    "\"\"\"\n",
    "單項式乘以單項式\n",
    "\"\"\"\n",
    "x=sp.Symbol('x')\n",
    "y=sp.Symbol('y')\n",
    "a=random.choice([2,3,4,5,6,7])\n",
    "b=random.choice([-4,-3,-2,-1,2,3,4])\n",
    "c=random.choice([2,3,4,5,6,7,8,9,])\n",
    "d=random.choice([1,2,3])\n",
    "e=random.choice([2,3,4])\n",
    "f=random.choice([-1,1])\n",
    "g=random.choice([-1,1])\n",
    "m=random.choice([2,3,4,5,6])\n",
    "n=random.choice([2,3,4,5,6])\n",
    "fac1=sp.Rational(a,b)\n",
    "fac2=sp.Rational(b,a)*d\n",
    "st=(fac1*x**m*y**n)**d*(fac2*x**d*y**e)\n",
    "st_st=r\"$ ({%s} x^{%s}  y^{%s})^{%s}({%s} x^{%s}  y^{%s}) $\" %(sp.latex(fac1),m,n,d,sp.latex(fac2),d,e)\n",
    "display(Latex(st_st))\n",
    "val=sp.simplify(st)\n",
    "display(val)\n",
    "\n",
    "\n",
    "\n",
    "\n"
   ]
  },
  {
   "cell_type": "code",
   "execution_count": null,
   "id": "maritime-grove",
   "metadata": {},
   "outputs": [],
   "source": []
  },
  {
   "cell_type": "code",
   "execution_count": 96,
   "id": "minute-bhutan",
   "metadata": {},
   "outputs": [
    {
     "data": {
      "text/latex": [
       "$ ({\\frac{24}{5}}x^{6}  y^{3} + {\\frac{36}{5}} x^{2} y^{9})({\\frac{5}{6}} x^{4}  y^{6})$"
      ],
      "text/plain": [
       "<IPython.core.display.Latex object>"
      ]
     },
     "metadata": {},
     "output_type": "display_data"
    },
    {
     "data": {
      "text/latex": [
       "$\\displaystyle 4 x^{10} y^{9} + 6 x^{6} y^{15}$"
      ],
      "text/plain": [
       "   10  9      6  15\n",
       "4⋅x  ⋅y  + 6⋅x ⋅y  "
      ]
     },
     "metadata": {},
     "output_type": "display_data"
    }
   ],
   "source": [
    "\n",
    "import random                                     #亂數 \n",
    "import math                                       #math 內置數學函數\n",
    "import numpy as np                                #數字矩陣\n",
    "import sympy as sp                                #sympy 簡易別名 sp    \n",
    "from sympy.parsing.sympy_parser import parse_expr #文字字串, 解釋成, Sympy 運算式\n",
    "from sympy.plotting import plot                   #繪圖表\n",
    "from IPython.display import Latex,HTML,Markdown                 #網頁顯示數學符號\n",
    "import json                                       #JSON 結構化資料\n",
    "import re\n",
    "sp.init_printing(\"mathjax\")                       #sp.init_printing()  168 \n",
    "import lib\n",
    "\"\"\"\n",
    "單項式與多項式的乘法\n",
    "\"\"\"\n",
    "x=sp.Symbol('x')\n",
    "y=sp.Symbol('y')\n",
    "a=random.choice([2,3,4,5,6,7,8,9])\n",
    "b=random.choice([-5,-4,-3,-2,-1,2,3,4,5])\n",
    "c=random.choice([2,3,4,5,6,7,8,9,])\n",
    "g=random.choice([2,3,4,5,6,7,8,9])\n",
    "i=random.choice([2,3,4,5,6,7,8,9])\n",
    "d=random.choice([2,3,4])\n",
    "e=random.choice([-1,1])\n",
    "f=random.choice([-1,1])\n",
    "h=random.choice([2,3,4,5,6,7,8,9])\n",
    "fac1=sp.Rational(a,b)*d\n",
    "fac2=sp.Rational(a,b)*a\n",
    "fac3=sp.Rational(b,a)\n",
    "ji=a*x+d\n",
    "st=(fac1*x**a*y**c+fac2*x**g*y**i)*fac3*x**d*y**h\n",
    "st_st=r\"$ ({%s}x^{%s}  y^{%s} + {%s} x^{%s} y^{%s})({%s} x^{%s}  y^{%s})$\" %(sp.latex(fac1),a,c,sp.latex(fac2),g,i,sp.latex(fac3),d,h)\n",
    "display(Latex(st_st))\n",
    "val=sp.expand(st)\n",
    "display(val)\n",
    "\n",
    "\n",
    "\n",
    "\n"
   ]
  },
  {
   "cell_type": "code",
   "execution_count": null,
   "id": "geological-stewart",
   "metadata": {},
   "outputs": [],
   "source": []
  },
  {
   "cell_type": "code",
   "execution_count": null,
   "id": "heated-sample",
   "metadata": {},
   "outputs": [],
   "source": []
  },
  {
   "cell_type": "code",
   "execution_count": 14,
   "id": "controlling-imagination",
   "metadata": {},
   "outputs": [
    {
     "data": {
      "text/latex": [
       "$ ({4} x^{2} +{-9} y^{2})({3} x^{2} + {6} y^{2})$"
      ],
      "text/plain": [
       "<IPython.core.display.Latex object>"
      ]
     },
     "metadata": {},
     "output_type": "display_data"
    },
    {
     "data": {
      "image/png": "[encoded data removed]",
      "text/latex": [
       "$\\displaystyle 12 x^{4} - 3 x^{2} y^{2} - 54 y^{4}$"
      ],
      "text/plain": [
       "    4      2  2       4\n",
       "12⋅x  - 3⋅x ⋅y  - 54⋅y "
      ]
     },
     "metadata": {},
     "output_type": "display_data"
    }
   ],
   "source": [
    "\n",
    "import random                                     #亂數 \n",
    "import math                                       #math 內置數學函數\n",
    "import numpy as np                                #數字矩陣\n",
    "import sympy as sp                                #sympy 簡易別名 sp    \n",
    "from sympy.parsing.sympy_parser import parse_expr #文字字串, 解釋成, Sympy 運算式\n",
    "from sympy.plotting import plot                   #繪圖表\n",
    "from IPython.display import Latex,HTML,Markdown                 #網頁顯示數學符號\n",
    "import json                                       #JSON 結構化資料\n",
    "import re\n",
    "sp.init_printing(\"mathjax\")                       #sp.init_printing()  168 \n",
    "import lib\n",
    "\"\"\"\n",
    "多項式的乘法\n",
    "\"\"\"\n",
    "x=sp.Symbol('x')\n",
    "y=sp.Symbol('y')\n",
    "a=random.choice([2,3,4,5,6,7,8,9])\n",
    "b=random.choice([-5,-4,-3,-2,-1,2,3,4,5])\n",
    "m=random.choice([-9,-7,-6,-5,-4,-3,-2,2,3,4,5,6,7,8,9])\n",
    "n=random.choice([-9,-7,-6,-5,-4,-3,-2,2,3,4,5,6,7,8,9])\n",
    "c=random.choice([2,3,4,5,6,7,8,9,])\n",
    "g=random.choice([2,3,4,5,6,7,8,9])\n",
    "i=random.choice([2,3,4,5,6,7,8,9])\n",
    "d=random.choice([1,2,3])\n",
    "k=random.choice([1,2,3])\n",
    "e=random.choice([-1,1])\n",
    "f=random.choice([-1,1])\n",
    "h=random.choice([2,3,4,5,6,7,8,9])\n",
    "fac1=sp.Rational(a,b)*d\n",
    "fac2=sp.Rational(a,b)*a\n",
    "fac3=sp.Rational(b,a)\n",
    "ji=a*x+d\n",
    "st=(b*x**d+m*y**k)*(n*x**d+a*y**k)\n",
    "st_st=r\"$ ({%s} x^{%s} +{%s} y^{%s})({%s} x^{%s} + {%s} y^{%s})$\" %(b,d,m,k,n,d,a,k)\n",
    "display(Latex(st_st))\n",
    "val=sp.expand(st)\n",
    "display(val)\n",
    "\n",
    "\n",
    "\n",
    "\n"
   ]
  },
  {
   "cell_type": "code",
   "execution_count": null,
   "id": "composed-voltage",
   "metadata": {},
   "outputs": [],
   "source": []
  }
 ],
 "metadata": {
  "kernelspec": {
   "display_name": "Python 3",
   "language": "python",
   "name": "python3"
  },
  "language_info": {
   "codemirror_mode": {
    "name": "ipython",
    "version": 3
   },
   "file_extension": ".py",
   "mimetype": "text/x-python",
   "name": "python",
   "nbconvert_exporter": "python",
   "pygments_lexer": "ipython3",
   "version": "3.9.10"
  }
 },
 "nbformat": 4,
 "nbformat_minor": 5
}

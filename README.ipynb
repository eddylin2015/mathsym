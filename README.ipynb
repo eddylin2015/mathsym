{
 "cells": [
  {
   "cell_type": "markdown",
   "metadata": {},
   "source": [
    "# 電腦與初級數學教學\n",
    "\n",
    "電腦與初級數學教學應用,在中學階段教學中, 例如 Geogebra、 几何畫板、 三角函數建3D模型等, 引入課堂。在篇文章主要介紹Python在初級代數中表現, Python在科學運算中的優異性, 算式直觀地表逹, 零編程也可以學識Pyhton科學運算。預備工作可請資訊老師代勞以及測試工作環境,可以直接轉至初級數學知識點電腦運算方法。本章的程式代碼簡化便於理解, 具體代碼可以參考[README.ipynb](README.ipynb)和題型練習程式代碼。"
   ]
  },
  {
   "cell_type": "markdown",
   "metadata": {},
   "source": [
    "## 一.預備工作:  \n",
    "預備可請資訊老師代為安裝測試。可以跳至第5點,簡單複製代碼,試用一下。\n",
    "### 1. Python 3.9.x,以及第三方組件\n",
    "\n",
    "- https://www.python.org/\n",
    "\n",
    "下載安裝Python 3.9.x\n",
    "\n",
    "- 使用命令行指令 Win+R cmd\n",
    "\n",
    "```console\n",
    "c:\\Users\\pi>pip install numpy sympy scipy matplotlib jupyterlab graphviz\n",
    "```\n",
    "### 2.工作環境, 命令行執行jupyter notebook\n",
    "```console\n",
    "c:\\Users\\pi>jupyter notebook\n",
    "```\n",
    "![](https://www.dev2qa.com/wp-content/uploads/2019/03/create-new-jupyter-notebook-execute-python-file.png)\n",
    "\n",
    "\n",
    "### 3.Latex 數學印刷體(MathJax網頁版)\n",
    "|          |   Latex  |   | \n",
    "|----------|----------|----------|\n",
    "| 分數 a/b  | \\frac{a}{b}   | $\\Large \\frac{a}{b}$ |\n",
    "| 指數 a^b  | a^{b}    |  $\\Large {a}^{b}$ |\n",
    "|對數 log(a,b) | \\log_{b}{a}| $\\Large \\log_{b}{a}$|\n",
    "|開方 sqrt(x+y) | \\sqrt[]{x+y}  |  $\\sqrt{x+y}$ |\n",
    "|求根公式 | x=\\frac{-b\\pm\\sqrt{b^2-4ac}}{2a}  | $\\Large x=\\frac{-b\\pm\\sqrt{b^2-4ac}}{2a} $ |\n",
    "\n",
    "jupyter notebook 實作數學印刷體\n",
    "![](img/latex_sample.png)"
   ]
  },
  {
   "cell_type": "code",
   "execution_count": 15,
   "metadata": {},
   "outputs": [
    {
     "data": {
      "text/latex": [
       "$\\displaystyle  \\frac{a}{b}                       $"
      ],
      "text/plain": [
       "<IPython.core.display.Math object>"
      ]
     },
     "metadata": {},
     "output_type": "display_data"
    },
    {
     "data": {
      "text/latex": [
       "$\\displaystyle  a^{b}                             $"
      ],
      "text/plain": [
       "<IPython.core.display.Math object>"
      ]
     },
     "metadata": {},
     "output_type": "display_data"
    },
    {
     "data": {
      "text/latex": [
       "$\\displaystyle  \\log_{b}{a}                       $"
      ],
      "text/plain": [
       "<IPython.core.display.Math object>"
      ]
     },
     "metadata": {},
     "output_type": "display_data"
    },
    {
     "data": {
      "text/latex": [
       "$\\displaystyle  \\sqrt[]{x+y}                      $"
      ],
      "text/plain": [
       "<IPython.core.display.Math object>"
      ]
     },
     "metadata": {},
     "output_type": "display_data"
    },
    {
     "data": {
      "text/latex": [
       "$\\displaystyle  x=\\frac{-b\\pm\\sqrt{b^2-4ac}}{2a}  $"
      ],
      "text/plain": [
       "<IPython.core.display.Math object>"
      ]
     },
     "metadata": {},
     "output_type": "display_data"
    },
    {
     "data": {
      "image/png": "[encoded data removed]",
      "text/latex": [
       "$\\displaystyle \\frac{3 \\pi}{2} + \\frac{e^{i x}}{x^{2} + y}$"
      ],
      "text/plain": [
       "        ⅈ⋅x \n",
       "3⋅π    ℯ    \n",
       "─── + ──────\n",
       " 2     2    \n",
       "      x  + y"
      ]
     },
     "execution_count": 15,
     "metadata": {},
     "output_type": "execute_result"
    }
   ],
   "source": [
    "from IPython.display import display, Math, Latex\n",
    "display(Math(r' \\frac{a}{b}                       '))\n",
    "display(Math(r' a^{b}                             '))\n",
    "display(Math(r' \\log_{b}{a}                       '))\n",
    "display(Math(r' \\sqrt[]{x+y}                      '))\n",
    "display(Math(r' x=\\frac{-b\\pm\\sqrt{b^2-4ac}}{2a}  '))\n",
    "# 設計一個方程式\n",
    "from sympy import *\n",
    "Rational(3 ,2) * pi  + E**(I*x) / (x**2 + y)  "
   ]
  },
  {
   "cell_type": "markdown",
   "metadata": {},
   "source": [
    "### 4. numpy , sympy, scipy, matplotlib\n",
    "python 科學計算組件,主要使用sympy 代數符號運算, 及matplotlib的繪圖功能。   \n",
    "\n",
    "### 5. sympy演示完美方程式\n",
    "\n",
    "![](https://mail.mbc.edu.mo/images/mathicons/sympy/sympy_jupyternb_demo.png)"
   ]
  },
  {
   "cell_type": "code",
   "execution_count": 10,
   "metadata": {},
   "outputs": [
    {
     "data": {
      "text/latex": [
       "$\\displaystyle \\frac{3 \\pi}{2} + \\frac{e^{i x}}{x^{2} + y}$"
      ],
      "text/plain": [
       "        ⅈ⋅x \n",
       "3⋅π    ℯ    \n",
       "─── + ──────\n",
       " 2     2    \n",
       "      x  + y"
      ]
     },
     "execution_count": 10,
     "metadata": {},
     "output_type": "execute_result"
    }
   ],
   "source": [
    "from sympy import *           #註解: 使用組件sympy \n",
    "init_printing(use_latex='mathjax')      #註解: 顯示數學印刷體\n",
    "x = Symbol('x')               #註解: x ,y 是代數符號\n",
    "y = Symbol('y')\n",
    "#註解: Rational有理數 3/2,  pi常數 , 自然數E的 虛數I乘x次方, x**2即x平方.\n",
    "Rational(3 ,2) * pi  + E**(I*x) / (x**2 + y)  "
   ]
  },
  {
   "cell_type": "code",
   "execution_count": 11,
   "metadata": {},
   "outputs": [
    {
     "data": {
      "text/latex": [
       "$\\displaystyle - \\frac{1}{7 + \\pi^{2}} + \\frac{3 \\pi}{2}$"
      ],
      "text/plain": [
       "    1      3⋅π\n",
       "- ────── + ───\n",
       "       2    2 \n",
       "  7 + π       "
      ]
     },
     "execution_count": 11,
     "metadata": {},
     "output_type": "execute_result"
    }
   ],
   "source": [
    "( Rational(3 ,2) * pi  + E**(I*x) / (x**2 + y)  ).subs({x:pi,y:7})"
   ]
  },
  {
   "cell_type": "markdown",
   "metadata": {},
   "source": [
    "## 二. Sympy初級數學知識點\n",
    "### 代數符號\n",
    "代數中未知數x,y,z定義, k,m,n 常數定義, f,g,h函數定義。"
   ]
  },
  {
   "cell_type": "code",
   "execution_count": null,
   "metadata": {},
   "outputs": [],
   "source": [
    "from sympy import *\n",
    "from IPython.display import Latex,HTML,Markdown  \n",
    "x, y, z, t = symbols('x y z t',real=True) #為實數,解方程出現無解, 不會出現虛數解.\n",
    "k, m, n = symbols('k m n', integer=True)\n",
    "f, g, h = symbols('f g h', cls=Function)\n",
    "init_printing()"
   ]
  },
  {
   "cell_type": "markdown",
   "metadata": {},
   "source": [
    "### 1.有理數(Rational Number)運算"
   ]
  },
  {
   "cell_type": "code",
   "execution_count": 2,
   "metadata": {},
   "outputs": [
    {
     "data": {
      "image/png": "[encoded data removed]",
      "text/latex": [
       "$\\displaystyle \\left( - \\frac{3}{4}, \\  \\frac{4}{7}\\right)$"
      ],
      "text/plain": [
       "(-3/4, 4/7)"
      ]
     },
     "metadata": {},
     "output_type": "display_data"
    }
   ],
   "source": [
    "from sympy import *\n",
    "init_printing()\n",
    "Frac1 = Rational(-3,4)  #註解: -3 / 4  分數表達1 Rational(a,b)\n",
    "Frac2 = S('4/7')        #註解:  4 / 7  分數表達2 \n",
    "display((Frac1, Frac2))"
   ]
  },
  {
   "cell_type": "code",
   "execution_count": 3,
   "metadata": {},
   "outputs": [
    {
     "data": {
      "image/png": "[encoded data removed]",
      "text/latex": [
       "$\\displaystyle - \\frac{5}{28}$"
      ],
      "text/plain": [
       "-5/28"
      ]
     },
     "execution_count": 3,
     "metadata": {},
     "output_type": "execute_result"
    }
   ],
   "source": [
    "Frac1 + Frac2"
   ]
  },
  {
   "cell_type": "code",
   "execution_count": 4,
   "metadata": {},
   "outputs": [
    {
     "data": {
      "image/png": "[encoded data removed]",
      "text/latex": [
       "$\\displaystyle - \\frac{3}{7}$"
      ],
      "text/plain": [
       "-3/7"
      ]
     },
     "execution_count": 4,
     "metadata": {},
     "output_type": "execute_result"
    }
   ],
   "source": [
    "Frac1 * Frac2"
   ]
  },
  {
   "cell_type": "code",
   "execution_count": 5,
   "metadata": {},
   "outputs": [
    {
     "data": {
      "image/png": "[encoded data removed]",
      "text/latex": [
       "$\\displaystyle \\frac{2 \\sqrt{7}}{7}$"
      ],
      "text/plain": [
       "2⋅√7\n",
       "────\n",
       " 7  "
      ]
     },
     "execution_count": 5,
     "metadata": {},
     "output_type": "execute_result"
    }
   ],
   "source": [
    "sqrt( Frac2 )"
   ]
  },
  {
   "cell_type": "markdown",
   "metadata": {},
   "source": [
    "\n",
    "### 2.整式\n"
   ]
  },
  {
   "cell_type": "code",
   "execution_count": 1,
   "metadata": {},
   "outputs": [
    {
     "data": {
      "text/latex": [
       "$\\displaystyle 2 B^{2} + C \\left(- A - B\\right) + C \\left(A - B\\right)$"
      ],
      "text/plain": [
       "2*B**2 + C*(-A - B) + C*(A - B)"
      ]
     },
     "execution_count": 1,
     "metadata": {},
     "output_type": "execute_result"
    }
   ],
   "source": [
    "from sympy import *\n",
    "A,B,C=symbols('A,B,C',integer=True)\n",
    "f = (A-B)*C + B**2 + (-B-A)*C + B**2\n",
    "f"
   ]
  },
  {
   "cell_type": "code",
   "execution_count": 33,
   "metadata": {},
   "outputs": [
    {
     "data": {
      "image/png": "[encoded data removed]",
      "text/latex": [
       "$\\displaystyle 2 B \\left(B - C\\right)$"
      ],
      "text/plain": [
       "2⋅B⋅(B - C)"
      ]
     },
     "execution_count": 33,
     "metadata": {},
     "output_type": "execute_result"
    }
   ],
   "source": [
    "simplify(f)   #註解:約簡式子"
   ]
  },
  {
   "cell_type": "code",
   "execution_count": 34,
   "metadata": {},
   "outputs": [
    {
     "data": {
      "image/png": "[encoded data removed]",
      "text/latex": [
       "$\\displaystyle 2 B^{2} - 2 B C$"
      ],
      "text/plain": [
       "   2        \n",
       "2⋅B  - 2⋅B⋅C"
      ]
     },
     "execution_count": 34,
     "metadata": {},
     "output_type": "execute_result"
    }
   ],
   "source": [
    "ratsimp(f)   #註解:約簡,給出二項式"
   ]
  },
  {
   "cell_type": "code",
   "execution_count": 35,
   "metadata": {},
   "outputs": [
    {
     "data": {
      "image/png": "[encoded data removed]",
      "text/latex": [
       "$\\displaystyle -400$"
      ],
      "text/plain": [
       "-400"
      ]
     },
     "execution_count": 35,
     "metadata": {},
     "output_type": "execute_result"
    }
   ],
   "source": [
    "f.subs({A: 10, B: 20, C: 30})   #註解: A,B,C代入數值"
   ]
  },
  {
   "cell_type": "code",
   "execution_count": 43,
   "metadata": {},
   "outputs": [
    {
     "data": {
      "image/svg+xml": [
       "<?xml version=\"1.0\" encoding=\"UTF-8\" standalone=\"no\"?>\r\n",
       "<!DOCTYPE svg PUBLIC \"-//W3C//DTD SVG 1.1//EN\"\r\n",
       " \"http://www.w3.org/Graphics/SVG/1.1/DTD/svg11.dtd\">\r\n",
       "<!-- Generated by graphviz version 2.47.3 (20210619.1520)\r\n",
       " -->\r\n",
       "<!-- Pages: 1 -->\r\n",
       "<svg width=\"278pt\" height=\"260pt\"\r\n",
       " viewBox=\"0.00 0.00 278.00 260.00\" xmlns=\"http://www.w3.org/2000/svg\" xmlns:xlink=\"http://www.w3.org/1999/xlink\">\r\n",
       "<g id=\"graph0\" class=\"graph\" transform=\"scale(1 1) rotate(0) translate(4 256)\">\r\n",
       "<polygon fill=\"white\" stroke=\"transparent\" points=\"-4,4 -4,-256 274,-256 274,4 -4,4\"/>\r\n",
       "<!-- Add(Symbol(&#39;C&#39;), Mul(Symbol(&#39;A&#39;), Pow(Symbol(&#39;x&#39;), Integer(2))), Mul(Symbol(&#39;B&#39;), Symbol(&#39;x&#39;)))_() -->\r\n",
       "<g id=\"node1\" class=\"node\">\r\n",
       "<title>Add(Symbol(&#39;C&#39;), Mul(Symbol(&#39;A&#39;), Pow(Symbol(&#39;x&#39;), Integer(2))), Mul(Symbol(&#39;B&#39;), Symbol(&#39;x&#39;)))_()</title>\r\n",
       "<ellipse fill=\"none\" stroke=\"black\" cx=\"99\" cy=\"-234\" rx=\"27\" ry=\"18\"/>\r\n",
       "<text text-anchor=\"middle\" x=\"99\" y=\"-230.3\" font-family=\"Times New Roman,serif\" font-size=\"14.00\">Add</text>\r\n",
       "</g>\r\n",
       "<!-- Symbol(&#39;C&#39;)_(0,) -->\r\n",
       "<g id=\"node2\" class=\"node\">\r\n",
       "<title>Symbol(&#39;C&#39;)_(0,)</title>\r\n",
       "<ellipse fill=\"none\" stroke=\"black\" cx=\"27\" cy=\"-162\" rx=\"27\" ry=\"18\"/>\r\n",
       "<text text-anchor=\"middle\" x=\"27\" y=\"-158.3\" font-family=\"Times New Roman,serif\" font-size=\"14.00\">C</text>\r\n",
       "</g>\r\n",
       "<!-- Add(Symbol(&#39;C&#39;), Mul(Symbol(&#39;A&#39;), Pow(Symbol(&#39;x&#39;), Integer(2))), Mul(Symbol(&#39;B&#39;), Symbol(&#39;x&#39;)))_()&#45;&gt;Symbol(&#39;C&#39;)_(0,) -->\r\n",
       "<g id=\"edge1\" class=\"edge\">\r\n",
       "<title>Add(Symbol(&#39;C&#39;), Mul(Symbol(&#39;A&#39;), Pow(Symbol(&#39;x&#39;), Integer(2))), Mul(Symbol(&#39;B&#39;), Symbol(&#39;x&#39;)))_()&#45;&gt;Symbol(&#39;C&#39;)_(0,)</title>\r\n",
       "<path fill=\"none\" stroke=\"black\" d=\"M84.43,-218.83C74.25,-208.94 60.48,-195.55 48.97,-184.36\"/>\r\n",
       "<polygon fill=\"black\" stroke=\"black\" points=\"51.41,-181.85 41.8,-177.38 46.53,-186.87 51.41,-181.85\"/>\r\n",
       "</g>\r\n",
       "<!-- Mul(Symbol(&#39;A&#39;), Pow(Symbol(&#39;x&#39;), Integer(2)))_(1,) -->\r\n",
       "<g id=\"node3\" class=\"node\">\r\n",
       "<title>Mul(Symbol(&#39;A&#39;), Pow(Symbol(&#39;x&#39;), Integer(2)))_(1,)</title>\r\n",
       "<ellipse fill=\"none\" stroke=\"black\" cx=\"99\" cy=\"-162\" rx=\"27\" ry=\"18\"/>\r\n",
       "<text text-anchor=\"middle\" x=\"99\" y=\"-158.3\" font-family=\"Times New Roman,serif\" font-size=\"14.00\">Mul</text>\r\n",
       "</g>\r\n",
       "<!-- Add(Symbol(&#39;C&#39;), Mul(Symbol(&#39;A&#39;), Pow(Symbol(&#39;x&#39;), Integer(2))), Mul(Symbol(&#39;B&#39;), Symbol(&#39;x&#39;)))_()&#45;&gt;Mul(Symbol(&#39;A&#39;), Pow(Symbol(&#39;x&#39;), Integer(2)))_(1,) -->\r\n",
       "<g id=\"edge2\" class=\"edge\">\r\n",
       "<title>Add(Symbol(&#39;C&#39;), Mul(Symbol(&#39;A&#39;), Pow(Symbol(&#39;x&#39;), Integer(2))), Mul(Symbol(&#39;B&#39;), Symbol(&#39;x&#39;)))_()&#45;&gt;Mul(Symbol(&#39;A&#39;), Pow(Symbol(&#39;x&#39;), Integer(2)))_(1,)</title>\r\n",
       "<path fill=\"none\" stroke=\"black\" d=\"M99,-215.7C99,-207.98 99,-198.71 99,-190.11\"/>\r\n",
       "<polygon fill=\"black\" stroke=\"black\" points=\"102.5,-190.1 99,-180.1 95.5,-190.1 102.5,-190.1\"/>\r\n",
       "</g>\r\n",
       "<!-- Mul(Symbol(&#39;B&#39;), Symbol(&#39;x&#39;))_(2,) -->\r\n",
       "<g id=\"node8\" class=\"node\">\r\n",
       "<title>Mul(Symbol(&#39;B&#39;), Symbol(&#39;x&#39;))_(2,)</title>\r\n",
       "<ellipse fill=\"none\" stroke=\"black\" cx=\"171\" cy=\"-162\" rx=\"27\" ry=\"18\"/>\r\n",
       "<text text-anchor=\"middle\" x=\"171\" y=\"-158.3\" font-family=\"Times New Roman,serif\" font-size=\"14.00\">Mul</text>\r\n",
       "</g>\r\n",
       "<!-- Add(Symbol(&#39;C&#39;), Mul(Symbol(&#39;A&#39;), Pow(Symbol(&#39;x&#39;), Integer(2))), Mul(Symbol(&#39;B&#39;), Symbol(&#39;x&#39;)))_()&#45;&gt;Mul(Symbol(&#39;B&#39;), Symbol(&#39;x&#39;))_(2,) -->\r\n",
       "<g id=\"edge3\" class=\"edge\">\r\n",
       "<title>Add(Symbol(&#39;C&#39;), Mul(Symbol(&#39;A&#39;), Pow(Symbol(&#39;x&#39;), Integer(2))), Mul(Symbol(&#39;B&#39;), Symbol(&#39;x&#39;)))_()&#45;&gt;Mul(Symbol(&#39;B&#39;), Symbol(&#39;x&#39;))_(2,)</title>\r\n",
       "<path fill=\"none\" stroke=\"black\" d=\"M113.57,-218.83C123.75,-208.94 137.52,-195.55 149.03,-184.36\"/>\r\n",
       "<polygon fill=\"black\" stroke=\"black\" points=\"151.47,-186.87 156.2,-177.38 146.59,-181.85 151.47,-186.87\"/>\r\n",
       "</g>\r\n",
       "<!-- Symbol(&#39;A&#39;)_(1, 0) -->\r\n",
       "<g id=\"node4\" class=\"node\">\r\n",
       "<title>Symbol(&#39;A&#39;)_(1, 0)</title>\r\n",
       "<ellipse fill=\"none\" stroke=\"black\" cx=\"27\" cy=\"-90\" rx=\"27\" ry=\"18\"/>\r\n",
       "<text text-anchor=\"middle\" x=\"27\" y=\"-86.3\" font-family=\"Times New Roman,serif\" font-size=\"14.00\">A</text>\r\n",
       "</g>\r\n",
       "<!-- Mul(Symbol(&#39;A&#39;), Pow(Symbol(&#39;x&#39;), Integer(2)))_(1,)&#45;&gt;Symbol(&#39;A&#39;)_(1, 0) -->\r\n",
       "<g id=\"edge4\" class=\"edge\">\r\n",
       "<title>Mul(Symbol(&#39;A&#39;), Pow(Symbol(&#39;x&#39;), Integer(2)))_(1,)&#45;&gt;Symbol(&#39;A&#39;)_(1, 0)</title>\r\n",
       "<path fill=\"none\" stroke=\"black\" d=\"M84.43,-146.83C74.25,-136.94 60.48,-123.55 48.97,-112.36\"/>\r\n",
       "<polygon fill=\"black\" stroke=\"black\" points=\"51.41,-109.85 41.8,-105.38 46.53,-114.87 51.41,-109.85\"/>\r\n",
       "</g>\r\n",
       "<!-- Pow(Symbol(&#39;x&#39;), Integer(2))_(1, 1) -->\r\n",
       "<g id=\"node5\" class=\"node\">\r\n",
       "<title>Pow(Symbol(&#39;x&#39;), Integer(2))_(1, 1)</title>\r\n",
       "<ellipse fill=\"none\" stroke=\"black\" cx=\"99\" cy=\"-90\" rx=\"27.1\" ry=\"18\"/>\r\n",
       "<text text-anchor=\"middle\" x=\"99\" y=\"-86.3\" font-family=\"Times New Roman,serif\" font-size=\"14.00\">Pow</text>\r\n",
       "</g>\r\n",
       "<!-- Mul(Symbol(&#39;A&#39;), Pow(Symbol(&#39;x&#39;), Integer(2)))_(1,)&#45;&gt;Pow(Symbol(&#39;x&#39;), Integer(2))_(1, 1) -->\r\n",
       "<g id=\"edge5\" class=\"edge\">\r\n",
       "<title>Mul(Symbol(&#39;A&#39;), Pow(Symbol(&#39;x&#39;), Integer(2)))_(1,)&#45;&gt;Pow(Symbol(&#39;x&#39;), Integer(2))_(1, 1)</title>\r\n",
       "<path fill=\"none\" stroke=\"black\" d=\"M99,-143.7C99,-135.98 99,-126.71 99,-118.11\"/>\r\n",
       "<polygon fill=\"black\" stroke=\"black\" points=\"102.5,-118.1 99,-108.1 95.5,-118.1 102.5,-118.1\"/>\r\n",
       "</g>\r\n",
       "<!-- Symbol(&#39;x&#39;)_(1, 1, 0) -->\r\n",
       "<g id=\"node6\" class=\"node\">\r\n",
       "<title>Symbol(&#39;x&#39;)_(1, 1, 0)</title>\r\n",
       "<ellipse fill=\"none\" stroke=\"black\" cx=\"63\" cy=\"-18\" rx=\"27\" ry=\"18\"/>\r\n",
       "<text text-anchor=\"middle\" x=\"63\" y=\"-14.3\" font-family=\"Times New Roman,serif\" font-size=\"14.00\">x</text>\r\n",
       "</g>\r\n",
       "<!-- Pow(Symbol(&#39;x&#39;), Integer(2))_(1, 1)&#45;&gt;Symbol(&#39;x&#39;)_(1, 1, 0) -->\r\n",
       "<g id=\"edge6\" class=\"edge\">\r\n",
       "<title>Pow(Symbol(&#39;x&#39;), Integer(2))_(1, 1)&#45;&gt;Symbol(&#39;x&#39;)_(1, 1, 0)</title>\r\n",
       "<path fill=\"none\" stroke=\"black\" d=\"M90.65,-72.76C86.29,-64.28 80.85,-53.71 75.96,-44.2\"/>\r\n",
       "<polygon fill=\"black\" stroke=\"black\" points=\"78.99,-42.44 71.3,-35.15 72.77,-45.64 78.99,-42.44\"/>\r\n",
       "</g>\r\n",
       "<!-- Integer(2)_(1, 1, 1) -->\r\n",
       "<g id=\"node7\" class=\"node\">\r\n",
       "<title>Integer(2)_(1, 1, 1)</title>\r\n",
       "<ellipse fill=\"none\" stroke=\"black\" cx=\"135\" cy=\"-18\" rx=\"27\" ry=\"18\"/>\r\n",
       "<text text-anchor=\"middle\" x=\"135\" y=\"-14.3\" font-family=\"Times New Roman,serif\" font-size=\"14.00\">2</text>\r\n",
       "</g>\r\n",
       "<!-- Pow(Symbol(&#39;x&#39;), Integer(2))_(1, 1)&#45;&gt;Integer(2)_(1, 1, 1) -->\r\n",
       "<g id=\"edge7\" class=\"edge\">\r\n",
       "<title>Pow(Symbol(&#39;x&#39;), Integer(2))_(1, 1)&#45;&gt;Integer(2)_(1, 1, 1)</title>\r\n",
       "<path fill=\"none\" stroke=\"black\" d=\"M107.35,-72.76C111.71,-64.28 117.15,-53.71 122.04,-44.2\"/>\r\n",
       "<polygon fill=\"black\" stroke=\"black\" points=\"125.23,-45.64 126.7,-35.15 119.01,-42.44 125.23,-45.64\"/>\r\n",
       "</g>\r\n",
       "<!-- Symbol(&#39;B&#39;)_(2, 0) -->\r\n",
       "<g id=\"node9\" class=\"node\">\r\n",
       "<title>Symbol(&#39;B&#39;)_(2, 0)</title>\r\n",
       "<ellipse fill=\"none\" stroke=\"black\" cx=\"171\" cy=\"-90\" rx=\"27\" ry=\"18\"/>\r\n",
       "<text text-anchor=\"middle\" x=\"171\" y=\"-86.3\" font-family=\"Times New Roman,serif\" font-size=\"14.00\">B</text>\r\n",
       "</g>\r\n",
       "<!-- Mul(Symbol(&#39;B&#39;), Symbol(&#39;x&#39;))_(2,)&#45;&gt;Symbol(&#39;B&#39;)_(2, 0) -->\r\n",
       "<g id=\"edge8\" class=\"edge\">\r\n",
       "<title>Mul(Symbol(&#39;B&#39;), Symbol(&#39;x&#39;))_(2,)&#45;&gt;Symbol(&#39;B&#39;)_(2, 0)</title>\r\n",
       "<path fill=\"none\" stroke=\"black\" d=\"M171,-143.7C171,-135.98 171,-126.71 171,-118.11\"/>\r\n",
       "<polygon fill=\"black\" stroke=\"black\" points=\"174.5,-118.1 171,-108.1 167.5,-118.1 174.5,-118.1\"/>\r\n",
       "</g>\r\n",
       "<!-- Symbol(&#39;x&#39;)_(2, 1) -->\r\n",
       "<g id=\"node10\" class=\"node\">\r\n",
       "<title>Symbol(&#39;x&#39;)_(2, 1)</title>\r\n",
       "<ellipse fill=\"none\" stroke=\"black\" cx=\"243\" cy=\"-90\" rx=\"27\" ry=\"18\"/>\r\n",
       "<text text-anchor=\"middle\" x=\"243\" y=\"-86.3\" font-family=\"Times New Roman,serif\" font-size=\"14.00\">x</text>\r\n",
       "</g>\r\n",
       "<!-- Mul(Symbol(&#39;B&#39;), Symbol(&#39;x&#39;))_(2,)&#45;&gt;Symbol(&#39;x&#39;)_(2, 1) -->\r\n",
       "<g id=\"edge9\" class=\"edge\">\r\n",
       "<title>Mul(Symbol(&#39;B&#39;), Symbol(&#39;x&#39;))_(2,)&#45;&gt;Symbol(&#39;x&#39;)_(2, 1)</title>\r\n",
       "<path fill=\"none\" stroke=\"black\" d=\"M185.57,-146.83C195.75,-136.94 209.52,-123.55 221.03,-112.36\"/>\r\n",
       "<polygon fill=\"black\" stroke=\"black\" points=\"223.47,-114.87 228.2,-105.38 218.59,-109.85 223.47,-114.87\"/>\r\n",
       "</g>\r\n",
       "</g>\r\n",
       "</svg>\r\n"
      ],
      "text/plain": [
       "<graphviz.files.Source at 0x1f35cb96c10>"
      ]
     },
     "execution_count": 43,
     "metadata": {},
     "output_type": "execute_result"
    }
   ],
   "source": [
    "import graphviz \n",
    "import sympy as sp\n",
    "graphviz.Source(sp.printing.dotprint(f))"
   ]
  },
  {
   "cell_type": "markdown",
   "metadata": {
    "tags": []
   },
   "source": [
    "### 3.方程式\n"
   ]
  },
  {
   "cell_type": "code",
   "execution_count": 30,
   "metadata": {
    "tags": []
   },
   "outputs": [
    {
     "data": {
      "image/png": "[encoded data removed]",
      "text/latex": [
       "$\\displaystyle \\left[ \\frac{B^{2} - B C - B D + C^{2}}{C - D}\\right]$"
      ],
      "text/plain": [
       "⎡ 2                2⎤\n",
       "⎢B  - B⋅C - B⋅D + C ⎥\n",
       "⎢───────────────────⎥\n",
       "⎣       C - D       ⎦"
      ]
     },
     "execution_count": 30,
     "metadata": {},
     "output_type": "execute_result"
    }
   ],
   "source": [
    "from sympy import *\n",
    "from sympy.abc import A, B, C, D\n",
    "f=(A-B)*D + C**2 + (-B-A)*C+B**2\n",
    "solve(f, A)"
   ]
  },
  {
   "cell_type": "markdown",
   "metadata": {},
   "source": [
    " ### 求根公式"
   ]
  },
  {
   "cell_type": "code",
   "execution_count": 167,
   "metadata": {},
   "outputs": [
    {
     "data": {
      "image/png": "[encoded data removed]",
      "text/latex": [
       "$\\displaystyle A x^{2} + B x + C = 0$"
      ],
      "text/plain": [
       "   2              \n",
       "A⋅x  + B⋅x + C = 0"
      ]
     },
     "execution_count": 167,
     "metadata": {},
     "output_type": "execute_result"
    }
   ],
   "source": [
    "from sympy import *\n",
    "from sympy.abc import A, B, C, D\n",
    "x=Symbol('x')\n",
    "f=A*x**2 + B*x+ C     \n",
    "Eq(f,0)"
   ]
  },
  {
   "cell_type": "code",
   "execution_count": 18,
   "metadata": {},
   "outputs": [
    {
     "data": {
      "image/png": "[encoded data removed]",
      "text/latex": [
       "$\\displaystyle \\left[ \\frac{- B + \\sqrt{- 4 A C + B^{2}}}{2 A}, \\  - \\frac{B + \\sqrt{- 4 A C + B^{2}}}{2 A}\\right]$"
      ],
      "text/plain": [
       "⎡        _____________   ⎛       _____________⎞ ⎤\n",
       "⎢       ╱           2    ⎜      ╱           2 ⎟ ⎥\n",
       "⎢-B + ╲╱  -4⋅A⋅C + B    -⎝B + ╲╱  -4⋅A⋅C + B  ⎠ ⎥\n",
       "⎢─────────────────────, ────────────────────────⎥\n",
       "⎣         2⋅A                     2⋅A           ⎦"
      ]
     },
     "execution_count": 18,
     "metadata": {},
     "output_type": "execute_result"
    }
   ],
   "source": [
    "solve(f, x)"
   ]
  },
  {
   "cell_type": "code",
   "execution_count": 29,
   "metadata": {},
   "outputs": [
    {
     "data": {
      "image/png": "[encoded data removed]",
      "text/latex": [
       "$\\displaystyle 2 x^{2} - 6 x + 4$"
      ],
      "text/plain": [
       "   2          \n",
       "2⋅x  - 6⋅x + 4"
      ]
     },
     "execution_count": 29,
     "metadata": {},
     "output_type": "execute_result"
    }
   ],
   "source": [
    "f1=f.subs({A:2,B:-6,C:4})     \n",
    "f1"
   ]
  },
  {
   "cell_type": "code",
   "execution_count": 21,
   "metadata": {},
   "outputs": [
    {
     "data": {
      "image/png": "[encoded data removed]",
      "text/latex": [
       "$\\displaystyle 2 \\left(x - 2\\right) \\left(x - 1\\right)$"
      ],
      "text/plain": [
       "2⋅(x - 2)⋅(x - 1)"
      ]
     },
     "execution_count": 21,
     "metadata": {},
     "output_type": "execute_result"
    }
   ],
   "source": [
    "f1.factor()               #因式分解"
   ]
  },
  {
   "cell_type": "code",
   "execution_count": 24,
   "metadata": {},
   "outputs": [
    {
     "data": {
      "image/png": "[encoded data removed]",
      "text/latex": [
       "$\\displaystyle 2 x^{2} - 6 x + 4$"
      ],
      "text/plain": [
       "   2          \n",
       "2⋅x  - 6⋅x + 4"
      ]
     },
     "execution_count": 24,
     "metadata": {},
     "output_type": "execute_result"
    }
   ],
   "source": [
    "(2*(x-2)*(x-1)).expand()  #展開式子"
   ]
  },
  {
   "cell_type": "code",
   "execution_count": 31,
   "metadata": {},
   "outputs": [
    {
     "data": {
      "image/png": "[encoded data removed]",
      "text/latex": [
       "$\\displaystyle \\left[ 1, \\  2\\right]$"
      ],
      "text/plain": [
       "[1, 2]"
      ]
     },
     "execution_count": 31,
     "metadata": {},
     "output_type": "execute_result"
    }
   ],
   "source": [
    "solve(f1, x)"
   ]
  },
  {
   "cell_type": "markdown",
   "metadata": {},
   "source": [
    "### 4.方程式組"
   ]
  },
  {
   "cell_type": "code",
   "execution_count": 90,
   "metadata": {},
   "outputs": [
    {
     "data": {
      "image/png": "[encoded data removed]",
      "text/latex": [
       "$\\displaystyle \\left[ x + y = -10, \\  x y = 25\\right]$"
      ],
      "text/plain": [
       "[x + y = -10, x⋅y = 25]"
      ]
     },
     "metadata": {},
     "output_type": "display_data"
    },
    {
     "data": {
      "image/png": "[encoded data removed]",
      "text/latex": [
       "$\\displaystyle \\left[ \\left( -5, \\  -5\\right)\\right]$"
      ],
      "text/plain": [
       "[(-5, -5)]"
      ]
     },
     "execution_count": 90,
     "metadata": {},
     "output_type": "execute_result"
    }
   ],
   "source": [
    "from sympy import *\n",
    "x,y = symbols('x,y')\n",
    "eq1 = Eq( x + y , -10)\n",
    "eq2 = Eq( x * y , 25)          ;display([eq1,eq2])\n",
    "Val = solve([eq1,eq2],x,y)        \n",
    "Val"
   ]
  },
  {
   "cell_type": "code",
   "execution_count": 94,
   "metadata": {},
   "outputs": [
    {
     "data": {
      "text/latex": [
       "$\\displaystyle \\left\\{\\begin{array}\\\\ x + y = -10 \\\\ x y = 25 \\\\ \\end{array}\\right.$"
      ],
      "text/plain": [
       "<IPython.core.display.Math object>"
      ]
     },
     "metadata": {},
     "output_type": "display_data"
    },
    {
     "data": {
      "image/png": "[encoded data removed]",
      "text/latex": [
       "$\\displaystyle \\left[ \\left( -5, \\  -5\\right)\\right]$"
      ],
      "text/plain": [
       "[(-5, -5)]"
      ]
     },
     "metadata": {},
     "output_type": "display_data"
    }
   ],
   "source": [
    "from sympy import *\n",
    "from IPython.display import display, Math, Latex\n",
    "sp.init_printing(\"mathjax\")                       \n",
    "LatexFmt=r\"\\left\\{\\begin{array}\\\\ %s \\\\ %s \\\\ \\end{array}\\right.\"  #大括號格式\n",
    "x,y= symbols('x,y')\n",
    "eq1= Eq(x+y,-10)\n",
    "eq2= Eq(x*y,25)            ;display(Math(LatexFmt%( latex(eq1), latex(eq2))))\n",
    "Val= solve([eq1,eq2],x,y)  ;display(Val)"
   ]
  },
  {
   "cell_type": "markdown",
   "metadata": {},
   "source": [
    "### 5.不等式"
   ]
  },
  {
   "cell_type": "code",
   "execution_count": 82,
   "metadata": {},
   "outputs": [
    {
     "data": {
      "text/latex": [
       "$\\displaystyle \\left(x + 1\\right) \\left(2 x - 1\\right) < 0$"
      ],
      "text/plain": [
       "<IPython.core.display.Math object>"
      ]
     },
     "metadata": {},
     "output_type": "display_data"
    },
    {
     "data": {
      "image/png": "[encoded data removed]",
      "text/latex": [
       "$\\displaystyle -1 < x \\wedge x < \\frac{1}{2}$"
      ],
      "text/plain": [
       "-1 < x ∧ x < 1/2"
      ]
     },
     "execution_count": 82,
     "metadata": {},
     "output_type": "execute_result"
    }
   ],
   "source": [
    "from sympy import *\n",
    "from sympy.solvers.inequalities import solve_univariate_inequality\n",
    "init_printing(\"mathjax\")   \n",
    "x=Symbol('x')\n",
    "St=(x +1)*(2*x-1) < 0                ; display(Math( latex(St) ))\n",
    "solve_univariate_inequality(St,x)    # solve_univariate_inequality 解不等式  "
   ]
  },
  {
   "cell_type": "markdown",
   "metadata": {},
   "source": [
    "### 6.不等式組\n",
    "并(&) 關係[[ineq1, ineq2]]  ;  或(|) 關係[[ineq1], [ineq2]] "
   ]
  },
  {
   "cell_type": "code",
   "execution_count": 92,
   "metadata": {},
   "outputs": [
    {
     "data": {
      "image/png": "[encoded data removed]",
      "text/latex": [
       "$\\displaystyle \\left[ 2 x > 5, \\  x - 9 < 4\\right]$"
      ],
      "text/plain": [
       "[2⋅x > 5, x - 9 < 4]"
      ]
     },
     "metadata": {},
     "output_type": "display_data"
    },
    {
     "data": {
      "image/png": "[encoded data removed]",
      "text/latex": [
       "$\\displaystyle \\frac{5}{2} < x \\wedge x < 13$"
      ],
      "text/plain": [
       "5/2 < x ∧ x < 13"
      ]
     },
     "execution_count": 92,
     "metadata": {},
     "output_type": "execute_result"
    }
   ],
   "source": [
    "from sympy import *                              \n",
    "from sympy.solvers.inequalities import reduce_rational_inequalities\n",
    "x=symbols('x')\n",
    "ineq1= x * 2 > 5 \n",
    "ineq2= x - 9 < 4                                 ;display([ineq1,ineq2])\n",
    "reduce_rational_inequalities([[ineq1, ineq2]],x)   "
   ]
  },
  {
   "cell_type": "code",
   "execution_count": 93,
   "metadata": {},
   "outputs": [
    {
     "data": {
      "text/latex": [
       "$\\displaystyle \\left\\{\\begin{array}\\\\ 2 x > -5 \\\\ x - 9 < -3 \\\\ \\end{array}\\right.$"
      ],
      "text/plain": [
       "<IPython.core.display.Math object>"
      ]
     },
     "metadata": {},
     "output_type": "display_data"
    },
    {
     "data": {
      "image/png": "[encoded data removed]",
      "text/latex": [
       "$\\displaystyle - \\frac{5}{2} < x \\wedge x < 6$"
      ],
      "text/plain": [
       "-5/2 < x ∧ x < 6"
      ]
     },
     "execution_count": 93,
     "metadata": {},
     "output_type": "execute_result"
    }
   ],
   "source": [
    "from sympy import *                                \n",
    "from sympy.solvers.inequalities import reduce_rational_inequalities\n",
    "from IPython.display import display, Math, Latex\n",
    "sp.init_printing(\"mathjax\")                       \n",
    "LatexFmt=r\"\\left\\{\\begin{array}\\\\ %s \\\\ %s \\\\ \\end{array}\\right.\"\n",
    "x=symbols('x')\n",
    "ineq1= x * 2 > -5\n",
    "ineq2= x - 9 < -3     ; display(Math(LatexFmt%( latex(ineq1), latex(ineq2) )))\n",
    "reduce_rational_inequalities([[ineq1, ineq2]],x)   "
   ]
  },
  {
   "cell_type": "markdown",
   "metadata": {},
   "source": [
    "### 7.數列和\n",
    "summation(一般項 $a_i$, (i, 初值, 終值)) 。\n",
    "\n",
    "等差  \n",
    "$\\sum_{i=1}^{10} i$\n",
    "\n",
    "等比  \n",
    "$\\sum_{i=1}^{10} i*2$  \n",
    "\n",
    "指數  \n",
    "$\\sum_{i=1}^{10} i^2$  "
   ]
  },
  {
   "cell_type": "code",
   "execution_count": 72,
   "metadata": {},
   "outputs": [
    {
     "data": {
      "image/png": "[encoded data removed]",
      "text/latex": [
       "$\\displaystyle 20$"
      ],
      "text/plain": [
       "20"
      ]
     },
     "execution_count": 72,
     "metadata": {},
     "output_type": "execute_result"
    }
   ],
   "source": [
    "import sympy as sp\n",
    "import numpy as np\n",
    "n,i= sp.symbols('n,i')\n",
    "expr= n*2                      #等差 2,4,6,7,.... d=2\n",
    "sp.summation(expr, (n, 1, 4))  #等差和1-4項."
   ]
  },
  {
   "cell_type": "code",
   "execution_count": 73,
   "metadata": {},
   "outputs": [
    {
     "data": {
      "text/plain": [
       "array([ 2,  4,  6,  8, 10, 12, 14, 16, 18, 20, 22])"
      ]
     },
     "execution_count": 73,
     "metadata": {},
     "output_type": "execute_result"
    }
   ],
   "source": [
    "# 顯示等差數例\n",
    "expr_func= sp.lambdify(n,expr)\n",
    "expr_func(np.arange(1,12))"
   ]
  },
  {
   "cell_type": "code",
   "execution_count": 84,
   "metadata": {},
   "outputs": [
    {
     "data": {
      "image/png": "[encoded data removed]",
      "text/latex": [
       "$\\displaystyle a_{1} n + \\frac{d n \\left(n - 1\\right)}{2}$"
      ],
      "text/plain": [
       "       d⋅n⋅(n - 1)\n",
       "a₁⋅n + ───────────\n",
       "            2     "
      ]
     },
     "execution_count": 84,
     "metadata": {},
     "output_type": "execute_result"
    }
   ],
   "source": [
    "# 前n項和公式\n",
    "a1,n,d= sp.symbols('a_1,n,d')\n",
    "f=n*a1+n*(n-1)*d/2               \n",
    "f"
   ]
  },
  {
   "cell_type": "code",
   "execution_count": 50,
   "metadata": {},
   "outputs": [
    {
     "data": {
      "image/png": "[encoded data removed]",
      "text/latex": [
       "$\\displaystyle 20$"
      ],
      "text/plain": [
       "20"
      ]
     },
     "execution_count": 50,
     "metadata": {},
     "output_type": "execute_result"
    }
   ],
   "source": [
    "(f).subs({a1:2,n:4,d:2})"
   ]
  },
  {
   "cell_type": "markdown",
   "metadata": {},
   "source": [
    "### 7.1  例題\n",
    "$\\sum_{i=1}^{10} \\frac{1}{(-2)^i}$  "
   ]
  },
  {
   "cell_type": "code",
   "execution_count": 42,
   "metadata": {
    "scrolled": true
   },
   "outputs": [
    {
     "data": {
      "image/png": "[encoded data removed]",
      "text/latex": [
       "$\\displaystyle \\frac{1}{2^{k}}$"
      ],
      "text/plain": [
       "1 \n",
       "──\n",
       " k\n",
       "2 "
      ]
     },
     "metadata": {},
     "output_type": "display_data"
    },
    {
     "data": {
      "image/png": "[encoded data removed]",
      "text/latex": [
       "$\\displaystyle \\frac{1023}{1024}$"
      ],
      "text/plain": [
       "1023\n",
       "────\n",
       "1024"
      ]
     },
     "metadata": {},
     "output_type": "display_data"
    },
    {
     "data": {
      "image/png": "[encoded data removed]",
      "text/latex": [
       "$\\displaystyle 0.9990234375$"
      ],
      "text/plain": [
       "0.9990234375"
      ]
     },
     "metadata": {},
     "output_type": "display_data"
    },
    {
     "data": {
      "image/png": "[encoded data removed]",
      "text/latex": [
       "$\\displaystyle 0.9990234375$"
      ],
      "text/plain": [
       "0.9990234375"
      ]
     },
     "metadata": {},
     "output_type": "display_data"
    }
   ],
   "source": [
    "from sympy import *\n",
    "k=symbols('k',integer=True)\n",
    "expr=Pow((1)**k*(2**k),-1,evaluate=False)       ;display(expr); \n",
    "sum = summation(expr, (k, 1, 10) )              ;display(sum,sum.n(10),1-1/2**10);           "
   ]
  },
  {
   "cell_type": "code",
   "execution_count": 38,
   "metadata": {},
   "outputs": [
    {
     "data": {
      "text/plain": [
       "array([0.5       , 0.25      , 0.125     , 0.0625    , 0.03125   ,\n",
       "       0.015625  , 0.0078125 , 0.00390625, 0.00195312, 0.00097656])"
      ]
     },
     "execution_count": 38,
     "metadata": {},
     "output_type": "execute_result"
    }
   ],
   "source": [
    "import numpy as np\n",
    "expr_func= lambdify(k,expr)\n",
    "expr_func(np.arange(1,11))"
   ]
  },
  {
   "cell_type": "markdown",
   "metadata": {},
   "source": [
    "### 8.數列積\n",
    "$$\\prod_{k=1}^{10} k= 10!$$"
   ]
  },
  {
   "cell_type": "code",
   "execution_count": 74,
   "metadata": {},
   "outputs": [
    {
     "data": {
      "image/png": "[encoded data removed]",
      "text/latex": [
       "$\\displaystyle 3628800$"
      ],
      "text/plain": [
       "3628800"
      ]
     },
     "execution_count": 74,
     "metadata": {},
     "output_type": "execute_result"
    }
   ],
   "source": [
    "from sympy import *\n",
    "factorial(10)        #階乘"
   ]
  },
  {
   "cell_type": "code",
   "execution_count": 75,
   "metadata": {},
   "outputs": [
    {
     "data": {
      "image/png": "[encoded data removed]",
      "text/latex": [
       "$\\displaystyle 3628800$"
      ],
      "text/plain": [
       "3628800"
      ]
     },
     "execution_count": 75,
     "metadata": {},
     "output_type": "execute_result"
    }
   ],
   "source": [
    "k=symbols('k',integer=True)\n",
    "product(k, (k, 1, 10) )  #數列積"
   ]
  },
  {
   "cell_type": "markdown",
   "metadata": {},
   "source": [
    "### 8.1 例題\n",
    "\n",
    "\n",
    "$$\\prod_{k=2}^{2021} \\frac{k^2-1}{K^2}$$\n",
    "\n",
    "$$ A_1= \\frac{2^2-1}{2^2} \\cdot \\frac{3^2-1}{3^2}  \\cdot \\frac{4^2-1}{4^2} \\cdot \\cdot \\cdot \\frac{2021^2-1}{2021^2}  $$\n",
    "\n",
    "\n",
    "<details>\n",
    "    <summary>Click to reveal solution</summary>\n",
    "```    \n",
    "$$ A_1= \\frac{(2-1)(2+1)}{2^2} \\cdot \\frac{(3+1)(3-1)}{3^2}  \\cdot \\cdot \\cdot \\frac{(2021-1)(2021+1)}{2021^2}  $$    \n",
    "$$ A_1= \\frac{(1)(3)}{2^2} \\cdot \\frac{(2)(4)}{3^2}  \\cdot \\cdot \\cdot \\frac{(2020)(2022)}{2021^2}  $$\n",
    "$$ A_1= \\frac{(1 * 2 * 3 * 4 \\cdot \\cdot \\cdot 2020) \\cdot ( 3 * 4 \\cdot \\cdot \\cdot 2020 * 2021*2022)}{(2 * 3 * 4 \\cdot \\cdot \\cdot 2020 * 2021) *(2 * 3 * 4 \\cdot \\cdot \\cdot 2020 * 2021)}  $$\n",
    "$$ A_1= \\frac{ 2022}{2021 *2} = \\frac{1011}{2021} $$    \n",
    "$$ A_1= \\frac{ 2022}{2021 *2} = \\frac{1011}{2021} $$\n",
    "```\n",
    "</details>\n",
    "\n"
   ]
  },
  {
   "cell_type": "code",
   "execution_count": 4,
   "metadata": {
    "scrolled": true
   },
   "outputs": [
    {
     "data": {
      "text/latex": [
       "$\\displaystyle \\frac{k^{2} - 1}{k^{2}}$"
      ],
      "text/plain": [
       "(k**2 - 1)/k**2"
      ]
     },
     "metadata": {},
     "output_type": "display_data"
    },
    {
     "data": {
      "text/latex": [
       "$\\displaystyle \\frac{\\left(k - 1\\right) \\left(k + 1\\right)}{k^{2}}$"
      ],
      "text/plain": [
       "(k - 1)*(k + 1)/k**2"
      ]
     },
     "metadata": {},
     "output_type": "display_data"
    },
    {
     "data": {
      "text/latex": [
       "$\\displaystyle \\frac{1011}{2021}$"
      ],
      "text/plain": [
       "1011/2021"
      ]
     },
     "execution_count": 4,
     "metadata": {},
     "output_type": "execute_result"
    }
   ],
   "source": [
    "from sympy import *\n",
    "k=symbols('k',integer=True)\n",
    "expr=(k**2-1)/(k**2)             ;display(expr); display(expr.factor())    \n",
    "product(expr, (k, 2, 2021) )      "
   ]
  },
  {
   "cell_type": "code",
   "execution_count": 78,
   "metadata": {},
   "outputs": [
    {
     "data": {
      "text/plain": [
       "array([0.75      , 0.88888889, 0.9375    , ..., 0.99999975, 0.99999975,\n",
       "       0.99999976])"
      ]
     },
     "execution_count": 78,
     "metadata": {},
     "output_type": "execute_result"
    }
   ],
   "source": [
    "# 顯示等差數例\n",
    "expr_func= lambdify(k,expr)\n",
    "expr_func(np.arange(2,2022))"
   ]
  },
  {
   "cell_type": "code",
   "execution_count": 80,
   "metadata": {},
   "outputs": [
    {
     "name": "stdout",
     "output_type": "stream",
     "text": [
      "1011/2021\n",
      "0.5002474023\n"
     ]
    }
   ],
   "source": [
    "# 迴圈方法\n",
    "A2=1 \n",
    "for i in range(2,2022): \n",
    "    A2 *= sp.S(i**2-1) / sp.S(i**2)\n",
    "print(A2)\n",
    "print(A2.n(10))"
   ]
  },
  {
   "cell_type": "markdown",
   "metadata": {},
   "source": [
    "### 9.函數圖像的性質"
   ]
  },
  {
   "cell_type": "code",
   "execution_count": 86,
   "metadata": {},
   "outputs": [
    {
     "data": {
      "image/png": "[encoded data removed]",
      "text/plain": [
       "<Figure size 432x288 with 1 Axes>"
      ]
     },
     "metadata": {
      "needs_background": "light"
     },
     "output_type": "display_data"
    },
    {
     "data": {
      "text/plain": [
       "<sympy.plotting.plot.Plot at 0x1f36049d700>"
      ]
     },
     "execution_count": 86,
     "metadata": {},
     "output_type": "execute_result"
    }
   ],
   "source": [
    "from sympy import *\n",
    "from sympy.plotting import plot\n",
    "x,y=symbols('x y')\n",
    "y = -(x+2)*(x+1)*(x-1)\n",
    "plot(y, (x, -6, 6) )"
   ]
  },
  {
   "cell_type": "code",
   "execution_count": 170,
   "metadata": {},
   "outputs": [
    {
     "data": {
      "image/png": "[encoded data removed]",
      "text/plain": [
       "<Figure size 432x432 with 1 Axes>"
      ]
     },
     "metadata": {
      "needs_background": "light"
     },
     "output_type": "display_data"
    }
   ],
   "source": [
    "from sympy import *\n",
    "from sympy.plotting import plot_parametric\n",
    "x = symbols('x')\n",
    "labels=[r'\\frac{1}{x}',r'\\sqrt{x}','x','x^2','x^3','2^x','log_2{x}']\n",
    "colors=['red','orange','cyan','green','blue','purple','olive','pink','gray','brown']\n",
    "f1=(x, 1/x)\n",
    "f2=(x, sqrt(x))\n",
    "f3=(x, x)\n",
    "f4=(x, x**2)\n",
    "f5=(x, x**3)\n",
    "f6=(x,2**x)\n",
    "f7=(x,log(x,2))\n",
    "f8=(sin(x)*4,cos(x)*4)\n",
    "p=plot_parametric(f1,f2,f3,f4,f5,f6,f7,f8,(x, -6, 6),xlim=(-6,6),ylim=(-6,6),size=(6,6) ,show=False)\n",
    "for idx in range(0,7):\n",
    "    p[idx].line_color=colors[idx]\n",
    "    p[idx].label=r\"$%s$\"%labels[idx]\n",
    "p.legend=True\n",
    "p.show()"
   ]
  },
  {
   "cell_type": "markdown",
   "metadata": {},
   "source": [
    "### 10.直角三角形"
   ]
  },
  {
   "cell_type": "markdown",
   "metadata": {},
   "source": [
    "### 三邊 SSS"
   ]
  },
  {
   "cell_type": "code",
   "execution_count": 121,
   "metadata": {},
   "outputs": [
    {
     "data": {
      "image/png": "[encoded data removed]",
      "text/plain": [
       "<Figure size 432x288 with 1 Axes>"
      ]
     },
     "metadata": {
      "needs_background": "light"
     },
     "output_type": "display_data"
    }
   ],
   "source": [
    "import sympy as sp\n",
    "import numpy as np\n",
    "from sympy.geometry import Point, Triangle, Segment\n",
    "import matplotlib.pyplot as plt\n",
    "from matplotlib.figure import Figure\n",
    "\n",
    "t = Triangle(sss=(4, 3 , 5))    #角大約53度, sss 三邊為 3,4,5 的三角形\n",
    "\n",
    "plt.close('all')\n",
    "fig = plt.figure()\n",
    "ax = fig.add_subplot(1, 1, 1)\n",
    "ax.set_aspect('equal')\n",
    "ax.set_axis_off() \n",
    "ax.add_patch(plt.Polygon(t.vertices, fill=False))\n",
    "ax.plot(*zip(*t.vertices), 'o')\n",
    "plt.show()"
   ]
  },
  {
   "cell_type": "markdown",
   "metadata": {},
   "source": [
    "### 二邊一角 SAS"
   ]
  },
  {
   "cell_type": "code",
   "execution_count": 28,
   "metadata": {},
   "outputs": [
    {
     "data": {
      "image/png": "[encoded data removed]",
      "text/plain": [
       "<Figure size 432x288 with 1 Axes>"
      ]
     },
     "metadata": {
      "needs_background": "light"
     },
     "output_type": "display_data"
    }
   ],
   "source": [
    "fig = plt.figure()\n",
    "ax = fig.add_subplot(1, 1, 1)\n",
    "ax.set_aspect('equal')\n",
    "ax.grid()\n",
    "\n",
    "t = Triangle(sas=(4, 60, 2))\n",
    "\n",
    "ax.add_patch(plt.Polygon(t.vertices))\n",
    "ax.plot(*zip(*t.vertices), 'ro')\n",
    "\n",
    "plt.show()"
   ]
  },
  {
   "cell_type": "markdown",
   "metadata": {},
   "source": [
    "### 二角一邊 ASA , 及反轉"
   ]
  },
  {
   "cell_type": "code",
   "execution_count": 31,
   "metadata": {},
   "outputs": [
    {
     "data": {
      "image/png": "[encoded data removed]",
      "text/plain": [
       "<Figure size 432x288 with 1 Axes>"
      ]
     },
     "metadata": {
      "needs_background": "light"
     },
     "output_type": "display_data"
    }
   ],
   "source": [
    "fig = plt.figure()\n",
    "ax = fig.add_subplot(1, 1, 1)\n",
    "ax.set_aspect('equal')\n",
    "ax.grid()\n",
    "\n",
    "t = Triangle(asa=(30, 2, 60))\n",
    "\n",
    "ax.add_patch(plt.Polygon(t.vertices))\n",
    "ax.plot(*zip(*t.vertices), 'ro')\n",
    "\n",
    "plt.show()"
   ]
  },
  {
   "cell_type": "markdown",
   "metadata": {},
   "source": [
    "### 直角三形進階演視"
   ]
  },
  {
   "cell_type": "code",
   "execution_count": 32,
   "metadata": {},
   "outputs": [
    {
     "name": "stdout",
     "output_type": "stream",
     "text": [
      "直角三形,其中短邊分別為a=4,b=3。求c邊為多少? \n",
      "求角A為多少度? \n"
     ]
    },
    {
     "data": {
      "image/png": "[encoded data removed]",
      "text/plain": [
       "<Figure size 432x288 with 1 Axes>"
      ]
     },
     "metadata": {
      "needs_background": "light"
     },
     "output_type": "display_data"
    }
   ],
   "source": [
    "import sympy as sp\n",
    "import numpy as np\n",
    "from sympy.geometry import Point, Triangle, Segment\n",
    "import matplotlib.pyplot as plt\n",
    "from matplotlib.figure import Figure\n",
    "\n",
    "print(\"直角三形,其中短邊分別為a=4,b=3。求c邊為多少? \")\n",
    "print(\"求角A為多少度? \")\n",
    "\n",
    "t = Triangle(sss=(4, 3 , 5)) #角大約53度, sss 三邊為 3,4,5 的三角形\n",
    "B, C, A = t.vertices #頂点\n",
    "AB, BC, CA = Segment(A, B), Segment(B, C), Segment(C, A) #Segment為線段 ABC.side\n",
    "a, b, c = BC.length, CA.length, AB.length #邊長\n",
    "opposides = { A: BC, B: CA, C: AB }       #頂点及對邊(opposite side)\n",
    "\n",
    "plt.close('all')\n",
    "fig = plt.figure()\n",
    "ax = fig.add_subplot(1, 1, 1)\n",
    "ax.set_aspect('equal')\n",
    "ax.set_axis_off() \n",
    "#t 為sss設計三角形a\n",
    "ax.add_patch(plt.Polygon(t.vertices, fill=False))\n",
    "ax.plot(*zip(*t.vertices), 'o')\n",
    "\n",
    "#角標誌\n",
    "ax.text(*B, r'$ \\mathrm{B}$', ha='right', va='top', fontsize=16)\n",
    "ax.text(*C, r'$ \\mathrm{C}$', ha='left', va='top', fontsize=16)\n",
    "ax.text(*A, r'$ \\mathrm{A}$', ha='left', va='bottom', fontsize=16)\n",
    "#直角標誌\n",
    "squar_side_len=0.2\n",
    "c1=Point(C[0],C[1]+squar_side_len)\n",
    "c2=Point(C[0]-squar_side_len,C[1]+squar_side_len)\n",
    "c3=Point(C[0]-squar_side_len,C[1])\n",
    "ax.add_patch(plt.Polygon([C,c1,c2,c3], fill=False))\n",
    "#邊中點標誌 a,b,c\n",
    "ax.text(*BC.midpoint, r'$\\mathrm{a=%s} $'%a, ha='right', va='top', fontsize=16)\n",
    "ax.text(*CA.midpoint, r'$\\mathrm{b=%s} $'%b, ha='left', va='top', fontsize=16)\n",
    "ax.text(*AB.midpoint, r'$\\mathrm{c} $', ha='left', va='bottom', fontsize=16)    \n",
    "#弧線Arc Plot 及角度\n",
    "BAngle=90-53  \n",
    "d=np.arange(start=0,stop=BAngle,step=1)\n",
    "rad=np.deg2rad(d)\n",
    "r=0.2\n",
    "xc = r*np.cos(rad)\n",
    "yc = r*np.sin(rad)\n",
    "plt.plot(xc,yc,color=[20/255,20/255,20/255],linestyle='-')   \n",
    "ax.text(B[0]+0.24,B[1]+0.04,f'${BAngle}^o$')\n",
    "plt.show()"
   ]
  },
  {
   "cell_type": "markdown",
   "metadata": {},
   "source": [
    "### 三角形外接圓、內接圓"
   ]
  },
  {
   "cell_type": "code",
   "execution_count": 27,
   "metadata": {},
   "outputs": [
    {
     "name": "stdout",
     "output_type": "stream",
     "text": [
      "sss 三邊為 3,4,5 的三角形,請修改三邊長度觀察變化?\n"
     ]
    },
    {
     "data": {
      "image/png": "[encoded data removed]",
      "text/plain": [
       "<Figure size 432x288 with 1 Axes>"
      ]
     },
     "metadata": {
      "needs_background": "light"
     },
     "output_type": "display_data"
    }
   ],
   "source": [
    "import sympy as sp\n",
    "import numpy as np\n",
    "from sympy.geometry import Point, Triangle, Segment\n",
    "import matplotlib.pyplot as plt\n",
    "from matplotlib.figure import Figure\n",
    "\n",
    "def side_of_line(p, q, mint=-2, maxt=2):\n",
    "    return zip(p+(q-p)*mint, p+(q-p)*maxt)\n",
    "\n",
    "def side_of_ray(p, q, maxt=2):\n",
    "    return zip(p, p+(q-p)*maxt)\n",
    "\n",
    "print(\"sss 三邊為 3,4,5 的三角形,請修改三邊長度觀察變化?\")\n",
    "\n",
    "ABC = Triangle(sss=(4, 3 , 5))    #角大約53度, sss 三邊為 3,4,5 的三角形\n",
    "A, B, C = ABC.vertices #頂点\n",
    "AB, BC, CA = Segment(A, B), Segment(B, C), Segment(C, A) #邊的設定 三邊 ABC.sides 同等\n",
    "a, b, c = BC.length, CA.length, AB.length #邊的長度\n",
    "opposides = { #頂点與對邊關係(opposite side)\n",
    "    A: BC,\n",
    "    B: CA,\n",
    "    C: AB\n",
    "}\n",
    "\n",
    "plt.close('all')\n",
    "fig = plt.figure()\n",
    "ax = fig.add_subplot(1, 1, 1)\n",
    "ax.set_aspect('equal')\n",
    "ax.set_axis_off() \n",
    "ax.set_xlim(-5, 5)\n",
    "ax.set_ylim(-5, 5)\n",
    "ax.add_patch(plt.Polygon(ABC.vertices, fill=False))\n",
    "ax.plot(*zip(*ABC.vertices), 'o')\n",
    "ax.text(*A, '$\\mathrm{A}$', ha='right', va='top')\n",
    "ax.text(*B, '$\\mathrm{B}$', ha='left', va='top')\n",
    "ax.text(*C, '$\\mathrm{C}$', ha='left', va='bottom')\n",
    "\n",
    "bisectors = ABC.bisectors() #内角的二等分線取得\n",
    "I = ABC.incenter #内心的取得\n",
    "for X in [A, B, C]:\n",
    "    ax.plot(*zip(*bisectors[X].args)) #角X的二等分線計算\n",
    "ax.plot(*zip(I), 'o') #内心\n",
    "ax.add_patch(plt.Circle(I, ABC.inradius, fill=False)) #内接圓\n",
    "ax.text(*I, '$\\mathrm{I}$', ha='left', va='top')\n",
    "\n",
    "O=ABC.circumcenter #外心的取得\n",
    "for X in [A, B, C]:\n",
    "    ax.plot(*side_of_line(*opposides[X].perpendicular_bisector().args), linestyle='--', color='blue', linewidth=1) #X対辺的垂直二等分線\n",
    "ax.plot(*O, 'o') #外心\n",
    "ax.add_patch(plt.Circle(O, ABC.circumradius, fill=False)) #外接圓\n",
    "ax.text(*O, '$\\mathrm{O}$', ha='right', va='top')\n",
    "\n",
    "#直角標誌\n",
    "squar_side_len=0.5\n",
    "b1=Point(B[0],B[1]+squar_side_len)\n",
    "b2=Point(B[0]-squar_side_len,B[1]+squar_side_len)\n",
    "b3=Point(B[0]-squar_side_len,B[1])\n",
    "ax.add_patch(plt.Polygon([B,b1,b2,b3], fill=False))\n",
    "\n",
    "plt.show()"
   ]
  },
  {
   "cell_type": "markdown",
   "metadata": {},
   "source": [
    "### 11. 對數運算\n",
    "\n",
    "\n",
    "|虛數|$\\pi$|自然數|平方根\t|指数函数\t|自然対数|\t絶対値\t\t\t|\n",
    "|---|---|---|---|---|---|---|\n",
    " |I,| pi,| E 常數    |sqrt|\texp|\tln (=log)|\tabs\t|\n",
    "\n",
    "$ lg 100 = \\log_{10}{100} = log(100,10)=10  $\n",
    "\n",
    "$ ln E = ln(E) = log(E) =1 $ 註明,log函数, 默認E為底    \n",
    "\n",
    "$E^{\\ln{a}}=a$   \n",
    "\n",
    "$log(x*y)=log(x)+log(y)   $\n",
    "\n",
    "$log(x^n)=n* log(x) $\n",
    "\n"
   ]
  },
  {
   "cell_type": "code",
   "execution_count": 66,
   "metadata": {},
   "outputs": [
    {
     "data": {
      "image/png": "[encoded data removed]",
      "text/latex": [
       "$\\displaystyle \\left( \\log{\\left(x \\right)}, \\  x, \\  3, \\  a\\right)$"
      ],
      "text/plain": [
       "(log(x), x, 3, a)"
      ]
     },
     "metadata": {},
     "output_type": "display_data"
    }
   ],
   "source": [
    "from sympy import *\n",
    "from sympy import I, pi, E\n",
    "x,y,z = symbols('x,y,z',positive=True)\n",
    "a, n = symbols('a n',real=True)\n",
    "# 1.基礎\n",
    "display(( ln(x)  , log(E**x), log(8,2), E**(ln(a)) ))"
   ]
  },
  {
   "cell_type": "code",
   "execution_count": 73,
   "metadata": {},
   "outputs": [
    {
     "data": {
      "image/png": "[encoded data removed]",
      "text/latex": [
       "$\\displaystyle \\left( \\log{\\left(x y \\right)}, \\  \\log{\\left(x^{2} \\right)}\\right)$"
      ],
      "text/plain": [
       "⎛             ⎛ 2⎞⎞\n",
       "⎝log(x⋅y), log⎝x ⎠⎠"
      ]
     },
     "metadata": {},
     "output_type": "display_data"
    }
   ],
   "source": [
    "#2.運算  expand_log  log(x*y)=log(x)+log(y)   log(x**n)=n* log(x) \n",
    "expr1=log(x*y)\n",
    "expr2=log(x**2)               \n",
    "display((expr1, expr2))"
   ]
  },
  {
   "cell_type": "code",
   "execution_count": 69,
   "metadata": {},
   "outputs": [
    {
     "data": {
      "image/png": "[encoded data removed]",
      "text/latex": [
       "$\\displaystyle \\log{\\left(x \\right)} + \\log{\\left(y \\right)}$"
      ],
      "text/plain": [
       "log(x) + log(y)"
      ]
     },
     "execution_count": 69,
     "metadata": {},
     "output_type": "execute_result"
    }
   ],
   "source": [
    "expand_log(expr1)"
   ]
  },
  {
   "cell_type": "code",
   "execution_count": 68,
   "metadata": {},
   "outputs": [
    {
     "data": {
      "image/png": "[encoded data removed]",
      "text/latex": [
       "$\\displaystyle 2 \\log{\\left(x \\right)}$"
      ],
      "text/plain": [
       "2⋅log(x)"
      ]
     },
     "execution_count": 68,
     "metadata": {},
     "output_type": "execute_result"
    }
   ],
   "source": [
    "expand_log(expr2,force=True) "
   ]
  },
  {
   "cell_type": "code",
   "execution_count": 70,
   "metadata": {},
   "outputs": [
    {
     "data": {
      "image/png": "[encoded data removed]",
      "text/latex": [
       "$\\displaystyle \\left( \\log{\\left(x \\right)} + \\log{\\left(y \\right)}, \\  n \\log{\\left(x \\right)}\\right)$"
      ],
      "text/plain": [
       "(log(x) + log(y), n⋅log(x))"
      ]
     },
     "metadata": {},
     "output_type": "display_data"
    }
   ],
   "source": [
    "#3. 簡化 logcombine\n",
    "expr1=log(x)+log(y)\n",
    "expr2=n* log(x)\n",
    "display((expr1,expr2))"
   ]
  },
  {
   "cell_type": "code",
   "execution_count": 71,
   "metadata": {},
   "outputs": [
    {
     "data": {
      "image/png": "[encoded data removed]",
      "text/latex": [
       "$\\displaystyle \\log{\\left(x y \\right)}$"
      ],
      "text/plain": [
       "log(x⋅y)"
      ]
     },
     "execution_count": 71,
     "metadata": {},
     "output_type": "execute_result"
    }
   ],
   "source": [
    "logcombine(expr1)"
   ]
  },
  {
   "cell_type": "code",
   "execution_count": 72,
   "metadata": {},
   "outputs": [
    {
     "data": {
      "image/png": "[encoded data removed]",
      "text/latex": [
       "$\\displaystyle \\log{\\left(x^{n} \\right)}$"
      ],
      "text/plain": [
       "   ⎛ n⎞\n",
       "log⎝x ⎠"
      ]
     },
     "execution_count": 72,
     "metadata": {},
     "output_type": "execute_result"
    }
   ],
   "source": [
    "logcombine(expr2  )"
   ]
  },
  {
   "cell_type": "markdown",
   "metadata": {},
   "source": [
    "### 12.排列組合\n",
    "#### 排列数计算公式   \n",
    "$\\Large P_{n}^{r} =A_{n}^{r} =\\frac{n!}{(n - r)!}$   註:此外規定0！ = 1   "
   ]
  },
  {
   "cell_type": "code",
   "execution_count": 78,
   "metadata": {},
   "outputs": [],
   "source": [
    "def permutations_count(n, r):\n",
    "    return math.factorial(n) // math.factorial(n - r)"
   ]
  },
  {
   "cell_type": "code",
   "execution_count": 81,
   "metadata": {},
   "outputs": [
    {
     "name": "stdout",
     "output_type": "stream",
     "text": [
      "[0, 1]\n",
      "[0, 2]\n",
      "[1, 0]\n",
      "[1, 2]\n",
      "[2, 0]\n",
      "[2, 1]\n"
     ]
    }
   ],
   "source": [
    "from sympy.utilities.iterables import multiset_permutations\n",
    "import numpy as np\n",
    "a = np.array([0, 1, 2])\n",
    "for p in multiset_permutations(a,2):\n",
    "    print(p)"
   ]
  },
  {
   "cell_type": "markdown",
   "metadata": {},
   "source": [
    "\n",
    "#### 组合(Combination)\n",
    "\n",
    "$\\Large c_{n}^{r} = \\frac{n!}{(r! \\cdot (n - r)!)}$\n"
   ]
  },
  {
   "cell_type": "code",
   "execution_count": 89,
   "metadata": {},
   "outputs": [
    {
     "data": {
      "image/png": "[encoded data removed]",
      "text/latex": [
       "$\\displaystyle 13983816$"
      ],
      "text/plain": [
       "13983816"
      ]
     },
     "execution_count": 89,
     "metadata": {},
     "output_type": "execute_result"
    }
   ],
   "source": [
    "import math\n",
    "def combinations_count(n, r):\n",
    "    return math.factorial(n) // (math.factorial(n - r) * math.factorial(r))\n",
    "combinations_count(49,6)"
   ]
  },
  {
   "cell_type": "code",
   "execution_count": 88,
   "metadata": {},
   "outputs": [
    {
     "name": "stdout",
     "output_type": "stream",
     "text": [
      "[1, 2]\n",
      "[1, 3]\n",
      "[2, 3]\n"
     ]
    }
   ],
   "source": [
    "from sympy.utilities.iterables import multiset_combinations\n",
    "import numpy as np\n",
    "#a = np.array([0, 1, 2])\n",
    "a = np.arange(1, 4)\n",
    "for p in multiset_combinations(a,2):\n",
    "    print(p)"
   ]
  },
  {
   "cell_type": "markdown",
   "metadata": {},
   "source": [
    "## 三.總結\n",
    "Sympy在符號運算表現優異，初級數學以至引申至大專數學，都可以應用輔助學習及教學。數學老師在學習Sympy比資訊同事學習更快，理解更好，有能力自行設計出知識點練習題型。個人工作屬資訊專職，從Sympy技術層面，本章作為個人工作總結，數學老師回饋參考資料難以查找，提供中文版本參考。后續，不斷完善豊富內容，涵蓋中學階段數學知識點。\n",
    "\n",
    "\n",
    "### 四.題型練習\n",
    "\n",
    "幫助同學,掌握不同類型題目:\n",
    "\n",
    "\n",
    "- [PF101有理數運算.ipynb](PF101%E6%9C%89%E7%90%86%E6%95%B8%E9%81%8B%E7%AE%97.ipynb)\n",
    "- [PF102整數指數冪運算.ipynb](PF102%E6%95%B4%E6%95%B8%E6%8C%87%E6%95%B8%E5%86%AA%E9%81%8B%E7%AE%97.ipynb)\n",
    "- [PF103一元一次方程.ipynb](PF103%E4%B8%80%E5%85%83%E4%B8%80%E6%AC%A1%E6%96%B9%E7%A8%8B.ipynb)\n",
    "- [PF104整式的加減法練習.ipynb](PF104%E6%95%B4%E5%BC%8F%E7%9A%84%E5%8A%A0%E6%B8%9B%E6%B3%95%E7%B7%B4%E7%BF%92.ipynb)\n",
    "- [PF105二元一次方程.ipynb](PF105%E4%BA%8C%E5%85%83%E4%B8%80%E6%AC%A1%E6%96%B9%E7%A8%8B.ipynb)\n",
    "- [PF106一元一次不等式.ipynb](PF106%E4%B8%80%E5%85%83%E4%B8%80%E6%AC%A1%E4%B8%8D%E7%AD%89%E5%BC%8F.ipynb)\n",
    "- [PF107一元一次不等式組.ipynb](PF107%E4%B8%80%E5%85%83%E4%B8%80%E6%AC%A1%E4%B8%8D%E7%AD%89%E5%BC%8F%E7%B5%84.ipynb)\n",
    "- [PF108整式的乘法練習.ipynb](PF108%E6%95%B4%E5%BC%8F%E7%9A%84%E4%B9%98%E6%B3%95%E7%B7%B4%E7%BF%92.ipynb)\n",
    "- [PF201根式的運算.ipynb](PF201%E6%A0%B9%E5%BC%8F%E7%9A%84%E9%81%8B%E7%AE%97.ipynb)\n",
    "- [PF2021整式的乘法公式完全平方公式.ipynb](PF2021%E6%95%B4%E5%BC%8F%E7%9A%84%E4%B9%98%E6%B3%95%E5%85%AC%E5%BC%8F%E5%AE%8C%E5%85%A8%E5%B9%B3%E6%96%B9%E5%85%AC%E5%BC%8F.ipynb)\n",
    "- [PF202整式的乘法公式平方差v2.ipynb](PF202%E6%95%B4%E5%BC%8F%E7%9A%84%E4%B9%98%E6%B3%95%E5%85%AC%E5%BC%8F%E5%B9%B3%E6%96%B9%E5%B7%AEv2.ipynb)\n",
    "- [PF203因式分解提公因式.ipynb](PF203%E5%9B%A0%E5%BC%8F%E5%88%86%E8%A7%A3%E6%8F%90%E5%85%AC%E5%9B%A0%E5%BC%8F.ipynb)\n",
    "- [PF204分式的乘除.ipynb](PF204%E5%88%86%E5%BC%8F%E7%9A%84%E4%B9%98%E9%99%A4.ipynb)\n",
    "- [PF205分式的加減.ipynb](PF205%E5%88%86%E5%BC%8F%E7%9A%84%E5%8A%A0%E6%B8%9B.ipynb)\n",
    "- [PF206分式方程.ipynb](PF206%E5%88%86%E5%BC%8F%E6%96%B9%E7%A8%8B.ipynb)\n",
    "- [PF207一次函數圖像的性質.ipynb](PF207%E4%B8%80%E6%AC%A1%E5%87%BD%E6%95%B8%E5%9C%96%E5%83%8F%E7%9A%84%E6%80%A7%E8%B3%AA.ipynb)\n",
    "- [PF291一元二次方程式十字相乘法求因式.ipynb](PF291%E4%B8%80%E5%85%83%E4%BA%8C%E6%AC%A1%E6%96%B9%E7%A8%8B%E5%BC%8F%E5%8D%81%E5%AD%97%E7%9B%B8%E4%B9%98%E6%B3%95%E6%B1%82%E5%9B%A0%E5%BC%8F.ipynb)\n",
    "- [PF292一元二次方程式求解.ipynb](PF292%E4%B8%80%E5%85%83%E4%BA%8C%E6%AC%A1%E6%96%B9%E7%A8%8B%E5%BC%8F%E6%B1%82%E8%A7%A3.ipynb)\n",
    "- [PF293整式的乘法練習.ipynb](PF293%E6%95%B4%E5%BC%8F%E7%9A%84%E4%B9%98%E6%B3%95%E7%B7%B4%E7%BF%92.ipynb)\n",
    "- [PF301一元二次方程式.ipynb](PF301%E4%B8%80%E5%85%83%E4%BA%8C%E6%AC%A1%E6%96%B9%E7%A8%8B%E5%BC%8F.ipynb)\n",
    "- [PF302解可化為一元二次方程的分式方程.ipynb](PF302%E8%A7%A3%E5%8F%AF%E5%8C%96%E7%82%BA%E4%B8%80%E5%85%83%E4%BA%8C%E6%AC%A1%E6%96%B9%E7%A8%8B%E7%9A%84%E5%88%86%E5%BC%8F%E6%96%B9%E7%A8%8B.ipynb)\n",
    "- [PF303解二元二次方程組.ipynb](PF303%E8%A7%A3%E4%BA%8C%E5%85%83%E4%BA%8C%E6%AC%A1%E6%96%B9%E7%A8%8B%E7%B5%84.ipynb)\n",
    "- [PF304二次函數圖像的性質.ipynb](PF304%E4%BA%8C%E6%AC%A1%E5%87%BD%E6%95%B8%E5%9C%96%E5%83%8F%E7%9A%84%E6%80%A7%E8%B3%AA.ipynb)\n",
    "- [PF305解直角三角形.ipynb](PF305%E8%A7%A3%E7%9B%B4%E8%A7%92%E4%B8%89%E8%A7%92%E5%BD%A2.ipynb)\n",
    "- [PF306認識直角三角形函數.ipynb](PF306%E8%AA%8D%E8%AD%98%E7%9B%B4%E8%A7%92%E4%B8%89%E8%A7%92%E5%BD%A2%E5%87%BD%E6%95%B8.ipynb)\n",
    "- [PF401高一一元二次不等式.ipynb](PF401%E9%AB%98%E4%B8%80%E4%B8%80%E5%85%83%E4%BA%8C%E6%AC%A1%E4%B8%8D%E7%AD%89%E5%BC%8F.ipynb)\n",
    "- [PF402等差數列.ipynb](PF402%E7%AD%89%E5%B7%AE%E6%95%B8%E5%88%97.ipynb)\n",
    "- [PF403等比數列.ipynb](PF403%E7%AD%89%E6%AF%94%E6%95%B8%E5%88%97.ipynb)\n",
    "- [PF404對數運算基礎.ipynb](PF404%E5%B0%8D%E6%95%B8%E9%81%8B%E7%AE%97%E5%9F%BA%E7%A4%8E.ipynb)\n",
    "- [PF501高二一元二次不等式.ipynb](PF501%E9%AB%98%E4%BA%8C%E4%B8%80%E5%85%83%E4%BA%8C%E6%AC%A1%E4%B8%8D%E7%AD%89%E5%BC%8F.ipynb)\n",
    "- [PF601高三餘式定理.ipynb](PF601%E9%AB%98%E4%B8%89%E9%A4%98%E5%BC%8F%E5%AE%9A%E7%90%86.ipynb)\n",
    "- [PF602.線性規劃.ipynb](PF602.%E7%B7%9A%E6%80%A7%E8%A6%8F%E5%8A%83.ipynb)\n",
    "- [PF603.乘法公式190404.ipynb](PF603.%E4%B9%98%E6%B3%95%E5%85%AC%E5%BC%8F190404.ipynb)\n",
    "- [PF604.一元二次方程190305.ipynb](PF604.%E4%B8%80%E5%85%83%E4%BA%8C%E6%AC%A1%E6%96%B9%E7%A8%8B190305.ipynb)\n",
    "- [PF605.三角函数同角变换190410.ipynb](PF605.%E4%B8%89%E8%A7%92%E5%87%BD%E6%95%B0%E5%90%8C%E8%A7%92%E5%8F%98%E6%8D%A2190410.ipynb)"
   ]
  },
  {
   "cell_type": "markdown",
   "metadata": {},
   "source": [
    "## 五.參考:\n",
    "Sympy \n",
    "https://docs.sympy.org/latest/index.html\n",
    "\n",
    "https://www.sympygamma.com/\n",
    "\n",
    "https://blog.csdn.net/weixin_44378835/article/details/113503178\n",
    "\n",
    "https://indico.cern.ch/event/846501/contributions/3606395/attachments/1927171/3191092/grk.pdf\n",
    "\n",
    "python 樹狀圖 graphviz\n",
    "\n",
    "https://blog.csdn.net/weixin_50920119/article/details/116565747  graphviz 安裝\n",
    "\n",
    "科學用計算軟件\n",
    "\n",
    "https://www.wolfram.com/mathematica/ \n",
    "\n",
    "https://www.mathworks.com/products/matlab.html \n"
   ]
  },
  {
   "cell_type": "markdown",
   "metadata": {},
   "source": [
    "### 結束."
   ]
  }
 ],
 "metadata": {
  "kernelspec": {
   "display_name": "Python 3",
   "language": "python",
   "name": "python3"
  },
  "language_info": {
   "codemirror_mode": {
    "name": "ipython",
    "version": 3
   },
   "file_extension": ".py",
   "mimetype": "text/x-python",
   "name": "python",
   "nbconvert_exporter": "python",
   "pygments_lexer": "ipython3",
   "version": "3.9.9"
  }
 },
 "nbformat": 4,
 "nbformat_minor": 4
}

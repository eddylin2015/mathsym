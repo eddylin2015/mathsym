{
 "cells": [
  {
   "cell_type": "markdown",
   "id": "significant-emperor",
   "metadata": {},
   "source": [
    "## python-docx"
   ]
  },
  {
   "cell_type": "code",
   "execution_count": 2,
   "id": "saving-phenomenon",
   "metadata": {},
   "outputs": [],
   "source": [
    "from docx import Document\n",
    "from docx.shared import Inches\n",
    "\n",
    "document = Document()\n",
    "\n",
    "document.add_heading('Document Title', 0)\n",
    "\n",
    "p = document.add_paragraph('A plain paragraph having some ')\n",
    "p.add_run('bold').bold = True\n",
    "p.add_run(' and some ')\n",
    "p.add_run('italic.').italic = True\n",
    "\n",
    "document.add_heading('Heading, level 1', level=1)\n",
    "document.add_paragraph('Intense quote', style='Intense Quote')\n",
    "\n",
    "document.add_paragraph(\n",
    "    'first item in unordered list', style='List Bullet'\n",
    ")\n",
    "document.add_paragraph(\n",
    "    'first item in ordered list', style='List Number'\n",
    ")\n",
    "\n",
    "document.add_picture('FiveCircle.png', width=Inches(1.25))\n",
    "\n",
    "records = (\n",
    "    (3, '101', 'Spam'),\n",
    "    (7, '422', 'Eggs'),\n",
    "    (4, '631', 'Spam, spam, eggs, and spam')\n",
    ")\n",
    "\n",
    "table = document.add_table(rows=1, cols=3)\n",
    "hdr_cells = table.rows[0].cells\n",
    "hdr_cells[0].text = 'Qty'\n",
    "hdr_cells[1].text = 'Id'\n",
    "hdr_cells[2].text = 'Desc'\n",
    "for qty, id, desc in records:\n",
    "    row_cells = table.add_row().cells\n",
    "    row_cells[0].text = str(qty)\n",
    "    row_cells[1].text = id\n",
    "    row_cells[2].text = desc\n",
    "\n",
    "document.add_page_break()\n",
    "\n",
    "document.save('demo.docx')"
   ]
  },
  {
   "cell_type": "markdown",
   "id": "productive-operation",
   "metadata": {
    "tags": []
   },
   "source": [
    "## Opening a ‘file-like’ document"
   ]
  },
  {
   "cell_type": "code",
   "execution_count": null,
   "id": "secondary-software",
   "metadata": {},
   "outputs": [],
   "source": [
    "template=\"d:/code/NPOI_T2021.docx\"\n",
    "with open(template, 'rb') as f:\n",
    "    source_stream = StringIO(f.read())\n",
    "document = Document(source_stream)\n",
    "source_stream.close()\n",
    "\n",
    "target_stream = StringIO()\n",
    "document.save(target_stream)"
   ]
  },
  {
   "cell_type": "markdown",
   "id": "korean-death",
   "metadata": {},
   "source": [
    "## Flask and docx"
   ]
  },
  {
   "cell_type": "code",
   "execution_count": null,
   "id": "stuffed-driving",
   "metadata": {},
   "outputs": [],
   "source": [
    "from flask import Flask, render_template, send_file\n",
    "from docx import Document\n",
    "from cStringIO import StringIO\n",
    "\n",
    "@app.route('/')\n",
    "def index():\n",
    "    document = Document()\n",
    "    document.add_heading(\"Sample Press Release\", 0)\n",
    "    f = StringIO()\n",
    "    document.save(f)\n",
    "    length = f.tell()\n",
    "    f.seek(0)\n",
    "    return send_file(f, as_attachment=True, attachment_filename='report.doc')"
   ]
  },
  {
   "cell_type": "code",
   "execution_count": null,
   "id": "prospective-location",
   "metadata": {},
   "outputs": [],
   "source": []
  }
 ],
 "metadata": {
  "kernelspec": {
   "display_name": "Python 3",
   "language": "python",
   "name": "python3"
  },
  "language_info": {
   "codemirror_mode": {
    "name": "ipython",
    "version": 3
   },
   "file_extension": ".py",
   "mimetype": "text/x-python",
   "name": "python",
   "nbconvert_exporter": "python",
   "pygments_lexer": "ipython3",
   "version": "3.9.2"
  }
 },
 "nbformat": 4,
 "nbformat_minor": 5
}

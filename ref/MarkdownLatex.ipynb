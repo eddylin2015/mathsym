{
 "cells": [
  {
   "cell_type": "markdown",
   "id": "qualified-former",
   "metadata": {},
   "source": [
    "# Learn How to Write Markdown & LaTeX in The Jupyter Notebook\n",
    "\n",
    "Markdown file extension is .md\n",
    "\n"
   ]
  },
  {
   "cell_type": "markdown",
   "id": "affected-broad",
   "metadata": {},
   "source": [
    "## • Headings\n",
    "```\n",
    "# Heading 1\n",
    "## Heading 2\n",
    "### Heading 3\n",
    "#### Heading 4\n",
    "##### Heading 5\n",
    "###### Heading 6\n",
    "```\n"
   ]
  },
  {
   "cell_type": "markdown",
   "id": "endangered-timer",
   "metadata": {},
   "source": [
    "##  Paragraphs\n",
    "\n",
    "Paragraphs are represented by the <p> tag in HTML. In Markdown, they’re\n",
    "separated by one or more blank lines. Like HTML, whitespace is ignored. So if you\n",
    "add 10 blank lines, you’re still only going to have one paragraph."
   ]
  },
  {
   "cell_type": "markdown",
   "id": "supported-scott",
   "metadata": {},
   "source": [
    "## • Line breaks\n",
    "Just end a line with two or more spaces , then type return. Or leave an empty\n",
    "line\n",
    "```\n",
    "This is a text. <!-- spaces -->\n",
    "This is another text.\n",
    "```\n"
   ]
  },
  {
   "cell_type": "markdown",
   "id": "expensive-depression",
   "metadata": {},
   "source": [
    "## • Mark emphasis\n",
    "Emphasis, aka italics, with *asterisks* or _underscores_.\n",
    "Strong emphasis, aka bold, with **asterisks** or\n",
    "__underscores__.\n",
    "Combined emphasis with **asterisks and _underscores_**.\n",
    "Strikethrough uses two tildes ~ . ~~Scratch this.~~\n"
   ]
  },
  {
   "cell_type": "markdown",
   "id": "coordinated-jonathan",
   "metadata": {},
   "source": [
    "## • Lists\n",
    "Creating lists in Markdown is a real pleasure, you will see that there is nothing\n",
    "simpler!\n",
    "1. Item 1\n",
    "2. Item 2 ( we can type 1. and the markdown will automatically numerate them)\n",
    "* First Item\n",
    "  * Nested item 1\n",
    "  * Nested item 2\n",
    "    1. Keep going\n",
    "    1. Yes\n",
    "* Second Item\n"
   ]
  },
  {
   "cell_type": "markdown",
   "id": "charitable-anxiety",
   "metadata": {},
   "source": [
    "## Links and Images\n",
    "To create a link, you must place the text of the link in square brackets followed by the URL in parentheses. Images are almost inserted in the same way as links, add an exclamation mark (!), followed by alt text in brackets, and the path or URL to the image asset in parentheses.\n",
    "<!-- [Text](link) -->\n",
    "[Link Text](https://medium.com/@ahmedazizkhelifi \"Optional Title\")\n",
    "<!-- ![Alt Text](image path \"title\") -->\n",
    "![Alt Text](https://miro.medium.com/max/80/0*PRNVc7bjff0Jj1pm.png \"Optional Title\")\n",
    "<!-- Linking Image -->\n",
    "<!-- [![Alt Text](image path \"title\")](link) -->[![Alt Text](https://miro.medium.com/max/80/0*PRNVc7bjff0Jj1pm.png \"Optional Title\")](https://medium.com/@ahmedazizkhelifi)"
   ]
  },
  {
   "cell_type": "markdown",
   "id": "prospective-yield",
   "metadata": {},
   "source": [
    "## • Horizontal Rule\n",
    "To create a horizontal rule, use three or more asterisks ( *** ), dashes ( --- ), or\n",
    "underscores ( ___ ) on a line by themselves.\n",
    "Reading articles on Medium is awesome.\n",
    "---\n",
    "Sure !!"
   ]
  },
  {
   "cell_type": "markdown",
   "id": "adolescent-vatican",
   "metadata": {},
   "source": [
    "## • Table\n",
    "It’s so freaking easy. And you can use this website to generate them.\n",
    "Use \\ before the dollar signs $ , on your Notebook, otherwise, you’ll enter the\n",
    "math display mode (check it out on the LaTeX side).\n",
    "\n",
    "| Id | Label | Price |\n",
    "|--- |----------| ------|\n",
    "| 01 | Markdown |\\$1600 |\n",
    "| 02 | is | \\$12 |\n",
    "| 03 | AWESOME | \\$999 |\n"
   ]
  },
  {
   "cell_type": "markdown",
   "id": "terminal-infrastructure",
   "metadata": {},
   "source": [
    "## • Code and Syntax Highlighting\n",
    "```python\n",
    "def staySafe(Coronavirus)\n",
    " if not home:\n",
    "```\n",
    "\n",
    "code.html hosted with ᤻᤹᤺ by GitHub\n",
    "```html\n",
    "<pre><code class=\"lang-python\"><span class=\"hljs-function\"><span class=\"hljs-keyword\">def</\n",
    "<span class=\"hljs-keyword\">if</span> <span class=\"hljs-keyword\">not</span> <span class=\"\n",
    "<span class=\"hljs-keyword\">return</span> home\n",
    "</code></pre>\n",
    "```\n"
   ]
  },
  {
   "cell_type": "markdown",
   "id": "clean-settlement",
   "metadata": {},
   "source": [
    "## • Blockquotes\n",
    "Blockquotes work like replies to e-mails: you must precede the quoted lines with a\n",
    "> .\n",
    "> This is a blockquote.\n",
    ">\n",
    "> This is part of the same blockquote.\n",
    "Quote break\n",
    "> This is a new blockquote.\n"
   ]
  },
  {
   "cell_type": "markdown",
   "id": "mathematical-pennsylvania",
   "metadata": {},
   "source": [
    "# LaTeX\n",
    "\n",
    "Have you ever asked yourself, how they write   \n",
    "complex maths and physics equations using   \n",
    "computer? Well, it’s all about LaTeX.  \n",
    "The Jupyter Notebook uses MathJax to render LaTeX inside HTML / Markdown.  \n",
    "Just put your LaTeX math inside $ $ . Or enter in display math mode by writing  \n",
    "between $$ $$ .  \n",
    "\n",
    "To insert a mathematical formula we use the dollar symbol , as follows:  \n",
    "Euler's identity: $ e^{i \\pi} + 1 = 0 $  \n",
    "To isolate and center the formulas and enter in math display mode, we use 2 dollars symbol:   \n",
    "$$\n",
    "...\n",
    "$$\n",
    "Euler's identity: $$ e^{i \\pi} + 1 = 0 $$\n"
   ]
  },
  {
   "cell_type": "markdown",
   "id": "average-belgium",
   "metadata": {},
   "source": [
    "## Important Notes:\n",
    "```\n",
    "1. To add little spacing in math mode use \\,\n",
    "2. To add a new line when in math mode use \\\\\n",
    "3. To display fraction use \\frac{arg 1}{arg 2}\n",
    "4. For power (superscripts text) use ^{}\n",
    "5. For indices (subscripts) use _{}\n",
    "6. For roots use \\sqrt[n]{arg}  , The [n] is optional.\n",
    "```\n",
    "$$\n",
    "\\frac{arg 1}{arg 2} \\\\\n",
    "x^2\\\\\n",
    "e^{i\\pi}\\\\\n",
    "A_i\\\\\n",
    "B_{ij}\\\\\n",
    "\\sqrt[n]{arg}\n",
    "$$\n",
    "\n",
    "LaTeX file extension is .tex"
   ]
  },
  {
   "cell_type": "markdown",
   "id": "hollywood-allah",
   "metadata": {},
   "source": [
    "### Important Note:\n",
    "\n",
    "|Uppercase| LaTeX |Lowercase| LaTeX | \n",
    "|---------|-------|---------|-------|\n",
    "|$\\Delta$ |\\\\Delta|$\\delta$ |\\\\delta|\n",
    "|$\\Omega$ |\\\\Omega|$\\omega$ |\\\\omega|"
   ]
  },
  {
   "cell_type": "markdown",
   "id": "vietnamese-trading",
   "metadata": {},
   "source": [
    "![img](https://miro.medium.com/max/423/1*rvn-mNdprK7m1koOns8ilg.png)"
   ]
  },
  {
   "cell_type": "markdown",
   "id": "dependent-valentine",
   "metadata": {},
   "source": [
    "## • Roman Names:\n",
    "\n",
    "$$\n",
    "\\sin(-\\alpha)=-\\sin(\\alpha)\\\\\n",
    "\\arccos(x)=\\arcsin(u)\\\\\n",
    "\\log_n(n)=1\\\\\n",
    "\\tan(x) = \\frac{\\sin(x)}{\\cos(x)}\n",
    "$$\n"
   ]
  },
  {
   "cell_type": "markdown",
   "id": "central-intervention",
   "metadata": {},
   "source": [
    "![](https://miro.medium.com/max/385/1*7dib0gZYUE3_2Ac3CClazw.png)"
   ]
  },
  {
   "cell_type": "markdown",
   "id": "solid-being",
   "metadata": {},
   "source": [
    "# Other Symbols\n",
    "## Angles:\n",
    "Left angle : $\\langle$\n",
    "\n",
    "Right angle : $\\rangle$\n",
    "\n",
    "Angle between two vectors u and v\t: $\\langle \\vec{u},\\vec{v}\\rangle$\t\n",
    "\n",
    "$$ \\vec{AB} \\, \\cdot \\, \\vec{CD} =0  \\Rightarrow  \\vec{AB} \\, \\perp\\, \\vec{CD}$$\n",
    "\n",
    "##Sets and logic\n",
    "$$\\mathbb{N} \\subset \\mathbb{Z} \\subset \\mathbb{D} \\subset \\mathbb{Q} \\subset \\mathbb{R} \\subset \\mathbb{C}$$"
   ]
  },
  {
   "cell_type": "markdown",
   "id": "indie-consideration",
   "metadata": {},
   "source": [
    "![](https://miro.medium.com/max/422/1*8qpYLNPmlvEoEMaoksfINA.png)\n",
    "![](https://miro.medium.com/max/482/1*IgyFkP0Z9Dk6QQumL5sClQ.png)\n",
    "![](https://miro.medium.com/max/429/1*ODvw1B-e_Kpgl4iQ93O86A.png)"
   ]
  },
  {
   "cell_type": "markdown",
   "id": "convinced-fields",
   "metadata": {},
   "source": [
    "# Vertical curly braces: \n",
    "```\n",
    "To define a left vertical curly brace we use the attribute\n",
    "\\left\\{\n",
    "to close it we use\n",
    "\\right\\}\n",
    "```\n",
    "\n",
    "$$\n",
    "sign(x) = \\left\\{\n",
    "    \\begin{array}\\\\\n",
    "        1 & \\mbox{if } \\ x \\in \\mathbf{N}^* \\\\\n",
    "        0 & \\mbox{if } \\ x = 0 \\\\\n",
    "        -1 & \\mbox{else.}\n",
    "    \\end{array}\n",
    "\\right.\n",
    "$$\n",
    "\n",
    "\\\\\n",
    "\n",
    "$$\n",
    " \\left.\n",
    "    \\begin{array} \\\\\n",
    "        \\alpha^2 = \\sqrt5 \\\\\n",
    "        \\alpha \\geq 0 \n",
    "    \\end{array}\n",
    "\\right \\} \\alpha = 5 \n",
    "$$"
   ]
  },
  {
   "cell_type": "markdown",
   "id": "declared-latin",
   "metadata": {},
   "source": [
    "# Horizontal curly braces $\\underbrace{}$\n",
    "```\n",
    "\\underbrace{...}\n",
    "\\overbrace{...}\n",
    "```\n",
    "\n",
    "$$\n",
    "\\underbrace{\\ln \\left( \\frac{5}{6} \\right)}_{\\simeq -0.1823}\n",
    "< \\overbrace{\\exp (2)}^{\\simeq 7.3890}\n",
    "$$\n"
   ]
  },
  {
   "cell_type": "markdown",
   "id": "nonprofit-excitement",
   "metadata": {},
   "source": [
    "# Derivate \n",
    "\n",
    "First order derivative : $$f'(x)$$ \n",
    "K-th order derivative  : $$f^{(k)}(x)$$\n",
    "Partial firt order derivative\t: $$\\frac{\\partial f}{\\partial x}$$\n",
    "Partial k-th order derivative\t: $$\\frac{\\partial^{k} f}{\\partial x^k}$$"
   ]
  },
  {
   "cell_type": "markdown",
   "id": "great-resistance",
   "metadata": {},
   "source": [
    "# Limit $\\lim$\n",
    "Limit at plus infinity\t: $$\\lim_{x \\to +\\infty} f(x)$$ \n",
    "Limit at minus infinity\t: $$\\lim_{x \\to -\\infty} f(x)$$\t\n",
    "Limit at $\\alpha$  : $$\\lim_{x \\to \\alpha} f(x)$$\n",
    "\n",
    "Max : $$\\max_{x \\in [a,b]}f(x)$$\t\n",
    "Min : $$\\min_{x \\in [\\alpha,\\beta]}f(x)$$\t\n",
    "Sup : $$\\sup_{x \\in \\mathbb{R}}f(x)$$\t\n",
    "Inf : $$\\inf_{x > s}f(x)$$\t"
   ]
  },
  {
   "cell_type": "markdown",
   "id": "tested-solution",
   "metadata": {},
   "source": [
    "#  Sum $\\sum$\n",
    "Sum from 0 to +inf:\n",
    "\n",
    "$$\\sum_{j=0}^{+\\infty} A_{j}$$\n",
    "\n",
    "Double sum:\n",
    "$$\\sum^k_{i=1}\\sum^{l+1}_{j=1}\\,A_i A_j$$\t\n",
    "\n",
    "\n",
    "Taylor expansion of $e^x$:\n",
    "$$ e^x  = \\sum_{k=0}^{n}\\, \\frac{x^k}{k!} + o(x^n) $$ "
   ]
  },
  {
   "cell_type": "markdown",
   "id": "valid-canal",
   "metadata": {},
   "source": [
    "# Product $\\prod$\n",
    "Product:\n",
    "$$\\prod_{j=1}^k A_{\\alpha_j}$$\n",
    "Double product:\n",
    "$$\\prod^k_{i=1}\\prod^l_{j=1}\\,A_i A_j$$\t"
   ]
  },
  {
   "cell_type": "markdown",
   "id": "introductory-bryan",
   "metadata": {},
   "source": [
    "#  Integral : $\\int$\n",
    "\n",
    "Simple integral:\n",
    "$$\\int_{a}^b f(x)dx$$\n",
    "\n",
    "Double integral:\n",
    "$$\\int_{a}^b\\int_{c}^d f(x,y)\\,dxdy$$\t\n",
    "\n",
    "Triple integral:\n",
    "$$\\iiint$$\t\n",
    "\n",
    "Quadruple integral:\n",
    "$$\\iiiint$$\t\n",
    "\n",
    "Multiple integral :\n",
    "$$\\idotsint$$\n",
    "\n",
    "Contour integral:\n",
    "$$\\oint$$\t"
   ]
  },
  {
   "cell_type": "markdown",
   "id": "liked-portable",
   "metadata": {},
   "source": [
    "#  Matrix \n",
    "\n",
    "Plain:\n",
    "\n",
    "\\begin{matrix}\n",
    "1 & 2 & 3\\\\\n",
    "a & b & c\n",
    "\\end{matrix}\n",
    "\n",
    "Round brackets:\n",
    "\\begin{pmatrix}\n",
    "1 & 2 & 3\\\\\n",
    "a & b & c\n",
    "\\end{pmatrix}\n",
    "\n",
    "Curly brackets:\n",
    "\\begin{Bmatrix}\n",
    "1 & 2 & 3\\\\\n",
    "a & b & c\n",
    "\\end{Bmatrix}\t\n",
    "\n",
    "Pipes:\n",
    "\\begin{vmatrix}\n",
    "1 & 2 & 3\\\\\n",
    "a & b & c\n",
    "\\end{vmatrix}\n",
    "\n",
    "Double pipes\n",
    "\\begin{Vmatrix}\n",
    "1 & 2 & 3\\\\\n",
    "a & b & c\n",
    "\\end{Vmatrix}"
   ]
  },
  {
   "cell_type": "markdown",
   "id": "continuous-depth",
   "metadata": {},
   "source": [
    "Resources:\n",
    "```\n",
    "https://www.datasciencecentral.com/profiles/blogs/all-about-using-jupyter-notebooks-and-google-colab\n",
    "https://oeis.org/wiki/List_of_LaTeX_mathematical_symbols\n",
    "https://jupyter.org/\n",
    "https://en.wikipedia.org/wiki/Project_Jupyter\n",
    "https://en.wikipedia.org/wiki/Markdown\n",
    "http://tug.ctan.org/info/undergradmath/\n",
    "https://openclassrooms.com/en/courses/1304236-redigez-en-markdown\n",
    "```"
   ]
  }
 ],
 "metadata": {
  "kernelspec": {
   "display_name": "Python 3",
   "language": "python",
   "name": "python3"
  },
  "language_info": {
   "codemirror_mode": {
    "name": "ipython",
    "version": 3
   },
   "file_extension": ".py",
   "mimetype": "text/x-python",
   "name": "python",
   "nbconvert_exporter": "python",
   "pygments_lexer": "ipython3",
   "version": "3.8.0"
  }
 },
 "nbformat": 4,
 "nbformat_minor": 5
}

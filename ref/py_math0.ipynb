{
 "cells": [
  {
   "cell_type": "markdown",
   "metadata": {},
   "source": [
    "# 電腦數學符號運算簡介Symbolic Manipulation in Python (numpy,sympy)"
   ]
  },
  {
   "cell_type": "markdown",
   "metadata": {},
   "source": [
    "### 第1節. 介紹Python基礎,及Sym 數學表達式"
   ]
  },
  {
   "cell_type": "markdown",
   "metadata": {},
   "source": [
    "### 1.1預先安裝 Python 3.8.7,以及第三方組件\n",
    "- pip install numpy\n",
    "- pip install sympy\n",
    "- pip install jupyterlab"
   ]
  },
  {
   "cell_type": "code",
   "execution_count": 2,
   "metadata": {},
   "outputs": [],
   "source": [
    "\"\"\"\n",
    "初始化, 程式sympy組件,必要組件, 預先執行. 如果Restart時, 至少執行一次.\n",
    "\"\"\"\n",
    "import random                                     #亂數 \n",
    "import math                                       #math 內置數學函數\n",
    "import numpy as np                                #數字矩陣\n",
    "import sympy as sp                                #sympy 簡易別名 sp    \n",
    "from sympy.parsing.sympy_parser import parse_expr #文字字串, 解釋成, Sympy 運算式\n",
    "from sympy.plotting import plot                   #繪圖表\n",
    "from IPython.display import Latex                 #網頁顯示數學符號\n",
    "import json                                       #JSON 結構化資料\n",
    "sp.init_printing(\"mathjax\")                       #sp.init_printing()"
   ]
  },
  {
   "cell_type": "markdown",
   "metadata": {},
   "source": [
    "### 1.2 Python基礎: 亂數, 字串, 迴圈, 判斷, input"
   ]
  },
  {
   "cell_type": "code",
   "execution_count": 3,
   "metadata": {},
   "outputs": [
    {
     "name": "stdout",
     "output_type": "stream",
     "text": [
      "c= 3 + (5)\n",
      "c= 3 + (5)\n"
     ]
    },
    {
     "name": "stdin",
     "output_type": "stream",
     "text": [
      "c? , input number: 1\n"
     ]
    },
    {
     "name": "stdout",
     "output_type": "stream",
     "text": [
      "1 答錯,標準答案為8.\n",
      "c= 5 + (-1)\n",
      "c= 5 + (-1)\n"
     ]
    },
    {
     "name": "stdin",
     "output_type": "stream",
     "text": [
      "c? , input number: 1\n"
     ]
    },
    {
     "name": "stdout",
     "output_type": "stream",
     "text": [
      "1 答錯,標準答案為4.\n",
      "c= -4 + (-2)\n",
      "c= -4 + (-2)\n"
     ]
    },
    {
     "name": "stdin",
     "output_type": "stream",
     "text": [
      "c? , input number: 1\n"
     ]
    },
    {
     "name": "stdout",
     "output_type": "stream",
     "text": [
      "1 答錯,標準答案為-6.\n",
      "小結: 得分0, 共3題.\n"
     ]
    }
   ],
   "source": [
    "\"\"\"\n",
    "Python 程式介紹\n",
    "\"\"\"\n",
    "Mark=0;\n",
    "QizAmt=3;\n",
    "SampleList=list(range(-99,99))  # list( ); [0,1,2,3,4,5,6,7,8,9]\n",
    "SampleList_NoZero=list(range(-99,99)).remove(0)\n",
    "for i in range( 0, QizAmt ):\n",
    "    # random.choice(sample_list); random.choice([-2,-1,0,1,2])\n",
    "    a = random.choice([-5,-4,-3,-2,-1,0,1,2,3,4,5]) # 亂數 a [-5:+5] \n",
    "    b =-random.choice([-5,-4,-3,-2,-1,1,2,3,4,5])  # 亂數  b [-5:+5] 非零 \n",
    "    # abs(x) 絶對值|x|, round(float_number)四拾五入, math.copysign\n",
    "    if a==b: b=math.copysign(abs(b)+random.choice(range(1,5)),b)    # 並且  a != b, if a==b then (abs(b)+random) * sign(+,-)\n",
    "    # + Add -; Sub *; Mul; / Div; ** Exponent; pow(base,exp) ;// Floor Division; ( ); % Modulus;\n",
    "    c = a + b \n",
    "    # string format: \"c=a+b\";  f\"c={a}+{b}\"; r\"c=%s + %s \" % (a,b)\n",
    "    print(f\"c= {a} + ({b})\")\n",
    "    print(r\"c= %s + (%s)\" % (a,b))\n",
    "    # input string to \"ans\",\n",
    "    Ans=input(\"c? , input number:\")\n",
    "    # == != <> > < >= <= , int(number_str) ,str(number), \n",
    "    if c == int(Ans):\n",
    "        # += -= /= *= **= //= %=\n",
    "        Mark=Mark+1;  # mark+=1\n",
    "        print(f\"{Ans} , 答對!加一分\")\n",
    "    else:\n",
    "        print(f\"{Ans} 答錯,標準答案為{c}.\")\n",
    "print(f\"小結: 得分{Mark}, 共{QizAmt}題.\")"
   ]
  },
  {
   "cell_type": "code",
   "execution_count": 14,
   "metadata": {},
   "outputs": [
    {
     "name": "stdout",
     "output_type": "stream",
     "text": [
      "13\n",
      "12\n",
      "13\n",
      "21\n",
      "-1.0\n",
      "5.0\n",
      "120\n",
      "3\n",
      "45\n",
      "4.0\n",
      "3.141592653589793\n",
      "2.718281828459045\n",
      "6.283185307179586\n",
      "inf\n",
      "nan\n",
      "end.\n"
     ]
    }
   ],
   "source": [
    "\"\"\"\n",
    "math 內置數學函數\n",
    "\"\"\"\n",
    "import math\n",
    "# Number-theoretic and representation functions\n",
    "print(math.copysign(1.0, -0.0)) #-1.0 sign 指 + 或 - \n",
    "print(round(12.9))      # 13 四拾五入 \n",
    "print(math.ceil(12.1))  # 13 math.ceil(x)是整取 >= x 大的整數.\n",
    "print(math.floor(12.9)) # 12 拾去小數點后的值, 取整數 \n",
    "print(math.comb(7, 5))  # 組合 六合彩 Evaluates to n! / (k! * (n - k)!) when k <= n and evaluates to zero when k > n.\n",
    "print(math.fabs(-5))    # 同abs(x) 一樣是絶對值 Return the absolute value of x.\n",
    "print(math.factorial(5)) #5*4*3*2*1 階乘 Return x factorial as an integer. Raises ValueError if x is not integral or is negative.\n",
    "print(math.gcd(15,9))   #最大公倍數 math.lcm(*integers)\n",
    "#print(math.lcm(15,9))  #最小公約數 math.lcm(*integers) python 3.9\n",
    "def lcm(a, b):\n",
    "    return abs(a*b) // math.gcd(a, b)\n",
    "print(lcm(15,9))\n",
    "print(math.pow(2, 2))  # 2^2 \n",
    "#常數\n",
    "print(math.pi) # The mathematical constant π = 3.141592…, to available precision.\n",
    "print(math.e)  # The mathematical constant e = 2.718281…, to available precision.\n",
    "print(math.tau)# The mathematical constant τ = 6.283185…, to available precision. Tau is a circle constant equal to 2π, the ratio of a circle’s circumference to its radius. To learn more about Tau, check out Vi Hart’s video Pi is (still) Wrong, and start celebrating Tau day by eating twice as much pie!\n",
    "print(math.inf)# A floating-point positive infinity. (For negative infinity, use -math.inf.) Equivalent to the output of float('inf').\n",
    "print(math.nan)# A floating-point “not a number” (NaN) value. Equivalent to the output of float('nan').\n",
    "\"\"\"\n",
    "math.cos(x) #Return the cosine of x radians.\n",
    "math.sin(x)\n",
    "math.tan(x)\n",
    "math.degrees(x) #Convert angle x from radians to degrees.\n",
    "math.radians(x) #Convert angle x from degrees to radians.\n",
    "\"\"\"\n",
    "print(\"end.\")"
   ]
  },
  {
   "cell_type": "markdown",
   "metadata": {},
   "source": [
    "### 1.2.1 Latex\n",
    "- \\frac {x} {y}\n",
    "\n",
    "$$  \\frac{x}{y} $$\n",
    "- |{x}|\n",
    "$$ |{x}| $$\n",
    "- {x}^{y}\n",
    "$$ {x}^{y} $$\n",
    "- {\\large{ (\\frac{x}{y})}}^{z}\n",
    "$$ {\\large{ (- \\frac{x}{y})}}^{z} $$\n",
    "- x^2-2x+1=0\n",
    "$$ x^2-2x+1=0 $$\n",
    "- 有理數的巧算\n",
    "1. 等差數列  sum=(f1+fn)*n/2 ;  n=((fn-f1)/ difference) +1\n",
    "$$ sum=\\frac{ (f1+fn)*n }{2}  $$\n",
    "$$ n=\\frac{(fn-f1)}{difference} +1  $$\n",
    "2. 等比數列  sum=f1*(1- ratio ^ n) / (1- ratio)\n",
    "$$ \\frac{ f1*(1- ratio ^ n) }{1- ratio}  $$\n",
    "3. 平方和    sum=1/6 * n * (n+1) *(2n +1)\n",
    "$$ \\frac{1}{6} * n * (n+1) * (2n+1) $$\n",
    "4.  排列：由 n 種物品中取出 m 個排成一列，其排列方式有 n P m 種\n",
    "- 可重複  $n^m$\n",
    "- 不重複  $n*(n-1)....(n-m+1)$\n",
    "5. 組合n 中取m 不重複\n",
    "$$  n C m=  n! /(n-m)!m!   $$\n",
    "6. 組合n 中取m 重複\n",
    "$$ n H m =  n+m-1 C m    $$\n",
    "\n",
    "\n"
   ]
  },
  {
   "cell_type": "code",
   "execution_count": 3,
   "metadata": {},
   "outputs": [
    {
     "name": "stdout",
     "output_type": "stream",
     "text": [
      "# python 計算方法\n",
      "-0.825\n"
     ]
    },
    {
     "data": {
      "image/png": "[encoded data removed]",
      "text/latex": [
       "$\\displaystyle -0.825$"
      ],
      "text/plain": [
       "-0.825"
      ]
     },
     "metadata": {},
     "output_type": "display_data"
    },
    {
     "name": "stdout",
     "output_type": "stream",
     "text": [
      "# 第1次使用Sym 計算結束\n",
      "-33/40\n"
     ]
    },
    {
     "data": {
      "image/png": "[encoded data removed]",
      "text/latex": [
       "$\\displaystyle - \\frac{33}{40}$"
      ],
      "text/plain": [
       "-33 \n",
       "────\n",
       " 40 "
      ]
     },
     "metadata": {},
     "output_type": "display_data"
    }
   ],
   "source": [
    "\"\"\"\n",
    "Sym 的分別,及運算結果\n",
    "\"\"\"\n",
    "a=99\n",
    "b=-120\n",
    "print(\"# python 計算方法\")\n",
    "c= a/b\n",
    "print(c)\n",
    "display(c)\n",
    "print(\"# 第1次使用Sym 計算結束\")\n",
    "c= sp.Integer(a) / sp.Integer(b) # + - * / **\n",
    "print(c)    #print 和 display 不同\n",
    "display(c)  #Latex 格式"
   ]
  },
  {
   "cell_type": "code",
   "execution_count": 7,
   "metadata": {},
   "outputs": [
    {
     "name": "stdout",
     "output_type": "stream",
     "text": [
      "一元二次方程式\n"
     ]
    },
    {
     "data": {
      "image/png": "[encoded data removed]",
      "text/latex": [
       "$\\displaystyle x^{2} + 3 x - 4 = 0$"
      ],
      "text/plain": [
       " 2              \n",
       "x  + 3⋅x - 4 = 0"
      ]
     },
     "metadata": {},
     "output_type": "display_data"
    },
    {
     "data": {
      "image/png": "[encoded data removed]",
      "text/latex": [
       "$\\displaystyle \\left[ -4, \\  1\\right]$"
      ],
      "text/plain": [
       "[-4, 1]"
      ]
     },
     "metadata": {},
     "output_type": "display_data"
    },
    {
     "name": "stdout",
     "output_type": "stream",
     "text": [
      "多項式\n"
     ]
    },
    {
     "data": {
      "image/png": "[encoded data removed]",
      "text/latex": [
       "$\\displaystyle x + y + z = 0$"
      ],
      "text/plain": [
       "x + y + z = 0"
      ]
     },
     "metadata": {},
     "output_type": "display_data"
    },
    {
     "data": {
      "image/png": "[encoded data removed]",
      "text/latex": [
       "$\\displaystyle 2 x - y - z = 10$"
      ],
      "text/plain": [
       "2⋅x - y - z = 10"
      ]
     },
     "metadata": {},
     "output_type": "display_data"
    },
    {
     "data": {
      "image/png": "[encoded data removed]",
      "text/latex": [
       "$\\displaystyle y + 2 z = 5$"
      ],
      "text/plain": [
       "y + 2⋅z = 5"
      ]
     },
     "metadata": {},
     "output_type": "display_data"
    },
    {
     "data": {
      "image/png": "[encoded data removed]",
      "text/latex": [
       "$\\displaystyle \\left\\{ x : \\frac{10}{3}, \\  y : - \\frac{35}{3}, \\  z : \\frac{25}{3}\\right\\}$"
      ],
      "text/plain": [
       "{x: 10/3, y: -35/3, z: 25/3}"
      ]
     },
     "metadata": {},
     "output_type": "display_data"
    }
   ],
   "source": [
    "print(\"一元二次方程式\")\n",
    "x=sp.Symbol('x')  \n",
    "f=x**2 + 3*x -4  #f=sp.Function('f')\n",
    "fx=sp.Eq(f,0)\n",
    "display(fx)\n",
    "display(sp.solve(fx))\n",
    "print(\"多項式\")\n",
    "x,y,z=sp.symbols('x,y,z')\n",
    "eq1=sp.Eq(x+y+z,0)\n",
    "eq2=sp.Eq(2*x-y-z,10)\n",
    "eq3=sp.Eq(y+2*z,5)\n",
    "display(eq1)\n",
    "display(eq2)\n",
    "display(eq3)\n",
    "display(sp.solve([eq1,eq2,eq3],[x,y,z]))"
   ]
  },
  {
   "cell_type": "markdown",
   "metadata": {},
   "source": [
    "### 1.3 有理數"
   ]
  },
  {
   "cell_type": "code",
   "execution_count": 18,
   "metadata": {},
   "outputs": [
    {
     "data": {
      "image/png": "[encoded data removed]",
      "text/latex": [
       "$\\displaystyle - \\frac{1}{3}$"
      ],
      "text/plain": [
       "-1/3"
      ]
     },
     "metadata": {},
     "output_type": "display_data"
    },
    {
     "name": "stdout",
     "output_type": "stream",
     "text": [
      "11.0\n",
      "13.0\n"
     ]
    },
    {
     "data": {
      "image/png": "[encoded data removed]",
      "text/latex": [
       "$\\displaystyle \\frac{11}{13}$"
      ],
      "text/plain": [
       "11\n",
       "──\n",
       "13"
      ]
     },
     "metadata": {},
     "output_type": "display_data"
    },
    {
     "data": {
      "image/png": "[encoded data removed]",
      "text/latex": [
       "$\\displaystyle \\frac{2}{3}$"
      ],
      "text/plain": [
       "2/3"
      ]
     },
     "metadata": {},
     "output_type": "display_data"
    }
   ],
   "source": [
    "\"\"\"\n",
    "Sym 的簡單運算\n",
    "\"\"\"\n",
    "a=sp.Rational(-2,6)\n",
    "display(a)\n",
    "b=math.gcd(173173,204659)\n",
    "print(173173/b)\n",
    "print(204659/b)\n",
    "a=sp.Rational(173173,204659)\n",
    "display(a)\n",
    "a=sp.Rational(10402628,15603942)\n",
    "display(a)"
   ]
  },
  {
   "cell_type": "code",
   "execution_count": 19,
   "metadata": {},
   "outputs": [
    {
     "data": {
      "image/png": "[encoded data removed]",
      "text/latex": [
       "$\\displaystyle \\frac{1}{2}$"
      ],
      "text/plain": [
       "1/2"
      ]
     },
     "metadata": {},
     "output_type": "display_data"
    },
    {
     "data": {
      "image/png": "[encoded data removed]",
      "text/latex": [
       "$\\displaystyle \\frac{9}{4}$"
      ],
      "text/plain": [
       "9/4"
      ]
     },
     "metadata": {},
     "output_type": "display_data"
    },
    {
     "data": {
      "image/png": "[encoded data removed]",
      "text/latex": [
       "$\\displaystyle \\frac{1}{\\frac{4}{9}}$"
      ],
      "text/plain": [
       " 1  \n",
       "────\n",
       "   2\n",
       "2/3 "
      ]
     },
     "metadata": {},
     "output_type": "display_data"
    },
    {
     "data": {
      "image/png": "[encoded data removed]",
      "text/latex": [
       "$\\displaystyle x^{2} + y^{2} + z^{2}$"
      ],
      "text/plain": [
       " 2    2    2\n",
       "x  + y  + z "
      ]
     },
     "metadata": {},
     "output_type": "display_data"
    },
    {
     "data": {
      "image/png": "[encoded data removed]",
      "text/latex": [
       "$\\displaystyle \\frac{x^{2} + y^{2} + z^{2}}{x - 2 y}$"
      ],
      "text/plain": [
       " 2    2    2\n",
       "x  + y  + z \n",
       "────────────\n",
       "  x - 2⋅y   "
      ]
     },
     "metadata": {},
     "output_type": "display_data"
    },
    {
     "data": {
      "image/png": "[encoded data removed]",
      "text/latex": [
       "$\\displaystyle \\frac{y^{2} + z^{2} + 16}{4 - 2 y}$"
      ],
      "text/plain": [
       " 2    2     \n",
       "y  + z  + 16\n",
       "────────────\n",
       "  4 - 2⋅y   "
      ]
     },
     "execution_count": 19,
     "metadata": {},
     "output_type": "execute_result"
    }
   ],
   "source": [
    "display(sp.Rational(1,2))\n",
    "display(sp.Pow(sp.Rational(2,3),-2))\n",
    "display(sp.Pow(sp.Rational(2,3),-2,evaluate=False) )\n",
    "x=sp.Symbol('x')\n",
    "y,z=sp.symbols('y,z')\n",
    "f=sp.Function('f')\n",
    "f=x**2 + y**2 + z**2\n",
    "display(f)\n",
    "g= (x**2 + y**2 + z**2) / (x-y-y) \n",
    "display(g)\n",
    "g.subs(x,4)"
   ]
  },
  {
   "cell_type": "markdown",
   "metadata": {},
   "source": [
    "### 1.3 Sym 數學表逹式(parse_expr), 簡化 symplify. 解方程 solve,因式分解 factor"
   ]
  },
  {
   "cell_type": "code",
   "execution_count": 4,
   "metadata": {},
   "outputs": [
    {
     "data": {
      "text/latex": [
       "$\\displaystyle - (5 - 1) - 1$"
      ],
      "text/plain": [
       "-(5 - 1) - 1"
      ]
     },
     "metadata": {},
     "output_type": "display_data"
    },
    {
     "name": "stdin",
     "output_type": "stream",
     "text": [
      "請作答: -5\n"
     ]
    },
    {
     "name": "stdout",
     "output_type": "stream",
     "text": [
      "答對!\n",
      "----------------\n"
     ]
    },
    {
     "data": {
      "text/latex": [
       "$\\displaystyle -1 - \\left(-5 - -4\\right)$"
      ],
      "text/plain": [
       "-1 - (-5 - -4)"
      ]
     },
     "metadata": {},
     "output_type": "display_data"
    },
    {
     "name": "stdin",
     "output_type": "stream",
     "text": [
      "請作答: 0\n"
     ]
    },
    {
     "name": "stdout",
     "output_type": "stream",
     "text": [
      "答對!\n",
      "----------------\n",
      "總結:題型1 共 2題,得 2 分. \n"
     ]
    }
   ],
   "source": [
    "\"\"\"\n",
    "第一個例子: 有理數運算:亂數 a, b, c , 式子 a - (b - (c) ) , 給出數學式, 標準答案, 作答及計分.\n",
    "\"\"\"\n",
    "QizAmt=2 #出几題\n",
    "mark=0   #得分\n",
    "for i in range(0,QizAmt):\n",
    "    a=random.choice([-5,-4,-3,-2,-1,1,2,3,4,5]) #亂數a,b,c, 非零 [-5:+5]\n",
    "    b=random.choice([-5,-4,-3,-2,-1,1,2,3,4,5])\n",
    "    c=random.choice([-5,-4,-3,-2,-1,1,2,3,4,5]) #print(f\"a={a},b={b},c={c}\")\n",
    "    qiz_str=f\" {a} -  ( {b} - ({c}) ) \"         #題型文字式子  #print(qiz_str)\n",
    "    St=parse_expr(qiz_str, evaluate=False)     #字串 解釋為可運算 式子 qiz;估算 evaluate為False,不作運算.\n",
    "    display(St)                                #顥示算式   \n",
    "    ans=input(\"請作答:\")                    #請作答,輸入答案.\n",
    "    Val=sp.simplify(St)               #簡化算式,得出標準答案 standrad answer.\n",
    "    if int(ans)==Val:                          #比對答案:\n",
    "        print(\"答對!\")                              #答對加一分\n",
    "        mark+=1\n",
    "        print(\"----------------\")\n",
    "    else:                                      #不則\n",
    "        print(f\"答案錯誤, 標準答案: \")               #顯示標準答案. \n",
    "        display(Val)\n",
    "        print(\"----------------\")        \n",
    "print(f\"總結:題型1 共 {QizAmt}題,得 {mark} 分. \")  #總結得分"
   ]
  },
  {
   "cell_type": "code",
   "execution_count": 6,
   "metadata": {},
   "outputs": [
    {
     "data": {
      "text/latex": [
       "$\\displaystyle 1 x - 3 = -10$"
      ],
      "text/plain": [
       "1⋅x - 3 = -10"
      ]
     },
     "metadata": {},
     "output_type": "display_data"
    },
    {
     "data": {
      "text/latex": [
       "$\\displaystyle \\left[ -7\\right]$"
      ],
      "text/plain": [
       "[-7]"
      ]
     },
     "metadata": {},
     "output_type": "display_data"
    },
    {
     "data": {
      "text/latex": [
       "$\\displaystyle 1 x + 7 = 10$"
      ],
      "text/plain": [
       "1⋅x + 7 = 10"
      ]
     },
     "metadata": {},
     "output_type": "display_data"
    },
    {
     "data": {
      "text/latex": [
       "$\\displaystyle \\left[ 3\\right]$"
      ],
      "text/plain": [
       "[3]"
      ]
     },
     "metadata": {},
     "output_type": "display_data"
    }
   ],
   "source": [
    "\"\"\"\n",
    "一元一次方程 ax + b =c 求解\n",
    "\"\"\"\n",
    "QizAmt=2\n",
    "for i in range(0,QizAmt):\n",
    "    a = 1 \n",
    "    p=random.choice([-5,-4,-3,-2,-1,1,2,3,4,5])\n",
    "    q=random.choice([-5,-4,-3,-2,-1,1,2,3,4,5])\n",
    "    b=p+q\n",
    "    c=p*q\n",
    "    express_str=f\" {a}*x + {b} \"                    # f(x)= ax + b\n",
    "    QizStat=parse_expr(express_str, evaluate=False) #字串解釋為可運算式子 expression \n",
    "    fx=sp.Eq( QizStat, c )                           # f(x)=c ,\n",
    "    display(fx)\n",
    "    Val=sp.solve(fx)                                 #求根,得出標準答案\n",
    "    display(Val)"
   ]
  },
  {
   "cell_type": "code",
   "execution_count": 11,
   "metadata": {},
   "outputs": [
    {
     "data": {
      "text/latex": [
       "$\\displaystyle 1 x^{2} + 1 x - 20 = 0$"
      ],
      "text/plain": [
       "   2               \n",
       "1⋅x  + 1⋅x - 20 = 0"
      ]
     },
     "metadata": {},
     "output_type": "display_data"
    },
    {
     "data": {
      "text/latex": [
       "$\\displaystyle \\left[ -5, \\  4\\right]$"
      ],
      "text/plain": [
       "[-5, 4]"
      ]
     },
     "metadata": {},
     "output_type": "display_data"
    },
    {
     "data": {
      "text/latex": [
       "$\\displaystyle 1 x^{2} + 2 x - 8 = 0$"
      ],
      "text/plain": [
       "   2              \n",
       "1⋅x  + 2⋅x - 8 = 0"
      ]
     },
     "metadata": {},
     "output_type": "display_data"
    },
    {
     "data": {
      "text/latex": [
       "$\\displaystyle \\left[ -4, \\  2\\right]$"
      ],
      "text/plain": [
       "[-4, 2]"
      ]
     },
     "metadata": {},
     "output_type": "display_data"
    }
   ],
   "source": [
    "\"\"\"\n",
    "一元二次方程式 ax^2 + bx +c = 0\n",
    "\"\"\"\n",
    "QizAmt=2\n",
    "for i in range(0,QizAmt):\n",
    "    a = 1 \n",
    "    p=random.choice([-5,-4,-3,-2,-1,1,2,3,4,5])\n",
    "    q=random.choice([-5,-4,-3,-2,-1,1,2,3,4,5])\n",
    "    b=p+q\n",
    "    c=p*q\n",
    "    express_str=f\"{a}*x**2 + {b}*x +  {c} \"         # print(express_str + \"=0\")\n",
    "    QizStat=parse_expr(express_str, evaluate=False) #字串解釋為可運算式子 expression\n",
    "    fx=sp.Eq(QizStat,0)                              #f(x)=0\n",
    "    display(fx)\n",
    "    Val=sp.solve(fx)                       #求根[x1,x2]\n",
    "    display(Val)"
   ]
  },
  {
   "cell_type": "code",
   "execution_count": 12,
   "metadata": {},
   "outputs": [
    {
     "name": "stdout",
     "output_type": "stream",
     "text": [
      "題型:\n"
     ]
    },
    {
     "data": {
      "text/latex": [
       "$\\displaystyle 1 x + 3 x - 4$"
      ],
      "text/plain": [
       "1⋅x + 3⋅x - 4"
      ]
     },
     "metadata": {},
     "output_type": "display_data"
    },
    {
     "name": "stdout",
     "output_type": "stream",
     "text": [
      "解:\n"
     ]
    },
    {
     "data": {
      "text/latex": [
       "$\\displaystyle 4 x - 4$"
      ],
      "text/plain": [
       "4⋅x - 4"
      ]
     },
     "metadata": {},
     "output_type": "display_data"
    },
    {
     "name": "stdout",
     "output_type": "stream",
     "text": [
      "題型:\n"
     ]
    },
    {
     "data": {
      "text/latex": [
       "$\\displaystyle x \\left(-9\\right) + 1 x + 20$"
      ],
      "text/plain": [
       "x⋅(-9) + 1⋅x + 20"
      ]
     },
     "metadata": {},
     "output_type": "display_data"
    },
    {
     "name": "stdout",
     "output_type": "stream",
     "text": [
      "解:\n"
     ]
    },
    {
     "data": {
      "text/latex": [
       "$\\displaystyle 20 - 8 x$"
      ],
      "text/plain": [
       "20 - 8⋅x"
      ]
     },
     "metadata": {},
     "output_type": "display_data"
    }
   ],
   "source": [
    "\"\"\"\n",
    "整式的加減法練習\n",
    "\"\"\"\n",
    "QizAmt=2 #出几題\n",
    "for i in range(0,QizAmt):\n",
    "    a = 1 \n",
    "    p=random.choice([-5,-4,-3,-2,-1,1,2,3,4,5])\n",
    "    q=random.choice([-5,-4,-3,-2,-1,1,2,3,4,5])\n",
    "    b=p+q\n",
    "    c=p*q\n",
    "    express_str=f\"{a}*x + {b}*x + {c}  \"  #題型 express_str ax+bx+c\n",
    "    St=parse_expr(express_str, evaluate=False) #字串解釋為可運算式子 expression\n",
    "    print(\"題型:\")\n",
    "    display(St)\n",
    "    Val=sp.simplify(St)\n",
    "    print(\"解:\")\n",
    "    display(Val)"
   ]
  },
  {
   "cell_type": "code",
   "execution_count": 13,
   "metadata": {},
   "outputs": [
    {
     "data": {
      "text/latex": [
       "$\\displaystyle 1 x^{2} + x \\left(-1\\right) - 12$"
      ],
      "text/plain": [
       "   2              \n",
       "1⋅x  + x⋅(-1) - 12"
      ]
     },
     "metadata": {},
     "output_type": "display_data"
    },
    {
     "data": {
      "text/latex": [
       "$\\displaystyle \\left(x - 4\\right) \\left(x + 3\\right)$"
      ],
      "text/plain": [
       "(x - 4)⋅(x + 3)"
      ]
     },
     "metadata": {},
     "output_type": "display_data"
    },
    {
     "data": {
      "text/latex": [
       "$\\displaystyle 1 x^{2} + 0 x - 4$"
      ],
      "text/plain": [
       "   2          \n",
       "1⋅x  + 0⋅x - 4"
      ]
     },
     "metadata": {},
     "output_type": "display_data"
    },
    {
     "data": {
      "text/latex": [
       "$\\displaystyle \\left(x - 2\\right) \\left(x + 2\\right)$"
      ],
      "text/plain": [
       "(x - 2)⋅(x + 2)"
      ]
     },
     "metadata": {},
     "output_type": "display_data"
    }
   ],
   "source": [
    "\"\"\"\n",
    "十字相乘法因式分解factor   x**2 + b*x + c\n",
    "\"\"\"\n",
    "QizAmt=2\n",
    "for i in range(0,QizAmt):\n",
    "    a = 1 \n",
    "    p=random.choice([-5,-4,-3,-2,-1,1,2,3,4,5])\n",
    "    q=random.choice([-5,-4,-3,-2,-1,1,2,3,4,5])\n",
    "    b=p+q\n",
    "    c=p*q\n",
    "    express_str=f\"{a}*x**2 + {b}*x +  {c} \"  \n",
    "    St=parse_expr(express_str, evaluate=False)     #字串解釋為可運算式子 expression\n",
    "    display(St)\n",
    "    Val=sp.factor(St)                              #因式分解,得出標準答案\n",
    "    display(Val)"
   ]
  },
  {
   "cell_type": "code",
   "execution_count": 14,
   "metadata": {},
   "outputs": [
    {
     "data": {
      "text/latex": [
       "$ {\\huge (- \\frac{5}{6})}^{-3} $"
      ],
      "text/plain": [
       "<IPython.core.display.Latex object>"
      ]
     },
     "metadata": {},
     "output_type": "display_data"
    },
    {
     "data": {
      "text/latex": [
       "$\\displaystyle - \\frac{216}{125}$"
      ],
      "text/plain": [
       "-216 \n",
       "─────\n",
       " 125 "
      ]
     },
     "metadata": {},
     "output_type": "display_data"
    },
    {
     "name": "stdout",
     "output_type": "stream",
     "text": [
      "-216/125\n"
     ]
    },
    {
     "data": {
      "text/latex": [
       "$ {\\huge (- \\frac{3}{2})}^{2} $"
      ],
      "text/plain": [
       "<IPython.core.display.Latex object>"
      ]
     },
     "metadata": {},
     "output_type": "display_data"
    },
    {
     "data": {
      "text/latex": [
       "$\\displaystyle \\frac{9}{4}$"
      ],
      "text/plain": [
       "9/4"
      ]
     },
     "metadata": {},
     "output_type": "display_data"
    },
    {
     "name": "stdout",
     "output_type": "stream",
     "text": [
      "9/4\n"
     ]
    }
   ],
   "source": [
    "\"\"\"\n",
    "整數指數冪的運算 (a/b)^c\n",
    "\"\"\"\n",
    "QizAmt=2 #出几題\n",
    "for i in range(0,QizAmt):\n",
    "    a=random.choice([-5,-4,-3,-2,-1,1,2,3,4,5])\n",
    "    b=random.choice([-9,-8,-7,-6,-5,-4,-3,-2,2,3,4,5,6,7,8,9])\n",
    "    c=random.choice([-3,-2,-1,2,3])\n",
    "    #print(f\"({a}/{b})^{c}\")  #題型  (a/b)^c\n",
    "    St=r\"$ {\\huge (%s)}^{%s} $\" % (sp.latex(sp.Rational(a,b)),c)\n",
    "    display(Latex(St))\n",
    "    #方法1:\n",
    "    expr=sp.Pow(sp.Rational(a,b),sp.Integer(c),evaluate=False)\n",
    "    Val=sp.simplify(expr)\n",
    "    #方法2:\n",
    "    #fenM=sp.Integer(b)\n",
    "    #fenX=a / fenM\n",
    "    #Val= fenX ** c  \n",
    "    display(Val)   #標準答案 \n",
    "    print(Val)"
   ]
  },
  {
   "cell_type": "markdown",
   "metadata": {},
   "source": [
    "### 1.4 PF0001. (初一.符)有理數的運算設計\n",
    "- 题型1：a+b+c=d  |a|,|b|,|c|< 100 整数\n",
    "1. 39+(-20)-10 答:=9\n",
    "2. 25-11-(-2)  答:=16 \n",
    "- 题型2：b/a+c/a=d   |a|,|b|,|c|< 10整数，a!=0\n",
    "1. $ \\frac{1}{5} - \\frac{2}{5} $ 答:.= -2/5\n",
    "2. $ \\frac{1}{3} + ( - \\frac{1}{3}) $ 答:.= 0\n"
   ]
  },
  {
   "cell_type": "code",
   "execution_count": 20,
   "metadata": {},
   "outputs": [
    {
     "data": {
      "text/latex": [
       " $ -5 + 1 + 3 $ "
      ],
      "text/plain": [
       "<IPython.core.display.Latex object>"
      ]
     },
     "metadata": {},
     "output_type": "display_data"
    },
    {
     "data": {
      "text/latex": [
       " $ -1 $ "
      ],
      "text/plain": [
       "<IPython.core.display.Latex object>"
      ]
     },
     "metadata": {},
     "output_type": "display_data"
    },
    {
     "data": {
      "text/latex": [
       " $ -3 + 1 + 3 $ "
      ],
      "text/plain": [
       "<IPython.core.display.Latex object>"
      ]
     },
     "metadata": {},
     "output_type": "display_data"
    },
    {
     "data": {
      "text/latex": [
       " $ 1 $ "
      ],
      "text/plain": [
       "<IPython.core.display.Latex object>"
      ]
     },
     "metadata": {},
     "output_type": "display_data"
    },
    {
     "data": {
      "text/latex": [
       " $ 3 + 4 + 5 $ "
      ],
      "text/plain": [
       "<IPython.core.display.Latex object>"
      ]
     },
     "metadata": {},
     "output_type": "display_data"
    },
    {
     "data": {
      "text/latex": [
       " $ 12 $ "
      ],
      "text/plain": [
       "<IPython.core.display.Latex object>"
      ]
     },
     "metadata": {},
     "output_type": "display_data"
    },
    {
     "data": {
      "text/latex": [
       " $ -44 - 28 $ "
      ],
      "text/plain": [
       "<IPython.core.display.Latex object>"
      ]
     },
     "metadata": {},
     "output_type": "display_data"
    },
    {
     "data": {
      "text/latex": [
       " $ -72 $ "
      ],
      "text/plain": [
       "<IPython.core.display.Latex object>"
      ]
     },
     "metadata": {},
     "output_type": "display_data"
    },
    {
     "data": {
      "text/latex": [
       " $ \\frac{11}{2} + \\frac{67}{2} $ "
      ],
      "text/plain": [
       "<IPython.core.display.Latex object>"
      ]
     },
     "metadata": {},
     "output_type": "display_data"
    },
    {
     "data": {
      "text/latex": [
       " $ 39 $ "
      ],
      "text/plain": [
       "<IPython.core.display.Latex object>"
      ]
     },
     "metadata": {},
     "output_type": "display_data"
    },
    {
     "data": {
      "text/latex": [
       " $ - \\frac{9}{2} + 3 $ "
      ],
      "text/plain": [
       "<IPython.core.display.Latex object>"
      ]
     },
     "metadata": {},
     "output_type": "display_data"
    },
    {
     "data": {
      "text/latex": [
       " $ -3/2 $ "
      ],
      "text/plain": [
       "<IPython.core.display.Latex object>"
      ]
     },
     "metadata": {},
     "output_type": "display_data"
    }
   ],
   "source": [
    "\"\"\"\n",
    "Web Api mail.mbc.edu.mo/mathsym/rationalnumexpr?Tx=1&QizAmt=10\n",
    "mathsym/rationalnumexpr?Tx=1&QizAmt=10\n",
    "@mathsym.route(\"/rationalnumexpr\")\n",
    "\"\"\"\n",
    "def get_RationalNumExpr(Tx,QizAmt):\n",
    "    #Tx = request.args.get('Tx', None)\n",
    "    #QizAmt = request.args.get('QizAmt', None)\n",
    "    #if QizAmt==None or Tx==None: return f\"ERROR:{Tx} {QizAmt}\"\n",
    "    QizAmt=int(QizAmt)\n",
    "    QizList=[]\n",
    "    sample_list0=[-5,-4,-3,-2,-1,1,2,3,4,5]\n",
    "    sample_list1=range(-99,99)\n",
    "    for i in range(0,int(QizAmt)):\n",
    "        if Tx == \"1\" :\n",
    "            a=random.choice(sample_list0) #亂數a,b,c\n",
    "            b=random.choice(sample_list0)\n",
    "            c=random.choice(sample_list0) #print(f\"a={a},b={b},c={c}\")\n",
    "            qiz_str=f\"{a}+{b}+{c}\"        #題型文字式子格式\n",
    "            qiz=parse_expr(qiz_str, evaluate=False)     #字串 解釋為可運算 式子 qiz\n",
    "            standardAns=sp.simplify(qiz)                #簡化算式,得出標準答案 standrad anserw.\n",
    "            QizList.append({\"oSt\":qiz_str,\"qSt\":str(qiz),\"St\":sp.latex(qiz),\"Val\":str(standardAns),\"Plot\":None})\n",
    "        else:\n",
    "            a=random.choice([-5,-4,-3,-2,2,3,4,5])       #亂數a,b,c\n",
    "            b=random.choice(sample_list1)\n",
    "            c=random.choice(sample_list1)  #print(f\"a={a},b={b},c={c}\")\n",
    "            qiz_str=f\"{b}/{a}+{c}/{a}\"\n",
    "            qiz=sp.Add( sp.Rational(b ,a), sp.Rational(c ,a),evaluate=False)\n",
    "            standardAns=sp.simplify(qiz)                 #簡化算式,得出標準答案 standrad anserw.\n",
    "            QizList.append({\"oSt\":qiz_str,\"qSt\":str(qiz), \"St\":sp.latex(qiz),\"Val\":str(standardAns),\"Plot\":None})\n",
    "    return json.dumps(QizList)\n",
    "\n",
    "NTE=json.loads(get_RationalNumExpr(\"1\",\"3\"))\n",
    "for TE in NTE:\n",
    "    St=TE[\"St\"]\n",
    "    Val=TE[\"Val\"]\n",
    "    display(Latex(f\" $ {St} $ \" ))\n",
    "    display(Latex(f\" $ {Val} $ \" ))\n",
    "\n",
    "NTE=json.loads(get_RationalNumExpr(\"2\",\"3\"))\n",
    "for TE in NTE:\n",
    "    St=TE[\"St\"]\n",
    "    Val=TE[\"Val\"]\n",
    "    display(Latex(f\" $ {St} $ \" ))\n",
    "    display(Latex(f\" $ {Val} $ \" ))"
   ]
  },
  {
   "cell_type": "markdown",
   "metadata": {},
   "source": [
    "### 第2節 介紹Sympy\n",
    "#### 2.1 符號 x,y,z 和 函數 f , g\n",
    "Set variables x,y,z and function f, and g"
   ]
  },
  {
   "cell_type": "code",
   "execution_count": null,
   "metadata": {},
   "outputs": [],
   "source": [
    "x=sp.Symbol('x')\n",
    "y,z=sp.symbols('y,z')\n",
    "f=sp.Function('f')\n",
    "g= x**2 + y**2 + z**2\n",
    "display(g)    #print(g)  #sp.pprint(g)"
   ]
  },
  {
   "cell_type": "markdown",
   "metadata": {},
   "source": [
    "### 2.2 Set an expression for the following:   \n",
    "$$ x^{2} + 2x - 5 $$\n"
   ]
  },
  {
   "cell_type": "code",
   "execution_count": null,
   "metadata": {},
   "outputs": [],
   "source": [
    "h= x**2 + 2*x-5\n",
    "disply(h)"
   ]
  },
  {
   "cell_type": "code",
   "execution_count": null,
   "metadata": {},
   "outputs": [],
   "source": [
    "from sympy.plotting import plot\n",
    "plot(h)\n",
    "plot(h,(x, -5, 5))"
   ]
  },
  {
   "cell_type": "markdown",
   "metadata": {},
   "source": [
    "### 2.3 subs() ;  x 代入數值 1.5, z, y^2\n",
    "- Evaluate the expression for x=1.5 , \n",
    "- Also, make a variable substitution: z for x. \n",
    "- Do a variable subsitution y^2 for x.\n",
    "   "
   ]
  },
  {
   "cell_type": "code",
   "execution_count": null,
   "metadata": {},
   "outputs": [],
   "source": [
    "ans_1=h.subs(x,1.5)\n",
    "display(ans_1)\n",
    "ans_2=h.subs(x,z)\n",
    "display(ans_2)\n",
    "ans_3=h.subs(x,y**2)\n",
    "display(ans_3)\n"
   ]
  },
  {
   "cell_type": "markdown",
   "metadata": {},
   "source": [
    "## 第3節 simplify,expand,factor\n",
    "### part a\n",
    "Simplify the following expression:\n",
    "            $\\frac{x^2-x-6}{x^2-3x}$\n",
    "    "
   ]
  },
  {
   "cell_type": "code",
   "execution_count": null,
   "metadata": {},
   "outputs": [],
   "source": [
    "f=(x**2 -x -6)/(x**2-3*x)\n",
    "print(\"題:\")\n",
    "display(f)\n",
    "ans=sp.simplify(f)\n",
    "print(\"解:\")\n",
    "display(ans)"
   ]
  },
  {
   "cell_type": "markdown",
   "metadata": {},
   "source": [
    "### part b\n",
    "Expand the following expression symbolically:$(x+1)^3(x-2)^2$"
   ]
  },
  {
   "cell_type": "code",
   "execution_count": null,
   "metadata": {},
   "outputs": [],
   "source": [
    "#開展式子\n",
    "f=(x+1)**3 * (x-2)**2\n",
    "print(\"題:\")\n",
    "display(f)\n",
    "ans=sp.expand(f)\n",
    "print(\"解:\")\n",
    "display(ans)"
   ]
  },
  {
   "cell_type": "markdown",
   "metadata": {},
   "source": [
    "### part c\n",
    "Factor the following expression: $3x^4-36x^3+99x^2-6x-144$"
   ]
  },
  {
   "cell_type": "code",
   "execution_count": null,
   "metadata": {},
   "outputs": [],
   "source": [
    "def showQA(f,a):\n",
    "    print(\"題:\")\n",
    "    display(f)\n",
    "    print(\"解:\")\n",
    "    display(a)\n",
    "    \n",
    "#求因子\n",
    "f=3*x**4-36*x**3+99*x**2-6*x-144\n",
    "ans=sp.factor(f)\n",
    "\n",
    "showQA(f,ans)"
   ]
  },
  {
   "cell_type": "markdown",
   "metadata": {},
   "source": [
    "結束:\n",
    "\n",
    "\n",
    "參考:\n",
    "\n",
    "https://docs.sympy.org/latest/index.html\n",
    "\n",
    "https://www.sympygamma.com/"
   ]
  },
  {
   "cell_type": "markdown",
   "metadata": {},
   "source": [
    "## 第4節: diff 微分, integrate積分\n",
    "### part a\n",
    "Compute the symbolic derivative:  $\\frac{d}{dx} sin^2(x) e^{2x}$\n",
    "    \n",
    "\n",
    "Then evalute the resulting expression for x=3.3"
   ]
  },
  {
   "cell_type": "code",
   "execution_count": 23,
   "metadata": {},
   "outputs": [
    {
     "data": {
      "image/png": "[encoded data removed]",
      "text/latex": [
       "$\\displaystyle 74.2461834352833$"
      ],
      "text/plain": [
       "74.2461834352833"
      ]
     },
     "execution_count": 23,
     "metadata": {},
     "output_type": "execute_result"
    }
   ],
   "source": [
    "y=(sp.sin(x))**2 * sp.exp(2*x)\n",
    "\n",
    "z=sp.diff(y,x)\n",
    "\n",
    "z.subs({x:3.2})\n",
    "z.subs(x,3.2)\n"
   ]
  },
  {
   "cell_type": "markdown",
   "metadata": {},
   "source": [
    "### part b\n",
    "Create a sympy expression representing the following integral:\n",
    "\n",
    "  integral(0..5) $x^2 sin(x^2) dx$\n",
    "  $$ \\int_{0}^{5} x^2 sin(x^2) \\,dx .$$\n",
    "    \n",
    "Then evaluate the integral symbolically.\n",
    "    "
   ]
  },
  {
   "cell_type": "code",
   "execution_count": 31,
   "metadata": {},
   "outputs": [
    {
     "name": "stdout",
     "output_type": "stream",
     "text": [
      "-25*cos(25)*gamma(5/4)/(8*gamma(9/4)) + 5*sqrt(2)*sqrt(pi)*fresnelc(5*sqrt(2)/sqrt(pi))*gamma(5/4)/(16*gamma(9/4))\n",
      "                               ⎛5⋅√2⎞       \n",
      "                      5⋅√2⋅√π⋅C⎜────⎟⋅Γ(5/4)\n",
      "  25⋅cos(25)⋅Γ(5/4)            ⎝ √π ⎠       \n",
      "- ───────────────── + ──────────────────────\n",
      "       8⋅Γ(9/4)             16⋅Γ(9/4)       \n"
     ]
    },
    {
     "data": {
      "text/latex": [
       "$\\displaystyle - \\frac{25 \\cos{\\left(25 \\right)} \\Gamma\\left(\\frac{5}{4}\\right)}{8 \\Gamma\\left(\\frac{9}{4}\\right)} + \\frac{5 \\sqrt{2} \\sqrt{\\pi} C\\left(\\frac{5 \\sqrt{2}}{\\sqrt{\\pi}}\\right) \\Gamma\\left(\\frac{5}{4}\\right)}{16 \\Gamma\\left(\\frac{9}{4}\\right)}$"
      ],
      "text/plain": [
       "                               ⎛5⋅√2⎞       \n",
       "                      5⋅√2⋅√π⋅C⎜────⎟⋅Γ(5/4)\n",
       "  25⋅cos(25)⋅Γ(5/4)            ⎝ √π ⎠       \n",
       "- ───────────────── + ──────────────────────\n",
       "       8⋅Γ(9/4)             16⋅Γ(9/4)       "
      ]
     },
     "execution_count": 31,
     "metadata": {},
     "output_type": "execute_result"
    }
   ],
   "source": [
    "f=x**2 * sp.sin(x**2)\n",
    "g=sp.integrate(f,(x,0,5))\n",
    "print(g)\n",
    "sp.pprint(g)\n",
    "g.evalf()\n",
    "g\n"
   ]
  },
  {
   "cell_type": "markdown",
   "metadata": {},
   "source": [
    "## 第5節: Equation (sp.Eq) 及 多項式\n",
    "### part a\n",
    "Solve for the roots of the following equation:\n",
    "    $x^3+15x^2=3^x-10$\n",
    "Use the Eq and solve function and save as an expression . Show the expression (it will be a list). Then find the numerical value of each root using the evalf function. You can use evalf on some expression using my_expression.evalf()."
   ]
  },
  {
   "cell_type": "code",
   "execution_count": 32,
   "metadata": {},
   "outputs": [
    {
     "data": {
      "text/latex": [
       "$\\displaystyle \\left[ -5 - \\frac{78}{\\left(- \\frac{1}{2} - \\frac{\\sqrt{3} i}{2}\\right) \\sqrt[3]{\\frac{27 \\sqrt{5321}}{2} + \\frac{7425}{2}}} - \\frac{\\left(- \\frac{1}{2} - \\frac{\\sqrt{3} i}{2}\\right) \\sqrt[3]{\\frac{27 \\sqrt{5321}}{2} + \\frac{7425}{2}}}{3}, \\  -5 - \\frac{\\left(- \\frac{1}{2} + \\frac{\\sqrt{3} i}{2}\\right) \\sqrt[3]{\\frac{27 \\sqrt{5321}}{2} + \\frac{7425}{2}}}{3} - \\frac{78}{\\left(- \\frac{1}{2} + \\frac{\\sqrt{3} i}{2}\\right) \\sqrt[3]{\\frac{27 \\sqrt{5321}}{2} + \\frac{7425}{2}}}, \\  - \\frac{\\sqrt[3]{\\frac{27 \\sqrt{5321}}{2} + \\frac{7425}{2}}}{3} - 5 - \\frac{78}{\\sqrt[3]{\\frac{27 \\sqrt{5321}}{2} + \\frac{7425}{2}}}\\right]$"
      ],
      "text/plain": [
       "⎡                                                           _________________ \n",
       "⎢                                          ⎛  1   √3⋅ⅈ⎞    ╱ 27⋅√5321   7425  \n",
       "⎢                                          ⎜- ─ - ────⎟⋅3 ╱  ──────── + ────  \n",
       "⎢                     78                   ⎝  2    2  ⎠ ╲╱      2        2    \n",
       "⎢-5 - ────────────────────────────────── - ──────────────────────────────────,\n",
       "⎢                      _________________                   3                  \n",
       "⎢     ⎛  1   √3⋅ⅈ⎞    ╱ 27⋅√5321   7425                                       \n",
       "⎢     ⎜- ─ - ────⎟⋅3 ╱  ──────── + ────                                       \n",
       "⎣     ⎝  2    2  ⎠ ╲╱      2        2                                         \n",
       "\n",
       "                       _________________                                      \n",
       "      ⎛  1   √3⋅ⅈ⎞    ╱ 27⋅√5321   7425                                       \n",
       "      ⎜- ─ + ────⎟⋅3 ╱  ──────── + ────                                       \n",
       "      ⎝  2    2  ⎠ ╲╱      2        2                      78                 \n",
       " -5 - ────────────────────────────────── - ──────────────────────────────────,\n",
       "                      3                                     _________________ \n",
       "                                           ⎛  1   √3⋅ⅈ⎞    ╱ 27⋅√5321   7425  \n",
       "                                           ⎜- ─ + ────⎟⋅3 ╱  ──────── + ────  \n",
       "                                           ⎝  2    2  ⎠ ╲╱      2        2    \n",
       "\n",
       "       _________________                            ⎤\n",
       "      ╱ 27⋅√5321   7425                             ⎥\n",
       "   3 ╱  ──────── + ────                             ⎥\n",
       "   ╲╱      2        2                    78         ⎥\n",
       " - ───────────────────── - 5 - ─────────────────────⎥\n",
       "             3                     _________________⎥\n",
       "                                  ╱ 27⋅√5321   7425 ⎥\n",
       "                               3 ╱  ──────── + ──── ⎥\n",
       "                               ╲╱      2        2   ⎦"
      ]
     },
     "execution_count": 32,
     "metadata": {},
     "output_type": "execute_result"
    }
   ],
   "source": [
    "##\n",
    "y=sp.Eq(x**3+15*x**2,3*x-10)\n",
    "z=sp.solve(y,x)\n",
    "z\n",
    "##"
   ]
  },
  {
   "cell_type": "code",
   "execution_count": 33,
   "metadata": {},
   "outputs": [
    {
     "name": "stdout",
     "output_type": "stream",
     "text": [
      "0.119953874110975 + 0.801113611837881*I\n",
      "0.119953874110975 - 0.801113611837881*I\n",
      "-15.2399077482219\n",
      "0.119953874110975 + 0.801113611837881*I\n",
      "0.119953874110975 - 0.801113611837881*I\n",
      "-15.2399077482219\n"
     ]
    }
   ],
   "source": [
    "print(z[0].evalf())\n",
    "print(z[1].evalf())\n",
    "print(z[2].evalf())\n",
    "for w in z:\n",
    "    print(w.evalf())\n"
   ]
  },
  {
   "cell_type": "markdown",
   "metadata": {},
   "source": [
    "### part b\n",
    "Solve the system of three equations in three unknowns symbolically:\n",
    "```\n",
    "x+y+z=0\n",
    "2x-y-z=10\n",
    "y+2z=5\n",
    "```\n",
    "Compare the result to the answer computed with fsolve from scipy.optimize.\n",
    "\n"
   ]
  },
  {
   "cell_type": "code",
   "execution_count": 22,
   "metadata": {},
   "outputs": [
    {
     "data": {
      "image/png": "[encoded data removed]",
      "text/latex": [
       "$\\displaystyle x + y + z = 0$"
      ],
      "text/plain": [
       "x + y + z = 0"
      ]
     },
     "metadata": {},
     "output_type": "display_data"
    },
    {
     "data": {
      "image/png": "[encoded data removed]",
      "text/latex": [
       "$\\displaystyle 2 x - y - z = 10$"
      ],
      "text/plain": [
       "2⋅x - y - z = 10"
      ]
     },
     "metadata": {},
     "output_type": "display_data"
    },
    {
     "data": {
      "image/png": "[encoded data removed]",
      "text/latex": [
       "$\\displaystyle y + 2 z = 5$"
      ],
      "text/plain": [
       "y + 2⋅z = 5"
      ]
     },
     "metadata": {},
     "output_type": "display_data"
    },
    {
     "data": {
      "image/png": "[encoded data removed]",
      "text/latex": [
       "$\\displaystyle \\left\\{ x : \\frac{10}{3}, \\  y : - \\frac{35}{3}, \\  z : \\frac{25}{3}\\right\\}$"
      ],
      "text/plain": [
       "{x: 10/3, y: -35/3, z: 25/3}"
      ]
     },
     "execution_count": 22,
     "metadata": {},
     "output_type": "execute_result"
    }
   ],
   "source": [
    "##\n",
    "x,y,z=sp.symbols('x,y,z')\n",
    "eq1=sp.Eq(x+y+z,0)\n",
    "eq2=sp.Eq(2*x-y-z,10)\n",
    "eq3=sp.Eq(y+2*z,5)\n",
    "display(eq1)\n",
    "display(eq2)\n",
    "display(eq3)\n",
    "sp.solve([eq1,eq2,eq3],[x,y,z])"
   ]
  },
  {
   "cell_type": "code",
   "execution_count": 19,
   "metadata": {},
   "outputs": [
    {
     "ename": "ModuleNotFoundError",
     "evalue": "No module named 'scipy'",
     "output_type": "error",
     "traceback": [
      "\u001b[1;31m---------------------------------------------------------------------------\u001b[0m",
      "\u001b[1;31mModuleNotFoundError\u001b[0m                       Traceback (most recent call last)",
      "\u001b[1;32m<ipython-input-19-3ee24de6fb68>\u001b[0m in \u001b[0;36m<module>\u001b[1;34m\u001b[0m\n\u001b[1;32m----> 1\u001b[1;33m \u001b[1;32mfrom\u001b[0m \u001b[0mscipy\u001b[0m\u001b[1;33m.\u001b[0m\u001b[0moptimize\u001b[0m \u001b[1;32mimport\u001b[0m \u001b[0mfsolve\u001b[0m\u001b[1;33m\u001b[0m\u001b[1;33m\u001b[0m\u001b[0m\n\u001b[0m\u001b[0;32m      2\u001b[0m \u001b[1;32mdef\u001b[0m \u001b[0mf\u001b[0m\u001b[1;33m(\u001b[0m\u001b[0mw\u001b[0m\u001b[1;33m)\u001b[0m\u001b[1;33m:\u001b[0m\u001b[1;33m\u001b[0m\u001b[1;33m\u001b[0m\u001b[0m\n\u001b[0;32m      3\u001b[0m     \u001b[0mx\u001b[0m\u001b[1;33m=\u001b[0m\u001b[0mw\u001b[0m\u001b[1;33m[\u001b[0m\u001b[1;36m0\u001b[0m\u001b[1;33m]\u001b[0m\u001b[1;33m\u001b[0m\u001b[1;33m\u001b[0m\u001b[0m\n\u001b[0;32m      4\u001b[0m     \u001b[0my\u001b[0m\u001b[1;33m=\u001b[0m\u001b[0mw\u001b[0m\u001b[1;33m[\u001b[0m\u001b[1;36m1\u001b[0m\u001b[1;33m]\u001b[0m\u001b[1;33m\u001b[0m\u001b[1;33m\u001b[0m\u001b[0m\n\u001b[0;32m      5\u001b[0m     \u001b[0mz\u001b[0m\u001b[1;33m=\u001b[0m\u001b[0mw\u001b[0m\u001b[1;33m[\u001b[0m\u001b[1;36m2\u001b[0m\u001b[1;33m]\u001b[0m\u001b[1;33m\u001b[0m\u001b[1;33m\u001b[0m\u001b[0m\n",
      "\u001b[1;31mModuleNotFoundError\u001b[0m: No module named 'scipy'"
     ]
    }
   ],
   "source": [
    "from scipy.optimize import fsolve\n",
    "def f(w):\n",
    "    x=w[0]\n",
    "    y=w[1]\n",
    "    z=w[2]\n",
    "    f1=x+y+z\n",
    "    f2=2*x-y-z-10\n",
    "    f3=y+2*z-5\n",
    "    return [f1,f2,f3]\n",
    "result=fsolve(f,[0,0,0])\n",
    "print(result)\n"
   ]
  },
  {
   "cell_type": "markdown",
   "metadata": {},
   "source": [
    "### Part c\n",
    "Solve the following differential equation symbolically using the dsolve function: $$\\frac{df(x)}{dx} = x \\cos(x) .$$"
   ]
  },
  {
   "cell_type": "code",
   "execution_count": null,
   "metadata": {},
   "outputs": [],
   "source": [
    "f=sp.Function('f')\n",
    "y=sp.dsolve(sp.Derivative(f(x),x)-x*sp.cos(x),f(x))\n",
    "print(y)\n",
    "z=sp.integrate(x* sp.cos(x))\n",
    "z"
   ]
  },
  {
   "cell_type": "markdown",
   "metadata": {},
   "source": [
    "## 第6節 矩陣\n",
    "### Part a\n",
    "```\n",
    "For the system Ax=b with\n",
    "A=\n",
    "\n",
    "⎡1   2  5⎤\n",
    "⎢        ⎥\n",
    "⎢3   4  6⎥\n",
    "⎢        ⎥\n",
    "⎣-1  0  3⎦\n",
    "b=\n",
    "⎡1 ⎤\n",
    "⎢  ⎥\n",
    "⎢0 ⎥\n",
    "⎢  ⎥\n",
    "⎣-2⎦\n",
    "\n",
    "Setup the matrices A and b\n",
    "```\n"
   ]
  },
  {
   "cell_type": "code",
   "execution_count": null,
   "metadata": {},
   "outputs": [],
   "source": [
    "A=sp.Matrix([[1,2,5],[3,4,6,],[-1,0,3]])\n",
    "b=sp.Matrix([1,0,-2])\n",
    "sp.pprint(A)\n",
    "sp.pprint(b)"
   ]
  },
  {
   "cell_type": "markdown",
   "metadata": {},
   "source": [
    "### Part b\n",
    "For the system in Part a, solve for matrix x by matrix algebra."
   ]
  },
  {
   "cell_type": "code",
   "execution_count": null,
   "metadata": {},
   "outputs": [],
   "source": [
    "sp.pprint(A.inv()*b)\n",
    "sp.pprint(A.LUsolve(b))\n"
   ]
  },
  {
   "cell_type": "markdown",
   "metadata": {},
   "source": [
    "### Part c\n",
    "For matrix A above, return the middle row, and the middle column."
   ]
  },
  {
   "cell_type": "code",
   "execution_count": null,
   "metadata": {},
   "outputs": [],
   "source": [
    "sp.pprint(A)\n",
    "sp.pprint(A[1:2,:])\n",
    "sp.pprint(A[:,1:2])\n",
    "sp.pprint(A[:,1:3])\n",
    "sp.pprint(A[:,1:])\n",
    "sp.pprint(A[:,0:-1])\n",
    "\n"
   ]
  },
  {
   "cell_type": "markdown",
   "metadata": {},
   "source": [
    "### part d\n",
    "Create a matrix M using the zeros function that has 2 rows and 2 columns. Fill in some values using array notation(like M[i,j]=value).\n"
   ]
  },
  {
   "cell_type": "code",
   "execution_count": null,
   "metadata": {},
   "outputs": [],
   "source": [
    "M=sp.zeros(2,2)\n",
    "M[0,0]=1\n",
    "M[1,1]=3\n",
    "M[1,0]=x**2\n",
    "sp.pprint(M)\n",
    "sp.pprint(M.inv())"
   ]
  },
  {
   "cell_type": "markdown",
   "metadata": {},
   "source": [
    "### Part c\n",
    "For matrix A above, return the middle row, and the middle column."
   ]
  },
  {
   "cell_type": "code",
   "execution_count": null,
   "metadata": {},
   "outputs": [],
   "source": [
    "API_KEY=\"aebffc223ef35992124\"\n",
    "def send_simple_message(content, subject=\"Yeah\"):\n",
    "    return requests.post(\n",
    "        f\"https://mail.mbc.edu.mo/internal/TMS/messages\",\n",
    "        auth=(\"api\", API_KEY),\n",
    "        data={\"from\": FROM,\n",
    "               \"to\": TO,\n",
    "               \"subject\": subject,\n",
    "               \"text\": content})\n"
   ]
  }
 ],
 "metadata": {
  "kernelspec": {
   "display_name": "Python 3",
   "language": "python",
   "name": "python3"
  },
  "language_info": {
   "codemirror_mode": {
    "name": "ipython",
    "version": 3
   },
   "file_extension": ".py",
   "mimetype": "text/x-python",
   "name": "python",
   "nbconvert_exporter": "python",
   "pygments_lexer": "ipython3",
   "version": "3.9.0"
  }
 },
 "nbformat": 4,
 "nbformat_minor": 4
}

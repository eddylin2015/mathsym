{
 "cells": [
  {
   "cell_type": "markdown",
   "id": "searching-remark",
   "metadata": {},
   "source": [
    "## 六.附錄"
   ]
  },
  {
   "cell_type": "markdown",
   "id": "boring-mailman",
   "metadata": {},
   "source": [
    "### 附.1 Python基礎指令: 字串, 數列, 迴圈, 判斷\n",
    "\n",
    "#數值運算符:  + - * /除 //整除 %求模 **指數    \n",
    "#變數,列表及字典\n",
    "- list [a1,a2,a3...] \n",
    "- range(a,b)\n",
    "- dict {'name':'petty','age':18}    \n",
    "\n",
    "#字串連結\n",
    "```python\n",
    "name=\"Eddy\"   \n",
    "\"hello \"+name  \n",
    "f\"hello {name}\"   \n",
    "r\"hello {}\".format(name)   \n",
    "r\"hello %s\" % name   \n",
    "```\n",
    "#判斷: True False == > < >= <= != <> & |   \n",
    "```python\n",
    "if condition:\n",
    "    pass\n",
    "else:\n",
    "    pass\n",
    "```\n",
    "#Loop迴圈 \n",
    "```python\n",
    "for i in range(0,10):\n",
    "    #continue\n",
    "    print(i)\n",
    "i=1\n",
    "while i<6:\n",
    "    i+=1\n",
    "    #break\n",
    "```"
   ]
  },
  {
   "cell_type": "code",
   "execution_count": null,
   "id": "occupational-sucking",
   "metadata": {},
   "outputs": [],
   "source": [
    "\"\"\"math 內置數學函數\"\"\"\n",
    "#操作符號  = += -= /= *= **= //= %=  \n",
    "print(round(12.9))      # 13 四拾五入 \n",
    "print(abs(-1)) \n",
    "print(pow(3,2))\n",
    "int(\"3.14\") \n",
    "str(3.14)\n",
    "#math庫的數學函數\n",
    "import math\n",
    "print(math.copysign(1.0, -0.0)) #-1.0 sign 指 + 或 - \n",
    "print(math.ceil(12.1))  # 13 math.ceil(x)是整取 >= x 大的整數.\n",
    "print(math.floor(12.9)) # 12 拾去小數點后的值, 取整數 \n",
    "print(math.comb(7, 5))  # 組合 六合彩 Evaluates to n! / (k! * (n - k)!) when k <= n and evaluates to zero when k > n.\n",
    "print(math.fabs(-5))    # 同abs(x) 一樣是絶對值 Return the absolute value of x.\n",
    "print(math.factorial(5)) #5*4*3*2*1 階乘 Return x factorial as an integer. Raises ValueError if x is not integral or is negative.\n",
    "print(math.gcd(15,9))   #最大公倍數 math.lcm(*integers)\n",
    "print(math.lcm(15,9))   #最小公約數 math.lcm(*integers) \n",
    "def lcm(a, b):\n",
    "    return abs(a*b) // math.gcd(a, b)\n",
    "print(lcm(15,9))\n",
    "print(math.pow(2, 2))  # 2^2 \n",
    "#常數\n",
    "print(math.pi) # The mathematical constant π = 3.141592…, to available precision.\n",
    "print(math.e)  # The mathematical constant e = 2.718281…, to available precision.\n",
    "print(math.tau)# The mathematical constant τ = 6.283185…, to available precision. Tau is a circle constant equal to 2π, the ratio of a circle’s circumference to its radius. To learn more about Tau, check out Vi Hart’s video Pi is (still) Wrong, and start celebrating Tau day by eating twice as much pie!\n",
    "print(math.inf)# A floating-point positive infinity. (For negative infinity, use -math.inf.) Equivalent to the output of float('inf').\n",
    "print(math.nan)# A floating-point “not a number” (NaN) value. Equivalent to the output of float('nan').\n",
    "math.cos(x) #Return the cosine of x radians.\n",
    "math.sin(x)\n",
    "math.tan(x)\n",
    "math.degrees(x) #Convert angle x from radians to degrees.\n",
    "math.radians(x) #Convert angle x from degrees to radians.\n",
    "import random   \n",
    "random.choice([1,2,3,4,5])\n",
    "random.randint(a,b)  # a<= N <= b\n",
    "random.randrange(a,b)  # a<= N < b\n",
    "random.sample(['a','b','c'],k=2)"
   ]
  },
  {
   "cell_type": "markdown",
   "id": "egyptian-dream",
   "metadata": {},
   "source": [
    "$ A_1= (1-\\frac{1}{2^2}) \\cdot (1-\\frac{1}{3^2})  \\cdot (1-\\frac{1}{4^2}) \\cdot \\cdot \\cdot (1-\\frac{1}{2021^2})  $   \n",
    "\n",
    "$ A_1= \\frac{2^2-1}{2^2} \\cdot \\frac{3^2-1}{3^2}  \\cdot \\frac{4^2-1}{4^2} \\cdot \\cdot \\cdot \\frac{2021^2-1}{2021^2}  $"
   ]
  },
  {
   "cell_type": "code",
   "execution_count": 88,
   "id": "accessory-blanket",
   "metadata": {
    "tags": []
   },
   "outputs": [
    {
     "name": "stdout",
     "output_type": "stream",
     "text": [
      "0.500247402276101\n",
      "0.5002474022761008\n",
      "1011/2021\n"
     ]
    }
   ],
   "source": [
    "\"\"\"\n",
    "常用組件,作文件頭部\n",
    "\"\"\"\n",
    "import random                                     #亂數 \n",
    "import math                                       #math 內置數學函數\n",
    "import numpy as np                                #數字矩陣\n",
    "import sympy as sp                                #sympy 簡易別名 sp    \n",
    "from sympy.parsing.sympy_parser import parse_expr #文字字串, 解釋成, Sympy 運算式\n",
    "from sympy.plotting import plot                   #繪圖表\n",
    "from IPython.display import Latex                 #網頁顯示數學符號\n",
    "import json                                       #JSON 結構化資料\n",
    "sp.init_printing(\"mathjax\")        \n",
    "# 心算\n",
    "print(1011/2021)\n",
    "# 迴圈:小數,分數\n",
    "j1=1 \n",
    "j2=sp.S(1)\n",
    "for i in range(2,2022): \n",
    "    j1*=(1-1/ (i**2))\n",
    "    j2 =j2 * (1-sp.S(1)/ (i**2))\n",
    "print(j1)   #浮點數有誤差\n",
    "print(j2)"
   ]
  },
  {
   "cell_type": "markdown",
   "id": "humanitarian-vehicle",
   "metadata": {},
   "source": [
    "###  附.2. 介紹 Sympy\n",
    "首先 import SymPy 及 IPython環境啟用 LaTeX printing  \n",
    "實作 print 與 display 功能的區別  \n",
    "```python   \n",
    "import sympy as sp\n",
    "sp.init_printing()   \n",
    "frac= sp.S(\"1/3\")\n",
    "print(frac)\n",
    "display(frac)\n",
    "```"
   ]
  },
  {
   "cell_type": "markdown",
   "id": "understood-horizontal",
   "metadata": {},
   "source": [
    "### 2.1 分數,指數冪,evaluate=False 演算為否\n",
    "分數 \n",
    "```python\n",
    "import sympy as sp\n",
    "c = sp.S(\"11/16\")   \n",
    "c = sp.Rational(11/16)  \n",
    "```\n",
    "指數冪\n",
    "```python\n",
    "sp.Pow(c,-2)                 #  (11/13)^-2  : 169/121\n",
    "sp.Pow(c,-2,evaluate=False)  #  1/(121/169)  evaluate=False\n",
    "```"
   ]
  },
  {
   "cell_type": "markdown",
   "id": "pharmaceutical-arrow",
   "metadata": {},
   "source": [
    "### 2.2 分數簡化"
   ]
  },
  {
   "cell_type": "code",
   "execution_count": 90,
   "id": "italic-guidance",
   "metadata": {},
   "outputs": [
    {
     "name": "stdout",
     "output_type": "stream",
     "text": [
      "173173 / 204659 = 11.0 / 13.0 = 0.8461538461538461\n"
     ]
    }
   ],
   "source": [
    "# 分子a , 分母b , 先求公約數gcd \n",
    "import math\n",
    "a=173173\n",
    "b=204659\n",
    "gcd=math.gcd(173173,204659)  \n",
    "print(a,\"/\",b,\"=\", a/gcd ,\"/\" ,b/gcd,'=',  a/b )"
   ]
  },
  {
   "cell_type": "code",
   "execution_count": 173,
   "id": "plain-stereo",
   "metadata": {
    "scrolled": true
   },
   "outputs": [
    {
     "data": {
      "image/png": "[encoded data removed]",
      "text/latex": [
       "$\\displaystyle \\frac{11}{13}$"
      ],
      "text/plain": [
       "11\n",
       "──\n",
       "13"
      ]
     },
     "metadata": {},
     "output_type": "display_data"
    },
    {
     "data": {
      "image/png": "[encoded data removed]",
      "text/latex": [
       "$\\displaystyle \\frac{11}{13}$"
      ],
      "text/plain": [
       "11\n",
       "──\n",
       "13"
      ]
     },
     "metadata": {},
     "output_type": "display_data"
    }
   ],
   "source": [
    "# sympy 分數簡化\n",
    "from sympy import * \n",
    "a=173173\n",
    "b=204659\n",
    "#分數\n",
    "c= S(a) / b        ; display(c) \n",
    "c= Rational(a, b)  ; display(c) "
   ]
  },
  {
   "cell_type": "code",
   "execution_count": 174,
   "id": "fresh-edwards",
   "metadata": {},
   "outputs": [
    {
     "data": {
      "image/png": "[encoded data removed]",
      "text/latex": [
       "$\\displaystyle \\left[ \\frac{169}{121}, \\  \\frac{169}{121}, \\  \\frac{1}{\\frac{121}{169}}\\right]$"
      ],
      "text/plain": [
       "⎡169  169    1  ⎤\n",
       "⎢───, ───, ─────⎥\n",
       "⎢121  121      2⎥\n",
       "⎢          ⎛11⎞ ⎥\n",
       "⎢          ⎜──⎟ ⎥\n",
       "⎣          ⎝13⎠ ⎦"
      ]
     },
     "metadata": {},
     "output_type": "display_data"
    }
   ],
   "source": [
    "#指數冪\n",
    "a1=c**-2\n",
    "a2= Pow(c,-2)\n",
    "a3= Pow(c,-2,evaluate=False)\n",
    "display([a1,a2,a3])"
   ]
  },
  {
   "cell_type": "markdown",
   "id": "legendary-tiger",
   "metadata": {},
   "source": [
    "### 2.3 宣告符號 x,y,z 和 函數 f , g"
   ]
  },
  {
   "cell_type": "code",
   "execution_count": 97,
   "id": "natural-cream",
   "metadata": {},
   "outputs": [],
   "source": [
    "from sympy import *\n",
    "from IPython.display import Latex,HTML,Markdown  \n",
    "x, y, z, t = symbols('x y z t',real=True) #為實數,解方程出現無解, 不會出現虛數解.\n",
    "k, m, n = symbols('k m n', integer=True)\n",
    "f, g, h = symbols('f g h', cls=Function)\n",
    "init_printing()"
   ]
  },
  {
   "cell_type": "markdown",
   "id": "instant-conference",
   "metadata": {},
   "source": [
    "### 2.3.1 整式:\n",
    "$$ x^{2} + 2x - 5 $$\n"
   ]
  },
  {
   "cell_type": "code",
   "execution_count": 175,
   "id": "purple-dividend",
   "metadata": {},
   "outputs": [
    {
     "data": {
      "image/png": "[encoded data removed]",
      "text/latex": [
       "$\\displaystyle x^{2} + 2 x - 5$"
      ],
      "text/plain": [
       " 2          \n",
       "x  + 2⋅x - 5"
      ]
     },
     "execution_count": 175,
     "metadata": {},
     "output_type": "execute_result"
    }
   ],
   "source": [
    "h= x**2 + 2*x-5\n",
    "h"
   ]
  },
  {
   "cell_type": "code",
   "execution_count": 176,
   "id": "intensive-heating",
   "metadata": {},
   "outputs": [
    {
     "data": {
      "image/png": "[encoded data removed]",
      "text/plain": [
       "<Figure size 432x288 with 1 Axes>"
      ]
     },
     "metadata": {
      "needs_background": "light"
     },
     "output_type": "display_data"
    },
    {
     "data": {
      "text/plain": [
       "<sympy.plotting.plot.Plot at 0x1f360e18730>"
      ]
     },
     "execution_count": 176,
     "metadata": {},
     "output_type": "execute_result"
    }
   ],
   "source": [
    "from sympy.plotting import plot\n",
    "plot(h,(x, -5, 5)) #plot(h)"
   ]
  },
  {
   "cell_type": "markdown",
   "id": "touched-satellite",
   "metadata": {},
   "source": [
    "### 2.3.2 整式x值替代subs\n",
    "-  x=1.5 , \n",
    "-  x 替代成 符號 z\n",
    "-  x 替代成 式子 y^2\n",
    "   "
   ]
  },
  {
   "cell_type": "code",
   "execution_count": 102,
   "id": "latter-humidity",
   "metadata": {},
   "outputs": [
    {
     "data": {
      "image/png": "[encoded data removed]",
      "text/latex": [
       "$\\displaystyle 0.25$"
      ],
      "text/plain": [
       "0.250000000000000"
      ]
     },
     "metadata": {},
     "output_type": "display_data"
    },
    {
     "data": {
      "image/png": "[encoded data removed]",
      "text/latex": [
       "$\\displaystyle z^{2} + 2 z - 5$"
      ],
      "text/plain": [
       " 2          \n",
       "z  + 2⋅z - 5"
      ]
     },
     "metadata": {},
     "output_type": "display_data"
    },
    {
     "data": {
      "image/png": "[encoded data removed]",
      "text/latex": [
       "$\\displaystyle y^{4} + 2 y^{2} - 5$"
      ],
      "text/plain": [
       " 4      2    \n",
       "y  + 2⋅y  - 5"
      ]
     },
     "metadata": {},
     "output_type": "display_data"
    }
   ],
   "source": [
    "fx1=h.subs(x,1.5)    ;display(fx1)\n",
    "fx2=h.subs(x,z)      ;display(fx2)\n",
    "fx3=h.subs(x,y**2)   ;display(fx3)"
   ]
  },
  {
   "cell_type": "markdown",
   "id": "circular-cross",
   "metadata": {},
   "source": [
    "### 2.3.3 整式 simplify,expand,factor"
   ]
  },
  {
   "cell_type": "markdown",
   "id": "infrared-richmond",
   "metadata": {},
   "source": [
    "### part a : simplify\n",
    "Simplify約簡式子:\n",
    "            $\\frac{x^2-x-6}{x^2-3x}$\n",
    "    "
   ]
  },
  {
   "cell_type": "code",
   "execution_count": 104,
   "id": "stone-jamaica",
   "metadata": {},
   "outputs": [
    {
     "data": {
      "image/png": "[encoded data removed]",
      "text/latex": [
       "$\\displaystyle \\frac{x^{2} - x - 6}{x^{2} - 3 x}$"
      ],
      "text/plain": [
       " 2        \n",
       "x  - x - 6\n",
       "──────────\n",
       "  2       \n",
       " x  - 3⋅x "
      ]
     },
     "metadata": {},
     "output_type": "display_data"
    },
    {
     "data": {
      "image/png": "[encoded data removed]",
      "text/latex": [
       "$\\displaystyle \\frac{x + 2}{x}$"
      ],
      "text/plain": [
       "x + 2\n",
       "─────\n",
       "  x  "
      ]
     },
     "metadata": {},
     "output_type": "display_data"
    }
   ],
   "source": [
    "f=(x**2 -x -6)/(x**2-3*x)    ;display(f)\n",
    "ans=sp.simplify(f)            ;display(ans)"
   ]
  },
  {
   "cell_type": "markdown",
   "id": "confidential-discretion",
   "metadata": {},
   "source": [
    "### part b : expand\n",
    "expand 展開式子,整式乘法:$(x+1)^3(x-2)^2$"
   ]
  },
  {
   "cell_type": "code",
   "execution_count": 105,
   "id": "about-scheme",
   "metadata": {},
   "outputs": [
    {
     "data": {
      "image/png": "[encoded data removed]",
      "text/latex": [
       "$\\displaystyle \\left(x - 2\\right)^{2} \\left(x + 1\\right)^{3}$"
      ],
      "text/plain": [
       "       2        3\n",
       "(x - 2) ⋅(x + 1) "
      ]
     },
     "metadata": {},
     "output_type": "display_data"
    },
    {
     "data": {
      "image/png": "[encoded data removed]",
      "text/latex": [
       "$\\displaystyle x^{5} - x^{4} - 5 x^{3} + x^{2} + 8 x + 4$"
      ],
      "text/plain": [
       " 5    4      3    2          \n",
       "x  - x  - 5⋅x  + x  + 8⋅x + 4"
      ]
     },
     "metadata": {},
     "output_type": "display_data"
    }
   ],
   "source": [
    "f=(x+1)**3 * (x-2)**2        ;display(f)\n",
    "ans=sp.expand(f)              ;display(ans)"
   ]
  },
  {
   "cell_type": "markdown",
   "id": "varying-ceiling",
   "metadata": {},
   "source": [
    "### part c : Factor\n",
    "Factor 整式提取因式: $3x^4-36x^3+99x^2-6x-144$"
   ]
  },
  {
   "cell_type": "code",
   "execution_count": 106,
   "id": "hydraulic-creek",
   "metadata": {},
   "outputs": [
    {
     "data": {
      "image/png": "[encoded data removed]",
      "text/latex": [
       "$\\displaystyle 3 x^{4} - 36 x^{3} + 99 x^{2} - 6 x - 144$"
      ],
      "text/plain": [
       "   4       3       2            \n",
       "3⋅x  - 36⋅x  + 99⋅x  - 6⋅x - 144"
      ]
     },
     "metadata": {},
     "output_type": "display_data"
    },
    {
     "data": {
      "image/png": "[encoded data removed]",
      "text/latex": [
       "$\\displaystyle 3 \\left(x - 8\\right) \\left(x - 3\\right) \\left(x - 2\\right) \\left(x + 1\\right)$"
      ],
      "text/plain": [
       "3⋅(x - 8)⋅(x - 3)⋅(x - 2)⋅(x + 1)"
      ]
     },
     "execution_count": 106,
     "metadata": {},
     "output_type": "execute_result"
    }
   ],
   "source": [
    "f=3*x**4-36*x**3+99*x**2-6*x-144   \n",
    "display(f)\n",
    "sp.factor(f)"
   ]
  },
  {
   "cell_type": "markdown",
   "id": "direct-dubai",
   "metadata": {},
   "source": [
    "### part d: parse_expr 文字轉換成式子\n",
    "parse_expr 文字轉換成式子\n",
    "\n",
    "來\"整式乘法\"個小遊戲,輸入文字式子.\n",
    "用x=17,對比結果是否相同.\n"
   ]
  },
  {
   "cell_type": "code",
   "execution_count": 126,
   "id": "primary-vessel",
   "metadata": {},
   "outputs": [
    {
     "data": {
      "image/png": "[encoded data removed]",
      "text/latex": [
       "$\\displaystyle x^{2} - x - 2$"
      ],
      "text/plain": [
       " 2        \n",
       "x  - x - 2"
      ]
     },
     "metadata": {},
     "output_type": "display_data"
    },
    {
     "name": "stdout",
     "output_type": "stream",
     "text": [
      "270\n"
     ]
    }
   ],
   "source": [
    "from sympy.parsing.sympy_parser import parse_expr #文字字串, 解釋成, Sympy 運算式\n",
    "expr=parse_expr(\"x**2 -x -2\")\n",
    "display(expr)\n",
    "print(expr.subs(x,17))"
   ]
  },
  {
   "cell_type": "markdown",
   "id": "thirty-croatia",
   "metadata": {},
   "source": [
    "### part e : play a game"
   ]
  },
  {
   "cell_type": "code",
   "execution_count": 124,
   "id": "essential-retention",
   "metadata": {},
   "outputs": [
    {
     "data": {
      "image/png": "[encoded data removed]",
      "text/latex": [
       "$\\displaystyle \\left(x - 2\\right) \\left(x + 1\\right)$"
      ],
      "text/plain": [
       "(x - 2)⋅(x + 1)"
      ]
     },
     "metadata": {},
     "output_type": "display_data"
    },
    {
     "name": "stdout",
     "output_type": "stream",
     "text": [
      "整式展開式,作答:x**2-x-2\n",
      "答對了!標準答案如下\n"
     ]
    },
    {
     "data": {
      "image/png": "[encoded data removed]",
      "text/latex": [
       "$\\displaystyle x^{2} - x - 2$"
      ],
      "text/plain": [
       " 2        \n",
       "x  - x - 2"
      ]
     },
     "metadata": {},
     "output_type": "display_data"
    }
   ],
   "source": [
    "import sympy as sp\n",
    "from sympy.parsing.sympy_parser import parse_expr #文字字串, 解釋成, Sympy 運算式\n",
    "x=sp.Symbol('x')\n",
    "f=(x+1) * (x-2)\n",
    "display(f)\n",
    "Ans_str= input(\"整式展開式,作答:\").replace(\"^\",\"**\")\n",
    "Ans=parse_expr(Ans_str)\n",
    "if f.subs(x,17)==expr.subs(x,17):\n",
    "    print(\"答對了!標準答案如下\")\n",
    "    display(f.expand())\n",
    "else:\n",
    "    print(\"對不起!答錯\")"
   ]
  },
  {
   "cell_type": "markdown",
   "id": "usual-learning",
   "metadata": {},
   "source": [
    "### 附3. 方程式(sp.Eq) 及 多項式, 解方程solve\n"
   ]
  },
  {
   "cell_type": "markdown",
   "id": "robust-musical",
   "metadata": {},
   "source": [
    "### part a 解(Solve)方程\n",
    "\n",
    "求根(roots)以下方程式 (equation):\n",
    "\n",
    "$$ x^3+15x^2=3^x-10 $$\n",
    "    \n",
    "使用指令 Eq 和 solve . 方程根有多個 (list). evalf 根轉換成的數值."
   ]
  },
  {
   "cell_type": "code",
   "execution_count": 142,
   "id": "republican-wages",
   "metadata": {},
   "outputs": [
    {
     "data": {
      "image/png": "[encoded data removed]",
      "text/latex": [
       "$\\displaystyle x^{3} + 15 x^{2} = 3 x - 10$"
      ],
      "text/plain": [
       " 3       2           \n",
       "x  + 15⋅x  = 3⋅x - 10"
      ]
     },
     "metadata": {},
     "output_type": "display_data"
    },
    {
     "data": {
      "image/png": "[encoded data removed]",
      "text/latex": [
       "$\\displaystyle \\left[ -5 - \\frac{78}{\\left(- \\frac{1}{2} - \\frac{\\sqrt{3} i}{2}\\right) \\sqrt[3]{\\frac{27 \\sqrt{5321}}{2} + \\frac{7425}{2}}} - \\frac{\\left(- \\frac{1}{2} - \\frac{\\sqrt{3} i}{2}\\right) \\sqrt[3]{\\frac{27 \\sqrt{5321}}{2} + \\frac{7425}{2}}}{3}, \\  -5 - \\frac{\\left(- \\frac{1}{2} + \\frac{\\sqrt{3} i}{2}\\right) \\sqrt[3]{\\frac{27 \\sqrt{5321}}{2} + \\frac{7425}{2}}}{3} - \\frac{78}{\\left(- \\frac{1}{2} + \\frac{\\sqrt{3} i}{2}\\right) \\sqrt[3]{\\frac{27 \\sqrt{5321}}{2} + \\frac{7425}{2}}}, \\  - \\frac{\\sqrt[3]{\\frac{27 \\sqrt{5321}}{2} + \\frac{7425}{2}}}{3} - 5 - \\frac{78}{\\sqrt[3]{\\frac{27 \\sqrt{5321}}{2} + \\frac{7425}{2}}}\\right]$"
      ],
      "text/plain": [
       "⎡                                                           _________________ \n",
       "⎢                                          ⎛  1   √3⋅ⅈ⎞    ╱ 27⋅√5321   7425  \n",
       "⎢                                          ⎜- ─ - ────⎟⋅3 ╱  ──────── + ────  \n",
       "⎢                     78                   ⎝  2    2  ⎠ ╲╱      2        2    \n",
       "⎢-5 - ────────────────────────────────── - ──────────────────────────────────,\n",
       "⎢                      _________________                   3                  \n",
       "⎢     ⎛  1   √3⋅ⅈ⎞    ╱ 27⋅√5321   7425                                       \n",
       "⎢     ⎜- ─ - ────⎟⋅3 ╱  ──────── + ────                                       \n",
       "⎣     ⎝  2    2  ⎠ ╲╱      2        2                                         \n",
       "\n",
       "                       _________________                                      \n",
       "      ⎛  1   √3⋅ⅈ⎞    ╱ 27⋅√5321   7425                                       \n",
       "      ⎜- ─ + ────⎟⋅3 ╱  ──────── + ────                                       \n",
       "      ⎝  2    2  ⎠ ╲╱      2        2                      78                 \n",
       " -5 - ────────────────────────────────── - ──────────────────────────────────,\n",
       "                      3                                     _________________ \n",
       "                                           ⎛  1   √3⋅ⅈ⎞    ╱ 27⋅√5321   7425  \n",
       "                                           ⎜- ─ + ────⎟⋅3 ╱  ──────── + ────  \n",
       "                                           ⎝  2    2  ⎠ ╲╱      2        2    \n",
       "\n",
       "       _________________                            ⎤\n",
       "      ╱ 27⋅√5321   7425                             ⎥\n",
       "   3 ╱  ──────── + ────                             ⎥\n",
       "   ╲╱      2        2                    78         ⎥\n",
       " - ───────────────────── - 5 - ─────────────────────⎥\n",
       "             3                     _________________⎥\n",
       "                                  ╱ 27⋅√5321   7425 ⎥\n",
       "                               3 ╱  ──────── + ──── ⎥\n",
       "                               ╲╱      2        2   ⎦"
      ]
     },
     "execution_count": 142,
     "metadata": {},
     "output_type": "execute_result"
    }
   ],
   "source": [
    "from sympy import *\n",
    "x=Symbol('x',real=True)\n",
    "f= Eq(x**3+15*x**2,3*x-10)\n",
    "display(f)\n",
    "z= solve(f,x)\n",
    "z"
   ]
  },
  {
   "cell_type": "code",
   "execution_count": 137,
   "id": "unnecessary-behalf",
   "metadata": {},
   "outputs": [
    {
     "name": "stdout",
     "output_type": "stream",
     "text": [
      "0.119953874110975 + 0.801113611837881*I\n",
      "0.119953874110975 - 0.801113611837881*I\n",
      "-15.2399077482219\n"
     ]
    }
   ],
   "source": [
    "print(z[0].evalf())\n",
    "print(z[1].evalf())\n",
    "print(z[2].evalf())"
   ]
  },
  {
   "cell_type": "markdown",
   "id": "linear-painting",
   "metadata": {},
   "source": [
    "### part b 一元二次方程式\n",
    "\n",
    "$$ ax^2+bx+c=0 $$\n",
    "\n",
    "执行以后得出的结果为\n",
    "\n",
    "$$ \\frac {-b + \\sqrt{-4*a*c + b^2}}{2*a} $$\n",
    "\n",
    "$$ \\frac {-b - \\sqrt{-4*a*c + b^2}}{2*a} $$\n",
    "\n",
    "\n",
    "咱们知道根与系数的关系二次方程会有两个解，这里的格式就是一个列表。转为咱们常见的数学公式即为：\n",
    "\n"
   ]
  },
  {
   "cell_type": "code",
   "execution_count": 110,
   "id": "bizarre-medication",
   "metadata": {},
   "outputs": [
    {
     "data": {
      "image/png": "[encoded data removed]",
      "text/latex": [
       "$\\displaystyle x^{2} + 3 x - 4$"
      ],
      "text/plain": [
       " 2          \n",
       "x  + 3⋅x - 4"
      ]
     },
     "metadata": {},
     "output_type": "display_data"
    },
    {
     "data": {
      "image/png": "[encoded data removed]",
      "text/latex": [
       "$\\displaystyle \\left[ -4, \\  1\\right]$"
      ],
      "text/plain": [
       "[-4, 1]"
      ]
     },
     "execution_count": 110,
     "metadata": {},
     "output_type": "execute_result"
    }
   ],
   "source": [
    "x,y,z=sp.symbols('x,y,z')  #一元二次方程式,默認右邊式子為0\n",
    "fx=x**2 + 3*x -4           ;display(fx)\n",
    "sp.solve(fx)       # [-4,1] 默認右邊式子為0"
   ]
  },
  {
   "cell_type": "code",
   "execution_count": 109,
   "id": "cheap-baseball",
   "metadata": {},
   "outputs": [
    {
     "data": {
      "image/png": "[encoded data removed]",
      "text/latex": [
       "$\\displaystyle x^{2} + 3 x = 4$"
      ],
      "text/plain": [
       " 2          \n",
       "x  + 3⋅x = 4"
      ]
     },
     "metadata": {},
     "output_type": "display_data"
    },
    {
     "data": {
      "image/png": "[encoded data removed]",
      "text/latex": [
       "$\\displaystyle \\left[ -4, \\  1\\right]$"
      ],
      "text/plain": [
       "[-4, 1]"
      ]
     },
     "execution_count": 109,
     "metadata": {},
     "output_type": "execute_result"
    }
   ],
   "source": [
    "fx=sp.Eq(x**2 + 3*x, 4)     ;display(fx)\n",
    "sp.solve(fx)"
   ]
  },
  {
   "cell_type": "markdown",
   "id": "earlier-basket",
   "metadata": {},
   "source": [
    "### part c 方程組\n"
   ]
  },
  {
   "cell_type": "code",
   "execution_count": null,
   "id": "coastal-sweden",
   "metadata": {},
   "outputs": [],
   "source": [
    "eq1=sp.Eq(x+y+z,0)\n",
    "eq2=sp.Eq(2*x-y-z,10)\n",
    "eq3=sp.Eq(y+2*z,5)\n",
    "display([eq1,eq2,eq3])\n",
    "display(sp.solve([eq1,eq2,eq3],[x,y,z]))   #dsp.solve([eq1,eq2,eq3],x,y,z)"
   ]
  },
  {
   "cell_type": "markdown",
   "id": "behind-migration",
   "metadata": {},
   "source": [
    "### part d 不等式Solving inequalities\n",
    "\n",
    "solve_univariate_inequality(x**2>4,x) \n",
    "\n",
    "\n"
   ]
  },
  {
   "cell_type": "code",
   "execution_count": null,
   "id": "agricultural-result",
   "metadata": {},
   "outputs": [],
   "source": [
    "from sympy.solvers.inequalities import solve_univariate_inequality\n",
    "x = sp.Symbol('x')\n",
    "solve_univariate_inequality(x**2 > 4, x)"
   ]
  },
  {
   "cell_type": "markdown",
   "id": "european-danish",
   "metadata": {},
   "source": [
    "### part e 不等式組\n",
    "\n",
    "reduce_rational_inequalities([[x > 2,x > 5]],x) \n",
    "\n",
    "(x > 2) & (x > 5) ;   \n",
    "\n",
    "& 表示 and ; | 表示 or\n"
   ]
  },
  {
   "cell_type": "code",
   "execution_count": null,
   "id": "anticipated-excitement",
   "metadata": {},
   "outputs": [],
   "source": [
    "from sympy.solvers.inequalities import reduce_rational_inequalities\n",
    "x = sp.Symbol('x')\n",
    "reduce_rational_inequalities([[x > 2,x > 5]],x) "
   ]
  },
  {
   "cell_type": "markdown",
   "id": "qualified-compact",
   "metadata": {},
   "source": [
    "### part f. scipy比較:\n",
    "\n",
    "Solve the system of three equations in three unknowns symbolically:\n",
    "```python\n",
    "x+y+z=0\n",
    "2x-y-z=10\n",
    "y+2z=5\n",
    "```\n",
    "Compare the result to the answer computed with fsolve from scipy.optimize.\n",
    "\n"
   ]
  },
  {
   "cell_type": "code",
   "execution_count": null,
   "id": "frequent-train",
   "metadata": {},
   "outputs": [],
   "source": [
    "##\n",
    "x,y,z=sp.symbols('x,y,z')\n",
    "eq1=sp.Eq(x+y+z,0)\n",
    "eq2=sp.Eq(2*x-y-z,10)\n",
    "eq3=sp.Eq(y+2*z,5)\n",
    "display(eq1)\n",
    "display(eq2)\n",
    "display(eq3)\n",
    "sp.solve([eq1,eq2,eq3],[x,y,z])"
   ]
  },
  {
   "cell_type": "code",
   "execution_count": null,
   "id": "fifty-gauge",
   "metadata": {},
   "outputs": [],
   "source": [
    "from scipy.optimize import fsolve\n",
    "def f(w):\n",
    "    x=w[0]\n",
    "    y=w[1]\n",
    "    z=w[2]\n",
    "    f1=x+y+z\n",
    "    f2=2*x-y-z-10\n",
    "    f3=y+2*z-5\n",
    "    return [f1,f2,f3]\n",
    "result=fsolve(f,[0,0,0])\n",
    "print(result)\n"
   ]
  },
  {
   "cell_type": "markdown",
   "id": "appropriate-comparison",
   "metadata": {},
   "source": [
    "##  附.4: 概率及亂數\n",
    "\n",
    "Let's roll two dice, X and Y, with six faces each"
   ]
  },
  {
   "cell_type": "code",
   "execution_count": null,
   "id": "awful-progress",
   "metadata": {},
   "outputs": [],
   "source": [
    "import sympy as sp \n",
    "from sympy.stats import *\n",
    "sp.init_printing()\n",
    "#Let's roll two dice, X and Y, with six faces each\n",
    "X, Y = Die('X', 6), Die('Y', 6)"
   ]
  },
  {
   "cell_type": "code",
   "execution_count": null,
   "id": "intellectual-quarterly",
   "metadata": {},
   "outputs": [],
   "source": [
    "P(sp.Eq(X, 3))"
   ]
  },
  {
   "cell_type": "code",
   "execution_count": null,
   "id": "comparative-distinction",
   "metadata": {},
   "outputs": [],
   "source": [
    "P(X > Y)"
   ]
  },
  {
   "cell_type": "code",
   "execution_count": null,
   "id": "inner-calibration",
   "metadata": {},
   "outputs": [],
   "source": [
    "P(X + Y > 6, X < 5)"
   ]
  },
  {
   "cell_type": "markdown",
   "id": "constant-receiver",
   "metadata": {},
   "source": [
    "##  附.5: 真值表"
   ]
  },
  {
   "cell_type": "code",
   "execution_count": null,
   "id": "caroline-technical",
   "metadata": {},
   "outputs": [],
   "source": [
    "x,y,x=sp.symbols('x,y,z')\n",
    "P = x & (y | ~z)\n",
    "P"
   ]
  },
  {
   "cell_type": "code",
   "execution_count": null,
   "id": "comic-crest",
   "metadata": {},
   "outputs": [],
   "source": [
    "P.subs({x: True, y: False, z: True})"
   ]
  },
  {
   "cell_type": "markdown",
   "id": "wooden-charity",
   "metadata": {},
   "source": [
    "附加:真值表\n",
    "\n",
    "|x|y|z|??|\n",
    "|--|--|--|--|\n",
    "|T|T|T| * |\n",
    "|T|T|F| * |\n",
    "|T|F|T| T |\n",
    "|T|F|F| T |\n",
    "|f|T|T| F |\n",
    "|f|T|f| f |\n",
    "|f|f|T| F |\n",
    "|fT|f|f| T |\n",
    "\n",
    "\n",
    "1.  Let's write down all combinations that we want to evaluate to True, and those for which the outcome does not matter:\n",
    "```\n",
    "minterms = [[1, 0, 1], [1, 0, 0], [0, 0, 0]]\n",
    "dontcare = [[1, 1, 1], [1, 1, 0]]\n",
    "```\n",
    "2.  Now, we use the SOPform() function to derive an adequate formula:\n",
    "```\n",
    "Q = SOPform(['x', 'y', 'z'], minterms, dontcare)\n",
    "Q\n",
    "```\n",
    "3.\n",
    "```\n",
    "Q.subs({x: True, y: False, z: False}), Q.subs(\n",
    "    {x: False, y: True, z: True})\n",
    "```"
   ]
  },
  {
   "cell_type": "markdown",
   "id": "instructional-indonesia",
   "metadata": {},
   "source": [
    "##  附.6: diff 微分, integrate積分\n",
    "### part a : limit diff integrate\n"
   ]
  },
  {
   "cell_type": "code",
   "execution_count": null,
   "id": "worthy-indication",
   "metadata": {},
   "outputs": [],
   "source": [
    "x, y, z = sp.symbols('x y z')\n",
    "expr = sp.sin(x)/x\n",
    "display(expr)\n",
    "l_expr=sp.limit(expr, x, 0)\n",
    "display(l_expr)"
   ]
  },
  {
   "cell_type": "code",
   "execution_count": null,
   "id": "unlikely-edinburgh",
   "metadata": {},
   "outputs": [],
   "source": [
    "#可使用diff(表达式,变量,求导的次数)函数对表达式求导\n",
    "#求导，以及求导两次，代码以下：\n",
    "#导一次的结果就是exp(x)*sin(x) + exp(x)*cos(x)，也就是\n",
    "#导两次的结果是2*exp(x)*cos(x)，也就是\n",
    "x,y = sp.symbols('x y')\n",
    "expr=sp.sin(x)*sp.exp(x)\n",
    "display(expr)\n",
    "diff_expr=diff(expr, x)\n",
    "diff_expr2=diff(expr,x,2)\n",
    "display(diff_expr)\n",
    "display(diff_expr2)"
   ]
  },
  {
   "cell_type": "code",
   "execution_count": null,
   "id": "rising-impression",
   "metadata": {},
   "outputs": [],
   "source": [
    "#求不定积分\n",
    "#Sympy是使用integrate(表达式,变量)来求不定积分的，好比咱们要求\n",
    "\n",
    "from sympy import *\n",
    "x,y = symbols('x y')\n",
    "expr=exp(x)*sin(x) + exp(x)*cos(x)\n",
    "i_expr=integrate(expr,x)\n",
    "print(i_expr)\n",
    "\n",
    "#执行以后的结果为：exp(x)*sin(x) 转化以后为："
   ]
  },
  {
   "cell_type": "code",
   "execution_count": null,
   "id": "indie-standard",
   "metadata": {},
   "outputs": [],
   "source": [
    "#求定积分\n",
    "#Sympy一样是使用integrate()函数来作定积分的求解，只是语法不一样：integrate(表达式,(变量,下区间,上区间))，咱们来看若是求解\n",
    "from sympy import *\n",
    "x,y = symbols('x y')\n",
    "expr=sin(x**2)\n",
    "i_expr=integrate(expr, (x, -oo, oo))\n",
    "print(i_expr)\n",
    "#执行以后的结果为sqrt(2)*sqrt(pi)/2"
   ]
  },
  {
   "cell_type": "markdown",
   "id": "aware-insight",
   "metadata": {},
   "source": [
    "\n",
    "### part b\n",
    "Compute the symbolic derivative:  $\\frac{d}{dx} sin^2(x) e^{2x}$\n",
    "    \n",
    "\n",
    "Then evalute the resulting expression for x=3.3"
   ]
  },
  {
   "cell_type": "code",
   "execution_count": null,
   "id": "friendly-mississippi",
   "metadata": {},
   "outputs": [],
   "source": [
    "y=(sp.sin(x))**2 * sp.exp(2*x)\n",
    "z=sp.diff(y,x)\n",
    "display(z)\n",
    "z.subs({x:3.2})\n",
    "z.subs(x,3.2)"
   ]
  },
  {
   "cell_type": "markdown",
   "id": "optional-advice",
   "metadata": {},
   "source": [
    "### part c\n",
    "Create a sympy expression representing the following integral:\n",
    "\n",
    "  integral(0..5) $x^2 sin(x^2) dx$\n",
    "  $$ \\int_{0}^{5} x^2 sin(x^2) \\,dx .$$\n",
    "    \n",
    "Then evaluate the integral symbolically.\n",
    "    "
   ]
  },
  {
   "cell_type": "code",
   "execution_count": null,
   "id": "biological-august",
   "metadata": {},
   "outputs": [],
   "source": [
    "f=x**2 * sp.sin(x**2)\n",
    "g=sp.integrate(f,(x,0,5))\n",
    "print(g)\n",
    "sp.pprint(g)\n",
    "g.evalf()\n",
    "g\n"
   ]
  },
  {
   "cell_type": "markdown",
   "id": "split-marine",
   "metadata": {},
   "source": [
    "### Part d\n",
    "Solve the following differential equation symbolically using the dsolve function: $$\\frac{df(x)}{dx} = x \\cos(x) .$$"
   ]
  },
  {
   "cell_type": "code",
   "execution_count": null,
   "id": "municipal-meaning",
   "metadata": {},
   "outputs": [],
   "source": [
    "f=sp.Function('f')\n",
    "y=sp.dsolve(sp.Derivative(f(x),x)-x*sp.cos(x),f(x))\n",
    "print(y)\n",
    "z=sp.integrate(x* sp.cos(x))\n",
    "z"
   ]
  },
  {
   "cell_type": "markdown",
   "id": "capital-sport",
   "metadata": {},
   "source": [
    "##  附.7 矩陣\n",
    "### Part a\n",
    "```\n",
    "For the system Ax=b with\n",
    "A=\n",
    "\n",
    "⎡1   2  5⎤\n",
    "⎢        ⎥\n",
    "⎢3   4  6⎥\n",
    "⎢        ⎥\n",
    "⎣-1  0  3⎦\n",
    "b=\n",
    "⎡1 ⎤\n",
    "⎢  ⎥\n",
    "⎢0 ⎥\n",
    "⎢  ⎥\n",
    "⎣-2⎦\n",
    "\n",
    "Setup the matrices A and b\n",
    "```\n"
   ]
  },
  {
   "cell_type": "code",
   "execution_count": null,
   "id": "mounted-sculpture",
   "metadata": {},
   "outputs": [],
   "source": [
    "A=sp.Matrix([[1,2,5],[3,4,6,],[-1,0,3]])\n",
    "b=sp.Matrix([1,0,-2])\n",
    "sp.pprint(A)\n",
    "sp.pprint(b)"
   ]
  },
  {
   "cell_type": "markdown",
   "id": "explicit-lottery",
   "metadata": {},
   "source": [
    "### Part b\n",
    "For the system in Part a, solve for matrix x by matrix algebra."
   ]
  },
  {
   "cell_type": "code",
   "execution_count": null,
   "id": "retired-israeli",
   "metadata": {},
   "outputs": [],
   "source": [
    "sp.pprint(A.inv()*b)\n",
    "sp.pprint(A.LUsolve(b))\n"
   ]
  },
  {
   "cell_type": "markdown",
   "id": "loose-shelter",
   "metadata": {},
   "source": [
    "### Part c\n",
    "For matrix A above, return the middle row, and the middle column."
   ]
  },
  {
   "cell_type": "code",
   "execution_count": null,
   "id": "appointed-eligibility",
   "metadata": {},
   "outputs": [],
   "source": [
    "sp.pprint(A)\n",
    "sp.pprint(A[1:2,:])\n",
    "sp.pprint(A[:,1:2])\n",
    "sp.pprint(A[:,1:3])\n",
    "sp.pprint(A[:,1:])\n",
    "sp.pprint(A[:,0:-1])"
   ]
  },
  {
   "cell_type": "markdown",
   "id": "joined-treasurer",
   "metadata": {},
   "source": [
    "### part d 2x2 Matrix\n",
    "- A 的 A^-1 inverse\n",
    "\n",
    "\n",
    "A [[a, b],\n",
    "  [c, d]]\n",
    " \n",
    "A 的 inverse A^1  , A  * A^-1 = I\n",
    "\n",
    "A^1=\n",
    " 1/(ab-cd)\n",
    " *\n",
    " [ [d,-b],\n",
    "   [-c,a]]\n",
    "   \n",
    "- A * A^-1 = I\n",
    " \n",
    " \n",
    " \n",
    " "
   ]
  },
  {
   "cell_type": "code",
   "execution_count": null,
   "id": "charged-orlando",
   "metadata": {},
   "outputs": [],
   "source": [
    "a=4;b=7;c=2;d=6\n",
    "A=sp.Matrix([[a, b],[c,d]])\n",
    "display(A)\n",
    "display(sp.S(1)/(a*d-b*c))\n",
    "A1=sp.Matrix([[d, -b],[-c,a]])\n",
    "display(A1)\n",
    "display(A.inv())\n",
    "display(A.inv()*A)"
   ]
  },
  {
   "cell_type": "markdown",
   "id": "contained-bristol",
   "metadata": {},
   "source": [
    "### A Real Life Example: Bus and Train\n",
    "\n",
    "https://www.mathsisfun.com/algebra/matrix-inverse.html\n",
    "\n",
    "一組人坐巴士 小童 3 元 ,大人 3.20 元,共用了118.40元  \n",
    "一組人坐火車 小童 3.5 元 ,大人 3.60 元,共用了135.20元  \n",
    "$X = [x_1 , x_2 ]$ x_1小童人數 , x_2大人人數        \n",
    "$A =\\displaystyle \\left[\\begin{matrix}3 & 3.5\\\\3.2 & 3.6\\end{matrix}\\right]$  \n",
    "$B =\\displaystyle \\left[\\begin{matrix}118.4 & 135.2\\end{matrix}\\right]$(巴士 , 火車)車資   \n",
    "$X=[x_1,x_2]$   \n",
    "$XA=B$   \n",
    "$X=BA^{-1} $\n",
    "![](https://www.mathsisfun.com/algebra/images/matrix-inverse-2x2.svg)"
   ]
  },
  {
   "cell_type": "code",
   "execution_count": 159,
   "id": "iraqi-award",
   "metadata": {},
   "outputs": [
    {
     "name": "stdout",
     "output_type": "stream",
     "text": [
      "小童巴士票價3, 火車票價3.5\n",
      "大人巴士票價3.2, 火車票價3.6\n"
     ]
    },
    {
     "data": {
      "text/latex": [
       "$\\displaystyle \\left[\\begin{matrix}3 & 3.5\\\\3.2 & 3.6\\end{matrix}\\right]$"
      ],
      "text/plain": [
       "⎡ 3   3.5⎤\n",
       "⎢        ⎥\n",
       "⎣3.2  3.6⎦"
      ]
     },
     "metadata": {},
     "output_type": "display_data"
    },
    {
     "name": "stdout",
     "output_type": "stream",
     "text": [
      "車資巴士總價118.4, 火車總價135.2\n"
     ]
    },
    {
     "data": {
      "text/latex": [
       "$\\displaystyle \\left[\\begin{matrix}118.4 & 135.2\\end{matrix}\\right]$"
      ],
      "text/plain": [
       "[118.4  135.2]"
      ]
     },
     "metadata": {},
     "output_type": "display_data"
    },
    {
     "data": {
      "text/latex": [
       "$\\displaystyle \\left[\\begin{matrix}-8.99999999999999 & 8.74999999999999\\\\7.99999999999999 & -7.49999999999999\\end{matrix}\\right]$"
      ],
      "text/plain": [
       "⎡-8.99999999999999  8.74999999999999 ⎤\n",
       "⎢                                    ⎥\n",
       "⎣7.99999999999999   -7.49999999999999⎦"
      ]
     },
     "metadata": {},
     "output_type": "display_data"
    },
    {
     "name": "stdout",
     "output_type": "stream",
     "text": [
      "a*d-b*c=-0.400000000000000\n"
     ]
    },
    {
     "data": {
      "text/latex": [
       "$\\displaystyle \\left[\\begin{matrix}-8.99999999999999 & 8.74999999999999\\\\7.99999999999999 & -7.49999999999999\\end{matrix}\\right]$"
      ],
      "text/plain": [
       "⎡-8.99999999999999  8.74999999999999 ⎤\n",
       "⎢                                    ⎥\n",
       "⎣7.99999999999999   -7.49999999999999⎦"
      ]
     },
     "metadata": {},
     "output_type": "display_data"
    },
    {
     "data": {
      "text/latex": [
       "$\\displaystyle \\left[\\begin{matrix}15.9999999999998 & 22.0000000000003\\end{matrix}\\right]$"
      ],
      "text/plain": [
       "[15.9999999999998  22.0000000000003]"
      ]
     },
     "metadata": {},
     "output_type": "display_data"
    }
   ],
   "source": [
    "from sympy import *\n",
    "a=3;b=3.5;c=3.2;d=3.6\n",
    "print(f\"小童巴士票價{a}, 火車票價{b}\")\n",
    "print(f\"大人巴士票價{c}, 火車票價{d}\")\n",
    "A=Matrix([[a, b],[c,d]])\n",
    "display(A)\n",
    "e=118.4\n",
    "f=135.2\n",
    "print(f\"車資巴士總價{e}, 火車總價{f}\")\n",
    "B=sp.Matrix([[e,f]])\n",
    "display(B)\n",
    "#inv A , method 1\n",
    "display(A.inv())\n",
    "#inv A , method 2\n",
    "determinant =S(a)*d-S(b)*c\n",
    "print(f\"a*d-b*c={determinant}\")\n",
    "A_inv=sp.Matrix([[d, -b],[-c,a]])* 1/determinant\n",
    "display(A_inv)\n",
    "display(B*A.inv())"
   ]
  },
  {
   "cell_type": "markdown",
   "id": "devoted-poultry",
   "metadata": {},
   "source": [
    "Order is Important:    \n",
    "巴士票價 小童3, 大人3.2   \n",
    "火車票價 小童3.5, 大人3.6    \n",
    "$A=\\displaystyle \\left[\\begin{matrix}3 & 3.2\\\\3.5 & 3.6\\end{matrix}\\right]$\n",
    "\n",
    "巴士車資 118.4   \n",
    "火車車資 135.2       \n",
    "\n",
    "$B=\\displaystyle \\left[\\begin{matrix}118.4\\\\135.2\\end{matrix}\\right]$\n",
    "\n",
    "$X=\\displaystyle \\left[\\begin{matrix}x_1\\\\x_2\\end{matrix}\\right]$\n",
    "\n",
    "AX=B\n",
    "\n",
    "$A^{-1} * A X= A^{-1} B$   \n",
    " \n",
    "$IX= A^{-1}B$"
   ]
  },
  {
   "cell_type": "code",
   "execution_count": 164,
   "id": "graduate-poetry",
   "metadata": {},
   "outputs": [
    {
     "data": {
      "text/latex": [
       "$\\displaystyle \\left[\\begin{matrix}3 & 3.2\\\\3.5 & 3.6\\end{matrix}\\right]$"
      ],
      "text/plain": [
       "⎡ 3   3.2⎤\n",
       "⎢        ⎥\n",
       "⎣3.5  3.6⎦"
      ]
     },
     "metadata": {},
     "output_type": "display_data"
    },
    {
     "data": {
      "image/png": "[encoded data removed]",
      "text/latex": [
       "$\\displaystyle -0.4$"
      ],
      "text/plain": [
       "-0.40000000000000036"
      ]
     },
     "metadata": {},
     "output_type": "display_data"
    },
    {
     "data": {
      "text/latex": [
       "$\\displaystyle \\left[\\begin{matrix}3.6 & -3.2\\\\-3.5 & 3\\end{matrix}\\right]$"
      ],
      "text/plain": [
       "⎡3.6   -3.2⎤\n",
       "⎢          ⎥\n",
       "⎣-3.5   3  ⎦"
      ]
     },
     "metadata": {},
     "output_type": "display_data"
    },
    {
     "data": {
      "text/latex": [
       "$\\displaystyle \\left[\\begin{matrix}-8.99999999999999 & 7.99999999999999\\\\8.74999999999999 & -7.49999999999999\\end{matrix}\\right]$"
      ],
      "text/plain": [
       "⎡-8.99999999999999  7.99999999999999 ⎤\n",
       "⎢                                    ⎥\n",
       "⎣8.74999999999999   -7.49999999999999⎦"
      ]
     },
     "metadata": {},
     "output_type": "display_data"
    },
    {
     "data": {
      "text/latex": [
       "$\\displaystyle \\left[\\begin{matrix}-8.99999999999999 & 7.99999999999999\\\\8.74999999999999 & -7.49999999999999\\end{matrix}\\right]$"
      ],
      "text/plain": [
       "⎡-8.99999999999999  7.99999999999999 ⎤\n",
       "⎢                                    ⎥\n",
       "⎣8.74999999999999   -7.49999999999999⎦"
      ]
     },
     "metadata": {},
     "output_type": "display_data"
    },
    {
     "data": {
      "text/latex": [
       "$\\displaystyle \\left[\\begin{matrix}118.4\\\\135.2\\end{matrix}\\right]$"
      ],
      "text/plain": [
       "⎡118.4⎤\n",
       "⎢     ⎥\n",
       "⎣135.2⎦"
      ]
     },
     "metadata": {},
     "output_type": "display_data"
    },
    {
     "data": {
      "text/latex": [
       "$\\displaystyle \\left[\\begin{matrix}16.0\\\\22.0000000000003\\end{matrix}\\right]$"
      ],
      "text/plain": [
       "⎡      16.0      ⎤\n",
       "⎢                ⎥\n",
       "⎣22.0000000000003⎦"
      ]
     },
     "metadata": {},
     "output_type": "display_data"
    }
   ],
   "source": [
    "a=3;b=3.2;c=3.5;d=3.6\n",
    "A=sp.Matrix([[a, b],[c,d]])\n",
    "display(A)\n",
    "\n",
    "determinant=(a*d-b*c)\n",
    "display(determinant)\n",
    "A1=Matrix([[d, -b],[-c,a]])\n",
    "display(A1)\n",
    "display(A1*1/determinant)\n",
    "\n",
    "display(A.inv())\n",
    "\n",
    "e=118.4\n",
    "f=135.2\n",
    "B=sp.Matrix([[e],[f]])\n",
    "display(B)\n",
    "display(A.inv() * B)"
   ]
  },
  {
   "cell_type": "markdown",
   "id": "expensive-howard",
   "metadata": {},
   "source": [
    "### part e\n",
    "\n",
    "Create a matrix M using the zeros function that has 2 rows and 2 columns. Fill in some values using array notation(like M[i,j]=value).\n"
   ]
  },
  {
   "cell_type": "code",
   "execution_count": null,
   "id": "offensive-destiny",
   "metadata": {},
   "outputs": [],
   "source": [
    "M=sp.zeros(2,2)\n",
    "M[0,0]=1\n",
    "M[1,1]=3\n",
    "M[1,0]=x**2\n",
    "sp.pprint(M)\n",
    "sp.pprint(M.inv())"
   ]
  },
  {
   "cell_type": "markdown",
   "id": "blind-equilibrium",
   "metadata": {},
   "source": [
    "### Part c\n",
    "For matrix A above, return the middle row, and the middle column."
   ]
  },
  {
   "cell_type": "markdown",
   "id": "eight-eight",
   "metadata": {},
   "source": [
    "### 附.8 Latex\n",
    "- \\frac {x} {y}\n",
    "\n",
    "$$  \\frac{x}{y} $$\n",
    "- |{x}|\n",
    "$$ |{x}| $$\n",
    "- {x}^{y}\n",
    "$$ {x}^{y} $$\n",
    "- {\\large{ (\\frac{x}{y})}}^{z}\n",
    "$$ {\\large{ (- \\frac{x}{y})}}^{z} $$\n",
    "- x^2-2x+1=0\n",
    "$$ x^2-2x+1=0 $$\n",
    "- 有理數的巧算\n",
    "1. 等差數列  sum=(f1+fn)*n/2 ;  n=((fn-f1)/ difference) +1\n",
    "$$ sum=\\frac{ (f1+fn)*n }{2}  $$\n",
    "$$ n=\\frac{(fn-f1)}{difference} +1  $$\n",
    "2. 等比數列  sum=f1*(1- ratio ^ n) / (1- ratio)\n",
    "$$ \\frac{ f1*(1- ratio ^ n) }{1- ratio}  $$\n",
    "3. 平方和    sum=1/6 * n * (n+1) *(2n +1)\n",
    "$$ \\frac{1}{6} * n * (n+1) * (2n+1) $$"
   ]
  },
  {
   "cell_type": "markdown",
   "id": "prescribed-gossip",
   "metadata": {},
   "source": [
    " ### 附.9 contour"
   ]
  },
  {
   "cell_type": "code",
   "execution_count": 40,
   "id": "color-place",
   "metadata": {},
   "outputs": [
    {
     "data": {
      "image/png": "[encoded data removed]",
      "text/plain": [
       "<Figure size 432x288 with 6 Axes>"
      ]
     },
     "metadata": {
      "needs_background": "light"
     },
     "output_type": "display_data"
    }
   ],
   "source": [
    "import matplotlib.pyplot as plt\n",
    "import numpy as np\n",
    "from matplotlib import cm\n",
    "\n",
    "# Default delta is large because that makes it fast, and it illustrates\n",
    "# the correct registration between image and contours.\n",
    "delta = 0.5\n",
    "\n",
    "extent = (-3, 4, -4, 3)\n",
    "\n",
    "x = np.arange(-3.0, 4.001, delta)\n",
    "y = np.arange(-4.0, 3.001, delta)\n",
    "X, Y = np.meshgrid(x, y)\n",
    "Z1 = np.exp(-X**2 - Y**2)\n",
    "Z2 = np.exp(-(X - 1)**2 - (Y - 1)**2)\n",
    "Z = (Z1 - Z2) * 2\n",
    "\n",
    "# Boost the upper limit to avoid truncation errors.\n",
    "levels = np.arange(-2.0, 1.601, 0.4)\n",
    "\n",
    "norm = cm.colors.Normalize(vmax=abs(Z).max(), vmin=-abs(Z).max())\n",
    "cmap = cm.PRGn\n",
    "\n",
    "fig, _axs = plt.subplots(nrows=2, ncols=2)\n",
    "fig.subplots_adjust(hspace=0.3)\n",
    "axs = _axs.flatten()\n",
    "\n",
    "cset1 = axs[0].contourf(X, Y, Z, levels, norm=norm,\n",
    "                        cmap=cm.get_cmap(cmap, len(levels) - 1))\n",
    "# It is not necessary, but for the colormap, we need only the\n",
    "# number of levels minus 1.  To avoid discretization error, use\n",
    "# either this number or a large number such as the default (256).\n",
    "\n",
    "# If we want lines as well as filled regions, we need to call\n",
    "# contour separately; don't try to change the edgecolor or edgewidth\n",
    "# of the polygons in the collections returned by contourf.\n",
    "# Use levels output from previous call to guarantee they are the same.\n",
    "\n",
    "cset2 = axs[0].contour(X, Y, Z, cset1.levels, colors='k')\n",
    "\n",
    "# We don't really need dashed contour lines to indicate negative\n",
    "# regions, so let's turn them off.\n",
    "\n",
    "for c in cset2.collections:\n",
    "    c.set_linestyle('solid')\n",
    "\n",
    "# It is easier here to make a separate call to contour than\n",
    "# to set up an array of colors and linewidths.\n",
    "# We are making a thick green line as a zero contour.\n",
    "# Specify the zero level as a tuple with only 0 in it.\n",
    "\n",
    "cset3 = axs[0].contour(X, Y, Z, (0,), colors='g', linewidths=2)\n",
    "axs[0].set_title('Filled contours')\n",
    "fig.colorbar(cset1, ax=axs[0])\n",
    "\n",
    "\n",
    "axs[1].imshow(Z, extent=extent, cmap=cmap, norm=norm)\n",
    "axs[1].contour(Z, levels, colors='k', origin='upper', extent=extent)\n",
    "axs[1].set_title(\"Image, origin 'upper'\")\n",
    "\n",
    "axs[2].imshow(Z, origin='lower', extent=extent, cmap=cmap, norm=norm)\n",
    "axs[2].contour(Z, levels, colors='k', origin='lower', extent=extent)\n",
    "axs[2].set_title(\"Image, origin 'lower'\")\n",
    "\n",
    "# We will use the interpolation \"nearest\" here to show the actual\n",
    "# image pixels.\n",
    "# Note that the contour lines don't extend to the edge of the box.\n",
    "# This is intentional. The Z values are defined at the center of each\n",
    "# image pixel (each color block on the following subplot), so the\n",
    "# domain that is contoured does not extend beyond these pixel centers.\n",
    "im = axs[3].imshow(Z, interpolation='nearest', extent=extent,\n",
    "                   cmap=cmap, norm=norm)\n",
    "axs[3].contour(Z, levels, colors='k', origin='image', extent=extent)\n",
    "ylim = axs[3].get_ylim()\n",
    "axs[3].set_ylim(ylim[::-1])\n",
    "axs[3].set_title(\"Origin from rc, reversed y-axis\")\n",
    "fig.colorbar(im, ax=axs[3])\n",
    "\n",
    "fig.tight_layout()\n",
    "plt.show()"
   ]
  }
 ],
 "metadata": {
  "kernelspec": {
   "display_name": "Python 3",
   "language": "python",
   "name": "python3"
  },
  "language_info": {
   "codemirror_mode": {
    "name": "ipython",
    "version": 3
   },
   "file_extension": ".py",
   "mimetype": "text/x-python",
   "name": "python",
   "nbconvert_exporter": "python",
   "pygments_lexer": "ipython3",
   "version": "3.9.9"
  }
 },
 "nbformat": 4,
 "nbformat_minor": 5
}

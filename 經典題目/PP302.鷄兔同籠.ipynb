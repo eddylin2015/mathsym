{
 "cells": [
  {
   "cell_type": "markdown",
   "id": "b580c007-cd5c-46ef-a46d-4ae658ef4a44",
   "metadata": {
    "tags": []
   },
   "source": [
    "# 鷄兔同籠"
   ]
  },
  {
   "cell_type": "markdown",
   "id": "36867724-22f3-4adb-93ab-0b48fb04b2a1",
   "metadata": {},
   "source": [
    "- 鷄兔同籠,有10個頭, 28隻腳, 問鷄兔分別有多少隻?\n",
    "- 鷄兔同籠,有12個頭, 數量鷄是兔2倍, 問鷄兔分別有多少隻?"
   ]
  },
  {
   "cell_type": "code",
   "execution_count": null,
   "id": "d11532db-63d1-4f52-aff4-0c4c9b641441",
   "metadata": {},
   "outputs": [],
   "source": [
    "import sympy as sp\n",
    "import random\n",
    "import numpy as np\n",
    "\n",
    "\n",
    "def Get_P303_Expr(QN,Tx=-1):\n",
    "    x,y,z=sp.symbols('x y z')\n",
    "    \n",
    "    NTE = []\n",
    "    for Qid in range(0, QN):\n",
    "        ai = np.random.choice(range(4,10), 2)\n",
    "        if Tx == 0:\n",
    "            sum_head=ai[0]+ai[1]\n",
    "            sum_feet=ai[0]*2+ai[1]*4\n",
    "            St = [f\"鷄兔同籠,\",f\"有{sum_head}個頭,{sum_feet}隻腳,\",\"問鷄兔分別有多少隻?\"]\n",
    "            Val = [ai[0],ai[1]]  # 簡化算式,得出標準答案\n",
    "        elif Tx == 1:\n",
    "            times=random.choice([2,3,4])\n",
    "            ai[0]=ai[1]*times\n",
    "            sum_head=ai[0]+ai[1]\n",
    "            sum_feet=ai[0]*2+ai[1]*4\n",
    "            St =[ f\"鷄兔同籠,\",f\"有{sum_head}個頭,數量鷄是兔{times}倍,\",\" 問鷄兔分別有多少隻?\"]\n",
    "            Val = [ai[0],ai[1]]  # 簡化算式,得出標準答案\n",
    "        elif Tx == 2:\n",
    "            times=random.choice([2,3,4])\n",
    "            ai[1]=ai[0]*times\n",
    "            sum_head=ai[0]+ai[1]\n",
    "            sum_feet=ai[0]*2+ai[1]*4\n",
    "            St = [f\"鷄兔同籠,\",f\"有{sum_head}個頭,數量兔是鷄{times}倍,\",\" 問鷄兔分別有多少隻?\"]\n",
    "            Val = [ai[0],ai[1]]  # 簡化算式,得出標準答案\n",
    "        else:\n",
    "            sum_head=ai[0]+ai[1]\n",
    "            sum_feet=ai[0]*2+ai[1]*4\n",
    "            St = [f\"鷄兔同籠,\",f\"有{sum_head}個頭,{sum_feet}隻腳,\",\" 問鷄兔分別有多少隻?\"]\n",
    "            Val = [ai[0],ai[1]]  # 簡化算式,得出標準答案\n",
    "        TE = GetTE(Qid, St, Val, Tx)\n",
    "        NTE.append(TE)\n",
    "    return NTE"
   ]
  },
  {
   "cell_type": "markdown",
   "id": "8c666860-b75d-4ad0-9832-9e6ef0ea93b9",
   "metadata": {},
   "source": [
    "練習\n",
    "（練習）鶴、和螞蟻\n",
    "\n",
    "鶴、龜、螞蟻、個體總數為10。 總共有34條腿。 螞蟻比少一隻。 鶴、龜和螞蟻各有多少隻？\n",
    "\n",
    "鶴、龜和螞蟻的數量  x,y,z  將聯立方設定設定為 。 你知道多少只螞蟻的腿，是嗎？solve\n",
    "\n",
    "曾經在線性代數課上提出這個問題時，首先提出的問題是，「老師，你幾條腿？ 是... orz"
   ]
  },
  {
   "cell_type": "markdown",
   "id": "b7e05202-1fd7-4abe-8551-ab5625fcaf97",
   "metadata": {},
   "source": [
    "練習 （練習） 3,2,1 最大數位由\n",
    "\n",
    "使用數位 3、2 和 1 的單一動作可以建立的最大整數是什麼？\n",
    "\n",
    "（提示）\n",
    "\n",
    "(1+2)×3=9 那一點也不好。 如果你按原樣排列， 321 但是，使用冪可以創建更大的數位。\n",
    "\n",
    "213 或者說， 312 或者說， 231 或者說， 321 或者..."
   ]
  },
  {
   "cell_type": "markdown",
   "id": "3c171481-c0b4-47ed-8d9c-9cb6caa5f887",
   "metadata": {},
   "source": [
    "練習\n",
    "（練習）函數的極大值\n",
    "\n",
    "計算下一個函數獲取最大值的 x 的值及其最大值。\n",
    "\n",
    "1.  $\\frac{x^3}{e^x−1}$\n",
    "\n",
    "2.  $\\frac {x^5}{e^x−1}$\n",
    " "
   ]
  }
 ],
 "metadata": {
  "kernelspec": {
   "display_name": "Python 3",
   "language": "python",
   "name": "python3"
  },
  "language_info": {
   "codemirror_mode": {
    "name": "ipython",
    "version": 3
   },
   "file_extension": ".py",
   "mimetype": "text/x-python",
   "name": "python",
   "nbconvert_exporter": "python",
   "pygments_lexer": "ipython3",
   "version": "3.9.0"
  }
 },
 "nbformat": 4,
 "nbformat_minor": 5
}

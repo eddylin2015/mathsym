{
 "cells": [
  {
   "cell_type": "code",
   "execution_count": 15,
   "id": "endless-latest",
   "metadata": {},
   "outputs": [
    {
     "name": "stdout",
     "output_type": "stream",
     "text": [
      "(100*a)*x*(2+4*a)-125\n"
     ]
    }
   ],
   "source": [
    "import re\n",
    "def Text2StV1(ans,symbols_=['x','y','z']):\n",
    "    if ans.strip() == \"\": return \"-3.1415926\"\n",
    "    dictionary = {'X': 'x', 'Y':'y', 'Z': 'z', '^': '**'}\n",
    "    transTable = ans.maketrans(dictionary)\n",
    "    ans = ans.translate(transTable)\n",
    "    ans = re.sub(r\"[)][(]\", r\")*(\", ans)\n",
    "    ans = re.sub(r\"[)][ ]*[(]\", r\")*(\", ans)\n",
    "    for s_ in symbols_:\n",
    "        re_expr=r\"(\\d)[ ]*\"+s_\n",
    "        rep_str=r\"\\1*\"+s_\n",
    "        ans = re.sub(re_expr, rep_str, ans)\n",
    "        re_expr=r\"[)][ ]*\"+s_\n",
    "        rep_str=r\")*\"+s_\n",
    "        ans = re.sub(re_expr, rep_str, ans)\n",
    "        re_expr=s_+r\"[ ]*[(]\"\n",
    "        rep_str=s_+r\"*(\"\n",
    "        ans = re.sub(re_expr, rep_str, ans)\n",
    "    ans = re.sub(r\"x[ ]*y\", r\"x*y\", ans)\n",
    "    ans = re.sub(r\"y[ ]*z\", r\"y*z\", ans)\n",
    "    ans = re.sub(r\"x[ ]*z\", r\"x*z\", ans)\n",
    "    ans = re.sub(r\"(\\d)[ ]*[(]\", r\"\\1*(\", ans)\n",
    "    ans = re.sub(r\"(\\d)[ ]*J[(]\", r\"\\1*J(\", ans)\n",
    "    ans = ans.replace('J(','sqrt(',10)\n",
    "    return ans\n",
    "print(Text2StV1(\"(100a)x(2+4a)-125\",[\"a\",\"x\"]))\n"
   ]
  },
  {
   "cell_type": "code",
   "execution_count": null,
   "id": "inside-dining",
   "metadata": {},
   "outputs": [],
   "source": [
    "    #ans = re.sub(r\"x[ ]*[(]\", r\"x*(\", ans)\n",
    "    #ans = re.sub(r\"y[ ]*[(]\", r\"y*(\", ans)\n",
    "    #ans = re.sub(r\"z[ ]*[(]\", r\"z*(\", ans)\n",
    "    #ans = re.sub(r\"[)][ ]*x\", r\")*x\", ans)\n",
    "    #ans = re.sub(r\"[)][ ]*y\", r\")*y\", ans)\n",
    "    #ans = re.sub(r\"[)][ ]*z\", r\")*z\", ans)\n",
    "    #ans = re.sub(r\"(\\d)[ ]*x\", r\"\\1*x\", ans)\n",
    "    #ans = re.sub(r\"(\\d)[ ]*y\", r\"\\1*y\", ans)\n",
    "    #ans = re.sub(r\"(\\d)[ ]*z\", r\"\\1*z\", ans)\n"
   ]
  },
  {
   "cell_type": "code",
   "execution_count": null,
   "id": "charged-reconstruction",
   "metadata": {},
   "outputs": [],
   "source": [
    "def Text2StV1(ans,symbols=['x','y','z']):\n",
    "    if ans.strip() == \"\": return \"-3.1415926\"\n",
    "    dictionary = {'X': 'x', 'Y':'y', 'Z': 'z', '^': '**'}\n",
    "    transTable = ans.maketrans(dictionary)\n",
    "    ans = ans.translate(transTable)\n",
    "    ans = re.sub(r\"[)][(]\", r\")*(\", ans)\n",
    "    ans = re.sub(r\"[)][ ]*[(]\", r\")*(\", ans)\n",
    "    ans = re.sub(r\"[)][ ]*x\", r\")*x\", ans)\n",
    "    ans = re.sub(r\"[)][ ]*y\", r\")*y\", ans)\n",
    "    ans = re.sub(r\"[)][ ]*z\", r\")*z\", ans)\n",
    "    ans = re.sub(r\"(\\d)[ ]*x\", r\"\\1*x\", ans)\n",
    "    ans = re.sub(r\"(\\d)[ ]*y\", r\"\\1*y\", ans)\n",
    "    ans = re.sub(r\"(\\d)[ ]*z\", r\"\\1*z\", ans)\n",
    "    ans = re.sub(r\"x[ ]*y\", r\"x*y\", ans)\n",
    "    ans = re.sub(r\"y[ ]*z\", r\"y*z\", ans)\n",
    "    ans = re.sub(r\"x[ ]*z\", r\"x*z\", ans)\n",
    "    ans = re.sub(r\"x[ ]*[(]\", r\"x*(\", ans)\n",
    "    ans = re.sub(r\"y[ ]*[(]\", r\"y*(\", ans)\n",
    "    ans = re.sub(r\"z[ ]*[(]\", r\"z*(\", ans)\n",
    "    ans = re.sub(r\"(\\d)[ ]*[(]\", r\"\\1*(\", ans)\n",
    "    ans = re.sub(r\"(\\d)[ ]*J[(]\", r\"\\1*J(\", ans)\n",
    "    ans = ans.replace('J(','sqrt(',10)\n",
    "    return ans"
   ]
  },
  {
   "cell_type": "code",
   "execution_count": null,
   "id": "intermediate-interval",
   "metadata": {},
   "outputs": [],
   "source": []
  },
  {
   "cell_type": "code",
   "execution_count": null,
   "id": "intimate-script",
   "metadata": {},
   "outputs": [],
   "source": []
  },
  {
   "cell_type": "code",
   "execution_count": null,
   "id": "general-plate",
   "metadata": {},
   "outputs": [],
   "source": []
  }
 ],
 "metadata": {
  "kernelspec": {
   "display_name": "Python 3",
   "language": "python",
   "name": "python3"
  },
  "language_info": {
   "codemirror_mode": {
    "name": "ipython",
    "version": 3
   },
   "file_extension": ".py",
   "mimetype": "text/x-python",
   "name": "python",
   "nbconvert_exporter": "python",
   "pygments_lexer": "ipython3",
   "version": "3.9.2"
  }
 },
 "nbformat": 4,
 "nbformat_minor": 5
}

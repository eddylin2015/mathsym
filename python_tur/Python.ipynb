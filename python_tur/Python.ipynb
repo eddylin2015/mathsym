{
 "cells": [
  {
   "cell_type": "markdown",
   "id": "protecting-channel",
   "metadata": {
    "tags": []
   },
   "source": [
    "# 中學生Python解難 培訓教材\n",
    "\n",
    "著作: 周艾迪 版權所有\n"
   ]
  },
  {
   "cell_type": "markdown",
   "id": "amber-classroom",
   "metadata": {},
   "source": [
    "## 一.Python 版本及套件\n",
    "Python 3.9.6  \n",
    "提供的套件：Python 內置 Modules，及以下：  \n",
    "Requests  \n",
    "Untangle  \n",
    "BeautifulSoup4  \n",
    "Selenium  \n",
    "Numpy   \n",
    "Pandas  \n",
    "MatPlotLib  \n",
    "python-docx  \n",
    "openpyxl  "
   ]
  },
  {
   "cell_type": "markdown",
   "id": "funded-generation",
   "metadata": {},
   "source": [
    "## 例一: 圖像檔案分類   \n",
    "輸入: 多個圖像檔案  \n",
    "輸出: 多個含有圖片的Word.docx 檔案   \n",
    "描述: 現有以下圖片檔案, 分類並存放不同的Word.docx檔,  \n",
    "\t.  1001-.a.png  \n",
    "\t.  1001-b.jpeg  \n",
    "\t.  1001-c.jpg  \n",
    "\t.  21444-a.jpg  \n",
    "\t.  21444-b.jpg  \n",
    "輸出檔:  \n",
    "\t1001.docx   \n",
    "\t21444.docx  \n"
   ]
  },
  {
   "cell_type": "code",
   "execution_count": 2,
   "id": "alternate-bunny",
   "metadata": {},
   "outputs": [
    {
     "name": "stdout",
     "output_type": "stream",
     "text": [
      "IMG_20210907.docx\n",
      "['IMG_20210907-204549 (1).jpg', 'IMG_20210907-204549 (2).jpg', 'IMG_20210907-204549 (3).jpg']\n",
      "IMG_20210908.docx\n",
      "['IMG_20210908-1.jpg', 'IMG_20210908-2.jpg']\n"
     ]
    }
   ],
   "source": [
    "from os import listdir\n",
    "def out_docx(mypath,filename,jpeglist):\n",
    "    from docx import Document\n",
    "    document = Document()\n",
    "    document.add_heading('Document Title', 0)\n",
    "    for f in jpeglist:\n",
    "        pic_path=f\"{mypath}{f}\"\n",
    "        document.add_picture(pic_path)\n",
    "    document.save('./ex1/out/'+filename)\n",
    "\n",
    "mypath = \"./ex1/in/\"\n",
    "files = listdir(mypath)\n",
    "category={}\n",
    "for f in files:\n",
    "    if \".jpg\" in f  and '-' in f:\n",
    "        key , x =f.split('-')\n",
    "        if key in category:\n",
    "            category[key].append( f )\n",
    "        else:\n",
    "            category[key]=[f]\n",
    "\n",
    "for k in category:\n",
    "    filename =f\"{k}.docx\"\n",
    "    print(filename)\n",
    "    print(category[k])\n",
    "    out_docx(mypath,filename,category[k])"
   ]
  },
  {
   "cell_type": "markdown",
   "id": "running-macro",
   "metadata": {},
   "source": [
    "## 例二: 網站截取:\n",
    "輸入: 新聞網站  \n",
    "輸出: 一個TXT檔及多個Word.docx  \n",
    "描述: 現有http://localhost/example-1/news.php 希望能截取最新的內容, 一個txt記錄所有標題。另外每則新聞標題及文字內容則放到一個獨立Word.docx檔案中, 一則新聞一個檔. 新聞標題為檔名."
   ]
  },
  {
   "cell_type": "code",
   "execution_count": 4,
   "id": "quality-carnival",
   "metadata": {},
   "outputs": [
    {
     "name": "stdout",
     "output_type": "stream",
     "text": [
      "2021-09-20\n"
     ]
    }
   ],
   "source": [
    "import datetime\n",
    "today_date = datetime.date.today()\n",
    "''' today in YYYY-MM-DD format.'''\n",
    "print(today_date.isoformat())"
   ]
  },
  {
   "cell_type": "code",
   "execution_count": null,
   "id": "german-upset",
   "metadata": {},
   "outputs": [],
   "source": [
    "def out_txtfile(msg):\n",
    "    with open(f\"./ex2/out/news_title.txt\", 'a',encoding='utf-8') as the_file:\n",
    "        the_file.write(str(msg))\n",
    "        the_file.write('\\n')\n",
    "\n",
    "def out_docx(filename,context):\n",
    "    from docx import Document\n",
    "    document = Document()\n",
    "    document.add_heading(filename, 0)\n",
    "    document.add_paragraph(context, style='List Bullet'  )\n",
    "    document.save(\"./ex2/out/\"+filename+\".docx\")        "
   ]
  },
  {
   "cell_type": "code",
   "execution_count": 27,
   "id": "cross-parliament",
   "metadata": {},
   "outputs": [
    {
     "name": "stdout",
     "output_type": "stream",
     "text": [
      "\n",
      "A01：澳聞\n",
      "衛健委：重點人群應種盡種\n",
      "火龍果樣本病毒核檢正常\n",
      "母乳媽媽：自然斷奶再打針\n",
      "醫務人員：哺乳母打針保護嬰兒\n",
      "\n",
      "A02：澳聞\n",
      "四人攜百六遊戲手掣青茂被截\n",
      "撞毀路牌不顧而去男子自首\n",
      "兩男女被盜刷信用卡失萬七\n",
      "內港地舖插座燒焦六人疏散\n",
      "內地漢逾居持假證被拘\n",
      "\n",
      "A03：澳聞\n",
      "中秋賞月歡度佳節不忘抗疫\n",
      "兩巴中秋延長服務便民出行\n",
      "中秋燈飾高掛人月兩圓\n",
      "\n",
      "A04：澳聞\n",
      "珠海上光影劇點亮夜經濟\n",
      "民眾建澳促盡快設全民醫保\n",
      "光影引客\n",
      "學校倡參考公務員執行指引\n",
      "港澳台媒體在京記者迎中秋\n",
      "“二五規劃”結合“方案”引領社會奮發有為\n",
      "\n",
      "A05：澳聞\n",
      "中區扶輪社認識何賢事跡\n",
      "羅坑同鄉會換屆培育青年\n",
      "團體賀中秋迎國慶\n",
      "完善配套打造遺址片區\n",
      "真善之友關懷唐寶寶\n",
      "團體頒奬學金\n",
      "永利鏡湖推危重症救治計劃\n",
      "蘇嘉豪總結立會工作提四不足\n",
      "家暴法中關於輔助人的規定\n",
      "\n",
      "A06：澳聞\n",
      "本地遊整合十三路線更好玩\n",
      "藝術家“起筷”饗視覺盛宴\n",
      "簽發空頭支票須負刑責\n",
      "\n",
      "A07：澳聞\n",
      "中總：豐富“一國兩制”成功實踐\n",
      "經發委：深合區為澳青建平台\n",
      "街總倡完善深合區養老配套\n",
      "婦聯冀琴澳長者服務融合發展\n",
      "新聞特搜\n",
      "\n",
      "A08：澳聞\n",
      "理工升旗禮迎新學年\n",
      "親子溝通經驗分享\n",
      "濠小學生認識九一八事變\n",
      "教業嘉許優秀教師頌師恩\n",
      "專家科大網談分子醫學\n",
      "\n",
      "A09：澳聞\n",
      "長隆成功繁育極危尖犁頭鰩\n",
      "（新聞小語）相信科學 打針抗疫\n",
      "數居民經屋遭解約遞請願信\n",
      "今多雲間有陽光\n",
      "\n",
      "A10：經濟\n",
      "留家過節 酒店：中秋訂房兩三成\n",
      "（一家之言）疫情放緩 小型會議試水溫\n",
      "興趣變事業  開兩店主打裱花蛋糕\n",
      "青企：跨區開分店擴客源\n",
      "中銀中小企：建立核心產品\n",
      "生產力：按客喜好 開發新產品\n",
      "學者：疫下延長優惠保銷售\n",
      "\n",
      "A11：經濟\n",
      "前景未明 濠賭股短期難反彈\n",
      "五智能科技項目入圍雙創賽\n",
      "恆大地產爆雷 “不要讓許家印跑了！”\n",
      "粵港澳大灣區進一步融合\n",
      "南向通落地利好債券市場\n",
      "海豐受惠航運費高企\n",
      "\n",
      "A12：港聞\n",
      "選委會選舉投票率近九成\n",
      "林鄭：高投票率顯支持新選制\n",
      "各界：啟良政善治新篇章\n",
      "港府將更新疫苗接種記錄\n",
      "\n",
      "B01：要聞\n",
      "廈出港國內航班今取消\n",
      "閩本土確診破三百例\n",
      "專家：閩疫情發現較晚\n",
      "孫春蘭：堅決阻斷疫情擴散\n",
      "嚙齒類動物或是新冠中間宿主\n",
      "\n",
      "B02：要聞\n",
      "CIA警告或有兒童為時已晚\n",
      "澳反封鎖示威數警重傷\n",
      "日老齡化全球最嚴重\n",
      "法男走繩索橫跨塞納河\n",
      "美軍襲阿倖存者促嚴懲兇手\n",
      "阿塔重啟“勸善懲惡部”惹議\n",
      "\n",
      "B03：要聞\n",
      "黔超載客船側翻十死五失聯\n",
      "一村民駕船救九學生\n",
      "南京大屠殺倖存者黃劉氏去世\n",
      "中疾控籲出遊後自我觀察兩周\n",
      "今年中秋月亮十五圓\n",
      "重味之選\n",
      "象棋月餅\n",
      "\n",
      "B04：要聞\n",
      "美日印澳擬建半導體供應鏈\n",
      "朝被指擴建寧邊核設施\n",
      "\n",
      "B05：要聞\n",
      "印尼拒澳總理到訪\n",
      "法：重新衡量北約新戰略\n",
      "法找印度“接盤”？\n",
      "（社論）美英澳新同盟撕裂西方\n",
      "\n",
      "B06：要聞\n",
      "鐵路“巡熱”人\n",
      "天舟三號發射準備就緒\n",
      "網暴零容忍\n",
      "公益電影\n",
      "\n",
      "B07：要聞\n",
      "陸停進口台蓮霧番荔枝\n",
      "韓國瑜赴美演講炮轟民進黨\n",
      "藍營三縣長撐朱立倫選黨魁\n",
      "陸戰機反潛機巡台相互掩護\n",
      "出遊人潮\n",
      "開放參觀\n",
      "台網紅打“高端”抗體少\n",
      "台增一本土確診\n",
      "\n",
      "B08：新園地\n",
      "（殷言快語）翻譯雜憶\n",
      "月圓月缺\n",
      "（西窗小語）人口萎縮重災區\n",
      "（金漆皮毛）窮人的孩子早當家\n",
      "（心海魚書）賞月 想月\n",
      "（微泓集）偶然與想像\n",
      "（浮城煙火）表  演\n",
      "（看風景的貓）還不壞 熬得過\n",
      "（筆雯集）唔使問阿貴\n",
      "（快樂的牛角包）三毫子智慧\n",
      "\n",
      "finished .\n"
     ]
    }
   ],
   "source": [
    "#2.2 BeautifulSoup & requests ; soup.select(\"#all_article_list a\")\n",
    "#<div class=\"list\" id=\"all_article_list\">\n",
    "#<ul>\n",
    "#   <li><span class=\"default\"> <a href=\"content_1483173.htm\">我疫苗無現嚴重不良反應</a></span></li> \n",
    "#   <li> <span class=\"default\"> <a href=\"content_1483175.htm\">衛健委：打完疫苗仍要戴口罩</a></span></li> \n",
    "#</ul>\n",
    "#</div>\n",
    "from bs4 import BeautifulSoup\n",
    "import requests\n",
    "macodaily_date=today_date.strftime(\"%Y-%m/%d\")\n",
    "_url=f\"http://www.macaodaily.com/html/{macodaily_date}/node_1.htm\"\n",
    "_res = requests.get(_url)\n",
    "_res.encoding = \"utf-8\"\n",
    "soup = BeautifulSoup(_res.text, \"html.parser\")\n",
    "links = soup.select(\"#all_article_list a\") #.find_all([\"h1\",\"h2\",\"h3\",\"h4\",\"h5\"])\n",
    "for link in links:\n",
    "    news_title = link.getText()\n",
    "    if \"：體育\" in news_title:\n",
    "        break\n",
    "    print(news_title)\n",
    "    #out_txtfile(news_title)\n",
    "print(\"finished .\")"
   ]
  },
  {
   "cell_type": "code",
   "execution_count": null,
   "id": "durable-found",
   "metadata": {},
   "outputs": [],
   "source": [
    "#<div class=\"small-8 cell infoContentContainer\">\n",
    "#  <h5 class=\"captionSize\">\n",
    "#     <a href=\"https://www.gcs.gov.mo/detail/zh-hant/\"><span class=\"infoSubject\">教青局向教育界送上節日祝福</span></a>\n",
    "#  </h5>\n",
    "#  <div class=\"dateNSourceContainer hide-for-small-only grid-x\">\n",
    "#    <div class=\"sourceLabel shrink cell\" title=\"教育及青年發展局\">教育及青年發展局</div>\n",
    "#  </div>\n",
    "#  <div class=\"baseContent baseSize hide-for-small-only fade\" style=\"max-height:4.5rem;\">\n",
    "#     教育暨青年局與高等教育局於今年初合併為教育及青年發展局後，秉持特區政府“優化教育及人\n",
    "#     才培養工作”、“深化師資隊伍建設”的施政方針，持續革新和優化教師隊伍建設。9\n",
    "#  </div>\n",
    "#</div>\n",
    "from bs4 import BeautifulSoup\n",
    "import requests\n",
    "_url=f\"https://www.gcs.gov.mo/list/zh-hant/news/%E6%95%99%E8%82%B2%E9%AB%94%E8%82%B2?7\"\n",
    "title_res = requests.get(_url)\n",
    "title_res.encoding = \"utf-8\"\n",
    "soup = BeautifulSoup(title_res.text, \"html.parser\")\n",
    "links = soup.select('[class=\"small-8 cell infoContentContainer\"]')\n",
    "for link in links:\n",
    "    news_title=link.select(\"h5.captionSize\")[0].getText().replace(\"'\",\"\").replace('\"',\"\").replace(\"\\n\",\"\")\n",
    "    news_context = link.getText()\n",
    "    out_txtfile(news_title)\n",
    "    out_docx(news_title,news_context)\n",
    "print(\"finished .\")"
   ]
  },
  {
   "cell_type": "markdown",
   "id": "productive-merchant",
   "metadata": {},
   "source": [
    "## 例三：訪客統計 \n",
    "輸入：多個 csv 檔案    \n",
    "輸出：一個 Excel .xlsx 檔案及一張圖表圖像    \n",
    "描述：現在有多個 csv 檔案，分別以 YYYY-MM-DD.csv 命名，每個 csv 檔案包括當 天的顧客每小時訪客量。現在生成一個 Excel 報表，第一欄為日期，第二欄 為每日訪客總量，及第三欄為訪客總量三日移動平均值。 另外，希望輸出一個圖表，同時顯示每日訪客總量棒型圖及三日移動平均 線，並設有圖例、標題、軸描述"
   ]
  },
  {
   "cell_type": "code",
   "execution_count": 28,
   "id": "stone-jacket",
   "metadata": {},
   "outputs": [
    {
     "data": {
      "image/png": "[encoded data removed]",
      "text/plain": [
       "<Figure size 432x288 with 1 Axes>"
      ]
     },
     "metadata": {
      "needs_background": "light"
     },
     "output_type": "display_data"
    }
   ],
   "source": [
    "from os import listdir\n",
    "import pandas as pd\n",
    "mypath = \"./ex3/in/\"\n",
    "files = listdir(mypath)\n",
    "data_date=[]\n",
    "data_customer=[]\n",
    "data_average=[]\n",
    "\n",
    "for f in files:\n",
    "    if \".csv\" in f  :\n",
    "        #讀取CSV\n",
    "        df = pd.read_csv(f'{mypath}{f}', delimiter=',') #, names=('time','customer'))\n",
    "        data_date.append(f.replace(\".csv\",\"\"))\n",
    "        data_customer.append(df[\"customer\"].sum())\n",
    "        data_average.append(0)\n",
    "#3日平均數\n",
    "for idx,val in enumerate(data_customer):\n",
    "    if idx==0:\n",
    "        pass\n",
    "    elif idx==len(data_customer)-1:\n",
    "        pass\n",
    "    else:\n",
    "        data_average[idx]=int((data_customer[idx-1]+val+data_customer[idx+1])/3)\n",
    "\n",
    "#print([data_date,data_customer,data_average])\n",
    "\n",
    "#輸出XLSX\n",
    "d = {'date': data_date, 'total_customer': data_customer,'Ave':data_average }\n",
    "total_df = pd.DataFrame(data=d)\n",
    "total_df.to_excel(\"ex3/out/output.xlsx\")  \n",
    "\n",
    "#棒型圖\n",
    "import matplotlib.pyplot as plt\n",
    "import numpy as np\n",
    "x = np.arange(len(data_date))  # the label locations\n",
    "width = 0.35                   # the width of the bars\n",
    "fig, ax = plt.subplots()\n",
    "rects1 = ax.bar(x - width/2, data_customer, width, label='customer')\n",
    "rects2 = ax.bar(x + width/2, data_average, width, label='3 days average')\n",
    "# Add some text for labels, title and custom x-axis tick labels, etc.\n",
    "ax.set_ylabel('customer')\n",
    "ax.set_title('customer / pre day')\n",
    "ax.set_xticks(x)\n",
    "ax.set_xticklabels(data_date)\n",
    "ax.legend()\n",
    "plt.xticks(rotation=30)\n",
    "fig.tight_layout()\n",
    "plt.savefig(\"ex3/out/out.png\")"
   ]
  },
  {
   "cell_type": "markdown",
   "id": "american-finder",
   "metadata": {},
   "source": [
    "## 例四：Web Automation with Selenium"
   ]
  },
  {
   "cell_type": "code",
   "execution_count": null,
   "id": "sustained-orleans",
   "metadata": {},
   "outputs": [],
   "source": [
    "from selenium import webdriver\n",
    "from selenium.webdriver.chrome.options import Options\n",
    "import time\n",
    "import datetime\n",
    "import ext.config as cfg\n",
    "options = Options()\n",
    "browser = webdriver.Chrome('./ext/chromedriver', options=options)\n",
    "browser.maximize_window()\n",
    "browser.get(cfg.aa_url)\n",
    "element = browser.find_element_by_css_selector('#sb-txtSymbol-aa')\n",
    "element.send_keys(cfg.aa_number)\n",
    "element.send_keys(\"\\n\")  #(Keys.RETURN)\n",
    "time.sleep(3)\n",
    "element = browser.find_element_by_css_selector('.lastBox')\n",
    "print(element.text)\n",
    "browser.quit()"
   ]
  },
  {
   "cell_type": "markdown",
   "id": "outstanding-diagnosis",
   "metadata": {},
   "source": [
    "### 4.1 自簽網站證書 ignore certificate error"
   ]
  },
  {
   "cell_type": "code",
   "execution_count": 40,
   "id": "secure-premium",
   "metadata": {},
   "outputs": [],
   "source": [
    "from selenium import webdriver\n",
    "from selenium.webdriver.chrome.options import Options\n",
    "import time\n",
    "import datetime\n",
    "import ext.config as cfg\n",
    "options = Options()\n",
    "options.add_argument('ignore-certificate-errors')\n",
    "browser = webdriver.Chrome('./ext/chromedriver', options=options)\n",
    "browser.maximize_window()\n",
    "browser.get(cfg.url1)\n",
    "time.sleep(3)\n",
    "browser.quit()"
   ]
  },
  {
   "cell_type": "markdown",
   "id": "japanese-justice",
   "metadata": {},
   "source": [
    "### 例五: pandas dataframe 訪問所有 iterrows"
   ]
  },
  {
   "cell_type": "code",
   "execution_count": null,
   "id": "closed-initial",
   "metadata": {},
   "outputs": [],
   "source": [
    "import re\n",
    "from os import listdir\n",
    "import pandas as pd\n",
    "mypath = \"./ext/address.xlsx\"\n",
    "df = pd.read_excel(mypath)\n",
    "\n",
    "for index , row in df.iterrows():\n",
    "    road =str(row[\"ROAD\"])\n",
    "    sroad=str(row[\"S_ROAD\"])\n",
    "    addr=str(row[\"ADDRESS\"])\n",
    "    sddr=str(row[\"S_ADDRESS\"])\n",
    "    naddr = re.findall(\"\\d+\", addr)\n",
    "    naddr=\"\".join(naddr)\n",
    "    nsddr = re.findall(\"\\d+\", sddr)\n",
    "    nsddr=\"\".join(nsddr)\n",
    "    if naddr==nsddr:\n",
    "        print(row[\"INTERNAL_REF\"])\n",
    "        \n",
    "    if (naddr in nsddr ) or (nsddr in naddr):\n",
    "        print(row[\"INTERNAL_REF\"])\n",
    "        print(addr)\n",
    "        print(sddr)\n"
   ]
  },
  {
   "cell_type": "markdown",
   "id": "composed-incentive",
   "metadata": {},
   "source": [
    "## HTML簡介\n",
    "### 靜態%%html"
   ]
  },
  {
   "cell_type": "markdown",
   "id": "decimal-russian",
   "metadata": {},
   "source": [
    "<html>\n",
    "<head>\n",
    "</head>\n",
    "<body bgcolor=\"white\">\n",
    "  <H3>Hello</H3>\n",
    "  <ul>\n",
    "      <li>1.</li>\n",
    "      <li>2.</li>\n",
    "      <li>3.</li>\n",
    "      <li>4.</li>\n",
    "  </ul>\n",
    "      \n",
    "</body>\n",
    "</html>"
   ]
  },
  {
   "cell_type": "markdown",
   "id": "accessory-dryer",
   "metadata": {},
   "source": [
    "### 程式輸出網頁內容"
   ]
  },
  {
   "cell_type": "code",
   "execution_count": 10,
   "id": "pediatric-string",
   "metadata": {},
   "outputs": [
    {
     "data": {
      "text/html": [
       "\n",
       "        <iframe\n",
       "            width=\"600\"\n",
       "            height=\"600\"\n",
       "            src=\"ext/temp.html\"\n",
       "            frameborder=\"0\"\n",
       "            allowfullscreen\n",
       "        ></iframe>\n",
       "        "
      ],
      "text/plain": [
       "<IPython.lib.display.IFrame at 0x218e4d5f490>"
      ]
     },
     "metadata": {
      "isolated": true
     },
     "output_type": "display_data"
    },
    {
     "data": {
      "text/html": [
       "\n",
       "<html>\n",
       "<head>\n",
       "</head>\n",
       "<body bgcolor=\"white\">\n",
       "  <H3>Hello</H3>\n",
       "  <ul>\n",
       "      <li>1.</li>\n",
       "      <li>2.</li>\n",
       "      <li>3.</li>\n",
       "      <li>4.</li>\n",
       "  </ul>\n",
       "</body>\n",
       "</html>\n"
      ],
      "text/plain": [
       "<IPython.core.display.HTML object>"
      ]
     },
     "metadata": {
      "text/html": {
       "isolated": true
      }
     },
     "output_type": "display_data"
    }
   ],
   "source": [
    "import tempfile\n",
    "from os import unlink\n",
    "from IPython.display import IFrame,HTML\n",
    "\n",
    "def display_html_to_iframe(html, width=600, height=600):\n",
    "    name = f\"ext/temp.html\"\n",
    "    with open(name, \"w\") as f:\n",
    "        print(html, file=f)\n",
    "    display(IFrame(name, width, height), metadata=dict(isolated=True))\n",
    "    # unlink(name)\n",
    "    \n",
    "def display_html_inline(html):\n",
    "    display(HTML(html, metadata=dict(isolated=True)))\n",
    "\n",
    "h=\"\"\"\n",
    "<html>\n",
    "<head>\n",
    "</head>\n",
    "<body bgcolor=\"white\">\n",
    "  <H3>Hello</H3>\n",
    "  <ul>\n",
    "      <li>1.</li>\n",
    "      <li>2.</li>\n",
    "      <li>3.</li>\n",
    "      <li>4.</li>\n",
    "  </ul>\n",
    "</body>\n",
    "</html>\n",
    "\"\"\"    \n",
    "display_html_to_iframe(h)\n",
    "display_html_inline(h)"
   ]
  }
 ],
 "metadata": {
  "kernelspec": {
   "display_name": "Python 3",
   "language": "python",
   "name": "python3"
  },
  "language_info": {
   "codemirror_mode": {
    "name": "ipython",
    "version": 3
   },
   "file_extension": ".py",
   "mimetype": "text/x-python",
   "name": "python",
   "nbconvert_exporter": "python",
   "pygments_lexer": "ipython3",
   "version": "3.9.7"
  }
 },
 "nbformat": 4,
 "nbformat_minor": 5
}

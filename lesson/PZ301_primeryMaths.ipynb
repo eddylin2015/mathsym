{
 "cells": [
  {
   "cell_type": "markdown",
   "id": "handed-immunology",
   "metadata": {},
   "source": [
    "# 電腦數學符號運算"
   ]
  },
  {
   "cell_type": "markdown",
   "id": "lovely-stake",
   "metadata": {},
   "source": [
    "### 第3節. 有理數實作\n",
    "安裝 Python 3.8.7\n",
    "- pip install numpy\n",
    "- pip install sympy\n",
    "- pip install jupyterlab\n",
    "- lib.py 自定義函數庫\n",
    "- 註明輸入格式\n",
    "|Eq|Input|\n",
    "|--|--|\n",
    "|$ - \\frac{a}{b} $ |input: -(a/b)|\n",
    "|$ 2xy $    |input: 2 * x * y|\n",
    "|$ x^{-2} $    |input: x^(-2)|\n",
    "|a(b - -c)|input: a*(b-(-c)) |\n",
    "|負數|(-c)|\n"
   ]
  },
  {
   "cell_type": "markdown",
   "id": "animated-occurrence",
   "metadata": {},
   "source": [
    "程式一 有理數運算式 Rational Number \n",
    "- 題型 Tx=0,1 , 設 a, b, c 為整數. 亂數 [-39...39]\n",
    "- 題型一(Tx為 0): a+b+c  \n",
    "  題目St: 9 - 17 + 28 ; 值:  20\n",
    "- 題型二(Tx為 1): b/a+c/a   \n",
    "  題目St: 19/7 - 34/7 ; 值: -15/7"
   ]
  },
  {
   "cell_type": "code",
   "execution_count": 7,
   "id": "brown-sandwich",
   "metadata": {},
   "outputs": [
    {
     "data": {
      "text/markdown": [
       "號|題|值|答|檢查|題型|提示\n",
       "--|--|--|--|--|--|--\n",
       "0|$$-20 - 4 + 7$$|-17||0|0|-a/b 分數格式輸入:\n",
       "1|$$- \\frac{3}{2} + \\frac{5}{2}$$|1||0|1|-a/b 分數格式輸入:\n",
       "2|$$-10 - 6 + 9$$|-7||0|0|-a/b 分數格式輸入:\n",
       "3|$$- \\frac{19}{8} + 3$$|5/8||0|1|-a/b 分數格式輸入:\n",
       "4|$$-16 - 5 + 27$$|6||0|0|-a/b 分數格式輸入:\n",
       "5|$$\\frac{3}{4} + \\frac{33}{4}$$|9||0|1|-a/b 分數格式輸入:\n",
       "6|$$-3 + 0 + 24$$|21||0|0|-a/b 分數格式輸入:\n",
       "7|$$-22 + 6$$|-16||0|1|-a/b 分數格式輸入:"
      ],
      "text/plain": [
       "<IPython.core.display.Markdown object>"
      ]
     },
     "metadata": {},
     "output_type": "display_data"
    }
   ],
   "source": [
    "import random                                     #亂數 \n",
    "import math                                       #math 內置數學函數\n",
    "import numpy as np                                #數字矩陣\n",
    "import sympy as sp                                #sympy 簡易別名 sp    \n",
    "from sympy.parsing.sympy_parser import parse_expr #文字字串, 解釋成, Sympy 運算式\n",
    "sp.init_printing(\"mathjax\")                       #sp.init_printing()   \n",
    "import lib\n",
    "from lib import GetTE\n",
    "from IPython.display import Latex,HTML,Markdown   #網頁顯示數學符號\n",
    "\n",
    "def Post_PF101_Expr(NTE):\n",
    "    ''' 檢查N條題目作答結果 '''\n",
    "    for TE in NTE: Put_PF101_Expr(TE)\n",
    "        \n",
    "def Put_PF101_Expr(TE):\n",
    "    ''' 檢查作答結果,比對Val == Ans, 對錯OK=[0/1] '''\n",
    "    ans =lib.Text2St(TE[\"Ans\"])\n",
    "    Val = TE[\"Val\"]\n",
    "    if parse_expr(ans) == Val:  # 比對答案:\n",
    "        TE[\"OK\"] = 1 ; return True\n",
    "    return False\n",
    "\n",
    "\"\"\"\n",
    "有理數運算式\n",
    "\"\"\"\n",
    "\n",
    "def Get_PF101_Expr(QN,Tx=-1):\n",
    "    ''' 出題N條題目 '''\n",
    "    TxFlag=Tx==-1\n",
    "    sample_list0= list(range(-39,29))   # [-39,-38..39]\n",
    "    sample_list1= list(range(-39,29))\n",
    "    sample_list1.remove(0)              # list1 為 非零數列\n",
    "    NTE=[]                               \n",
    "    for i in range(0,QN):\n",
    "        if TxFlag: Tx= i % 2 # Tx -半題型1 ,-半題型 2\n",
    "        if Tx == 0 :\n",
    "            a=random.choice(sample_list0)  #亂數a,b,c\n",
    "            b=random.choice(sample_list0) \n",
    "            c=random.choice(sample_list0) \n",
    "            if a+b+c <0 :\n",
    "                a=a*-1\n",
    "                b=b*-1\n",
    "                c=c*-1\n",
    "            qiz= sp.Add(a , b , c, evaluate=False)    \n",
    "            St=sp.latex(qiz)           #題目\n",
    "            Val=sp.simplify(qiz)       #sympy.simplify簡化算式,得出標準答案    \n",
    "\n",
    "        elif Tx == 1 :\n",
    "            a=random.choice(sample_list1)  #亂數a,b,c, 不為零           \n",
    "            b=random.choice(sample_list1)\n",
    "            c=random.choice(sample_list1)  \n",
    "            if a==b: b=math.copysign(abs(b)+random.choice(range(1,5)),b)   # a != b\n",
    "            qiz=sp.Add( sp.S(b)/a  ,  sp.Rational(c ,a), evaluate=False)\n",
    "            St=sp.latex(qiz)               #題目\n",
    "            Val=sp.simplify(qiz)           #簡化算式,得出標準答案 \n",
    "\n",
    "        TE=GetTE(i, St, Val, Tx)   \n",
    "        TE[\"Tip\"]=\"-a/b 分數格式輸入:\"\n",
    "        NTE.append(TE)    \n",
    "    return NTE\n",
    "\n",
    "if __name__ == '__main__': #主程式\n",
    "    NTE=Get_PF101_Expr(8)\n",
    "    display(Markdown(lib.NTE2TBL(NTE)))"
   ]
  },
  {
   "cell_type": "code",
   "execution_count": 4,
   "id": "loving-census",
   "metadata": {},
   "outputs": [
    {
     "data": {
      "text/latex": [
       "第1題: $$ -24 + 4 + 28 $$ "
      ],
      "text/plain": [
       "<IPython.core.display.Latex object>"
      ]
     },
     "metadata": {},
     "output_type": "display_data"
    },
    {
     "name": "stdin",
     "output_type": "stream",
     "text": [
      "-a/b 分數格式輸入: 0\n"
     ]
    },
    {
     "data": {
      "text/latex": [
       "答案錯誤, 標準答案: $ 8 $"
      ],
      "text/plain": [
       "<IPython.core.display.Latex object>"
      ]
     },
     "metadata": {},
     "output_type": "display_data"
    },
    {
     "data": {
      "text/latex": [
       "第2題: $$ \\frac{1}{20} + \\frac{21}{20} $$ "
      ],
      "text/plain": [
       "<IPython.core.display.Latex object>"
      ]
     },
     "metadata": {},
     "output_type": "display_data"
    },
    {
     "name": "stdin",
     "output_type": "stream",
     "text": [
      "-a/b 分數格式輸入: 0\n"
     ]
    },
    {
     "data": {
      "text/latex": [
       "答案錯誤, 標準答案: $ 11/10 $"
      ],
      "text/plain": [
       "<IPython.core.display.Latex object>"
      ]
     },
     "metadata": {},
     "output_type": "display_data"
    },
    {
     "data": {
      "text/latex": [
       "第3題: $$ -24 + 16 + 27 $$ "
      ],
      "text/plain": [
       "<IPython.core.display.Latex object>"
      ]
     },
     "metadata": {},
     "output_type": "display_data"
    },
    {
     "name": "stdin",
     "output_type": "stream",
     "text": [
      "-a/b 分數格式輸入: 0\n"
     ]
    },
    {
     "data": {
      "text/latex": [
       "答案錯誤, 標準答案: $ 19 $"
      ],
      "text/plain": [
       "<IPython.core.display.Latex object>"
      ]
     },
     "metadata": {},
     "output_type": "display_data"
    },
    {
     "data": {
      "text/latex": [
       "第4題: $$ - \\frac{13}{2} - \\frac{7}{6} $$ "
      ],
      "text/plain": [
       "<IPython.core.display.Latex object>"
      ]
     },
     "metadata": {},
     "output_type": "display_data"
    },
    {
     "name": "stdin",
     "output_type": "stream",
     "text": [
      "-a/b 分數格式輸入: 0\n"
     ]
    },
    {
     "data": {
      "text/latex": [
       "答案錯誤, 標準答案: $ -23/3 $"
      ],
      "text/plain": [
       "<IPython.core.display.Latex object>"
      ]
     },
     "metadata": {},
     "output_type": "display_data"
    },
    {
     "data": {
      "text/markdown": [
       "號|題|值|答|檢查|題型|提示\n",
       "--|--|--|--|--|--|--\n",
       "0|$$-24 + 4 + 28$$|8|0|0|0|-a/b 分數格式輸入:\n",
       "1|$$\\frac{1}{20} + \\frac{21}{20}$$|11/10|0|0|1|-a/b 分數格式輸入:\n",
       "2|$$-24 + 16 + 27$$|19|0|0|0|-a/b 分數格式輸入:\n",
       "3|$$- \\frac{13}{2} - \\frac{7}{6}$$|-23/3|0|0|1|-a/b 分數格式輸入:"
      ],
      "text/plain": [
       "<IPython.core.display.Markdown object>"
      ]
     },
     "metadata": {},
     "output_type": "display_data"
    }
   ],
   "source": [
    "if __name__ == '__main__': #主程式\n",
    "    NTE=Get_PF101_Expr(4)\n",
    "    for i,TE in enumerate(NTE):\n",
    "        St=TE[\"St\"]\n",
    "        Val=TE[\"Val\"]\n",
    "        display(Latex(f\"第{i+1}題: $$ {St} $$ \" ))\n",
    "        TE[\"Ans\"]=input(TE[\"Tip\"]) \n",
    "        if Put_PF101_Expr(TE):   #比對答案:\n",
    "            print(\"答對!\")                              #答對加一分\n",
    "        else:                                      #不則\n",
    "            display(Latex(f\"答案錯誤, 標準答案: $ {Val} $\"))\n",
    "    display(Markdown(lib.NTE2TBL(NTE)))"
   ]
  },
  {
   "cell_type": "code",
   "execution_count": 2,
   "id": "written-natural",
   "metadata": {},
   "outputs": [
    {
     "data": {
      "text/latex": [
       "$\\displaystyle 1 + 2 + 3$"
      ],
      "text/plain": [
       "1 + 2 + 3"
      ]
     },
     "execution_count": 2,
     "metadata": {},
     "output_type": "execute_result"
    }
   ],
   "source": [
    "import sympy as sp   \n",
    "import random\n",
    "\n",
    "a=random.randint(1,6)\n",
    "b=random.randint(1,6)\n",
    "c=random.randint(1,6)\n",
    "qiz= sp.Add(a , b , c, evaluate=False)   \n",
    "qiz"
   ]
  },
  {
   "cell_type": "code",
   "execution_count": 25,
   "id": "colonial-bahrain",
   "metadata": {},
   "outputs": [
    {
     "data": {
      "text/latex": [
       "$\\displaystyle 6$"
      ],
      "text/plain": [
       "6"
      ]
     },
     "execution_count": 25,
     "metadata": {},
     "output_type": "execute_result"
    }
   ],
   "source": [
    "sp.simplify(qiz)"
   ]
  },
  {
   "cell_type": "code",
   "execution_count": 17,
   "id": "fuzzy-relations",
   "metadata": {},
   "outputs": [
    {
     "name": "stdout",
     "output_type": "stream",
     "text": [
      "-2\n"
     ]
    },
    {
     "data": {
      "text/latex": [
       "$\\displaystyle - \\frac{2}{3}$"
      ],
      "text/plain": [
       "-2/3"
      ]
     },
     "execution_count": 17,
     "metadata": {},
     "output_type": "execute_result"
    }
   ],
   "source": [
    "aa=random.randint(-10,0)\n",
    "f1= sp.Rational(aa,b)\n",
    "f1"
   ]
  },
  {
   "cell_type": "code",
   "execution_count": 23,
   "id": "concerned-advertising",
   "metadata": {},
   "outputs": [
    {
     "data": {
      "text/latex": [
       "$\\displaystyle - \\frac{2}{3} + \\left(1 + 2 + 3\\right)$"
      ],
      "text/plain": [
       "-2/3 + 1 + 2 + 3"
      ]
     },
     "execution_count": 23,
     "metadata": {},
     "output_type": "execute_result"
    }
   ],
   "source": [
    "#expr= qiz + f1\n",
    "expr=sp.Add(qiz,f1,evaluate=False)\n",
    "expr"
   ]
  },
  {
   "cell_type": "code",
   "execution_count": 24,
   "id": "optimum-milton",
   "metadata": {},
   "outputs": [
    {
     "data": {
      "text/latex": [
       "$\\displaystyle \\frac{16}{3}$"
      ],
      "text/plain": [
       "16/3"
      ]
     },
     "execution_count": 24,
     "metadata": {},
     "output_type": "execute_result"
    }
   ],
   "source": [
    "sp.simplify(expr)"
   ]
  },
  {
   "cell_type": "code",
   "execution_count": 21,
   "id": "trained-weapon",
   "metadata": {},
   "outputs": [
    {
     "data": {
      "text/latex": [
       "$\\displaystyle x^{2} + 2 x + 1$"
      ],
      "text/plain": [
       " 2          \n",
       "x  + 2⋅x + 1"
      ]
     },
     "execution_count": 21,
     "metadata": {},
     "output_type": "execute_result"
    }
   ],
   "source": [
    "x=sp.Symbol('x')\n",
    "expr=x**2+2*x+1\n",
    "expr"
   ]
  },
  {
   "cell_type": "code",
   "execution_count": 22,
   "id": "small-receipt",
   "metadata": {},
   "outputs": [
    {
     "data": {
      "text/latex": [
       "$\\displaystyle \\left(x + 1\\right)^{2}$"
      ],
      "text/plain": [
       "       2\n",
       "(x + 1) "
      ]
     },
     "execution_count": 22,
     "metadata": {},
     "output_type": "execute_result"
    }
   ],
   "source": [
    "sp.factor(_)"
   ]
  },
  {
   "cell_type": "code",
   "execution_count": null,
   "id": "enormous-officer",
   "metadata": {},
   "outputs": [],
   "source": [
    "print(\"end\")"
   ]
  },
  {
   "cell_type": "markdown",
   "id": "foster-gilbert",
   "metadata": {},
   "source": [
    "保留參考其他有理數出題題型\n",
    "```python\n",
    "        elif Tx == 2 :\n",
    "            a=random.choice(sample_list0)  #亂數a,b,c\n",
    "            b=random.choice(sample_list0) \n",
    "            c=random.choice(sample_list0) \n",
    "            qiz_str=f\"{a}+{b}+{c}\"      \n",
    "            qiz=parse_expr(qiz_str, evaluate=False)    \n",
    "            St=sp.latex(qiz)           #題目\n",
    "            Val=sp.simplify(qiz)       #sympy.simplify簡化算式,得出標準答案    \n",
    "            \n",
    "        elif Tx==3:\n",
    "            a=random.choice(sample_list1)  #亂數a,b,c, 不為零           \n",
    "            b=random.choice(sample_list1)\n",
    "            c=random.choice(sample_list1)  \n",
    "            if a==b: b=math.copysign(abs(b)+random.choice(range(1,5)),b)   # a != b\n",
    "            qiz_str=f\"{b}/{a}+{c}/{a}\"\n",
    "            qiz=sp.Add( sp.Rational(b ,a), sp.Rational(c ,a),evaluate=False)\n",
    "            St=sp.latex(qiz)               #題目\n",
    "            Val=sp.simplify(qiz)           #簡化算式,得出標準答案 \n",
    "            \n",
    "        else:\n",
    "            a=random.choice(sample_list1)  #亂數a,b,c, 不為零           \n",
    "            b=random.choice(sample_list1)\n",
    "            c=random.choice(sample_list1)  \n",
    "            if a==b: b=math.copysign(abs(b)+random.choice(range(1,5)),b)   # a != b\n",
    "            qiz=sp.Add( sp.Rational(b ,a), sp.Rational(c ,a), evaluate=False)\n",
    "            St=sp.latex(qiz)               #題目\n",
    "            Val=sp.simplify(qiz)           #簡化算式,得出標準答案 \n",
    "```            "
   ]
  }
 ],
 "metadata": {
  "kernelspec": {
   "display_name": "Python 3",
   "language": "python",
   "name": "python3"
  },
  "language_info": {
   "codemirror_mode": {
    "name": "ipython",
    "version": 3
   },
   "file_extension": ".py",
   "mimetype": "text/x-python",
   "name": "python",
   "nbconvert_exporter": "python",
   "pygments_lexer": "ipython3",
   "version": "3.9.2"
  }
 },
 "nbformat": 4,
 "nbformat_minor": 5
}

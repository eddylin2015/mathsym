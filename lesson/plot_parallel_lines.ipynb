{
 "cells": [
  {
   "cell_type": "code",
   "execution_count": 1,
   "id": "careful-nepal",
   "metadata": {},
   "outputs": [
    {
     "name": "stdout",
     "output_type": "stream",
     "text": [
      "True\n"
     ]
    }
   ],
   "source": [
    "# import sympy and Point, Line \n",
    "from sympy import Point, Line \n",
    "  \n",
    "p1, p2, p3 = Point(0, 0), Point(2, 3), Point(-2, 2) \n",
    "  \n",
    "l1 = Line(p1, p2) \n",
    "  \n",
    "# using parallel_line() method \n",
    "l2 = l1.parallel_line(p3) \n",
    "  \n",
    "# checking l2 is parallel to l1 using is_parallel() method \n",
    "isParallel = l1.is_parallel(l2) \n",
    "  \n",
    "print(isParallel)"
   ]
  },
  {
   "cell_type": "code",
   "execution_count": 3,
   "id": "colonial-challenge",
   "metadata": {},
   "outputs": [
    {
     "name": "stdout",
     "output_type": "stream",
     "text": [
      "True\n"
     ]
    }
   ],
   "source": [
    "# import sympy and Point3D, Line3D \n",
    "from sympy import Point3D, Line3D \n",
    "  \n",
    "p1, p2, p3 = Point3D(0, 0, 0), Point3D(2, 3, 4), Point3D(-2, 2, 0) \n",
    "  \n",
    "l1 = Line3D(p1, p2) \n",
    "  \n",
    "# using parallel_line() method \n",
    "l2 = l1.parallel_line(p3) \n",
    "  \n",
    "# checking l2 is parallel to l1 using is_parallel() method isParallel = l2 = l1.is_parallel(p3) \n",
    "  \n",
    "print(isParallel)"
   ]
  },
  {
   "cell_type": "code",
   "execution_count": null,
   "id": "latest-acrobat",
   "metadata": {},
   "outputs": [],
   "source": []
  }
 ],
 "metadata": {
  "kernelspec": {
   "display_name": "Python 3",
   "language": "python",
   "name": "python3"
  },
  "language_info": {
   "codemirror_mode": {
    "name": "ipython",
    "version": 3
   },
   "file_extension": ".py",
   "mimetype": "text/x-python",
   "name": "python",
   "nbconvert_exporter": "python",
   "pygments_lexer": "ipython3",
   "version": "3.9.9"
  }
 },
 "nbformat": 4,
 "nbformat_minor": 5
}

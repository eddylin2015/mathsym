{
 "cells": [
  {
   "cell_type": "markdown",
   "id": "fuzzy-giving",
   "metadata": {},
   "source": [
    "# Pandas"
   ]
  },
  {
   "cell_type": "markdown",
   "id": "apart-sheet",
   "metadata": {},
   "source": [
    "Python Data Analysis Library. It makes use of Series (Like a Numpy Array) and DataFrame (tabular data 表格式). In this lesson, we will learn the basic data processing, calculation and filtering by using Pandas."
   ]
  },
  {
   "cell_type": "markdown",
   "id": "unknown-heating",
   "metadata": {},
   "source": [
    "- [Is student passed?](#Is-student-passed?)\n",
    "- [Accessing the column](#Accessing-the-column)\n",
    "- [Reading Excel](#Reading-Excel)\n",
    "- [Reading CSV](#Reading-CSV)\n",
    "- [Fetching CSV from Wikipedia](#Fetching-CSV-from-Wikipedia)\n",
    "- [Lab 4: Olymnic Games medal table](#Lab-4:-All-time-Olympic-Games-medal-table)"
   ]
  },
  {
   "cell_type": "code",
   "execution_count": null,
   "id": "completed-reporter",
   "metadata": {},
   "outputs": [],
   "source": [
    "import numpy as np\n",
    "import pandas as pd"
   ]
  },
  {
   "cell_type": "markdown",
   "id": "aggressive-bridges",
   "metadata": {},
   "source": [
    "## Is student passed?\n",
    "\n",
    "Remember the `pass_or_fail` function we defined in lesson 2? Now we can further process this example with Pandas and its DataFrame."
   ]
  },
  {
   "cell_type": "code",
   "execution_count": null,
   "id": "consistent-visitor",
   "metadata": {},
   "outputs": [],
   "source": [
    "# Apply label to data\n",
    "def pass_or_fail(x):\n",
    "    if x >= 60:\n",
    "        return True\n",
    "    return False"
   ]
  },
  {
   "cell_type": "code",
   "execution_count": null,
   "id": "surface-monroe",
   "metadata": {},
   "outputs": [],
   "source": [
    "# Prepare the data\n",
    "data = [50, 60, 20, 50, 88, 45, 63, 59]"
   ]
  },
  {
   "cell_type": "markdown",
   "id": "impaired-defensive",
   "metadata": {},
   "source": [
    "Given the data list, we can convert it into DataFrame"
   ]
  },
  {
   "cell_type": "code",
   "execution_count": null,
   "id": "decent-graph",
   "metadata": {
    "scrolled": true
   },
   "outputs": [],
   "source": [
    "# Where is the pass and fail?\n",
    "df = pd.DataFrame(data, columns=['Score'])\n",
    "df"
   ]
  },
  {
   "cell_type": "markdown",
   "id": "alpha-regulation",
   "metadata": {},
   "source": [
    "We can create extra column to indicate if the score is passed."
   ]
  },
  {
   "cell_type": "code",
   "execution_count": null,
   "id": "designing-opposition",
   "metadata": {
    "scrolled": true
   },
   "outputs": [],
   "source": [
    "df['Is Passed'] = df['Score'].apply(pass_or_fail)\n",
    "df"
   ]
  },
  {
   "cell_type": "markdown",
   "id": "christian-somerset",
   "metadata": {},
   "source": [
    "By using Boolean filtering, we can list only the data that meet the condition."
   ]
  },
  {
   "cell_type": "code",
   "execution_count": null,
   "id": "peaceful-variable",
   "metadata": {
    "scrolled": true
   },
   "outputs": [],
   "source": [
    "df[ (df['Score']>=60) & (df['Score']<=80) ]"
   ]
  },
  {
   "cell_type": "markdown",
   "id": "actual-fifty",
   "metadata": {},
   "source": [
    "Next, we will load the students dictionary from lesson 2."
   ]
  },
  {
   "cell_type": "code",
   "execution_count": null,
   "id": "sacred-myanmar",
   "metadata": {},
   "outputs": [],
   "source": [
    "students = [\n",
    "    {'name': 'Thomas', 'score': 65},\n",
    "    {'name': 'Alan', 'score': 95},\n",
    "    {'name': 'Jane', 'score': 85},\n",
    "    {'name': 'Susan', 'score': 75},\n",
    "    {'name': 'Chris', 'score': 45}\n",
    "]"
   ]
  },
  {
   "cell_type": "markdown",
   "id": "private-benefit",
   "metadata": {},
   "source": [
    "We convert the dictionary into DataFrame. Pandas will take care of the column name automatically."
   ]
  },
  {
   "cell_type": "code",
   "execution_count": null,
   "id": "compatible-growth",
   "metadata": {
    "scrolled": true
   },
   "outputs": [],
   "source": [
    "df = pd.DataFrame(students)\n",
    "df"
   ]
  },
  {
   "cell_type": "markdown",
   "id": "spare-disposition",
   "metadata": {},
   "source": [
    "Same as the example above, we apply the `pass_or_fail` function to create a new column with Boolean."
   ]
  },
  {
   "cell_type": "code",
   "execution_count": null,
   "id": "fourth-artwork",
   "metadata": {
    "scrolled": true
   },
   "outputs": [],
   "source": [
    "df['Is Passed'] = df['score'].apply(pass_or_fail)\n",
    "df"
   ]
  },
  {
   "cell_type": "markdown",
   "id": "contained-binary",
   "metadata": {},
   "source": [
    "We can generate a new DataFrame with only the passed records."
   ]
  },
  {
   "cell_type": "code",
   "execution_count": null,
   "id": "hazardous-substance",
   "metadata": {},
   "outputs": [],
   "source": [
    "df_passed = df[df[\"Is Passed\"]]\n",
    "df_passed"
   ]
  },
  {
   "cell_type": "markdown",
   "id": "round-parliament",
   "metadata": {},
   "source": [
    "We can save the processed tabular data into Excel by using `to_excel`."
   ]
  },
  {
   "cell_type": "code",
   "execution_count": null,
   "id": "upset-asbestos",
   "metadata": {},
   "outputs": [],
   "source": [
    "\n",
    "df_passed.to_excel(\"Students Passed.xlsx\")"
   ]
  },
  {
   "cell_type": "markdown",
   "id": "rapid-minimum",
   "metadata": {},
   "source": [
    "## Accessing the column"
   ]
  },
  {
   "cell_type": "markdown",
   "id": "threaded-relaxation",
   "metadata": {},
   "source": [
    "We can get the name of students who passed."
   ]
  },
  {
   "cell_type": "code",
   "execution_count": null,
   "id": "retained-hampshire",
   "metadata": {
    "scrolled": true
   },
   "outputs": [],
   "source": [
    "df[df[\"Is Passed\"]][\"name\"]"
   ]
  },
  {
   "cell_type": "markdown",
   "id": "light-paraguay",
   "metadata": {},
   "source": [
    "An example of outputing the result."
   ]
  },
  {
   "cell_type": "code",
   "execution_count": null,
   "id": "unnecessary-governor",
   "metadata": {},
   "outputs": [],
   "source": [
    "count_of_passed = len(df[df[\"Is Passed\"]])\n",
    "result = f\"We have total {len(df)} students, {count_of_passed} of them passed.\"\n",
    "print(result)"
   ]
  },
  {
   "cell_type": "code",
   "execution_count": null,
   "id": "later-combination",
   "metadata": {},
   "outputs": [],
   "source": [
    "names = ', '.join(df[df[\"Is Passed\"]][\"name\"])\n",
    "names = f\"They are {names}.\"\n",
    "\n",
    "print(names)"
   ]
  },
  {
   "cell_type": "markdown",
   "id": "ancient-crawford",
   "metadata": {},
   "source": [
    "## Reading Excel"
   ]
  },
  {
   "cell_type": "code",
   "execution_count": null,
   "id": "federal-development",
   "metadata": {
    "scrolled": true
   },
   "outputs": [],
   "source": [
    "df = pd.read_excel('visitors.xlsx')\n",
    "df"
   ]
  },
  {
   "cell_type": "code",
   "execution_count": null,
   "id": "insured-repository",
   "metadata": {},
   "outputs": [],
   "source": [
    "df.head()"
   ]
  },
  {
   "cell_type": "code",
   "execution_count": null,
   "id": "indoor-hormone",
   "metadata": {
    "scrolled": true
   },
   "outputs": [],
   "source": [
    "df.tail()"
   ]
  },
  {
   "cell_type": "code",
   "execution_count": null,
   "id": "played-kelly",
   "metadata": {},
   "outputs": [],
   "source": [
    "df['Visitors']"
   ]
  },
  {
   "cell_type": "markdown",
   "id": "downtown-storage",
   "metadata": {},
   "source": [
    "Which hours do we have more than 30 visitors?"
   ]
  },
  {
   "cell_type": "code",
   "execution_count": null,
   "id": "authentic-reduction",
   "metadata": {},
   "outputs": [],
   "source": [
    "df[ df['Visitors'] > 30 ]"
   ]
  },
  {
   "cell_type": "markdown",
   "id": "southern-principal",
   "metadata": {},
   "source": [
    "We can create new Boolean column with condition."
   ]
  },
  {
   "cell_type": "code",
   "execution_count": null,
   "id": "existing-funeral",
   "metadata": {},
   "outputs": [],
   "source": [
    "df['Good Timing'] = df['Visitors']>30"
   ]
  },
  {
   "cell_type": "code",
   "execution_count": null,
   "id": "hired-reduction",
   "metadata": {},
   "outputs": [],
   "source": [
    "df"
   ]
  },
  {
   "cell_type": "code",
   "execution_count": null,
   "id": "growing-madonna",
   "metadata": {},
   "outputs": [],
   "source": [
    "df[df['Good Timing']]"
   ]
  },
  {
   "cell_type": "markdown",
   "id": "exciting-seeker",
   "metadata": {},
   "source": [
    "## Reading CSV"
   ]
  },
  {
   "cell_type": "code",
   "execution_count": null,
   "id": "absolute-pregnancy",
   "metadata": {},
   "outputs": [],
   "source": [
    "df = pd.read_csv('visitors.csv', delimiter=',', names=('date','visitors'))\n",
    "\n",
    "df.head()"
   ]
  },
  {
   "cell_type": "code",
   "execution_count": null,
   "id": "human-airline",
   "metadata": {},
   "outputs": [],
   "source": [
    "df['date'].head()"
   ]
  },
  {
   "cell_type": "markdown",
   "id": "behavioral-sailing",
   "metadata": {},
   "source": [
    "## Fetching CSV from Wikipedia"
   ]
  },
  {
   "cell_type": "markdown",
   "id": "dental-likelihood",
   "metadata": {},
   "source": [
    "We can convert the data table into CSV by using https://wikitable2csv.ggor.de"
   ]
  },
  {
   "cell_type": "markdown",
   "id": "commercial-complexity",
   "metadata": {},
   "source": [
    "For example, we can download the All-time Olympic Games medal table from Wikipedia:\n",
    "\n",
    "https://en.wikipedia.org/wiki/All-time_Olympic_Games_medal_table"
   ]
  },
  {
   "cell_type": "markdown",
   "id": "dirty-situation",
   "metadata": {},
   "source": [
    "We can load the converted CSV directly into pandas and process the data set. Alternatively, we can clean up the CSV a little bit before loading it into pandas.\n",
    "\n",
    "For instance, we can give each column a readable name in header. We can also convert thousands with comma too."
   ]
  },
  {
   "cell_type": "markdown",
   "id": "generic-absence",
   "metadata": {},
   "source": [
    "## Lab 4: All-time Olympic Games medal table"
   ]
  },
  {
   "cell_type": "markdown",
   "id": "chemical-stress",
   "metadata": {},
   "source": [
    "We have prepared a `table-1-olympics.csv` file with basic format processed."
   ]
  },
  {
   "cell_type": "code",
   "execution_count": null,
   "id": "appreciated-robin",
   "metadata": {},
   "outputs": [],
   "source": [
    "df = pd.read_csv('table-1-olympics.csv')\n",
    "df = df[:-1] # Remove the last row of data\n",
    "df.head()"
   ]
  },
  {
   "cell_type": "code",
   "execution_count": null,
   "id": "placed-disco",
   "metadata": {},
   "outputs": [],
   "source": [
    "df.shape"
   ]
  },
  {
   "cell_type": "markdown",
   "id": "discrete-spine",
   "metadata": {},
   "source": [
    "By checking the `dtype`, we find that the data in \"O\" instead of \"Int\". \"O\" stands for Object because it is treated as String."
   ]
  },
  {
   "cell_type": "code",
   "execution_count": null,
   "id": "impressive-geology",
   "metadata": {},
   "outputs": [],
   "source": [
    "df['Total'].dtype"
   ]
  },
  {
   "cell_type": "markdown",
   "id": "prospective-morgan",
   "metadata": {},
   "source": [
    "We can convert the dtype by using `astype`."
   ]
  },
  {
   "cell_type": "code",
   "execution_count": null,
   "id": "equipped-level",
   "metadata": {},
   "outputs": [],
   "source": [
    "df['Total'] = df['Total'].astype(int)"
   ]
  },
  {
   "cell_type": "code",
   "execution_count": null,
   "id": "false-transfer",
   "metadata": {},
   "outputs": [],
   "source": [
    "df['Total'].dtype"
   ]
  },
  {
   "cell_type": "markdown",
   "id": "computational-assault",
   "metadata": {},
   "source": [
    "Now the team name is not quite readable. There are extra symbols and footnote indicators.\n",
    "\n",
    "We can clean up `Team` name and replace space into underscore:"
   ]
  },
  {
   "cell_type": "code",
   "execution_count": null,
   "id": "handy-thousand",
   "metadata": {},
   "outputs": [],
   "source": [
    "df[\"Team\"] = df[\"Team\"].apply(lambda x: x.split(\"(\")[0].strip().replace(\" \",\"_\"))"
   ]
  },
  {
   "cell_type": "code",
   "execution_count": null,
   "id": "mediterranean-bulletin",
   "metadata": {},
   "outputs": [],
   "source": [
    "df.head()"
   ]
  },
  {
   "cell_type": "markdown",
   "id": "lasting-castle",
   "metadata": {},
   "source": [
    "Set the Team name as dataframe index:"
   ]
  },
  {
   "cell_type": "code",
   "execution_count": null,
   "id": "sound-jewel",
   "metadata": {},
   "outputs": [],
   "source": [
    "df.set_index(\"Team\", inplace=True)"
   ]
  },
  {
   "cell_type": "markdown",
   "id": "fifty-fitness",
   "metadata": {},
   "source": [
    "Make sure all numbers in the dataframe are numeric:"
   ]
  },
  {
   "cell_type": "code",
   "execution_count": null,
   "id": "legal-synthesis",
   "metadata": {},
   "outputs": [],
   "source": [
    "df = df.astype(int)"
   ]
  },
  {
   "cell_type": "markdown",
   "id": "black-institution",
   "metadata": {},
   "source": [
    "We can inspect the column names by using `df.columns`"
   ]
  },
  {
   "cell_type": "code",
   "execution_count": null,
   "id": "extraordinary-mouth",
   "metadata": {},
   "outputs": [],
   "source": []
  },
  {
   "cell_type": "markdown",
   "id": "invisible-building",
   "metadata": {},
   "source": [
    "|Expected result|\n",
    "|---|\n",
    "|Index(['Summer Games', 'Gold', 'Silver', 'Bronze', 'Total', 'Winter Games',\n",
    "       'Gold.1', 'Silver.1', 'Bronze.1', 'Total.1', 'Combined Participated',\n",
    "       'Combined Gold', 'Combined Silver', 'Combined Bronze',\n",
    "       'Combined Total'],\n",
    "      dtype='object')|"
   ]
  },
  {
   "cell_type": "markdown",
   "id": "promotional-bracket",
   "metadata": {},
   "source": [
    "We can access a particular row of data by using `iloc`"
   ]
  },
  {
   "cell_type": "code",
   "execution_count": null,
   "id": "challenging-party",
   "metadata": {},
   "outputs": [],
   "source": [
    "df.iloc[16]"
   ]
  },
  {
   "cell_type": "markdown",
   "id": "infectious-variety",
   "metadata": {},
   "source": [
    "We can also access a particular row of data by using the index label `df.loc[\"Brazil\"]`."
   ]
  },
  {
   "cell_type": "markdown",
   "id": "interracial-stress",
   "metadata": {},
   "source": [
    "What is the Olymnpic Medal data from China?"
   ]
  },
  {
   "cell_type": "code",
   "execution_count": null,
   "id": "wireless-horror",
   "metadata": {},
   "outputs": [],
   "source": []
  },
  {
   "cell_type": "markdown",
   "id": "essential-pledge",
   "metadata": {},
   "source": [
    "|Expected result|\n",
    "|---|\n",
    "|Summer Games              10\n",
    "Gold                     224\n",
    "Silver                   167\n",
    "Bronze                   155\n",
    "Total                    546\n",
    "Winter Games              11\n",
    "Gold.1                    13\n",
    "Silver.1                  28\n",
    "Bronze.1                  21\n",
    "Total.1                   62\n",
    "Combined Participated     21\n",
    "Combined Gold            237\n",
    "Combined Silver          195\n",
    "Combined Bronze          176\n",
    "Combined Total           608\n",
    "Name: China, dtype: int32|"
   ]
  },
  {
   "cell_type": "markdown",
   "id": "charitable-johns",
   "metadata": {},
   "source": [
    "How many gold medal China won in Summer Olymnpics?"
   ]
  },
  {
   "cell_type": "code",
   "execution_count": null,
   "id": "broken-infection",
   "metadata": {},
   "outputs": [],
   "source": []
  },
  {
   "cell_type": "markdown",
   "id": "suffering-recording",
   "metadata": {},
   "source": [
    "|Expected result|\n",
    "|---|\n",
    "|224|"
   ]
  },
  {
   "cell_type": "markdown",
   "id": "thorough-anniversary",
   "metadata": {},
   "source": [
    "We can get the rank of gold medal list by using `df.sort_values`."
   ]
  },
  {
   "cell_type": "code",
   "execution_count": null,
   "id": "otherwise-observer",
   "metadata": {},
   "outputs": [],
   "source": [
    "df.sort_values(by=\"Gold\", ascending=False)[:5]"
   ]
  },
  {
   "cell_type": "markdown",
   "id": "thrown-perception",
   "metadata": {},
   "source": [
    "How many teams earn gold medals in both summer Olympics and winder Olympics? "
   ]
  },
  {
   "cell_type": "code",
   "execution_count": null,
   "id": "thick-bones",
   "metadata": {
    "scrolled": true
   },
   "outputs": [],
   "source": [
    "len(df[(df[\"Gold\"] > 0) & (df[\"Gold.1\"] > 0)])"
   ]
  },
  {
   "cell_type": "markdown",
   "id": "turned-anime",
   "metadata": {},
   "source": [
    "Which teams are they?"
   ]
  },
  {
   "cell_type": "code",
   "execution_count": null,
   "id": "unknown-minneapolis",
   "metadata": {},
   "outputs": [],
   "source": [
    "df[(df[\"Gold\"] > 0) & (df[\"Gold.1\"] > 0)][['Gold','Gold.1']]"
   ]
  },
  {
   "cell_type": "markdown",
   "id": "mental-sheriff",
   "metadata": {},
   "source": [
    "How about the team that wins gold medals in winter Olympics but not summer Olympics?"
   ]
  },
  {
   "cell_type": "code",
   "execution_count": null,
   "id": "molecular-species",
   "metadata": {},
   "outputs": [],
   "source": []
  },
  {
   "cell_type": "markdown",
   "id": "monthly-ferry",
   "metadata": {},
   "source": [
    "|Expected result|\n",
    "|---|\n",
    "|['Liechtenstein', 'Olympic_Athletes_from_Russia']|"
   ]
  },
  {
   "cell_type": "markdown",
   "id": "occupied-genealogy",
   "metadata": {},
   "source": [
    "---\n",
    "\n",
    "## Summary\n",
    "\n",
    "In this lesson, we learn to process tabular data by using Pandas."
   ]
  },
  {
   "cell_type": "markdown",
   "id": "ce3c4150",
   "metadata": {},
   "source": [
    "## 筆記整理"
   ]
  },
  {
   "cell_type": "markdown",
   "id": "turned-insulation",
   "metadata": {},
   "source": [
    "## pandas--对axis=0,axis=1的理解\n",
    "![](img/pandas_axis.jpg)"
   ]
  },
  {
   "cell_type": "code",
   "execution_count": null,
   "id": "presidential-village",
   "metadata": {},
   "outputs": [],
   "source": [
    "df = pd.DataFrame([[11, 12, 13, 14], [21, 22, 23, 24], [31, 32, 33, 34]], \\\n",
    "columns=[\"col1\", \"col2\", \"col3\", \"col4\"])\n",
    "df.mean(axis=1) #均值\n",
    "df.drop(\"col4\", axis=1) "
   ]
  },
  {
   "cell_type": "markdown",
   "id": "popular-transparency",
   "metadata": {},
   "source": [
    "# pandas 處理xlsx資料 iterate all data"
   ]
  },
  {
   "cell_type": "code",
   "execution_count": null,
   "id": "lesbian-tactics",
   "metadata": {},
   "outputs": [],
   "source": [
    "import pandas as pd\n",
    "df=pd.read_excel('ref/lesson-8-numpy-and-pandas/visitors.xlsx',index_col=0)   \n",
    "\n",
    "#column name & type\n",
    "for column_name in df: print(r\"{}{}\".format(type(column_name),column_name))\n",
    "    \n",
    "# iterate items\n",
    "for column_name, item in df.iteritems():\n",
    "    print(r\"{}{}\".format(type(column_name),column_name))\n",
    "    print(type(item))\n",
    "    print(item)\n",
    "    print('------')   \n",
    "    break\n",
    "\n",
    "# colunm name \n",
    "print(\"('{}'),\".format(\"','\".join(str(column_name).replace(\"'\",\"\") for column_name in df)))\n",
    "\n",
    "# iterate rows\n",
    "for index, row in df.iterrows():\n",
    "    print(\"('{}'),\".format(\"','\".join(str(r).replace(\"'\",\"\") for r in row)))"
   ]
  },
  {
   "cell_type": "code",
   "execution_count": null,
   "id": "chronic-commission",
   "metadata": {},
   "outputs": [],
   "source": [
    "import pandas as pd\n",
    "df=pd.read_excel('kw_data.xlsx',index_col=0)   \n",
    "df"
   ]
  },
  {
   "cell_type": "code",
   "execution_count": null,
   "id": "editorial-travel",
   "metadata": {},
   "outputs": [],
   "source": [
    "from IPython.display import Latex,HTML,Markdown\n",
    "#df.dtypes\n",
    "df1 = df[(df[\"性別\"]==\"M\") & ((df[\"BMI\"]>=18.0) & (df[\"BMI\"]<=22.0))]\n",
    "df1=  df1==\"X\" \n",
    "sum_s=df1.sum(axis=0)\n",
    "display(sum_s)\n",
    "#display(Markdown(\"{}\\n{}\\n{}\".format(\"|\".join(sum_s.index),\"|\".join(\"--\" for _ in sum_s.index),\"|\".join(str(v) for i, v in sum_s.items()))))"
   ]
  },
  {
   "cell_type": "code",
   "execution_count": null,
   "id": "delayed-greece",
   "metadata": {},
   "outputs": [],
   "source": []
  }
 ],
 "metadata": {
  "kernelspec": {
   "display_name": "Python 3",
   "language": "python",
   "name": "python3"
  },
  "language_info": {
   "codemirror_mode": {
    "name": "ipython",
    "version": 3
   },
   "file_extension": ".py",
   "mimetype": "text/x-python",
   "name": "python",
   "nbconvert_exporter": "python",
   "pygments_lexer": "ipython3",
   "version": "3.9.5"
  }
 },
 "nbformat": 4,
 "nbformat_minor": 5
}

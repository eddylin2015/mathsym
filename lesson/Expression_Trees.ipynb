{
 "cells": [
  {
   "cell_type": "code",
   "execution_count": 10,
   "id": "hungry-longitude",
   "metadata": {},
   "outputs": [
    {
     "data": {
      "text/plain": [
       "\"Add(Mul(Integer(5), Pow(Symbol('x'), Integer(2))), Mul(Integer(-1), Integer(5), Symbol('x'), Symbol('y')))\""
      ]
     },
     "execution_count": 10,
     "metadata": {},
     "output_type": "execute_result"
    }
   ],
   "source": [
    "from sympy import *\n",
    "x, y, z = symbols('x y z')\n",
    "expr = (-x**2 + x*y )* -5\n",
    "srepr(expr)"
   ]
  },
  {
   "cell_type": "code",
   "execution_count": 11,
   "id": "periodic-pride",
   "metadata": {},
   "outputs": [
    {
     "data": {
      "text/latex": [
       "$\\displaystyle 5 x^{2} - 5 x y$"
      ],
      "text/plain": [
       "5*x**2 - 5*x*y"
      ]
     },
     "execution_count": 11,
     "metadata": {},
     "output_type": "execute_result"
    }
   ],
   "source": [
    "expr"
   ]
  },
  {
   "cell_type": "code",
   "execution_count": 15,
   "id": "catholic-orleans",
   "metadata": {},
   "outputs": [
    {
     "data": {
      "text/latex": [
       "$\\displaystyle x - 3 y$"
      ],
      "text/plain": [
       "x - 3*y"
      ]
     },
     "execution_count": 15,
     "metadata": {},
     "output_type": "execute_result"
    }
   ],
   "source": [
    "(-3) * y + x"
   ]
  },
  {
   "cell_type": "code",
   "execution_count": 25,
   "id": "hidden-tucson",
   "metadata": {},
   "outputs": [],
   "source": [
    "expr=Add(Mul( Integer(-1),Integer(5), Pow(Symbol('x'), Integer(2))), Mul( Integer(5), Symbol('x'), Symbol('y')), evaluate=False)"
   ]
  },
  {
   "cell_type": "code",
   "execution_count": 26,
   "id": "necessary-freight",
   "metadata": {},
   "outputs": [
    {
     "data": {
      "text/latex": [
       "$\\displaystyle - 5 x^{2} + 5 x y$"
      ],
      "text/plain": [
       "-5*x**2 + 5*x*y"
      ]
     },
     "execution_count": 26,
     "metadata": {},
     "output_type": "execute_result"
    }
   ],
   "source": [
    "expr"
   ]
  },
  {
   "cell_type": "code",
   "execution_count": 27,
   "id": "contrary-characteristic",
   "metadata": {},
   "outputs": [],
   "source": [
    "expr=Add(Mul( Integer(-1),Integer(5), Pow(Symbol('x'), Integer(2))), Mul( Integer(5), Symbol('x'), Symbol('y')), evaluate=True)"
   ]
  },
  {
   "cell_type": "code",
   "execution_count": 28,
   "id": "comfortable-basketball",
   "metadata": {},
   "outputs": [
    {
     "data": {
      "text/latex": [
       "$\\displaystyle - 5 x^{2} + 5 x y$"
      ],
      "text/plain": [
       "-5*x**2 + 5*x*y"
      ]
     },
     "execution_count": 28,
     "metadata": {},
     "output_type": "execute_result"
    }
   ],
   "source": [
    "expr.smply()"
   ]
  },
  {
   "cell_type": "code",
   "execution_count": 34,
   "id": "conservative-sword",
   "metadata": {},
   "outputs": [
    {
     "data": {
      "text/latex": [
       "$\\displaystyle - 7 x^{4} + x^{4} + 12$"
      ],
      "text/plain": [
       "-7*x**4 + x**4 + 12"
      ]
     },
     "execution_count": 34,
     "metadata": {},
     "output_type": "execute_result"
    }
   ],
   "source": [
    "expr=Add(x**4*(-7), x**4, 12 , evaluate=False)\n",
    "expr"
   ]
  },
  {
   "cell_type": "code",
   "execution_count": null,
   "id": "undefined-array",
   "metadata": {},
   "outputs": [],
   "source": []
  },
  {
   "cell_type": "code",
   "execution_count": null,
   "id": "lyric-floor",
   "metadata": {},
   "outputs": [],
   "source": []
  }
 ],
 "metadata": {
  "kernelspec": {
   "display_name": "Python 3",
   "language": "python",
   "name": "python3"
  },
  "language_info": {
   "codemirror_mode": {
    "name": "ipython",
    "version": 3
   },
   "file_extension": ".py",
   "mimetype": "text/x-python",
   "name": "python",
   "nbconvert_exporter": "python",
   "pygments_lexer": "ipython3",
   "version": "3.9.10"
  }
 },
 "nbformat": 4,
 "nbformat_minor": 5
}

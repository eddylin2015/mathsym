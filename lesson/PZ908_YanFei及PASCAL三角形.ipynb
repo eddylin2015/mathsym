{
 "cells": [
  {
   "cell_type": "code",
   "execution_count": 2,
   "id": "graduate-audit",
   "metadata": {},
   "outputs": [],
   "source": [
    "from sympy import Symbol, Rational, binomial, expand_func\n",
    "n = Symbol('n', integer=True, positive=True)"
   ]
  },
  {
   "cell_type": "code",
   "execution_count": 3,
   "id": "incoming-chamber",
   "metadata": {
    "jupyter": {
     "source_hidden": true
    },
    "tags": []
   },
   "outputs": [
    {
     "data": {
      "text/latex": [
       "$\\displaystyle 6435$"
      ],
      "text/plain": [
       "6435"
      ]
     },
     "execution_count": 3,
     "metadata": {},
     "output_type": "execute_result"
    }
   ],
   "source": [
    "binomial(15, 8) #二項式"
   ]
  },
  {
   "cell_type": "code",
   "execution_count": 4,
   "id": "practical-heating",
   "metadata": {
    "jupyter": {
     "source_hidden": true
    },
    "tags": []
   },
   "outputs": [
    {
     "data": {
      "text/latex": [
       "$\\displaystyle 0$"
      ],
      "text/plain": [
       "0"
      ]
     },
     "execution_count": 4,
     "metadata": {},
     "output_type": "execute_result"
    }
   ],
   "source": [
    "binomial(n, -1)"
   ]
  },
  {
   "cell_type": "code",
   "execution_count": 4,
   "id": "requested-ordinance",
   "metadata": {},
   "outputs": [
    {
     "name": "stdout",
     "output_type": "stream",
     "text": [
      "[1]\n",
      "[1, 1]\n",
      "[1, 2, 1]\n",
      "[1, 3, 3, 1]\n",
      "[1, 4, 6, 4, 1]\n",
      "[1, 5, 10, 10, 5, 1]\n",
      "[1, 6, 15, 20, 15, 6, 1]\n",
      "[1, 7, 21, 35, 35, 21, 7, 1]\n",
      "[1, 8, 28, 56, 70, 56, 28, 8, 1]\n",
      "[1, 9, 36, 84, 126, 126, 84, 36, 9, 1]\n",
      "[1, 10, 45, 120, 210, 252, 210, 120, 45, 10, 1]\n",
      "[1, 11, 55, 165, 330, 462, 462, 330, 165, 55, 11, 1]\n",
      "[1, 12, 66, 220, 495, 792, 924, 792, 495, 220, 66, 12, 1]\n",
      "[1, 13, 78, 286, 715, 1287, 1716, 1716, 1287, 715, 286, 78, 13, 1]\n",
      "[1, 14, 91, 364, 1001, 2002, 3003, 3432, 3003, 2002, 1001, 364, 91, 14, 1]\n",
      "[1, 15, 105, 455, 1365, 3003, 5005, 6435, 6435, 5005, 3003, 1365, 455, 105, 15, 1]\n"
     ]
    }
   ],
   "source": [
    "for N in range(16):\n",
    "    print([binomial(N, i) for i in range(N + 1)])"
   ]
  },
  {
   "cell_type": "markdown",
   "id": "banned-preparation",
   "metadata": {},
   "source": [
    "\n",
    "![](https://mail.mbc.edu.mo/ckeditorimages/worknote_210_2_yanhui_triangle.png)\n",
    "    "
   ]
  },
  {
   "cell_type": "markdown",
   "id": "weighted-biodiversity",
   "metadata": {},
   "source": [
    "特點:   \n",
    "1. 第n行: 1,11,121,1331... $11^{n-1}$   \n",
    "2. 第n行和: 1,2,4,8... $2^{n-1}$   \n",
    "3. 列和= 拐角處數字  \n",
    "4. Fibonacci \n",
    "\n",
    "應用:  \n",
    "二項式  \n",
    "手開方   \n",
    "彈珠概率   \n",
    "\n"
   ]
  },
  {
   "cell_type": "code",
   "execution_count": 12,
   "id": "forced-summer",
   "metadata": {},
   "outputs": [
    {
     "data": {
      "text/plain": [
       "[0, 1, 1, 2, 3, 5, 8, 13, 21, 34, 55]"
      ]
     },
     "execution_count": 12,
     "metadata": {},
     "output_type": "execute_result"
    }
   ],
   "source": [
    "from sympy import fibonacci, Symbol\n",
    "[fibonacci(x) for x in range(11)]"
   ]
  },
  {
   "cell_type": "code",
   "execution_count": 13,
   "id": "warming-budget",
   "metadata": {},
   "outputs": [
    {
     "data": {
      "text/latex": [
       "$\\displaystyle t^{4} + 3 t^{2} + 1$"
      ],
      "text/plain": [
       "t**4 + 3*t**2 + 1"
      ]
     },
     "execution_count": 13,
     "metadata": {},
     "output_type": "execute_result"
    }
   ],
   "source": [
    "fibonacci(5, Symbol('t'))"
   ]
  },
  {
   "cell_type": "code",
   "execution_count": 1,
   "id": "several-vietnam",
   "metadata": {},
   "outputs": [
    {
     "data": {
      "text/plain": [
       "<generator object triangles at 0x000001B50AD1EAC0>"
      ]
     },
     "metadata": {},
     "output_type": "display_data"
    }
   ],
   "source": [
    "def triangles():\n",
    "    L = [1]\n",
    "    while True:\n",
    "        yield L\n",
    "        L = [sum(i) for i in zip([0]+L, L+[0])]\n",
    "display(triangles())"
   ]
  },
  {
   "cell_type": "code",
   "execution_count": 2,
   "id": "solved-switch",
   "metadata": {},
   "outputs": [
    {
     "data": {
      "text/plain": [
       "<generator object triangles at 0x000001B50AD1E900>"
      ]
     },
     "metadata": {},
     "output_type": "display_data"
    }
   ],
   "source": [
    "def triangles():\n",
    "    L = [1]\n",
    "    S = []\n",
    "    while True:\n",
    "        yield L \n",
    "        L = [1] + S + [1]\n",
    "        S = []\n",
    "        for i in range(len(L)-1):\n",
    "            S.append(L[i] + L[i+1])\n",
    "display(triangles())            "
   ]
  },
  {
   "cell_type": "code",
   "execution_count": 3,
   "id": "offshore-sacramento",
   "metadata": {},
   "outputs": [
    {
     "ename": "SyntaxError",
     "evalue": "Missing parentheses in call to 'print'. Did you mean print(\"column vector\")? (<ipython-input-3-82edf3d05fc5>, line 6)",
     "output_type": "error",
     "traceback": [
      "\u001b[1;36m  File \u001b[1;32m\"<ipython-input-3-82edf3d05fc5>\"\u001b[1;36m, line \u001b[1;32m6\u001b[0m\n\u001b[1;33m    print \"column vector\"\u001b[0m\n\u001b[1;37m          ^\u001b[0m\n\u001b[1;31mSyntaxError\u001b[0m\u001b[1;31m:\u001b[0m Missing parentheses in call to 'print'. Did you mean print(\"column vector\")?\n"
     ]
    }
   ],
   "source": [
    "import numpy as np\n",
    "\n",
    "def run():\n",
    "    # create a column vector\n",
    "    col_vec = np.array([[1], [2]])\n",
    "    print \"column vector\"\n",
    "    print col_vec\n",
    "    \n",
    "    # create a row vector\n",
    "    row_vec = np.array([[1, 2]])\n",
    "    print \"row vector\"\n",
    "    print row_vec\n",
    "    \n",
    "    # create a matrix\n",
    "    mat = np.array([[1, 2], [3, 4]])\n",
    "    print \"matrix\"\n",
    "    print mat\n",
    "    \n",
    "    # inspect dimensions\n",
    "    print \"row vector dimensions\", row_vec.ndim\n",
    "    shape = row_vec.shape\n",
    "    print \"row vector rows\", shape[0], \"columns\", shape[1]\n",
    "    \n",
    "    print \"matrix dimensions\", mat.ndim\n",
    "    shape = mat.shape\n",
    "    print \"matrix rows\", shape[0], \"columns\", shape[1]\n",
    "    \n",
    "    # transpose\n",
    "    vec_t = row_vec.transpose() # or row_vec.T\n",
    "    print \"transposed vector\"\n",
    "    print vec_t\n",
    "    \n",
    "    mat_t = mat.transpose() # or mat.T\n",
    "    print \"transposed matrix\"\n",
    "    print mat_t\n",
    "    \n",
    "    a = np.array([[2], [-4], [1]])\n",
    "    b = np.array([[2], [1], [-2]])\n",
    "    \n",
    "    # addition \n",
    "    print \"a + b\"\n",
    "    print a + b\n",
    "    \n",
    "    # subtraction\n",
    "    print \"a - b\"\n",
    "    print a - b\n",
    "    \n",
    "    # scalar multiplication\n",
    "    print \"1.2 * a\"\n",
    "    print 1.2 * a\n",
    "    \n",
    "    # element wise multiplication\n",
    "    print \"a * b\"\n",
    "    print a * b    \n",
    "    \n",
    "    # vector scalar product\n",
    "    print \"a . b\"\n",
    "    print np.dot(a.transpose(), b)\n",
    "    \n",
    "    # vector cross product\n",
    "    print \"a x b\"\n",
    "    print np.cross(a, b, axis=0) # or np.cross(a.T, b.T).T\n",
    "    \n",
    "    identity = np.array([[1, 0], [0, 1]])\n",
    "    \n",
    "    # matrix vector product\n",
    "    print \"identity . col_vec\"\n",
    "    print np.dot(identity, col_vec)\n",
    "    \n",
    "    # matrix product\n",
    "    print \"identity . mat\"\n",
    "    print np.dot(identity, mat)\n",
    "    "
   ]
  },
  {
   "cell_type": "code",
   "execution_count": null,
   "id": "higher-sector",
   "metadata": {},
   "outputs": [],
   "source": []
  }
 ],
 "metadata": {
  "kernelspec": {
   "display_name": "Python 3",
   "language": "python",
   "name": "python3"
  },
  "language_info": {
   "codemirror_mode": {
    "name": "ipython",
    "version": 3
   },
   "file_extension": ".py",
   "mimetype": "text/x-python",
   "name": "python",
   "nbconvert_exporter": "python",
   "pygments_lexer": "ipython3",
   "version": "3.9.0"
  }
 },
 "nbformat": 4,
 "nbformat_minor": 5
}

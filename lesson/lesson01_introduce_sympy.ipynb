{
 "cells": [
  {
   "cell_type": "markdown",
   "metadata": {},
   "source": [
    "# 電腦數學符號運算簡介Symbolic Manipulation in Python (numpy,sympy)"
   ]
  },
  {
   "cell_type": "markdown",
   "metadata": {},
   "source": [
    "## 第1節. 介紹Python基礎及LaTex\n"
   ]
  },
  {
   "cell_type": "markdown",
   "metadata": {},
   "source": [
    "### 1.1預先安裝 Python 3.8.7,以及第三方組件\n",
    "- pip install numpy\n",
    "- pip install sympy\n",
    "- pip install jupyterlab\n",
    "- lib.py 自定義函數"
   ]
  },
  {
   "cell_type": "code",
   "execution_count": 4,
   "metadata": {},
   "outputs": [
    {
     "name": "stdout",
     "output_type": "stream",
     "text": [
      "Import all 模組\n"
     ]
    }
   ],
   "source": [
    "\"\"\"\n",
    "常用組件,作文件頭部 \n",
    "random , math,  sympy , plot , Latex, Mathjax\n",
    "\"\"\"\n",
    "import random                                     #亂數 \n",
    "import math                                       #math 內置數學函數\n",
    "import numpy as np                                #數字矩陣\n",
    "import sympy as sp                                #sympy 簡易別名 sp    \n",
    "from sympy.parsing.sympy_parser import parse_expr #文字字串, 解釋成, Sympy 運算式\n",
    "from sympy.plotting import plot                   #繪圖表\n",
    "from IPython.display import Latex                 #網頁顯示數學符號\n",
    "import json                                       #JSON 結構化資料\n",
    "sp.init_printing(\"mathjax\")                       #sp.init_printing()\n",
    "print(\"Import all 模組\")\n"
   ]
  },
  {
   "cell_type": "markdown",
   "metadata": {},
   "source": [
    "### 先來熱身\n",
    "\n",
    "$$ A_1= \\frac{2^2-1}{2^2} \\cdot \\frac{3^2-1}{3^2}  \\cdot \\frac{4^2-1}{4^2} \\cdot \\cdot \\cdot \\frac{2021^2-1}{2021^2}  $$\n",
    "\n",
    "\n",
    "<details>\n",
    "    <summary>Click to reveal solution</summary>\n",
    "```    \n",
    "$$ A_1= \\frac{(2-1)(2+1)}{2^2} \\cdot \\frac{(3+1)(3-1)}{3^2}  \\cdot \\cdot \\cdot \\frac{(2021-1)(2021+1)}{2021^2}  $$    \n",
    "$$ A_1= \\frac{(1)(3)}{2^2} \\cdot \\frac{(2)(4)}{3^2}  \\cdot \\cdot \\cdot \\frac{(2020)(2022)}{2021^2}  $$\n",
    "$$ A_1= \\frac{(1 * 2 * 3 * 4 \\cdot \\cdot \\cdot 2020) \\cdot ( 3 * 4 \\cdot \\cdot \\cdot 2020 * 2021*2022)}{(2 * 3 * 4 \\cdot \\cdot \\cdot 2020 * 2021) *(2 * 3 * 4 \\cdot \\cdot \\cdot 2020 * 2021)}  $$\n",
    "$$ A_1= \\frac{ 2022}{2021 *2} = \\frac{1011}{2021} $$    \n",
    "$$ A_1= \\frac{ 2022}{2021 *2} = \\frac{1011}{2021} $$\n",
    "```\n",
    "</details>\n",
    "\n",
    "\n"
   ]
  },
  {
   "cell_type": "code",
   "execution_count": 3,
   "metadata": {},
   "outputs": [
    {
     "name": "stdout",
     "output_type": "stream",
     "text": [
      "0.500247402276101\n",
      "0.5002474022761008\n",
      "1011/2021\n"
     ]
    }
   ],
   "source": [
    "# 手計算\n",
    "print(1011/2021)\n",
    "\n",
    "# 程式一\n",
    "A1=1 \n",
    "for i in range(2,2022): \n",
    "    A1 *= (i**2-1)/ (i**2)\n",
    "print(A1)\n",
    "\n",
    "# 程式二\n",
    "A2=1 \n",
    "for i in range(2,2022): \n",
    "    A2 *= sp.S(i**2-1) / sp.S(i**2)\n",
    "print(A2)\n"
   ]
  },
  {
   "cell_type": "markdown",
   "metadata": {},
   "source": [
    "### 1.2 Python基礎指令: 亂數, 字串, 數列, 迴圈, 判斷, 輸入\n",
    "\n",
    "```\n",
    "#數值運算符\n",
    "\n",
    "+ - * / // % ^ \n",
    "\n",
    "#變數,列表及字典\n",
    "- list [a1,a2,a3...] \n",
    "- range(a,b)\n",
    "- dict {}\n",
    "\n",
    "#字串連結\n",
    "name=\"Eddy\"\n",
    "f\"hello {name}\"\n",
    "\"hello {}\".format(name)\n",
    "\"hello %s\" % name\n",
    "\n",
    "#判斷\n",
    "- == > < >= <= != <> & |\n",
    "\n",
    "if condition:\n",
    "    pass\n",
    "else:\n",
    "    pass\n",
    "\n",
    "#Loop迴圈 \n",
    "for i in Range(0,10):\n",
    "    print(i)\n",
    "\n",
    "# 內置數學函數\n",
    "abs \n",
    "pow\n",
    "round\n",
    "\n",
    "# math 庫的數學函數\n",
    "import math\n",
    "math.copysign\n",
    "```\n",
    "\n",
    "\n",
    "\n"
   ]
  },
  {
   "cell_type": "code",
   "execution_count": 26,
   "metadata": {},
   "outputs": [
    {
     "name": "stdout",
     "output_type": "stream",
     "text": [
      "c= -4 + (3)\n",
      "c= -4 + (3)\n"
     ]
    },
    {
     "name": "stdin",
     "output_type": "stream",
     "text": [
      "c? , input number: 1\n"
     ]
    },
    {
     "name": "stdout",
     "output_type": "stream",
     "text": [
      "1 答錯,標準答案為-1.\n",
      "c= 2 + (-1)\n",
      "c= 2 + (-1)\n"
     ]
    },
    {
     "name": "stdin",
     "output_type": "stream",
     "text": [
      "c? , input number: 1\n"
     ]
    },
    {
     "name": "stdout",
     "output_type": "stream",
     "text": [
      "1 , 答對!加一分\n",
      "c= -4 + (1)\n",
      "c= -4 + (1)\n"
     ]
    },
    {
     "name": "stdin",
     "output_type": "stream",
     "text": [
      "c? , input number: 1\n"
     ]
    },
    {
     "name": "stdout",
     "output_type": "stream",
     "text": [
      "1 答錯,標準答案為-3.\n",
      "小結: 得分1, 共3題.\n"
     ]
    },
    {
     "data": {
      "text/plain": [
       "[{'St': 'c= -4 + (3)', 'Val': -1, 'Ans': '1', 'OK': 0},\n",
       " {'St': 'c= 2 + (-1)', 'Val': 1, 'Ans': '1', 'OK': 1},\n",
       " {'St': 'c= -4 + (1)', 'Val': -3, 'Ans': '1', 'OK': 0}]"
      ]
     },
     "metadata": {},
     "output_type": "display_data"
    }
   ],
   "source": [
    "\"\"\"\n",
    "用一個列子運用以上指令, Python第一個程式\n",
    "\"\"\"\n",
    "Mark=0;\n",
    "NTE=[]\n",
    "QizAmt=3;\n",
    "SampleList=range(-99,99) \n",
    "SampleList_NoZero=list(range(-99,99)).remove(0)\n",
    "for i in range( 0, QizAmt ):\n",
    "    a = random.choice([-5,-4,-3,-2,-1,0,1,2,3,4,5]) # 亂數 a [-5:+5] \n",
    "    b =-random.choice([-5,-4,-3,-2,-1,1,2,3,4,5])  # 亂數  b [-5:+5] 非零 \n",
    "    if a==b: b=math.copysign(abs(b)+random.choice(range(1,5)),b)    # 並且  a != b, if a==b then (abs(b)+random) * sign(+,-)\n",
    "    c = a + b \n",
    "    TE={}\n",
    "    TE[\"St\"]= f\"c= {a} + ({b})\"\n",
    "    TE[\"Val\"]= c\n",
    "    print(r\"c= %s + (%s)\" % (a,b))\n",
    "    print(r\"c= {} + ({})\".format(a,b))\n",
    "    # input string to \"ans\",\n",
    "    Ans=input(\"c? , input number:\")\n",
    "    TE[\"Ans\"]=Ans\n",
    "    TE[\"OK\"]=0\n",
    "    if c == int(Ans):\n",
    "        Mark=Mark+1;  # mark+=1\n",
    "        TE[\"OK\"]=1\n",
    "        print(f\"{Ans} , 答對!加一分\")\n",
    "    else:\n",
    "        print(f\"{Ans} 答錯,標準答案為{c}.\")\n",
    "    NTE.append(TE)    \n",
    "print(f\"小結: 得分{Mark}, 共{QizAmt}題.\")\n",
    "display(NTE)"
   ]
  },
  {
   "cell_type": "code",
   "execution_count": 6,
   "metadata": {},
   "outputs": [
    {
     "name": "stdout",
     "output_type": "stream",
     "text": [
      "11\n",
      "-1.0\n",
      "13\n",
      "13\n",
      "12\n",
      "5.0\n",
      "120\n",
      "3\n",
      "45\n",
      "4.0\n",
      "3.141592653589793\n",
      "2.718281828459045\n",
      "6.283185307179586\n",
      "inf\n",
      "nan\n",
      "end.\n"
     ]
    }
   ],
   "source": [
    "\"\"\"\n",
    "參考資料\n",
    "math 內置數學函數\n",
    "\"\"\"\n",
    "# string format: \"c=a+b\";  f\"c={a}+{b}\"; r\"c=%s + %s \" % (a,b)\n",
    "# abs(x) 絶對值|x|, round(float_number)四拾五入, math.copysign\n",
    "# + Add -; Sub *; Mul; / Div; ** Exponent; pow(base,exp) ;// Floor Division; ( ); % Modulus;\n",
    "# == != <> > < >= <= , int(number_str) ,str(number), \n",
    "# += -= /= *= **= //= %=\n",
    "import math\n",
    "# Number-theoretic and representation functions\n",
    "print(math.comb(11, 10))  # 組合 六合彩 Evaluates to n! / (k! * (n - k)!) when k <= n and evaluates to zero when k > n.\n",
    "\n",
    "print(math.copysign(1.0, -0.0)) #-1.0 sign 指 + 或 - \n",
    "print(round(12.9))      # 13 四拾五入 \n",
    "print(math.ceil(12.1))  # 13 math.ceil(x)是整取 >= x 大的整數.\n",
    "print(math.floor(12.9)) # 12 拾去小數點后的值, 取整數 \n",
    "\n",
    "print(math.fabs(-5))    # 同abs(x) 一樣是絶對值 Return the absolute value of x.\n",
    "print(math.factorial(5)) #5*4*3*2*1 階乘 Return x factorial as an integer. Raises ValueError if x is not integral or is negative.\n",
    "print(math.gcd(15,9))   #最大公倍數 math.lcm(*integers)\n",
    "#print(math.lcm(15,9))  #最小公約數 math.lcm(*integers) python 3.9\n",
    "def lcm(a, b):\n",
    "    return abs(a*b) // math.gcd(a, b)\n",
    "print(lcm(15,9))\n",
    "print(math.pow(2, 2))  # 2^2 \n",
    "#常數\n",
    "print(math.pi) # The mathematical constant π = 3.141592…, to available precision.\n",
    "print(math.e)  # The mathematical constant e = 2.718281…, to available precision.\n",
    "print(math.tau)# The mathematical constant τ = 6.283185…, to available precision. Tau is a circle constant equal to 2π, the ratio of a circle’s circumference to its radius. To learn more about Tau, check out Vi Hart’s video Pi is (still) Wrong, and start celebrating Tau day by eating twice as much pie!\n",
    "print(math.inf)# A floating-point positive infinity. (For negative infinity, use -math.inf.) Equivalent to the output of float('inf').\n",
    "print(math.nan)# A floating-point “not a number” (NaN) value. Equivalent to the output of float('nan').\n",
    "\"\"\"\n",
    "math.cos(x) #Return the cosine of x radians.\n",
    "math.sin(x)\n",
    "math.tan(x)\n",
    "math.degrees(x) #Convert angle x from radians to degrees.\n",
    "math.radians(x) #Convert angle x from degrees to radians.\n",
    "\"\"\"\n",
    "print(\"end.\")"
   ]
  },
  {
   "cell_type": "markdown",
   "metadata": {},
   "source": [
    "### 1.3 Latex\n",
    "- \\frac {x} {y}\n",
    "\n",
    "$$  \\frac{x}{y} $$\n",
    "- |{x}|\n",
    "$$ |{x}| $$\n",
    "- {x}^{y}\n",
    "$$ {x}^{y} $$\n",
    "- {\\large{ (\\frac{x}{y})}}^{z}\n",
    "$$ {\\large{ (- \\frac{x}{y})}}^{z} $$\n",
    "- x^2-2x+1=0\n",
    "$$ x^2-2x+1=0 $$\n",
    "- 有理數的巧算\n",
    "1. 等差數列  sum=(f1+fn)*n/2 ;  n=((fn-f1)/ difference) +1\n",
    "$$ sum=\\frac{ (f1+fn)*n }{2}  $$\n",
    "$$ n=\\frac{(fn-f1)}{difference} +1  $$\n",
    "2. 等比數列  sum=f1*(1- ratio ^ n) / (1- ratio)\n",
    "$$ \\frac{ f1*(1- ratio ^ n) }{1- ratio}  $$\n",
    "3. 平方和    sum=1/6 * n * (n+1) *(2n +1)\n",
    "$$ \\frac{1}{6} * n * (n+1) * (2n+1) $$\n",
    "4.  排列：由 n 種物品中取出 m 個排成一列，其排列方式有 n P m 種\n",
    "- 可重複  $n^m$\n",
    "- 不重複  $n*(n-1)....(n-m+1)$\n",
    "5. 組合n 中取m 不重複\n",
    "$$  n C m=  n! /(n-m)!m!   $$\n",
    "6. 組合n 中取m 重複\n",
    "$$ n H m =  n+m-1 C m    $$\n",
    "\n",
    "\n"
   ]
  },
  {
   "cell_type": "markdown",
   "metadata": {},
   "source": [
    "## 第2節. 介紹 Sympy\n",
    "\n",
    "\n",
    "數學表逹使用LaTeX,(MathJax JavaScript library) 即是出版數學格式\n",
    "\n",
    "\n",
    "\n",
    "首先 import SymPy \n",
    "\n",
    "IPython環境啟用 LaTeX printing:\n",
    "```\n",
    "import sympy as sp\n",
    "sp.init_printing()   \n",
    "```\n",
    "print 與 display 的區別"
   ]
  },
  {
   "cell_type": "markdown",
   "metadata": {},
   "source": [
    "### 2.1 數值,符號\n",
    "\n",
    "數值運算: 2/4 output 0.5\n",
    "\n",
    "符號運算: 2/4 output 1/2\n",
    "\n",
    "分數 \n",
    "\n",
    "- c = sp.S(a)/ b   \n",
    "- c = sp.Rational(11/16)\n",
    "\n",
    "指數冪\n",
    "\n",
    "- sp.Pow(c,-2)  \n",
    " (11/13)^-2  : 169/121\n",
    "- sp.Pow(c,-2,evaluate=False) \n",
    "\n",
    " 1/(121/169) evaluate=False不作約簡\n",
    "\n"
   ]
  },
  {
   "cell_type": "code",
   "execution_count": null,
   "metadata": {},
   "outputs": [],
   "source": [
    "import math\n",
    "\n",
    "a=173173\n",
    "b=204659\n",
    "gcd=math.gcd(173173,204659)\n",
    "c= a/b\n",
    "exp=-2\n",
    "print(a/gcd)\n",
    "print(b/gcd)\n",
    "print(c)\n",
    "print(c**exp)\n",
    "print(pow(c,exp))"
   ]
  },
  {
   "cell_type": "markdown",
   "metadata": {},
   "source": [
    "### 2.1.1 有理數, 分數"
   ]
  },
  {
   "cell_type": "code",
   "execution_count": 12,
   "metadata": {},
   "outputs": [
    {
     "data": {
      "text/latex": [
       "$\\displaystyle \\frac{11}{13}$"
      ],
      "text/plain": [
       "11\n",
       "──\n",
       "13"
      ]
     },
     "execution_count": 12,
     "metadata": {},
     "output_type": "execute_result"
    }
   ],
   "source": [
    "import sympy as sp\n",
    "sp.init_printing(\"mathjax\") \n",
    "a=173173\n",
    "b=204659\n",
    "#有理數, 分數\n",
    "c= sp.S(a) / b   \n",
    "#c= sp.Rational(a, b)\n",
    "c\n"
   ]
  },
  {
   "cell_type": "markdown",
   "metadata": {},
   "source": [
    "### 2.1.2 指數冪"
   ]
  },
  {
   "cell_type": "code",
   "execution_count": 13,
   "metadata": {},
   "outputs": [
    {
     "data": {
      "text/latex": [
       "$\\displaystyle \\frac{169}{121}$"
      ],
      "text/plain": [
       "169\n",
       "───\n",
       "121"
      ]
     },
     "execution_count": 13,
     "metadata": {},
     "output_type": "execute_result"
    }
   ],
   "source": [
    "#指數冪\n",
    "c**-2\n",
    "#sp.Pow(c,-2)\n",
    "#sp.Pow(c,-2,evaluate=False)"
   ]
  },
  {
   "cell_type": "markdown",
   "metadata": {},
   "source": [
    "### 2.2 宣告符號 x,y,z 和 函數 f , g\n",
    "```\n",
    "sp.var('x y z') #全域\n",
    "```\n",
    "在函數中建議\n",
    "```\n",
    "x,y,z=sp.symbols(\"x y z\")\n",
    "```\n",
    "\n"
   ]
  },
  {
   "cell_type": "code",
   "execution_count": 15,
   "metadata": {},
   "outputs": [
    {
     "data": {
      "text/latex": [
       "$\\displaystyle x^{2} + y^{2} + z^{2}$"
      ],
      "text/plain": [
       " 2    2    2\n",
       "x  + y  + z "
      ]
     },
     "metadata": {},
     "output_type": "display_data"
    },
    {
     "data": {
      "text/latex": [
       "$\\displaystyle x^{2} + y^{2} + z^{2} - \\frac{1}{x^{2} + y^{2} + z^{2}} + \\frac{x^{2} + y^{2} + z^{2}}{x - y - z}$"
      ],
      "text/plain": [
       "                               2    2    2\n",
       " 2    2    2        1         x  + y  + z \n",
       "x  + y  + z  - ──────────── + ────────────\n",
       "                2    2    2    x - y - z  \n",
       "               x  + y  + z                "
      ]
     },
     "metadata": {},
     "output_type": "display_data"
    }
   ],
   "source": [
    "import sympy as sp\n",
    "sp.init_printing(\"mathjax\")   \n",
    "\n",
    "x=sp.Symbol('x')\n",
    "y,z=sp.symbols('y,z')\n",
    "\n",
    "f=sp.Function('f')\n",
    "f=x**2 + y**2 + z**2\n",
    "display(f)\n",
    "\n",
    "g= (x**2 + y**2 + z**2) / (x-y-z)  + f - 1/f\n",
    "display(g)"
   ]
  },
  {
   "cell_type": "markdown",
   "metadata": {},
   "source": [
    "### 2.2.1 整式:\n",
    "$$ x^{2} + 2x - 5 $$\n"
   ]
  },
  {
   "cell_type": "code",
   "execution_count": 26,
   "metadata": {},
   "outputs": [
    {
     "data": {
      "text/latex": [
       "$\\displaystyle \\frac{x^{2} + x - 5}{x - 9}$"
      ],
      "text/plain": [
       " 2        \n",
       "x  + x - 5\n",
       "──────────\n",
       "  x - 9   "
      ]
     },
     "execution_count": 26,
     "metadata": {},
     "output_type": "execute_result"
    }
   ],
   "source": [
    "h= (x**2 + 2*x - 5 - x) /(x-9)\n",
    "h"
   ]
  },
  {
   "cell_type": "code",
   "execution_count": 27,
   "metadata": {},
   "outputs": [
    {
     "name": "stdout",
     "output_type": "stream",
     "text": [
      "    0.6 |                    ............                       \n",
      "        |              ......            ....                   \n",
      "        |         .....                      ...                \n",
      "        |     ....                              ..              \n",
      "        |  ...                                    ..            \n",
      "        |..                                         \\           \n",
      "        |                                            \\          \n",
      "        |                                             \\         \n",
      "        |                                              \\        \n",
      "        |                                               \\       \n",
      "   -2.8 |------------------------------------------------\\------\n",
      "        |                                                 .     \n",
      "        |                                                       \n",
      "        |                                                  .    \n",
      "        |                                                   .   \n",
      "        |                                                       \n",
      "        |                                                    .  \n",
      "        |                                                       \n",
      "        |                                                     . \n",
      "        |                                                       \n",
      "   -6.2 |_______________________________________________________\n",
      "         -5                         0                          5\n"
     ]
    },
    {
     "data": {
      "text/plain": [
       "<sympy.plotting.plot.Plot at 0x28e2d6ff760>"
      ]
     },
     "execution_count": 27,
     "metadata": {},
     "output_type": "execute_result"
    }
   ],
   "source": [
    "from sympy.plotting import plot\n",
    "plot(h,(x, -5, 5)) #plot(h)"
   ]
  },
  {
   "cell_type": "markdown",
   "metadata": {},
   "source": [
    "### 2.2.1 整式x值替代subs\n",
    "-  x=1.5 , \n",
    "-  x 替代成 符號 z\n",
    "-  x 替代成 式子 y^2\n",
    "   "
   ]
  },
  {
   "cell_type": "code",
   "execution_count": 30,
   "metadata": {},
   "outputs": [
    {
     "data": {
      "text/latex": [
       "$\\displaystyle 0.166666666666667$"
      ],
      "text/plain": [
       "0.166666666666667"
      ]
     },
     "execution_count": 30,
     "metadata": {},
     "output_type": "execute_result"
    }
   ],
   "source": [
    "fx1=h.subs(x,1.5)\n",
    "fx1"
   ]
  },
  {
   "cell_type": "code",
   "execution_count": 31,
   "metadata": {},
   "outputs": [
    {
     "data": {
      "text/latex": [
       "$\\displaystyle \\frac{z^{2} + z - 5}{z - 9}$"
      ],
      "text/plain": [
       " 2        \n",
       "z  + z - 5\n",
       "──────────\n",
       "  z - 9   "
      ]
     },
     "metadata": {},
     "output_type": "display_data"
    },
    {
     "data": {
      "text/latex": [
       "$\\displaystyle \\frac{y^{4} + y^{2} - 5}{y^{2} - 9}$"
      ],
      "text/plain": [
       " 4    2    \n",
       "y  + y  - 5\n",
       "───────────\n",
       "    2      \n",
       "   y  - 9  "
      ]
     },
     "metadata": {},
     "output_type": "display_data"
    }
   ],
   "source": [
    "fx2=h.subs(x,z)\n",
    "display(fx2)\n",
    "fx3=h.subs(x,y**2)\n",
    "display(fx3)"
   ]
  },
  {
   "cell_type": "markdown",
   "metadata": {},
   "source": [
    "### 2.2.2 整式 simplify,expand,factor"
   ]
  },
  {
   "cell_type": "markdown",
   "metadata": {},
   "source": [
    "### part a : simplify\n",
    "Simplify約簡式子:\n",
    "            $\\frac{x^2-x-6}{x^2-3x}$\n",
    "    "
   ]
  },
  {
   "cell_type": "code",
   "execution_count": 32,
   "metadata": {},
   "outputs": [
    {
     "name": "stdout",
     "output_type": "stream",
     "text": [
      "題:\n"
     ]
    },
    {
     "data": {
      "image/png": "[encoded data removed]",
      "text/latex": [
       "$\\displaystyle \\frac{x^{2} - x - 6}{x^{2} - 3 x}$"
      ],
      "text/plain": [
       " 2        \n",
       "x  - x - 6\n",
       "──────────\n",
       "  2       \n",
       " x  - 3⋅x "
      ]
     },
     "metadata": {},
     "output_type": "display_data"
    },
    {
     "name": "stdout",
     "output_type": "stream",
     "text": [
      "解:\n"
     ]
    },
    {
     "data": {
      "image/png": "[encoded data removed]",
      "text/latex": [
       "$\\displaystyle \\frac{x + 2}{x}$"
      ],
      "text/plain": [
       "x + 2\n",
       "─────\n",
       "  x  "
      ]
     },
     "metadata": {},
     "output_type": "display_data"
    }
   ],
   "source": [
    "f=(x**2 -x -6)/(x**2-3*x)\n",
    "print(\"題:\")\n",
    "display(f)\n",
    "\n",
    "ans=sp.simplify(f)\n",
    "print(\"解:\")\n",
    "display(ans)"
   ]
  },
  {
   "cell_type": "markdown",
   "metadata": {},
   "source": [
    "### part b : expand\n",
    "expand 展開式子,整式乘法:$(x+1)^3(x-2)^2$"
   ]
  },
  {
   "cell_type": "code",
   "execution_count": 33,
   "metadata": {},
   "outputs": [
    {
     "name": "stdout",
     "output_type": "stream",
     "text": [
      "題目:\n"
     ]
    },
    {
     "data": {
      "image/png": "[encoded data removed]",
      "text/latex": [
       "$\\displaystyle \\left(x - 2\\right)^{2} \\left(x + 1\\right)^{3}$"
      ],
      "text/plain": [
       "       2        3\n",
       "(x - 2) ⋅(x + 1) "
      ]
     },
     "metadata": {},
     "output_type": "display_data"
    },
    {
     "name": "stdout",
     "output_type": "stream",
     "text": [
      "解題:\n"
     ]
    },
    {
     "data": {
      "image/png": "[encoded data removed]",
      "text/latex": [
       "$\\displaystyle x^{5} - x^{4} - 5 x^{3} + x^{2} + 8 x + 4$"
      ],
      "text/plain": [
       " 5    4      3    2          \n",
       "x  - x  - 5⋅x  + x  + 8⋅x + 4"
      ]
     },
     "metadata": {},
     "output_type": "display_data"
    }
   ],
   "source": [
    "#開展式子\n",
    "f=(x+1)**3 * (x-2)**2\n",
    "print(\"題目:\")\n",
    "display(f)\n",
    "\n",
    "ans=\n",
    "print(\"解題:\")\n",
    "display(ans)"
   ]
  },
  {
   "cell_type": "markdown",
   "metadata": {},
   "source": [
    "### part c : Factor\n",
    "Factor 整式提取因式: $3x^4-36x^3+99x^2-6x-144$"
   ]
  },
  {
   "cell_type": "code",
   "execution_count": 34,
   "metadata": {},
   "outputs": [
    {
     "data": {
      "image/png": "[encoded data removed]",
      "text/latex": [
       "$\\displaystyle 3 x^{4} - 36 x^{3} + 99 x^{2} - 6 x - 144$"
      ],
      "text/plain": [
       "   4       3       2            \n",
       "3⋅x  - 36⋅x  + 99⋅x  - 6⋅x - 144"
      ]
     },
     "metadata": {},
     "output_type": "display_data"
    },
    {
     "data": {
      "image/png": "[encoded data removed]",
      "text/latex": [
       "$\\displaystyle 3 \\left(x - 8\\right) \\left(x - 3\\right) \\left(x - 2\\right) \\left(x + 1\\right)$"
      ],
      "text/plain": [
       "3⋅(x - 8)⋅(x - 3)⋅(x - 2)⋅(x + 1)"
      ]
     },
     "execution_count": 34,
     "metadata": {},
     "output_type": "execute_result"
    }
   ],
   "source": [
    "#提取因子\n",
    "f=3*x**4-36*x**3+99*x**2-6*x-144\n",
    "display(f)\n",
    "sp.factor(f)"
   ]
  },
  {
   "cell_type": "markdown",
   "metadata": {},
   "source": [
    "### part d: parse_expr 文字轉換成式子\n",
    "parse_expr 文字轉換成式子\n",
    "\n",
    "來\"整式乘法\"個小遊戲,輸入文字式子.\n",
    "用x=17,對比結果是否相同.\n"
   ]
  },
  {
   "cell_type": "code",
   "execution_count": 34,
   "metadata": {},
   "outputs": [
    {
     "data": {
      "text/latex": [
       "$\\displaystyle x^{2} - x + x - 2$"
      ],
      "text/plain": [
       " 2            \n",
       "x  - x + x - 2"
      ]
     },
     "metadata": {},
     "output_type": "display_data"
    },
    {
     "name": "stdout",
     "output_type": "stream",
     "text": [
      "287\n"
     ]
    }
   ],
   "source": [
    "from sympy.parsing.sympy_parser import parse_expr #文字字串, 解釋成, Sympy 運算式\n",
    "expr=parse_expr(\"x**2 -x -2 + x\",evaluate=False)\n",
    "display(expr)\n",
    "expr=sp.simplify(expr)\n",
    "print(expr.subs(x,17))"
   ]
  },
  {
   "cell_type": "markdown",
   "metadata": {},
   "source": [
    "### part e : play a game"
   ]
  },
  {
   "cell_type": "code",
   "execution_count": 40,
   "metadata": {},
   "outputs": [
    {
     "data": {
      "text/latex": [
       "$\\displaystyle \\left(x - 2\\right) \\left(x + 2\\right)$"
      ],
      "text/plain": [
       "(x - 2)⋅(x + 2)"
      ]
     },
     "metadata": {},
     "output_type": "display_data"
    },
    {
     "name": "stdin",
     "output_type": "stream",
     "text": [
      "整式展開式,作答: 0\n"
     ]
    },
    {
     "name": "stdout",
     "output_type": "stream",
     "text": [
      "對不起!答錯\n"
     ]
    },
    {
     "data": {
      "text/latex": [
       "$\\displaystyle x^{2} - 4$"
      ],
      "text/plain": [
       " 2    \n",
       "x  - 4"
      ]
     },
     "metadata": {},
     "output_type": "display_data"
    }
   ],
   "source": [
    "import random\n",
    "import sympy as sp\n",
    "sp.init_printing(\"mathjax\")   \n",
    "from sympy.parsing.sympy_parser import parse_expr #文字字串, 解釋成, Sympy 運算式\n",
    "\n",
    "a=random.choice([1,2,3])\n",
    "b=random.choice([1,2,3])\n",
    "x=sp.Symbol('x')\n",
    "f=(x+a) * (x-b)\n",
    "display(f)\n",
    "expr_str=input(\"整式展開式,作答:\").replace(\"^\",\"**\")\n",
    "expr=parse_expr(expr_str)\n",
    "if f.subs(x,17)==expr.subs(x,17):\n",
    "    print(\"答對了!\")\n",
    "else:\n",
    "    print(\"對不起!答錯\")\n",
    "    display(sp.expand(f))"
   ]
  },
  {
   "cell_type": "markdown",
   "metadata": {},
   "source": [
    "## 第3節 方程式(sp.Eq) 及 多項式, 解方程solve\n"
   ]
  },
  {
   "cell_type": "markdown",
   "metadata": {},
   "source": [
    "### part a 解(Solve)方程\n",
    "\n",
    "求根(roots)以下方程式 (equation):\n",
    "\n",
    "$$ x^3+15x^2=3^x-10 $$\n",
    "    \n",
    "使用指令 Eq 和 solve . 方程根有多個 (list). evalf 根轉換成的數值."
   ]
  },
  {
   "cell_type": "code",
   "execution_count": 38,
   "metadata": {},
   "outputs": [
    {
     "data": {
      "text/latex": [
       "$\\displaystyle x^{3} + 15 x^{2} = 3 x - 10$"
      ],
      "text/plain": [
       " 3       2           \n",
       "x  + 15⋅x  = 3⋅x - 10"
      ]
     },
     "metadata": {},
     "output_type": "display_data"
    },
    {
     "data": {
      "text/latex": [
       "$\\displaystyle \\left[ -5 - \\frac{78}{\\left(- \\frac{1}{2} - \\frac{\\sqrt{3} i}{2}\\right) \\sqrt[3]{\\frac{27 \\sqrt{5321}}{2} + \\frac{7425}{2}}} - \\frac{\\left(- \\frac{1}{2} - \\frac{\\sqrt{3} i}{2}\\right) \\sqrt[3]{\\frac{27 \\sqrt{5321}}{2} + \\frac{7425}{2}}}{3}, \\  -5 - \\frac{\\left(- \\frac{1}{2} + \\frac{\\sqrt{3} i}{2}\\right) \\sqrt[3]{\\frac{27 \\sqrt{5321}}{2} + \\frac{7425}{2}}}{3} - \\frac{78}{\\left(- \\frac{1}{2} + \\frac{\\sqrt{3} i}{2}\\right) \\sqrt[3]{\\frac{27 \\sqrt{5321}}{2} + \\frac{7425}{2}}}, \\  - \\frac{\\sqrt[3]{\\frac{27 \\sqrt{5321}}{2} + \\frac{7425}{2}}}{3} - 5 - \\frac{78}{\\sqrt[3]{\\frac{27 \\sqrt{5321}}{2} + \\frac{7425}{2}}}\\right]$"
      ],
      "text/plain": [
       "⎡                                                           _________________ \n",
       "⎢                                          ⎛  1   √3⋅ⅈ⎞    ╱ 27⋅√5321   7425  \n",
       "⎢                                          ⎜- ─ - ────⎟⋅3 ╱  ──────── + ────  \n",
       "⎢                     78                   ⎝  2    2  ⎠ ╲╱      2        2    \n",
       "⎢-5 - ────────────────────────────────── - ──────────────────────────────────,\n",
       "⎢                      _________________                   3                  \n",
       "⎢     ⎛  1   √3⋅ⅈ⎞    ╱ 27⋅√5321   7425                                       \n",
       "⎢     ⎜- ─ - ────⎟⋅3 ╱  ──────── + ────                                       \n",
       "⎣     ⎝  2    2  ⎠ ╲╱      2        2                                         \n",
       "\n",
       "                       _________________                                      \n",
       "      ⎛  1   √3⋅ⅈ⎞    ╱ 27⋅√5321   7425                                       \n",
       "      ⎜- ─ + ────⎟⋅3 ╱  ──────── + ────                                       \n",
       "      ⎝  2    2  ⎠ ╲╱      2        2                      78                 \n",
       " -5 - ────────────────────────────────── - ──────────────────────────────────,\n",
       "                      3                                     _________________ \n",
       "                                           ⎛  1   √3⋅ⅈ⎞    ╱ 27⋅√5321   7425  \n",
       "                                           ⎜- ─ + ────⎟⋅3 ╱  ──────── + ────  \n",
       "                                           ⎝  2    2  ⎠ ╲╱      2        2    \n",
       "\n",
       "       _________________                            ⎤\n",
       "      ╱ 27⋅√5321   7425                             ⎥\n",
       "   3 ╱  ──────── + ────                             ⎥\n",
       "   ╲╱      2        2                    78         ⎥\n",
       " - ───────────────────── - 5 - ─────────────────────⎥\n",
       "             3                     _________________⎥\n",
       "                                  ╱ 27⋅√5321   7425 ⎥\n",
       "                               3 ╱  ──────── + ──── ⎥\n",
       "                               ╲╱      2        2   ⎦"
      ]
     },
     "execution_count": 38,
     "metadata": {},
     "output_type": "execute_result"
    }
   ],
   "source": [
    "##\n",
    "y=sp.Eq(x**3+15*x**2,3*x-10)\n",
    "display(y)\n",
    "z=sp.solve(y,x)\n",
    "z\n",
    "##"
   ]
  },
  {
   "cell_type": "code",
   "execution_count": 38,
   "metadata": {},
   "outputs": [
    {
     "name": "stdout",
     "output_type": "stream",
     "text": [
      "0.119953874110975 + 0.801113611837881*I\n",
      "0.119953874110975 - 0.801113611837881*I\n",
      "-15.2399077482219\n",
      "0.119953874110975 + 0.801113611837881*I\n",
      "0.119953874110975 - 0.801113611837881*I\n",
      "-15.2399077482219\n"
     ]
    }
   ],
   "source": [
    "print(z[0].evalf())\n",
    "print(z[1].evalf())\n",
    "print(z[2].evalf())\n",
    "for w in z:\n",
    "    print(w.evalf())"
   ]
  },
  {
   "cell_type": "markdown",
   "metadata": {},
   "source": [
    "### part b 一元二次方程式\n",
    "\n",
    "$$ ax^2+bx+c=0 $$\n",
    "\n",
    "执行以后得出的结果为\n",
    "\n",
    "$$ \\frac {-b + \\sqrt{-4*a*c + b^2}}{2*a} $$\n",
    "\n",
    "$$ \\frac {-b - \\sqrt{-4*a*c + b^2}}{2*a} $$\n",
    "\n",
    "\n",
    "咱们知道根与系数的关系二次方程会有两个解，这里的格式就是一个列表。转为咱们常见的数学公式即为：\n",
    "\n"
   ]
  },
  {
   "cell_type": "code",
   "execution_count": 43,
   "metadata": {},
   "outputs": [
    {
     "name": "stdout",
     "output_type": "stream",
     "text": [
      "一元二次方程式,默認右邊式子為0\n"
     ]
    },
    {
     "data": {
      "text/latex": [
       "$\\displaystyle x^{2} + 3 x - 4$"
      ],
      "text/plain": [
       " 2          \n",
       "x  + 3⋅x - 4"
      ]
     },
     "metadata": {},
     "output_type": "display_data"
    },
    {
     "data": {
      "text/latex": [
       "$\\displaystyle \\left[ -4, \\  1\\right]$"
      ],
      "text/plain": [
       "[-4, 1]"
      ]
     },
     "metadata": {},
     "output_type": "display_data"
    },
    {
     "name": "stdout",
     "output_type": "stream",
     "text": [
      "-------------\n"
     ]
    },
    {
     "data": {
      "text/latex": [
       "$\\displaystyle x^{2} + 3 x = 4$"
      ],
      "text/plain": [
       " 2          \n",
       "x  + 3⋅x = 4"
      ]
     },
     "metadata": {},
     "output_type": "display_data"
    },
    {
     "data": {
      "text/latex": [
       "$\\displaystyle \\left[ -4, \\  1\\right]$"
      ],
      "text/plain": [
       "[-4, 1]"
      ]
     },
     "metadata": {},
     "output_type": "display_data"
    }
   ],
   "source": [
    "x,y,z=sp.symbols('x,y,z')\n",
    "print(\"一元二次方程式,默認右邊式子為0\")\n",
    "fx=x**2 + 3*x -4 \n",
    "display(fx)\n",
    "display(sp.solve(fx))  # [-4,1] 默認右邊式子為0\n",
    "\n",
    "print(\"-------------\")\n",
    "fx=sp.Eq(x**2 + 3*x, 4)\n",
    "display(fx)\n",
    "display(sp.solve(fx))\n"
   ]
  },
  {
   "cell_type": "markdown",
   "metadata": {},
   "source": [
    "### part c 方程組\n"
   ]
  },
  {
   "cell_type": "code",
   "execution_count": 44,
   "metadata": {},
   "outputs": [
    {
     "data": {
      "text/latex": [
       "$\\displaystyle \\left[ x + y + z = 0, \\  2 x - y - z = 10, \\  y + 2 z = 5\\right]$"
      ],
      "text/plain": [
       "[x + y + z = 0, 2⋅x - y - z = 10, y + 2⋅z = 5]"
      ]
     },
     "metadata": {},
     "output_type": "display_data"
    },
    {
     "data": {
      "text/latex": [
       "$\\displaystyle \\left\\{ x : \\frac{10}{3}, \\  y : - \\frac{35}{3}, \\  z : \\frac{25}{3}\\right\\}$"
      ],
      "text/plain": [
       "{x: 10/3, y: -35/3, z: 25/3}"
      ]
     },
     "metadata": {},
     "output_type": "display_data"
    }
   ],
   "source": [
    "eq1=sp.Eq(x+y+z,0)\n",
    "eq2=sp.Eq(2*x-y-z,10)\n",
    "eq3=sp.Eq(y+2*z,5)\n",
    "display([eq1,eq2,eq3])\n",
    "display(sp.solve([eq1,eq2,eq3],[x,y,z]))   #dsp.solve([eq1,eq2,eq3],x,y,z)"
   ]
  },
  {
   "cell_type": "markdown",
   "metadata": {},
   "source": [
    "### part d 不等式Solving inequalities\n",
    "\n",
    "solve_univariate_inequality(x**2>4,x) \n",
    "\n",
    "\n"
   ]
  },
  {
   "cell_type": "code",
   "execution_count": null,
   "metadata": {},
   "outputs": [],
   "source": [
    "from sympy.solvers.inequalities import solve_univariate_inequality\n",
    "x = sp.Symbol('x')\n",
    "solve_univariate_inequality(x**2 > 4, x)"
   ]
  },
  {
   "cell_type": "markdown",
   "metadata": {},
   "source": [
    "### part e 不等式組\n",
    "\n",
    "reduce_rational_inequalities([[x > 2,x > 5]],x) \n",
    "\n",
    "(x > 2) & (x > 5) ;   \n",
    "\n",
    "& 表示 and ; | 表示 or\n"
   ]
  },
  {
   "cell_type": "code",
   "execution_count": null,
   "metadata": {},
   "outputs": [],
   "source": [
    "from sympy.solvers.inequalities import reduce_rational_inequalities\n",
    "x = sp.Symbol('x')\n",
    "reduce_rational_inequalities([[x > 2,x > 5]],x) \n"
   ]
  },
  {
   "cell_type": "markdown",
   "metadata": {},
   "source": [
    "### 結束:\n",
    "參考:\n",
    "\n",
    "https://docs.sympy.org/latest/index.html\n",
    "\n",
    "https://www.sympygamma.com/\n",
    "\n",
    "附帶scipy比較:\n",
    "\n",
    "Solve the system of three equations in three unknowns symbolically:\n",
    "```\n",
    "x+y+z=0\n",
    "2x-y-z=10\n",
    "y+2z=5\n",
    "```\n",
    "Compare the result to the answer computed with fsolve from scipy.optimize.\n",
    "\n"
   ]
  },
  {
   "cell_type": "code",
   "execution_count": null,
   "metadata": {},
   "outputs": [],
   "source": [
    "##\n",
    "x,y,z=sp.symbols('x,y,z')\n",
    "eq1=sp.Eq(x+y+z,0)\n",
    "eq2=sp.Eq(2*x-y-z,10)\n",
    "eq3=sp.Eq(y+2*z,5)\n",
    "display(eq1)\n",
    "display(eq2)\n",
    "display(eq3)\n",
    "sp.solve([eq1,eq2,eq3],[x,y,z])"
   ]
  },
  {
   "cell_type": "code",
   "execution_count": null,
   "metadata": {},
   "outputs": [],
   "source": [
    "from scipy.optimize import fsolve\n",
    "def f(w):\n",
    "    x=w[0]\n",
    "    y=w[1]\n",
    "    z=w[2]\n",
    "    f1=x+y+z\n",
    "    f2=2*x-y-z-10\n",
    "    f3=y+2*z-5\n",
    "    return [f1,f2,f3]\n",
    "result=fsolve(f,[0,0,0])\n",
    "print(result)\n"
   ]
  },
  {
   "cell_type": "markdown",
   "metadata": {},
   "source": [
    "## 第4節: 概率及亂數\n",
    "\n",
    "Let's roll two dice, X and Y, with six faces each"
   ]
  },
  {
   "cell_type": "code",
   "execution_count": 42,
   "metadata": {},
   "outputs": [],
   "source": [
    "import sympy as sp \n",
    "from sympy.stats import *\n",
    "sp.init_printing()\n",
    "#Let's roll two dice, X and Y, with six faces each\n",
    "X, Y = Die('X', 6), Die('Y', 6)"
   ]
  },
  {
   "cell_type": "code",
   "execution_count": null,
   "metadata": {},
   "outputs": [],
   "source": [
    "P(sp.Eq(X, 3))"
   ]
  },
  {
   "cell_type": "code",
   "execution_count": null,
   "metadata": {},
   "outputs": [],
   "source": [
    "P(X > Y)"
   ]
  },
  {
   "cell_type": "code",
   "execution_count": null,
   "metadata": {},
   "outputs": [],
   "source": [
    "P(X + Y > 6, X < 5)"
   ]
  },
  {
   "cell_type": "markdown",
   "metadata": {},
   "source": [
    "## 第5節: 真值表"
   ]
  },
  {
   "cell_type": "code",
   "execution_count": null,
   "metadata": {},
   "outputs": [],
   "source": [
    "x,y,x=sp.symbols('x,y,z')\n",
    "P = x & (y | ~z)\n",
    "P"
   ]
  },
  {
   "cell_type": "code",
   "execution_count": null,
   "metadata": {},
   "outputs": [],
   "source": [
    "P.subs({x: True, y: False, z: True})"
   ]
  },
  {
   "cell_type": "markdown",
   "metadata": {},
   "source": [
    "附加:真值表\n",
    "\n",
    "|x|y|z|??|\n",
    "|--|--|--|--|\n",
    "|T|T|T| * |\n",
    "|T|T|F| * |\n",
    "|T|F|T| T |\n",
    "|T|F|F| T |\n",
    "|f|T|T| F |\n",
    "|f|T|f| f |\n",
    "|f|f|T| F |\n",
    "|fT|f|f| T |\n",
    "\n",
    "\n",
    "1.  Let's write down all combinations that we want to evaluate to True, and those for which the outcome does not matter:\n",
    "```\n",
    "minterms = [[1, 0, 1], [1, 0, 0], [0, 0, 0]]\n",
    "dontcare = [[1, 1, 1], [1, 1, 0]]\n",
    "```\n",
    "2.  Now, we use the SOPform() function to derive an adequate formula:\n",
    "```\n",
    "Q = SOPform(['x', 'y', 'z'], minterms, dontcare)\n",
    "Q\n",
    "```\n",
    "3.\n",
    "```\n",
    "Q.subs({x: True, y: False, z: False}), Q.subs(\n",
    "    {x: False, y: True, z: True})\n",
    "```"
   ]
  },
  {
   "cell_type": "markdown",
   "metadata": {},
   "source": [
    "## 第5節: diff 微分, integrate積分\n",
    "### part a : limit diff integrate\n"
   ]
  },
  {
   "cell_type": "code",
   "execution_count": null,
   "metadata": {},
   "outputs": [],
   "source": [
    "x, y, z = sp.symbols('x y z')\n",
    "expr = sp.sin(x)/x\n",
    "display(expr)\n",
    "l_expr=sp.limit(expr, x, 0)\n",
    "display(l_expr)"
   ]
  },
  {
   "cell_type": "code",
   "execution_count": null,
   "metadata": {},
   "outputs": [],
   "source": [
    "#可使用diff(表达式,变量,求导的次数)函数对表达式求导\n",
    "#求导，以及求导两次，代码以下：\n",
    "#导一次的结果就是exp(x)*sin(x) + exp(x)*cos(x)，也就是\n",
    "#导两次的结果是2*exp(x)*cos(x)，也就是\n",
    "x,y = sp.symbols('x y')\n",
    "expr=sp.sin(x)*sp.exp(x)\n",
    "display(expr)\n",
    "diff_expr=diff(expr, x)\n",
    "diff_expr2=diff(expr,x,2)\n",
    "display(diff_expr)\n",
    "display(diff_expr2)"
   ]
  },
  {
   "cell_type": "code",
   "execution_count": null,
   "metadata": {},
   "outputs": [],
   "source": [
    "#求不定积分\n",
    "#Sympy是使用integrate(表达式,变量)来求不定积分的，好比咱们要求\n",
    "\n",
    "from sympy import *\n",
    "x,y = symbols('x y')\n",
    "expr=exp(x)*sin(x) + exp(x)*cos(x)\n",
    "i_expr=integrate(expr,x)\n",
    "print(i_expr)\n",
    "\n",
    "#执行以后的结果为：exp(x)*sin(x) 转化以后为："
   ]
  },
  {
   "cell_type": "code",
   "execution_count": null,
   "metadata": {},
   "outputs": [],
   "source": [
    "#求定积分\n",
    "#Sympy一样是使用integrate()函数来作定积分的求解，只是语法不一样：integrate(表达式,(变量,下区间,上区间))，咱们来看若是求解\n",
    "from sympy import *\n",
    "x,y = symbols('x y')\n",
    "expr=sin(x**2)\n",
    "i_expr=integrate(expr, (x, -oo, oo))\n",
    "print(i_expr)\n",
    "#执行以后的结果为sqrt(2)*sqrt(pi)/2"
   ]
  },
  {
   "cell_type": "markdown",
   "metadata": {},
   "source": [
    "\n",
    "### part b\n",
    "Compute the symbolic derivative:  $\\frac{d}{dx} sin^2(x) e^{2x}$\n",
    "    \n",
    "\n",
    "Then evalute the resulting expression for x=3.3"
   ]
  },
  {
   "cell_type": "code",
   "execution_count": null,
   "metadata": {},
   "outputs": [],
   "source": [
    "y=(sp.sin(x))**2 * sp.exp(2*x)\n",
    "z=sp.diff(y,x)\n",
    "display(z)\n",
    "z.subs({x:3.2})\n",
    "z.subs(x,3.2)"
   ]
  },
  {
   "cell_type": "markdown",
   "metadata": {},
   "source": [
    "### part c\n",
    "Create a sympy expression representing the following integral:\n",
    "\n",
    "  integral(0..5) $x^2 sin(x^2) dx$\n",
    "  $$ \\int_{0}^{5} x^2 sin(x^2) \\,dx .$$\n",
    "    \n",
    "Then evaluate the integral symbolically.\n",
    "    "
   ]
  },
  {
   "cell_type": "code",
   "execution_count": null,
   "metadata": {},
   "outputs": [],
   "source": [
    "f=x**2 * sp.sin(x**2)\n",
    "g=sp.integrate(f,(x,0,5))\n",
    "print(g)\n",
    "sp.pprint(g)\n",
    "g.evalf()\n",
    "g\n"
   ]
  },
  {
   "cell_type": "markdown",
   "metadata": {},
   "source": [
    "### Part d\n",
    "Solve the following differential equation symbolically using the dsolve function: $$\\frac{df(x)}{dx} = x \\cos(x) .$$"
   ]
  },
  {
   "cell_type": "code",
   "execution_count": null,
   "metadata": {},
   "outputs": [],
   "source": [
    "f=sp.Function('f')\n",
    "y=sp.dsolve(sp.Derivative(f(x),x)-x*sp.cos(x),f(x))\n",
    "print(y)\n",
    "z=sp.integrate(x* sp.cos(x))\n",
    "z"
   ]
  },
  {
   "cell_type": "markdown",
   "metadata": {},
   "source": [
    "## 第6節 矩陣\n",
    "### Part a\n",
    "```\n",
    "For the system Ax=b with\n",
    "A=\n",
    "\n",
    "⎡1   2  5⎤\n",
    "⎢        ⎥\n",
    "⎢3   4  6⎥\n",
    "⎢        ⎥\n",
    "⎣-1  0  3⎦\n",
    "b=\n",
    "⎡1 ⎤\n",
    "⎢  ⎥\n",
    "⎢0 ⎥\n",
    "⎢  ⎥\n",
    "⎣-2⎦\n",
    "\n",
    "Setup the matrices A and b\n",
    "```\n"
   ]
  },
  {
   "cell_type": "code",
   "execution_count": null,
   "metadata": {},
   "outputs": [],
   "source": [
    "A=sp.Matrix([[1,2,5],[3,4,6,],[-1,0,3]])\n",
    "b=sp.Matrix([1,0,-2])\n",
    "sp.pprint(A)\n",
    "sp.pprint(b)"
   ]
  },
  {
   "cell_type": "markdown",
   "metadata": {},
   "source": [
    "### Part b\n",
    "For the system in Part a, solve for matrix x by matrix algebra."
   ]
  },
  {
   "cell_type": "code",
   "execution_count": null,
   "metadata": {},
   "outputs": [],
   "source": [
    "sp.pprint(A.inv()*b)\n",
    "sp.pprint(A.LUsolve(b))\n"
   ]
  },
  {
   "cell_type": "markdown",
   "metadata": {},
   "source": [
    "### Part c\n",
    "For matrix A above, return the middle row, and the middle column."
   ]
  },
  {
   "cell_type": "code",
   "execution_count": null,
   "metadata": {},
   "outputs": [],
   "source": [
    "sp.pprint(A)\n",
    "sp.pprint(A[1:2,:])\n",
    "sp.pprint(A[:,1:2])\n",
    "sp.pprint(A[:,1:3])\n",
    "sp.pprint(A[:,1:])\n",
    "sp.pprint(A[:,0:-1])"
   ]
  },
  {
   "cell_type": "markdown",
   "metadata": {},
   "source": [
    "### part d 2x2 Matrix\n",
    "- A 的 A^-1 inverse\n",
    "\n",
    "\n",
    "A [[a, b],\n",
    "  [c, d]]\n",
    " \n",
    "A 的 inverse A^1  , A  * A^-1 = I\n",
    "\n",
    "A^1=\n",
    " 1/(ab-cd)\n",
    " *\n",
    " [ [d,-b],\n",
    "   [-c,a]]\n",
    "   \n",
    "- A * A^-1 = I\n",
    " \n",
    " \n",
    " \n",
    " "
   ]
  },
  {
   "cell_type": "code",
   "execution_count": null,
   "metadata": {},
   "outputs": [],
   "source": [
    "a=4;b=7;c=2;d=6\n",
    "A=sp.Matrix([[a, b],[c,d]])\n",
    "display(A)\n",
    "display(sp.S(1)/(a*d-b*c))\n",
    "A1=sp.Matrix([[d, -b],[-c,a]])\n",
    "display(A1)\n",
    "display(A.inv())\n",
    "display(A.inv()*A)"
   ]
  },
  {
   "cell_type": "markdown",
   "metadata": {},
   "source": [
    "### A Real Life Example: Bus and Train\n",
    "\n",
    "https://www.mathsisfun.com/algebra/matrix-inverse.html\n",
    "\n",
    "一組人坐巴士 小童 3 元 ,大人 3.20 元,共用了118.40元\n",
    "\n",
    "一組人坐火車 小童 3.5 元 ,大人 3.60 元,共用了135.20元\n",
    " \n",
    "X =\n",
    "\n",
    "[小童人數 , 大人人數 ] \n",
    "\n",
    "A =\n",
    "\n",
    "|   |巴士 |火車 |       \n",
    "|---|----|-----|\n",
    "|小童|3   | 3.5  |\n",
    "|大人|3.2 | 3.6  |\n",
    "\n",
    "B 車資\n",
    "\n",
    "|巴士  |火車|\n",
    "|------|------|\n",
    "|118.4 | 135.2|\n",
    "\n",
    "[X1,X2]A=B\n",
    "\n",
    "X=BA^1 \n",
    "\n",
    "\n",
    "\n",
    "\n",
    "\n"
   ]
  },
  {
   "cell_type": "code",
   "execution_count": null,
   "metadata": {},
   "outputs": [],
   "source": [
    "a=3;b=3.5;c=3.2;d=3.6\n",
    "A=sp.Matrix([[a, b],[c,d]])\n",
    "\n",
    "display(A)\n",
    "display(sp.S(1)/(a*d-b*c))\n",
    "A1=sp.Matrix([[d, -b],[-c,a]])\n",
    "display(A1)\n",
    "\n",
    "display(A.inv())\n",
    "B=sp.Matrix([[118.4,135.2]])\n",
    "display(B)\n",
    "display(B*A.inv())"
   ]
  },
  {
   "cell_type": "markdown",
   "metadata": {},
   "source": [
    "Order is Important:\n",
    "\n",
    "A\n",
    "\n",
    "|   |小 |大 |\n",
    "|---|---|---|\n",
    "|巴 |3   |3.2 |\n",
    "|火 |3.5   |3.6   |\n",
    "\n",
    "B\n",
    "\n",
    "|   |車資 |\n",
    "|---|----|\n",
    "|巴 |118.4|\n",
    "|火 |135.2|\n",
    "\n",
    "\n",
    "AX=B\n",
    "\n",
    "[[X1],\n",
    "\n",
    "[x2]]\n",
    "\n",
    "A^-1 * A X= A-1 B\n",
    " \n",
    "IX= A^-1 B"
   ]
  },
  {
   "cell_type": "code",
   "execution_count": null,
   "metadata": {},
   "outputs": [],
   "source": [
    "a=3;b=3.2;c=3.5;d=3.6\n",
    "A=sp.Matrix([[a, b],[c,d]])\n",
    "display(A)\n",
    "display(sp.S(1)/(a*d-b*c))\n",
    "A1=sp.Matrix([[d, -b],[-c,a]])\n",
    "display(A1)\n",
    "\n",
    "display(A.inv())\n",
    "B=sp.Matrix([[118.4],[135.2]])\n",
    "display(B)\n",
    "display(A.inv() * B)"
   ]
  },
  {
   "cell_type": "markdown",
   "metadata": {},
   "source": [
    "### part e\n",
    "\n",
    "Create a matrix M using the zeros function that has 2 rows and 2 columns. Fill in some values using array notation(like M[i,j]=value).\n"
   ]
  },
  {
   "cell_type": "code",
   "execution_count": null,
   "metadata": {},
   "outputs": [],
   "source": [
    "M=sp.zeros(2,2)\n",
    "M[0,0]=1\n",
    "M[1,1]=3\n",
    "M[1,0]=x**2\n",
    "sp.pprint(M)\n",
    "sp.pprint(M.inv())"
   ]
  },
  {
   "cell_type": "markdown",
   "metadata": {},
   "source": [
    "### Part c\n",
    "For matrix A above, return the middle row, and the middle column."
   ]
  }
 ],
 "metadata": {
  "kernelspec": {
   "display_name": "Python 3",
   "language": "python",
   "name": "python3"
  },
  "language_info": {
   "codemirror_mode": {
    "name": "ipython",
    "version": 3
   },
   "file_extension": ".py",
   "mimetype": "text/x-python",
   "name": "python",
   "nbconvert_exporter": "python",
   "pygments_lexer": "ipython3",
   "version": "3.9.9"
  }
 },
 "nbformat": 4,
 "nbformat_minor": 4
}

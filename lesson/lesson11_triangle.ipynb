{
 "cells": [
  {
   "cell_type": "markdown",
   "id": "saved-gregory",
   "metadata": {},
   "source": [
    "# 電腦數學符號運算"
   ]
  },
  {
   "cell_type": "markdown",
   "id": "deluxe-telescope",
   "metadata": {},
   "source": [
    "## 第3節. 解直角三角形實作\n",
    "\n",
    "Adjacent 邻近的  \n",
    "Opposite 对面的   \n",
    "Hypotenuse 斜边的     \n",
    "\n",
    "sin theta = opp/hyp  \n",
    "cos theta = adj/hyp  \n",
    "tan theta = opp/adj    \n",
    "\n",
    "程式一   \n",
    "例：【项目】 解直角三角形   \n",
    "角 A B C   \n",
    "邊 a b c random number  \n",
    "\n",
    "题型1：正弦,餘弦,正切,餘切的特殊銳角的三角函數值    \n",
    "例题\t答案式样\t数型及范围\t评分标准\t时限  \n",
    "1. sin(A) = a/c\n",
    "2. cose(B) =\n",
    "\t\t  \n",
    "命题方式参考\t所有三角函數的角必為   \n",
    "degree (0,30,45,60,90)   \n",
    "print(sy.sin(sy.pi/6))得到  1/2  \n",
    "\n",
    "$\\alpha$  \\alpha    $A$\t A   \n",
    "$\\beta$\t\\beta   $B$\tB   \n",
    "$\\gamma$\t\\gammma  $\\Gamma$\t\\Gamma  \n",
    "$\\pi$\t\\pi   $\\Pi$\t\\Pi  \n",
    "$\\phi$\t\\phi  $\\Phi$\t\\Phi   \n",
    "$\\varphi$\t\\varphi  \n",
    "$\\theta$\t\\theta  "
   ]
  },
  {
   "cell_type": "markdown",
   "id": "accepted-antibody",
   "metadata": {},
   "source": [
    "[sin-cos-and-tan](https://revisionmaths.com/gcse-maths-revision/trigonometry/sin-cos-and-tan)\n",
    "\n",
    "[Sine And Cosine Rule](http://www.bat400.com/step-up/sect4/index.htm)     \n",
    "\n",
    "[Sine, Cosine and Tangent](https://www.mathsisfun.com/sine-cosine-tangent.html)   \n",
    "\n",
    "\n",
    "![](http://mail.mbc.edu.mo/mathsymImg/MATHS_2_2_trigonometricratios.png)\n",
    "\n",
    "\n"
   ]
  },
  {
   "cell_type": "markdown",
   "id": "sized-coral",
   "metadata": {},
   "source": [
    "## Example Code"
   ]
  },
  {
   "cell_type": "code",
   "execution_count": null,
   "id": "contemporary-arrest",
   "metadata": {},
   "outputs": [],
   "source": [
    "# Perquisites\n",
    "import datetime\n",
    "import numpy as np\n",
    "import scipy as scp\n",
    "import sympy as sp\n",
    "import random\n",
    "import math\n",
    "import matplotlib.pyplot as plt\n",
    "from IPython.display import Latex,HTML,Markdown                 #網頁顯示數學符號\n",
    "from matplotlib.figure import Figure\n",
    "def GetKey():\n",
    "    return \"\"\n",
    "def GetTE(Qid, St, Val, Tx=0):\n",
    "    ''' 單條題目記錄: St題目, Val電腦答案, Ans作答,OK檢查1/0, Tip提示'''\n",
    "    TE = {}\n",
    "    #TE[\"Key\"] =r\"%s.%s\"% (datetime.datetime.now().isoformat().replace(\":\",\"_\"),random.random())\n",
    "    TE[\"Id\"] = Qid\n",
    "    TE[\"Tx\"] = Tx\n",
    "    TE[\"St\"] = St\n",
    "    TE[\"Val\"] = Val\n",
    "    TE[\"Ans\"] = \"\"\n",
    "    TE[\"OK\"] = 0\n",
    "    TE[\"Mark\"] = 0\n",
    "    TE[\"Minute\"]= datetime.datetime.now().strftime(\"%M:%S\")   #\"%m-%d-%Y %H:%M:%S\")\n",
    "    TE[\"Tip\"] = \"\"\n",
    "    TE[\"PotImg\"]=None\n",
    "    return TE\n",
    "def Plot_RightTriangle(A,O,H,Path_):\n",
    "    try:\n",
    "        # Triangle 1\n",
    "        a=A.evalf()\n",
    "        o=O.evalf()\n",
    "        h=H.evalf()\n",
    "        x=np.array([0,a,a,0])\n",
    "        y=np.array([0,0,o,0])\n",
    "        # for jupyternote\n",
    "        plt.close('all')\n",
    "        fig1=plt.figure(1)\n",
    "        ax1=fig1.add_subplot(111)\n",
    "        # Figure and Axes for WebSite\n",
    "        #fig1=Figure()\n",
    "        #fig1.set_figheight(3)\n",
    "        #fig1.set_figwidth(3)\n",
    "        #ax1=fig1.subplots()\n",
    "        ax1.axis('square')\n",
    "        ax1.plot(x,y)\n",
    "        # Axes Limits\n",
    "        \n",
    "        ax1.set_xlim([-1,int(a)+2])\n",
    "        ax1.set_ylim([-1,int(o)+2])\n",
    "        ax1.text(0.5,0.25,'θ')\n",
    "        \n",
    "        ax1.text(a-0.5,0.25,'90')\n",
    "        \n",
    "        ax1.text(a-0.25,o-0.35,'γ')\n",
    "        ax1.text(a/2,-0.5,f'a=${sp.latex(A)}$')\n",
    "        ax1.text(a+0.5,o/2,f'b=${sp.latex(O)}$')\n",
    "        #ax1.text(A/2-1,O/2,f'c=${sp.latex(H)}$')\n",
    "        ax1.text(a/2-1,o/2,f'c')\n",
    "        #fig1.savefig(os.getcwd()+\"\\\\static\\\\\"+Path_)\n",
    "        plt.show()\n",
    "        return Path_\n",
    "    except Exception as e:\n",
    "        print(e)\n",
    "        return None\n",
    "\n",
    "def Plot_RightTriangle2(A,O,H,r,Path_):\n",
    "    try:\n",
    "        #plt.close('all')\n",
    "        # Triangle 1\n",
    "        a=A.evalf()\n",
    "        o=O.evalf()\n",
    "        h=H.evalf()\n",
    "        x=np.array([0,a,a,0])\n",
    "        y=np.array([0,0,o,0])\n",
    "        # Figure and Axes\n",
    "        #fig1=Figure()\n",
    "        #fig1.set_figheight(3)\n",
    "        #fig1.set_figwidth(3)\n",
    "        #ax1=fig1.subplots()\n",
    "        \n",
    "        # for jupyternote\n",
    "        plt.close('all')\n",
    "        fig1=plt.figure(1)\n",
    "        ax1=fig1.add_subplot(111)\n",
    "        # end for jupyternote\n",
    "        \n",
    "        ax1.axis('square')\n",
    "        ax1.plot(x,y)\n",
    "        # Axes Limits\n",
    "        ax1.set_xlim([-1,int(a)+2])\n",
    "        ax1.set_ylim([-1,int(o)+2])\n",
    "        \n",
    "        ax1.text(0.5,0.25,'θ')\n",
    "        ax1.text(a-0.5,0.25,'90')\n",
    "        ax1.text(a-0.35,o-0.4,f'γ(${r}^o$)')\n",
    "        ax1.text(a/2,-0.5,f'a=${sp.latex(A)}$')\n",
    "        #ax1.text(A+0.5,O/2,f'b={O}')\n",
    "        ax1.text(a+0.5,o/2,f'b')\n",
    "        #ax1.text(A/2-1,O/2,f'c=${sp.latex(H)}$')\n",
    "        ax1.text(a/2-1,o/2,f'c')\n",
    "        #fig1.savefig(os.getcwd()+\"\\\\static\\\\\"+Path_)\n",
    "        \n",
    "        # for jupyternote\n",
    "        plt.show()\n",
    "        # end for jupyternote\n",
    "        return Path_\n",
    "    except Exception as e:\n",
    "        print(e)\n",
    "        return None\n",
    "        \n",
    "    \n",
    "def Get_PF306_Expr(QN,Tx=-1):\n",
    "    NTE = []\n",
    "    \n",
    "    for Qid in range(0, QN):\n",
    "        x=random.choice([2,3,4,5])\n",
    "        theta = random.choice([30,45,60,37,53])\n",
    "        gamma=90-theta\n",
    "        if theta==30:\n",
    "            A=x*sp.sqrt(3)\n",
    "            O=sp.S(x)\n",
    "            H=sp.S(2*x)\n",
    "        elif theta==45:\n",
    "            A=sp.S(x)\n",
    "            O=sp.S(x)\n",
    "            H=x*sp.sqrt(2)\n",
    "        elif theta==60:\n",
    "            A=sp.S(x)\n",
    "            O=x*sp.sqrt(3)\n",
    "            H=sp.S(2*x)\n",
    "        elif theta==37:\n",
    "            A=sp.S(4*x)\n",
    "            O=sp.S(3*x)\n",
    "            H=sp.S(5*x)\n",
    "        elif theta==53:\n",
    "            A=sp.S(3*x)\n",
    "            O=sp.S(4*x)\n",
    "            H=sp.S(5*x)        \n",
    "        if Tx == 1:\n",
    "            bian_=[\"b\",\"c\"]\n",
    "            bian=random.choice(bian_)\n",
    "            St=[\"設直角三角形:\", r\"a=%s, \\gamma=%s^o, 求 %s  = ?\"%(sp.latex(A),gamma, bian)]\n",
    "            Val = 1\n",
    "            if bian==\"b\":\n",
    "                Val=O\n",
    "            if bian==\"c\":\n",
    "                Val=H\n",
    "            TE = GetTE(Qid, St, Val, Tx)\n",
    "            TE[\"PlotImg\"]=Plot_RightTriangle2(A,O,H,gamma,\"img\"+GetKey()+str(Qid)+\".png\")\n",
    "            NTE.append(TE)\n",
    "            \n",
    "        else:\n",
    "            #A=random.choice([2,3,4,5,7])\n",
    "            #O=random.choice([2,3,4,5,7])\n",
    "            #H=sp.sqrt(A**2+O**2)\n",
    "            angle_=[\"theta\",\"gamma\"]\n",
    "            trig_=[\"sin\",\"cos\",\"tan\"]\n",
    "            trig=random.choice(trig_)\n",
    "            ang=random.choice(angle_)\n",
    "            St=[\"設直角三角形:\", r\"a=%s, b=%s, 求 %s \\%s = ?\"%(A,O, trig,ang)]\n",
    "            Val = 1\n",
    "            if trig==\"sin\":\n",
    "                if ang==\"theta\":             \n",
    "                    Val=O/H\n",
    "                if ang==\"gamma\":             \n",
    "                    Val=A/H\n",
    "            if trig==\"cos\":\n",
    "                if ang==\"theta\":             \n",
    "                    Val=A/H\n",
    "                if ang==\"gamma\":             \n",
    "                    Val=O/H\n",
    "            if trig==\"tan\":\n",
    "                if ang==\"theta\":             \n",
    "                    Val=sp.S(O)/A\n",
    "                if ang==\"gamma\":             \n",
    "                    Val=sp.S(A)/O\n",
    "            \n",
    "            TE = GetTE(Qid, St, Val, Tx)\n",
    "\n",
    "            TE[\"PlotImg\"]=Plot_RightTriangle(A,O,H,\"img\"+GetKey()+str(Qid)+\".png\")\n",
    "            NTE.append(TE)\n",
    "\n",
    "    return NTE\n",
    "\n",
    "Get_PF306_Expr(10,Tx=0)\n",
    "Get_PF306_Expr(10,Tx=1)\n"
   ]
  },
  {
   "cell_type": "markdown",
   "id": "latest-mainland",
   "metadata": {},
   "source": [
    "# Reference"
   ]
  },
  {
   "cell_type": "markdown",
   "id": "correct-mount",
   "metadata": {},
   "source": [
    "[Symbolic Algebra and Geometry Introduction](https://coolum001.github.io/category/sympy.html)    \n",
    "\n",
    "[sympyとmatplotlibで三角形](https://qiita.com/HigashinoSola/items/2ab8894b543e0c55cfa7)"
   ]
  },
  {
   "cell_type": "markdown",
   "id": "auburn-greene",
   "metadata": {
    "toc-hr-collapsed": true
   },
   "source": [
    "## sympyとmatplotlibで三角形の五心やオイラー線，九点円などを図示し，\n",
    "[linke](https://qiita.com/HigashinoSola/items/2ab8894b543e0c55cfa7)"
   ]
  },
  {
   "cell_type": "code",
   "execution_count": null,
   "id": "posted-grain",
   "metadata": {},
   "outputs": [],
   "source": [
    "from sympy.geometry import Point, Circle, Triangle, Segment, Line\n",
    "import numpy as np\n",
    "import matplotlib.pyplot as plt\n"
   ]
  },
  {
   "cell_type": "code",
   "execution_count": 6,
   "id": "assigned-reply",
   "metadata": {},
   "outputs": [
    {
     "data": {
      "image/png": "[encoded data removed]",
      "text/plain": [
       "<Figure size 432x288 with 2 Axes>"
      ]
     },
     "metadata": {
      "needs_background": "light"
     },
     "output_type": "display_data"
    }
   ],
   "source": [
    "fig = plt.figure() #Figureオブジェクトを生成\n",
    "ax1 = fig.add_subplot(1, 2, 1) # figureを1行2列に分けた時の1番目の座標平面を生成\n",
    "ax2 = fig.add_subplot(1, 2, 2) # figureを1行2列に分けた時の2番目の座標平面を生成\n",
    "plt.show()"
   ]
  },
  {
   "cell_type": "code",
   "execution_count": 7,
   "id": "optimum-burns",
   "metadata": {},
   "outputs": [
    {
     "data": {
      "image/png": "[encoded data removed]",
      "text/plain": [
       "<Figure size 432x288 with 2 Axes>"
      ]
     },
     "metadata": {
      "needs_background": "light"
     },
     "output_type": "display_data"
    }
   ],
   "source": [
    "fig = plt.figure() #Figureオブジェクトを生成\n",
    "ax1 = fig.add_subplot(1, 2, 1) # figureを1行2列に分けた時の1番目の座標平面を生成\n",
    "ax2 = fig.add_subplot(1, 2, 2) # figureを1行2列に分けた時の2番目の座標平面を生成\n",
    "plt.show()"
   ]
  },
  {
   "cell_type": "code",
   "execution_count": 8,
   "id": "ancient-retirement",
   "metadata": {},
   "outputs": [
    {
     "data": {
      "image/png": "[encoded data removed]",
      "text/plain": [
       "<Figure size 432x288 with 1 Axes>"
      ]
     },
     "metadata": {
      "needs_background": "light"
     },
     "output_type": "display_data"
    }
   ],
   "source": [
    "fig = plt.figure()\n",
    "ax = fig.add_subplot(1, 1, 1)\n",
    "ax.set_xlim(-3, 5) #-3<=x<=5 の範囲に設定\n",
    "ax.set_ylim(-2, 4) #-2<=y<=4 の範囲に設定\n",
    "ax.set_aspect('equal') #目盛りを揃える\n",
    "ax.grid() #グリッドを表示\n",
    "plt.savefig('fig.svg') #figureを画像として保存\n",
    "plt.show()"
   ]
  },
  {
   "cell_type": "code",
   "execution_count": 9,
   "id": "spread-delay",
   "metadata": {},
   "outputs": [
    {
     "data": {
      "image/png": "[encoded data removed]",
      "text/plain": [
       "<Figure size 432x288 with 1 Axes>"
      ]
     },
     "metadata": {
      "needs_background": "light"
     },
     "output_type": "display_data"
    }
   ],
   "source": [
    "fig = plt.figure()\n",
    "ax = fig.add_subplot(1, 1, 1)\n",
    "ax.set_aspect('equal')\n",
    "ax.grid()\n",
    "\n",
    "ax.plot([1, 2, 3], [3, 2, 5]) #(1, 3), (2, 2), (3, 5)を順に結んでできる折れ線\n",
    "\n",
    "plt.show()"
   ]
  },
  {
   "cell_type": "code",
   "execution_count": 10,
   "id": "stupid-title",
   "metadata": {},
   "outputs": [
    {
     "data": {
      "image/png": "[encoded data removed]",
      "text/plain": [
       "<Figure size 432x288 with 1 Axes>"
      ]
     },
     "metadata": {
      "needs_background": "light"
     },
     "output_type": "display_data"
    }
   ],
   "source": [
    "fig = plt.figure()\n",
    "ax = fig.add_subplot(1, 1, 1)\n",
    "ax.set_aspect('equal')\n",
    "ax.grid()\n",
    "\n",
    "p1 = (1, 3)\n",
    "p2 = (2, 2)\n",
    "p3 = (3, 5)\n",
    "\n",
    "ax.plot(*zip(p1, p2, p3)) #p1, p2, p3を結んでできる折れ線\n",
    "plt.show()"
   ]
  },
  {
   "cell_type": "code",
   "execution_count": 11,
   "id": "psychological-receptor",
   "metadata": {},
   "outputs": [
    {
     "name": "stdout",
     "output_type": "stream",
     "text": [
      "6\n",
      "6\n",
      "6\n"
     ]
    }
   ],
   "source": [
    "def mysum(a, b, c):\n",
    "    return a + b + c\n",
    "\n",
    "#以下はすべて同じ結果\n",
    "print(mysum(1, 2, 3))\n",
    "print(mysum(*[1, 2, 3]))\n",
    "print(mysum(*[1, 2], 3))"
   ]
  },
  {
   "cell_type": "code",
   "execution_count": 12,
   "id": "silver-diameter",
   "metadata": {},
   "outputs": [
    {
     "data": {
      "image/png": "[encoded data removed]",
      "text/plain": [
       "<Figure size 432x288 with 1 Axes>"
      ]
     },
     "metadata": {
      "needs_background": "light"
     },
     "output_type": "display_data"
    }
   ],
   "source": [
    "fig = plt.figure()\n",
    "ax = fig.add_subplot(1, 1, 1)\n",
    "ax.set_aspect('equal')\n",
    "ax.grid()\n",
    "\n",
    "p1 = Point(1, 3)\n",
    "p2 = Point(2, 2)\n",
    "p3 = Point(3, 5)\n",
    "ax.plot(*zip(p1, p2, p3)) #p1, p2, p3を結んでできる折れ線\n",
    "\n",
    "plt.show()"
   ]
  },
  {
   "cell_type": "code",
   "execution_count": 13,
   "id": "norman-swedish",
   "metadata": {},
   "outputs": [
    {
     "data": {
      "image/png": "[encoded data removed]",
      "text/plain": [
       "<Figure size 432x288 with 1 Axes>"
      ]
     },
     "metadata": {
      "needs_background": "light"
     },
     "output_type": "display_data"
    }
   ],
   "source": [
    "fig = plt.figure()\n",
    "ax = fig.add_subplot(1, 1, 1)\n",
    "ax.set_aspect('equal')\n",
    "ax.grid()\n",
    "\n",
    "p1 = Point(1, 3)\n",
    "p2 = Point(2, 2)\n",
    "p3 = Point(3, 5)\n",
    "ax.plot(*zip(p1, p2, p3, p1)) #p1, p2, p3を頂点とする三角形\n",
    "\n",
    "plt.show()"
   ]
  },
  {
   "cell_type": "code",
   "execution_count": 14,
   "id": "better-surprise",
   "metadata": {},
   "outputs": [
    {
     "data": {
      "image/png": "[encoded data removed]",
      "text/plain": [
       "<Figure size 432x288 with 1 Axes>"
      ]
     },
     "metadata": {
      "needs_background": "light"
     },
     "output_type": "display_data"
    }
   ],
   "source": [
    "fig = plt.figure()\n",
    "ax = fig.add_subplot(1, 1, 1)\n",
    "ax.set_aspect('equal')\n",
    "ax.grid()\n",
    "\n",
    "p1 = Point(1, 3)\n",
    "p2 = Point(2, 2)\n",
    "p3 = Point(3, 5)\n",
    "ax.plot(*zip(p1, p2, p3, p1), '--') #線を破線に\n",
    "\n",
    "plt.show()"
   ]
  },
  {
   "cell_type": "code",
   "execution_count": 15,
   "id": "rocky-irrigation",
   "metadata": {},
   "outputs": [
    {
     "data": {
      "image/png": "[encoded data removed]",
      "text/plain": [
       "<Figure size 432x288 with 1 Axes>"
      ]
     },
     "metadata": {
      "needs_background": "light"
     },
     "output_type": "display_data"
    }
   ],
   "source": [
    "fig = plt.figure()\n",
    "ax = fig.add_subplot(1, 1, 1)\n",
    "ax.set_aspect('equal')\n",
    "ax.grid()\n",
    "\n",
    "p1 = Point(1, 3)\n",
    "p2 = Point(2, 2)\n",
    "p3 = Point(3, 5)\n",
    "ax.plot(*zip(p1, p2, p3, p1), 'o') #頂点のみを表示\n",
    "\n",
    "plt.show()"
   ]
  },
  {
   "cell_type": "code",
   "execution_count": 16,
   "id": "nearby-correlation",
   "metadata": {},
   "outputs": [
    {
     "data": {
      "image/png": "[encoded data removed]",
      "text/plain": [
       "<Figure size 432x288 with 1 Axes>"
      ]
     },
     "metadata": {
      "needs_background": "light"
     },
     "output_type": "display_data"
    }
   ],
   "source": [
    "fig = plt.figure()\n",
    "ax = fig.add_subplot(1, 1, 1)\n",
    "ax.set_aspect('equal')\n",
    "ax.grid()\n",
    "\n",
    "p1 = Point(1, 3)\n",
    "p2 = Point(2, 2)\n",
    "p3 = Point(3, 5)\n",
    "\n",
    "ax.plot(*zip(p1, p2, p3, p1), 'ro--') #rは赤色の意味\n",
    "\n",
    "plt.show()"
   ]
  },
  {
   "cell_type": "code",
   "execution_count": 17,
   "id": "resident-carol",
   "metadata": {},
   "outputs": [
    {
     "data": {
      "image/png": "[encoded data removed]",
      "text/plain": [
       "<Figure size 432x288 with 1 Axes>"
      ]
     },
     "metadata": {
      "needs_background": "light"
     },
     "output_type": "display_data"
    }
   ],
   "source": [
    "fig = plt.figure()\n",
    "ax = fig.add_subplot(1, 1, 1)\n",
    "ax.set_aspect('equal')\n",
    "ax.grid()\n",
    "\n",
    "p1 = Point(1, 3)\n",
    "p2 = Point(3, 4)\n",
    "ax.plot(*zip(p1, p2))\n",
    "\n",
    "plt.show()"
   ]
  },
  {
   "cell_type": "code",
   "execution_count": 18,
   "id": "medical-magazine",
   "metadata": {},
   "outputs": [
    {
     "data": {
      "image/png": "[encoded data removed]",
      "text/plain": [
       "<Figure size 432x288 with 1 Axes>"
      ]
     },
     "metadata": {
      "needs_background": "light"
     },
     "output_type": "display_data"
    }
   ],
   "source": [
    "fig = plt.figure()\n",
    "ax = fig.add_subplot(1, 1, 1)\n",
    "ax.set_aspect('equal')\n",
    "ax.grid()\n",
    "\n",
    "p1 = Point(1, 3)\n",
    "ax.plot(*zip(p1), 'o')\n",
    "\n",
    "plt.show()"
   ]
  },
  {
   "cell_type": "code",
   "execution_count": 20,
   "id": "secret-irish",
   "metadata": {},
   "outputs": [
    {
     "data": {
      "image/png": "[encoded data removed]",
      "text/plain": [
       "<Figure size 432x288 with 1 Axes>"
      ]
     },
     "metadata": {
      "needs_background": "light"
     },
     "output_type": "display_data"
    }
   ],
   "source": [
    "P = Point(0, 0)\n",
    "Q = Point(2, 1)\n",
    "PQ = Segment(P, Q)\n",
    "fig = plt.figure()\n",
    "ax = fig.add_subplot(1, 1, 1)\n",
    "ax.set_aspect('equal')\n",
    "ax.grid()\n",
    "\n",
    "ax.plot(*zip(*PQ.args))\n",
    "\n",
    "plt.show()"
   ]
  },
  {
   "cell_type": "markdown",
   "id": "designing-newfoundland",
   "metadata": {},
   "source": [
    "## 三角形を図示しよう\n",
    "   sympy.geometryのTriangleで三角形を定義します．引数は3点を与える方法と辺または角を与える方法があります．また面の概念をもつ図形はPatchというクラスに位置付けられており，折れ線とは異なりadd_patch関数で描写します．三角形の描写には，多角形を表すPolygonを使います．引数に頂点の集まりをタプルなどでセットします．"
   ]
  },
  {
   "cell_type": "code",
   "execution_count": 21,
   "id": "spectacular-canyon",
   "metadata": {},
   "outputs": [
    {
     "data": {
      "image/png": "[encoded data removed]",
      "text/plain": [
       "<Figure size 432x288 with 1 Axes>"
      ]
     },
     "metadata": {
      "needs_background": "light"
     },
     "output_type": "display_data"
    }
   ],
   "source": [
    "fig = plt.figure()\n",
    "ax = fig.add_subplot(1, 1, 1)\n",
    "ax.set_aspect('equal')\n",
    "ax.grid()\n",
    "\n",
    "p1 = Point(1, 3)\n",
    "p2 = Point(2, 2)\n",
    "p3 = Point(3, 5)\n",
    "t = Triangle(p1, p2, p3)\n",
    "\n",
    "ax.add_patch(plt.Polygon(t.vertices)) #t.vertices は t の頂点のタプル\n",
    "\n",
    "plt.show()"
   ]
  },
  {
   "cell_type": "code",
   "execution_count": 22,
   "id": "protecting-contrast",
   "metadata": {},
   "outputs": [
    {
     "data": {
      "image/png": "[encoded data removed]",
      "text/plain": [
       "<Figure size 432x288 with 1 Axes>"
      ]
     },
     "metadata": {
      "needs_background": "light"
     },
     "output_type": "display_data"
    }
   ],
   "source": [
    "fig = plt.figure()\n",
    "ax = fig.add_subplot(1, 1, 1)\n",
    "ax.set_xlim(0, 4) #xの範囲を設定\n",
    "ax.set_ylim(1, 6) #yの範囲を設定\n",
    "ax.set_aspect('equal')\n",
    "ax.grid()\n",
    "\n",
    "p1 = Point(1, 3)\n",
    "p2 = Point(2, 2)\n",
    "p3 = Point(3, 5)\n",
    "t = Triangle(p1, p2, p3)\n",
    "\n",
    "ax.add_patch(plt.Polygon(t.vertices)) #t.vertices は t の頂点のタプル\n",
    "\n",
    "plt.show()"
   ]
  },
  {
   "cell_type": "code",
   "execution_count": 23,
   "id": "catholic-steel",
   "metadata": {},
   "outputs": [
    {
     "data": {
      "image/png": "[encoded data removed]",
      "text/plain": [
       "<Figure size 432x288 with 1 Axes>"
      ]
     },
     "metadata": {
      "needs_background": "light"
     },
     "output_type": "display_data"
    }
   ],
   "source": [
    "fig = plt.figure()\n",
    "ax = fig.add_subplot(1, 1, 1)\n",
    "\n",
    "ax.set_aspect('equal')\n",
    "ax.grid()\n",
    "\n",
    "p1 = Point(1, 3)\n",
    "p2 = Point(2, 2)\n",
    "p3 = Point(3, 5)\n",
    "t = Triangle(p1, p2, p3)\n",
    "\n",
    "ax.add_patch(plt.Polygon(t.vertices))\n",
    "ax.plot(*zip(*t.vertices), 'ro') #頂点を赤でプロット\n",
    "\n",
    "plt.show()"
   ]
  },
  {
   "cell_type": "markdown",
   "id": "measured-motivation",
   "metadata": {},
   "source": [
    "### 3辺を指定する方法\n",
    "Triangleには3辺の長さを指定する方法があり，こっちの方が使い勝手が良いです．"
   ]
  },
  {
   "cell_type": "code",
   "execution_count": 24,
   "id": "comparative-siemens",
   "metadata": {},
   "outputs": [
    {
     "data": {
      "image/png": "[encoded data removed]",
      "text/plain": [
       "<Figure size 432x288 with 1 Axes>"
      ]
     },
     "metadata": {
      "needs_background": "light"
     },
     "output_type": "display_data"
    }
   ],
   "source": [
    "fig = plt.figure()\n",
    "ax = fig.add_subplot(1, 1, 1)\n",
    "ax.set_aspect('equal')\n",
    "ax.grid()\n",
    "\n",
    "t = Triangle(sss=(3, 4, 5))\n",
    "\n",
    "ax.add_patch(plt.Polygon(t.vertices))\n",
    "ax.plot(*zip(*t.vertices), 'ro')\n",
    "\n",
    "plt.show()"
   ]
  },
  {
   "cell_type": "markdown",
   "id": "rural-publicity",
   "metadata": {},
   "source": [
    "### 2辺とその挟む角を指定する方法\n",
    "sas引数に辺(side)，角(angle)，辺(side)の順でセットします．"
   ]
  },
  {
   "cell_type": "code",
   "execution_count": 25,
   "id": "excellent-ordinance",
   "metadata": {},
   "outputs": [
    {
     "data": {
      "image/png": "[encoded data removed]",
      "text/plain": [
       "<Figure size 432x288 with 1 Axes>"
      ]
     },
     "metadata": {
      "needs_background": "light"
     },
     "output_type": "display_data"
    }
   ],
   "source": [
    "fig = plt.figure()\n",
    "ax = fig.add_subplot(1, 1, 1)\n",
    "ax.set_aspect('equal')\n",
    "ax.grid()\n",
    "\n",
    "t = Triangle(sas=(4, 60, 2))\n",
    "\n",
    "ax.add_patch(plt.Polygon(t.vertices))\n",
    "ax.plot(*zip(*t.vertices), 'ro')\n",
    "\n",
    "plt.show()"
   ]
  },
  {
   "cell_type": "markdown",
   "id": "affected-sleeping",
   "metadata": {},
   "source": [
    "### 1辺その両端の角を指定する方法\n",
    "asa引数に角(angle)，辺(side)，角(angle)の順でセットします．"
   ]
  },
  {
   "cell_type": "code",
   "execution_count": 26,
   "id": "detailed-basic",
   "metadata": {},
   "outputs": [
    {
     "data": {
      "image/png": "[encoded data removed]",
      "text/plain": [
       "<Figure size 432x288 with 1 Axes>"
      ]
     },
     "metadata": {
      "needs_background": "light"
     },
     "output_type": "display_data"
    }
   ],
   "source": [
    "fig = plt.figure()\n",
    "ax = fig.add_subplot(1, 1, 1)\n",
    "ax.set_aspect('equal')\n",
    "ax.grid()\n",
    "\n",
    "t = Triangle(asa=(45, 3, 60))\n",
    "\n",
    "ax.add_patch(plt.Polygon(t.vertices))\n",
    "ax.plot(*zip(*t.vertices), 'ro')\n",
    "\n",
    "plt.show()\n"
   ]
  },
  {
   "cell_type": "markdown",
   "id": "sixth-fairy",
   "metadata": {},
   "source": [
    "### 三角形を回転させよう"
   ]
  },
  {
   "cell_type": "code",
   "execution_count": 27,
   "id": "separate-government",
   "metadata": {},
   "outputs": [
    {
     "data": {
      "image/png": "[encoded data removed]",
      "text/plain": [
       "<Figure size 432x288 with 1 Axes>"
      ]
     },
     "metadata": {
      "needs_background": "light"
     },
     "output_type": "display_data"
    }
   ],
   "source": [
    "from sympy import pi\n",
    "\n",
    "fig = plt.figure()\n",
    "ax = fig.add_subplot(1, 1, 1)\n",
    "ax.set_aspect('equal')\n",
    "ax.grid()\n",
    "\n",
    "t = Triangle(sss=(5, 6, 7))\n",
    "\n",
    "ax.add_patch(plt.Polygon(t.vertices, fill=False))\n",
    "ax.plot(*zip(*t.vertices), 'ro')\n",
    "\n",
    "plt.show()"
   ]
  },
  {
   "cell_type": "code",
   "execution_count": 28,
   "id": "conscious-theme",
   "metadata": {
    "tags": []
   },
   "outputs": [
    {
     "data": {
      "image/png": "[encoded data removed]",
      "text/plain": [
       "<Figure size 432x288 with 1 Axes>"
      ]
     },
     "metadata": {
      "needs_background": "light"
     },
     "output_type": "display_data"
    }
   ],
   "source": [
    "fig = plt.figure()\n",
    "ax = fig.add_subplot(1, 1, 1)\n",
    "ax.set_aspect('equal')\n",
    "ax.set_axis_off() #軸の非表示\n",
    "\n",
    "t = Triangle(sss=(5, 6, 7))\n",
    "\n",
    "ax.add_patch(plt.Polygon(t.vertices,\n",
    "                         facecolor=\"orange\", #塗り潰しの色\n",
    "                         linewidth=2, #辺の長さ\n",
    "                         edgecolor=\"green\", #辺の色\n",
    "                         alpha=.5 #半透明 0=透明 1=不透明\n",
    "                        ))\n",
    "ax.plot(*zip(*t.vertices), 'ro')\n",
    "\n",
    "plt.show()"
   ]
  },
  {
   "cell_type": "markdown",
   "id": "annoying-franchise",
   "metadata": {},
   "source": [
    "### 変数の設定\n",
    "pythonの命名規則に反するかもしれませんが，数学の伝統にならい，今後，次のような置き方を標準にします"
   ]
  },
  {
   "cell_type": "code",
   "execution_count": 30,
   "id": "geographic-fantasy",
   "metadata": {},
   "outputs": [
    {
     "name": "stdout",
     "output_type": "stream",
     "text": [
      "Segment2D(Point2D(0, 0), Point2D(5, 0)) Segment2D(Point2D(5, 0), Point2D(19/5, 12*sqrt(6)/5)) Segment2D(Point2D(19/5, 12*sqrt(6)/5), Point2D(0, 0))\n",
      "Segment2D(Point2D(0, 0), Point2D(5, 0)) Segment2D(Point2D(5, 0), Point2D(19/5, 12*sqrt(6)/5)) Segment2D(Point2D(19/5, 12*sqrt(6)/5), Point2D(0, 0))\n"
     ]
    }
   ],
   "source": [
    "ABC = Triangle(sss=(5, 6, 7))\n",
    "A, B, C = ABC.vertices #頂点\n",
    "AB, BC, CA = Segment(A, B), Segment(B, C), Segment(C, A) #辺の設定 右辺は ABC.sidesと同等\n",
    "a, b, c = BC.length, CA.length, AB.length #辺の長さ\n",
    "opposides = { #頂点に対する対辺(opposite side)\n",
    "    A: BC,\n",
    "    B: CA,\n",
    "    C: AB\n",
    "}\n",
    "print(AB,BC,CA)\n",
    "print(*ABC.sides)"
   ]
  },
  {
   "cell_type": "markdown",
   "id": "intellectual-civilian",
   "metadata": {},
   "source": [
    "### MidPoint\n",
    "opposideは造語でopposite side（対辺）の略です．頂点 AA の対辺すなわち BCBC を，Aをキーとしてアクセスできるととても便利です．\n",
    "\n",
    "この設定だと，例えば，ABAB の中点は AB.midpoint で得ることができます．よって中点を結んでできる三角形を次のようにして図示することができます．"
   ]
  },
  {
   "cell_type": "code",
   "execution_count": 31,
   "id": "handed-census",
   "metadata": {},
   "outputs": [
    {
     "data": {
      "image/png": "[encoded data removed]",
      "text/plain": [
       "<Figure size 432x288 with 1 Axes>"
      ]
     },
     "metadata": {
      "needs_background": "light"
     },
     "output_type": "display_data"
    }
   ],
   "source": [
    "fig = plt.figure()\n",
    "ax = fig.add_subplot(1, 1, 1)\n",
    "ax.set_aspect('equal')\n",
    "ax.set_axis_off()\n",
    "\n",
    "ax.add_patch(plt.Polygon((A,B,C), fill=False))\n",
    "ax.plot(*zip(A,B,C), 'ro')\n",
    "\n",
    "ax.add_patch(plt.Polygon((BC.midpoint,CA.midpoint,AB.midpoint), fill=False))\n",
    "ax.plot(*zip(BC.midpoint,CA.midpoint,AB.midpoint), 'ro')\n",
    "\n",
    "plt.show()"
   ]
  },
  {
   "cell_type": "markdown",
   "id": "premier-swimming",
   "metadata": {},
   "source": [
    "### 文字列を表示しよう\n",
    "三角形の頂点の脇に A,B,CA,B,C などの文字を置きたくなります．それには，text関数を用います．次の例は，点 (1,2)(1,2) に AA という文字列を配置します．"
   ]
  },
  {
   "cell_type": "code",
   "execution_count": 33,
   "id": "surface-analyst",
   "metadata": {},
   "outputs": [
    {
     "data": {
      "image/png": "[encoded data removed]",
      "text/plain": [
       "<Figure size 432x288 with 1 Axes>"
      ]
     },
     "metadata": {
      "needs_background": "light"
     },
     "output_type": "display_data"
    }
   ],
   "source": [
    "fig = plt.figure()\n",
    "ax = fig.add_subplot(1, 1, 1)\n",
    "ax.set_aspect('equal')\n",
    "ax.grid()\n",
    "ax.text(1, 2, '$\\mathrm{A}$') #x座標，y座標，内容の順（TeX表記可）\n",
    "ax.plot(*zip(Point(1, 2)), 'o')\n",
    "plt.show()"
   ]
  },
  {
   "cell_type": "code",
   "execution_count": 34,
   "id": "capable-jersey",
   "metadata": {},
   "outputs": [
    {
     "data": {
      "image/png": "[encoded data removed]",
      "text/plain": [
       "<Figure size 432x288 with 1 Axes>"
      ]
     },
     "metadata": {
      "needs_background": "light"
     },
     "output_type": "display_data"
    }
   ],
   "source": [
    "fig = plt.figure()\n",
    "ax = fig.add_subplot(1, 1, 1)\n",
    "ax.set_aspect('equal')\n",
    "ax.grid()\n",
    "\n",
    "ax.text(1, 2, '$\\mathrm{A}$', ha='right', va='top')\n",
    "ax.plot(*zip(Point(1, 2)), 'o')\n",
    "plt.show()"
   ]
  },
  {
   "cell_type": "code",
   "execution_count": null,
   "id": "proof-office",
   "metadata": {},
   "outputs": [],
   "source": []
  },
  {
   "cell_type": "code",
   "execution_count": 35,
   "id": "floppy-consequence",
   "metadata": {},
   "outputs": [
    {
     "data": {
      "image/png": "[encoded data removed]",
      "text/plain": [
       "<Figure size 576x576 with 1 Axes>"
      ]
     },
     "metadata": {
      "needs_background": "light"
     },
     "output_type": "display_data"
    }
   ],
   "source": [
    "from itertools import product\n",
    "\n",
    "fig = plt.figure(figsize=(8, 8)) #画像サイズを大きめに\n",
    "ax = fig.add_subplot(1, 1, 1)\n",
    "ax.set_axis_off()\n",
    "ax.set_aspect('equal')\n",
    "ax.set_xlim(-1, 3)\n",
    "ax.set_ylim(0, 13)\n",
    "\n",
    "has = ['left', 'center', 'right']\n",
    "vas = ['top', 'center', 'bottom', 'baseline']\n",
    "\n",
    "for i, (ha, va) in enumerate(product(has, vas)):\n",
    "    ax.plot(*zip([0, 12-i]), 'o')\n",
    "    ax.text(0, 12-i, '$\\mathrm{A}$', ha=ha, va=va)\n",
    "    ax.text(.5, 12-i, \"ha='{ha}', va='{va}'\".format(ha=ha, va=va), va='center')\n",
    "\n",
    "plt.savefig('hava.svg') #ブラウザ上で見にくければ，svg画像をご覧ください．\n",
    "plt.show()"
   ]
  },
  {
   "cell_type": "code",
   "execution_count": 36,
   "id": "laughing-greek",
   "metadata": {},
   "outputs": [
    {
     "data": {
      "image/png": "[encoded data removed]",
      "text/plain": [
       "<Figure size 432x288 with 1 Axes>"
      ]
     },
     "metadata": {
      "needs_background": "light"
     },
     "output_type": "display_data"
    }
   ],
   "source": [
    "fig = plt.figure()\n",
    "ax = fig.add_subplot(1, 1, 1)\n",
    "ax.set_aspect('equal')\n",
    "ax.set_axis_off()\n",
    "\n",
    "ax.add_patch(plt.Polygon((A, B, C), fill=False))\n",
    "ax.plot(*zip(*t.vertices), 'ro')\n",
    "\n",
    "plt.text(*A, '$\\mathrm{A}$', ha='right', va='top')\n",
    "plt.text(*B, '$\\mathrm{B}$', ha='left', va='top')\n",
    "plt.text(*C, '$\\mathrm{C}$', ha='left', va='bottom')\n",
    "\n",
    "plt.show()"
   ]
  },
  {
   "cell_type": "markdown",
   "id": "worse-pizza",
   "metadata": {},
   "source": [
    "### 三角形の五心を図示しよう"
   ]
  },
  {
   "cell_type": "code",
   "execution_count": 1,
   "id": "incorporate-twenty",
   "metadata": {},
   "outputs": [
    {
     "ename": "NameError",
     "evalue": "name 'Triangle' is not defined",
     "output_type": "error",
     "traceback": [
      "\u001b[1;31m---------------------------------------------------------------------------\u001b[0m",
      "\u001b[1;31mNameError\u001b[0m                                 Traceback (most recent call last)",
      "\u001b[1;32m<ipython-input-1-079747f430d9>\u001b[0m in \u001b[0;36m<module>\u001b[1;34m\u001b[0m\n\u001b[1;32m----> 1\u001b[1;33m \u001b[0mABC\u001b[0m \u001b[1;33m=\u001b[0m \u001b[0mTriangle\u001b[0m\u001b[1;33m(\u001b[0m\u001b[0msss\u001b[0m\u001b[1;33m=\u001b[0m\u001b[1;33m(\u001b[0m\u001b[1;36m5\u001b[0m\u001b[1;33m,\u001b[0m \u001b[1;36m6\u001b[0m\u001b[1;33m,\u001b[0m \u001b[1;36m7\u001b[0m\u001b[1;33m)\u001b[0m\u001b[1;33m)\u001b[0m\u001b[1;33m\u001b[0m\u001b[1;33m\u001b[0m\u001b[0m\n\u001b[0m\u001b[0;32m      2\u001b[0m \u001b[0mA\u001b[0m\u001b[1;33m,\u001b[0m \u001b[0mB\u001b[0m\u001b[1;33m,\u001b[0m \u001b[0mC\u001b[0m \u001b[1;33m=\u001b[0m \u001b[0mABC\u001b[0m\u001b[1;33m.\u001b[0m\u001b[0mvertices\u001b[0m \u001b[1;31m#頂点\u001b[0m\u001b[1;33m\u001b[0m\u001b[1;33m\u001b[0m\u001b[0m\n\u001b[0;32m      3\u001b[0m \u001b[0mAB\u001b[0m\u001b[1;33m,\u001b[0m \u001b[0mBC\u001b[0m\u001b[1;33m,\u001b[0m \u001b[0mCA\u001b[0m \u001b[1;33m=\u001b[0m \u001b[0mSegment\u001b[0m\u001b[1;33m(\u001b[0m\u001b[0mA\u001b[0m\u001b[1;33m,\u001b[0m \u001b[0mB\u001b[0m\u001b[1;33m)\u001b[0m\u001b[1;33m,\u001b[0m \u001b[0mSegment\u001b[0m\u001b[1;33m(\u001b[0m\u001b[0mB\u001b[0m\u001b[1;33m,\u001b[0m \u001b[0mC\u001b[0m\u001b[1;33m)\u001b[0m\u001b[1;33m,\u001b[0m \u001b[0mSegment\u001b[0m\u001b[1;33m(\u001b[0m\u001b[0mC\u001b[0m\u001b[1;33m,\u001b[0m \u001b[0mA\u001b[0m\u001b[1;33m)\u001b[0m \u001b[1;31m#辺の設定 右辺は ABC.sidesと同等\u001b[0m\u001b[1;33m\u001b[0m\u001b[1;33m\u001b[0m\u001b[0m\n\u001b[0;32m      4\u001b[0m \u001b[0ma\u001b[0m\u001b[1;33m,\u001b[0m \u001b[0mb\u001b[0m\u001b[1;33m,\u001b[0m \u001b[0mc\u001b[0m \u001b[1;33m=\u001b[0m \u001b[0mBC\u001b[0m\u001b[1;33m.\u001b[0m\u001b[0mlength\u001b[0m\u001b[1;33m,\u001b[0m \u001b[0mCA\u001b[0m\u001b[1;33m.\u001b[0m\u001b[0mlength\u001b[0m\u001b[1;33m,\u001b[0m \u001b[0mAB\u001b[0m\u001b[1;33m.\u001b[0m\u001b[0mlength\u001b[0m \u001b[1;31m#辺の長さ\u001b[0m\u001b[1;33m\u001b[0m\u001b[1;33m\u001b[0m\u001b[0m\n\u001b[0;32m      5\u001b[0m opposides = { #頂点に対する対辺(opposite side)\n",
      "\u001b[1;31mNameError\u001b[0m: name 'Triangle' is not defined"
     ]
    }
   ],
   "source": [
    "ABC = Triangle(sss=(5, 6, 7))\n",
    "A, B, C = ABC.vertices #頂点\n",
    "AB, BC, CA = Segment(A, B), Segment(B, C), Segment(C, A) #辺の設定 右辺は ABC.sidesと同等\n",
    "a, b, c = BC.length, CA.length, AB.length #辺の長さ\n",
    "opposides = { #頂点に対する対辺(opposite side)\n",
    "    A: BC,\n",
    "    B: CA,\n",
    "    C: AB\n",
    "}"
   ]
  },
  {
   "cell_type": "markdown",
   "id": "ancient-assistant",
   "metadata": {},
   "source": [
    "### 重心を図示しよう\n",
    "重心の定義は，中線の交点です．中線とは，頂点とその対辺の中点を結んでできる線分のことです．より具体的にいえば，△ABC△ABC に対して，AA と BCBC の中点を結んでできる線分は中線の一つです．Segmentにはmidpoint属性があります．その名の通り，線分の中点を表します．よってax.plot(*zip(A, BC.midpoint))で中線が引けます．"
   ]
  },
  {
   "cell_type": "code",
   "execution_count": 38,
   "id": "historic-tamil",
   "metadata": {},
   "outputs": [
    {
     "data": {
      "image/png": "[encoded data removed]",
      "text/plain": [
       "<Figure size 432x288 with 1 Axes>"
      ]
     },
     "metadata": {
      "needs_background": "light"
     },
     "output_type": "display_data"
    }
   ],
   "source": [
    "fig = plt.figure()\n",
    "ax = fig.add_subplot(1, 1, 1)\n",
    "ax.set_aspect('equal')\n",
    "ax.set_axis_off()\n",
    "\n",
    "ax.add_patch(plt.Polygon((A, B, C), fill=False))\n",
    "\n",
    "G = ABC.centroid #重心を取得\n",
    "ax.plot(*zip(A, BC.midpoint)) #AとBCの中点を結ぶ\n",
    "ax.plot(*zip(B, CA.midpoint)) #BとCAの中点を結ぶ\n",
    "ax.plot(*zip(C, AB.midpoint)) #CとABの中点を結ぶ\n",
    "ax.plot(*zip(G), 'o') #重心をプロット\n",
    "\n",
    "plt.text(*A, '$\\mathrm{A}$', ha='right', va='top')\n",
    "plt.text(*B, '$\\mathrm{B}$', ha='left', va='top')\n",
    "plt.text(*C, '$\\mathrm{C}$', ha='left', va='bottom')\n",
    "plt.text(*G, '$\\mathrm{G}$', ha='left', va='top')\n",
    "\n",
    "plt.show()"
   ]
  },
  {
   "cell_type": "code",
   "execution_count": 39,
   "id": "pleased-watershed",
   "metadata": {},
   "outputs": [
    {
     "data": {
      "image/png": "[encoded data removed]",
      "text/plain": [
       "<Figure size 432x288 with 1 Axes>"
      ]
     },
     "metadata": {
      "needs_background": "light"
     },
     "output_type": "display_data"
    }
   ],
   "source": [
    "fig = plt.figure()\n",
    "ax = fig.add_subplot(1, 1, 1)\n",
    "ax.set_aspect('equal')\n",
    "ax.set_axis_off()\n",
    "\n",
    "ax.add_patch(plt.Polygon((A, B, C), fill=False))\n",
    "\n",
    "G = ABC.centroid #重心を取得\n",
    "for X in [A, B, C]: #中線のプロット\n",
    "    ax.plot(*zip(X, opposides[X].midpoint), linestyle='--', color='blue', linewidth=1)\n",
    "ax.plot(*zip(G), 'o') #重心をプロット\n",
    "\n",
    "ax.text(*A, '$\\mathrm{A}$', ha='right', va='top')\n",
    "ax.text(*B, '$\\mathrm{B}$', ha='left', va='top')\n",
    "ax.text(*C, '$\\mathrm{C}$', ha='left', va='bottom')\n",
    "ax.text(*G, '$\\mathrm{G}$', ha='left', va='top')\n",
    "\n",
    "plt.show()"
   ]
  },
  {
   "cell_type": "markdown",
   "id": "enclosed-omaha",
   "metadata": {},
   "source": [
    "### 重心の公式\n",
    "ところで，重心をプロットするのに既に出来上がっているプロパティを用いましたが，高校でも習う通り，△ABC△ABC の重心を GG とすると\n",
    "OG−→−=OA−→−+OB−→−+OC−→−3\n",
    "OG→=OA→+OB→+OC→3\n",
    "\n",
    "で表せます．また，Pointオブジェクトはベクトルのように加法や実数倍が可能ですので，G=(A+B+C)/3で重心が簡単に求まります．"
   ]
  },
  {
   "cell_type": "code",
   "execution_count": 41,
   "id": "incredible-gallery",
   "metadata": {},
   "outputs": [
    {
     "data": {
      "text/plain": [
       "True"
      ]
     },
     "execution_count": 41,
     "metadata": {},
     "output_type": "execute_result"
    }
   ],
   "source": [
    "ABC=Triangle(sss=(5,6,7))\n",
    "A, B, C = ABC.vertices\n",
    "G = (A+B+C)/3 #重心を計算\n",
    "G == ABC.centroid"
   ]
  },
  {
   "cell_type": "markdown",
   "id": "cardiac-bundle",
   "metadata": {},
   "source": [
    "### 垂心を図示しよう\n",
    "垂心の定義は，頂点から対辺（またはその延長）へ引いた垂線の交点です．この垂線のことを英語ではaltitudeというそうです（辞書には「高さ」とでます）．Triangleオブジェクトには既にこれら垂線が頂点をキーとする辞書として用意されています．"
   ]
  },
  {
   "cell_type": "code",
   "execution_count": 42,
   "id": "promotional-diana",
   "metadata": {},
   "outputs": [
    {
     "data": {
      "image/png": "[encoded data removed]",
      "text/latex": [
       "$\\displaystyle \\left\\{ Point2D\\left(0, 0\\right) : Segment2D\\left(Point2D\\left(0, 0\\right), Point2D\\left(\\frac{24}{5}, \\frac{2 \\sqrt{6}}{5}\\right)\\right), \\  Point2D\\left(\\frac{19}{5}, \\frac{12 \\sqrt{6}}{5}\\right) : Segment2D\\left(Point2D\\left(\\frac{19}{5}, \\frac{12 \\sqrt{6}}{5}\\right), Point2D\\left(\\frac{19}{5}, 0\\right)\\right), \\  Point2D\\left(5, 0\\right) : Segment2D\\left(Point2D\\left(5, 0\\right), Point2D\\left(\\frac{361}{245}, \\frac{228 \\sqrt{6}}{245}\\right)\\right)\\right\\}$"
      ],
      "text/plain": [
       "{Point2D(0, 0): Segment2D(Point2D(0, 0), Point2D(24/5, 2*sqrt(6)/5)), Point2D(\n",
       "19/5, 12*sqrt(6)/5): Segment2D(Point2D(19/5, 12*sqrt(6)/5), Point2D(19/5, 0)),\n",
       " Point2D(5, 0): Segment2D(Point2D(5, 0), Point2D(361/245, 228*sqrt(6)/245))}"
      ]
     },
     "execution_count": 42,
     "metadata": {},
     "output_type": "execute_result"
    }
   ],
   "source": [
    "alts = ABC.altitudes #垂線の取得\n",
    "alts"
   ]
  },
  {
   "cell_type": "markdown",
   "id": "unlike-batch",
   "metadata": {},
   "source": [
    "alts[A]は頂点 AA からの垂線を表す線分が返ってくるので，さっき説明したax.plot(*zip(*alts[A].args))で垂線が図示できます．"
   ]
  },
  {
   "cell_type": "code",
   "execution_count": 43,
   "id": "opened-footwear",
   "metadata": {},
   "outputs": [
    {
     "data": {
      "image/png": "[encoded data removed]",
      "text/plain": [
       "<Figure size 432x288 with 1 Axes>"
      ]
     },
     "metadata": {
      "needs_background": "light"
     },
     "output_type": "display_data"
    }
   ],
   "source": [
    "fig = plt.figure()\n",
    "ax = fig.add_subplot(1, 1, 1)\n",
    "ax.set_aspect('equal')\n",
    "ax.set_axis_off()\n",
    "ax.add_patch(plt.Polygon((A, B, C), fill=False))\n",
    "\n",
    "H=ABC.orthocenter #垂心の取得\n",
    "alts = ABC.altitudes #垂線の取得\n",
    "for X in [A, B, C]: #垂線のプロット\n",
    "    ax.plot(*zip(*alts[X].args))\n",
    "ax.plot(*zip(H), 'o') #垂心をプロット\n",
    "\n",
    "plt.text(*A, '$\\mathrm{A}$', ha='right', va='top')\n",
    "plt.text(*B, '$\\mathrm{B}$', ha='left', va='top')\n",
    "plt.text(*C, '$\\mathrm{C}$', ha='left', va='bottom')\n",
    "plt.text(*H, '$\\mathrm{H}$', ha='left', va='bottom')\n",
    "\n",
    "plt.show()"
   ]
  },
  {
   "cell_type": "markdown",
   "id": "matched-glenn",
   "metadata": {},
   "source": [
    "線分ではなく直線を図示しよう\n",
    "外心の図示に進む前に，直線のプロットを考えます．数学的に直線とは始点と終点が存在しない無限に伸びた線のことです．そもそもmatplotlibはヒストグラムや散布図など，有限のデータを扱うためのものだと思っているので，無限に長い直線なんてのは本来の用途とは外れる気がするのですが，今回は擬似的に，とても長い線分として直線をプロットすることにします．\n",
    "\n",
    "直線のベクトル方程式\n",
    "今したいのは，異なる2点 P,QP,Q が与えられたときに，線分 PQPQ を延長したとても長い線分をプロットすることです．高校で習った通り，直線 PQPQ のベクトル方程式は\n",
    "OX−→−=OP−→−+tPQ−→−(−∞<t<∞)\n",
    "OX→=OP→+tPQ→(−∞<t<∞)\n",
    "\n",
    "です．tt の範囲をいじれば長さを変えることができます．例えば線分 PQPQ のベクトル方程式は\n",
    "OX−→−=OP−→−+tPQ−→−(0≦t≦1)\n",
    "OX→=OP→+tPQ→(0≦t≦1)\n",
    "\n",
    "です．線分 PQPQ を QQ の方向へ22倍にした線分は\n",
    "OX−→−=OP−→−+tPQ−→−(0≦t≦2)\n",
    "OX→=OP→+tPQ→(0≦t≦2)\n",
    "\n",
    "になります．\n",
    "\n",
    "一般に tm<tMtm<tM なる実数に対して\n",
    "OX−→−=OP−→−+tPQ−→−(tm≦t≦tM)\n",
    "OX→=OP→+tPQ→(tm≦t≦tM)\n",
    "\n",
    "と表せる線分について考えましょう．\n",
    "PQ−→−=OQ−→−−OP−→−\n",
    "PQ→=OQ→−OP→\n",
    "\n",
    "ですから，この線分の始点の位置ベクトルは t=tmt=tm を代入した\n",
    "OP−→−+tm(OQ−→−−OP−→−)\n",
    "OP→+tm(OQ→−OP→)\n",
    "\n",
    "で，終点の位置ベクトルは t=tMt=tM を代入した\n",
    "OP−→−+tM(OQ−→−−OP−→−)\n",
    "OP→+tM(OQ→−OP→)\n",
    "\n",
    "で表せます．これを python で表現すると，始点はp+(q-p)*t_m，終点はp+(q-p)*t_Mとなります．実際に\n",
    "python\n",
    "p = Point(0, 0)\n",
    "q = Point(2, 1)\n",
    "\n",
    "という設定で PQPQ を延長した線分をプロットしてみましょう．次は\n",
    "OX−→−=OP−→−+tPQ−→−(0≦t≦2)\n",
    "OX→=OP→+tPQ→(0≦t≦2)\n",
    "\n",
    "のプロット例です．"
   ]
  },
  {
   "cell_type": "code",
   "execution_count": 44,
   "id": "steady-fifth",
   "metadata": {},
   "outputs": [
    {
     "data": {
      "image/png": "[encoded data removed]",
      "text/plain": [
       "<Figure size 432x288 with 1 Axes>"
      ]
     },
     "metadata": {
      "needs_background": "light"
     },
     "output_type": "display_data"
    }
   ],
   "source": [
    "fig = plt.figure()\n",
    "ax = fig.add_subplot(1, 1, 1)\n",
    "ax.set_aspect('equal')\n",
    "\n",
    "p = Point(0, 0)\n",
    "q = Point(2, 1)\n",
    "\n",
    "t_m = 0\n",
    "t_M = 2\n",
    "\n",
    "start = p+(q-p)*t_m #始点\n",
    "end = p+(q-p)*t_M #終点\n",
    "\n",
    "ax.plot(*zip(p, q), linewidth=4) #線分PQは太く\n",
    "ax.plot(*zip(start, end), linewidth=1)\n",
    "\n",
    "ax.text(*p, '$\\mathrm{P}$', ha='left', va='top')\n",
    "ax.text(*q, '$\\mathrm{Q}$', ha='left', va='top')\n",
    "\n",
    "plt.show()"
   ]
  },
  {
   "cell_type": "markdown",
   "id": "given-julian",
   "metadata": {
    "jupyter": {
     "source_hidden": true
    },
    "tags": []
   },
   "source": [
    "確かに PQPQ を2倍にした線分がプロットされました．次は\n",
    "OX−→−=OP−→−+tPQ−→−(−2≦t≦3)\n",
    "OX→=OP→+tPQ→(−2≦t≦3)\n",
    "\n",
    "を図示してみます．"
   ]
  },
  {
   "cell_type": "code",
   "execution_count": 45,
   "id": "announced-remains",
   "metadata": {},
   "outputs": [
    {
     "data": {
      "image/png": "[encoded data removed]",
      "text/plain": [
       "<Figure size 432x288 with 1 Axes>"
      ]
     },
     "metadata": {
      "needs_background": "light"
     },
     "output_type": "display_data"
    }
   ],
   "source": [
    "fig = plt.figure()\n",
    "ax = fig.add_subplot(1, 1, 1)\n",
    "ax.set_aspect('equal')\n",
    "\n",
    "p = Point(0, 0)\n",
    "q = Point(2, 1)\n",
    "\n",
    "t_m = -2\n",
    "t_M = 3\n",
    "\n",
    "start = p+(q-p)*t_m #始点\n",
    "end = p+(q-p)*t_M #終点\n",
    "\n",
    "ax.plot(*zip(p, q), linewidth=4) #線分PQは太く\n",
    "ax.plot(*zip(start, end), linewidth=1)\n",
    "\n",
    "ax.text(*p, '$\\mathrm{P}$', ha='left', va='top')\n",
    "ax.text(*q, '$\\mathrm{Q}$', ha='left', va='top')\n",
    "\n",
    "plt.show()"
   ]
  },
  {
   "cell_type": "markdown",
   "id": "forbidden-white",
   "metadata": {},
   "source": [
    "程度がよく分かりませんが，t_m=-100，t_M=100とすればほぼ無限に長い直線といえそうです．"
   ]
  },
  {
   "cell_type": "code",
   "execution_count": 46,
   "id": "third-shape",
   "metadata": {},
   "outputs": [
    {
     "data": {
      "image/png": "[encoded data removed]",
      "text/plain": [
       "<Figure size 432x288 with 1 Axes>"
      ]
     },
     "metadata": {
      "needs_background": "light"
     },
     "output_type": "display_data"
    }
   ],
   "source": [
    "fig = plt.figure()\n",
    "ax = fig.add_subplot(1, 1, 1)\n",
    "ax.set_aspect('equal')\n",
    "\n",
    "p = Point(0, 0)\n",
    "q = Point(2, 1)\n",
    "\n",
    "t_m = -100\n",
    "t_M = 100\n",
    "\n",
    "start = p+(q-p)*t_m #始点\n",
    "end = p+(q-p)*t_M #終点\n",
    "\n",
    "ax.plot(*zip(p, q), linewidth=4) #線分PQは太く\n",
    "ax.plot(*zip(start, end), linewidth=1)\n",
    "\n",
    "ax.text(*p, '$\\mathrm{P}$', ha='left', va='top')\n",
    "ax.text(*q, '$\\mathrm{Q}$', ha='left', va='top')\n",
    "\n",
    "plt.show()"
   ]
  },
  {
   "cell_type": "markdown",
   "id": "norwegian-morning",
   "metadata": {},
   "source": [
    "実際に使うときは，軸の範囲を狭めます．"
   ]
  },
  {
   "cell_type": "code",
   "execution_count": 47,
   "id": "advanced-bottle",
   "metadata": {},
   "outputs": [
    {
     "data": {
      "image/png": "[encoded data removed]",
      "text/plain": [
       "<Figure size 432x288 with 1 Axes>"
      ]
     },
     "metadata": {
      "needs_background": "light"
     },
     "output_type": "display_data"
    }
   ],
   "source": [
    "plt.show()\n",
    "fig = plt.figure()\n",
    "ax = fig.add_subplot(1, 1, 1)\n",
    "ax.set_aspect('equal')\n",
    "ax.set_xlim(-10, 10) #xの範囲を絞る\n",
    "ax.set_ylim(-10, 10) #yの範囲を絞る\n",
    "\n",
    "p = Point(0, 0)\n",
    "q = Point(2, 1)\n",
    "\n",
    "t_m = -100\n",
    "t_M = 100\n",
    "\n",
    "start = p+(q-p)*t_m #始点\n",
    "end = p+(q-p)*t_M #終点\n",
    "\n",
    "ax.plot(*zip(p, q), linewidth=4) #線分PQは太く\n",
    "ax.plot(*zip(start, end), linewidth=1)\n",
    "\n",
    "ax.text(*p, '$\\mathrm{P}$', ha='left', va='top')\n",
    "ax.text(*q, '$\\mathrm{Q}$', ha='left', va='top')\n",
    "\n",
    "plt.show()"
   ]
  },
  {
   "cell_type": "markdown",
   "id": "blank-balloon",
   "metadata": {},
   "source": [
    "関数にして扱いやすくしましょう．"
   ]
  },
  {
   "cell_type": "code",
   "execution_count": 48,
   "id": "starting-synthesis",
   "metadata": {},
   "outputs": [],
   "source": [
    "def side_of_line(p, q, mint=-100, maxt=100):\n",
    "    return zip(p+(q-p)*mint, p+(q-p)*maxt)\n",
    "\n",
    "def side_of_ray(p, q, maxt=100):\n",
    "    return zip(p, p+(q-p)*maxt)"
   ]
  },
  {
   "cell_type": "markdown",
   "id": "agreed-ordering",
   "metadata": {},
   "source": [
    "sideは端点，という意味のつもりで使ってます．ついでに半直線（片方だけ無限に長い線．英語でray）も定義しておきました．次の例は，P(0,0),Q(2,1),R(0,1),S(2,2)P(0,0),Q(2,1),R(0,1),S(2,2) に対して直線 PQPQ と，半直線 RSRS をプロットする例です．"
   ]
  },
  {
   "cell_type": "code",
   "execution_count": 49,
   "id": "banner-iceland",
   "metadata": {},
   "outputs": [
    {
     "data": {
      "image/png": "[encoded data removed]",
      "text/plain": [
       "<Figure size 432x288 with 1 Axes>"
      ]
     },
     "metadata": {
      "needs_background": "light"
     },
     "output_type": "display_data"
    }
   ],
   "source": [
    "fig = plt.figure()\n",
    "ax = fig.add_subplot(1, 1, 1)\n",
    "ax.set_aspect('equal')\n",
    "ax.set_xlim(-10, 10)\n",
    "ax.set_ylim(-10, 10)\n",
    "\n",
    "p = Point(0, 0)\n",
    "q = Point(2, 1)\n",
    "r = Point(0, 1)\n",
    "s = Point(2, 2)\n",
    "\n",
    "ax.plot(*side_of_line(p, q))\n",
    "ax.plot(*side_of_ray(r, s))\n",
    "\n",
    "ax.text(*p, '$\\mathrm{P}$', ha='left', va='top')\n",
    "ax.text(*q, '$\\mathrm{Q}$', ha='left', va='top')\n",
    "ax.text(*r, '$\\mathrm{R}$', ha='right', va='bottom')\n",
    "ax.text(*s, '$\\mathrm{S}$', ha='right', va='bottom')\n",
    "\n",
    "ax.plot(*zip(p, q, r, s), '.')\n",
    "\n",
    "plt.show()"
   ]
  },
  {
   "cell_type": "markdown",
   "id": "employed-recording",
   "metadata": {},
   "source": [
    "### 外心と外接円を図示しよう\n",
    "外心は外接円の中心といっても同じことですが，伝統的には各辺の垂直二等分線の交点です．Triangleオブジェクトには当然のことながら垂直二等分線も用意されています．線分 AB の垂直二等分線はAB.perpendicular_bisector()で得られます．これをSegmentオブジェクトと同様にしてプロットをすると一つ問題が発生します．"
   ]
  },
  {
   "cell_type": "code",
   "execution_count": 50,
   "id": "fatal-excellence",
   "metadata": {},
   "outputs": [
    {
     "data": {
      "image/png": "[encoded data removed]",
      "text/plain": [
       "<Figure size 432x288 with 1 Axes>"
      ]
     },
     "metadata": {
      "needs_background": "light"
     },
     "output_type": "display_data"
    }
   ],
   "source": [
    "fig = plt.figure()\n",
    "ax = fig.add_subplot(1, 1, 1)\n",
    "ax.set_aspect('equal')\n",
    "ax.set_axis_off()\n",
    "\n",
    "ax.add_patch(plt.Polygon((A, B, C), fill=False))\n",
    "\n",
    "ax.plot(*zip(*AB.perpendicular_bisector().args)) #ABの垂直二等分線をプロット？\n",
    "ax.plot(*zip(*BC.perpendicular_bisector().args)) #BCの垂直二等分線をプロット？\n",
    "ax.plot(*zip(*CA.perpendicular_bisector().args)) #CAの垂直二等分線をプロット？\n",
    "ax.plot(*ABC.circumcenter, 'o') #外心をプロット\n",
    "\n",
    "ax.text(*A, '$\\mathrm{A}$', ha='right', va='top')\n",
    "ax.text(*B, '$\\mathrm{B}$', ha='left', va='top')\n",
    "ax.text(*C, '$\\mathrm{C}$', ha='left', va='bottom')\n",
    "\n",
    "plt.show()"
   ]
  },
  {
   "cell_type": "markdown",
   "id": "destroyed-reflection",
   "metadata": {},
   "source": [
    "AB.perpendicular_bisector().argsによって得られる直線上の2点がどういう風に設定されているのかは不明（片方はABABの中点）ですが，やはり短すぎです．そこで，side_of_line関数で200倍にしましょう．\n"
   ]
  },
  {
   "cell_type": "code",
   "execution_count": 51,
   "id": "diverse-venezuela",
   "metadata": {},
   "outputs": [
    {
     "data": {
      "image/png": "[encoded data removed]",
      "text/plain": [
       "<Figure size 432x288 with 1 Axes>"
      ]
     },
     "metadata": {
      "needs_background": "light"
     },
     "output_type": "display_data"
    }
   ],
   "source": [
    "\n",
    "fig = plt.figure()\n",
    "ax = fig.add_subplot(1, 1, 1)\n",
    "ax.set_aspect('equal')\n",
    "ax.set_axis_off()\n",
    "ax.set_xlim(-10, 10)\n",
    "ax.set_ylim(-10, 10)\n",
    "\n",
    "ax.add_patch(plt.Polygon((A, B, C), fill=False))\n",
    "\n",
    "ax.plot(*side_of_line(*AB.perpendicular_bisector().args)) #ABの垂直二等分線をプロット\n",
    "ax.plot(*side_of_line(*BC.perpendicular_bisector().args)) #BCの垂直二等分線をプロット\n",
    "ax.plot(*side_of_line(*CA.perpendicular_bisector().args)) #CAの垂直二等分線をプロット\n",
    "\n",
    "ax.plot(*ABC.circumcenter, 'o') #外心\n",
    "\n",
    "ax.text(*A, '$\\mathrm{A}$', ha='right', va='top')\n",
    "ax.text(*B, '$\\mathrm{B}$', ha='left', va='top')\n",
    "ax.text(*C, '$\\mathrm{C}$', ha='left', va='bottom')\n",
    "\n",
    "plt.show()"
   ]
  },
  {
   "cell_type": "code",
   "execution_count": 52,
   "id": "seasonal-delta",
   "metadata": {},
   "outputs": [
    {
     "data": {
      "image/png": "[encoded data removed]",
      "text/plain": [
       "<Figure size 432x288 with 1 Axes>"
      ]
     },
     "metadata": {
      "needs_background": "light"
     },
     "output_type": "display_data"
    }
   ],
   "source": [
    "\n",
    "ax = plt.gca()\n",
    "ax.set_xlim((-3,8))\n",
    "ax.set_ylim((-3,8))\n",
    "ax.set_axis_off()\n",
    "ax.set_aspect('equal')\n",
    "\n",
    "ax.add_patch(plt.Polygon((A, B, C), fill=False))\n",
    "\n",
    "O=ABC.circumcenter #外心の取得\n",
    "\n",
    "for X in [A, B, C]:\n",
    "    ax.plot(*side_of_line(*opposides[X].perpendicular_bisector().args)) #Xの対辺の垂直二等分線をプロット\n",
    "\n",
    "ax.plot(*O, 'o') #外心をプロット\n",
    "ax.add_patch(plt.Circle(O, ABC.circumradius, fill=False)) #外接円をプロット\n",
    "\n",
    "ax.text(*A, '$\\mathrm{A}$', ha='right', va='top')\n",
    "ax.text(*B, '$\\mathrm{B}$', ha='left', va='top')\n",
    "ax.text(*C, '$\\mathrm{C}$', ha='left', va='bottom')\n",
    "ax.text(*O, '$\\mathrm{O}$', ha='right', va='top')\n",
    "\n",
    "plt.show()"
   ]
  },
  {
   "cell_type": "markdown",
   "id": "graphic-newman",
   "metadata": {},
   "source": [
    "### 内心と内接円を図示しよう\n",
    "内心は内角の二等分線の交点であり，内接円の中心でもあります．ABC.bisectorsに頂点をキーとする角の二等分線を表すSegmentが入っています．"
   ]
  },
  {
   "cell_type": "code",
   "execution_count": 53,
   "id": "extreme-angola",
   "metadata": {},
   "outputs": [
    {
     "data": {
      "image/png": "[encoded data removed]",
      "text/plain": [
       "<Figure size 432x288 with 1 Axes>"
      ]
     },
     "metadata": {
      "needs_background": "light"
     },
     "output_type": "display_data"
    }
   ],
   "source": [
    "ax = plt.gca()\n",
    "ax.set_axis_off()\n",
    "ax.set_aspect('equal')\n",
    "\n",
    "ax.add_patch(plt.Polygon((A, B, C), fill=False))\n",
    "\n",
    "bisectors = ABC.bisectors() #内角の二等分線を取得\n",
    "\n",
    "I = ABC.incenter #内心の取得\n",
    "for X in [A, B, C]:\n",
    "    ax.plot(*zip(*bisectors[X].args)) #角Xの二等分線をプロット\n",
    "ax.plot(*zip(I), 'o') #内心をプロット\n",
    "ax.add_patch(plt.Circle(I, ABC.inradius, fill=False)) #内接円をプロット\n",
    "\n",
    "ax.text(*A, '$\\mathrm{A}$', ha='right', va='top')\n",
    "ax.text(*B, '$\\mathrm{B}$', ha='left', va='top')\n",
    "ax.text(*C, '$\\mathrm{C}$', ha='left', va='bottom')\n",
    "ax.text(*I, '$\\mathrm{I}$', ha='left', va='top')\n",
    "\n",
    "plt.show()"
   ]
  },
  {
   "cell_type": "markdown",
   "id": "meaningful-henry",
   "metadata": {},
   "source": [
    "## 傍心と傍接円を図示しよう\n",
    "傍心は，外角の二等分線交点として定義される点で少し難しいのですが，ある意味で内心を拡張したような存在です．残念ながらTriangleにはそれらしい属性が存在しませんでした．なので自力で作るしかありません．とりあえず，次のコードは無視して出来上がった図を見てください．"
   ]
  },
  {
   "cell_type": "code",
   "execution_count": 54,
   "id": "difficult-toolbox",
   "metadata": {},
   "outputs": [
    {
     "data": {
      "image/png": "[encoded data removed]",
      "text/plain": [
       "<Figure size 432x288 with 1 Axes>"
      ]
     },
     "metadata": {
      "needs_background": "light"
     },
     "output_type": "display_data"
    }
   ],
   "source": [
    "ax = plt.gca()\n",
    "ax.set_axis_off()\n",
    "ax.set_aspect('equal')\n",
    "ax.set_xlim((-6, 8))\n",
    "ax.set_ylim((-5, 8))\n",
    "\n",
    "ax.add_patch(plt.Polygon((A, B, C), fill=False))\n",
    "\n",
    "ax.plot(*side_of_line(A, B), color='black') #ABの延長\n",
    "\n",
    "D = A*2-B\n",
    "\n",
    "CAD = Triangle(C, A, D) #三角形CAD\n",
    "\n",
    "ax.plot(*side_of_line(*CAD.bisectors()[A].args), linewidth=2, color='red') #CADのAの二等分線\n",
    "\n",
    "ax.text(*A, '$\\mathrm{A}$', ha='right', va='top')\n",
    "ax.text(*B, '$\\mathrm{B}$', ha='left', va='top')\n",
    "ax.text(*C, '$\\mathrm{C}$', ha='left', va='bottom')\n",
    "ax.text(*D, '$\\mathrm{D}$', ha='right', va='top')\n",
    "\n",
    "ax.plot(*zip(A,B,C,D),'o')\n",
    "\n",
    "plt.show()"
   ]
  },
  {
   "cell_type": "markdown",
   "id": "alleged-modem",
   "metadata": {},
   "source": [
    "図の ∠CAD∠CAD を AA の外角といいます．外角の二等分線とは，図の赤色の直線です．AB=ADAB=AD となるように点 DD をとっているので，\n",
    "OD−→−=OA−→−−AB−→−=OA−→−−(OB−→−−OA−→−)=2OA−→−−−OB−→−\n",
    "OD→=OA→−AB→=OA→−(OB→−OA→)=2OA→−OB→"
   ]
  },
  {
   "cell_type": "code",
   "execution_count": 55,
   "id": "recorded-updating",
   "metadata": {},
   "outputs": [],
   "source": [
    "D = A*2-B"
   ]
  },
  {
   "cell_type": "markdown",
   "id": "specified-comfort",
   "metadata": {},
   "source": [
    "で点 DD が作れます．そして，三角形 △CAD△CAD の角 ∠A∠A の二等分線として外角の二等分線をプロットしているのです．\n",
    "\n",
    "全ての頂点の外角の二等分線をプロットしてみます．"
   ]
  },
  {
   "cell_type": "code",
   "execution_count": 56,
   "id": "included-classroom",
   "metadata": {},
   "outputs": [
    {
     "data": {
      "image/png": "[encoded data removed]",
      "text/plain": [
       "<Figure size 432x288 with 1 Axes>"
      ]
     },
     "metadata": {
      "needs_background": "light"
     },
     "output_type": "display_data"
    }
   ],
   "source": [
    "ax = plt.gca()\n",
    "ax.set_axis_off()\n",
    "ax.set_aspect('equal')\n",
    "ax.set_xlim((-6, 10))\n",
    "ax.set_ylim((-5, 9))\n",
    "\n",
    "ax.add_patch(plt.Polygon((A, B, C), fill=False))\n",
    "\n",
    "ax.plot(*side_of_line(A, B), color='black') #ABの延長\n",
    "ax.plot(*side_of_line(B, C), color='black') #BCの延長\n",
    "ax.plot(*side_of_line(C, A), color='black') #CAの延長\n",
    "\n",
    "ax.plot(*side_of_line(*Triangle(C, A, A*2-B).bisectors()[A].args), linewidth=2, color=\"red\")\n",
    "ax.plot(*side_of_line(*Triangle(A, B, B*2-C).bisectors()[B].args), linewidth=2, color=\"red\")\n",
    "ax.plot(*side_of_line(*Triangle(B, C, C*2-A).bisectors()[C].args), linewidth=2, color=\"red\")\n",
    "\n",
    "ax.text(*A, '$\\mathrm{A}$', ha='right', va='top')\n",
    "ax.text(*B, '$\\mathrm{B}$', ha='left', va='top')\n",
    "ax.text(*C, '$\\mathrm{C}$', ha='left', va='bottom')\n",
    "\n",
    "ax.plot(*zip(A,B,C),'o')\n",
    "\n",
    "plt.show()"
   ]
  },
  {
   "cell_type": "markdown",
   "id": "textile-happening",
   "metadata": {},
   "source": [
    "これら外角の二等分線の3つの交点が傍心です．sympyは二直線に対して交点を求める関数が用意されていますが，ここは天下り的に傍心の座標を計算します．\n",
    "三角形 △ABC△ABC を固定するとき，任意の平面上の点 PP は 33 つの実数 s,t,us,t,u を用いて\n",
    "OP−→−=sOA−→−+tOB−→−+uOC−→−s+t+u\n",
    "OP→=sOA→+tOB→+uOC→s+t+u\n",
    "\n",
    "という形で表せることが知られています．この3つの実数の組 (s,t,u)(s,t,u) を PP の重心座標といいます．重心 GG の重心座標は (1,1,1)(1,1,1) です．実は，内心 II は\n",
    "OI−→=aOA−→−+bOB−→−+cOC−→−a+b+c\n",
    "OI→=aOA→+bOB→+cOC→a+b+c\n",
    "\n",
    "で表せることが知られているので，重心座標は (a,b,c)(a,b,c) です．実は，3つの傍心の重心座標は\n",
    "(−a,b,c), (a,−b,c), (a,b,−c)\n",
    "(−a,b,c), (a,−b,c), (a,b,−c)\n",
    "\n",
    "であることが知られています．よって傍心は\n",
    "−aOA−→−+bOB−→−+cOC−→−−a+b+c, aOA−→−−bOB−→−+cOC−→−a−b+c, aOA−→−+bOB−→−−cOC−→−a+b−c\n",
    "−aOA→+bOB→+cOC→−a+b+c, aOA→−bOB→+cOC→a−b+c, aOA→+bOB→−cOC→a+b−c\n",
    "\n",
    "で計算できます．そして，傍心を中心とし各辺の延長に接する円，傍接円というものがあり，それらの半径は\n",
    "2S−a+b+c, 2Sa−b+c, 2Sa+b−c\n",
    "2S−a+b+c, 2Sa−b+c, 2Sa+b−c\n",
    "\n",
    "で与えられます．ここで SS は △ABC△ABC の面積です．これらを総括してプロットしたものの例が次です．"
   ]
  },
  {
   "cell_type": "code",
   "execution_count": 57,
   "id": "recent-perception",
   "metadata": {},
   "outputs": [
    {
     "data": {
      "image/png": "[encoded data removed]",
      "text/plain": [
       "<Figure size 576x576 with 1 Axes>"
      ]
     },
     "metadata": {
      "needs_background": "light"
     },
     "output_type": "display_data"
    }
   ],
   "source": [
    "fig = plt.figure(figsize=(8, 8))\n",
    "ax = fig.add_subplot(1, 1, 1)\n",
    "ax.set_axis_off()\n",
    "ax.set_aspect('equal')\n",
    "ax.set_xlim((-15, 15))\n",
    "ax.set_ylim((-10, 18))\n",
    "\n",
    "ax.add_patch(plt.Polygon((A, B, C), fill=False))\n",
    "\n",
    "for seg in [AB, BC, CA]: #線分の延長\n",
    "    ax.plot(*side_of_line(*seg.args))\n",
    "\n",
    "ax.plot(*side_of_line(*Triangle(B, A, A*2-C).bisectors()[A].args), linewidth=.75)\n",
    "ax.plot(*side_of_line(*Triangle(C, B, B*2-A).bisectors()[B].args), linewidth=.75) #外角の二等分線\n",
    "ax.plot(*side_of_line(*Triangle(A, C, C*2-B).bisectors()[C].args), linewidth=.75)\n",
    "\n",
    "excenters = { #傍心\n",
    "    A: (-A*a+B*b+C*c)/(-a+b+c),\n",
    "    B: (A*a-B*b+C*c)/(a-b+c),\n",
    "    C: (A*a+B*b-C*c)/(a+b-c)\n",
    "}\n",
    "\n",
    "exradiuses = { #傍接円の半径 ABC.areaはABCの面積\n",
    "    A: 2*ABC.area/(-a+b+c),\n",
    "    B: 2*ABC.area/(a-b+c),\n",
    "    C: 2*ABC.area/(a+b-c)\n",
    "}\n",
    "\n",
    "ax.plot(*zip(*excenters.values()), 'o') #傍心のプロット\n",
    "\n",
    "for X in [A, B, C]: #傍接円のプロット\n",
    "    ax.add_patch(plt.Circle(excenters[X], exradiuses[X], fill=False))\n",
    "\n",
    "ax.text(*A, '$\\mathrm{A}$', ha='right', va='top')\n",
    "ax.text(*B, '$\\mathrm{B}$', ha='left', va='top')\n",
    "ax.text(*C, '$\\mathrm{C}$', ha='center', va='bottom')\n",
    "ax.text(*excenters[A], '$\\mathrm{E_A}$', ha='center', va='bottom')\n",
    "ax.text(*excenters[B], '$\\mathrm{E_B}$', ha='left', va='bottom')\n",
    "ax.text(*excenters[C], '$\\mathrm{E_C}$', ha='right', va='center')\n",
    "\n",
    "plt.show()"
   ]
  },
  {
   "cell_type": "code",
   "execution_count": null,
   "id": "moral-rough",
   "metadata": {},
   "outputs": [],
   "source": [
    "### オイラー線\n",
    "重心と外心と垂心は同一直線上に乗っかっていることが知られています．この直線をオイラー線といいます．確認してみましょう．"
   ]
  },
  {
   "cell_type": "code",
   "execution_count": 58,
   "id": "flush-pursuit",
   "metadata": {},
   "outputs": [
    {
     "data": {
      "image/png": "[encoded data removed]",
      "text/plain": [
       "<Figure size 576x576 with 1 Axes>"
      ]
     },
     "metadata": {
      "needs_background": "light"
     },
     "output_type": "display_data"
    }
   ],
   "source": [
    "fig = plt.figure(figsize=(8, 8))\n",
    "ax = fig.add_subplot(1, 1, 1)\n",
    "ax.set_axis_off()\n",
    "ax.set_aspect('equal')\n",
    "ax.set_xlim((-3,8))\n",
    "ax.set_ylim((-3,8))\n",
    "\n",
    "ax.add_patch(plt.Polygon((A, B, C), fill=False))\n",
    "\n",
    "G=ABC.centroid #重心の取得\n",
    "O=ABC.circumcenter #外心の取得\n",
    "H=ABC.orthocenter #垂心の取得\n",
    "\n",
    "ax.plot(*side_of_line(O, H)) #オイラー線のプロット\n",
    "ax.plot(*zip(G, O, H), 'o') #3点のプロット\n",
    "\n",
    "ax.text(*A, '$\\mathrm{A}$', ha='right', va='top')\n",
    "ax.text(*B, '$\\mathrm{B}$', ha='left', va='top')\n",
    "ax.text(*C, '$\\mathrm{C}$', ha='left', va='bottom')\n",
    "ax.text(*G, '$\\mathrm{G}$', ha='right', va='top')\n",
    "ax.text(*O, '$\\mathrm{O}$', ha='right', va='top')\n",
    "ax.text(*H, '$\\mathrm{H}$', ha='right', va='top')\n",
    "\n",
    "plt.show()"
   ]
  },
  {
   "cell_type": "markdown",
   "id": "funky-broad",
   "metadata": {},
   "source": [
    "ちなみに，OG:GH=1:2OG:GH=1:2 であることが知られています．\n",
    "OH−→−=OA−→−+OB−→−+OC−→−\n",
    "OH→=OA→+OB→+OC→\n",
    "\n",
    "であることを示せば重心の公式より\n",
    "OG−→−=OA−→−+OB−→−+OC−→−3\n",
    "OG→=OA→+OB→+OC→3\n",
    "\n",
    "であることより直ちに証明できます．"
   ]
  },
  {
   "cell_type": "markdown",
   "id": "dental-small",
   "metadata": {},
   "source": [
    "### 九点円を図示しよう\n",
    "いよいよ九点円に入ります．\n",
    "\n",
    "どの九点？\n",
    "三角形 △ABC△ABC において，\n",
    "\n",
    "各辺の中点\n",
    "頂点から対辺に引いた垂線の足\n",
    "垂心と頂点の中点\n",
    "計9つをプロットしましょう．"
   ]
  },
  {
   "cell_type": "code",
   "execution_count": 59,
   "id": "gross-deficit",
   "metadata": {},
   "outputs": [
    {
     "data": {
      "image/png": "[encoded data removed]",
      "text/plain": [
       "<Figure size 432x288 with 1 Axes>"
      ]
     },
     "metadata": {
      "needs_background": "light"
     },
     "output_type": "display_data"
    }
   ],
   "source": [
    "fig = plt.figure()\n",
    "ax = fig.add_subplot(1, 1, 1)\n",
    "ax.set_aspect('equal')\n",
    "ax.set_axis_off()\n",
    "\n",
    "H = ABC.orthocenter #垂心を取得\n",
    "alts = ABC.altitudes #垂線を取得\n",
    "\n",
    "nine_points = []\n",
    "\n",
    "for X in [A, B, C]:\n",
    "    nine_points.append(opposides[X].midpoint) #対辺の中点\n",
    "    if X == alts[X].p1: #線分alts[X] の始点alts[X].p1, 終点alts[X].p2のうち，頂点でない方が垂線の足\n",
    "        nine_points.append(alts[X].p2)\n",
    "    else:\n",
    "        nine_points.append(alts[X].p1)\n",
    "    nine_points.append(Segment(X, H).midpoint) #垂心と頂点の中点\n",
    "\n",
    "ax.add_patch(plt.Polygon((A, B, C), fill=False))\n",
    "\n",
    "for X in [A, B, C]:\n",
    "    ax.plot(*zip(*alts[X].args))\n",
    "ax.plot(*zip(*nine_points), 'ro')\n",
    "\n",
    "plt.show()"
   ]
  },
  {
   "cell_type": "markdown",
   "id": "comic-implement",
   "metadata": {},
   "source": [
    "確かにこの九つの点は同一の円上にありそうです．なんと九点円は初めからTriagnleオブジェクトに入っています．"
   ]
  },
  {
   "cell_type": "code",
   "execution_count": 60,
   "id": "above-azerbaijan",
   "metadata": {},
   "outputs": [
    {
     "name": "stdout",
     "output_type": "stream",
     "text": [
      "Point2D(63/20, 163*sqrt(6)/240) 35*sqrt(6)/48\n"
     ]
    }
   ],
   "source": [
    "npc = ABC.nine_point_circle #ABCの九点円\n",
    "print(npc.center, npc.radius) #九点円の中心と半径"
   ]
  },
  {
   "cell_type": "code",
   "execution_count": 63,
   "id": "straight-radical",
   "metadata": {
    "tags": []
   },
   "outputs": [
    {
     "data": {
      "image/png": "[encoded data removed]",
      "text/plain": [
       "<Figure size 432x288 with 1 Axes>"
      ]
     },
     "metadata": {
      "needs_background": "light"
     },
     "output_type": "display_data"
    }
   ],
   "source": [
    "fig = plt.figure()\n",
    "ax = fig.add_subplot(1, 1, 1)\n",
    "ax.set_aspect('equal')\n",
    "ax.set_axis_off()\n",
    "\n",
    "H = ABC.orthocenter #垂心を取得\n",
    "alts = ABC.altitudes #垂線を取得\n",
    "\n",
    "nine_points = []\n",
    "\n",
    "for X in [A, B, C]:\n",
    "    nine_points.append(opposides[X].midpoint) #対辺の中点\n",
    "    if X == alts[X].p1: #線分alts[X] の始点alts[X].p1, 終点alts[X].p2のうち，頂点でない方が垂線の足\n",
    "        nine_points.append(alts[X].p2)\n",
    "    else:\n",
    "        nine_points.append(alts[X].p1)\n",
    "    nine_points.append(Segment(X, H).midpoint) #垂心と頂点の中点\n",
    "\n",
    "ax.add_patch(plt.Polygon((A, B, C), fill=False))\n",
    "\n",
    "for X in [A, B, C]:\n",
    "    ax.plot(*zip(*alts[X].args))\n",
    "ax.plot(*zip(*nine_points), 'ro')\n",
    "\n",
    "npc = ABC.nine_point_circle #九点円を取得\n",
    "ax.add_patch(plt.Circle(npc.center, npc.radius, fill=False, linewidth=1)) #九点円をプロット\n",
    "ax.plot(*zip(npc.center), 'o', color = 'purple') #九点円の中心をプロット\n",
    "\n",
    "plt.show()"
   ]
  },
  {
   "cell_type": "markdown",
   "id": "laden-citation",
   "metadata": {},
   "source": [
    "### 九点円の中心とオイラー線\n",
    "九点円の中心は外心と垂心の中点であることが知られています．ということは，九点円の中心と重心，外心，垂心の4点はオイラー上にあることが分かります．"
   ]
  },
  {
   "cell_type": "code",
   "execution_count": 64,
   "id": "public-familiar",
   "metadata": {},
   "outputs": [
    {
     "data": {
      "image/png": "[encoded data removed]",
      "text/plain": [
       "<Figure size 576x576 with 1 Axes>"
      ]
     },
     "metadata": {
      "needs_background": "light"
     },
     "output_type": "display_data"
    }
   ],
   "source": [
    "fig = plt.figure(figsize=(8, 8))\n",
    "ax = fig.add_subplot(1, 1, 1)\n",
    "ax.set_xlim((-2,7))\n",
    "ax.set_ylim((-2,7))\n",
    "ax.set_aspect('equal')\n",
    "ax.set_axis_off()\n",
    "\n",
    "ax.add_patch(plt.Polygon((A, B, C), fill=False))\n",
    "\n",
    "npc = ABC.nine_point_circle #九点円を取得\n",
    "ax.add_patch(plt.Circle(npc.center, npc.radius, fill=False, linewidth=1)) #九点円をプロット\n",
    "ax.plot(*zip(npc.center), 'o', color = 'purple') #九点円の中心をプロット\n",
    "\n",
    "G = ABC.centroid #重心の取得\n",
    "O = ABC.circumcenter #外心の取得\n",
    "H = ABC.orthocenter #垂心の取得\n",
    "\n",
    "ax.plot(*side_of_line(O, H)) #オイラー線のプロット\n",
    "ax.plot(*zip(G, O, H), 'o') #3点のプロット\n",
    "\n",
    "ax.text(*A, '$\\mathrm{A}$', ha='right', va='top')\n",
    "ax.text(*B, '$\\mathrm{B}$', ha='left', va='top')\n",
    "ax.text(*C, '$\\mathrm{C}$', ha='center', va='bottom')\n",
    "ax.text(*G, '$\\mathrm{G}$', ha='right', va='top')\n",
    "ax.text(*O, '$\\mathrm{O}$', ha='right', va='top')\n",
    "ax.text(*H, '$\\mathrm{H}$', ha='right', va='top')\n",
    "ax.text(*npc.center, '$\\mathrm{N}$', ha='right', va='top')\n",
    "\n",
    "plt.show()"
   ]
  },
  {
   "cell_type": "markdown",
   "id": "valid-bidding",
   "metadata": {},
   "source": [
    "### フォイエルバッハの定理\n",
    "九点円は内接円に内接し，傍接円に外接しています．"
   ]
  },
  {
   "cell_type": "code",
   "execution_count": 65,
   "id": "surgical-thinking",
   "metadata": {},
   "outputs": [
    {
     "data": {
      "image/png": "[encoded data removed]",
      "text/plain": [
       "<Figure size 576x576 with 1 Axes>"
      ]
     },
     "metadata": {
      "needs_background": "light"
     },
     "output_type": "display_data"
    }
   ],
   "source": [
    "fig = plt.figure(figsize=(8, 8))\n",
    "ax = fig.add_subplot(1, 1, 1)\n",
    "ax.set_aspect('equal')\n",
    "ax.set_axis_off()\n",
    "ax.set_xlim((-1, 8))\n",
    "ax.set_ylim((-3, 6))\n",
    "\n",
    "ax.add_patch(plt.Polygon((A, B, C), fill=False))\n",
    "for seg in [AB, BC, CA]: #線分の延長\n",
    "    ax.plot(*side_of_line(*seg.args), color='black')\n",
    "\n",
    "npc = ABC.nine_point_circle #ABCの九点円\n",
    "\n",
    "I = ABC.incenter\n",
    "\n",
    "excenters = { #傍心\n",
    "    A: (-A*a+B*b+C*c)/(-a+b+c),\n",
    "    B: (A*a-B*b+C*c)/(a-b+c),\n",
    "    C: (A*a+B*b-C*c)/(a+b-c)\n",
    "}\n",
    "\n",
    "exradiuses = { #傍接円の半径 ABC.areaはABCの面積\n",
    "    A: 2*ABC.area/(-a+b+c),\n",
    "    B: 2*ABC.area/(a-b+c),\n",
    "    C: 2*ABC.area/(a+b-c)\n",
    "}\n",
    "\n",
    "ax.add_patch(plt.Circle(I, ABC.inradius, fill=False, linewidth=1, color='green')) #内接円のプロット\n",
    "\n",
    "for X in [A, B, C]: #傍接円のプロット\n",
    "    ax.add_patch(plt.Circle(excenters[X], exradiuses[X], fill=False, linewidth=1, color='green'))\n",
    "\n",
    "ax.add_patch(plt.Circle(npc.center, npc.radius, fill=False, linewidth=2, color=\"red\"))\n",
    "\n",
    "plt.show()"
   ]
  },
  {
   "cell_type": "markdown",
   "id": "responsible-courage",
   "metadata": {},
   "source": [
    "確かに九点円（赤）は，内接円と傍接円と接しています．\n",
    "\n",
    "まとめると九点円は\n",
    "\n",
    "中心が重心，外心，垂心と直線で結ばれている\n",
    "内心，傍心を中心とする内接円，傍接円に接している．\n",
    "ということが分かり，三角形の五心である，重心，外心，垂心，内心，傍心と関係を持っていることが分かりました．"
   ]
  },
  {
   "cell_type": "markdown",
   "id": "composite-private",
   "metadata": {},
   "source": [
    "### 最後に全部詰め込もう"
   ]
  },
  {
   "cell_type": "code",
   "execution_count": 66,
   "id": "further-morocco",
   "metadata": {},
   "outputs": [
    {
     "data": {
      "image/png": "[encoded data removed]",
      "text/plain": [
       "<Figure size 720x720 with 1 Axes>"
      ]
     },
     "metadata": {
      "needs_background": "light"
     },
     "output_type": "display_data"
    }
   ],
   "source": [
    "from sympy.geometry import Point, Circle, Triangle, Segment, Line\n",
    "import numpy as np\n",
    "import matplotlib.pyplot as plt\n",
    "\n",
    "def side_of_line(p, q, mint=-100, maxt=100):\n",
    "    return zip(p+(q-p)*mint, p+(q-p)*maxt)\n",
    "\n",
    "ABC = Triangle(sss=(5, 6, 7))\n",
    "A, B, C = ABC.vertices #頂点\n",
    "AB, BC, CA = Segment(A, B), Segment(B, C), Segment(C, A) #辺の設定 右辺は ABC.sidesと同等\n",
    "a, b, c = BC.length, CA.length, AB.length #辺の長さ\n",
    "opposides = {A: BC, B: CA, C: AB} #頂点に対する対辺(opposite side)\n",
    "\n",
    "fig = plt.figure(figsize=(10, 10))\n",
    "ax = fig.add_subplot(1, 1, 1)\n",
    "ax.set_aspect('equal')\n",
    "ax.set_axis_off()\n",
    "ax.set_xlim((-10, 14))\n",
    "ax.set_ylim((-8, 16))\n",
    "\n",
    "npc = ABC.nine_point_circle #ABCの九点円を取得\n",
    "N = npc.center #九点円の中心を取得\n",
    "G = ABC.centroid #重心の取得\n",
    "O = ABC.circumcenter #外心の取得\n",
    "H = ABC.orthocenter #垂心の取得\n",
    "I = ABC.incenter #内心の取得\n",
    "\n",
    "excenters = { #傍心を計算\n",
    "    A: (-A*a+B*b+C*c)/(-a+b+c),\n",
    "    B: (A*a-B*b+C*c)/(a-b+c),\n",
    "    C: (A*a+B*b-C*c)/(a+b-c)\n",
    "}\n",
    "\n",
    "exradiuses = { #傍接円の半径 ABC.areaはABCの面積\n",
    "    A: 2*ABC.area/(-a+b+c),\n",
    "    B: 2*ABC.area/(a-b+c),\n",
    "    C: 2*ABC.area/(a+b-c)\n",
    "}\n",
    "\n",
    "alts = ABC.altitudes #垂線を取得\n",
    "\n",
    "nine_points = [] #九点\n",
    "for X in [A, B, C]:\n",
    "    nine_points.append(opposides[X].midpoint) #対辺の中点\n",
    "    if X == alts[X].p1: #線分alts[X] の始点alts[X].p1, 終点alts[X].p2のうち，頂点でない方が垂線の足\n",
    "        nine_points.append(alts[X].p2)\n",
    "    else:\n",
    "        nine_points.append(alts[X].p1)\n",
    "    nine_points.append(Segment(X, H).midpoint) #垂心と頂点の中点\n",
    "ax.add_patch(plt.Polygon((A, B, C), facecolor='#67BE91', alpha=.3)) #三角形ABCをプロット\n",
    "for seg in ABC.sides:\n",
    "    ax.plot(*side_of_line(*seg.args), color='#422500', linewidth=.3) #辺の延長をプロット\n",
    "\n",
    "for X in [A, B, C]:\n",
    "    seg = opposides[X] #Xの対辺\n",
    "    ax.plot(*zip(*alts[X].args), color='#00612E', linewidth=.2) #垂線をプロット\n",
    "    ax.plot(*side_of_line(*seg.perpendicular_bisector().args), '--', color='gray', linewidth=.3) #垂直二等分線をプロット\n",
    "    ax.plot(*zip(X, seg.midpoint), color='#00612E', linewidth=.2) #中線をプロット\n",
    "    ax.plot(*zip(*ABC.bisectors()[X].args), '--', color='gray', linewidth=.3) #角Xの二等分線\n",
    "\n",
    "ax.plot(*side_of_line(*Triangle(B, A, A*2-C).bisectors()[A].args),'--',  color='gray', linewidth=.3)\n",
    "ax.plot(*side_of_line(*Triangle(C, B, B*2-A).bisectors()[B].args),'--',  color='gray', linewidth=.3) #外角の二等分線\n",
    "ax.plot(*side_of_line(*Triangle(A, C, C*2-B).bisectors()[C].args),'--',  color='gray', linewidth=.3)\n",
    "\n",
    "ax.plot(*side_of_line(O, H), '-', linewidth=5, color='#EC6800', alpha=.4)#オイラー線をプロット\n",
    "\n",
    "ax.add_patch(plt.Circle(I, ABC.inradius, linestyle='--', edgecolor='#9D221B', fill=False, linewidth=.3, alpha=1)) #内接円をプロット\n",
    "ax.add_patch(plt.Circle(I, ABC.inradius, facecolor='gray', linewidth=0, alpha=.2)) #内接円の内部を塗り潰す\n",
    "\n",
    "for X in [A, B, C]: #傍接円をプロット\n",
    "    ax.add_patch(plt.Circle(excenters[X], exradiuses[X], edgecolor='gray', facecolor='#8BA55D', linewidth=0, alpha=.3))\n",
    "\n",
    "ax.add_patch(plt.Circle(N, npc.radius, edgecolor='#EC6800', linewidth=.4, fill=False)) #九点円をプロット\n",
    "ax.add_patch(plt.Circle(N, npc.radius, linewidth=0, facecolor='#64954F',fill=True, alpha=.3)) #九点円の内部を塗りつぶす\n",
    "\n",
    "ax.add_patch(plt.Circle(O, ABC.circumradius, linestyle='--', edgecolor='gray', fill=False, linewidth=.3)) #外接円をプロット\n",
    "\n",
    "ax.add_patch(plt.Polygon(tuple(excenters.values()), facecolor='#C3D300', alpha=.1)) #傍心を頂点とする三角形を塗り潰し\n",
    "\n",
    "ax.plot(*zip(G, O, H, N), '.', color='#EF3706', ms=3) #重心，外心，垂心，九点円の中心をプロット\n",
    "ax.plot(*zip(A, B, C), '.', color='black', ms=3, alpha=.5) #頂点をプロット\n",
    "ax.plot(*zip(*excenters.values()), '.', color='#074d59', alpha=.5, ms=3) #傍心のプロット\n",
    "ax.plot(*zip(ABC.incenter), '.', color='#074d59', alpha=.5, ms=3) #内心のプロット\n",
    "ax.plot(*zip(*nine_points), '.', color='#5E4500', ms=2, alpha=.5) #九点をプロット\n",
    "\n",
    "plt.savefig('npc.png', dpi=100)\n",
    "plt.savefig('npc.svg')\n",
    "plt.show()"
   ]
  },
  {
   "cell_type": "markdown",
   "id": "monthly-devon",
   "metadata": {
    "tags": []
   },
   "source": [
    "### Triangleを拡張したクラスを作りたい\n",
    "Triangleに用意されていない傍心の座標などをプロパティとしてもつTriangleを継承したクラスを作りたいと思うのですが，どうも，私の生半可な知識ではうまくいきません．"
   ]
  },
  {
   "cell_type": "code",
   "execution_count": 68,
   "id": "manufactured-grade",
   "metadata": {},
   "outputs": [
    {
     "name": "stdout",
     "output_type": "stream",
     "text": [
      "Point2D(1, 1/2)\n"
     ]
    },
    {
     "ename": "AttributeError",
     "evalue": "'Triangle' object has no attribute 'nine_point_center'",
     "output_type": "error",
     "traceback": [
      "\u001b[1;31m---------------------------------------------------------------------------\u001b[0m",
      "\u001b[1;31mAttributeError\u001b[0m                            Traceback (most recent call last)",
      "\u001b[1;32m<ipython-input-68-9df791b43b8f>\u001b[0m in \u001b[0;36m<module>\u001b[1;34m\u001b[0m\n\u001b[0;32m      9\u001b[0m \u001b[0mprint\u001b[0m\u001b[1;33m(\u001b[0m\u001b[0mt1\u001b[0m\u001b[1;33m.\u001b[0m\u001b[0mnine_point_center\u001b[0m\u001b[1;33m)\u001b[0m\u001b[1;33m\u001b[0m\u001b[1;33m\u001b[0m\u001b[0m\n\u001b[0;32m     10\u001b[0m \u001b[0mt2\u001b[0m \u001b[1;33m=\u001b[0m \u001b[0mMyTriangle\u001b[0m\u001b[1;33m(\u001b[0m\u001b[0msss\u001b[0m\u001b[1;33m=\u001b[0m\u001b[1;33m(\u001b[0m\u001b[1;36m5\u001b[0m\u001b[1;33m,\u001b[0m \u001b[1;36m6\u001b[0m\u001b[1;33m,\u001b[0m \u001b[1;36m7\u001b[0m\u001b[1;33m)\u001b[0m\u001b[1;33m)\u001b[0m\u001b[1;33m\u001b[0m\u001b[1;33m\u001b[0m\u001b[0m\n\u001b[1;32m---> 11\u001b[1;33m \u001b[0mprint\u001b[0m\u001b[1;33m(\u001b[0m\u001b[0mt2\u001b[0m\u001b[1;33m.\u001b[0m\u001b[0mnine_point_center\u001b[0m\u001b[1;33m)\u001b[0m\u001b[1;33m\u001b[0m\u001b[1;33m\u001b[0m\u001b[0m\n\u001b[0m",
      "\u001b[1;31mAttributeError\u001b[0m: 'Triangle' object has no attribute 'nine_point_center'"
     ]
    }
   ],
   "source": [
    "from sympy.geometry import Triangle\n",
    "\n",
    "class MyTriangle(Triangle):\n",
    "    @property\n",
    "    def nine_point_center(self):\n",
    "        return self.nine_point_circle.center   \n",
    "a, b, c = (0, 0), (2, 0), (1, 1)\n",
    "t1 = MyTriangle(a, b, c)\n",
    "print(t1.nine_point_center)   \n",
    "t2 = MyTriangle(sss=(5, 6, 7))\n",
    "print(t2.nine_point_center)"
   ]
  },
  {
   "cell_type": "code",
   "execution_count": null,
   "id": "charming-space",
   "metadata": {},
   "outputs": [],
   "source": []
  },
  {
   "cell_type": "code",
   "execution_count": null,
   "id": "spatial-silver",
   "metadata": {},
   "outputs": [],
   "source": []
  },
  {
   "cell_type": "code",
   "execution_count": null,
   "id": "nasty-theology",
   "metadata": {},
   "outputs": [],
   "source": []
  },
  {
   "cell_type": "code",
   "execution_count": null,
   "id": "institutional-boston",
   "metadata": {},
   "outputs": [],
   "source": []
  },
  {
   "cell_type": "markdown",
   "id": "cordless-intermediate",
   "metadata": {},
   "source": [
    "## Point Line"
   ]
  },
  {
   "cell_type": "code",
   "execution_count": null,
   "id": "absent-recorder",
   "metadata": {},
   "outputs": [],
   "source": [
    "from sympy import Point,Line\n",
    "p1, p2 = Point(0, 0), Point(1, 1)\n",
    "p3, p4 = Point(3, 4), Point(6, 7)\n",
    "l1, l2 = Line(p1, p2), Line(p3, p4)\n",
    "Line.is_parallel(l1, l2)\n",
    "\n",
    "from sympy import Point3D,Line3D\n",
    "p1, p2 = Point3D(0, 0, 0), Point3D(3, 4, 5)\n",
    "p3, p4 = Point3D(2, 1, 1), Point3D(8, 9, 11)\n",
    "l1, l2 = Line3D(p1, p2), Line3D(p3, p4)\n",
    "Line3D.is_parallel(l1, l2)\n",
    "p5 = Point3D(6, 6, 6)\n",
    "l3 = Line3D(p3, p5)\n",
    "Line3D.is_parallel(l1, l3)\n",
    "\n"
   ]
  },
  {
   "cell_type": "markdown",
   "id": "opening-weapon",
   "metadata": {},
   "source": [
    "## sample"
   ]
  },
  {
   "cell_type": "code",
   "execution_count": null,
   "id": "verbal-happiness",
   "metadata": {},
   "outputs": [],
   "source": [
    "# Perquisites\n",
    "import numpy as np\n",
    "import scipy as scp\n",
    "import sympy as sp\n",
    "import random\n",
    "import math\n",
    "import matplotlib.pyplot as plt\n",
    "from IPython.display import Latex,HTML,Markdown                 #網頁顯示數學符號\n",
    "\n",
    "def Get_PF306_Expr(QN,Tx=-1):\n",
    "    TxFlag=Tx==-1       \n",
    "    NTE = []\n",
    "    for Qid in range(0, QN):\n",
    "        A=random.choice([2,3,4,5,7])\n",
    "        O=random.choice([2,3,4,5,7])\n",
    "        H=sp.sqrt(A**2+O**2)\n",
    "        angle_=[\"theta\",\"gamma\"]\n",
    "        trig_=[\"sin\",\"cos\",\"tan\"]\n",
    "        trig=random.choice(trig_)\n",
    "        ang=random.choice(angle_)\n",
    "        St=r\"設直角三角形: a=%s,b=%s,c=%s , 求 %s  \\%s = ?\"%(A,O,sp.latex(H) , trig,ang)\n",
    "        Val = 1\n",
    "        if trig==\"sin\":\n",
    "            if ang==\"theta\":             \n",
    "                Val=O/H\n",
    "            if ang==\"gamma\":             \n",
    "                Val=A/H\n",
    "        if trig==\"cos\":\n",
    "            if ang==\"theta\":             \n",
    "                Val=A/H\n",
    "            if ang==\"gamma\":             \n",
    "                Val=O/H\n",
    "        if trig==\"tan\":\n",
    "            if ang==\"theta\":             \n",
    "                Val=O/A\n",
    "            if ang==\"gamma\":             \n",
    "                Val=A/O\n",
    "        \n",
    "        TE = GetTE(Qid, St, Val, Tx)\n",
    "        #TE[\"Tip\"] = \" y 隨 x 的增大而____  (  +1 表示 增大  或  -1 表示  減少 )\"\n",
    "        TE[\"PlotImg\"]=Plot_RightTriangle(A,O,H,\"img\"+GetKey()+str(Qid)+\".png\")\n",
    "        NTE.append(TE)\n",
    "\n",
    "    return NTE\n",
    "\n",
    "def Plot_RightTriangle(A,O,H):\n",
    "    plt.close('all')\n",
    "    # Triangle 1\n",
    "    x=np.array([0,A,A,0])\n",
    "    y=np.array([0,0,O,0])\n",
    "    # Figure and Axes\n",
    "    fig1=plt.figure(1)\n",
    "    ax1=fig1.add_subplot(111)\n",
    "    # Plot Triangle 1 \n",
    "    ax1.axis('square')\n",
    "    plt.plot(x,y,color=[0/255,176/255,80/255])\n",
    "    # Axes Limits\n",
    "    plt.xlim([-1,A+2])\n",
    "    plt.ylim([-1,O+2])\n",
    "    plt.text(0.5,0.25,'θ')\n",
    "    plt.text(A-0.5,0.25,'90')\n",
    "    plt.text(A-0.25,O-0.35,'γ')\n",
    "    plt.text(A/2,-0.5,f'({A})')\n",
    "    plt.text(A+0.5,O/2,f'({O})')\n",
    "    plt.text(A/2-1,O/2,f'$({sp.latex(H)})$')\n",
    "    plt.show()\n",
    "\n",
    "for i in range(10):\n",
    "    \n",
    "    A=random.choice([2,3,4,5,7])\n",
    "    O=random.choice([2,3,4,5,7])\n",
    "    H=sp.sqrt(A**2+O**2)\n",
    "    angle_=[\"theta\",\"gamma\"]\n",
    "    trig_=[\"sin\",\"cos\",\"tan\"]\n",
    "    trig=random.choice(trig_)\n",
    "    ang=random.choice(angle_)\n",
    "    St=r\"設直角三角形: a=%s,b=%s,c=%s , 求 %s  \\%s = ?\"%(A,O,sp.latex(H) , trig,ang)    \n",
    "    display(Latex(r\"$%s$\"%(St)))\n",
    "    Plot_RightTriangle(A,O,H)\n",
    "    Val = 1\n",
    "    if trig==\"sin\":\n",
    "        if ang==\"theta\":             \n",
    "            Val=sp.S(O)/H\n",
    "        if ang==\"gamma\":             \n",
    "            Val=sp.S(A)/H\n",
    "    if trig==\"cos\":\n",
    "        if ang==\"theta\":             \n",
    "            Val=A/H\n",
    "        if ang==\"gamma\":             \n",
    "            Val=O/H\n",
    "    if trig==\"tan\":\n",
    "        if ang==\"theta\":             \n",
    "            Val=sp.S(O)/A\n",
    "        if ang==\"gamma\":             \n",
    "            Val=sp.S(A)/O\n",
    "    display(Val)\n",
    "            \n"
   ]
  },
  {
   "cell_type": "code",
   "execution_count": null,
   "id": "occupied-mineral",
   "metadata": {},
   "outputs": [],
   "source": [
    "import random                                     #亂數 \n",
    "import math                                       #math 內置數學函數\n",
    "import numpy as np                                #數字矩陣\n",
    "import sympy as sp                                #sympy 簡易別名 sp    \n",
    "from sympy.parsing.sympy_parser import parse_expr #文字字串, 解釋成, Sympy 運算式\n",
    "from IPython.display import Latex,HTML,Markdown                 #網頁顯示數學符號\n",
    "import json                                       #JSON 結構化資料\n",
    "import re\n",
    "import lib\n",
    "from lib import GetTE\n",
    "#sp.init_printing(\"mathjax\")                       #\n",
    "sp.init_printing()  \n",
    "def displayTable(NTE):\n",
    "    tablecontext=lib.NTE2MD(NTE)\n",
    "    display(Markdown(tablecontext)) \n",
    "    \n",
    "def sjstr(a,d,e):\n",
    "    triang_fnc=[\"\",\"sin\",\"cos\",\"tan\"]\n",
    "    str=triang_fnc[a]\n",
    "    if e==2:\n",
    "        str+=\"^2\"\n",
    "    ang_degree=[\"\",\"0^o\",\"30^o\",\"45^o\",\"60^o\",\"90^o\"]\n",
    "    return str+ang_degree[d]        \n",
    "\n",
    "def ang_expre(a,d,e):\n",
    "    ad=[sp.pi,sp.pi*0,sp.pi/6,sp.pi/4,sp.pi/3,sp.pi/2]\n",
    "    f=sp.S(1);\n",
    "    if a==1:\n",
    "        f=sp.sin(ad[d])\n",
    "    elif a==2:\n",
    "        f=sp.cos(ad[d])\n",
    "    elif a==3:\n",
    "        f=sp.tan(ad[d])\n",
    "    elif a==4:\n",
    "        f=sp.atan(ad[d])\n",
    "    if e==2:\n",
    "        f=f**2\n",
    "    return f\n",
    "\"\"\"\n",
    "例：【项目】 解直角三角形\n",
    "\"\"\"\n",
    "def Get_PF305_Expr(QizAmt):\n",
    "    NTE=[]\n",
    "    for i in range(0,QizAmt):\n",
    "        op=random.choice([\" + \",\" - \",\" * \",\" / \"])\n",
    "        e=random.choice([1,2])\n",
    "        a=random.choice([1,2,3])\n",
    "        b=random.choice([1,2,3])\n",
    "        d1=random.choice([1,2,3,4,5])\n",
    "        d2=random.choice([1,2,3,4,5])\n",
    "        \n",
    "        if a==3 and d1==5: d1=4\n",
    "        if b==3 and d2==5: d2=4\n",
    "        St= sjstr(a,d1,e)+ op+ sjstr(b,d2,1)\n",
    "        if op==\" / \": St= sjstr(a,d1,e)+ \"\\div \"+ sjstr(b,d2,1)\n",
    "        Val=sp.S(0)\n",
    "\n",
    "        if op==\" + \":\n",
    "            Val=ang_expre(a,d1,e) + ang_expre(b,d2,1)\n",
    "        elif op==\" - \":\n",
    "            Val=ang_expre(a,d1,e) - ang_expre(b,d2,1)\n",
    "        elif op==\" * \":\n",
    "            Val=ang_expre(a,d1,e) * ang_expre(b,d2,1)\n",
    "        elif op==\" / \":\n",
    "            Val=ang_expre(a,d1,e) / ang_expre(b,d2,1)\n",
    "           \n",
    "            \n",
    "        TE=GetTE(len(NTE),St,Val)\n",
    "        NTE.append(TE)    \n",
    "    return NTE\n",
    "if __name__==\"__main__\":\n",
    "    NTE=Get_PF305_Expr(10)\n",
    "    display(Markdown(lib.NTE2TBL(NTE)   ))   \n"
   ]
  },
  {
   "cell_type": "code",
   "execution_count": null,
   "id": "continental-adrian",
   "metadata": {},
   "outputs": [],
   "source": [
    "QizAmt=4\n",
    "Mark=0\n",
    "NTE=Get_PF305_Expr(QizAmt)\n",
    "i=0\n",
    "for TE in NTE:\n",
    "    i+=1 \n",
    "    St=TE[\"St\"]\n",
    "    Val=TE[\"Val\"]\n",
    "    print(f\"第{i}題:\")        \n",
    "    display(Latex(f\" $$ {St} $$ \" ))\n",
    "    display(Latex(f\"標準答案: $ {Val} $\"))\n",
    "    ans=input(\"註 J(4) =2 用J() 表示開方 ,請作答:\")  \n",
    "    TE[\"Ans\"]=ans\n",
    "    if parse_expr(ans)==Val:                   #比對答案:\n",
    "        print(\"答對!\")                              #答對加一分\n",
    "        Mark+=1\n",
    "        TE[\"OK\"]=1\n",
    "    else:                                      #不則\n",
    "        TE[\"OK\"]=0\n",
    "        display(Latex(f\"答案錯誤, 標準答案: $ {Val} $\"))\n",
    "\n",
    "print(f\"總結: 共{QizAmt}題,得 {Mark} 分. \")  #總結得分\n",
    "display(Markdown(lib.NTE2TBL(NTE)   ))   \n"
   ]
  },
  {
   "cell_type": "code",
   "execution_count": null,
   "id": "macro-detective",
   "metadata": {},
   "outputs": [],
   "source": []
  },
  {
   "cell_type": "code",
   "execution_count": null,
   "id": "prepared-juice",
   "metadata": {},
   "outputs": [],
   "source": []
  },
  {
   "cell_type": "code",
   "execution_count": null,
   "id": "substantial-colors",
   "metadata": {},
   "outputs": [],
   "source": []
  },
  {
   "cell_type": "code",
   "execution_count": null,
   "id": "mounted-assault",
   "metadata": {},
   "outputs": [],
   "source": []
  },
  {
   "cell_type": "code",
   "execution_count": null,
   "id": "homeless-douglas",
   "metadata": {},
   "outputs": [],
   "source": []
  },
  {
   "cell_type": "code",
   "execution_count": null,
   "id": "pharmaceutical-mother",
   "metadata": {},
   "outputs": [],
   "source": []
  },
  {
   "cell_type": "code",
   "execution_count": null,
   "id": "israeli-louisville",
   "metadata": {},
   "outputs": [],
   "source": []
  },
  {
   "cell_type": "code",
   "execution_count": null,
   "id": "strange-system",
   "metadata": {},
   "outputs": [],
   "source": []
  },
  {
   "cell_type": "code",
   "execution_count": null,
   "id": "located-advantage",
   "metadata": {},
   "outputs": [],
   "source": []
  },
  {
   "cell_type": "code",
   "execution_count": null,
   "id": "expensive-incidence",
   "metadata": {},
   "outputs": [],
   "source": []
  },
  {
   "cell_type": "code",
   "execution_count": null,
   "id": "sitting-majority",
   "metadata": {},
   "outputs": [],
   "source": []
  },
  {
   "cell_type": "code",
   "execution_count": null,
   "id": "polar-cabinet",
   "metadata": {},
   "outputs": [],
   "source": [
    "import random                                     #亂數 \n",
    "import math                                       #math 內置數學函數\n",
    "import numpy as np                                #數字矩陣\n",
    "import sympy as sp                                #sympy 簡易別名 sp    \n",
    "from sympy.parsing.sympy_parser import parse_expr #文字字串, 解釋成, Sympy 運算式\n",
    "from sympy.plotting import plot                   #繪圖表\n",
    "from IPython.display import Latex,HTML                 #網頁顯示數學符號\n",
    "import json                                       #JSON 結構化資料\n",
    "import re\n",
    "sp.init_printing(\"mathjax\")                       #sp.init_printing()  168 \n",
    "print(\"end\")\n",
    "def sjstr(a,d,e):\n",
    "    triang_fnc=[\"\",\"sin\",\"cos\",\"tan\"]\n",
    "    str=triang_fnc[a]\n",
    "    if e==2:\n",
    "        str+=\"^2\"\n",
    "    ang_degree=[\"\",\"0^o\",\"30^o\",\"45^o\",\"60^o\",\"90^o\"]\n",
    "    return str+ang_degree[d]        \n",
    "\n",
    "def ang_expre(a,d,e):\n",
    "    ad=[sp.pi,sp.pi*0,sp.pi/6,sp.pi/4,sp.pi/3,sp.pi/2]\n",
    "    f=sp.S(1);\n",
    "    if a==1:\n",
    "        f=sp.sin(ad[d])\n",
    "    elif a==2:\n",
    "        f=sp.cos(ad[d])\n",
    "    elif a==3:\n",
    "        f=sp.tan(ad[d])\n",
    "    elif a==4:\n",
    "        f=sp.atan(ad[d])\n",
    "    if e==2:\n",
    "        f=f**2\n",
    "    return f\n",
    "\n",
    "for a in [\"sin\",\"cos\",\"tan\",\"atan\"]:\n",
    "    for b in [sp.pi,sp.pi*0,sp.pi/6,sp.pi/4,sp.pi/3,sp.pi/2]:\n",
    "        f=sp.S(1);\n",
    "        if a==\"sin\":\n",
    "            f=sp.sin(b)\n",
    "        elif a==\"cos\":\n",
    "            f=sp.cos(b)\n",
    "        elif a==\"tan\":\n",
    "            f=sp.tan(b)\n",
    "        elif a==\"atan\":\n",
    "            f=sp.atan(b)\n",
    "        print(f\" {a}({b})=\")\n",
    "        display(f)\n",
    "    \n",
    "    #display(sp.sin(sp.pi/4)**2 + sp.tan(sp.pi/3) )\n",
    "    #display(Latex(r\"$sin^2 30^o + tan 60^o$\"))\n",
    "    #display(sp.sin(sp.pi/4) * sp.tan(sp.pi/3) )"
   ]
  },
  {
   "cell_type": "code",
   "execution_count": null,
   "id": "royal-april",
   "metadata": {},
   "outputs": [],
   "source": []
  },
  {
   "cell_type": "code",
   "execution_count": null,
   "id": "compatible-resort",
   "metadata": {},
   "outputs": [],
   "source": []
  },
  {
   "cell_type": "code",
   "execution_count": null,
   "id": "soviet-george",
   "metadata": {},
   "outputs": [],
   "source": []
  }
 ],
 "metadata": {
  "kernelspec": {
   "display_name": "Python 3",
   "language": "python",
   "name": "python3"
  },
  "language_info": {
   "codemirror_mode": {
    "name": "ipython",
    "version": 3
   },
   "file_extension": ".py",
   "mimetype": "text/x-python",
   "name": "python",
   "nbconvert_exporter": "python",
   "pygments_lexer": "ipython3",
   "version": "3.9.2"
  }
 },
 "nbformat": 4,
 "nbformat_minor": 5
}
